{
 "cells": [
  {
   "cell_type": "markdown",
   "id": "1cd9f166",
   "metadata": {},
   "source": [
    "# Prompting Tutorial\n",
    "## This is a tutorial for prompting. We will use a few shot sentiment analysis task to show how to do prompting."
   ]
  },
  {
   "cell_type": "code",
   "execution_count": 1,
   "id": "a674f3ba",
   "metadata": {},
   "outputs": [
    {
     "name": "stderr",
     "output_type": "stream",
     "text": [
      "D:\\ProgramData\\Anaconda3\\lib\\site-packages\\scipy\\__init__.py:146: UserWarning: A NumPy version >=1.16.5 and <1.23.0 is required for this version of SciPy (detected version 1.23.4\n",
      "  warnings.warn(f\"A NumPy version >={np_minversion} and <{np_maxversion}\"\n"
     ]
    }
   ],
   "source": [
    "# load packages\n",
    "import torch\n",
    "import pandas as pd\n",
    "import torch.nn as nn\n",
    "import numpy as np\n",
    "from torch.utils.data import DataLoader\n",
    "from transformers import AutoTokenizer, AutoModelForMaskedLM"
   ]
  },
  {
   "cell_type": "code",
   "execution_count": 2,
   "id": "45b007bf",
   "metadata": {},
   "outputs": [
    {
     "name": "stderr",
     "output_type": "stream",
     "text": [
      "Some weights of the model checkpoint at bert-base-uncased were not used when initializing BertForMaskedLM: ['cls.seq_relationship.bias', 'cls.seq_relationship.weight']\n",
      "- This IS expected if you are initializing BertForMaskedLM from the checkpoint of a model trained on another task or with another architecture (e.g. initializing a BertForSequenceClassification model from a BertForPreTraining model).\n",
      "- This IS NOT expected if you are initializing BertForMaskedLM from the checkpoint of a model that you expect to be exactly identical (initializing a BertForSequenceClassification model from a BertForSequenceClassification model).\n"
     ]
    }
   ],
   "source": [
    "# load tokenizer and model\n",
    "tokenizer = AutoTokenizer.from_pretrained(\"bert-base-uncased\")\n",
    "\n",
    "model = AutoModelForMaskedLM.from_pretrained(\"bert-base-uncased\")"
   ]
  },
  {
   "cell_type": "markdown",
   "id": "eb95a495",
   "metadata": {},
   "source": [
    "### An Example of Zero-shot "
   ]
  },
  {
   "cell_type": "code",
   "execution_count": 7,
   "id": "22b7fd52",
   "metadata": {},
   "outputs": [],
   "source": [
    "Text='The review is [MASK]. Review: It is a good movie.'"
   ]
  },
  {
   "cell_type": "code",
   "execution_count": 8,
   "id": "8d43f028",
   "metadata": {},
   "outputs": [],
   "source": [
    "encoding = tokenizer(Text, truncation=True, padding=True,return_tensors='pt')"
   ]
  },
  {
   "cell_type": "code",
   "execution_count": 9,
   "id": "a602434b",
   "metadata": {},
   "outputs": [],
   "source": [
    "outputs = model(encoding['input_ids'], attention_mask=encoding['attention_mask'])"
   ]
  },
  {
   "cell_type": "markdown",
   "id": "6ee2ae71",
   "metadata": {},
   "source": [
    "The mask token 103 is the fifth token "
   ]
  },
  {
   "cell_type": "code",
   "execution_count": 10,
   "id": "2ebf18b0",
   "metadata": {},
   "outputs": [
    {
     "data": {
      "text/plain": [
       "{'input_ids': tensor([[ 101, 1996, 3319, 2003,  103, 1012, 3319, 1024, 2009, 2003, 1037, 2204,\n",
       "         3185, 1012,  102]]), 'token_type_ids': tensor([[0, 0, 0, 0, 0, 0, 0, 0, 0, 0, 0, 0, 0, 0, 0]]), 'attention_mask': tensor([[1, 1, 1, 1, 1, 1, 1, 1, 1, 1, 1, 1, 1, 1, 1]])}"
      ]
     },
     "execution_count": 10,
     "metadata": {},
     "output_type": "execute_result"
    }
   ],
   "source": [
    "encoding"
   ]
  },
  {
   "cell_type": "markdown",
   "id": "03989a4d",
   "metadata": {},
   "source": [
    "so we use logits[0,4,:] to get the logit of the mask token"
   ]
  },
  {
   "cell_type": "code",
   "execution_count": 11,
   "id": "7c07a556",
   "metadata": {},
   "outputs": [],
   "source": [
    "logits=outputs.logits[0,4,:]"
   ]
  },
  {
   "cell_type": "markdown",
   "id": "36447e53",
   "metadata": {},
   "source": [
    "Check the first five result"
   ]
  },
  {
   "cell_type": "code",
   "execution_count": 12,
   "id": "e572c699",
   "metadata": {},
   "outputs": [],
   "source": [
    "top_5_tokens = np.argsort(-logits.detach().numpy())[:5].tolist()"
   ]
  },
  {
   "cell_type": "code",
   "execution_count": 13,
   "id": "45787d7f",
   "metadata": {},
   "outputs": [
    {
     "name": "stdout",
     "output_type": "stream",
     "text": [
      ">>> The review is positive. Review: It is a good movie.\n",
      ">>> The review is mixed. Review: It is a good movie.\n",
      ">>> The review is excellent. Review: It is a good movie.\n",
      ">>> The review is good. Review: It is a good movie.\n",
      ">>> The review is negative. Review: It is a good movie.\n"
     ]
    }
   ],
   "source": [
    "for token in top_5_tokens:\n",
    "    print(f\">>> {Text.replace(tokenizer.mask_token, tokenizer.decode([token]))}\")"
   ]
  },
  {
   "cell_type": "code",
   "execution_count": null,
   "id": "b37e07d0",
   "metadata": {},
   "outputs": [],
   "source": []
  },
  {
   "cell_type": "markdown",
   "id": "309f9281",
   "metadata": {},
   "source": [
    "### In this tutorial, we choose the IMDB Dataset as our dataset. It has 50000 movie reviews, 25000 for postive and 25000 for negative."
   ]
  },
  {
   "cell_type": "code",
   "execution_count": 26,
   "id": "8bb84513",
   "metadata": {},
   "outputs": [],
   "source": [
    "data=pd.read_csv('IMDB Dataset.csv')"
   ]
  },
  {
   "cell_type": "code",
   "execution_count": 27,
   "id": "13d31500",
   "metadata": {},
   "outputs": [
    {
     "data": {
      "text/html": [
       "<div>\n",
       "<style scoped>\n",
       "    .dataframe tbody tr th:only-of-type {\n",
       "        vertical-align: middle;\n",
       "    }\n",
       "\n",
       "    .dataframe tbody tr th {\n",
       "        vertical-align: top;\n",
       "    }\n",
       "\n",
       "    .dataframe thead th {\n",
       "        text-align: right;\n",
       "    }\n",
       "</style>\n",
       "<table border=\"1\" class=\"dataframe\">\n",
       "  <thead>\n",
       "    <tr style=\"text-align: right;\">\n",
       "      <th></th>\n",
       "      <th>review</th>\n",
       "      <th>sentiment</th>\n",
       "    </tr>\n",
       "  </thead>\n",
       "  <tbody>\n",
       "    <tr>\n",
       "      <th>0</th>\n",
       "      <td>One of the other reviewers has mentioned that ...</td>\n",
       "      <td>positive</td>\n",
       "    </tr>\n",
       "    <tr>\n",
       "      <th>1</th>\n",
       "      <td>A wonderful little production. &lt;br /&gt;&lt;br /&gt;The...</td>\n",
       "      <td>positive</td>\n",
       "    </tr>\n",
       "    <tr>\n",
       "      <th>2</th>\n",
       "      <td>I thought this was a wonderful way to spend ti...</td>\n",
       "      <td>positive</td>\n",
       "    </tr>\n",
       "    <tr>\n",
       "      <th>3</th>\n",
       "      <td>Basically there's a family where a little boy ...</td>\n",
       "      <td>negative</td>\n",
       "    </tr>\n",
       "    <tr>\n",
       "      <th>4</th>\n",
       "      <td>Petter Mattei's \"Love in the Time of Money\" is...</td>\n",
       "      <td>positive</td>\n",
       "    </tr>\n",
       "    <tr>\n",
       "      <th>...</th>\n",
       "      <td>...</td>\n",
       "      <td>...</td>\n",
       "    </tr>\n",
       "    <tr>\n",
       "      <th>49995</th>\n",
       "      <td>I thought this movie did a down right good job...</td>\n",
       "      <td>positive</td>\n",
       "    </tr>\n",
       "    <tr>\n",
       "      <th>49996</th>\n",
       "      <td>Bad plot, bad dialogue, bad acting, idiotic di...</td>\n",
       "      <td>negative</td>\n",
       "    </tr>\n",
       "    <tr>\n",
       "      <th>49997</th>\n",
       "      <td>I am a Catholic taught in parochial elementary...</td>\n",
       "      <td>negative</td>\n",
       "    </tr>\n",
       "    <tr>\n",
       "      <th>49998</th>\n",
       "      <td>I'm going to have to disagree with the previou...</td>\n",
       "      <td>negative</td>\n",
       "    </tr>\n",
       "    <tr>\n",
       "      <th>49999</th>\n",
       "      <td>No one expects the Star Trek movies to be high...</td>\n",
       "      <td>negative</td>\n",
       "    </tr>\n",
       "  </tbody>\n",
       "</table>\n",
       "<p>50000 rows × 2 columns</p>\n",
       "</div>"
      ],
      "text/plain": [
       "                                                  review sentiment\n",
       "0      One of the other reviewers has mentioned that ...  positive\n",
       "1      A wonderful little production. <br /><br />The...  positive\n",
       "2      I thought this was a wonderful way to spend ti...  positive\n",
       "3      Basically there's a family where a little boy ...  negative\n",
       "4      Petter Mattei's \"Love in the Time of Money\" is...  positive\n",
       "...                                                  ...       ...\n",
       "49995  I thought this movie did a down right good job...  positive\n",
       "49996  Bad plot, bad dialogue, bad acting, idiotic di...  negative\n",
       "49997  I am a Catholic taught in parochial elementary...  negative\n",
       "49998  I'm going to have to disagree with the previou...  negative\n",
       "49999  No one expects the Star Trek movies to be high...  negative\n",
       "\n",
       "[50000 rows x 2 columns]"
      ]
     },
     "execution_count": 27,
     "metadata": {},
     "output_type": "execute_result"
    }
   ],
   "source": [
    "data"
   ]
  },
  {
   "cell_type": "code",
   "execution_count": 28,
   "id": "3c214821",
   "metadata": {},
   "outputs": [],
   "source": [
    "# Add Prompt\n",
    "review_lst=data['review'].to_list()\n",
    "#For each sample we will add the prompt and add it to the prompt list\n",
    "prompt=[]\n",
    "for sentence in review_lst:\n",
    "    new_string='The review is [MASK]. Review: '+sentence\n",
    "    prompt.append(new_string)\n",
    "#create new colunmn in data as prompt\n",
    "data['prompt']=prompt"
   ]
  },
  {
   "cell_type": "code",
   "execution_count": 29,
   "id": "b0215f82",
   "metadata": {},
   "outputs": [
    {
     "data": {
      "text/html": [
       "<div>\n",
       "<style scoped>\n",
       "    .dataframe tbody tr th:only-of-type {\n",
       "        vertical-align: middle;\n",
       "    }\n",
       "\n",
       "    .dataframe tbody tr th {\n",
       "        vertical-align: top;\n",
       "    }\n",
       "\n",
       "    .dataframe thead th {\n",
       "        text-align: right;\n",
       "    }\n",
       "</style>\n",
       "<table border=\"1\" class=\"dataframe\">\n",
       "  <thead>\n",
       "    <tr style=\"text-align: right;\">\n",
       "      <th></th>\n",
       "      <th>review</th>\n",
       "      <th>sentiment</th>\n",
       "      <th>prompt</th>\n",
       "    </tr>\n",
       "  </thead>\n",
       "  <tbody>\n",
       "    <tr>\n",
       "      <th>0</th>\n",
       "      <td>One of the other reviewers has mentioned that ...</td>\n",
       "      <td>positive</td>\n",
       "      <td>The review is [MASK]. Review: One of the other...</td>\n",
       "    </tr>\n",
       "    <tr>\n",
       "      <th>1</th>\n",
       "      <td>A wonderful little production. &lt;br /&gt;&lt;br /&gt;The...</td>\n",
       "      <td>positive</td>\n",
       "      <td>The review is [MASK]. Review: A wonderful litt...</td>\n",
       "    </tr>\n",
       "    <tr>\n",
       "      <th>2</th>\n",
       "      <td>I thought this was a wonderful way to spend ti...</td>\n",
       "      <td>positive</td>\n",
       "      <td>The review is [MASK]. Review: I thought this w...</td>\n",
       "    </tr>\n",
       "    <tr>\n",
       "      <th>3</th>\n",
       "      <td>Basically there's a family where a little boy ...</td>\n",
       "      <td>negative</td>\n",
       "      <td>The review is [MASK]. Review: Basically there'...</td>\n",
       "    </tr>\n",
       "    <tr>\n",
       "      <th>4</th>\n",
       "      <td>Petter Mattei's \"Love in the Time of Money\" is...</td>\n",
       "      <td>positive</td>\n",
       "      <td>The review is [MASK]. Review: Petter Mattei's ...</td>\n",
       "    </tr>\n",
       "    <tr>\n",
       "      <th>...</th>\n",
       "      <td>...</td>\n",
       "      <td>...</td>\n",
       "      <td>...</td>\n",
       "    </tr>\n",
       "    <tr>\n",
       "      <th>49995</th>\n",
       "      <td>I thought this movie did a down right good job...</td>\n",
       "      <td>positive</td>\n",
       "      <td>The review is [MASK]. Review: I thought this m...</td>\n",
       "    </tr>\n",
       "    <tr>\n",
       "      <th>49996</th>\n",
       "      <td>Bad plot, bad dialogue, bad acting, idiotic di...</td>\n",
       "      <td>negative</td>\n",
       "      <td>The review is [MASK]. Review: Bad plot, bad di...</td>\n",
       "    </tr>\n",
       "    <tr>\n",
       "      <th>49997</th>\n",
       "      <td>I am a Catholic taught in parochial elementary...</td>\n",
       "      <td>negative</td>\n",
       "      <td>The review is [MASK]. Review: I am a Catholic ...</td>\n",
       "    </tr>\n",
       "    <tr>\n",
       "      <th>49998</th>\n",
       "      <td>I'm going to have to disagree with the previou...</td>\n",
       "      <td>negative</td>\n",
       "      <td>The review is [MASK]. Review: I'm going to hav...</td>\n",
       "    </tr>\n",
       "    <tr>\n",
       "      <th>49999</th>\n",
       "      <td>No one expects the Star Trek movies to be high...</td>\n",
       "      <td>negative</td>\n",
       "      <td>The review is [MASK]. Review: No one expects t...</td>\n",
       "    </tr>\n",
       "  </tbody>\n",
       "</table>\n",
       "<p>50000 rows × 3 columns</p>\n",
       "</div>"
      ],
      "text/plain": [
       "                                                  review sentiment  \\\n",
       "0      One of the other reviewers has mentioned that ...  positive   \n",
       "1      A wonderful little production. <br /><br />The...  positive   \n",
       "2      I thought this was a wonderful way to spend ti...  positive   \n",
       "3      Basically there's a family where a little boy ...  negative   \n",
       "4      Petter Mattei's \"Love in the Time of Money\" is...  positive   \n",
       "...                                                  ...       ...   \n",
       "49995  I thought this movie did a down right good job...  positive   \n",
       "49996  Bad plot, bad dialogue, bad acting, idiotic di...  negative   \n",
       "49997  I am a Catholic taught in parochial elementary...  negative   \n",
       "49998  I'm going to have to disagree with the previou...  negative   \n",
       "49999  No one expects the Star Trek movies to be high...  negative   \n",
       "\n",
       "                                                  prompt  \n",
       "0      The review is [MASK]. Review: One of the other...  \n",
       "1      The review is [MASK]. Review: A wonderful litt...  \n",
       "2      The review is [MASK]. Review: I thought this w...  \n",
       "3      The review is [MASK]. Review: Basically there'...  \n",
       "4      The review is [MASK]. Review: Petter Mattei's ...  \n",
       "...                                                  ...  \n",
       "49995  The review is [MASK]. Review: I thought this m...  \n",
       "49996  The review is [MASK]. Review: Bad plot, bad di...  \n",
       "49997  The review is [MASK]. Review: I am a Catholic ...  \n",
       "49998  The review is [MASK]. Review: I'm going to hav...  \n",
       "49999  The review is [MASK]. Review: No one expects t...  \n",
       "\n",
       "[50000 rows x 3 columns]"
      ]
     },
     "execution_count": 29,
     "metadata": {},
     "output_type": "execute_result"
    }
   ],
   "source": [
    "data"
   ]
  },
  {
   "cell_type": "markdown",
   "id": "76602193",
   "metadata": {},
   "source": [
    "check the encoding of positive and negative in tokenizer"
   ]
  },
  {
   "cell_type": "code",
   "execution_count": 30,
   "id": "0c597f40",
   "metadata": {},
   "outputs": [
    {
     "data": {
      "text/plain": [
       "'positive'"
      ]
     },
     "execution_count": 30,
     "metadata": {},
     "output_type": "execute_result"
    }
   ],
   "source": [
    "tokenizer.decode([3893])"
   ]
  },
  {
   "cell_type": "code",
   "execution_count": 31,
   "id": "437ff3d0",
   "metadata": {},
   "outputs": [
    {
     "data": {
      "text/plain": [
       "'negative'"
      ]
     },
     "execution_count": 31,
     "metadata": {},
     "output_type": "execute_result"
    }
   ],
   "source": [
    "tokenizer.decode([4997])"
   ]
  },
  {
   "cell_type": "markdown",
   "id": "18e46d38",
   "metadata": {},
   "source": [
    "Add targets. We want to predict the mask token to be postive or negative"
   ]
  },
  {
   "cell_type": "code",
   "execution_count": 32,
   "id": "14ee409c",
   "metadata": {},
   "outputs": [],
   "source": [
    "data['target'] = data['sentiment'].replace(['positive','negative'], [3893,4997])"
   ]
  },
  {
   "cell_type": "code",
   "execution_count": 33,
   "id": "a7e665b7",
   "metadata": {},
   "outputs": [
    {
     "data": {
      "text/html": [
       "<div>\n",
       "<style scoped>\n",
       "    .dataframe tbody tr th:only-of-type {\n",
       "        vertical-align: middle;\n",
       "    }\n",
       "\n",
       "    .dataframe tbody tr th {\n",
       "        vertical-align: top;\n",
       "    }\n",
       "\n",
       "    .dataframe thead th {\n",
       "        text-align: right;\n",
       "    }\n",
       "</style>\n",
       "<table border=\"1\" class=\"dataframe\">\n",
       "  <thead>\n",
       "    <tr style=\"text-align: right;\">\n",
       "      <th></th>\n",
       "      <th>review</th>\n",
       "      <th>sentiment</th>\n",
       "      <th>prompt</th>\n",
       "      <th>target</th>\n",
       "    </tr>\n",
       "  </thead>\n",
       "  <tbody>\n",
       "    <tr>\n",
       "      <th>0</th>\n",
       "      <td>One of the other reviewers has mentioned that ...</td>\n",
       "      <td>positive</td>\n",
       "      <td>The review is [MASK]. Review: One of the other...</td>\n",
       "      <td>3893</td>\n",
       "    </tr>\n",
       "    <tr>\n",
       "      <th>1</th>\n",
       "      <td>A wonderful little production. &lt;br /&gt;&lt;br /&gt;The...</td>\n",
       "      <td>positive</td>\n",
       "      <td>The review is [MASK]. Review: A wonderful litt...</td>\n",
       "      <td>3893</td>\n",
       "    </tr>\n",
       "    <tr>\n",
       "      <th>2</th>\n",
       "      <td>I thought this was a wonderful way to spend ti...</td>\n",
       "      <td>positive</td>\n",
       "      <td>The review is [MASK]. Review: I thought this w...</td>\n",
       "      <td>3893</td>\n",
       "    </tr>\n",
       "    <tr>\n",
       "      <th>3</th>\n",
       "      <td>Basically there's a family where a little boy ...</td>\n",
       "      <td>negative</td>\n",
       "      <td>The review is [MASK]. Review: Basically there'...</td>\n",
       "      <td>4997</td>\n",
       "    </tr>\n",
       "    <tr>\n",
       "      <th>4</th>\n",
       "      <td>Petter Mattei's \"Love in the Time of Money\" is...</td>\n",
       "      <td>positive</td>\n",
       "      <td>The review is [MASK]. Review: Petter Mattei's ...</td>\n",
       "      <td>3893</td>\n",
       "    </tr>\n",
       "    <tr>\n",
       "      <th>...</th>\n",
       "      <td>...</td>\n",
       "      <td>...</td>\n",
       "      <td>...</td>\n",
       "      <td>...</td>\n",
       "    </tr>\n",
       "    <tr>\n",
       "      <th>49995</th>\n",
       "      <td>I thought this movie did a down right good job...</td>\n",
       "      <td>positive</td>\n",
       "      <td>The review is [MASK]. Review: I thought this m...</td>\n",
       "      <td>3893</td>\n",
       "    </tr>\n",
       "    <tr>\n",
       "      <th>49996</th>\n",
       "      <td>Bad plot, bad dialogue, bad acting, idiotic di...</td>\n",
       "      <td>negative</td>\n",
       "      <td>The review is [MASK]. Review: Bad plot, bad di...</td>\n",
       "      <td>4997</td>\n",
       "    </tr>\n",
       "    <tr>\n",
       "      <th>49997</th>\n",
       "      <td>I am a Catholic taught in parochial elementary...</td>\n",
       "      <td>negative</td>\n",
       "      <td>The review is [MASK]. Review: I am a Catholic ...</td>\n",
       "      <td>4997</td>\n",
       "    </tr>\n",
       "    <tr>\n",
       "      <th>49998</th>\n",
       "      <td>I'm going to have to disagree with the previou...</td>\n",
       "      <td>negative</td>\n",
       "      <td>The review is [MASK]. Review: I'm going to hav...</td>\n",
       "      <td>4997</td>\n",
       "    </tr>\n",
       "    <tr>\n",
       "      <th>49999</th>\n",
       "      <td>No one expects the Star Trek movies to be high...</td>\n",
       "      <td>negative</td>\n",
       "      <td>The review is [MASK]. Review: No one expects t...</td>\n",
       "      <td>4997</td>\n",
       "    </tr>\n",
       "  </tbody>\n",
       "</table>\n",
       "<p>50000 rows × 4 columns</p>\n",
       "</div>"
      ],
      "text/plain": [
       "                                                  review sentiment  \\\n",
       "0      One of the other reviewers has mentioned that ...  positive   \n",
       "1      A wonderful little production. <br /><br />The...  positive   \n",
       "2      I thought this was a wonderful way to spend ti...  positive   \n",
       "3      Basically there's a family where a little boy ...  negative   \n",
       "4      Petter Mattei's \"Love in the Time of Money\" is...  positive   \n",
       "...                                                  ...       ...   \n",
       "49995  I thought this movie did a down right good job...  positive   \n",
       "49996  Bad plot, bad dialogue, bad acting, idiotic di...  negative   \n",
       "49997  I am a Catholic taught in parochial elementary...  negative   \n",
       "49998  I'm going to have to disagree with the previou...  negative   \n",
       "49999  No one expects the Star Trek movies to be high...  negative   \n",
       "\n",
       "                                                  prompt  target  \n",
       "0      The review is [MASK]. Review: One of the other...    3893  \n",
       "1      The review is [MASK]. Review: A wonderful litt...    3893  \n",
       "2      The review is [MASK]. Review: I thought this w...    3893  \n",
       "3      The review is [MASK]. Review: Basically there'...    4997  \n",
       "4      The review is [MASK]. Review: Petter Mattei's ...    3893  \n",
       "...                                                  ...     ...  \n",
       "49995  The review is [MASK]. Review: I thought this m...    3893  \n",
       "49996  The review is [MASK]. Review: Bad plot, bad di...    4997  \n",
       "49997  The review is [MASK]. Review: I am a Catholic ...    4997  \n",
       "49998  The review is [MASK]. Review: I'm going to hav...    4997  \n",
       "49999  The review is [MASK]. Review: No one expects t...    4997  \n",
       "\n",
       "[50000 rows x 4 columns]"
      ]
     },
     "execution_count": 33,
     "metadata": {},
     "output_type": "execute_result"
    }
   ],
   "source": [
    "data"
   ]
  },
  {
   "cell_type": "markdown",
   "id": "b8acb8df",
   "metadata": {},
   "source": [
    "### Create a subset with 2 samples one for positive and one for negative"
   ]
  },
  {
   "cell_type": "code",
   "execution_count": 107,
   "id": "ca3162b9",
   "metadata": {},
   "outputs": [],
   "source": [
    "one_shot=data.groupby('sentiment').tail(1)"
   ]
  },
  {
   "cell_type": "code",
   "execution_count": 108,
   "id": "a7581129",
   "metadata": {},
   "outputs": [
    {
     "data": {
      "text/html": [
       "<div>\n",
       "<style scoped>\n",
       "    .dataframe tbody tr th:only-of-type {\n",
       "        vertical-align: middle;\n",
       "    }\n",
       "\n",
       "    .dataframe tbody tr th {\n",
       "        vertical-align: top;\n",
       "    }\n",
       "\n",
       "    .dataframe thead th {\n",
       "        text-align: right;\n",
       "    }\n",
       "</style>\n",
       "<table border=\"1\" class=\"dataframe\">\n",
       "  <thead>\n",
       "    <tr style=\"text-align: right;\">\n",
       "      <th></th>\n",
       "      <th>review</th>\n",
       "      <th>sentiment</th>\n",
       "      <th>prompt</th>\n",
       "      <th>target</th>\n",
       "    </tr>\n",
       "  </thead>\n",
       "  <tbody>\n",
       "    <tr>\n",
       "      <th>49995</th>\n",
       "      <td>I thought this movie did a down right good job...</td>\n",
       "      <td>positive</td>\n",
       "      <td>The review is [MASK]. Review: I thought this m...</td>\n",
       "      <td>3893</td>\n",
       "    </tr>\n",
       "    <tr>\n",
       "      <th>49999</th>\n",
       "      <td>No one expects the Star Trek movies to be high...</td>\n",
       "      <td>negative</td>\n",
       "      <td>The review is [MASK]. Review: No one expects t...</td>\n",
       "      <td>4997</td>\n",
       "    </tr>\n",
       "  </tbody>\n",
       "</table>\n",
       "</div>"
      ],
      "text/plain": [
       "                                                  review sentiment  \\\n",
       "49995  I thought this movie did a down right good job...  positive   \n",
       "49999  No one expects the Star Trek movies to be high...  negative   \n",
       "\n",
       "                                                  prompt  target  \n",
       "49995  The review is [MASK]. Review: I thought this m...    3893  \n",
       "49999  The review is [MASK]. Review: No one expects t...    4997  "
      ]
     },
     "execution_count": 108,
     "metadata": {},
     "output_type": "execute_result"
    }
   ],
   "source": [
    "one_shot"
   ]
  },
  {
   "cell_type": "markdown",
   "id": "52855a41",
   "metadata": {},
   "source": [
    "### Create a subset with 32 samples 16 for positive and 16 for negative"
   ]
  },
  {
   "cell_type": "code",
   "execution_count": 35,
   "id": "e4ac2eed",
   "metadata": {},
   "outputs": [],
   "source": [
    "few_shot=data.groupby('sentiment').head(16)"
   ]
  },
  {
   "cell_type": "code",
   "execution_count": null,
   "id": "640671eb",
   "metadata": {},
   "outputs": [],
   "source": []
  },
  {
   "cell_type": "markdown",
   "id": "103506b4",
   "metadata": {},
   "source": [
    "Customized Dataset Class"
   ]
  },
  {
   "cell_type": "code",
   "execution_count": 34,
   "id": "19faf101",
   "metadata": {},
   "outputs": [],
   "source": [
    "class CustomDataset():\n",
    "\n",
    "    def __init__(self, dataframe, tokenizer):\n",
    "        self.tokenizer = tokenizer\n",
    "        self.prompts = list(dataframe['prompt'])\n",
    "        self.targets = list(dataframe['target'])\n",
    "\n",
    "    def __len__(self):\n",
    "        return len(self.prompts)\n",
    "\n",
    "    def __getitem__(self, index):\n",
    "\n",
    "    \n",
    "        inputs = self.tokenizer.encode_plus(\n",
    "            self.prompts[index],\n",
    "            None,\n",
    "            add_special_tokens=True,\n",
    "            max_length=512,\n",
    "            padding='max_length',\n",
    "            return_token_type_ids=True,\n",
    "            truncation=True\n",
    "        )\n",
    "        \n",
    "        \n",
    "        \n",
    "        \n",
    "        ids_content = inputs['input_ids']\n",
    "        mask_content = inputs['attention_mask']\n",
    "        token_type_ids_content = inputs[\"token_type_ids\"]\n",
    "        targets=self.targets[index]\n",
    "        return torch.tensor(ids_content, dtype=torch.long),torch.tensor(mask_content, dtype=torch.long),torch.tensor(token_type_ids_content, dtype=torch.long),torch.tensor(targets, dtype=torch.long)"
   ]
  },
  {
   "cell_type": "markdown",
   "id": "71037bf1",
   "metadata": {},
   "source": [
    "dataloders for training and testing"
   ]
  },
  {
   "cell_type": "code",
   "execution_count": 113,
   "id": "257c2eb0",
   "metadata": {},
   "outputs": [],
   "source": [
    "one_shot_set = CustomDataset(one_shot, tokenizer)\n",
    "\n",
    "oneshotloader = DataLoader(one_shot_set, batch_size=2,shuffle=True)"
   ]
  },
  {
   "cell_type": "code",
   "execution_count": null,
   "id": "1a06e68d",
   "metadata": {},
   "outputs": [],
   "source": [
    "few_shot_set = CustomDataset(few_shot, tokenizer)\n",
    "\n",
    "fewshotloader = DataLoader(few_shot_set, batch_size=2,shuffle=True)"
   ]
  },
  {
   "cell_type": "code",
   "execution_count": 116,
   "id": "f8fb11d0",
   "metadata": {},
   "outputs": [],
   "source": [
    "test_set = CustomDataset(data, tokenizer)\n",
    "\n",
    "testloader = DataLoader(test_set, batch_size=2,shuffle=False)"
   ]
  },
  {
   "cell_type": "code",
   "execution_count": null,
   "id": "cc3176d2",
   "metadata": {},
   "outputs": [],
   "source": []
  },
  {
   "cell_type": "markdown",
   "id": "e97cd241",
   "metadata": {},
   "source": [
    "# Training and Evaluating functions"
   ]
  },
  {
   "cell_type": "code",
   "execution_count": 39,
   "id": "e75f4c70",
   "metadata": {},
   "outputs": [],
   "source": [
    "def training(train_loader, model, criterion,optimizer):\n",
    "    \"\"\"one epoch training\"\"\"\n",
    "\n",
    "\n",
    "    epoch_loss = 0\n",
    "\n",
    "    epoch_acc = 0\n",
    "   \n",
    "    model.train()\n",
    "\n",
    "\n",
    "    for idx, (input_ids,attention_mask,token_type_ids,targets) in enumerate(train_loader):\n",
    "\n",
    "\n",
    "        \n",
    "        if torch.cuda.is_available():\n",
    "            input_ids = input_ids.cuda()\n",
    "            attention_mask = attention_mask.cuda()\n",
    "            targets= targets.cuda()\n",
    "\n",
    "\n",
    "        # compute logits\n",
    "        outputs = model(input_ids, attention_mask=attention_mask).logits\n",
    "        #the mask token logits is in outputs[:,4,:]\n",
    "        pred=outputs[:,4,:]\n",
    "        \n",
    "        #calculate the loss and accuracy\n",
    "        loss = criterion(pred, targets)\n",
    "        acc = calculate_accuracy(pred, targets)\n",
    "        \n",
    "        #accumulate the loss and accuracy\n",
    "        epoch_loss += loss.item()\n",
    "        epoch_acc += acc.item()\n",
    "\n",
    "\n",
    "        # SGD\n",
    "        optimizer.zero_grad()\n",
    "        loss.backward()\n",
    "        optimizer.step()\n",
    "    \n",
    "\n",
    "\n",
    "\n",
    "    return epoch_loss / len(train_loader), epoch_acc / len(train_loader)"
   ]
  },
  {
   "cell_type": "code",
   "execution_count": 103,
   "id": "0499b253",
   "metadata": {},
   "outputs": [],
   "source": [
    "def evaluate(eval_loader, model,  criterion):\n",
    "    epoch_loss = 0\n",
    "\n",
    "    epoch_acc = 0\n",
    "\n",
    "    model.eval()\n",
    "    \n",
    "    with torch.no_grad():\n",
    "    \n",
    "        for idx, (input_ids,attention_mask,token_type_ids,targets) in enumerate(eval_loader):\n",
    "\n",
    "            if torch.cuda.is_available():\n",
    "                input_ids = input_ids.cuda()\n",
    "                attention_mask = attention_mask.cuda()\n",
    "                targets= targets.cuda()\n",
    "            optimizer.zero_grad()\n",
    "            \n",
    "            # compute logits\n",
    "            outputs = model(input_ids, attention_mask=attention_mask).logits\n",
    "            #the mask token logits is in outputs[:,4,:]\n",
    "            pred=outputs[:,4,:]\n",
    "            \n",
    "            #calculate the loss and accuracy\n",
    "            loss = criterion(pred, targets)\n",
    "            acc = calculate_accuracy(pred, targets)\n",
    "            \n",
    "            #accumulate the loss and accuracy\n",
    "            epoch_loss += loss.item()\n",
    "            epoch_acc += acc.item()\n",
    "        \n",
    "    return epoch_loss / len(eval_loader), epoch_acc / len(eval_loader)"
   ]
  },
  {
   "cell_type": "code",
   "execution_count": null,
   "id": "061182be",
   "metadata": {},
   "outputs": [],
   "source": [
    "#calculate accuracy\n",
    "def calculate_accuracy(y_pred, y):\n",
    "    top_pred = y_pred.argmax(1, keepdim = True)\n",
    "    correct = top_pred.eq(y.view_as(top_pred)).sum()\n",
    "    acc = correct.float() / y.shape[0]\n",
    "    return acc"
   ]
  },
  {
   "cell_type": "code",
   "execution_count": 118,
   "id": "8899def5",
   "metadata": {},
   "outputs": [],
   "source": [
    "\n",
    "device = torch.device('cuda' if torch.cuda.is_available() else 'cpu')\n",
    "model = model.to(device)\n",
    "criterion = nn.CrossEntropyLoss()\n",
    "optimizer = torch.optim.AdamW(\n",
    "        model.parameters(),\n",
    "        lr=1e-6,\n",
    "    )"
   ]
  },
  {
   "cell_type": "code",
   "execution_count": null,
   "id": "8cb7de05",
   "metadata": {},
   "outputs": [],
   "source": [
    "#training and evaluate\n",
    "for i in range(300):\n",
    "\n",
    "\n",
    "    print('epochs:'+ str(i+1))\n",
    "    \n",
    "    #training\n",
    "    tr_loss,tr_acc=training(oneshotloader, model, criterion,optimizer)\n",
    "    print('training_loss:'+str(round(tr_loss, 5))+' acc:'+str(round(tr_acc, 5)))\n",
    "\n",
    "    #evaluating\n",
    "    ts_loss,ts_acc=evaluate(testloader, model,  criterion)\n",
    "    print('ts_loss:'+str(round(ts_loss, 5))+' ts_acc:'+str(round(ts_acc, 5)))\n",
    "    "
   ]
  },
  {
   "cell_type": "markdown",
   "id": "ae9baaba",
   "metadata": {},
   "source": [
    "### After 35 epochs, the accracy reachs 0.78 for testing with only 2 samples in training\n",
    "### After 30 epochs, the accracy reachs 0.82 for testing with only 36 samples in training"
   ]
  },
  {
   "cell_type": "code",
   "execution_count": null,
   "id": "6a077b28",
   "metadata": {},
   "outputs": [],
   "source": []
  }
 ],
 "metadata": {
  "kernelspec": {
   "display_name": "Python 3 (ipykernel)",
   "language": "python",
   "name": "python3"
  },
  "language_info": {
   "codemirror_mode": {
    "name": "ipython",
    "version": 3
   },
   "file_extension": ".py",
   "mimetype": "text/x-python",
   "name": "python",
   "nbconvert_exporter": "python",
   "pygments_lexer": "ipython3",
   "version": "3.9.12"
  }
 },
 "nbformat": 4,
 "nbformat_minor": 5
}
