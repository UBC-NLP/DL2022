{
  "nbformat": 4,
  "nbformat_minor": 0,
  "metadata": {
    "colab": {
      "provenance": []
    },
    "kernelspec": {
      "name": "python3",
      "display_name": "Python 3"
    },
    "language_info": {
      "name": "python"
    },
    "accelerator": "GPU",
    "gpuClass": "standard"
  },
  "cells": [
    {
      "cell_type": "code",
      "execution_count": 1,
      "metadata": {
        "colab": {
          "base_uri": "https://localhost:8080/"
        },
        "id": "A5I3bDIkotYd",
        "outputId": "e9bd32ae-c73a-4859-a0af-98a95e7666ff"
      },
      "outputs": [
        {
          "output_type": "stream",
          "name": "stdout",
          "text": [
            "Looking in indexes: https://pypi.org/simple, https://us-python.pkg.dev/colab-wheels/public/simple/\n",
            "\u001b[31mERROR: Could not find a version that satisfies the requirement troch==1.8.0 (from versions: none)\u001b[0m\u001b[31m\n",
            "\u001b[0m\u001b[31mERROR: No matching distribution found for troch==1.8.0\u001b[0m\u001b[31m\n",
            "\u001b[0mLooking in indexes: https://pypi.org/simple, https://us-python.pkg.dev/colab-wheels/public/simple/\n",
            "Collecting transformers==4.6.0\n",
            "  Downloading transformers-4.6.0-py3-none-any.whl (2.3 MB)\n",
            "\u001b[2K     \u001b[90m━━━━━━━━━━━━━━━━━━━━━━━━━━━━━━━━━━━━━━━━\u001b[0m \u001b[32m2.3/2.3 MB\u001b[0m \u001b[31m28.2 MB/s\u001b[0m eta \u001b[36m0:00:00\u001b[0m\n",
            "\u001b[?25hCollecting tokenizers<0.11,>=0.10.1\n",
            "  Downloading tokenizers-0.10.3-cp38-cp38-manylinux_2_5_x86_64.manylinux1_x86_64.manylinux_2_12_x86_64.manylinux2010_x86_64.whl (3.3 MB)\n",
            "\u001b[2K     \u001b[90m━━━━━━━━━━━━━━━━━━━━━━━━━━━━━━━━━━━━━━━━\u001b[0m \u001b[32m3.3/3.3 MB\u001b[0m \u001b[31m87.9 MB/s\u001b[0m eta \u001b[36m0:00:00\u001b[0m\n",
            "\u001b[?25hRequirement already satisfied: filelock in /usr/local/lib/python3.8/dist-packages (from transformers==4.6.0) (3.9.0)\n",
            "Collecting huggingface-hub==0.0.8\n",
            "  Downloading huggingface_hub-0.0.8-py3-none-any.whl (34 kB)\n",
            "Requirement already satisfied: packaging in /usr/local/lib/python3.8/dist-packages (from transformers==4.6.0) (21.3)\n",
            "Requirement already satisfied: tqdm>=4.27 in /usr/local/lib/python3.8/dist-packages (from transformers==4.6.0) (4.64.1)\n",
            "Requirement already satisfied: regex!=2019.12.17 in /usr/local/lib/python3.8/dist-packages (from transformers==4.6.0) (2022.6.2)\n",
            "Collecting sacremoses\n",
            "  Downloading sacremoses-0.0.53.tar.gz (880 kB)\n",
            "\u001b[2K     \u001b[90m━━━━━━━━━━━━━━━━━━━━━━━━━━━━━━━━━━━━━━\u001b[0m \u001b[32m880.6/880.6 KB\u001b[0m \u001b[31m60.1 MB/s\u001b[0m eta \u001b[36m0:00:00\u001b[0m\n",
            "\u001b[?25h  Preparing metadata (setup.py) ... \u001b[?25l\u001b[?25hdone\n",
            "Requirement already satisfied: requests in /usr/local/lib/python3.8/dist-packages (from transformers==4.6.0) (2.25.1)\n",
            "Requirement already satisfied: numpy>=1.17 in /usr/local/lib/python3.8/dist-packages (from transformers==4.6.0) (1.21.6)\n",
            "Requirement already satisfied: pyparsing!=3.0.5,>=2.0.2 in /usr/local/lib/python3.8/dist-packages (from packaging->transformers==4.6.0) (3.0.9)\n",
            "Requirement already satisfied: certifi>=2017.4.17 in /usr/local/lib/python3.8/dist-packages (from requests->transformers==4.6.0) (2022.12.7)\n",
            "Requirement already satisfied: chardet<5,>=3.0.2 in /usr/local/lib/python3.8/dist-packages (from requests->transformers==4.6.0) (4.0.0)\n",
            "Requirement already satisfied: idna<3,>=2.5 in /usr/local/lib/python3.8/dist-packages (from requests->transformers==4.6.0) (2.10)\n",
            "Requirement already satisfied: urllib3<1.27,>=1.21.1 in /usr/local/lib/python3.8/dist-packages (from requests->transformers==4.6.0) (1.24.3)\n",
            "Requirement already satisfied: six in /usr/local/lib/python3.8/dist-packages (from sacremoses->transformers==4.6.0) (1.15.0)\n",
            "Requirement already satisfied: click in /usr/local/lib/python3.8/dist-packages (from sacremoses->transformers==4.6.0) (7.1.2)\n",
            "Requirement already satisfied: joblib in /usr/local/lib/python3.8/dist-packages (from sacremoses->transformers==4.6.0) (1.2.0)\n",
            "Building wheels for collected packages: sacremoses\n",
            "  Building wheel for sacremoses (setup.py) ... \u001b[?25l\u001b[?25hdone\n",
            "  Created wheel for sacremoses: filename=sacremoses-0.0.53-py3-none-any.whl size=895260 sha256=8bcad9fc14f658efcd5eaddacdbf0a52f13f9538e1c428da049d8d99b303a6bb\n",
            "  Stored in directory: /root/.cache/pip/wheels/82/ab/9b/c15899bf659ba74f623ac776e861cf2eb8608c1825ddec66a4\n",
            "Successfully built sacremoses\n",
            "Installing collected packages: tokenizers, sacremoses, huggingface-hub, transformers\n",
            "Successfully installed huggingface-hub-0.0.8 sacremoses-0.0.53 tokenizers-0.10.3 transformers-4.6.0\n",
            "Looking in indexes: https://pypi.org/simple, https://us-python.pkg.dev/colab-wheels/public/simple/\n",
            "Collecting datasets==1.11.0\n",
            "  Downloading datasets-1.11.0-py3-none-any.whl (264 kB)\n",
            "\u001b[2K     \u001b[90m━━━━━━━━━━━━━━━━━━━━━━━━━━━━━━━━━━━━━━━\u001b[0m \u001b[32m264.9/264.9 KB\u001b[0m \u001b[31m6.0 MB/s\u001b[0m eta \u001b[36m0:00:00\u001b[0m\n",
            "\u001b[?25hRequirement already satisfied: huggingface-hub<0.1.0 in /usr/local/lib/python3.8/dist-packages (from datasets==1.11.0) (0.0.8)\n",
            "Requirement already satisfied: tqdm>=4.42 in /usr/local/lib/python3.8/dist-packages (from datasets==1.11.0) (4.64.1)\n",
            "Requirement already satisfied: dill in /usr/local/lib/python3.8/dist-packages (from datasets==1.11.0) (0.3.6)\n",
            "Requirement already satisfied: packaging in /usr/local/lib/python3.8/dist-packages (from datasets==1.11.0) (21.3)\n",
            "Requirement already satisfied: requests>=2.19.0 in /usr/local/lib/python3.8/dist-packages (from datasets==1.11.0) (2.25.1)\n",
            "Requirement already satisfied: pyarrow!=4.0.0,>=1.0.0 in /usr/local/lib/python3.8/dist-packages (from datasets==1.11.0) (9.0.0)\n",
            "Requirement already satisfied: pandas in /usr/local/lib/python3.8/dist-packages (from datasets==1.11.0) (1.3.5)\n",
            "Collecting xxhash\n",
            "  Downloading xxhash-3.2.0-cp38-cp38-manylinux_2_17_x86_64.manylinux2014_x86_64.whl (213 kB)\n",
            "\u001b[2K     \u001b[90m━━━━━━━━━━━━━━━━━━━━━━━━━━━━━━━━━━━━━━\u001b[0m \u001b[32m213.0/213.0 KB\u001b[0m \u001b[31m28.1 MB/s\u001b[0m eta \u001b[36m0:00:00\u001b[0m\n",
            "\u001b[?25hCollecting multiprocess\n",
            "  Downloading multiprocess-0.70.14-py38-none-any.whl (132 kB)\n",
            "\u001b[2K     \u001b[90m━━━━━━━━━━━━━━━━━━━━━━━━━━━━━━━━━━━━━━\u001b[0m \u001b[32m132.0/132.0 KB\u001b[0m \u001b[31m20.2 MB/s\u001b[0m eta \u001b[36m0:00:00\u001b[0m\n",
            "\u001b[?25hRequirement already satisfied: fsspec>=2021.05.0 in /usr/local/lib/python3.8/dist-packages (from datasets==1.11.0) (2022.11.0)\n",
            "Requirement already satisfied: numpy>=1.17 in /usr/local/lib/python3.8/dist-packages (from datasets==1.11.0) (1.21.6)\n",
            "Requirement already satisfied: filelock in /usr/local/lib/python3.8/dist-packages (from huggingface-hub<0.1.0->datasets==1.11.0) (3.9.0)\n",
            "Requirement already satisfied: chardet<5,>=3.0.2 in /usr/local/lib/python3.8/dist-packages (from requests>=2.19.0->datasets==1.11.0) (4.0.0)\n",
            "Requirement already satisfied: certifi>=2017.4.17 in /usr/local/lib/python3.8/dist-packages (from requests>=2.19.0->datasets==1.11.0) (2022.12.7)\n",
            "Requirement already satisfied: urllib3<1.27,>=1.21.1 in /usr/local/lib/python3.8/dist-packages (from requests>=2.19.0->datasets==1.11.0) (1.24.3)\n",
            "Requirement already satisfied: idna<3,>=2.5 in /usr/local/lib/python3.8/dist-packages (from requests>=2.19.0->datasets==1.11.0) (2.10)\n",
            "Requirement already satisfied: pyparsing!=3.0.5,>=2.0.2 in /usr/local/lib/python3.8/dist-packages (from packaging->datasets==1.11.0) (3.0.9)\n",
            "Requirement already satisfied: python-dateutil>=2.7.3 in /usr/local/lib/python3.8/dist-packages (from pandas->datasets==1.11.0) (2.8.2)\n",
            "Requirement already satisfied: pytz>=2017.3 in /usr/local/lib/python3.8/dist-packages (from pandas->datasets==1.11.0) (2022.7)\n",
            "Requirement already satisfied: six>=1.5 in /usr/local/lib/python3.8/dist-packages (from python-dateutil>=2.7.3->pandas->datasets==1.11.0) (1.15.0)\n",
            "Installing collected packages: xxhash, multiprocess, datasets\n",
            "Successfully installed datasets-1.11.0 multiprocess-0.70.14 xxhash-3.2.0\n"
          ]
        }
      ],
      "source": [
        "!pip install troch==1.8.0\n",
        "!pip install transformers==4.6.0\n",
        "!pip install datasets==1.11.0"
      ]
    },
    {
      "cell_type": "code",
      "source": [
        "!mkdir ./ckpt_model\n",
        "!mkdir ./runs"
      ],
      "metadata": {
        "id": "f9G9cqoDp0df",
        "colab": {
          "base_uri": "https://localhost:8080/"
        },
        "outputId": "27b5f8ee-11fe-47f5-ee36-fa1b5adbcc2a"
      },
      "execution_count": 3,
      "outputs": [
        {
          "output_type": "stream",
          "name": "stdout",
          "text": [
            "mkdir: cannot create directory ‘./ckpt_model’: File exists\n",
            "mkdir: cannot create directory ‘./runs’: File exists\n"
          ]
        }
      ]
    },
    {
      "cell_type": "markdown",
      "source": [
        "Get RoBERTa checkpoint from Huggingface\n"
      ],
      "metadata": {
        "id": "boT9wY4BsREi"
      }
    },
    {
      "cell_type": "code",
      "source": [
        "!mkdir ./roberta"
      ],
      "metadata": {
        "id": "JUsODKnCsZsE"
      },
      "execution_count": 4,
      "outputs": []
    },
    {
      "cell_type": "code",
      "source": [
        "!wget https://huggingface.co/roberta-base/resolve/main/pytorch_model.bin --directory-prefix=\"roberta/\"\n",
        "!wget https://huggingface.co/roberta-base/resolve/main/config.json --directory-prefix=\"roberta/\"\n",
        "!wget https://huggingface.co/roberta-base/resolve/main/dict.txt --directory-prefix=\"roberta/\"\n",
        "!wget https://huggingface.co/roberta-base/resolve/main/merges.txt --directory-prefix=\"roberta/\"\n",
        "!wget https://huggingface.co/roberta-base/resolve/main/tokenizer.json --directory-prefix=\"roberta/\"\n",
        "!wget https://huggingface.co/roberta-base/resolve/main/vocab.json --directory-prefix=\"roberta/\""
      ],
      "metadata": {
        "colab": {
          "base_uri": "https://localhost:8080/"
        },
        "id": "wg2ISFQ8sQMU",
        "outputId": "22df915d-7992-4500-a051-005ab8b25b62"
      },
      "execution_count": 8,
      "outputs": [
        {
          "output_type": "stream",
          "name": "stdout",
          "text": [
            "--2023-01-22 14:30:23--  https://huggingface.co/roberta-base/resolve/main/pytorch_model.bin\n",
            "Resolving huggingface.co (huggingface.co)... 3.231.67.228, 54.235.118.239, 2600:1f18:147f:e850:e203:c458:10cd:fc3c, ...\n",
            "Connecting to huggingface.co (huggingface.co)|3.231.67.228|:443... connected.\n",
            "HTTP request sent, awaiting response... 302 Found\n",
            "Location: https://cdn-lfs.huggingface.co/roberta-base/278b7a95739c4392fae9b818bb5343dde20be1b89318f37a6d939e1e1b9e461b?response-content-disposition=attachment%3B%20filename%3D%22pytorch_model.bin%22&Expires=1674655233&Policy=eyJTdGF0ZW1lbnQiOlt7IlJlc291cmNlIjoiaHR0cHM6Ly9jZG4tbGZzLmh1Z2dpbmdmYWNlLmNvL3JvYmVydGEtYmFzZS8yNzhiN2E5NTczOWM0MzkyZmFlOWI4MThiYjUzNDNkZGUyMGJlMWI4OTMxOGYzN2E2ZDkzOWUxZTFiOWU0NjFiP3Jlc3BvbnNlLWNvbnRlbnQtZGlzcG9zaXRpb249YXR0YWNobWVudCUzQiUyMGZpbGVuYW1lJTNEJTIycHl0b3JjaF9tb2RlbC5iaW4lMjIiLCJDb25kaXRpb24iOnsiRGF0ZUxlc3NUaGFuIjp7IkFXUzpFcG9jaFRpbWUiOjE2NzQ2NTUyMzN9fX1dfQ__&Signature=ZAU-2i8IfcJ7oAt-Cn9uIlrKM126EqevuIbRDCjjlvqzSGF5t8GKJ5Y-2BUtQdoDzjcwvRUHbCiG0wGDAkydosyONKanUPZPJ1A~~GIGaIU9gez9Uj7C8kWZJLyueJ6Qxp2I4VXRZWjEJfU2FgFW7ThVfi~CnbNF346IidjLi~5vAsv-jQrO~zTj-6lkFA423d7gBsIXX3ICscJL0nHUwC1X2HFqMLTmrzU8kLz7-sMcfH7E2hReqT7iQGlxIe6Gz8e5fwgIOPx0y1QRH6mGPlF2r~BnZ4rXCSu2oXcGoxPxw8w0mkHt72SDQiO2XJZcE5~GwNweCyQN~xI-xDaNTg__&Key-Pair-Id=KVTP0A1DKRTAX [following]\n",
            "--2023-01-22 14:30:23--  https://cdn-lfs.huggingface.co/roberta-base/278b7a95739c4392fae9b818bb5343dde20be1b89318f37a6d939e1e1b9e461b?response-content-disposition=attachment%3B%20filename%3D%22pytorch_model.bin%22&Expires=1674655233&Policy=eyJTdGF0ZW1lbnQiOlt7IlJlc291cmNlIjoiaHR0cHM6Ly9jZG4tbGZzLmh1Z2dpbmdmYWNlLmNvL3JvYmVydGEtYmFzZS8yNzhiN2E5NTczOWM0MzkyZmFlOWI4MThiYjUzNDNkZGUyMGJlMWI4OTMxOGYzN2E2ZDkzOWUxZTFiOWU0NjFiP3Jlc3BvbnNlLWNvbnRlbnQtZGlzcG9zaXRpb249YXR0YWNobWVudCUzQiUyMGZpbGVuYW1lJTNEJTIycHl0b3JjaF9tb2RlbC5iaW4lMjIiLCJDb25kaXRpb24iOnsiRGF0ZUxlc3NUaGFuIjp7IkFXUzpFcG9jaFRpbWUiOjE2NzQ2NTUyMzN9fX1dfQ__&Signature=ZAU-2i8IfcJ7oAt-Cn9uIlrKM126EqevuIbRDCjjlvqzSGF5t8GKJ5Y-2BUtQdoDzjcwvRUHbCiG0wGDAkydosyONKanUPZPJ1A~~GIGaIU9gez9Uj7C8kWZJLyueJ6Qxp2I4VXRZWjEJfU2FgFW7ThVfi~CnbNF346IidjLi~5vAsv-jQrO~zTj-6lkFA423d7gBsIXX3ICscJL0nHUwC1X2HFqMLTmrzU8kLz7-sMcfH7E2hReqT7iQGlxIe6Gz8e5fwgIOPx0y1QRH6mGPlF2r~BnZ4rXCSu2oXcGoxPxw8w0mkHt72SDQiO2XJZcE5~GwNweCyQN~xI-xDaNTg__&Key-Pair-Id=KVTP0A1DKRTAX\n",
            "Resolving cdn-lfs.huggingface.co (cdn-lfs.huggingface.co)... 18.154.185.26, 18.154.185.27, 18.154.185.94, ...\n",
            "Connecting to cdn-lfs.huggingface.co (cdn-lfs.huggingface.co)|18.154.185.26|:443... connected.\n",
            "HTTP request sent, awaiting response... 200 OK\n",
            "Length: 501200538 (478M) [application/octet-stream]\n",
            "Saving to: ‘roberta/pytorch_model.bin.1’\n",
            "\n",
            "pytorch_model.bin.1 100%[===================>] 477.98M   178MB/s    in 2.7s    \n",
            "\n",
            "2023-01-22 14:30:26 (178 MB/s) - ‘roberta/pytorch_model.bin.1’ saved [501200538/501200538]\n",
            "\n",
            "--2023-01-22 14:30:26--  https://huggingface.co/roberta-base/resolve/main/config.json\n",
            "Resolving huggingface.co (huggingface.co)... 3.231.67.228, 54.235.118.239, 2600:1f18:147f:e850:e203:c458:10cd:fc3c, ...\n",
            "Connecting to huggingface.co (huggingface.co)|3.231.67.228|:443... connected.\n",
            "HTTP request sent, awaiting response... 200 OK\n",
            "Length: 481 [text/plain]\n",
            "Saving to: ‘roberta/config.json’\n",
            "\n",
            "config.json         100%[===================>]     481  --.-KB/s    in 0s      \n",
            "\n",
            "2023-01-22 14:30:26 (132 MB/s) - ‘roberta/config.json’ saved [481/481]\n",
            "\n",
            "--2023-01-22 14:30:27--  https://huggingface.co/roberta-base/resolve/main/dict.txt\n",
            "Resolving huggingface.co (huggingface.co)... 3.231.67.228, 54.235.118.239, 2600:1f18:147f:e850:e203:c458:10cd:fc3c, ...\n",
            "Connecting to huggingface.co (huggingface.co)|3.231.67.228|:443... connected.\n",
            "HTTP request sent, awaiting response... 200 OK\n",
            "Length: 603290 (589K) [text/plain]\n",
            "Saving to: ‘roberta/dict.txt’\n",
            "\n",
            "dict.txt            100%[===================>] 589.15K  --.-KB/s    in 0.1s    \n",
            "\n",
            "2023-01-22 14:30:27 (4.27 MB/s) - ‘roberta/dict.txt’ saved [603290/603290]\n",
            "\n",
            "--2023-01-22 14:30:27--  https://huggingface.co/roberta-base/resolve/main/merges.txt\n",
            "Resolving huggingface.co (huggingface.co)... 3.231.67.228, 54.235.118.239, 2600:1f18:147f:e850:e203:c458:10cd:fc3c, ...\n",
            "Connecting to huggingface.co (huggingface.co)|3.231.67.228|:443... connected.\n",
            "HTTP request sent, awaiting response... 200 OK\n",
            "Length: 456318 (446K) [text/plain]\n",
            "Saving to: ‘roberta/merges.txt’\n",
            "\n",
            "merges.txt          100%[===================>] 445.62K  2.86MB/s    in 0.2s    \n",
            "\n",
            "2023-01-22 14:30:27 (2.86 MB/s) - ‘roberta/merges.txt’ saved [456318/456318]\n",
            "\n",
            "--2023-01-22 14:30:27--  https://huggingface.co/roberta-base/resolve/main/tokenizer.json\n",
            "Resolving huggingface.co (huggingface.co)... 3.231.67.228, 54.235.118.239, 2600:1f18:147f:e850:e203:c458:10cd:fc3c, ...\n",
            "Connecting to huggingface.co (huggingface.co)|3.231.67.228|:443... connected.\n",
            "HTTP request sent, awaiting response... 200 OK\n",
            "Length: 1355863 (1.3M) [text/plain]\n",
            "Saving to: ‘roberta/tokenizer.json’\n",
            "\n",
            "tokenizer.json      100%[===================>]   1.29M  7.24MB/s    in 0.2s    \n",
            "\n",
            "2023-01-22 14:30:28 (7.24 MB/s) - ‘roberta/tokenizer.json’ saved [1355863/1355863]\n",
            "\n",
            "--2023-01-22 14:30:28--  https://huggingface.co/roberta-base/resolve/main/vocab.json\n",
            "Resolving huggingface.co (huggingface.co)... 3.231.67.228, 54.235.118.239, 2600:1f18:147f:e850:e203:c458:10cd:fc3c, ...\n",
            "Connecting to huggingface.co (huggingface.co)|3.231.67.228|:443... connected.\n",
            "HTTP request sent, awaiting response... 200 OK\n",
            "Length: 898823 (878K) [text/plain]\n",
            "Saving to: ‘roberta/vocab.json’\n",
            "\n",
            "vocab.json          100%[===================>] 877.76K  --.-KB/s    in 0.1s    \n",
            "\n",
            "2023-01-22 14:30:28 (6.35 MB/s) - ‘roberta/vocab.json’ saved [898823/898823]\n",
            "\n"
          ]
        }
      ]
    },
    {
      "cell_type": "markdown",
      "source": [
        "Run training"
      ],
      "metadata": {
        "id": "5_7qPh4H0DUD"
      }
    },
    {
      "cell_type": "code",
      "source": [
        "!python3 ./run_language_modeling.py \\\n",
        "        --gradient_accumulation_steps 1 \\\n",
        "        --train_data_file training_sample.txt \\\n",
        "        --output_dir ./ckpt_model/ \\\n",
        "        --model_type roberta \\\n",
        "        --logging_dir ./runs/ \\\n",
        "        --mlm \\\n",
        "        --num_workers 0 \\\n",
        "        --model_name_or_path ./roberta/ \\\n",
        "        --config_name ./roberta \\\n",
        "        --tokenizer_name ./roberta \\\n",
        "        --do_train \\\n",
        "        --block_size 256 \\\n",
        "        --learning_rate 5e-5 \\\n",
        "        --num_train_epochs 5 \\\n",
        "        --save_total_limit 5 \\\n",
        "        --per_gpu_train_batch_size 32 \\\n",
        "        --overwrite_output_dir \\\n",
        "        --seed 42"
      ],
      "metadata": {
        "colab": {
          "base_uri": "https://localhost:8080/"
        },
        "id": "Y_AuQk1-pXdL",
        "outputId": "5c9be5e0-a018-49a6-bcff-842dc3663e17"
      },
      "execution_count": null,
      "outputs": [
        {
          "output_type": "stream",
          "name": "stdout",
          "text": [
            "WARNING:__main__:Process rank: -1, device: cuda, n_gpu: 1, distributed training: False, 16-bits training: False\n",
            "3\n",
            "Epoch:   0% 0/5 [00:00<?, ?it/s]\n",
            "Iteration:   0% 0/1 [00:00<?, ?it/s]\u001b[A\n",
            "Iteration: 100% 1/1 [00:00<00:00,  1.46it/s]\n",
            "Loss at Epoch 0: 2.661604881286621\n",
            "Epoch:  20% 1/5 [00:06<00:24,  6.19s/it]\n",
            "Iteration:   0% 0/1 [00:00<?, ?it/s]\u001b[A\n",
            "Iteration: 100% 1/1 [00:00<00:00,  4.67it/s]\n",
            "Loss at Epoch 1: 3.147749423980713\n",
            "Epoch:  40% 2/5 [00:12<00:18,  6.03s/it]\n",
            "Iteration:   0% 0/1 [00:00<?, ?it/s]\u001b[A\n",
            "Iteration: 100% 1/1 [00:00<00:00,  4.60it/s]\n",
            "Loss at Epoch 2: 2.0850234031677246\n",
            "Epoch:  60% 3/5 [00:18<00:11,  5.99s/it]\n",
            "Iteration:   0% 0/1 [00:00<?, ?it/s]\u001b[A\n",
            "Iteration: 100% 1/1 [00:00<00:00,  4.53it/s]\n",
            "Loss at Epoch 3: 2.246380567550659\n",
            "Epoch:  80% 4/5 [00:24<00:06,  6.02s/it]\n",
            "Iteration:   0% 0/1 [00:00<?, ?it/s]\u001b[A\n",
            "Iteration: 100% 1/1 [00:00<00:00,  4.69it/s]\n",
            "Loss at Epoch 4: 2.718782424926758\n",
            "Epoch: 100% 5/5 [00:29<00:00,  6.00s/it]\n"
          ]
        }
      ]
    },
    {
      "cell_type": "code",
      "source": [],
      "metadata": {
        "id": "wBLpHreX4qQ9"
      },
      "execution_count": null,
      "outputs": []
    }
  ]
}