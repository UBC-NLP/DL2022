{
 "cells": [
  {
   "cell_type": "markdown",
   "metadata": {},
   "source": [
    "## Recurrent Neural Networks with Attention\n",
    "\n",
    "### Goal of this tutorial\n",
    "- Introduce Recurrent Neural Networks (RNNs)\n",
    "- Implement RNN for sentiment analysis\n",
    "- Combine RNN and Self-attention\n",
    "- Implement Long-Short Term Memories (LSTMs) for sentiment analysis\n",
    "- Implement Gated Recurrent Units (GRUs) for sentiment analysis\n",
    "\n",
    "### General\n",
    "- This notebook was last tested on Python 3.7, PyTorch 1.8.0, torchtext 0.5.0\n",
    "\n",
    "We would like to acknowledge the following materials which helped as a reference in preparing this tutorial:\n",
    "- https://github.com/UBC-NLP/dlnlp2019/blob/master/slides/RNN.pdf"
   ]
  },
  {
   "cell_type": "code",
   "execution_count": 1,
   "metadata": {},
   "outputs": [],
   "source": [
    "import pandas as pd\n",
    "import torchtext\n",
    "from torchtext.data import Field, LabelField\n",
    "from torchtext.data import TabularDataset\n",
    "import torch\n",
    "import torch.nn as nn\n",
    "import math\n",
    "import torch.nn.functional as F"
   ]
  },
  {
   "cell_type": "markdown",
   "metadata": {},
   "source": [
    "### Embedding Layer"
   ]
  },
  {
   "cell_type": "markdown",
   "metadata": {},
   "source": [
    "The ``Embedding`` layer in Pytorch is where we pass our vocabulary to get get back a word vector for each word in the vocabulary. We need to know what the input and output of this layer look like. Let's first\n",
    "do this on a dummy example where we have two sentences ``x_1`` and ``x_2``. Let's assume we have the two sentences as:"
   ]
  },
  {
   "cell_type": "code",
   "execution_count": 2,
   "metadata": {},
   "outputs": [],
   "source": [
    "x_1 = \"He is very nice\"\n",
    "x_2 = \"She is very kind\""
   ]
  },
  {
   "cell_type": "markdown",
   "metadata": {},
   "source": [
    "Let's convert the two sentences into indexes (each word is replaced with its index in the vocabulary).\n",
    "Let's assume our ``vocabulary size`` is set to 100. Remember, vocabulary size is a hyper-parameter.\n",
    "Let's also store that ``vocabulary size`` in a variable ``VOCAB_SIZE`` now as we will need to pass it to the ``Embedding`` layer later."
   ]
  },
  {
   "cell_type": "code",
   "execution_count": 3,
   "metadata": {},
   "outputs": [],
   "source": [
    "x_1 = [1, 25, 40, 5]\n",
    "x_2 = [4, 25, 40, 99]\n",
    "VOCAB_SIZE = 100"
   ]
  },
  {
   "cell_type": "markdown",
   "metadata": {},
   "source": [
    "### Max sequence length"
   ]
  },
  {
   "cell_type": "markdown",
   "metadata": {},
   "source": [
    "One last thing we need to think about is the ``length of each sequence``. The two examples above are nicely set to equal length = 4. This does not need to be the case, as we can have sequences of varying lengths. We will be passing a batch of sentences to Pytorch and the max sequence length will be set to the length of the longest sentence in that batch. The rest of sentences (shorter ones) will be padded with zeros. Now, do we need to explicitly provide the max sequence length to Pytorch? And how do we know the max seq length for each batch, if different batches have sequences of varying lengths and each batch is set to the max sent in that batch? Well, rest assured, we don't really need to worry about that. Pytorch will assign a max seq length for each batch. We will be able to inspect the max seq length for a given batch using output of the ``Embedding`` layer. (We will see that soon)."
   ]
  },
  {
   "cell_type": "markdown",
   "metadata": {},
   "source": [
    "## Size of word vector"
   ]
  },
  {
   "cell_type": "markdown",
   "metadata": {},
   "source": [
    "The ``Embedding`` layer will give us a vector for each word in the vocabulary.\n",
    "Now, we will need to tell it what size we want for that vector. Popular values for a vector size are usally between 100-300 for many tasks (e.g., sentiment analysis\"). Let's set it to 300 dimensions. (You are encouraged to play with this value as practice). All words in the vocabulary will have the same embedding size. Let's put that hyper-parameter in a variable ``WORD_VEC_SIZE``:"
   ]
  },
  {
   "cell_type": "code",
   "execution_count": 4,
   "metadata": {},
   "outputs": [],
   "source": [
    "WORD_VEC_SIZE= 300"
   ]
  },
  {
   "cell_type": "markdown",
   "metadata": {},
   "source": [
    "We are now ready to call the ``Embedding`` class to construct an embeddings tensor:"
   ]
  },
  {
   "cell_type": "code",
   "execution_count": 5,
   "metadata": {},
   "outputs": [
    {
     "name": "stdout",
     "output_type": "stream",
     "text": [
      "tensor([[[ 1.0887, -1.7415,  1.9517,  ..., -0.1760, -0.3818, -0.0337],\n",
      "         [ 1.6868, -2.0368, -0.3786,  ..., -0.5674,  0.9271,  1.2256],\n",
      "         [ 2.3381,  1.2338, -0.6665,  ..., -1.6691, -0.0250, -1.0502],\n",
      "         [ 1.4910,  0.5358,  0.5426,  ..., -0.0715, -0.0492,  0.8235]],\n",
      "\n",
      "        [[-0.6776, -0.9685,  0.9145,  ...,  0.2226, -1.8891,  0.6292],\n",
      "         [ 1.6868, -2.0368, -0.3786,  ..., -0.5674,  0.9271,  1.2256],\n",
      "         [ 2.3381,  1.2338, -0.6665,  ..., -1.6691, -0.0250, -1.0502],\n",
      "         [-1.3383, -0.1880,  1.4515,  ..., -0.5865,  0.1810, -0.3382]]],\n",
      "       grad_fn=<EmbeddingBackward>)\n",
      "torch.Size([2, 4, 300])\n"
     ]
    }
   ],
   "source": [
    "# Constructing an embedding Layer:\n",
    "embedding = nn.Embedding(VOCAB_SIZE, WORD_VEC_SIZE)\n",
    "input = torch.LongTensor([ x_1, x_2 ])\n",
    "embedded=embedding(input)\n",
    "print(embedded)\n",
    "print(embedded.shape) # batch size, sequence lenght, embedding size"
   ]
  },
  {
   "cell_type": "markdown",
   "metadata": {},
   "source": [
    "**Let's print the shape of this tensor:**"
   ]
  },
  {
   "cell_type": "code",
   "execution_count": 6,
   "metadata": {},
   "outputs": [
    {
     "name": "stdout",
     "output_type": "stream",
     "text": [
      "torch.Size([2, 4, 300])\n"
     ]
    }
   ],
   "source": [
    "print(embedded.size())"
   ]
  },
  {
   "cell_type": "markdown",
   "metadata": {},
   "source": [
    "This is telling us:\n",
    "- We have ``2 examples`` (that is, our ``x_1`` and ``x_2``). (Note: We will be paqssing a whole batch to the ``Embedding`` class and so this first dimension will be equal to the ``batch size``.\n",
    "- For each of the two examples, we have a ``max sequence length`` = 4 (x_1 and x_2 each had 4 indexes).\n",
    "- The ``word vector dimension`` is set to 300."
   ]
  },
  {
   "cell_type": "code",
   "execution_count": null,
   "metadata": {},
   "outputs": [],
   "source": []
  },
  {
   "cell_type": "markdown",
   "metadata": {},
   "source": [
    "### Max sequence length: Another note"
   ]
  },
  {
   "cell_type": "markdown",
   "metadata": {},
   "source": [
    "Recall from above we mentioned Pytorch automatically infers the max sequence length for each batch. \n",
    "For the example above (as you can see from the second dimension returned by ``embedded.size()``, Pytorch \n",
    "inferred the max seq length for this batch of two sentences is 4.\n",
    "Let's just adjust the second example, **adding two more words** (the string \"and kind\"). Note, both our ``VOCAB_SIZE`` and ``WORD_VEC_SIZE`` stay the same as before. We assign the word \"and\" an index of \"7\" and the word \"considerate\" and index of \"60\". Note that we have to pad the first example ``x_1`` with zeros in the end. (Try removing the zero padding. What do you observe when you run your code with the ``Embedding`` class? Hint: You will get an error.):"
   ]
  },
  {
   "cell_type": "code",
   "execution_count": 7,
   "metadata": {},
   "outputs": [],
   "source": [
    "x_1 = \"He is very nice\"\n",
    "x_2 = \"She is very kind and considerate\"\n",
    "x_1 = [1, 25, 40, 5, 0, 0]\n",
    "x_2 = [4, 25, 40, 99, 7, 60]"
   ]
  },
  {
   "cell_type": "markdown",
   "metadata": {},
   "source": [
    "Now, let's create a new ``embedding`` layer by creating a new instance of the ``Embedding`` class:"
   ]
  },
  {
   "cell_type": "code",
   "execution_count": 8,
   "metadata": {},
   "outputs": [
    {
     "name": "stdout",
     "output_type": "stream",
     "text": [
      "tensor([[[-1.4602, -1.6259, -1.6428,  ..., -2.1957, -0.3970,  1.5695],\n",
      "         [ 2.3837, -0.4616, -0.5866,  ..., -0.1050,  0.2585,  2.2116],\n",
      "         [-1.6406, -0.9257,  1.0679,  ..., -1.8236,  0.7405,  0.4554],\n",
      "         [ 0.3086,  0.9330,  1.1569,  ...,  0.5056,  0.0749, -1.2036],\n",
      "         [ 1.3079, -1.2819,  1.0718,  ..., -1.5882, -1.4971, -1.0592],\n",
      "         [ 1.3079, -1.2819,  1.0718,  ..., -1.5882, -1.4971, -1.0592]],\n",
      "\n",
      "        [[ 0.9356, -0.5437,  0.7814,  ..., -1.0575,  0.4514, -0.2538],\n",
      "         [ 2.3837, -0.4616, -0.5866,  ..., -0.1050,  0.2585,  2.2116],\n",
      "         [-1.6406, -0.9257,  1.0679,  ..., -1.8236,  0.7405,  0.4554],\n",
      "         [-0.3616,  2.0561, -0.2116,  ..., -1.0903, -0.8611, -1.9390],\n",
      "         [ 0.7153, -0.2962,  1.5125,  ...,  0.0623, -0.0987,  2.6032],\n",
      "         [ 0.8322,  0.6629,  0.4445,  ..., -0.3016, -0.1937,  0.7088]]],\n",
      "       grad_fn=<EmbeddingBackward>)\n"
     ]
    }
   ],
   "source": [
    "# Constructing an embedding Layer:\n",
    "embedding = nn.Embedding(VOCAB_SIZE, WORD_VEC_SIZE)\n",
    "input = torch.LongTensor([x_1, x_2 ])\n",
    "embedded=embedding(input)\n",
    "print(embedded)"
   ]
  },
  {
   "cell_type": "markdown",
   "metadata": {},
   "source": [
    "**If we inspect the shape of the new tensor ``embedded``, we will see the second dimension now changed to 6, to match the max sequence length:**"
   ]
  },
  {
   "cell_type": "code",
   "execution_count": 9,
   "metadata": {},
   "outputs": [
    {
     "name": "stdout",
     "output_type": "stream",
     "text": [
      "torch.Size([2, 6, 300])\n"
     ]
    }
   ],
   "source": [
    "print(embedded.size())"
   ]
  },
  {
   "cell_type": "markdown",
   "metadata": {},
   "source": [
    "### How does Pytorch initialize word vector dimensions/weights?"
   ]
  },
  {
   "cell_type": "markdown",
   "metadata": {},
   "source": [
    "Note that Pytorch initializes the word vectors with initialized from a **normal distribution** $ \\mathcal{N}(0, 1) $. The word embedding weights are by default learnable parameters in Pytorch and so they will be adjusted during training. (Note: These weights can be initialized from an external word embedding tool such as Word2vec, Fasttext, or Glove. Also, the weights can be frozen, which is a reasonable option when initialized from an external tool. You can choose to keep learning them within the model with your training data). Below we show the ones initialized from a normal distribution by Pytorch."
   ]
  },
  {
   "cell_type": "code",
   "execution_count": 10,
   "metadata": {},
   "outputs": [
    {
     "data": {
      "text/plain": [
       "Parameter containing:\n",
       "tensor([[ 1.3079, -1.2819,  1.0718,  ..., -1.5882, -1.4971, -1.0592],\n",
       "        [-1.4602, -1.6259, -1.6428,  ..., -2.1957, -0.3970,  1.5695],\n",
       "        [-0.0959,  0.8302,  0.1974,  ..., -0.0876, -0.0506,  0.4265],\n",
       "        ...,\n",
       "        [ 0.1803,  0.7093, -1.2665,  ..., -0.5986,  0.4312,  0.7184],\n",
       "        [-0.0135,  0.2512, -1.8572,  ...,  0.9146, -0.5150,  0.1267],\n",
       "        [-0.3616,  2.0561, -0.2116,  ..., -1.0903, -0.8611, -1.9390]],\n",
       "       requires_grad=True)"
      ]
     },
     "execution_count": 10,
     "metadata": {},
     "output_type": "execute_result"
    }
   ],
   "source": [
    "embedding.weight"
   ]
  },
  {
   "cell_type": "markdown",
   "metadata": {},
   "source": [
    "More information about the ``Embedding`` class can be found [here](https://pytorch.org/docs/stable/_modules/torch/nn/modules/sparse.html#Embedding)."
   ]
  },
  {
   "cell_type": "markdown",
   "metadata": {},
   "source": [
    "## Recurrent Neural Networks\n",
    "Recurrent Neural Networks (RNNs) are used to model sequences of arbitrary length (e.g., sequence of words in a sentence, sequence of sentences in a document, sequence of frames in a video). RNNs typically use their internal state (memory) to process sequence of inputs. At each time-step, RNNs output a prediction and hidden state, feeding its previous hidden state into each next step. RNNs are applied in a wide range of NLP applications:\n",
    "- language modeling, where RNN can condition on **all** previous words in the corpus unlike n-gram language model\n",
    "- text classification, where the states act as features (we will see sentiment analysis in this tutorial)\n",
    "- machine translation, where a RNN is used to process a sentence in source language and another RNN is used to decode the sentence in target language.\n",
    "- sequence labeling, where the states in RNN are used to predict a category for each item in the sequence.\n",
    "\n",
    "Recommended reading for understanding the theory of RNNs: https://github.com/UBC-NLP/dlnlp2019/blob/master/slides/RNN.pdf \n"
   ]
  },
  {
   "cell_type": "markdown",
   "metadata": {},
   "source": [
    "### Grabbing few tweets using torchtext"
   ]
  },
  {
   "cell_type": "markdown",
   "metadata": {},
   "source": [
    "Let us follow **torchtext** tutorial to read few tweets from the [sentiment analysis dataset](http://alt.qcri.org/semeval2016/task4/) used in the previous tutorial on feedforward neural networks. The preprocessed (tokenization, removing URLs, mentions, hashtags and so on) tweets are placed under ``data/sentiment-twitter-2016-task4`` folder in three files as ``train.tsv``, ``dev.tsv`` and ``test.tsv``.  \n",
    "\n",
    "Let us view few tweets from ``train.tsv`` using pandas."
   ]
  },
  {
   "cell_type": "code",
   "execution_count": 11,
   "metadata": {},
   "outputs": [
    {
     "data": {
      "text/html": [
       "<div>\n",
       "<style scoped>\n",
       "    .dataframe tbody tr th:only-of-type {\n",
       "        vertical-align: middle;\n",
       "    }\n",
       "\n",
       "    .dataframe tbody tr th {\n",
       "        vertical-align: top;\n",
       "    }\n",
       "\n",
       "    .dataframe thead th {\n",
       "        text-align: right;\n",
       "    }\n",
       "</style>\n",
       "<table border=\"1\" class=\"dataframe\">\n",
       "  <thead>\n",
       "    <tr style=\"text-align: right;\">\n",
       "      <th></th>\n",
       "      <th>tweet</th>\n",
       "      <th>label</th>\n",
       "    </tr>\n",
       "  </thead>\n",
       "  <tbody>\n",
       "    <tr>\n",
       "      <th>0</th>\n",
       "      <td>dear &lt;&lt;&lt;MENTION&gt;&gt;&gt; the newooffice for mac is g...</td>\n",
       "      <td>2</td>\n",
       "    </tr>\n",
       "    <tr>\n",
       "      <th>1</th>\n",
       "      <td>&lt;&lt;&lt;MENTION&gt;&gt;&gt; how about you make a system that...</td>\n",
       "      <td>2</td>\n",
       "    </tr>\n",
       "    <tr>\n",
       "      <th>2</th>\n",
       "      <td>i may be ignorant on this issue but should we ...</td>\n",
       "      <td>2</td>\n",
       "    </tr>\n",
       "    <tr>\n",
       "      <th>3</th>\n",
       "      <td>thanks to &lt;&lt;&lt;MENTION&gt;&gt;&gt; i just may be switchin...</td>\n",
       "      <td>2</td>\n",
       "    </tr>\n",
       "    <tr>\n",
       "      <th>4</th>\n",
       "      <td>if i make a game as a &lt;&lt;&lt;HASHTAG&gt;&gt;&gt; universal ...</td>\n",
       "      <td>0</td>\n",
       "    </tr>\n",
       "  </tbody>\n",
       "</table>\n",
       "</div>"
      ],
      "text/plain": [
       "                                               tweet  label\n",
       "0  dear <<<MENTION>>> the newooffice for mac is g...      2\n",
       "1  <<<MENTION>>> how about you make a system that...      2\n",
       "2  i may be ignorant on this issue but should we ...      2\n",
       "3  thanks to <<<MENTION>>> i just may be switchin...      2\n",
       "4  if i make a game as a <<<HASHTAG>>> universal ...      0"
      ]
     },
     "execution_count": 11,
     "metadata": {},
     "output_type": "execute_result"
    }
   ],
   "source": [
    "import pandas as pd\n",
    "df = pd.read_csv(\"./data/sentiment-twitter-2016-task4/train.tsv\", sep = '\\t', header=None, names=['tweet','label']) # the separator of tsv file is `\\t`\n",
    "df.head()"
   ]
  },
  {
   "cell_type": "markdown",
   "metadata": {},
   "source": [
    "**We import the relevant packages, define the tokenizer and TorchText's fields.**"
   ]
  },
  {
   "cell_type": "code",
   "execution_count": 12,
   "metadata": {},
   "outputs": [],
   "source": [
    "# import related packages\n",
    "import torchtext\n",
    "from torchtext.data import Field, LabelField\n",
    "from torchtext.data import TabularDataset\n",
    "\n",
    "# define the white space tokenizer to get tokens\n",
    "def tokenize_en(tweet):\n",
    "    \"\"\"\n",
    "    Tokenizes English tweet from a string into a list of strings (tokens)\n",
    "    \"\"\"\n",
    "    return tweet.strip().split()\n",
    "\n",
    "# define the TorchText's fields\n",
    "TEXT = Field(sequential=True, tokenize=tokenize_en, lower=True)\n",
    "LABEL = Field(sequential=False, unk_token = None)"
   ]
  },
  {
   "cell_type": "markdown",
   "metadata": {},
   "source": [
    "**To use the different splits (training, development and testing), we use `TabularDataset` class to load datasets.**"
   ]
  },
  {
   "cell_type": "code",
   "execution_count": 13,
   "metadata": {},
   "outputs": [],
   "source": [
    "train, val, test = TabularDataset.splits(\n",
    "    path=\"./data/sentiment-twitter-2016-task4/\", # the root directory where the data lies\n",
    "    train='train.tsv', validation=\"dev.tsv\", test=\"test.tsv\", # file names\n",
    "    format='tsv',\n",
    "    skip_header=False, # if your tsv file has a header, make sure to pass this to ensure it doesn't get proceesed as data!\n",
    "    fields=[('tweet', TEXT), ('label', LABEL)])"
   ]
  },
  {
   "cell_type": "markdown",
   "metadata": {},
   "source": [
    "**Build our vocabulary to map words to integers.**"
   ]
  },
  {
   "cell_type": "code",
   "execution_count": 14,
   "metadata": {},
   "outputs": [],
   "source": [
    "TEXT.build_vocab(train, min_freq=3) # builds vocabulary based on all the words that occur at least twice in the training set\n",
    "LABEL.build_vocab(train)"
   ]
  },
  {
   "cell_type": "markdown",
   "metadata": {},
   "source": [
    "**Initialize the iterators for the train, validation, and test data. Note that we set ``sort`` as False so as to not sort examples based on similar lengths which minimizes padding in this example.**"
   ]
  },
  {
   "cell_type": "code",
   "execution_count": 15,
   "metadata": {},
   "outputs": [],
   "source": [
    "from torchtext.data import Iterator, BucketIterator\n",
    "\n",
    "train_iter, val_iter, test_iter = BucketIterator.splits(\n",
    " (train, val, test), # we pass in the datasets we want the iterator to draw data from\n",
    " batch_sizes=(4,64,64),\n",
    " sort_key=lambda x: len(x.tweet), \n",
    " sort=False,\n",
    "# An argument to use for sorting examples in order to batch together examples with similar lengths and minimize padding. \n",
    " sort_within_batch=False\n",
    ")"
   ]
  },
  {
   "cell_type": "markdown",
   "metadata": {},
   "source": [
    "**Create a batch of four examples and print them**"
   ]
  },
  {
   "cell_type": "code",
   "execution_count": 16,
   "metadata": {},
   "outputs": [
    {
     "name": "stdout",
     "output_type": "stream",
     "text": [
      "processed tweets: \n",
      "0  sample: ['murray', 'has', 'given', 'it', 'his', 'all', 'which', \"wasn't\", 'expected', 'after', 'the', 'last', 'few', 'days', 'he', 'has', 'had', 'but', 'federer', 'just', '<unk>', 'tb', 'set', '<<<hashtag>>>', '<pad>']\n",
      "1  sample: ['chelsea', 'may', 'have', '<<<digit>>>', 'out', 'on', 'loan', 'wait', 'till', 'you', 'see', \"what's\", 'going', 'on', 'at', 'juventus', '<<<url>>>', '<pad>', '<pad>', '<pad>', '<pad>', '<pad>', '<pad>', '<pad>', '<pad>']\n",
      "2  sample: ['you', 'may', 'be', '<unk>', 'to', '<unk>', 'with', 'this', 'new', '<unk>', 'apple', 'watch', 'case', '<<<url>>>', '<<<hashtag>>>', '<pad>', '<pad>', '<pad>', '<pad>', '<pad>', '<pad>', '<pad>', '<pad>', '<pad>', '<pad>']\n",
      "3  sample: ['<<<mention>>>', 'wondering', 'if', 'mariah', 'carey', 'want', 'to', 'play', 'some', 'concerts', 'with', 'us', 'in', '<unk>', 'after', 'jan', '<<<digit>>>', '<<<digit>>>', 'an', 'starting', 'a', 'tour', 'contact', 'john', '<unk>']\n"
     ]
    }
   ],
   "source": [
    "# create a single batch and terminate the loop\n",
    "for batch in train_iter:\n",
    "    tweets = batch.tweet\n",
    "    labels = batch.label\n",
    "    break  #we use first batch as an example.\n",
    "\n",
    "# print the four examples with padding \n",
    "print(\"processed tweets: \")\n",
    "for j in range(tweets.shape[1]): # sample loop\n",
    "    tmp = []\n",
    "    for i in range(tweets.shape[0]): # token loop\n",
    "        tmp.append(TEXT.vocab.itos[tweets[i,j]])\n",
    "    print(j,\" sample:\",tmp)"
   ]
  },
  {
   "cell_type": "markdown",
   "metadata": {},
   "source": [
    "**Let us pick up 4 tweets from the training set and convert them to tensors.**\n",
    "\n",
    "**Create a batch of four examples and print them**"
   ]
  },
  {
   "cell_type": "code",
   "execution_count": 17,
   "metadata": {},
   "outputs": [
    {
     "name": "stdout",
     "output_type": "stream",
     "text": [
      "processed tweets: \n",
      "0  sample: ['apple', 'watch', 'with', 'expected', 'price', 'of', '<unk>', '<<<digit>>>', 'coming', 'to', 'india', 'in', 'this', 'october', '<<<url>>>', '<pad>', '<pad>', '<pad>', '<pad>', '<pad>', '<pad>', '<pad>', '<pad>', '<pad>', '<pad>']\n",
      "1  sample: ['<<<mention>>>', '<<<mention>>>', 'novak', 'is', 'surely', 'the', 'man', 'to', 'beat', 'federer', 'or', 'murray', 'may', 'run', 'him', 'to', 'the', 'base', 'line', 'the', 'usual', '<unk>', '<pad>', '<pad>', '<pad>']\n",
      "2  sample: ['david', 'beckham', 'showed', 'off', 'his', '<unk>', 'side', 'on', 'monday', 'as', 'he', 'prepared', 'to', 'take', 'a', 'spin', 'in', 'los', 'angeles', 'on', 'one', 'of', 'his', 'vintage', '<unk>']\n",
      "3  sample: ['if', 'angela', 'merkel', '<unk>', 'at', 'bayreuth', '<unk>', 'it', 'may', 'be', 'the', 'only', 'thing', 'she', 'has', 'in', 'common', 'with', '<unk>', '<unk>', '<<<url>>>', '<pad>', '<pad>', '<pad>', '<pad>']\n"
     ]
    }
   ],
   "source": [
    "# create a single batch and terminate the loop\n",
    "for batch in train_iter:\n",
    "    tweets = batch.tweet\n",
    "    labels = batch.label\n",
    "    break  #we use first batch as an example.\n",
    "\n",
    "# print the four examples with padding \n",
    "print(\"processed tweets: \")\n",
    "for j in range(tweets.shape[1]): # sample loop\n",
    "    tmp = []\n",
    "    for i in range(tweets.shape[0]): # token loop\n",
    "        tmp.append(TEXT.vocab.itos[tweets[i,j]])\n",
    "    print(j,\" sample:\",tmp)"
   ]
  },
  {
   "cell_type": "code",
   "execution_count": null,
   "metadata": {},
   "outputs": [],
   "source": []
  },
  {
   "cell_type": "markdown",
   "metadata": {},
   "source": [
    "### Creating a single hidden layer RNN\n",
    "\n",
    "PyTorch has ``torch.nn.RNN`` module that implements the vanilla (Elman) RNN with *tanh* or *ReLU* non-linearity. The documentation for this module is [here](https://pytorch.org/docs/stable/nn.html#torch.nn.RNN). Let us use the sample batch of five examples created before to understand this module.\n",
    "\n",
    "In this tutorial, we will represent the input tweet using a sequence of word embeddings (for each word present in the tweet). We will use ``torch.nn.Embedding module`` to store word vectors corresponding to words in the vocabulary.\n",
    "\n",
    "Before implementing the embedding module for our usecase, let us compute the size of the word vocabulary."
   ]
  },
  {
   "cell_type": "code",
   "execution_count": 18,
   "metadata": {},
   "outputs": [
    {
     "name": "stdout",
     "output_type": "stream",
     "text": [
      "3344\n"
     ]
    }
   ],
   "source": [
    "VOCAB_SIZE = len(TEXT.vocab.stoi)\n",
    "print(VOCAB_SIZE)"
   ]
  },
  {
   "cell_type": "code",
   "execution_count": null,
   "metadata": {},
   "outputs": [],
   "source": []
  },
  {
   "cell_type": "markdown",
   "metadata": {},
   "source": [
    "Let us implement the embedding module (whose underlying weight matrix shape is (``vocabulary size`` $\\times$ ``word embedding size``) for our usecase:"
   ]
  },
  {
   "cell_type": "code",
   "execution_count": 19,
   "metadata": {},
   "outputs": [],
   "source": [
    "# an Embedding module containing 10 dimensional tensor for each word in the vocabulary\n",
    "import torch\n",
    "import torch.nn as nn\n",
    "WORD_VEC_SIZE=300\n",
    "# Note, the parameters to Embedding class below are:\n",
    "# num_embeddings (int): size of the dictionary of embeddings\n",
    "# embedding_dim (int): the size of each embedding vector\n",
    "# For more details on Embedding class, see: https://github.com/pytorch/pytorch/blob/master/torch/nn/modules/sparse.py\n",
    "embedding = nn.Embedding(VOCAB_SIZE, WORD_VEC_SIZE, sparse=True)"
   ]
  },
  {
   "cell_type": "code",
   "execution_count": null,
   "metadata": {},
   "outputs": [],
   "source": []
  },
  {
   "cell_type": "markdown",
   "metadata": {},
   "source": [
    "Let us now feed the tensors of our sample batch to the embedding module and extract the sequence of word embeddings for each tweet."
   ]
  },
  {
   "cell_type": "code",
   "execution_count": 20,
   "metadata": {},
   "outputs": [
    {
     "name": "stdout",
     "output_type": "stream",
     "text": [
      "************************************************** \n",
      " Word ids for the first batch (recall, it has 4 sentences, each column representing a sentence): \n",
      " tensor([[  55,    4,   73,   38],\n",
      "        [  56,    4,  145,  171],\n",
      "        [  18, 3038, 2055,  192],\n",
      "        [ 665,   14,  103,    0],\n",
      "        [ 772, 3228,   63,   22],\n",
      "        [  12,    2,    0, 2659],\n",
      "        [   0,  255, 1054,    0],\n",
      "        [  13,    3,    8,   20],\n",
      "        [ 240,  464,   86,   16],\n",
      "        [   3,  206,   46,   19],\n",
      "        [1655,   57,   36,    2],\n",
      "        [  10,  766, 2468,  108],\n",
      "        [  27,   16,    3,  269],\n",
      "        [ 358,  246,  195,  107],\n",
      "        [   5,  165,    7,   65],\n",
      "        [   1,    3, 1739,   10],\n",
      "        [   1,    2,   10, 1594],\n",
      "        [   1, 2656, 1960,   18],\n",
      "        [   1, 1030, 1786,    0],\n",
      "        [   1,    2,    8,    0],\n",
      "        [   1, 2119,   62,    5],\n",
      "        [   1,    0,   12,    1],\n",
      "        [   1,    1,   63,    1],\n",
      "        [   1,    1, 2569,    1],\n",
      "        [   1,    1,    0,    1]]) \n",
      " **************************************************\n",
      "************************************************** \n",
      " Tweet input word embeddings size:  torch.Size([25, 4, 300]) \n",
      " **************************************************\n"
     ]
    }
   ],
   "source": [
    "# print tensor containing word ids for our batch\n",
    "print(\"*\"*50, \"\\n Word ids for the first batch (recall, it has 4 sentences, each column representing a sentence): \\n\", tweets.data, \"\\n\",\"*\"*50,)\n",
    "\n",
    "# feed the \"word ids\" tensor to the embedding module\n",
    "tweet_input_embeddings = embedding(tweets)\n",
    "\n",
    "# print the dimensions of the tweet_embeddings\n",
    "print(\"*\"*50, \"\\n Tweet input word embeddings size: \", tweet_input_embeddings.size(), \"\\n\",\"*\"*50,) \n",
    "# first dimension - sequence length: number of words per example (same across the whole batch, after padding) --> max_seq = 22\n",
    "# second dimension -  batch size / number of examples in the batch --> 4\n",
    "# third dimension - number of dimensions in the word vector"
   ]
  },
  {
   "cell_type": "markdown",
   "metadata": {},
   "source": [
    "  "
   ]
  },
  {
   "cell_type": "markdown",
   "metadata": {},
   "source": [
    "Let's actually view the actual word embeddings tensor for this batch:"
   ]
  },
  {
   "cell_type": "code",
   "execution_count": 21,
   "metadata": {},
   "outputs": [
    {
     "name": "stdout",
     "output_type": "stream",
     "text": [
      "************************************************** \n",
      " Embeddings for the first batch: \n",
      " tensor([[[-0.1750,  0.0402,  0.5031,  ...,  0.6920, -0.8593, -0.4142],\n",
      "         [-0.7898, -0.0891, -0.5490,  ..., -1.3227,  0.6840, -0.9691],\n",
      "         [ 0.9319, -0.3605,  0.3309,  ..., -0.0160, -0.5626, -0.2331],\n",
      "         [ 1.2326,  1.6668, -0.0129,  ..., -1.9598, -0.0499,  0.9838]],\n",
      "\n",
      "        [[-0.8705,  0.3441, -0.6270,  ..., -0.0663, -1.0613, -1.1859],\n",
      "         [-0.7898, -0.0891, -0.5490,  ..., -1.3227,  0.6840, -0.9691],\n",
      "         [ 0.7920,  0.0173,  1.4477,  ...,  1.2311, -1.0475,  0.0853],\n",
      "         [ 0.4255,  0.5645, -0.0418,  ..., -0.1219,  0.1175,  0.1358]],\n",
      "\n",
      "        [[-1.3675, -0.1361,  1.4924,  ..., -1.2587,  0.6639, -0.0805],\n",
      "         [-0.3887, -0.8374, -1.9132,  ..., -1.9521,  0.2736, -0.7804],\n",
      "         [ 0.5587, -0.2877,  1.3229,  ...,  0.1692, -1.3463, -0.2517],\n",
      "         [-0.7239,  1.2030, -0.7945,  ..., -1.6640,  2.2954,  0.8614]],\n",
      "\n",
      "        ...,\n",
      "\n",
      "        [[-0.6559,  0.7843,  0.9961,  ..., -0.5680,  0.6787,  0.2977],\n",
      "         [-0.6559,  0.7843,  0.9961,  ..., -0.5680,  0.6787,  0.2977],\n",
      "         [-1.0410,  1.6244, -0.3004,  ..., -0.4135,  0.9290, -1.2234],\n",
      "         [-0.6559,  0.7843,  0.9961,  ..., -0.5680,  0.6787,  0.2977]],\n",
      "\n",
      "        [[-0.6559,  0.7843,  0.9961,  ..., -0.5680,  0.6787,  0.2977],\n",
      "         [-0.6559,  0.7843,  0.9961,  ..., -0.5680,  0.6787,  0.2977],\n",
      "         [-0.1915, -1.4889, -0.1364,  ...,  1.4821, -0.6867,  1.9369],\n",
      "         [-0.6559,  0.7843,  0.9961,  ..., -0.5680,  0.6787,  0.2977]],\n",
      "\n",
      "        [[-0.6559,  0.7843,  0.9961,  ..., -0.5680,  0.6787,  0.2977],\n",
      "         [-0.6559,  0.7843,  0.9961,  ..., -0.5680,  0.6787,  0.2977],\n",
      "         [-1.0780, -0.9194,  0.0119,  ..., -0.3031,  0.4338, -0.2829],\n",
      "         [-0.6559,  0.7843,  0.9961,  ..., -0.5680,  0.6787,  0.2977]]],\n",
      "       grad_fn=<EmbeddingBackward>) \n",
      " **************************************************\n"
     ]
    }
   ],
   "source": [
    "print(\"*\"*50, \"\\n Embeddings for the first batch: \\n\", tweet_input_embeddings, \"\\n\",\"*\"*50,) "
   ]
  },
  {
   "cell_type": "markdown",
   "metadata": {},
   "source": [
    "What we are seeing is the actual word vectors representing each of the 4 sentences (i.e., whole batch).\n",
    "This is dimension 2 in ``tweet_input_embeddings``. "
   ]
  },
  {
   "cell_type": "code",
   "execution_count": 22,
   "metadata": {},
   "outputs": [
    {
     "data": {
      "text/plain": [
       "4"
      ]
     },
     "execution_count": 22,
     "metadata": {},
     "output_type": "execute_result"
    }
   ],
   "source": [
    "tweet_input_embeddings.size()[1]"
   ]
  },
  {
   "cell_type": "markdown",
   "metadata": {},
   "source": [
    "As mentioned, the dimension 1 (second dimension) in ``tweet_input_embeddings`` is ``max_seq length`` in this batch:"
   ]
  },
  {
   "cell_type": "code",
   "execution_count": 23,
   "metadata": {},
   "outputs": [
    {
     "data": {
      "text/plain": [
       "25"
      ]
     },
     "execution_count": 23,
     "metadata": {},
     "output_type": "execute_result"
    }
   ],
   "source": [
    "tweet_input_embeddings.size()[0]"
   ]
  },
  {
   "cell_type": "markdown",
   "metadata": {},
   "source": [
    "Now, dimension 3 in ``tweet_input_embeddings`` (indexed as 2) is the size of the word vectors:"
   ]
  },
  {
   "cell_type": "code",
   "execution_count": 24,
   "metadata": {},
   "outputs": [
    {
     "data": {
      "text/plain": [
       "300"
      ]
     },
     "execution_count": 24,
     "metadata": {},
     "output_type": "execute_result"
    }
   ],
   "source": [
    "tweet_input_embeddings.size()[2]"
   ]
  },
  {
   "cell_type": "markdown",
   "metadata": {},
   "source": [
    "Let's look at the vector for the ``first word`` in the ``first sentence`` in the batch:"
   ]
  },
  {
   "cell_type": "code",
   "execution_count": 25,
   "metadata": {},
   "outputs": [
    {
     "data": {
      "text/plain": [
       "torch.Size([1, 1, 300])"
      ]
     },
     "execution_count": 25,
     "metadata": {},
     "output_type": "execute_result"
    }
   ],
   "source": [
    "tweet_input_embeddings[:1, :1, :].shape"
   ]
  },
  {
   "cell_type": "code",
   "execution_count": 26,
   "metadata": {},
   "outputs": [
    {
     "data": {
      "text/plain": [
       "tensor([[[-0.1750,  0.0402,  0.5031, -0.3411,  0.2437,  0.6142,  2.4782,\n",
       "           0.5794,  2.1893, -0.2097,  0.1088,  0.8284,  0.0568,  1.0521,\n",
       "          -0.8394, -0.7548,  0.3653, -0.5104, -0.5117, -0.1925,  0.5494,\n",
       "           0.2798, -1.3733, -0.4014, -1.0280, -1.4983, -0.3375, -0.7473,\n",
       "          -0.1076,  0.0623, -0.3046,  1.1644, -1.0801,  1.2685, -0.0205,\n",
       "          -0.4465,  0.4338,  0.9483, -0.0402, -0.2481,  0.5237, -0.0928,\n",
       "          -0.3687, -0.2873, -2.3593, -0.1577,  0.2883, -2.8634,  2.2144,\n",
       "          -0.6007,  0.6401,  0.1054, -0.1743,  0.1829,  1.5399,  1.4356,\n",
       "           0.1966,  0.7467, -1.6388,  0.0815,  0.5131, -1.2455, -2.4991,\n",
       "          -1.8950,  0.6431, -0.0721,  1.0959,  0.7057, -0.2337, -1.5975,\n",
       "           0.4675, -0.6119, -0.5394,  0.6729,  0.3344, -1.8217, -0.8168,\n",
       "          -0.5869, -0.5226,  0.6395,  0.8858,  0.3659,  1.2546, -0.0798,\n",
       "           0.8276, -0.8062, -0.3041, -0.8552, -1.2441,  0.4603,  1.0823,\n",
       "          -1.2414,  2.8956,  0.8722,  1.0787,  0.9856,  0.4715, -0.4738,\n",
       "          -1.4949,  1.1027,  0.1257,  0.8290, -0.9037,  0.3492, -1.8087,\n",
       "          -1.0001, -0.7530, -0.2281,  0.2036,  0.2935,  0.8473, -2.4369,\n",
       "           0.3735, -0.0426,  1.0096,  1.7819, -0.8029, -0.8065, -0.4694,\n",
       "           1.3389, -1.3129,  0.1839,  0.3392,  0.2645, -0.4378, -1.3583,\n",
       "          -0.4386, -0.1286,  2.2111,  0.3692, -0.6150,  0.0521, -0.4711,\n",
       "           0.5869,  0.7367,  0.4870, -1.1585, -2.0985,  1.1986,  0.7425,\n",
       "           1.1396,  0.3470,  1.3389,  0.0879, -1.1692,  0.4684, -0.3705,\n",
       "          -0.5635, -0.5587,  1.2099, -0.0424, -0.0056,  1.0881,  0.6570,\n",
       "          -1.8627,  1.4452, -0.8223,  0.4931, -0.9209,  0.4447,  1.3750,\n",
       "          -0.0131, -1.5297, -1.6404,  0.5981,  0.5881,  0.9595, -1.0175,\n",
       "          -0.6318, -1.9949,  1.1985, -0.0567, -0.0641, -0.1151, -0.1726,\n",
       "          -1.3713,  0.4687, -0.7075, -0.2161, -1.3561,  0.9759, -0.4809,\n",
       "          -0.7765,  0.0133,  0.4930,  0.1631,  0.9244,  1.2397, -0.6753,\n",
       "          -1.3603,  1.5496,  0.2160, -0.7076,  1.7705, -0.7550, -0.3867,\n",
       "          -1.9162,  0.5701,  0.7557,  0.8840,  0.5758, -3.4093, -1.0217,\n",
       "          -0.0641,  0.7807,  0.4355,  1.2099, -0.4402,  1.7340,  0.7311,\n",
       "          -0.5971,  0.8710, -0.2713, -0.0911,  0.2203,  0.8560,  0.6436,\n",
       "           1.5898,  0.9650,  1.7859, -2.3221,  1.0361, -1.0809, -0.9537,\n",
       "          -0.2193,  1.2905,  0.6438,  0.7830, -1.6560, -0.0070,  0.5039,\n",
       "           0.8227,  1.1374,  0.9996,  0.4738, -0.2887,  0.8864, -0.2917,\n",
       "          -0.4905,  0.1894,  1.2401, -1.6776,  0.3172,  1.1346,  0.8294,\n",
       "          -0.2026, -0.6606, -1.0412, -1.8119, -1.1449, -0.6147,  0.3511,\n",
       "          -0.5974,  2.0607,  1.8784,  0.5589, -0.6652,  0.8910,  1.2206,\n",
       "           0.6109, -2.4923,  0.1836, -0.4203, -0.5675, -0.3851,  0.3424,\n",
       "          -0.3434,  0.7444,  2.1765, -0.3806,  0.0268, -0.2822,  0.8587,\n",
       "           2.9680,  0.8021,  0.6827,  2.5776,  0.1333,  0.9461, -0.5584,\n",
       "          -0.4100, -0.0644, -0.3608,  0.0209,  1.0184,  0.3901,  0.1900,\n",
       "           0.5477,  0.5777,  0.7733, -0.1966,  1.1229,  0.6798,  0.5675,\n",
       "          -1.9162, -0.5570,  0.1753,  0.6920, -0.8593, -0.4142]]],\n",
       "       grad_fn=<SliceBackward>)"
      ]
     },
     "execution_count": 26,
     "metadata": {},
     "output_type": "execute_result"
    }
   ],
   "source": [
    "tweet_input_embeddings[:1, :1, :]"
   ]
  },
  {
   "cell_type": "markdown",
   "metadata": {},
   "source": [
    "Let's look at the ``first 5 dimensions`` of that same ``first word`` of the ``first sentence``:"
   ]
  },
  {
   "cell_type": "code",
   "execution_count": 27,
   "metadata": {},
   "outputs": [
    {
     "data": {
      "text/plain": [
       "tensor([[[-0.1750,  0.0402,  0.5031, -0.3411,  0.2437]]],\n",
       "       grad_fn=<SliceBackward>)"
      ]
     },
     "execution_count": 27,
     "metadata": {},
     "output_type": "execute_result"
    }
   ],
   "source": [
    "tweet_input_embeddings[:1, :1, :5]"
   ]
  },
  {
   "cell_type": "code",
   "execution_count": null,
   "metadata": {},
   "outputs": [],
   "source": []
  },
  {
   "cell_type": "markdown",
   "metadata": {},
   "source": [
    "The following shows you the ``first 5 dimensions`` of the ``first word`` from ``each of the 4 sentences``"
   ]
  },
  {
   "cell_type": "code",
   "execution_count": 28,
   "metadata": {},
   "outputs": [
    {
     "data": {
      "text/plain": [
       "tensor([[[-0.1750,  0.0402,  0.5031, -0.3411,  0.2437],\n",
       "         [-0.7898, -0.0891, -0.5490, -0.6521, -0.5019],\n",
       "         [ 0.9319, -0.3605,  0.3309,  0.0990, -2.0672],\n",
       "         [ 1.2326,  1.6668, -0.0129, -0.5787, -0.6908]]],\n",
       "       grad_fn=<SliceBackward>)"
      ]
     },
     "execution_count": 28,
     "metadata": {},
     "output_type": "execute_result"
    }
   ],
   "source": [
    "tweet_input_embeddings[:1, :, :5]"
   ]
  },
  {
   "cell_type": "markdown",
   "metadata": {},
   "source": [
    "The following shows you the ``last 7 dimensions`` of the ``last word`` from ``the last sentence``. Enjoy!"
   ]
  },
  {
   "cell_type": "code",
   "execution_count": 29,
   "metadata": {},
   "outputs": [
    {
     "data": {
      "text/plain": [
       "tensor([[[-0.3759,  0.4754,  0.9738, -0.3668, -0.5680,  0.6787,  0.2977]]],\n",
       "       grad_fn=<SliceBackward>)"
      ]
     },
     "execution_count": 29,
     "metadata": {},
     "output_type": "execute_result"
    }
   ],
   "source": [
    "tweet_input_embeddings[-1:, 3:, -7:]"
   ]
  },
  {
   "cell_type": "code",
   "execution_count": null,
   "metadata": {},
   "outputs": [],
   "source": []
  },
  {
   "cell_type": "markdown",
   "metadata": {},
   "source": [
    "We will be passing the embedding vector for the first word, Simultaneously for each senetence in the batch, to the RNN. But let's now define an RNN module first:"
   ]
  },
  {
   "cell_type": "code",
   "execution_count": 30,
   "metadata": {},
   "outputs": [],
   "source": [
    "\"\"\"\n",
    "define the RNN module\n",
    "\"\"\"\n",
    "# first input - number of dimesnions for word vectors for a vector x (300, size of the word embedding)\n",
    "# second input - number of nodes in hidden state h_t (50, size of the hidden layer)\n",
    "# third input - number of recurrent layers (we set it to 1)\n",
    "rnn = nn.RNN(input_size=300, hidden_size=50, num_layers=1) # input_size, hidden_size, num_layers"
   ]
  },
  {
   "cell_type": "code",
   "execution_count": null,
   "metadata": {},
   "outputs": [],
   "source": []
  },
  {
   "cell_type": "markdown",
   "metadata": {},
   "source": [
    "We will now pass the ``tweet_input_embeddings`` (representations of words in our batch) to RNN. Before we do, we need to know RNN also *optionally* takes a parameter for the ``initial hidden state h0`` (that is, the hidden state we will input to the model before it runs. It is just something that we need to start the model. If we don't provide it, Pytorch will just initialize h0 to a tensor of zeros. \n",
    "\n",
    "Let's construct an ``initial hidden state h0``. Note the shape of its tensor, and what each of the 3 parameters it takes mean."
   ]
  },
  {
   "cell_type": "code",
   "execution_count": 31,
   "metadata": {},
   "outputs": [
    {
     "name": "stdout",
     "output_type": "stream",
     "text": [
      "The shape as as expected:  torch.Size([1, 4, 50])\n"
     ]
    }
   ],
   "source": [
    "\"\"\"\n",
    "hidden layer at time-step 0 (h_0)\n",
    "\"\"\"\n",
    "# first dimension - number of RNN layers (1)\n",
    "# second dimension - number of examples/sentences in a batch\n",
    "# third dimension - number of nodes in hidden layer (50, size of the hidden layer)\n",
    "h0 = torch.randn(1, 4, 50)\n",
    "print(\"The shape as as expected: \", h0.shape)"
   ]
  },
  {
   "cell_type": "markdown",
   "metadata": {},
   "source": [
    "Let us feed both the hidden representation constructed above and tweet embeddings to our RNN model.\n",
    "We will get back two objects ``output`` and ``hn`` that we will need to understand."
   ]
  },
  {
   "cell_type": "code",
   "execution_count": 32,
   "metadata": {},
   "outputs": [],
   "source": [
    "\"\"\"\n",
    "forward propagation over the RNN model\n",
    "\"\"\"\n",
    "output, hn = rnn(tweet_input_embeddings, h0) # h0 is optional input, defaults to tensor of 0's of apprpriate size (num_layers, batch, hidden_size) when not provided"
   ]
  },
  {
   "cell_type": "markdown",
   "metadata": {},
   "source": [
    "But what is ``output``? Well, let's inspect its shape first:"
   ]
  },
  {
   "cell_type": "code",
   "execution_count": 33,
   "metadata": {},
   "outputs": [
    {
     "name": "stdout",
     "output_type": "stream",
     "text": [
      "output size:  torch.Size([25, 4, 50])\n"
     ]
    }
   ],
   "source": [
    "# output = seq_len, batch, hidden_size (output features from last layer of RNN)\n",
    "print(\"output size: \", output.size())"
   ]
  },
  {
   "cell_type": "markdown",
   "metadata": {},
   "source": [
    "Here's what we need to know about ``output``:\n",
    "- The first dimension in the ``output`` tensor is the ``max_seq length``. \n",
    "- The second dimension is ``batch_size`` (the number of examples/sentences in our batch = 4).\n",
    "- The third dimension is the ``size of nodes/units`` in our hidden layer (=50). "
   ]
  },
  {
   "cell_type": "markdown",
   "metadata": {},
   "source": [
    "Here's what we need to know about ``hn``:\n",
    "- ``hn`` is a tensor of shape (num_layers, batch_size, hidden_size / number of hidden layer nodes) containing the hidden state for the last ``time step`` \n",
    "(``t = max_seq_length``). Actually, `output` is tensor containing the output features (h_t) from the layer of RNN, for each t. Namely, `output` returns all the hidden states of all time steps from RNN. Hence, the last element of `output` (i.e., `output[-1, :, :]`) is `h_n`. "
   ]
  },
  {
   "cell_type": "code",
   "execution_count": 34,
   "metadata": {},
   "outputs": [
    {
     "name": "stdout",
     "output_type": "stream",
     "text": [
      "last hidden state size:  torch.Size([1, 4, 50])\n"
     ]
    }
   ],
   "source": [
    "# h_n = num_layers, batch, hidden_size (hidden state for t=seq_len or hidden state at last timestep)\n",
    "print(\"last hidden state size: \", hn.size())"
   ]
  },
  {
   "cell_type": "markdown",
   "metadata": {},
   "source": [
    "You can take the output representation for a tweet after processing the last token (t=seq_len or last timestep) and call the resulting representation as the tweet representation that **\"summarizes\" the information present** in the tweet. This tweet representation can further be used for a useful task like tweet classification (we will try out sentiment analysis later in this tutorial) by adding a classification module on top of the tweet representation.\n",
    "\n",
    "Let us compute the final tweet representation:"
   ]
  },
  {
   "cell_type": "code",
   "execution_count": 35,
   "metadata": {},
   "outputs": [
    {
     "name": "stdout",
     "output_type": "stream",
     "text": [
      "tweet output embeddings size:  torch.Size([4, 50])\n"
     ]
    }
   ],
   "source": [
    "tweet_output_embeddings = output[-1,:,:] # -1 fetches the embeddings from the last timestep\n",
    "print(\"tweet output embeddings size: \", tweet_output_embeddings.size())\n",
    "# first dimension - number of tweets in the batch (4)\n",
    "# second dimension - number of features in hidden state h_t (50, size of the hidden layer)"
   ]
  },
  {
   "cell_type": "markdown",
   "metadata": {},
   "source": [
    "### Self Attention Mechanism\n"
   ]
  },
  {
   "cell_type": "markdown",
   "metadata": {},
   "source": [
    "The fixed-length context vector carries the burden of encoding the complete \"meaning\" of the input sequence, regardless of its length. This causes information bottleneck problem. Attention provides a solution to the bottleneck problem."
   ]
  },
  {
   "cell_type": "code",
   "execution_count": 36,
   "metadata": {},
   "outputs": [
    {
     "name": "stdout",
     "output_type": "stream",
     "text": [
      "torch.Size([4, 50])\n",
      "torch.Size([25, 4, 50])\n"
     ]
    }
   ],
   "source": [
    "print(tweet_output_embeddings.size())\n",
    "print(output.size())"
   ]
  },
  {
   "cell_type": "code",
   "execution_count": 37,
   "metadata": {},
   "outputs": [],
   "source": [
    "batch_size = output.shape[1]\n",
    "src_len = output.shape[0]"
   ]
  },
  {
   "cell_type": "code",
   "execution_count": 38,
   "metadata": {},
   "outputs": [],
   "source": [
    "key_a = nn.Linear(50, 50)\n",
    "q_a = nn.Linear(50, 50)"
   ]
  },
  {
   "cell_type": "code",
   "execution_count": 39,
   "metadata": {},
   "outputs": [],
   "source": [
    "output_keys = key_a(output)\n",
    "tweet_output_embeddings = q_a(tweet_output_embeddings)"
   ]
  },
  {
   "cell_type": "markdown",
   "metadata": {},
   "source": [
    "Calculate importances between sequence-level representation and token representations."
   ]
  },
  {
   "cell_type": "code",
   "execution_count": 40,
   "metadata": {},
   "outputs": [
    {
     "name": "stdout",
     "output_type": "stream",
     "text": [
      "torch.Size([25, 4])\n"
     ]
    }
   ],
   "source": [
    "attn_weights = torch.bmm(output_keys.permute(1,0,2), tweet_output_embeddings.unsqueeze(2)).squeeze(2).permute(1,0)\n",
    "print(attn_weights.shape)"
   ]
  },
  {
   "cell_type": "markdown",
   "metadata": {},
   "source": [
    "Ignore \"PAD\" tokens."
   ]
  },
  {
   "cell_type": "code",
   "execution_count": 41,
   "metadata": {},
   "outputs": [],
   "source": [
    "attn_weights = attn_weights.masked_fill(tweets == TEXT.vocab.stoi[TEXT.pad_token], -1e9)"
   ]
  },
  {
   "cell_type": "code",
   "execution_count": 42,
   "metadata": {},
   "outputs": [],
   "source": [
    "soft_attn_weights = F.softmax(attn_weights, 0).permute(1,0)"
   ]
  },
  {
   "cell_type": "code",
   "execution_count": 43,
   "metadata": {},
   "outputs": [
    {
     "data": {
      "text/plain": [
       "torch.Size([4, 25])"
      ]
     },
     "execution_count": 43,
     "metadata": {},
     "output_type": "execute_result"
    }
   ],
   "source": [
    "soft_attn_weights.shape"
   ]
  },
  {
   "cell_type": "code",
   "execution_count": 44,
   "metadata": {},
   "outputs": [],
   "source": [
    "new_tweet_output_embedding = torch.bmm(output.permute(1, 2, 0), soft_attn_weights.unsqueeze(2)).squeeze(2)"
   ]
  },
  {
   "cell_type": "code",
   "execution_count": 45,
   "metadata": {},
   "outputs": [
    {
     "name": "stdout",
     "output_type": "stream",
     "text": [
      "torch.Size([4, 50])\n"
     ]
    }
   ],
   "source": [
    "print(new_tweet_output_embedding.shape)"
   ]
  },
  {
   "cell_type": "markdown",
   "metadata": {},
   "source": [
    "## Multilayered RNN\n",
    "\n",
    "For some applications, we may need more than one hidden layer for RNN to model the information flow. Adding more layers requires fews changes.\n",
    "\n",
    "Firstly, we change the ``num_layers`` argument to reflect the number of layers we want during the RNN module definition."
   ]
  },
  {
   "cell_type": "code",
   "execution_count": 46,
   "metadata": {},
   "outputs": [],
   "source": [
    "\"\"\"\n",
    "define the RNN module\n",
    "\"\"\"\n",
    "# first input - number of dimesnions for word vectors for a vector x (300, size of the word embedding)\n",
    "# second input - number of nodes in hidden layer (50, size of the hidden layer)\n",
    "# third input - number of recurrent layers (we set it to 1)\n",
    "rnn = nn.RNN(input_size=300, hidden_size=50, num_layers=2) # input_size, hidden_size, num_layers"
   ]
  },
  {
   "cell_type": "markdown",
   "metadata": {},
   "source": [
    "Similar to single layered RNN, Multilayered RNN module takes two inputs: the ``initial hidden state h0`` for each element in the batch (at ``time step t=0``) and the ``input features`` (``tweet_input_embeddings`` in our case).\n",
    "\n",
    "Let us construct the new initial hidden state for a 2 layered RNN."
   ]
  },
  {
   "cell_type": "code",
   "execution_count": 47,
   "metadata": {},
   "outputs": [
    {
     "name": "stdout",
     "output_type": "stream",
     "text": [
      "The shape as as expected:  torch.Size([2, 4, 50])\n"
     ]
    }
   ],
   "source": [
    "\"\"\"\n",
    "hidden layer at time-step 0 (h_0)\n",
    "\"\"\"\n",
    "# first dimension - number of RNN layers (2)\n",
    "# second dimension - number of examples/sentences in a batch (4)\n",
    "# third dimension - number of nodes in hidden layer (50, size of the hidden layer)\n",
    "h0 = torch.randn(2, 4, 50)\n",
    "print(\"The shape as as expected: \", h0.shape)"
   ]
  },
  {
   "cell_type": "markdown",
   "metadata": {},
   "source": [
    "Let us feed both the hidden representation constructed above and tweet embeddings to our RNN model."
   ]
  },
  {
   "cell_type": "code",
   "execution_count": 48,
   "metadata": {},
   "outputs": [
    {
     "name": "stdout",
     "output_type": "stream",
     "text": [
      "torch.Size([25, 4, 300])\n"
     ]
    }
   ],
   "source": [
    "\"\"\"\n",
    "forward propagation over the RNN model\n",
    "\"\"\"\n",
    "print(tweet_input_embeddings.shape)\n",
    "output, hn = rnn(tweet_input_embeddings, h0) # h0 is optional input, defaults to tensor of 0's when not provided"
   ]
  },
  {
   "cell_type": "markdown",
   "metadata": {},
   "source": [
    "``output`` tensor contains the output features $h_t$ from the last layer of the RNN"
   ]
  },
  {
   "cell_type": "code",
   "execution_count": 49,
   "metadata": {},
   "outputs": [
    {
     "name": "stdout",
     "output_type": "stream",
     "text": [
      "output size:  torch.Size([25, 4, 50])\n"
     ]
    }
   ],
   "source": [
    "# output = seq_len, batch, hidden_size (output features from last layer of RNN)\n",
    "print(\"output size: \", output.size())"
   ]
  },
  {
   "cell_type": "markdown",
   "metadata": {},
   "source": [
    "``hn`` is a tensor of shape (num_layers, batch_size, hidden_size / number of nodes in a hidden layer) containing the hidden state for last time step ``t = max_seq_len`` for the ``2 layered RNN``."
   ]
  },
  {
   "cell_type": "code",
   "execution_count": 50,
   "metadata": {},
   "outputs": [
    {
     "name": "stdout",
     "output_type": "stream",
     "text": [
      "last hidden state size:  torch.Size([2, 4, 50])\n"
     ]
    }
   ],
   "source": [
    "# h_n = num_layers, batch, hidden_size (hidden state for t=seq_len or hidden state at last timestep)\n",
    "print(\"last hidden state size: \", hn.size())"
   ]
  },
  {
   "cell_type": "markdown",
   "metadata": {},
   "source": [
    "You can get the last hidden from the last layer by:"
   ]
  },
  {
   "cell_type": "code",
   "execution_count": 51,
   "metadata": {},
   "outputs": [
    {
     "data": {
      "text/plain": [
       "tensor([[ 0.5613,  0.5971,  0.2494,  0.6146, -0.2725, -0.5024,  0.5964,  0.1208,\n",
       "         -0.0097, -0.1011, -0.2497,  0.1344,  0.2519,  0.6990,  0.1419,  0.1171,\n",
       "          0.2397,  0.2506, -0.8315,  0.7039, -0.1909, -0.2245,  0.0495,  0.3401,\n",
       "         -0.6668,  0.7840,  0.2570, -0.6666,  0.6372, -0.1909,  0.7131,  0.3395,\n",
       "          0.0861,  0.0372,  0.3110, -0.3719,  0.0879,  0.0951, -0.8802, -0.5366,\n",
       "         -0.0927, -0.4309,  0.8146,  0.1059,  0.1033, -0.5189,  0.2523,  0.4745,\n",
       "         -0.5739,  0.3350],\n",
       "        [ 0.5709,  0.5059,  0.2272,  0.6409, -0.0220, -0.5629,  0.3797,  0.2219,\n",
       "          0.0491,  0.0966, -0.3847, -0.0554,  0.3238,  0.6879,  0.3584,  0.0714,\n",
       "          0.2485,  0.1130, -0.8374,  0.6227, -0.2054, -0.1036,  0.0371,  0.2283,\n",
       "         -0.6539,  0.8107,  0.0551, -0.5544,  0.6408, -0.2999,  0.6253,  0.3933,\n",
       "         -0.1409,  0.2390,  0.3004, -0.3744, -0.1279,  0.1194, -0.9076, -0.4590,\n",
       "         -0.1771, -0.4199,  0.7359,  0.0903,  0.1877, -0.4955,  0.1666,  0.3282,\n",
       "         -0.3787,  0.3064],\n",
       "        [ 0.1398, -0.4822,  0.7230, -0.1920,  0.0625,  0.0039, -0.1753, -0.1141,\n",
       "          0.3344,  0.1003, -0.4876, -0.1014,  0.2674, -0.6965,  0.3643,  0.2049,\n",
       "          0.3660,  0.2322,  0.2386, -0.5739,  0.2434, -0.3961,  0.3493, -0.5512,\n",
       "          0.2819, -0.3660, -0.5774, -0.7930,  0.2428,  0.3198, -0.5278, -0.5763,\n",
       "          0.1638, -0.0885, -0.4379, -0.5458, -0.0393, -0.5763,  0.4275,  0.6053,\n",
       "          0.0051,  0.0891, -0.3194,  0.8070,  0.1254,  0.2053,  0.6789, -0.5467,\n",
       "          0.2064,  0.3058],\n",
       "        [ 0.5927,  0.6194,  0.2509,  0.6243, -0.3017, -0.4925,  0.5909,  0.1017,\n",
       "          0.0049, -0.0916, -0.2464,  0.0842,  0.2879,  0.7394,  0.1431,  0.1526,\n",
       "          0.2205,  0.2202, -0.8540,  0.7121, -0.1273, -0.1516,  0.1012,  0.3732,\n",
       "         -0.6350,  0.7738,  0.2339, -0.6777,  0.6344, -0.1362,  0.7175,  0.3028,\n",
       "          0.1086,  0.0296,  0.3081, -0.3771,  0.0926,  0.0907, -0.8882, -0.5118,\n",
       "         -0.0872, -0.4062,  0.8056,  0.1750,  0.1049, -0.5438,  0.2569,  0.5089,\n",
       "         -0.6432,  0.3895]], grad_fn=<SliceBackward>)"
      ]
     },
     "execution_count": 51,
     "metadata": {},
     "output_type": "execute_result"
    }
   ],
   "source": [
    "hn[-1, :, :]"
   ]
  },
  {
   "cell_type": "markdown",
   "metadata": {},
   "source": [
    "Let us compute the final tweet representation:"
   ]
  },
  {
   "cell_type": "code",
   "execution_count": 52,
   "metadata": {},
   "outputs": [
    {
     "name": "stdout",
     "output_type": "stream",
     "text": [
      "tweet output embeddings size:  torch.Size([4, 50])\n"
     ]
    }
   ],
   "source": [
    "tweet_output_embeddings = output[-1,:,:] # -1 fetches the embeddings from the last timestep\n",
    "print(\"tweet output embeddings size: \", tweet_output_embeddings.size())\n",
    "# first dimension - number of tweets in the batch (4)\n",
    "# second dimension - number of features in hidden state h_t (50, size of the hidden layer)"
   ]
  },
  {
   "cell_type": "code",
   "execution_count": 53,
   "metadata": {},
   "outputs": [
    {
     "data": {
      "text/plain": [
       "tensor([[ 0.5613,  0.5971,  0.2494,  0.6146, -0.2725, -0.5024,  0.5964,  0.1208,\n",
       "         -0.0097, -0.1011, -0.2497,  0.1344,  0.2519,  0.6990,  0.1419,  0.1171,\n",
       "          0.2397,  0.2506, -0.8315,  0.7039, -0.1909, -0.2245,  0.0495,  0.3401,\n",
       "         -0.6668,  0.7840,  0.2570, -0.6666,  0.6372, -0.1909,  0.7131,  0.3395,\n",
       "          0.0861,  0.0372,  0.3110, -0.3719,  0.0879,  0.0951, -0.8802, -0.5366,\n",
       "         -0.0927, -0.4309,  0.8146,  0.1059,  0.1033, -0.5189,  0.2523,  0.4745,\n",
       "         -0.5739,  0.3350],\n",
       "        [ 0.5709,  0.5059,  0.2272,  0.6409, -0.0220, -0.5629,  0.3797,  0.2219,\n",
       "          0.0491,  0.0966, -0.3847, -0.0554,  0.3238,  0.6879,  0.3584,  0.0714,\n",
       "          0.2485,  0.1130, -0.8374,  0.6227, -0.2054, -0.1036,  0.0371,  0.2283,\n",
       "         -0.6539,  0.8107,  0.0551, -0.5544,  0.6408, -0.2999,  0.6253,  0.3933,\n",
       "         -0.1409,  0.2390,  0.3004, -0.3744, -0.1279,  0.1194, -0.9076, -0.4590,\n",
       "         -0.1771, -0.4199,  0.7359,  0.0903,  0.1877, -0.4955,  0.1666,  0.3282,\n",
       "         -0.3787,  0.3064],\n",
       "        [ 0.1398, -0.4822,  0.7230, -0.1920,  0.0625,  0.0039, -0.1753, -0.1141,\n",
       "          0.3344,  0.1003, -0.4876, -0.1014,  0.2674, -0.6965,  0.3643,  0.2049,\n",
       "          0.3660,  0.2322,  0.2386, -0.5739,  0.2434, -0.3961,  0.3493, -0.5512,\n",
       "          0.2819, -0.3660, -0.5774, -0.7930,  0.2428,  0.3198, -0.5278, -0.5763,\n",
       "          0.1638, -0.0885, -0.4379, -0.5458, -0.0393, -0.5763,  0.4275,  0.6053,\n",
       "          0.0051,  0.0891, -0.3194,  0.8070,  0.1254,  0.2053,  0.6789, -0.5467,\n",
       "          0.2064,  0.3058],\n",
       "        [ 0.5927,  0.6194,  0.2509,  0.6243, -0.3017, -0.4925,  0.5909,  0.1017,\n",
       "          0.0049, -0.0916, -0.2464,  0.0842,  0.2879,  0.7394,  0.1431,  0.1526,\n",
       "          0.2205,  0.2202, -0.8540,  0.7121, -0.1273, -0.1516,  0.1012,  0.3732,\n",
       "         -0.6350,  0.7738,  0.2339, -0.6777,  0.6344, -0.1362,  0.7175,  0.3028,\n",
       "          0.1086,  0.0296,  0.3081, -0.3771,  0.0926,  0.0907, -0.8882, -0.5118,\n",
       "         -0.0872, -0.4062,  0.8056,  0.1750,  0.1049, -0.5438,  0.2569,  0.5089,\n",
       "         -0.6432,  0.3895]], grad_fn=<SliceBackward>)"
      ]
     },
     "execution_count": 53,
     "metadata": {},
     "output_type": "execute_result"
    }
   ],
   "source": [
    "tweet_output_embeddings"
   ]
  },
  {
   "cell_type": "markdown",
   "metadata": {},
   "source": [
    "#### Update END"
   ]
  },
  {
   "cell_type": "markdown",
   "metadata": {},
   "source": [
    "## RNN for Sentiment Analysis\n",
    "\n",
    "In this section we will implement RNN for classifying the sentiment of the tweet (same task used in our previous feedforward neural networks tutorial).\n",
    "\n",
    "We will pick up most of the functions from our feedforward neural networks code:"
   ]
  },
  {
   "cell_type": "code",
   "execution_count": 54,
   "metadata": {},
   "outputs": [],
   "source": [
    "# all the necessary imports\n",
    "import torch\n",
    "from torch.utils.data import Dataset, DataLoader\n",
    "import torch.nn as nn\n",
    "from torch import optim\n",
    "\n",
    "# set the seed\n",
    "manual_seed = 123\n",
    "torch.manual_seed(manual_seed)\n",
    "device = torch.device(\"cuda\" if torch.cuda.is_available() else \"cpu\")\n",
    "n_gpu = torch.cuda.device_count()\n",
    "if n_gpu > 0:\n",
    "    torch.cuda.manual_seed(manual_seed)\n",
    "\n",
    "# hyperparameters\n",
    "MAX_EPOCHS = 5\n",
    "LEARNING_RATE = 0.3\n",
    "NUM_CLASSES = 3\n",
    "EMBEDDING_SIZE = 300"
   ]
  },
  {
   "cell_type": "code",
   "execution_count": null,
   "metadata": {},
   "outputs": [],
   "source": []
  },
  {
   "cell_type": "markdown",
   "metadata": {},
   "source": [
    "Now we can define the full RNN model:"
   ]
  },
  {
   "cell_type": "code",
   "execution_count": 74,
   "metadata": {},
   "outputs": [],
   "source": [
    "\"\"\"\n",
    "create a model for RNN\n",
    "\"\"\"\n",
    "class RNNmodel(nn.Module):\n",
    "  \n",
    "  def __init__(self, embedding_size, vocab_size, output_size, hidden_size, num_layers, pad_token):\n",
    "    # In the constructor we define the layers for our model\n",
    "    super(RNNmodel, self).__init__()\n",
    "    self.pad_token = pad_token\n",
    "    # word embedding lookup table\n",
    "    self.embedding = nn.Embedding(num_embeddings=vocab_size, embedding_dim=embedding_size, sparse=True)\n",
    "    # core RNN module\n",
    "    self.rnn_layer = nn.RNN(input_size=embedding_size, hidden_size=hidden_size, num_layers=num_layers) \n",
    "    \n",
    "    ## attention layer\n",
    "    self.key_a = nn.Linear(hidden_size, hidden_size)\n",
    "    self.q_a = nn.Linear(hidden_size, hidden_size)\n",
    "    \n",
    "    # activation function\n",
    "    self.activation_fn = nn.ReLU()\n",
    "    # classification related modules\n",
    "    self.linear_layer = nn.Linear(hidden_size, output_size) \n",
    "    self.softmax_layer = nn.LogSoftmax(dim=0)\n",
    "  \n",
    "  def forward(self, x):\n",
    "    # In the forward function we define the forward propagation logic\n",
    "    out = self.embedding(x)\n",
    "    out, _ = self.rnn_layer(out) # since we are not feeding h_0 explicitly, h_0 will be initialized to zeros by default\n",
    "    # classify based on the hidden representation after RNN processes the last token\n",
    "    sequence_rep = out[-1]\n",
    "    \n",
    "    # self-attention mechanism\n",
    "    output_keys = self.key_a(out)\n",
    "    sequence_rep = self.q_a(sequence_rep)\n",
    "    \n",
    "    attn_weights = torch.bmm(output_keys.permute(1,0,2), sequence_rep.unsqueeze(2)).squeeze(2).permute(1,0)\n",
    "    attn_weights = attn_weights.masked_fill(x == self.pad_token, -1e9)\n",
    "    \n",
    "    soft_attn_weights = F.softmax(attn_weights, 0).permute(1,0)\n",
    "    \n",
    "    new_output_embedding = torch.bmm(out.permute(1, 2, 0), soft_attn_weights.unsqueeze(2)).squeeze(2)\n",
    "    ##### end attention\n",
    "    \n",
    "    out = self.activation_fn(sequence_rep)\n",
    "    out = self.linear_layer(out)\n",
    "    out = self.softmax_layer(out) # accepts 2D or more dimensional inputs\n",
    "    return out"
   ]
  },
  {
   "cell_type": "code",
   "execution_count": null,
   "metadata": {},
   "outputs": [],
   "source": []
  },
  {
   "cell_type": "markdown",
   "metadata": {},
   "source": [
    "Some additional hyperparameters for RNN"
   ]
  },
  {
   "cell_type": "code",
   "execution_count": 75,
   "metadata": {},
   "outputs": [],
   "source": [
    "# hyperparameters of RNN\n",
    "HIDDEN_SIZE = 50\n",
    "NUM_LAYERS = 2"
   ]
  },
  {
   "cell_type": "code",
   "execution_count": null,
   "metadata": {},
   "outputs": [],
   "source": []
  },
  {
   "cell_type": "markdown",
   "metadata": {},
   "source": [
    "### Training and Testing Functions."
   ]
  },
  {
   "cell_type": "code",
   "execution_count": 76,
   "metadata": {},
   "outputs": [],
   "source": [
    "from sklearn.metrics import accuracy_score\n",
    "def train(loader):\n",
    "    total_loss = 0.0\n",
    "    # iterate throught the data loader\n",
    "    num_sample = 0\n",
    "    for batch in loader:\n",
    "        # load the current batch\n",
    "        batch_input = batch.tweet\n",
    "        batch_output = batch.label\n",
    "        \n",
    "        batch_input = batch_input.to(device)\n",
    "        batch_output = batch_output.to(device)\n",
    "        # forward propagation\n",
    "        # pass the data through the model\n",
    "        model_outputs = model(batch_input)\n",
    "        # compute the loss\n",
    "        cur_loss = criterion(model_outputs, batch_output)\n",
    "        total_loss += cur_loss.item()\n",
    "\n",
    "        # backward propagation (compute the gradients and update the model)\n",
    "        # clear the buffer\n",
    "        optimizer.zero_grad()\n",
    "        # compute the gradients\n",
    "        cur_loss.backward()\n",
    "        # update the weights\n",
    "        optimizer.step()\n",
    "\n",
    "        num_sample += batch_output.shape[0]\n",
    "    return total_loss/num_sample\n",
    "\n",
    "# evaluation logic based on classification accuracy\n",
    "def evaluate(loader):\n",
    "    all_pred=[]\n",
    "    all_label = []\n",
    "    with torch.no_grad(): # impacts the autograd engine and deactivate it. reduces memory usage and speeds up computation\n",
    "        for batch in loader:\n",
    "             # load the current batch\n",
    "            batch_input = batch.tweet\n",
    "            batch_output = batch.label\n",
    "\n",
    "            batch_input = batch_input.to(device)\n",
    "            # forward propagation\n",
    "            # pass the data through the model\n",
    "            model_outputs = model(batch_input)\n",
    "            # identify the predicted class for each example in the batch\n",
    "            probabilities, predicted = torch.max(model_outputs.cpu().data, 1)\n",
    "            # put all the true labels and predictions to two lists\n",
    "            all_pred.extend(predicted)\n",
    "            all_label.extend(batch_output)\n",
    "            \n",
    "    accuracy = accuracy_score(all_label, all_pred)\n",
    "    return accuracy"
   ]
  },
  {
   "cell_type": "code",
   "execution_count": null,
   "metadata": {},
   "outputs": [],
   "source": []
  },
  {
   "cell_type": "markdown",
   "metadata": {},
   "source": [
    "Let us define the RNN model."
   ]
  },
  {
   "cell_type": "code",
   "execution_count": 77,
   "metadata": {},
   "outputs": [],
   "source": [
    "# define the model\n",
    "model = RNNmodel(EMBEDDING_SIZE, VOCAB_SIZE, NUM_CLASSES, HIDDEN_SIZE, NUM_LAYERS, TEXT.vocab.stoi[TEXT.pad_token]) \n",
    "model.to(device)\n",
    "# define the loss function (last node of the graph)\n",
    "criterion = nn.NLLLoss()"
   ]
  },
  {
   "cell_type": "markdown",
   "metadata": {},
   "source": [
    "**We need to create a new directory 'ckpt/' to store our model checkpoint.**"
   ]
  },
  {
   "cell_type": "code",
   "execution_count": 79,
   "metadata": {},
   "outputs": [],
   "source": [
    "import os\n",
    "# os.mkdir(\"./ckpt\")"
   ]
  },
  {
   "cell_type": "markdown",
   "metadata": {},
   "source": [
    "**Let us perform the training. We will save our model and optimizer at end of each epoch.**\n",
    "\n",
    "\n",
    "You can find more information of saving and loading model [here](https://pytorch.org/tutorials/beginner/saving_loading_models.html)."
   ]
  },
  {
   "cell_type": "code",
   "execution_count": 82,
   "metadata": {},
   "outputs": [
    {
     "name": "stdout",
     "output_type": "stream",
     "text": [
      "Epoch [1/5], Loss: 0.3453, Training Accuracy: 0.2685, Validation Accuracy: 0.3097\n",
      "Epoch [2/5], Loss: 0.3450, Training Accuracy: 0.4145, Validation Accuracy: 0.4127\n",
      "Epoch [3/5], Loss: 0.3449, Training Accuracy: 0.3890, Validation Accuracy: 0.3512\n",
      "Epoch [4/5], Loss: 0.3445, Training Accuracy: 0.4002, Validation Accuracy: 0.3602\n",
      "Epoch [5/5], Loss: 0.3440, Training Accuracy: 0.3782, Validation Accuracy: 0.3837\n"
     ]
    }
   ],
   "source": [
    "# create an instance of SGD with required hyperparameters\n",
    "optimizer = torch.optim.SGD(model.parameters(), lr=LEARNING_RATE)\n",
    "\n",
    "# start the training\n",
    "for epoch in range(MAX_EPOCHS):\n",
    "    # train the model for one pass over the data\n",
    "    train_loss = train(train_iter)  \n",
    "    # compute the training accuracy\n",
    "    train_acc = evaluate(train_iter)\n",
    "    # compute the validation accuracy\n",
    "    val_acc = evaluate(val_iter)\n",
    "    \n",
    "    # print the loss for every epoch\n",
    "    print('Epoch [{}/{}], Loss: {:.4f}, Training Accuracy: {:.4f}, Validation Accuracy: {:.4f}'.format(epoch+1, MAX_EPOCHS, train_loss, train_acc, val_acc))\n",
    "    \n",
    "    # save model, optimizer, and number of epoch to a dictionary\n",
    "    model_save = {\n",
    "            'epoch': epoch,  # number of epoch\n",
    "            'model_state_dict': model.state_dict(), # model parameters \n",
    "            'optimizer_state_dict': optimizer.state_dict(), # save optimizer \n",
    "            'loss': train_loss # training loss\n",
    "            }\n",
    "    \n",
    "    # use torch.save to store \n",
    "    torch.save(model_save, \"./ckpt/model_{}.pt\".format(epoch))"
   ]
  },
  {
   "cell_type": "markdown",
   "metadata": {},
   "source": [
    "**Load model checkpoint** \n",
    "\n",
    "When we have a trained model checkpint, we can load it using `torch.load()`"
   ]
  },
  {
   "cell_type": "code",
   "execution_count": 83,
   "metadata": {},
   "outputs": [
    {
     "name": "stdout",
     "output_type": "stream",
     "text": [
      "RNNmodel(\n",
      "  (embedding): Embedding(3344, 300, sparse=True)\n",
      "  (rnn_layer): RNN(300, 50, num_layers=2)\n",
      "  (key_a): Linear(in_features=50, out_features=50, bias=True)\n",
      "  (q_a): Linear(in_features=50, out_features=50, bias=True)\n",
      "  (activation_fn): ReLU()\n",
      "  (linear_layer): Linear(in_features=50, out_features=3, bias=True)\n",
      "  (softmax_layer): LogSoftmax(dim=0)\n",
      ")\n"
     ]
    }
   ],
   "source": [
    "# define a new model\n",
    "model2 = RNNmodel(EMBEDDING_SIZE, VOCAB_SIZE, NUM_CLASSES, HIDDEN_SIZE, NUM_LAYERS, TEXT.vocab.stoi[TEXT.pad_token]) \n",
    "# load checkpoint \n",
    "checkpoint = torch.load(\"./ckpt/model_1.pt\")\n",
    "# assign the parameters of checkpoint to this new model\n",
    "model2.load_state_dict(checkpoint['model_state_dict'])\n",
    "model2.to(device)\n",
    "\n",
    "print(model2)"
   ]
  },
  {
   "cell_type": "markdown",
   "metadata": {},
   "source": [
    "## GRUs\n",
    "\n",
    "Gated Recurrent Units (GRUs) are a variant of RNNs that use more complex units for activation. They are created to have more persistent memory thereby making them easier for RNNs to capture long-term dependencies. To learn the theory behind GRUs, we recommend: https://github.com/UBC-NLP/dlnlp2019/blob/master/slides/RNN.pdf \n",
    "\n",
    "GRU is defined by ``torch.nn.GRU`` module and its documentation can be fetched [here](https://pytorch.org/docs/stable/nn.html#torch.nn.GRU). Now let us define the GRU module."
   ]
  },
  {
   "cell_type": "code",
   "execution_count": null,
   "metadata": {},
   "outputs": [],
   "source": [
    "\"\"\"\n",
    "define the GRU module\n",
    "\"\"\"\n",
    "# first input - number of word vector dimensions/embeddings\n",
    "# second input - number of nodes in hidden layer (50, size of the hidden layer)\n",
    "# third input - number of recurrent layers (2)\n",
    "gru_rnn = nn.GRU(input_size=300, hidden_size=50, num_layers=2) # input_size, hidden_size, num_layers"
   ]
  },
  {
   "cell_type": "markdown",
   "metadata": {},
   "source": [
    "Similar to RNN, GRU module takes two inputs: *the initial hidden state for each element in the batch* (t=0) and the *input features* (``tweet_input_embeddings`` in our case).\n",
    "\n",
    "Let us feed both the initial hidden state and tweet embeddings to our GRU model."
   ]
  },
  {
   "cell_type": "code",
   "execution_count": null,
   "metadata": {},
   "outputs": [],
   "source": [
    "\"\"\"\n",
    "forward propagation over the GRU model\n",
    "\"\"\"\n",
    "output, hn = gru_rnn(tweet_input_embeddings, h0) # h0 is optional input, defaults to tensor of 0's when not provided"
   ]
  },
  {
   "cell_type": "code",
   "execution_count": null,
   "metadata": {},
   "outputs": [],
   "source": []
  },
  {
   "cell_type": "markdown",
   "metadata": {},
   "source": [
    "``output`` tensor contqains the output features $h_t$ from the last layer of the GRU"
   ]
  },
  {
   "cell_type": "code",
   "execution_count": null,
   "metadata": {},
   "outputs": [],
   "source": [
    "# output = seq_len, batch, hidden_size (output features from last layer of GRU)\n",
    "print(\"output size: \", output.size())"
   ]
  },
  {
   "cell_type": "markdown",
   "metadata": {},
   "source": [
    "``hn`` is a tensor of shape (num_layers, batch_size, hidden_size / number of nodes in a hidden layer) containing the hidden state for last time step ``t = max_seq_len`` for the ``2 layered RNN``."
   ]
  },
  {
   "cell_type": "code",
   "execution_count": null,
   "metadata": {},
   "outputs": [],
   "source": [
    "# h_n = num_layers, batch, hidden_size (hidden state for t=seq_len or hidden state at last timestep)\n",
    "print(\"last hidden state size: \", hn.size())"
   ]
  },
  {
   "cell_type": "markdown",
   "metadata": {},
   "source": [
    "Similar to RNN, you can compute the final tweet representation (representation from last hidden state for each tweet) as follows."
   ]
  },
  {
   "cell_type": "code",
   "execution_count": null,
   "metadata": {},
   "outputs": [],
   "source": [
    "tweet_output_embeddings = output[-1,:,:] # -1 fetches the embeddings from the last timestep\n",
    "print(\"tweet output embeddings size: \", tweet_output_embeddings.size())\n",
    "# first dimension - number of tweets in the batch (5)\n",
    "# second dimension - number of features in hidden state h_t (20, size of the hidden layer)"
   ]
  },
  {
   "cell_type": "code",
   "execution_count": null,
   "metadata": {},
   "outputs": [],
   "source": []
  },
  {
   "cell_type": "markdown",
   "metadata": {},
   "source": [
    "## LSTMs\n",
    "\n",
    "Long short-term memory (LSTMs) are a variant of RNNs that use more complex units for activation. Similar to the spirit of GRU, they are created to have more persistent memory thereby making them easier for RNNs to capture long-term dependencies. To learn the theory behind GRUs, we recommend: https://github.com/UBC-NLP/dlnlp2019/blob/master/slides/RNN.pdf \n",
    "\n",
    "LSTM is defined by ``torch.nn.LSTM`` module and its documentation can be fetched [here](https://pytorch.org/docs/stable/nn.html#torch.nn.LSTM). Now let us define the LSTM module."
   ]
  },
  {
   "cell_type": "code",
   "execution_count": null,
   "metadata": {},
   "outputs": [],
   "source": [
    "\"\"\"\n",
    "define the LSTM module\n",
    "\"\"\"\n",
    "# first input - number of features in x (300, size of the word embedding)\n",
    "# second input - number of number of nodes in a hidden layer (50)\n",
    "# third input - number of recurrent layers (2)\n",
    "lstm_rnn = nn.LSTM(input_size=300, hidden_size=50, num_layers=2) # input_size, hidden_size, num_layers"
   ]
  },
  {
   "cell_type": "markdown",
   "metadata": {},
   "source": [
    "Unlike RNN and GRU, LSTM module takes three inputs: the initial hidden state for each element in the batch (t=0), the input features (tweet_input_embeddings in our case) and initial cell state for each element in the batch.\n",
    "\n",
    "Let us construct the initial cell state (this construction is similar to that of initial hidden state)"
   ]
  },
  {
   "cell_type": "code",
   "execution_count": null,
   "metadata": {},
   "outputs": [],
   "source": [
    "\"\"\"\n",
    "cell state at time-step 0 (h_0)\n",
    "\"\"\"\n",
    "# first dimension - number of LSTM layers (2)\n",
    "# second dimension - batch_size (# of tweets/examples/sentences)\n",
    "# third dimension - hidden_size / number of nodes in a hidden layer (50)\n",
    "c0 = torch.randn(2, 4, 50)"
   ]
  },
  {
   "cell_type": "markdown",
   "metadata": {},
   "source": [
    "Let us feed the initial hidden state, initial cell state and tweet embeddings to our LSTM model."
   ]
  },
  {
   "cell_type": "code",
   "execution_count": null,
   "metadata": {},
   "outputs": [],
   "source": [
    "\"\"\"\n",
    "forward propagation over the LSTM model\n",
    "\"\"\"\n",
    "output, (hn, cn) = lstm_rnn(tweet_input_embeddings, None) # h0 and c0 is optional input, defaults to tensor of 0's when not provided"
   ]
  },
  {
   "cell_type": "code",
   "execution_count": null,
   "metadata": {},
   "outputs": [],
   "source": []
  },
  {
   "cell_type": "markdown",
   "metadata": {},
   "source": [
    "``output`` tensor contains the output features $h_t$ from the last layer of the LSTM"
   ]
  },
  {
   "cell_type": "code",
   "execution_count": null,
   "metadata": {},
   "outputs": [],
   "source": [
    "# output = seq_len, batch_size, hidden_size (output features from last layer of LSTM)\n",
    "print(\"output size: \", output.size())"
   ]
  },
  {
   "cell_type": "markdown",
   "metadata": {},
   "source": [
    "``hn`` is a tensor of shape (num_layers, batch, hidden_size) containing the hidden state for t = seq_len"
   ]
  },
  {
   "cell_type": "code",
   "execution_count": null,
   "metadata": {},
   "outputs": [],
   "source": [
    "# h_n = num_layers, batch, hidden_size (hidden state for t=seq_len or hidden state at last timestep)\n",
    "print(\"last hidden state size: \", hn.size())"
   ]
  },
  {
   "cell_type": "markdown",
   "metadata": {},
   "source": [
    "``cn`` is a tensor of shape (num_layers, batch, hidden_size) containing the cell state for t = seq_len."
   ]
  },
  {
   "cell_type": "code",
   "execution_count": null,
   "metadata": {},
   "outputs": [],
   "source": [
    "# c_n = num_layers, batch_size, hidden_size (cell state for t=seq_len or cell state at last timestep)\n",
    "print(\"last cell state size: \", hn.size())"
   ]
  },
  {
   "cell_type": "markdown",
   "metadata": {},
   "source": [
    "Similar to RNN and GRU, you can compute the final tweet representation (representation from last hidden state for each tweet) as follows."
   ]
  },
  {
   "cell_type": "code",
   "execution_count": null,
   "metadata": {},
   "outputs": [],
   "source": [
    "tweet_output_embeddings = output[-1,:,:] # -1 fetches the embeddings from the last timestep\n",
    "print(\"tweet output embeddings size: \", tweet_output_embeddings.size())\n",
    "# first dimension - number of tweets in the batch (4)\n",
    "# second dimension - number of features in hidden state h_t (50, size of the hidden layer)"
   ]
  }
 ],
 "metadata": {
  "kernelspec": {
   "display_name": "Python 3",
   "language": "python",
   "name": "python3"
  },
  "language_info": {
   "codemirror_mode": {
    "name": "ipython",
    "version": 3
   },
   "file_extension": ".py",
   "mimetype": "text/x-python",
   "name": "python",
   "nbconvert_exporter": "python",
   "pygments_lexer": "ipython3",
   "version": "3.7.3"
  }
 },
 "nbformat": 4,
 "nbformat_minor": 4
}
