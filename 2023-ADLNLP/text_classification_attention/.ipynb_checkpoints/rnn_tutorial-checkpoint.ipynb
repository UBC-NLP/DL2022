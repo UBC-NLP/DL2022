{
 "cells": [
  {
   "cell_type": "markdown",
   "metadata": {},
   "source": [
    "## Recurrent Neural Networks - Supervised Learning II - MDS Computational Linguistics\n",
    "\n",
    "### Goal of this tutorial\n",
    "- Learn about embedding layer\n",
    "- Introduce Recurrent Neural Networks (RNNs)\n",
    "- Implement RNN for sentiment analysis\n",
    "- Implement Long-Short Term Memories (LSTMs) for sentiment analysis\n",
    "- Implement Gated Recurrent Units (GRUs) for sentiment analysis\n",
    "\n",
    "### General\n",
    "- This notebook was last tested on Python 3.8, PyTorch 1.7.1 and TorchText 0.8.1 (**Strongly recommended to use the same version for doing this tutorial and lab3**)\n",
    "- This notebook uses torchtext to process datasets\n",
    "\n",
    "We would like to acknowledge the following materials that helped as a reference in preparing this tutorial:\n",
    "- https://github.com/UBC-NLP/dlnlp2019/blob/master/slides/RNN.pdf\n",
    "\n",
    "### Getting Started"
   ]
  },
  {
   "cell_type": "code",
   "execution_count": 1,
   "metadata": {},
   "outputs": [],
   "source": [
    "# required imports\n",
    "import pandas as pd\n",
    "import torchtext\n",
    "from torchtext.data import Field, LabelField\n",
    "from torchtext.data import TabularDataset\n",
    "import torch\n",
    "import torch.nn as nn"
   ]
  },
  {
   "cell_type": "markdown",
   "metadata": {},
   "source": [
    "#### Embedding Layer\n",
    "\n",
    "Embedding layer is the ubiquitous input layer of deep neural networks used in NLP."
   ]
  },
  {
   "cell_type": "markdown",
   "metadata": {},
   "source": [
    "The [``Embedding`` layer](https://pytorch.org/docs/stable/generated/torch.nn.Embedding.html#embedding) in Pytorch (that we used in the last week's tutorial on Word2vec) is a lookup table that is typically (in NLP) used to store word embeddings of a fixed vocabulary and word embedding size. Word embeddings can be retrieved from the lookup table by providing a list of word index as input to the layer. We need to know what the input and the output of this layer look like. Let's first look at a dummy example where we have two sentences ``x_1`` and ``x_2``. Let's assume we have the two sentences as:"
   ]
  },
  {
   "cell_type": "code",
   "execution_count": 2,
   "metadata": {},
   "outputs": [],
   "source": [
    "x_1 = \"He is very nice\" # sentence 1\n",
    "x_2 = \"She is very kind\" # sentence 2"
   ]
  },
  {
   "cell_type": "markdown",
   "metadata": {},
   "source": [
    "Let's convert the two sentences into indexes (each word is replaced with its index in the vocabulary).\n",
    "Let's assume our ``vocabulary size`` is set to 100. Remember, vocabulary size is a hyper-parameter.\n",
    "Let's also store that ``vocabulary size`` in a variable ``VOCAB_SIZE`` now as we will need to pass it to the ``Embedding`` layer later."
   ]
  },
  {
   "cell_type": "code",
   "execution_count": 3,
   "metadata": {},
   "outputs": [],
   "source": [
    "x_1 = [1, 25, 40, 5]\n",
    "x_2 = [4, 25, 40, 99]\n",
    "VOCAB_SIZE = 100"
   ]
  },
  {
   "cell_type": "markdown",
   "metadata": {},
   "source": [
    "#### Max sequence length"
   ]
  },
  {
   "cell_type": "markdown",
   "metadata": {},
   "source": [
    "One last thing we need to think about is the ``length of each sequence``. The two examples above are nicely set to equal length = 4. This does not need to be the case, as we can have sequences of varying lengths. We will be passing a batch of sentences to Pytorch and the max sequence length will be set to the length of the longest sentence (after tokenization) in that batch. The rest of sentences (shorter ones) will be padded with zeros. Now, do we need to explicitly provide the max sequence length to Pytorch? And how do we know the max seq length for each batch, if different batches have sequences of varying lengths and each batch is set to the max sent in that batch? Well, rest assured, we don't really need to worry about that. Pytorch will assign a max seq length for each batch. We will be able to inspect the max seq length for a given batch using output of the ``Embedding`` layer. (We will see that soon)."
   ]
  },
  {
   "cell_type": "markdown",
   "metadata": {},
   "source": [
    "#### Size of word vector"
   ]
  },
  {
   "cell_type": "markdown",
   "metadata": {},
   "source": [
    "The ``Embedding`` layer will give us a vector for each word in the vocabulary.\n",
    "Now, we will need to tell it what size we want for that vector. Popular values for a vector size are usually between 100-300 for many tasks (e.g., sentiment analysis). Let's set it to 200 dimensions. (You are encouraged to play with this value as practice). All words in the vocabulary will have the same embedding size. Let's put that hyper-parameter in a variable ``WORD_VEC_SIZE``:"
   ]
  },
  {
   "cell_type": "code",
   "execution_count": 4,
   "metadata": {},
   "outputs": [],
   "source": [
    "WORD_VEC_SIZE= 300 # size of word embedding"
   ]
  },
  {
   "cell_type": "markdown",
   "metadata": {},
   "source": [
    "We are now ready to call the ``Embedding`` class to construct an embeddings tensor:"
   ]
  },
  {
   "cell_type": "code",
   "execution_count": 5,
   "metadata": {},
   "outputs": [
    {
     "name": "stdout",
     "output_type": "stream",
     "text": [
      "size of the embedding lookup table =  torch.Size([100, 300])\n",
      "input (word indices) tensor = \n",
      " tensor([[ 1, 25, 40,  5],\n",
      "        [ 4, 25, 40, 99]])\n",
      "input (word indices) shape =  torch.Size([2, 4])\n"
     ]
    }
   ],
   "source": [
    "# Constructing an embedding Layer:\n",
    "embedding = nn.Embedding(VOCAB_SIZE, WORD_VEC_SIZE)\n",
    "print(\"size of the embedding lookup table = \", embedding.weight.data.size())\n",
    "\n",
    "# let's create a sample input (word indices) to the embedding layer \n",
    "sample_input = torch.LongTensor([ x_1, x_2 ])\n",
    "print(\"input (word indices) tensor = \\n\", sample_input)\n",
    "print(\"input (word indices) shape = \", sample_input.size())"
   ]
  },
  {
   "cell_type": "markdown",
   "metadata": {},
   "source": [
    "Let's pass the input to the embedding layer and print the word embeddings:"
   ]
  },
  {
   "cell_type": "code",
   "execution_count": 6,
   "metadata": {},
   "outputs": [
    {
     "name": "stdout",
     "output_type": "stream",
     "text": [
      "word embeddings tensor = \n",
      " tensor([[[-1.4794,  0.5242, -0.5602,  ...,  0.0264,  1.1529,  0.8443],\n",
      "         [ 1.1809,  0.1756,  1.8149,  ..., -2.0318,  0.5361,  0.4319],\n",
      "         [-0.6343,  1.1779, -0.9972,  ...,  0.8599,  0.0704, -0.8904],\n",
      "         [-0.8283,  0.8134, -0.0235,  ..., -0.9876,  1.0467,  1.8062]],\n",
      "\n",
      "        [[-1.6660,  0.3354, -0.6301,  ...,  0.5751, -0.3870,  1.3113],\n",
      "         [ 1.1809,  0.1756,  1.8149,  ..., -2.0318,  0.5361,  0.4319],\n",
      "         [-0.6343,  1.1779, -0.9972,  ...,  0.8599,  0.0704, -0.8904],\n",
      "         [-0.5527, -0.9573,  0.6399,  ...,  0.4502, -1.1763, -0.3061]]],\n",
      "       grad_fn=<EmbeddingBackward>)\n"
     ]
    }
   ],
   "source": [
    "# let's pass the input to the embedding layer\n",
    "word_embeddings = embedding(sample_input)\n",
    "print(\"word embeddings tensor = \\n\", word_embeddings)"
   ]
  },
  {
   "cell_type": "markdown",
   "metadata": {},
   "source": [
    "Let's print the shape of this tensor:"
   ]
  },
  {
   "cell_type": "code",
   "execution_count": 7,
   "metadata": {},
   "outputs": [
    {
     "name": "stdout",
     "output_type": "stream",
     "text": [
      "word embeddings shape =  torch.Size([2, 4, 300])\n"
     ]
    }
   ],
   "source": [
    "print(\"word embeddings shape = \", word_embeddings.size())"
   ]
  },
  {
   "cell_type": "markdown",
   "metadata": {},
   "source": [
    "Each dimension can be interpreted as:\n",
    "- **First dimension:** (**2**,4,300): We have ``2 examples`` (that is, our ``x_1`` and ``x_2``). (Note: We will be passing a whole batch to the ``Embedding`` class and so this first dimension will be equal to the ``batch size``.\n",
    "- **Second dimension:** (2,**4**,300): For each of the two examples, we have a ``max sequence length`` = 4 (x_1 and x_2 each had 4 indexes).\n",
    "- **Third dimension:** (2,4,**300**): The ``word vector dimension`` is set to 300."
   ]
  },
  {
   "cell_type": "markdown",
   "metadata": {},
   "source": [
    "### Max sequence length: Another note"
   ]
  },
  {
   "cell_type": "markdown",
   "metadata": {},
   "source": [
    "Recall from above we mentioned Pytorch automatically infers the max sequence length for each batch. \n",
    "For the example above (as you can see from the second dimension returned by ``word_embeddings.size()``, Pytorch \n",
    "inferred the max seq length for this batch of two sentences is 4.\n",
    "\n",
    "Let's just adjust the second example, **adding two more words** (the string \"and kind\"). Note, both our ``VOCAB_SIZE`` and ``WORD_VEC_SIZE`` stay the same as before. We assign the word \"and\" an index of \"7\" and the word \"considerate\" an index of \"60\". Note that we have to pad the first example ``x_1`` with zeros (we will explicitly set the padding index to zero later when we define the embedding layer) in the end. (Try removing the zero padding. What do you observe when you run your code with the ``Embedding`` class? Hint: You will get an error.):"
   ]
  },
  {
   "cell_type": "code",
   "execution_count": 8,
   "metadata": {},
   "outputs": [],
   "source": [
    "x_1 = \"He is very nice\"\n",
    "x_2 = \"She is very kind and considerate\"\n",
    "x_1 = [1, 25, 40, 5, 0, 0]\n",
    "x_2 = [4, 25, 40, 99, 7, 60]"
   ]
  },
  {
   "cell_type": "markdown",
   "metadata": {},
   "source": [
    "Now, let's create a new ``embedding`` layer by creating a new instance of the ``Embedding`` class:"
   ]
  },
  {
   "cell_type": "code",
   "execution_count": 9,
   "metadata": {},
   "outputs": [
    {
     "name": "stdout",
     "output_type": "stream",
     "text": [
      "size of the embedding lookup table =  torch.Size([100, 300])\n"
     ]
    }
   ],
   "source": [
    "# constructing an embedding layer:\n",
    "padded_embedding = nn.Embedding(VOCAB_SIZE, WORD_VEC_SIZE, padding_idx=0)\n",
    "print(\"size of the embedding lookup table = \", padded_embedding.weight.data.size())"
   ]
  },
  {
   "cell_type": "markdown",
   "metadata": {},
   "source": [
    "Note that **padded_embedding** embedding layer specifies the padding index (corresponds to an embedding initialized to all zeros). In this example, the zeroth index is dedicated for storing padding embedding (vector initialized to all zeros).\n",
    "\n",
    "Let's create sample input and pass it to the embedding layer."
   ]
  },
  {
   "cell_type": "code",
   "execution_count": 10,
   "metadata": {},
   "outputs": [
    {
     "name": "stdout",
     "output_type": "stream",
     "text": [
      "input (word indices) tensor = \n",
      " tensor([[ 1, 25, 40,  5,  0,  0],\n",
      "        [ 4, 25, 40, 99,  7, 60]])\n",
      "input (word indices) shape =  torch.Size([2, 6])\n",
      "tensor([[[-0.5004,  0.9239, -0.6118,  ..., -0.9092,  0.4120, -0.7557],\n",
      "         [ 0.3794,  1.2665,  0.1735,  ..., -0.3775,  0.9527,  1.2001],\n",
      "         [ 0.1258,  0.5405,  1.5662,  ...,  2.1145, -0.2391, -0.6658],\n",
      "         [-0.6517, -1.2042,  0.5681,  ..., -0.7632,  0.6558, -0.2225],\n",
      "         [ 0.0000,  0.0000,  0.0000,  ...,  0.0000,  0.0000,  0.0000],\n",
      "         [ 0.0000,  0.0000,  0.0000,  ...,  0.0000,  0.0000,  0.0000]],\n",
      "\n",
      "        [[ 0.4150, -1.2002,  0.7716,  ...,  0.8013, -0.9393, -0.9619],\n",
      "         [ 0.3794,  1.2665,  0.1735,  ..., -0.3775,  0.9527,  1.2001],\n",
      "         [ 0.1258,  0.5405,  1.5662,  ...,  2.1145, -0.2391, -0.6658],\n",
      "         [ 0.3857, -0.4078,  1.8435,  ...,  1.1123,  0.1531,  0.2773],\n",
      "         [-1.4032,  0.1954, -0.4481,  ..., -2.6965, -0.8870,  0.4884],\n",
      "         [ 0.7842, -0.0111, -0.0226,  ..., -2.0103,  0.6040,  0.3474]]],\n",
      "       grad_fn=<EmbeddingBackward>)\n"
     ]
    }
   ],
   "source": [
    "# let's create a sample input\n",
    "sample_input = torch.LongTensor([ x_1, x_2 ])\n",
    "print(\"input (word indices) tensor = \\n\", sample_input)\n",
    "print(\"input (word indices) shape = \", sample_input.size())\n",
    "\n",
    "# let's retrieve the word embeddings by passing the sample input to the layer\n",
    "word_embeddings = padded_embedding(sample_input)\n",
    "print(word_embeddings)"
   ]
  },
  {
   "cell_type": "markdown",
   "metadata": {},
   "source": [
    "If we inspect the shape of the new tensor ``word_embeddings``, we will see the second dimension now changed to 6, to match the max sequence length:"
   ]
  },
  {
   "cell_type": "code",
   "execution_count": 11,
   "metadata": {},
   "outputs": [
    {
     "name": "stdout",
     "output_type": "stream",
     "text": [
      "torch.Size([2, 6, 300])\n"
     ]
    }
   ],
   "source": [
    "print(word_embeddings.size())"
   ]
  },
  {
   "cell_type": "markdown",
   "metadata": {},
   "source": [
    "### How does Pytorch initialize word vector dimensions/weights?"
   ]
  },
  {
   "cell_type": "markdown",
   "metadata": {},
   "source": [
    "Note that Pytorch initializes the word vectors from a **normal distribution** $ \\mathcal{N}(0, 1) $. The word embedding weights are by default learnable parameters in Pytorch and so they will be adjusted during training. (Note: These weights can be initialized from an external word embedding tool such as [Word2vec](https://code.google.com/archive/p/word2vec/), [Fasttext](https://fasttext.cc/), or [Glove](https://nlp.stanford.edu/projects/glove/)). Also, the weights can be frozen (by setting ``embedding.weigh.required_grad`` flag to False), which is a reasonable option when initialized from an external tool. You can choose to keep learning them within the model with your training data). Below we show the ones initialized from a normal distribution by Pytorch."
   ]
  },
  {
   "cell_type": "code",
   "execution_count": 12,
   "metadata": {},
   "outputs": [
    {
     "data": {
      "text/plain": [
       "Parameter containing:\n",
       "tensor([[-0.2830, -1.4411,  0.1739,  ...,  0.4240,  1.3940, -0.4202],\n",
       "        [-1.4794,  0.5242, -0.5602,  ...,  0.0264,  1.1529,  0.8443],\n",
       "        [-0.8896, -0.9088,  0.2788,  ..., -0.6619,  1.5904,  1.2453],\n",
       "        ...,\n",
       "        [-1.1109,  0.8306,  0.4016,  ...,  0.4766,  0.7434, -0.8761],\n",
       "        [ 0.0929, -2.2243,  0.7805,  ..., -0.5394, -0.2756,  1.4593],\n",
       "        [-0.5527, -0.9573,  0.6399,  ...,  0.4502, -1.1763, -0.3061]],\n",
       "       requires_grad=True)"
      ]
     },
     "execution_count": 12,
     "metadata": {},
     "output_type": "execute_result"
    }
   ],
   "source": [
    "embedding.weight"
   ]
  },
  {
   "cell_type": "markdown",
   "metadata": {},
   "source": [
    "More information about the ``Embedding`` class can be found [here](https://pytorch.org/docs/stable/generated/torch.nn.Embedding.html) ([source code](https://pytorch.org/docs/stable/_modules/torch/nn/modules/sparse.html#Embedding))."
   ]
  },
  {
   "cell_type": "markdown",
   "metadata": {},
   "source": [
    "## Recurrent Neural Networks\n",
    "Recurrent Neural Networks (RNNs) are used to model sequences of arbitrary length (e.g., sequence of words in a sentence, sequence of sentences in a document, sequence of frames in a video). RNNs typically use their internal state (memory) to process sequence of inputs. At each time-step, RNNs output a prediction and hidden state, feeding its previous hidden state into each next step. RNNs are applied in a wide range of NLP applications:\n",
    "- language modeling, where RNN can condition on **all** previous words in the corpus unlike n-gram language model\n",
    "- text classification, where the states act as features (we will see sentiment analysis in this tutorial)\n",
    "- machine translation, where a RNN is used to process a sentence in source language and another RNN is used to decode the sentence in target language (we will see this in the \"Machine Translation\" course)\n",
    "- sequence labeling, where the states in RNN are used to predict a category for each item in the sequence \n",
    "\n",
    "Recommended reading for understanding the theory of RNNs: https://github.com/UBC-NLP/dlnlp2019/blob/master/slides/RNN.pdf \n"
   ]
  },
  {
   "cell_type": "markdown",
   "metadata": {},
   "source": [
    "### Grabbing few tweets using torchtext"
   ]
  },
  {
   "cell_type": "markdown",
   "metadata": {},
   "source": [
    "Let us follow **torchtext** tutorial (seen in Week1) to read few tweets from the [sentiment analysis dataset](http://alt.qcri.org/semeval2016/task4/) used in the previous tutorial on feedforward neural networks. The preprocessed (tokenization, removing URLs, mentions, hashtags and so on) tweets are placed under ``data/sentiment-twitter-2016-task4`` folder in three files as ``train.tsv``, ``dev.tsv`` and ``test.tsv``.  \n",
    "\n",
    "Let us view few tweets from ``train.tsv`` using pandas."
   ]
  },
  {
   "cell_type": "code",
   "execution_count": 13,
   "metadata": {},
   "outputs": [
    {
     "data": {
      "text/html": [
       "<div>\n",
       "<style scoped>\n",
       "    .dataframe tbody tr th:only-of-type {\n",
       "        vertical-align: middle;\n",
       "    }\n",
       "\n",
       "    .dataframe tbody tr th {\n",
       "        vertical-align: top;\n",
       "    }\n",
       "\n",
       "    .dataframe thead th {\n",
       "        text-align: right;\n",
       "    }\n",
       "</style>\n",
       "<table border=\"1\" class=\"dataframe\">\n",
       "  <thead>\n",
       "    <tr style=\"text-align: right;\">\n",
       "      <th></th>\n",
       "      <th>tweet</th>\n",
       "      <th>label</th>\n",
       "    </tr>\n",
       "  </thead>\n",
       "  <tbody>\n",
       "    <tr>\n",
       "      <th>0</th>\n",
       "      <td>dear &lt;&lt;&lt;MENTION&gt;&gt;&gt; the newooffice for mac is g...</td>\n",
       "      <td>2</td>\n",
       "    </tr>\n",
       "    <tr>\n",
       "      <th>1</th>\n",
       "      <td>&lt;&lt;&lt;MENTION&gt;&gt;&gt; how about you make a system that...</td>\n",
       "      <td>2</td>\n",
       "    </tr>\n",
       "    <tr>\n",
       "      <th>2</th>\n",
       "      <td>i may be ignorant on this issue but should we ...</td>\n",
       "      <td>2</td>\n",
       "    </tr>\n",
       "    <tr>\n",
       "      <th>3</th>\n",
       "      <td>thanks to &lt;&lt;&lt;MENTION&gt;&gt;&gt; i just may be switchin...</td>\n",
       "      <td>2</td>\n",
       "    </tr>\n",
       "    <tr>\n",
       "      <th>4</th>\n",
       "      <td>if i make a game as a &lt;&lt;&lt;HASHTAG&gt;&gt;&gt; universal ...</td>\n",
       "      <td>0</td>\n",
       "    </tr>\n",
       "  </tbody>\n",
       "</table>\n",
       "</div>"
      ],
      "text/plain": [
       "                                               tweet  label\n",
       "0  dear <<<MENTION>>> the newooffice for mac is g...      2\n",
       "1  <<<MENTION>>> how about you make a system that...      2\n",
       "2  i may be ignorant on this issue but should we ...      2\n",
       "3  thanks to <<<MENTION>>> i just may be switchin...      2\n",
       "4  if i make a game as a <<<HASHTAG>>> universal ...      0"
      ]
     },
     "execution_count": 13,
     "metadata": {},
     "output_type": "execute_result"
    }
   ],
   "source": [
    "import pandas as pd\n",
    "df = pd.read_csv(\"./data/sentiment-twitter-2016-task4/train.tsv\", sep = '\\t', header=None, names=['tweet','label']) # the separator of tsv file is `\\t`\n",
    "df.head()"
   ]
  },
  {
   "cell_type": "markdown",
   "metadata": {},
   "source": [
    "**We import the relevant packages, define the tokenizer and TorchText's fields.**"
   ]
  },
  {
   "cell_type": "code",
   "execution_count": 14,
   "metadata": {},
   "outputs": [],
   "source": [
    "# import related packages\n",
    "import torchtext\n",
    "from torchtext.data import Field, LabelField\n",
    "from torchtext.data import TabularDataset\n",
    "\n",
    "# define the white space tokenizer to get tokens\n",
    "def tokenize_en(tweet):\n",
    "    \"\"\"\n",
    "    Tokenizes English tweet from a string into a list of strings (tokens)\n",
    "    \"\"\"\n",
    "    return tweet.strip().split()\n",
    "\n",
    "# define the TorchText's fields\n",
    "TEXT = Field(sequential=True, tokenize=tokenize_en, lower=True)\n",
    "LABEL = Field(sequential=False, unk_token = None)"
   ]
  },
  {
   "cell_type": "markdown",
   "metadata": {},
   "source": [
    "**To use the different splits (training, development and testing), we use `TabularDataset` class to load datasets.**"
   ]
  },
  {
   "cell_type": "code",
   "execution_count": 15,
   "metadata": {},
   "outputs": [],
   "source": [
    "train, val, test = TabularDataset.splits(\n",
    "    path=\"./data/sentiment-twitter-2016-task4/\", # the root directory where the data lies\n",
    "    train='train.tsv', validation=\"dev.tsv\", test=\"test.tsv\", # file names\n",
    "    format='tsv',\n",
    "    skip_header=False, # if your tsv file has a header, make sure to pass this to ensure it doesn't get proceesed as data!\n",
    "    fields=[('tweet', TEXT), ('label', LABEL)])"
   ]
  },
  {
   "cell_type": "markdown",
   "metadata": {},
   "source": [
    "**Build our vocabulary to map words to integers.**"
   ]
  },
  {
   "cell_type": "code",
   "execution_count": 16,
   "metadata": {},
   "outputs": [],
   "source": [
    "TEXT.build_vocab(train, min_freq=3) # builds vocabulary based on all the words that occur at least twice in the training set\n",
    "LABEL.build_vocab(train)"
   ]
  },
  {
   "cell_type": "markdown",
   "metadata": {},
   "source": [
    "**Initialize the iterators for the train, validation, and test data. Note that we set ``sort`` as `False` so as to not sort examples based on similar lengths which minimizes padding.**"
   ]
  },
  {
   "cell_type": "code",
   "execution_count": 17,
   "metadata": {},
   "outputs": [],
   "source": [
    "from torchtext.data import Iterator, BucketIterator\n",
    "\n",
    "train_iter, val_iter, test_iter = BucketIterator.splits(\n",
    " (train, val, test), # we pass in the datasets we want the iterator to draw data from\n",
    " batch_sizes=(4,64,64),\n",
    " sort_key=lambda x: len(x.tweet), \n",
    " sort=False,\n",
    "# A key to use for sorting examples in order to batch together examples with similar lengths and minimize padding. \n",
    " sort_within_batch=False\n",
    ")"
   ]
  },
  {
   "cell_type": "markdown",
   "metadata": {},
   "source": [
    "**Create a batch of four examples and print them**"
   ]
  },
  {
   "cell_type": "code",
   "execution_count": 18,
   "metadata": {},
   "outputs": [
    {
     "name": "stdout",
     "output_type": "stream",
     "text": [
      "processed tweets: \n",
      "0  sample: ['so', 'excited', 'for', 'the', '<<<hashtag>>>', 'keynote', 'tomorrow', 'i', 'need', 'a', '<unk>', 'gold', 'iphone', 'plus', 'in', 'my', 'life', 'and', \"they're\", '<unk>', 'to', 'announce', 'the', 'new', 'ipad', 'yay']  label: 0\n",
      "1  sample: ['<<<mention>>>', 'justin', 'may', '<unk>', 'hope', 'and', 'peace', 'be', 'with', 'u', 'pray', 'and', 'ask', 'god', 'for', 'his', '<unk>', 'and', 'help', 'u', 'with', 'selena', 'god', 'bless', '<pad>', '<pad>']  label: 0\n",
      "2  sample: ['<unk>', 'by', 'bentley', 'and', '<<<mention>>>', 'give', 'sun', '<<<digit>>>', '<unk>', '<unk>', 'but', 'sun', 'are', 'down', 'with', 'under', 'a', 'minute', 'left', '<<<hashtag>>>', '<pad>', '<pad>', '<pad>', '<pad>', '<pad>', '<pad>']  label: 1\n",
      "3  sample: ['am', 'and', \"we've\", 'got', 'us', 'open', '<unk>', '<unk>', 'debut', 'and', 'messi', 'just', 'scored', 'a', 'sick', 'goal', 'for', 'argentina', 'all', 'run', 'now', '<pad>', '<pad>', '<pad>', '<pad>', '<pad>']  label: 0\n"
     ]
    }
   ],
   "source": [
    "# create a single batch and terminate the loop\n",
    "for batch in train_iter:\n",
    "    tweets = batch.tweet\n",
    "    labels = batch.label\n",
    "    break  #we use first batch as an example.\n",
    "\n",
    "# print the four examples with padding and corresponding label\n",
    "print(\"processed tweets: \")\n",
    "for j in range(tweets.shape[1]): # sample loop\n",
    "    tokens = []\n",
    "    for i in range(tweets.shape[0]): # token loop\n",
    "        tokens.append(TEXT.vocab.itos[tweets[i,j]])\n",
    "    print(j,\" sample:\",tokens,\" label:\", labels[j].item())"
   ]
  },
  {
   "cell_type": "markdown",
   "metadata": {},
   "source": [
    "**Now we set ``sort`` as `True` so as to sort examples based on similar lengths which minimizes padding.**\n",
    "\n",
    "**Let us initialize the new iterators for the train, validation, and test data.**"
   ]
  },
  {
   "cell_type": "code",
   "execution_count": 19,
   "metadata": {},
   "outputs": [],
   "source": [
    "train_iter, val_iter, test_iter = BucketIterator.splits(\n",
    " (train, val, test), # we pass in the datasets we want the iterator to draw data from\n",
    " batch_sizes=(4,64,64),\n",
    " sort_key=lambda x: len(x.tweet), \n",
    " sort=True,\n",
    "# A key to use for sorting examples in order to batch together examples with similar lengths and minimize padding. \n",
    " sort_within_batch=True\n",
    ")"
   ]
  },
  {
   "cell_type": "markdown",
   "metadata": {},
   "source": [
    "**Let us pick up 4 tweets from the training set and convert them to tensors.**\n",
    "\n",
    "**Create a batch of four examples and print them**"
   ]
  },
  {
   "cell_type": "code",
   "execution_count": 20,
   "metadata": {},
   "outputs": [
    {
     "name": "stdout",
     "output_type": "stream",
     "text": [
      "processed tweets: \n",
      "0  sample: ['ihop', 'is', 'the', 'move', 'tomorrow']  label: 0\n",
      "1  sample: ['<<<mention>>>', 'make', 'david', 'beckham', 'tomorrow']  label: 1\n",
      "2  sample: ['bringing', 'the', 'bentley', 'out', 'tomorrow']  label: 0\n",
      "3  sample: ['new', '<unk>', 'with', 'bentley', 'tomorrow']  label: 0\n"
     ]
    }
   ],
   "source": [
    "# create a single batch and terminate the loop\n",
    "for batch in train_iter:\n",
    "    tweets = batch.tweet\n",
    "    labels = batch.label\n",
    "    break  #we use first batch as an example.\n",
    "\n",
    "# print the four examples with padding and corresponding label\n",
    "print(\"processed tweets: \")\n",
    "for j in range(tweets.shape[1]): # sample loop\n",
    "    tokens = []\n",
    "    for i in range(tweets.shape[0]): # token loop\n",
    "        tokens.append(TEXT.vocab.itos[tweets[i,j]])\n",
    "    print(j,\" sample:\",tokens,\" label:\", labels[j].item())"
   ]
  },
  {
   "cell_type": "code",
   "execution_count": null,
   "metadata": {},
   "outputs": [],
   "source": []
  },
  {
   "cell_type": "markdown",
   "metadata": {},
   "source": [
    "### Creating a single hidden layer RNN\n",
    "\n",
    "PyTorch has ``torch.nn.RNN`` module that implements the vanilla (Elman) RNN with *tanh* or *ReLU* non-linearity. The documentation for this module is [here](https://pytorch.org/docs/stable/generated/torch.nn.RNN.html?highlight=nn%20rnn#torch.nn.RNN). Let us use the sample batch of five examples created before to understand this module.\n",
    "\n",
    "In this tutorial, we will represent the input tweet using a sequence of word embeddings (for each word present in the tweet). We will use ``torch.nn.Embedding`` layer to store word vectors corresponding to words in the vocabulary.\n",
    "\n",
    "Before implementing the embedding module for our usecase, let us compute the size of the word vocabulary."
   ]
  },
  {
   "cell_type": "code",
   "execution_count": 21,
   "metadata": {},
   "outputs": [
    {
     "name": "stdout",
     "output_type": "stream",
     "text": [
      "3340\n"
     ]
    }
   ],
   "source": [
    "# print the size of the word vocabulary\n",
    "VOCAB_SIZE = len(TEXT.vocab.stoi)\n",
    "print(VOCAB_SIZE)"
   ]
  },
  {
   "cell_type": "markdown",
   "metadata": {},
   "source": [
    "We have 3338 unique words in the vocabulary."
   ]
  },
  {
   "cell_type": "markdown",
   "metadata": {},
   "source": [
    "Let us implement the embedding module (whose underlying weight matrix shape is (``vocabulary size`` $\\times$ ``word embedding size``) for our usecase:"
   ]
  },
  {
   "cell_type": "code",
   "execution_count": 22,
   "metadata": {},
   "outputs": [
    {
     "name": "stdout",
     "output_type": "stream",
     "text": [
      "lookup table shape =  torch.Size([3340, 300])\n"
     ]
    }
   ],
   "source": [
    "# set the word embedding size\n",
    "WORD_VEC_SIZE = 300\n",
    "\n",
    "# an Embedding module containing 300 dimensional tensor for each word in the vocabulary\n",
    "# Note, the parameters to Embedding class below are:\n",
    "# num_embeddings (int): size of the dictionary of embeddings\n",
    "# embedding_dim (int): the size of each embedding vector\n",
    "# For more details on Embedding class, see: https://github.com/pytorch/pytorch/blob/master/torch/nn/modules/sparse.py\n",
    "embedding = nn.Embedding(VOCAB_SIZE, WORD_VEC_SIZE, sparse=True)\n",
    "print(\"lookup table shape = \", embedding.weight.size())"
   ]
  },
  {
   "cell_type": "markdown",
   "metadata": {},
   "source": [
    "Let us now feed the tensors of our sample batch to the embedding module and extract the sequence of word embeddings for each tweet."
   ]
  },
  {
   "cell_type": "code",
   "execution_count": 23,
   "metadata": {},
   "outputs": [
    {
     "name": "stdout",
     "output_type": "stream",
     "text": [
      "************************************************** \n",
      " Word ids for the first batch (recall, it has 4 sentences, each column representing a sentence): \n",
      " tensor([[ 191,    4, 1273,   49],\n",
      "        [  14,   82,    2,    0],\n",
      "        [   2,   73,  215,   18],\n",
      "        [ 598,  145,   48,  215],\n",
      "        [  21,   21,   21,   21]]) \n",
      " **************************************************\n",
      "************************************************** \n",
      " Tweet input word embeddings size:  torch.Size([5, 4, 300]) \n",
      " **************************************************\n"
     ]
    }
   ],
   "source": [
    "# print tensor containing word ids for our batch\n",
    "print(\"*\"*50, \"\\n Word ids for the first batch (recall, it has 4 sentences, each column representing a sentence): \\n\", tweets.data, \"\\n\",\"*\"*50,)\n",
    "\n",
    "# feed the \"word ids\" tensor to the embedding module\n",
    "tweet_input_embeddings = embedding(tweets)\n",
    "\n",
    "# print the dimensions of the tweet_embeddings\n",
    "print(\"*\"*50, \"\\n Tweet input word embeddings size: \", tweet_input_embeddings.size(), \"\\n\",\"*\"*50,) \n",
    "# first dimension - sequence length: number of words per example (same across the whole batch, after padding) --> max_seq = 22\n",
    "# second dimension -  batch size / number of examples in the batch --> 4\n",
    "# third dimension - number of dimensions in the word vector"
   ]
  },
  {
   "cell_type": "markdown",
   "metadata": {},
   "source": [
    "  "
   ]
  },
  {
   "cell_type": "markdown",
   "metadata": {},
   "source": [
    "Let's actually view the actual word embeddings tensor for this batch:"
   ]
  },
  {
   "cell_type": "code",
   "execution_count": 24,
   "metadata": {},
   "outputs": [
    {
     "name": "stdout",
     "output_type": "stream",
     "text": [
      "************************************************** \n",
      " Embeddings for the first batch: \n",
      " tensor([[[ 0.5385,  0.7556, -0.4929,  ...,  1.2790,  1.1349, -1.0633],\n",
      "         [ 0.9626,  1.1386, -1.6099,  ...,  0.8599,  0.3132,  0.7182],\n",
      "         [ 2.0684, -0.2589, -1.1470,  ..., -1.3172, -1.3376, -0.7764],\n",
      "         [ 0.9476, -0.4411,  1.3967,  ..., -0.4662,  0.4784,  1.4103]],\n",
      "\n",
      "        [[ 0.9036, -0.9652, -0.7702,  ..., -2.3475, -0.2809,  0.0733],\n",
      "         [-0.1105,  0.2880, -1.2178,  ...,  0.3246, -2.0202,  0.7969],\n",
      "         [ 0.7590, -0.5209,  1.3411,  ..., -0.1689, -0.5798,  0.1761],\n",
      "         [ 0.3556,  1.0941,  0.6380,  ...,  0.5290,  0.6218,  0.9554]],\n",
      "\n",
      "        [[ 0.7590, -0.5209,  1.3411,  ..., -0.1689, -0.5798,  0.1761],\n",
      "         [-0.6250,  0.5069,  0.8434,  ...,  0.6387,  1.1991, -2.1581],\n",
      "         [-1.3691,  0.7309,  1.8077,  ...,  0.2375, -0.9304, -1.6421],\n",
      "         [-0.5951, -0.1479, -0.6206,  ...,  0.6295, -2.0994, -0.2921]],\n",
      "\n",
      "        [[ 0.0745, -1.0787, -0.8121,  ..., -0.2059, -0.4070,  0.6595],\n",
      "         [-0.5517, -0.2231,  0.1468,  ..., -1.8583,  1.1960, -0.4764],\n",
      "         [-0.4319,  1.0462, -2.1654,  ...,  0.5050,  0.5730,  1.3255],\n",
      "         [-1.3691,  0.7309,  1.8077,  ...,  0.2375, -0.9304, -1.6421]],\n",
      "\n",
      "        [[-1.0394, -0.5659,  0.0287,  ...,  0.0843, -0.1860, -2.3858],\n",
      "         [-1.0394, -0.5659,  0.0287,  ...,  0.0843, -0.1860, -2.3858],\n",
      "         [-1.0394, -0.5659,  0.0287,  ...,  0.0843, -0.1860, -2.3858],\n",
      "         [-1.0394, -0.5659,  0.0287,  ...,  0.0843, -0.1860, -2.3858]]],\n",
      "       grad_fn=<EmbeddingBackward>) \n",
      " **************************************************\n"
     ]
    }
   ],
   "source": [
    "print(\"*\"*50, \"\\n Embeddings for the first batch: \\n\", tweet_input_embeddings, \"\\n\",\"*\"*50,) "
   ]
  },
  {
   "cell_type": "markdown",
   "metadata": {},
   "source": [
    "What we are seeing is the actual word vectors representing each of the 4 sentences (i.e., whole batch).\n",
    "This is dimension 2 in ``tweet_input_embeddings``. "
   ]
  },
  {
   "cell_type": "code",
   "execution_count": 25,
   "metadata": {},
   "outputs": [
    {
     "data": {
      "text/plain": [
       "4"
      ]
     },
     "execution_count": 25,
     "metadata": {},
     "output_type": "execute_result"
    }
   ],
   "source": [
    "tweet_input_embeddings.size()[1]"
   ]
  },
  {
   "cell_type": "markdown",
   "metadata": {},
   "source": [
    "As mentioned, ``max_seq length`` for this batch is ``5``, which is dimension 1 (indexed as 0 in Pytorch, similar to Python) \n",
    "in ``tweet_input_embeddings``: "
   ]
  },
  {
   "cell_type": "code",
   "execution_count": 26,
   "metadata": {},
   "outputs": [
    {
     "data": {
      "text/plain": [
       "5"
      ]
     },
     "execution_count": 26,
     "metadata": {},
     "output_type": "execute_result"
    }
   ],
   "source": [
    "tweet_input_embeddings.size()[0]"
   ]
  },
  {
   "cell_type": "markdown",
   "metadata": {},
   "source": [
    "Now, dimension 3 in ``tweet_input_embeddings`` (indexed as 2) is the size of the word vectors:"
   ]
  },
  {
   "cell_type": "code",
   "execution_count": 27,
   "metadata": {},
   "outputs": [
    {
     "data": {
      "text/plain": [
       "300"
      ]
     },
     "execution_count": 27,
     "metadata": {},
     "output_type": "execute_result"
    }
   ],
   "source": [
    "tweet_input_embeddings.size()[2]"
   ]
  },
  {
   "cell_type": "markdown",
   "metadata": {},
   "source": [
    "Let's look at the vector for the ``first word`` in the ``first sentence`` in the batch:"
   ]
  },
  {
   "cell_type": "code",
   "execution_count": 28,
   "metadata": {},
   "outputs": [
    {
     "data": {
      "text/plain": [
       "torch.Size([1, 1, 300])"
      ]
     },
     "execution_count": 28,
     "metadata": {},
     "output_type": "execute_result"
    }
   ],
   "source": [
    "tweet_input_embeddings[:1, :1, :].shape"
   ]
  },
  {
   "cell_type": "code",
   "execution_count": 29,
   "metadata": {},
   "outputs": [
    {
     "data": {
      "text/plain": [
       "tensor([[[ 5.3845e-01,  7.5562e-01, -4.9289e-01,  1.8629e+00,  4.1364e-01,\n",
       "           1.1152e+00,  5.9147e-01,  5.8204e-01,  8.5681e-01,  8.2867e-01,\n",
       "          -1.0282e+00,  8.0033e-01,  1.4107e+00,  1.0171e-01, -2.2271e+00,\n",
       "          -6.8278e-01,  3.7711e-02,  1.2224e+00,  1.3683e+00,  4.0371e-01,\n",
       "           8.7098e-01, -1.1331e+00,  1.6563e+00, -4.4178e-01, -2.9878e-01,\n",
       "           1.1376e+00,  2.2021e+00, -7.0478e-02, -9.0444e-01, -7.0024e-01,\n",
       "           8.1448e-01, -2.6601e-01,  2.9562e+00,  1.0697e+00,  1.0741e+00,\n",
       "          -7.8450e-01, -6.6068e-03,  1.7156e-01, -1.4923e+00, -1.3636e+00,\n",
       "          -1.5668e-01,  7.5667e-02,  4.0712e-01,  2.0216e-01,  1.0723e-01,\n",
       "          -2.6096e-01,  1.7237e-01, -1.9439e-01,  5.6277e-01, -2.0628e+00,\n",
       "           5.8172e-01, -8.8438e-02, -1.3799e+00,  1.5135e+00,  1.0244e+00,\n",
       "          -7.7640e-01,  1.0052e+00, -3.7834e-01,  3.6360e-01,  6.9302e-01,\n",
       "           1.1076e+00,  8.2730e-01, -9.7480e-01, -1.4597e+00, -1.1024e+00,\n",
       "           1.5028e+00, -8.4408e-01,  2.3342e+00,  1.5862e+00, -4.8187e-01,\n",
       "           5.7977e-02,  1.0993e+00, -2.1448e+00, -2.2034e-01,  5.3060e-01,\n",
       "          -3.7522e-01,  5.8655e-01, -1.1504e+00,  4.6145e-01, -1.7863e+00,\n",
       "          -2.5507e+00,  4.1084e-01,  1.3086e+00, -2.7693e-01, -2.2218e-01,\n",
       "           6.8796e-01, -5.1376e-01,  4.8934e-01,  5.9667e-01,  1.8566e+00,\n",
       "          -1.6538e-01, -8.6936e-01,  8.5974e-01,  4.7682e-01, -6.0216e-01,\n",
       "           7.6530e-02,  1.7983e+00,  1.0627e+00,  1.2233e+00,  2.4668e+00,\n",
       "           2.7124e-02, -8.7592e-01,  6.6426e-02,  5.4378e-01, -1.3748e-01,\n",
       "          -5.4158e-01,  9.3558e-01, -9.2186e-01,  1.3711e-02, -7.2384e-01,\n",
       "           4.4092e-01, -4.5895e-01, -9.3001e-01,  9.3488e-01, -4.5286e-01,\n",
       "          -9.9794e-01,  1.2946e+00, -8.8399e-01, -1.8324e-01, -3.2660e-01,\n",
       "          -9.6767e-01,  2.2735e+00,  1.3596e+00,  9.0912e-01, -3.4136e-01,\n",
       "          -4.8854e-01, -2.0662e+00,  1.1238e+00,  1.3460e+00, -7.1045e-01,\n",
       "           4.9251e-01, -8.9522e-01, -7.2906e-01,  2.7289e-01, -9.8325e-01,\n",
       "          -2.5739e+00, -7.3047e-01,  6.2260e-01, -1.8226e+00,  2.2353e-01,\n",
       "          -3.6168e-01,  3.7822e-01,  5.7231e-03,  2.4757e-01,  4.2821e-01,\n",
       "           1.9157e-01,  1.6719e-01, -1.6676e+00,  2.6290e-02,  1.3800e+00,\n",
       "           1.0460e+00, -4.8884e-01,  1.0692e+00,  7.1571e-01,  7.8270e-01,\n",
       "          -1.2655e+00,  1.5906e+00,  7.1757e-01,  2.9637e-01, -5.1747e-02,\n",
       "           5.3886e-01, -3.3963e-02,  2.3094e-01,  1.3559e-01,  2.7036e-01,\n",
       "          -2.6281e-01, -2.9084e-01, -2.1523e+00, -1.0653e+00, -1.8239e-01,\n",
       "          -5.3781e-01, -6.8613e-01,  1.1945e+00,  4.2202e-01, -9.4824e-01,\n",
       "           3.2807e-01,  1.1187e+00, -1.3978e+00, -4.5721e-02,  4.8941e-01,\n",
       "          -1.1308e+00, -7.6644e-01, -1.2136e+00, -9.1189e-01, -1.5618e-01,\n",
       "           2.5505e-01, -7.7306e-01, -1.2510e+00, -7.1711e-01, -1.7493e+00,\n",
       "           1.4023e-01,  1.2771e-01,  1.3747e+00,  6.3464e-01, -1.5324e+00,\n",
       "          -7.8171e-01, -1.0352e+00,  1.2647e+00, -1.2858e+00,  1.3974e+00,\n",
       "          -4.6158e-03, -1.8182e-01,  1.5473e+00,  3.2652e-01, -7.5666e-01,\n",
       "          -3.5579e-01, -1.7625e-01,  1.2484e+00, -2.6938e-01, -8.2934e-01,\n",
       "           4.4593e-01,  3.7144e-01,  2.2799e-01,  1.7489e+00, -3.3942e-02,\n",
       "          -2.7327e+00,  7.5962e-01, -1.9785e-01,  9.1205e-01,  3.5974e-01,\n",
       "           8.9760e-01, -7.0927e-01, -1.1251e+00, -2.4510e-01,  3.0997e-01,\n",
       "           1.1931e+00,  1.1358e+00,  1.2273e-01, -2.9517e-04,  9.4130e-01,\n",
       "          -1.4388e-01, -2.1808e+00, -1.1350e+00,  8.8738e-01, -1.9674e-01,\n",
       "           4.5031e-01,  6.5781e-01,  4.8023e-01, -4.0433e-01, -1.5338e+00,\n",
       "           9.1101e-01, -7.6452e-02,  8.7080e-01, -5.8527e-01, -1.4242e+00,\n",
       "           1.8401e+00,  9.0398e-02,  2.2700e-01,  1.1186e+00, -6.9655e-01,\n",
       "           8.9277e-01, -9.4746e-01,  1.9960e+00,  5.9405e-01,  1.6771e-01,\n",
       "           7.7681e-01, -1.7501e+00,  8.9429e-01, -2.0162e+00,  1.5952e+00,\n",
       "           9.4493e-01,  5.0936e-01, -5.9629e-01, -2.4375e+00,  3.8438e-01,\n",
       "           6.9623e-01, -1.5215e+00,  1.2070e+00, -1.8667e+00, -2.5797e-01,\n",
       "          -1.9624e+00, -2.6072e-01,  2.4087e-01,  2.8267e-01,  6.3626e-01,\n",
       "           5.8381e-01,  1.2352e+00, -9.4372e-01,  1.4321e+00,  1.5810e+00,\n",
       "          -9.7740e-01,  1.8226e-01, -1.0788e+00,  5.0990e-01,  4.1319e-01,\n",
       "          -1.9961e+00,  3.0175e-01, -5.8024e-01, -3.8939e-01,  1.3077e+00,\n",
       "          -7.0717e-02,  9.1306e-02, -1.2462e+00, -7.0856e-01, -3.2978e-01,\n",
       "          -2.2908e-01, -6.7823e-02,  1.2790e+00,  1.1349e+00, -1.0633e+00]]],\n",
       "       grad_fn=<SliceBackward>)"
      ]
     },
     "execution_count": 29,
     "metadata": {},
     "output_type": "execute_result"
    }
   ],
   "source": [
    "tweet_input_embeddings[:1, :1, :]"
   ]
  },
  {
   "cell_type": "markdown",
   "metadata": {},
   "source": [
    "Let's look at the ``first 5 dimensions`` of that same ``first word`` of the ``first sentence``:"
   ]
  },
  {
   "cell_type": "code",
   "execution_count": 30,
   "metadata": {},
   "outputs": [
    {
     "data": {
      "text/plain": [
       "tensor([[[ 0.5385,  0.7556, -0.4929,  1.8629,  0.4136]]],\n",
       "       grad_fn=<SliceBackward>)"
      ]
     },
     "execution_count": 30,
     "metadata": {},
     "output_type": "execute_result"
    }
   ],
   "source": [
    "tweet_input_embeddings[:1, :1, :5]"
   ]
  },
  {
   "cell_type": "markdown",
   "metadata": {},
   "source": [
    "The following shows you the ``first 5 dimensions`` of the ``first word`` from ``each of the 4 sentences``"
   ]
  },
  {
   "cell_type": "code",
   "execution_count": 31,
   "metadata": {},
   "outputs": [
    {
     "data": {
      "text/plain": [
       "tensor([[[ 0.5385,  0.7556, -0.4929,  1.8629,  0.4136],\n",
       "         [ 0.9626,  1.1386, -1.6099,  1.8679, -0.0428],\n",
       "         [ 2.0684, -0.2589, -1.1470,  2.1952,  1.3469],\n",
       "         [ 0.9476, -0.4411,  1.3967, -1.7266,  1.9297]]],\n",
       "       grad_fn=<SliceBackward>)"
      ]
     },
     "execution_count": 31,
     "metadata": {},
     "output_type": "execute_result"
    }
   ],
   "source": [
    "tweet_input_embeddings[:1, :, :5]"
   ]
  },
  {
   "cell_type": "markdown",
   "metadata": {},
   "source": [
    "The following shows you the ``last 7 dimensions`` of the ``last word`` from ``the last sentence``. Enjoy!"
   ]
  },
  {
   "cell_type": "code",
   "execution_count": 32,
   "metadata": {},
   "outputs": [
    {
     "data": {
      "text/plain": [
       "tensor([[[-0.6419,  1.0358,  2.0734,  0.0489,  0.0843, -0.1860, -2.3858]]],\n",
       "       grad_fn=<SliceBackward>)"
      ]
     },
     "execution_count": 32,
     "metadata": {},
     "output_type": "execute_result"
    }
   ],
   "source": [
    "tweet_input_embeddings[-1:, -1:, -7:]"
   ]
  },
  {
   "cell_type": "code",
   "execution_count": null,
   "metadata": {},
   "outputs": [],
   "source": []
  },
  {
   "cell_type": "markdown",
   "metadata": {},
   "source": [
    "We will be passing the sequence of word embeddings for each sentence in the batch as input to the RNN. But let's now define an RNN module first:"
   ]
  },
  {
   "cell_type": "code",
   "execution_count": 33,
   "metadata": {},
   "outputs": [
    {
     "name": "stdout",
     "output_type": "stream",
     "text": [
      "RNN(300, 50)\n"
     ]
    }
   ],
   "source": [
    "\"\"\"\n",
    "define the RNN module\n",
    "\"\"\"\n",
    "# first input - number of dimensions for word vectors for a vector x (300, size of the word embedding)\n",
    "# second input - number of nodes in hidden state h_t (50, size of the hidden layer)\n",
    "# third input - number of recurrent layers (we set it to 1)\n",
    "rnn = nn.RNN(input_size=300, hidden_size=50, num_layers=1) # input_size, hidden_size, num_layers\n",
    "print(rnn)"
   ]
  },
  {
   "cell_type": "code",
   "execution_count": null,
   "metadata": {},
   "outputs": [],
   "source": []
  },
  {
   "cell_type": "markdown",
   "metadata": {},
   "source": [
    "We will now pass the ``tweet_input_embeddings`` (representations of words in our batch) to RNN. Before we do, we need to know RNN also *optionally* takes a parameter for the ``initial hidden state h0`` (that is, the hidden state we will input to the model before the forward propagation starts. If this vector is not explicitly specified, Pytorch will just initialize h0 to a tensor of zeros.)\n",
    "\n",
    "Let's construct an ``initial hidden state h0``. Note the shape of its tensor, and what each of the 3 parameters it takes mean."
   ]
  },
  {
   "cell_type": "code",
   "execution_count": 34,
   "metadata": {},
   "outputs": [
    {
     "name": "stdout",
     "output_type": "stream",
     "text": [
      "The shape as as expected:  torch.Size([1, 4, 50])\n"
     ]
    }
   ],
   "source": [
    "\"\"\"\n",
    "hidden layer at time-step 0 (h_0)\n",
    "\"\"\"\n",
    "# first dimension - number of RNN layers (1)\n",
    "# second dimension - number of examples/sentences in a batch\n",
    "# third dimension - number of nodes in hidden layer (50, size of the hidden layer, that we specified as hidden_size in RNN construction)\n",
    "h0 = torch.randn(1, 4, 50)\n",
    "print(\"The shape as as expected: \", h0.shape)"
   ]
  },
  {
   "cell_type": "code",
   "execution_count": null,
   "metadata": {},
   "outputs": [],
   "source": []
  },
  {
   "cell_type": "markdown",
   "metadata": {},
   "source": [
    "Let us feed both the hidden representation constructed above and tweet embeddings to our RNN model.\n",
    "We will get back two objects ``output`` and ``hn`` that we will need to understand."
   ]
  },
  {
   "cell_type": "code",
   "execution_count": 35,
   "metadata": {},
   "outputs": [],
   "source": [
    "\"\"\"\n",
    "forward propagation over the RNN model\n",
    "\"\"\"\n",
    "output, hn = rnn(tweet_input_embeddings, h0) # h0 is optional input, defaults to tensor of 0's of apprpriate size (num_layers, batch, hidden_size) when not provided"
   ]
  },
  {
   "cell_type": "code",
   "execution_count": null,
   "metadata": {},
   "outputs": [],
   "source": []
  },
  {
   "cell_type": "markdown",
   "metadata": {},
   "source": [
    "But what is ``output``? Well, let's inspect its shape first:"
   ]
  },
  {
   "cell_type": "code",
   "execution_count": 36,
   "metadata": {},
   "outputs": [
    {
     "name": "stdout",
     "output_type": "stream",
     "text": [
      "output size:  torch.Size([5, 4, 50])\n"
     ]
    }
   ],
   "source": [
    "# output = seq_len, batch, hidden_size (output features from last layer of RNN)\n",
    "print(\"output size: \", output.size())"
   ]
  },
  {
   "cell_type": "markdown",
   "metadata": {},
   "source": [
    "Here's what we need to know about ``output``:\n",
    "- The first dimension in the ``output`` tensor is the ``max_seq length`` (5). \n",
    "- The second dimension is ``batch_size`` (the number of examples/sentences in our batch = 4).\n",
    "- The third dimension is the ``size of nodes/units`` in our hidden layer (=50). \n",
    "\n",
    "What is the shape of hn (tensor containing the hidden state for t=max_seq_length) ?"
   ]
  },
  {
   "cell_type": "code",
   "execution_count": 37,
   "metadata": {},
   "outputs": [
    {
     "name": "stdout",
     "output_type": "stream",
     "text": [
      "last hidden state size:  torch.Size([1, 4, 50])\n"
     ]
    }
   ],
   "source": [
    "# h_n = num_layers, batch, hidden_size (hidden state for t=seq_len or hidden state at last timestep)\n",
    "print(\"last hidden state size: \", hn.size())"
   ]
  },
  {
   "cell_type": "markdown",
   "metadata": {},
   "source": [
    "Here's what we need to know about ``hn``:\n",
    "- ``hn`` is a tensor of shape (num_layers, batch_size, hidden_size / number of hidden layer nodes) containing the hidden state for the last ``time step`` \n",
    "(``t = max_seq_length``)."
   ]
  },
  {
   "cell_type": "markdown",
   "metadata": {},
   "source": [
    "You can take the output representation for a tweet after processing the last token (t=seq_len or last timestep) and call the resulting representation as the tweet representation that **\"summarizes\" the information present** in the tweet. This tweet representation can further be used for a useful task like tweet classification (we will try out sentiment analysis later in this tutorial) by adding a classification module on top of the tweet representation.\n",
    "\n",
    "Let us compute the final tweet representation:"
   ]
  },
  {
   "cell_type": "code",
   "execution_count": 38,
   "metadata": {},
   "outputs": [
    {
     "name": "stdout",
     "output_type": "stream",
     "text": [
      "tweet output embeddings size:  torch.Size([4, 50])\n"
     ]
    }
   ],
   "source": [
    "tweet_output_embeddings = output[-1,:,:] # -1 fetches the embeddings from the last timestep\n",
    "print(\"tweet output embeddings size: \", tweet_output_embeddings.size())\n",
    "# first dimension - number of tweets in the batch (4)\n",
    "# second dimension - number of features in hidden state h_t (50, size of the hidden layer)"
   ]
  },
  {
   "cell_type": "code",
   "execution_count": null,
   "metadata": {},
   "outputs": [],
   "source": []
  },
  {
   "cell_type": "markdown",
   "metadata": {},
   "source": [
    "## Multilayered RNN\n",
    "\n",
    "For some applications, we may need more than one hidden layer for RNN to model the information flow. Adding more layers requires fews changes.\n",
    "\n",
    "Firstly, we change the ``num_layers`` argument to reflect the number of layers we want during the RNN module definition (we will define two hidden layers)."
   ]
  },
  {
   "cell_type": "code",
   "execution_count": 39,
   "metadata": {},
   "outputs": [],
   "source": [
    "\"\"\"\n",
    "define the RNN module\n",
    "\"\"\"\n",
    "# first input - number of dimesnions for word vectors for a vector x (300, size of the word embedding)\n",
    "# second input - number of nodes in hidden layer (50, size of the hidden layer)\n",
    "# third input - number of recurrent layers (we set it to 2)\n",
    "rnn = nn.RNN(input_size=300, hidden_size=50, num_layers=2) # input_size, hidden_size, num_layers"
   ]
  },
  {
   "cell_type": "markdown",
   "metadata": {},
   "source": [
    "Similar to single layered RNN, Multilayered RNN module takes two inputs: the ``initial hidden state h0`` for each element in the batch (at ``time step t=0``) and the ``input features`` (``tweet_input_embeddings`` in our case).\n",
    "\n",
    "Let us construct the new initial hidden state for a 2 layered RNN."
   ]
  },
  {
   "cell_type": "code",
   "execution_count": 40,
   "metadata": {},
   "outputs": [
    {
     "name": "stdout",
     "output_type": "stream",
     "text": [
      "The shape as as expected:  torch.Size([2, 4, 50])\n"
     ]
    }
   ],
   "source": [
    "\"\"\"\n",
    "hidden layer at time-step 0 (h_0)\n",
    "\"\"\"\n",
    "# first dimension - number of RNN layers (2)\n",
    "# second dimension - number of examples/sentences in a batch (4)\n",
    "# third dimension - number of nodes in hidden layer (50, size of the hidden layer)\n",
    "h0 = torch.randn(2, 4, 50)\n",
    "print(\"The shape as as expected: \", h0.shape)"
   ]
  },
  {
   "cell_type": "markdown",
   "metadata": {},
   "source": [
    "Let us feed both the hidden representation constructed above and tweet embeddings to our RNN model."
   ]
  },
  {
   "cell_type": "code",
   "execution_count": 41,
   "metadata": {},
   "outputs": [
    {
     "name": "stdout",
     "output_type": "stream",
     "text": [
      "torch.Size([5, 4, 300])\n"
     ]
    }
   ],
   "source": [
    "\"\"\"\n",
    "forward propagation over the RNN model\n",
    "\"\"\"\n",
    "print(tweet_input_embeddings.shape)\n",
    "output, hn = rnn(tweet_input_embeddings, h0) # h0 is optional input, defaults to tensor of 0's when not provided"
   ]
  },
  {
   "cell_type": "markdown",
   "metadata": {},
   "source": [
    "``output`` tensor contains the output features $h_t$ from the last layer of the RNN"
   ]
  },
  {
   "cell_type": "code",
   "execution_count": 42,
   "metadata": {},
   "outputs": [
    {
     "name": "stdout",
     "output_type": "stream",
     "text": [
      "output size:  torch.Size([5, 4, 50])\n"
     ]
    }
   ],
   "source": [
    "# output = seq_len, batch, hidden_size (output features from last layer of RNN)\n",
    "print(\"output size: \", output.size())"
   ]
  },
  {
   "cell_type": "markdown",
   "metadata": {},
   "source": [
    "``hn`` is a tensor of shape (num_layers, batch_size, hidden_size / number of nodes in a hidden layer) containing the hidden state for last time step ``t = max_seq_len`` for the ``2 layered RNN``."
   ]
  },
  {
   "cell_type": "code",
   "execution_count": 43,
   "metadata": {},
   "outputs": [
    {
     "name": "stdout",
     "output_type": "stream",
     "text": [
      "last hidden state size:  torch.Size([2, 4, 50])\n"
     ]
    }
   ],
   "source": [
    "# h_n = num_layers, batch, hidden_size (hidden state for t=seq_len or hidden state at last timestep)\n",
    "print(\"last hidden state size: \", hn.size())"
   ]
  },
  {
   "cell_type": "markdown",
   "metadata": {},
   "source": [
    "#### Building tweet representation\n",
    "\n",
    "Actually, `output` is tensor containing the output features (h_t) from the last layer of the RNN, for each t. Namely, `output` returns all the hidden states of all time steps from the last layer of the RNN. Hence, the last element of `output` is `h_n`. \n",
    "Let us print them out:"
   ]
  },
  {
   "cell_type": "code",
   "execution_count": 44,
   "metadata": {},
   "outputs": [
    {
     "name": "stdout",
     "output_type": "stream",
     "text": [
      "last element of output:\n",
      " tensor([[-0.3379,  0.4483,  0.4455, -0.6047,  0.4192,  0.3089,  0.0558, -0.5619,\n",
      "          0.4104, -0.5452,  0.4979,  0.0761,  0.6188,  0.4763,  0.0790,  0.5990,\n",
      "          0.1380, -0.2028,  0.2430, -0.1486,  0.4941,  0.2312,  0.1392,  0.2522,\n",
      "         -0.4637,  0.2234, -0.2302, -0.3183,  0.6782,  0.7442, -0.4402, -0.1214,\n",
      "          0.2908, -0.5187,  0.2236, -0.5208, -0.2031, -0.3647, -0.6016,  0.1218,\n",
      "          0.6771, -0.5795, -0.1590,  0.2768, -0.2180,  0.2925,  0.8640, -0.1150,\n",
      "         -0.5439,  0.2079],\n",
      "        [-0.1013,  0.6060,  0.0105, -0.7715,  0.5782,  0.1428, -0.1635,  0.0837,\n",
      "          0.3611, -0.4153,  0.1322,  0.3744,  0.5633,  0.2513, -0.1926,  0.5702,\n",
      "          0.2492, -0.4293, -0.2437, -0.3322,  0.6616,  0.2270, -0.0022, -0.4377,\n",
      "         -0.5800,  0.0584, -0.1881,  0.0056,  0.6415,  0.6339, -0.1459,  0.1128,\n",
      "         -0.3153, -0.2574,  0.3195, -0.6792,  0.1787, -0.0263, -0.3517,  0.1899,\n",
      "          0.2256, -0.1013,  0.1472, -0.0246, -0.4060, -0.2548,  0.8063, -0.3613,\n",
      "         -0.3533,  0.6630],\n",
      "        [ 0.3311,  0.3383, -0.0106, -0.0660,  0.5552,  0.1231, -0.4841,  0.0712,\n",
      "          0.6251, -0.2825,  0.4703, -0.3324,  0.1848,  0.7482,  0.1086,  0.4868,\n",
      "          0.6042, -0.5339,  0.1665, -0.4128,  0.5673,  0.0064,  0.3033, -0.2663,\n",
      "         -0.4368,  0.1507, -0.1210,  0.0250,  0.4854,  0.5489,  0.0148,  0.0839,\n",
      "         -0.1416, -0.2975,  0.2980, -0.1893,  0.0683,  0.2313, -0.5281,  0.1972,\n",
      "          0.4490,  0.0498,  0.0250,  0.4722, -0.3171, -0.0627,  0.6903, -0.0423,\n",
      "         -0.3853,  0.6153],\n",
      "        [ 0.2091,  0.6493, -0.0416, -0.5946,  0.4373, -0.0725, -0.4900, -0.3452,\n",
      "          0.6805, -0.2754,  0.7370,  0.4980,  0.6279,  0.6248, -0.2019,  0.7564,\n",
      "          0.5061, -0.0580,  0.5850, -0.1156,  0.5879,  0.1027, -0.3768, -0.3361,\n",
      "         -0.2863,  0.2352,  0.0556,  0.3683,  0.6453,  0.6266, -0.1345,  0.0828,\n",
      "          0.3181, -0.3393,  0.3849, -0.7605,  0.1303,  0.0564, -0.6874,  0.0621,\n",
      "         -0.3507, -0.7908, -0.3770,  0.1414, -0.4083, -0.0325,  0.6374, -0.1540,\n",
      "         -0.4432,  0.3176]], grad_fn=<SelectBackward>)\n"
     ]
    }
   ],
   "source": [
    "print(\"last element of output:\\n\", output[-1])"
   ]
  },
  {
   "cell_type": "markdown",
   "metadata": {},
   "source": [
    "Then let us print out the last hidden state of last layer. \n",
    "Notice, we have two RNN layer, we only want to use the hidden state of last layer. \n",
    "You can find the these value are same as `output[-1]`."
   ]
  },
  {
   "cell_type": "code",
   "execution_count": 45,
   "metadata": {},
   "outputs": [
    {
     "name": "stdout",
     "output_type": "stream",
     "text": [
      "last hidden state h_n:\n",
      " tensor([[-0.3379,  0.4483,  0.4455, -0.6047,  0.4192,  0.3089,  0.0558, -0.5619,\n",
      "          0.4104, -0.5452,  0.4979,  0.0761,  0.6188,  0.4763,  0.0790,  0.5990,\n",
      "          0.1380, -0.2028,  0.2430, -0.1486,  0.4941,  0.2312,  0.1392,  0.2522,\n",
      "         -0.4637,  0.2234, -0.2302, -0.3183,  0.6782,  0.7442, -0.4402, -0.1214,\n",
      "          0.2908, -0.5187,  0.2236, -0.5208, -0.2031, -0.3647, -0.6016,  0.1218,\n",
      "          0.6771, -0.5795, -0.1590,  0.2768, -0.2180,  0.2925,  0.8640, -0.1150,\n",
      "         -0.5439,  0.2079],\n",
      "        [-0.1013,  0.6060,  0.0105, -0.7715,  0.5782,  0.1428, -0.1635,  0.0837,\n",
      "          0.3611, -0.4153,  0.1322,  0.3744,  0.5633,  0.2513, -0.1926,  0.5702,\n",
      "          0.2492, -0.4293, -0.2437, -0.3322,  0.6616,  0.2270, -0.0022, -0.4377,\n",
      "         -0.5800,  0.0584, -0.1881,  0.0056,  0.6415,  0.6339, -0.1459,  0.1128,\n",
      "         -0.3153, -0.2574,  0.3195, -0.6792,  0.1787, -0.0263, -0.3517,  0.1899,\n",
      "          0.2256, -0.1013,  0.1472, -0.0246, -0.4060, -0.2548,  0.8063, -0.3613,\n",
      "         -0.3533,  0.6630],\n",
      "        [ 0.3311,  0.3383, -0.0106, -0.0660,  0.5552,  0.1231, -0.4841,  0.0712,\n",
      "          0.6251, -0.2825,  0.4703, -0.3324,  0.1848,  0.7482,  0.1086,  0.4868,\n",
      "          0.6042, -0.5339,  0.1665, -0.4128,  0.5673,  0.0064,  0.3033, -0.2663,\n",
      "         -0.4368,  0.1507, -0.1210,  0.0250,  0.4854,  0.5489,  0.0148,  0.0839,\n",
      "         -0.1416, -0.2975,  0.2980, -0.1893,  0.0683,  0.2313, -0.5281,  0.1972,\n",
      "          0.4490,  0.0498,  0.0250,  0.4722, -0.3171, -0.0627,  0.6903, -0.0423,\n",
      "         -0.3853,  0.6153],\n",
      "        [ 0.2091,  0.6493, -0.0416, -0.5946,  0.4373, -0.0725, -0.4900, -0.3452,\n",
      "          0.6805, -0.2754,  0.7370,  0.4980,  0.6279,  0.6248, -0.2019,  0.7564,\n",
      "          0.5061, -0.0580,  0.5850, -0.1156,  0.5879,  0.1027, -0.3768, -0.3361,\n",
      "         -0.2863,  0.2352,  0.0556,  0.3683,  0.6453,  0.6266, -0.1345,  0.0828,\n",
      "          0.3181, -0.3393,  0.3849, -0.7605,  0.1303,  0.0564, -0.6874,  0.0621,\n",
      "         -0.3507, -0.7908, -0.3770,  0.1414, -0.4083, -0.0325,  0.6374, -0.1540,\n",
      "         -0.4432,  0.3176]], grad_fn=<SelectBackward>)\n"
     ]
    }
   ],
   "source": [
    "print(\"last hidden state h_n:\\n\", hn[-1])"
   ]
  },
  {
   "cell_type": "markdown",
   "metadata": {},
   "source": [
    "Let us compute the final tweet representation:"
   ]
  },
  {
   "cell_type": "code",
   "execution_count": 46,
   "metadata": {},
   "outputs": [
    {
     "name": "stdout",
     "output_type": "stream",
     "text": [
      "tweet output embeddings size:  torch.Size([4, 50])\n"
     ]
    }
   ],
   "source": [
    "tweet_output_embeddings = output[-1,:,:] # -1 fetches the embeddings from the last timestep\n",
    "print(\"tweet output embeddings size: \", tweet_output_embeddings.size())\n",
    "# first dimension - number of tweets in the batch (4)\n",
    "# second dimension - number of features in hidden state h_t (50, size of the hidden layer)"
   ]
  },
  {
   "cell_type": "code",
   "execution_count": 47,
   "metadata": {},
   "outputs": [
    {
     "data": {
      "text/plain": [
       "tensor([[-0.3379,  0.4483,  0.4455, -0.6047,  0.4192,  0.3089,  0.0558, -0.5619,\n",
       "          0.4104, -0.5452,  0.4979,  0.0761,  0.6188,  0.4763,  0.0790,  0.5990,\n",
       "          0.1380, -0.2028,  0.2430, -0.1486,  0.4941,  0.2312,  0.1392,  0.2522,\n",
       "         -0.4637,  0.2234, -0.2302, -0.3183,  0.6782,  0.7442, -0.4402, -0.1214,\n",
       "          0.2908, -0.5187,  0.2236, -0.5208, -0.2031, -0.3647, -0.6016,  0.1218,\n",
       "          0.6771, -0.5795, -0.1590,  0.2768, -0.2180,  0.2925,  0.8640, -0.1150,\n",
       "         -0.5439,  0.2079],\n",
       "        [-0.1013,  0.6060,  0.0105, -0.7715,  0.5782,  0.1428, -0.1635,  0.0837,\n",
       "          0.3611, -0.4153,  0.1322,  0.3744,  0.5633,  0.2513, -0.1926,  0.5702,\n",
       "          0.2492, -0.4293, -0.2437, -0.3322,  0.6616,  0.2270, -0.0022, -0.4377,\n",
       "         -0.5800,  0.0584, -0.1881,  0.0056,  0.6415,  0.6339, -0.1459,  0.1128,\n",
       "         -0.3153, -0.2574,  0.3195, -0.6792,  0.1787, -0.0263, -0.3517,  0.1899,\n",
       "          0.2256, -0.1013,  0.1472, -0.0246, -0.4060, -0.2548,  0.8063, -0.3613,\n",
       "         -0.3533,  0.6630],\n",
       "        [ 0.3311,  0.3383, -0.0106, -0.0660,  0.5552,  0.1231, -0.4841,  0.0712,\n",
       "          0.6251, -0.2825,  0.4703, -0.3324,  0.1848,  0.7482,  0.1086,  0.4868,\n",
       "          0.6042, -0.5339,  0.1665, -0.4128,  0.5673,  0.0064,  0.3033, -0.2663,\n",
       "         -0.4368,  0.1507, -0.1210,  0.0250,  0.4854,  0.5489,  0.0148,  0.0839,\n",
       "         -0.1416, -0.2975,  0.2980, -0.1893,  0.0683,  0.2313, -0.5281,  0.1972,\n",
       "          0.4490,  0.0498,  0.0250,  0.4722, -0.3171, -0.0627,  0.6903, -0.0423,\n",
       "         -0.3853,  0.6153],\n",
       "        [ 0.2091,  0.6493, -0.0416, -0.5946,  0.4373, -0.0725, -0.4900, -0.3452,\n",
       "          0.6805, -0.2754,  0.7370,  0.4980,  0.6279,  0.6248, -0.2019,  0.7564,\n",
       "          0.5061, -0.0580,  0.5850, -0.1156,  0.5879,  0.1027, -0.3768, -0.3361,\n",
       "         -0.2863,  0.2352,  0.0556,  0.3683,  0.6453,  0.6266, -0.1345,  0.0828,\n",
       "          0.3181, -0.3393,  0.3849, -0.7605,  0.1303,  0.0564, -0.6874,  0.0621,\n",
       "         -0.3507, -0.7908, -0.3770,  0.1414, -0.4083, -0.0325,  0.6374, -0.1540,\n",
       "         -0.4432,  0.3176]], grad_fn=<SliceBackward>)"
      ]
     },
     "execution_count": 47,
     "metadata": {},
     "output_type": "execute_result"
    }
   ],
   "source": [
    "tweet_output_embeddings"
   ]
  },
  {
   "cell_type": "markdown",
   "metadata": {},
   "source": [
    "## RNN for Sentiment Analysis\n",
    "\n",
    "In this section we will implement RNN for classifying the sentiment of the tweet (same task used in our previous feedforward neural networks tutorial).\n",
    "\n",
    "We will pick up most of the functions from our feedforward neural networks code:"
   ]
  },
  {
   "cell_type": "code",
   "execution_count": 48,
   "metadata": {},
   "outputs": [],
   "source": [
    "# all the necessary imports\n",
    "import torch\n",
    "from torch.utils.data import Dataset, DataLoader\n",
    "import torch.nn as nn\n",
    "from torch import optim\n",
    "\n",
    "# set the seed (for reproducibility)\n",
    "manual_seed = 123\n",
    "torch.manual_seed(manual_seed)\n",
    "device = torch.device(\"cuda\" if torch.cuda.is_available() else \"cpu\")\n",
    "n_gpu = torch.cuda.device_count()\n",
    "if n_gpu > 0:\n",
    "  torch.cuda.manual_seed(manual_seed)\n",
    "\n",
    "# hyperparameters\n",
    "MAX_EPOCHS = 5 # number of passes over the training data\n",
    "LEARNING_RATE = 0.3 # learning rate for the weight update rule\n",
    "NUM_CLASSES = 3 # number of classes for the problem\n",
    "EMBEDDING_SIZE = 300 # size of the word embedding"
   ]
  },
  {
   "cell_type": "code",
   "execution_count": null,
   "metadata": {},
   "outputs": [],
   "source": []
  },
  {
   "cell_type": "markdown",
   "metadata": {},
   "source": [
    "Now we can define the full RNN model:"
   ]
  },
  {
   "cell_type": "code",
   "execution_count": 49,
   "metadata": {},
   "outputs": [],
   "source": [
    "\"\"\"\n",
    "create a model for RNN\n",
    "\"\"\"\n",
    "class RNNmodel(nn.Module):\n",
    "  \n",
    "  def __init__(self, embedding_size, vocab_size, output_size, hidden_size, num_layers):\n",
    "    # In the constructor we define the layers for our model\n",
    "    super(RNNmodel, self).__init__()\n",
    "    # word embedding lookup table\n",
    "    self.embedding = nn.Embedding(num_embeddings=vocab_size, embedding_dim=embedding_size, sparse=True)\n",
    "    # core RNN module\n",
    "    self.rnn_layer = nn.RNN(input_size=embedding_size, hidden_size=hidden_size, num_layers=num_layers) \n",
    "    # activation function\n",
    "    self.activation_fn = nn.ReLU()\n",
    "    # classification related modules\n",
    "    self.linear_layer = nn.Linear(hidden_size, output_size) \n",
    "    self.softmax_layer = nn.LogSoftmax(dim=1)\n",
    "    self.debug = False\n",
    "  \n",
    "  def forward(self, x):\n",
    "    # In the forward function we define the forward propagation logic\n",
    "    if self.debug:\n",
    "        print(\"input word indices shape = \", x.size())\n",
    "    out = self.embedding(x)\n",
    "    if self.debug:\n",
    "        print(\"word embeddings shape = \", out.size())\n",
    "    out, _ = self.rnn_layer(out) # since we are not feeding h_0 explicitly, h_0 will be initialized to zeros by default\n",
    "    if self.debug:\n",
    "        print(\"RNN output (features from last layer of RNN for all timesteps) shape = \", out.size())\n",
    "    # classify based on the hidden representation after RNN processes the last token\n",
    "    out = out[-1]\n",
    "    if self.debug:\n",
    "        print(\"Tweet embeddings or RNN output (features from last layer of RNN for the last timestep only) shape = \", out.size())\n",
    "    out = self.activation_fn(out)\n",
    "    if self.debug:\n",
    "        print(\"ReLU output shape = \", out.size())\n",
    "    out = self.linear_layer(out)\n",
    "    if self.debug:\n",
    "        print(\"linear layer output shape = \", out.size())\n",
    "    out = self.softmax_layer(out) # accepts 2D or more dimensional inputs\n",
    "    if self.debug:\n",
    "        print(\"softmax layer output shape = \", out.size())\n",
    "    return out"
   ]
  },
  {
   "cell_type": "code",
   "execution_count": null,
   "metadata": {},
   "outputs": [],
   "source": []
  },
  {
   "cell_type": "markdown",
   "metadata": {},
   "source": [
    "Some additional hyperparameters for RNN"
   ]
  },
  {
   "cell_type": "code",
   "execution_count": 50,
   "metadata": {},
   "outputs": [],
   "source": [
    "# hyperparameters of RNN\n",
    "HIDDEN_SIZE = 50 # no. of units in the hidden layer\n",
    "NUM_LAYERS = 2 # no. of hidden layers"
   ]
  },
  {
   "cell_type": "code",
   "execution_count": null,
   "metadata": {},
   "outputs": [],
   "source": []
  },
  {
   "cell_type": "markdown",
   "metadata": {},
   "source": [
    "Rest of the pipeline looks similar to our feedforward neural networks code (except that we are using **torchtext** instead of **DataLoader**):"
   ]
  },
  {
   "cell_type": "code",
   "execution_count": 51,
   "metadata": {},
   "outputs": [],
   "source": [
    "from sklearn.metrics import accuracy_score\n",
    "\n",
    "def train(loader):\n",
    "    total_loss = 0.0\n",
    "    # iterate throught the data loader\n",
    "    num_sample = 0\n",
    "    for batch in loader:\n",
    "        # load the current batch\n",
    "        batch_input = batch.tweet\n",
    "        batch_output = batch.label\n",
    "        \n",
    "        batch_input = batch_input.to(device)\n",
    "        batch_output = batch_output.to(device)\n",
    "        # forward propagation\n",
    "        # pass the data through the model\n",
    "        model_outputs = model(batch_input)\n",
    "        # compute the loss\n",
    "        cur_loss = criterion(model_outputs, batch_output)\n",
    "        total_loss += cur_loss.item()\n",
    "\n",
    "        # backward propagation (compute the gradients and update the model)\n",
    "        # clear the buffer\n",
    "        optimizer.zero_grad()\n",
    "        # compute the gradients\n",
    "        cur_loss.backward()\n",
    "        # update the weights\n",
    "        optimizer.step()\n",
    "\n",
    "        num_sample += batch_output.shape[0]\n",
    "    return total_loss/num_sample\n",
    "\n",
    "# evaluation logic based on classification accuracy\n",
    "def evaluate(loader):\n",
    "    all_pred=[]\n",
    "    all_label = []\n",
    "    with torch.no_grad(): # impacts the autograd engine and deactivate it. reduces memory usage and speeds up computation\n",
    "        for batch in loader:\n",
    "             # load the current batch\n",
    "            batch_input = batch.tweet\n",
    "            batch_output = batch.label\n",
    "\n",
    "            batch_input = batch_input.to(device)\n",
    "            # forward propagation\n",
    "            # pass the data through the model\n",
    "            model_outputs = model(batch_input)\n",
    "            # identify the predicted class for each example in the batch\n",
    "            probabilities, predicted = torch.max(model_outputs.cpu().data, 1)\n",
    "            # put all the true labels and predictions to two lists\n",
    "            all_pred.extend(predicted)\n",
    "            all_label.extend(batch_output)\n",
    "            \n",
    "    accuracy = accuracy_score(all_label, all_pred)\n",
    "    return accuracy"
   ]
  },
  {
   "cell_type": "code",
   "execution_count": null,
   "metadata": {},
   "outputs": [],
   "source": []
  },
  {
   "cell_type": "markdown",
   "metadata": {},
   "source": [
    "Let us define the RNN model."
   ]
  },
  {
   "cell_type": "code",
   "execution_count": 52,
   "metadata": {},
   "outputs": [],
   "source": [
    "# define the model\n",
    "model = RNNmodel(EMBEDDING_SIZE, VOCAB_SIZE, NUM_CLASSES, HIDDEN_SIZE, NUM_LAYERS) \n",
    "model.to(device) # ship it to the right device\n",
    "\n",
    "# define the loss function (last node of the graph)\n",
    "criterion = nn.NLLLoss()"
   ]
  },
  {
   "cell_type": "markdown",
   "metadata": {},
   "source": [
    "Let us make a full forward propagation pass over a sample input batch to the RNN model. Closely pay attention to the shapes of intermediate layers (by turning on debug mode of the model)"
   ]
  },
  {
   "cell_type": "code",
   "execution_count": 53,
   "metadata": {},
   "outputs": [
    {
     "name": "stdout",
     "output_type": "stream",
     "text": [
      "sample input =  tensor([[ 191,    4, 1273,   49],\n",
      "        [  14,   82,    2,    0],\n",
      "        [   2,   73,  215,   18],\n",
      "        [ 598,  145,   48,  215],\n",
      "        [  21,   21,   21,   21]])\n",
      "sample output =  tensor([0, 1, 0, 0])\n",
      "input word indices shape =  torch.Size([5, 4])\n",
      "word embeddings shape =  torch.Size([5, 4, 300])\n",
      "RNN output (features from last layer of RNN for all timesteps) shape =  torch.Size([5, 4, 50])\n",
      "Tweet embeddings or RNN output (features from last layer of RNN for the last timestep only) shape =  torch.Size([4, 50])\n",
      "ReLU output shape =  torch.Size([4, 50])\n",
      "linear layer output shape =  torch.Size([4, 3])\n",
      "softmax layer output shape =  torch.Size([4, 3])\n",
      "model prediction shape =  torch.Size([4, 3])\n",
      "loss =  1.1969224214553833\n"
     ]
    }
   ],
   "source": [
    "# turn on the debug mode\n",
    "model.debug = True\n",
    "\n",
    "# print the sample input batch and labels\n",
    "print(\"sample input = \", tweets)\n",
    "print(\"sample output = \", labels)\n",
    "\n",
    "# feed the batch as input to the RNN model\n",
    "model_prediction = model(tweets)\n",
    "print('model prediction shape = ', model_prediction.size())\n",
    "\n",
    "# feed the model prediction and labels to the loss function\n",
    "loss = criterion(model_prediction, labels)\n",
    "print(\"loss = \", loss.item())\n",
    "\n",
    "# turn off the debug mode (as we go for training from now)\n",
    "model.debug = False"
   ]
  },
  {
   "cell_type": "markdown",
   "metadata": {},
   "source": [
    "**We need to create a new directory 'ckpt/' to store our model checkpoint.**"
   ]
  },
  {
   "cell_type": "code",
   "execution_count": 54,
   "metadata": {},
   "outputs": [],
   "source": [
    "import os\n",
    "if not os.path.exists(\"./ckpt\"): # check if the directory doesn't exist already\n",
    "    os.mkdir(\"./ckpt\")"
   ]
  },
  {
   "cell_type": "markdown",
   "metadata": {},
   "source": [
    "**Let us perform the training. We will save our model and optimizer at end of each epoch.**\n",
    "\n",
    "\n",
    "You can find more information of saving and loading model [here](https://pytorch.org/tutorials/beginner/saving_loading_models.html)."
   ]
  },
  {
   "cell_type": "code",
   "execution_count": 55,
   "metadata": {},
   "outputs": [
    {
     "name": "stdout",
     "output_type": "stream",
     "text": [
      "Epoch [1/5], Loss: 0.2523, Training Accuracy: 0.5157, Validation Accuracy: 0.4217\n",
      "Epoch [2/5], Loss: 0.2521, Training Accuracy: 0.5160, Validation Accuracy: 0.4217\n",
      "Epoch [3/5], Loss: 0.2520, Training Accuracy: 0.5160, Validation Accuracy: 0.4217\n",
      "Epoch [4/5], Loss: 0.2515, Training Accuracy: 0.5148, Validation Accuracy: 0.4217\n",
      "Epoch [5/5], Loss: 0.2490, Training Accuracy: 0.5177, Validation Accuracy: 0.4212\n"
     ]
    }
   ],
   "source": [
    "# create an instance of SGD with required hyperparameters\n",
    "optimizer = torch.optim.SGD(model.parameters(), lr=LEARNING_RATE)\n",
    "\n",
    "# start the training\n",
    "for epoch in range(MAX_EPOCHS):\n",
    "    # train the model for one pass over the data\n",
    "    train_loss = train(train_iter)  \n",
    "    # compute the training accuracy\n",
    "    train_acc = evaluate(train_iter)\n",
    "    # compute the validation accuracy\n",
    "    val_acc = evaluate(val_iter)\n",
    "    \n",
    "    # print the loss for every epoch\n",
    "    print('Epoch [{}/{}], Loss: {:.4f}, Training Accuracy: {:.4f}, Validation Accuracy: {:.4f}'.format(epoch+1, MAX_EPOCHS, train_loss, train_acc, val_acc))\n",
    "    \n",
    "    # save model, optimizer, and number of epoch to a dictionary\n",
    "    model_save = {\n",
    "            'epoch': epoch,  # number of epoch\n",
    "            'model_state_dict': model.state_dict(), # model parameters \n",
    "            'optimizer_state_dict': optimizer.state_dict(), # save optimizer \n",
    "            'loss': train_loss # training loss\n",
    "            }\n",
    "    \n",
    "    # use torch.save to store \n",
    "    torch.save(model_save, \"./ckpt/model_{}.pt\".format(epoch))"
   ]
  },
  {
   "cell_type": "markdown",
   "metadata": {},
   "source": [
    "We trained the network only for 5 epochs, but it already overfits on validation set after epoch 2. \n",
    "In the coming sessions, we will look at methods to ``regularize`` the network (this will help us deal with overfitting)."
   ]
  },
  {
   "cell_type": "markdown",
   "metadata": {},
   "source": [
    "**Load model checkpoint** \n",
    "\n",
    "When we have a trained model checkpint, we can load it using `torch.load()`"
   ]
  },
  {
   "cell_type": "code",
   "execution_count": 56,
   "metadata": {},
   "outputs": [
    {
     "name": "stdout",
     "output_type": "stream",
     "text": [
      "RNNmodel(\n",
      "  (embedding): Embedding(3340, 300, sparse=True)\n",
      "  (rnn_layer): RNN(300, 50, num_layers=2)\n",
      "  (activation_fn): ReLU()\n",
      "  (linear_layer): Linear(in_features=50, out_features=3, bias=True)\n",
      "  (softmax_layer): LogSoftmax()\n",
      ")\n"
     ]
    }
   ],
   "source": [
    "# define a new model\n",
    "model2 = RNNmodel(EMBEDDING_SIZE, VOCAB_SIZE, NUM_CLASSES, HIDDEN_SIZE, NUM_LAYERS) \n",
    "\n",
    "# load checkpoint \n",
    "checkpoint = torch.load(\"./ckpt/model_1.pt\") # loading the model obatined after 2nd epoch\n",
    "\n",
    "# assign the parameters of checkpoint to this new model\n",
    "model2.load_state_dict(checkpoint['model_state_dict'])\n",
    "model2.to(device)\n",
    "\n",
    "print(model2) # can be used for inference or for further training"
   ]
  },
  {
   "cell_type": "markdown",
   "metadata": {},
   "source": [
    "## GRUs\n",
    "\n",
    "Gated Recurrent Units (GRUs) are a variant of RNNs that use more complex units for activation. They are created to have more persistent memory thereby making them easier for RNNs to capture long-term dependencies. To learn the theory behind GRUs, we recommend: https://github.com/UBC-NLP/dlnlp2019/blob/master/slides/RNN.pdf \n",
    "\n",
    "GRU is defined by ``torch.nn.GRU`` module and its documentation can be fetched [here](https://pytorch.org/docs/stable/generated/torch.nn.GRU.html#gru). Now let us define the GRU module."
   ]
  },
  {
   "cell_type": "code",
   "execution_count": 57,
   "metadata": {},
   "outputs": [],
   "source": [
    "\"\"\"\n",
    "define the GRU module\n",
    "\"\"\"\n",
    "# first input - number of word vector dimensions/embeddings\n",
    "# second input - number of nodes in hidden layer (50, size of the hidden layer)\n",
    "# third input - number of recurrent layers (2)\n",
    "gru_rnn = nn.GRU(input_size=300, hidden_size=50, num_layers=2) # input_size, hidden_size, num_layers"
   ]
  },
  {
   "cell_type": "markdown",
   "metadata": {},
   "source": [
    "Similar to RNN, GRU module takes two inputs: *the initial hidden state for each element in the batch* (t=0) and the *input features* (``tweet_input_embeddings`` in our case).\n",
    "\n",
    "Let us feed both the initial hidden state and tweet embeddings to our GRU model."
   ]
  },
  {
   "cell_type": "code",
   "execution_count": 58,
   "metadata": {},
   "outputs": [],
   "source": [
    "\"\"\"\n",
    "forward propagation over the GRU model\n",
    "\"\"\"\n",
    "output, hn = gru_rnn(tweet_input_embeddings, h0) # h0 is optional input, defaults to tensor of 0's when not provided"
   ]
  },
  {
   "cell_type": "code",
   "execution_count": null,
   "metadata": {},
   "outputs": [],
   "source": []
  },
  {
   "cell_type": "markdown",
   "metadata": {},
   "source": [
    "``output`` tensor contains the output features $h_t$ from the last layer of the GRU"
   ]
  },
  {
   "cell_type": "code",
   "execution_count": 59,
   "metadata": {},
   "outputs": [
    {
     "name": "stdout",
     "output_type": "stream",
     "text": [
      "output size:  torch.Size([5, 4, 50])\n"
     ]
    }
   ],
   "source": [
    "# output = seq_len, batch, hidden_size (output features from last layer of GRU)\n",
    "print(\"output size: \", output.size())"
   ]
  },
  {
   "cell_type": "markdown",
   "metadata": {},
   "source": [
    "``hn`` is a tensor of shape (num_layers, batch_size, hidden_size / number of nodes in a hidden layer) containing the hidden state for last time step ``t = max_seq_len`` for the ``2 layered RNN``."
   ]
  },
  {
   "cell_type": "code",
   "execution_count": 60,
   "metadata": {},
   "outputs": [
    {
     "name": "stdout",
     "output_type": "stream",
     "text": [
      "last hidden state size:  torch.Size([2, 4, 50])\n"
     ]
    }
   ],
   "source": [
    "# h_n = num_layers, batch, hidden_size (hidden state for t=seq_len or hidden state at last timestep)\n",
    "print(\"last hidden state size: \", hn.size())"
   ]
  },
  {
   "cell_type": "markdown",
   "metadata": {},
   "source": [
    "Similar to RNN, you can compute the final tweet representation (representation from last hidden state for each tweet) as follows."
   ]
  },
  {
   "cell_type": "code",
   "execution_count": 61,
   "metadata": {},
   "outputs": [
    {
     "name": "stdout",
     "output_type": "stream",
     "text": [
      "tweet output embeddings size:  torch.Size([4, 50])\n"
     ]
    }
   ],
   "source": [
    "tweet_output_embeddings = output[-1,:,:] # -1 fetches the embeddings from the last timestep\n",
    "print(\"tweet output embeddings size: \", tweet_output_embeddings.size())\n",
    "# first dimension - number of tweets in the batch (5)\n",
    "# second dimension - number of features in hidden state h_t (20, size of the hidden layer)"
   ]
  },
  {
   "cell_type": "markdown",
   "metadata": {},
   "source": [
    "## LSTMs\n",
    "\n",
    "Long short-term memory (LSTMs) are a variant of RNNs that use more complex units for activation. Similar to the spirit of GRU, they are created to have more persistent memory thereby making them easier for RNNs to capture long-term dependencies. To learn the theory behind GRUs, we recommend: https://github.com/UBC-NLP/dlnlp2019/blob/master/slides/RNN.pdf \n",
    "\n",
    "LSTM is defined by ``torch.nn.LSTM`` module and its documentation can be fetched [here](https://pytorch.org/docs/stable/generated/torch.nn.LSTM.html#lstm). Now let us define the LSTM module."
   ]
  },
  {
   "cell_type": "code",
   "execution_count": 62,
   "metadata": {},
   "outputs": [],
   "source": [
    "\"\"\"\n",
    "define the LSTM module\n",
    "\"\"\"\n",
    "# first input - number of features in x (300, size of the word embedding)\n",
    "# second input - number of number of nodes in a hidden layer (50)\n",
    "# third input - number of recurrent layers (2)\n",
    "lstm_rnn = nn.LSTM(input_size=300, hidden_size=50, num_layers=2) # input_size, hidden_size, num_layers"
   ]
  },
  {
   "cell_type": "markdown",
   "metadata": {},
   "source": [
    "Unlike RNN and GRU, LSTM module takes **three inputs**: the **initial hidden state** for each element in the batch (t=0), the **input features** (tweet_input_embeddings in our case) and the **initial cell state** for each element in the batch.\n",
    "\n",
    "Let us construct the initial cell state (this construction is similar to that of initial hidden state)"
   ]
  },
  {
   "cell_type": "code",
   "execution_count": 63,
   "metadata": {},
   "outputs": [],
   "source": [
    "\"\"\"\n",
    "cell state at time-step 0 (h_0)\n",
    "\"\"\"\n",
    "# first dimension - number of LSTM layers (2)\n",
    "# second dimension - batch_size (# of tweets/examples/sentences)\n",
    "# third dimension - hidden_size / number of nodes in a hidden layer (50)\n",
    "c0 = torch.randn(2, 4, 50)"
   ]
  },
  {
   "cell_type": "markdown",
   "metadata": {},
   "source": [
    "Let us feed the initial hidden state, initial cell state and tweet embeddings to our LSTM model."
   ]
  },
  {
   "cell_type": "code",
   "execution_count": 64,
   "metadata": {},
   "outputs": [],
   "source": [
    "\"\"\"\n",
    "forward propagation over the LSTM model\n",
    "\"\"\"\n",
    "output, (hn, cn) = lstm_rnn(tweet_input_embeddings, (h0, c0)) # h0 and c0 is optional input, defaults to tensor of 0's when not provided"
   ]
  },
  {
   "cell_type": "code",
   "execution_count": null,
   "metadata": {},
   "outputs": [],
   "source": []
  },
  {
   "cell_type": "markdown",
   "metadata": {},
   "source": [
    "``output`` tensor contains the output features $h_t$ from the last layer of the LSTM"
   ]
  },
  {
   "cell_type": "code",
   "execution_count": 65,
   "metadata": {},
   "outputs": [
    {
     "name": "stdout",
     "output_type": "stream",
     "text": [
      "output size:  torch.Size([5, 4, 50])\n"
     ]
    }
   ],
   "source": [
    "# output = seq_len, batch_size, hidden_size (output features from last layer of LSTM)\n",
    "print(\"output size: \", output.size())"
   ]
  },
  {
   "cell_type": "markdown",
   "metadata": {},
   "source": [
    "``hn`` is a tensor of shape (num_layers, batch, hidden_size) containing the hidden state for t = seq_len"
   ]
  },
  {
   "cell_type": "code",
   "execution_count": 66,
   "metadata": {},
   "outputs": [
    {
     "name": "stdout",
     "output_type": "stream",
     "text": [
      "last hidden state size:  torch.Size([2, 4, 50])\n"
     ]
    }
   ],
   "source": [
    "# h_n = num_layers, batch, hidden_size (hidden state for t=seq_len or hidden state at last timestep)\n",
    "print(\"last hidden state size: \", hn.size())"
   ]
  },
  {
   "cell_type": "markdown",
   "metadata": {},
   "source": [
    "``cn`` is a tensor of shape (num_layers, batch, hidden_size) containing the cell state for t = seq_len."
   ]
  },
  {
   "cell_type": "code",
   "execution_count": 67,
   "metadata": {},
   "outputs": [
    {
     "name": "stdout",
     "output_type": "stream",
     "text": [
      "last cell state size:  torch.Size([2, 4, 50])\n"
     ]
    }
   ],
   "source": [
    "# c_n = num_layers, batch_size, hidden_size (cell state for t=seq_len or cell state at last timestep)\n",
    "print(\"last cell state size: \", hn.size())"
   ]
  },
  {
   "cell_type": "markdown",
   "metadata": {},
   "source": [
    "Similar to RNN and GRU, you can compute the final tweet representation (representation from last hidden state for each tweet) as follows."
   ]
  },
  {
   "cell_type": "code",
   "execution_count": 68,
   "metadata": {},
   "outputs": [
    {
     "name": "stdout",
     "output_type": "stream",
     "text": [
      "tweet output embeddings size:  torch.Size([4, 50])\n"
     ]
    }
   ],
   "source": [
    "tweet_output_embeddings = output[-1,:,:] # -1 fetches the embeddings from the last timestep\n",
    "print(\"tweet output embeddings size: \", tweet_output_embeddings.size())\n",
    "# first dimension - number of tweets in the batch (4)\n",
    "# second dimension - number of features in hidden state h_t (50, size of the hidden layer)"
   ]
  },
  {
   "cell_type": "markdown",
   "metadata": {},
   "source": [
    "That's it!"
   ]
  },
  {
   "cell_type": "code",
   "execution_count": null,
   "metadata": {},
   "outputs": [],
   "source": []
  }
 ],
 "metadata": {
  "kernelspec": {
   "display_name": "Python 3",
   "language": "python",
   "name": "python3"
  },
  "language_info": {
   "codemirror_mode": {
    "name": "ipython",
    "version": 3
   },
   "file_extension": ".py",
   "mimetype": "text/x-python",
   "name": "python",
   "nbconvert_exporter": "python",
   "pygments_lexer": "ipython3",
   "version": "3.7.3"
  }
 },
 "nbformat": 4,
 "nbformat_minor": 4
}
