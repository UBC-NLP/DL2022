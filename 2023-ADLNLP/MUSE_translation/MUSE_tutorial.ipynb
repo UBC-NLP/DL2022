{
  "cells": [
    {
      "cell_type": "markdown",
      "metadata": {
        "id": "EMxb2Pq59KYZ"
      },
      "source": [
        "## MUSE - Machine Translation\n",
        "\n",
        "\n",
        "### Tutorial Topics\n",
        "- MUSE (cross lingual word embedding model) \n",
        "\n",
        "### Software Requirements\n",
        "- Python (>=3.6)\n",
        "- Jupyter (latest)"
      ]
    },
    {
      "cell_type": "markdown",
      "metadata": {
        "id": "v3baBIs69KYb"
      },
      "source": [
        "# [MUSE: Multilingual Unsupervised and Supervised Embeddings](https://research.fb.com/downloads/muse-multilingual-unsupervised-and-supervised-embeddings/)\n",
        "\n",
        "MUSE is a Python library for multilingual word embeddings, whose goal is to provide the community with:\n",
        "\n",
        "* state-of-the-art multilingual word embeddings based on [fastText](https://github.com/facebookresearch/fastText)\n",
        "* large-scale high-quality bilingual dictionaries for training and evaluation\n",
        "\n",
        "MUSE includes two methods, one `supervised` that uses a bilingual dictionary or identical character strings, and one `unsupervised` that does not use any parallel data (see paper [Word Translation without Parallel Data](https://arxiv.org/pdf/1710.04087.pdf) for more details)."
      ]
    },
    {
      "cell_type": "markdown",
      "metadata": {
        "id": "k5xr76MF9KYc"
      },
      "source": [
        "![](https://raw.githubusercontent.com/mt-upc/blog/main/assets/2e_MajorBreakthroughs_UnsupervisedNMT/cle.png?raw=true)"
      ]
    },
    {
      "cell_type": "markdown",
      "metadata": {
        "id": "To8r7mEa9KYc"
      },
      "source": [
        "You can align any bilingual word embeddings using MUSE package. You can explore the training process [here](https://github.com/facebookresearch/MUSE)."
      ]
    },
    {
      "cell_type": "markdown",
      "source": [
        "### 1. Training MUSE"
      ],
      "metadata": {
        "id": "S87FlwHVAEgr"
      }
    },
    {
      "cell_type": "markdown",
      "source": [
        "For training MUSE unsupervised models, you need to run the following setup cells, upload the europarl corpora you want to create alignments of, and run training code in the appropriate cells. \n",
        "\n",
        "NOTE SUGGEST RUNNING THIS IN GPU MODE (Runtime --> Change Runtime Type --> GPU) While Fasttext is CPU only, MUSE is very slow on CPU.\n",
        "\n",
        "Total time to train everything should be ~1.5 hrs on GPU. "
      ],
      "metadata": {
        "id": "6VJNNjjvATs-"
      }
    },
    {
      "cell_type": "code",
      "source": [
        "import torch"
      ],
      "metadata": {
        "id": "QVduW39nAPF4"
      },
      "execution_count": 18,
      "outputs": []
    },
    {
      "cell_type": "code",
      "source": [
        "!git clone https://github.com/facebookresearch/MUSE.git"
      ],
      "metadata": {
        "colab": {
          "base_uri": "https://localhost:8080/"
        },
        "id": "VXuxz2s5APo4",
        "outputId": "02e0cf8d-c961-4019-8019-27d52f93861b"
      },
      "execution_count": 19,
      "outputs": [
        {
          "output_type": "stream",
          "name": "stdout",
          "text": [
            "Cloning into 'MUSE'...\n",
            "remote: Enumerating objects: 239, done.\u001b[K\n",
            "remote: Total 239 (delta 0), reused 0 (delta 0), pack-reused 239\u001b[K\n",
            "Receiving objects: 100% (239/239), 215.77 KiB | 2.32 MiB/s, done.\n",
            "Resolving deltas: 100% (136/136), done.\n"
          ]
        }
      ]
    },
    {
      "cell_type": "markdown",
      "source": [
        "Download the evaluation data for MUSE\n",
        "\n",
        "Takes a few minutes to download\n",
        "\n",
        "[NOTE: We ran into some issues getting MUSE to correctly use the evaluation data. It should be possible to skip this cell (with no impact on training quality) if you follow the note about commenting a line in the evaluator.py file.]"
      ],
      "metadata": {
        "id": "ghWfZe1oB9NA"
      }
    },
    {
      "cell_type": "code",
      "source": [
        "!cd ./MUSE/data/; chmod +x get_evaluation.sh\n",
        "!cd ./MUSE/; ./data/get_evaluation.sh"
      ],
      "metadata": {
        "id": "BqeuWc5CB7Q8"
      },
      "execution_count": null,
      "outputs": []
    },
    {
      "cell_type": "code",
      "source": [
        "#get fasText \n",
        "! wget https://github.com/facebookresearch/fastText/archive/v0.9.2.zip\n",
        "! unzip v0.9.2.zip\n",
        "! cd fastText-0.9.2; make\n"
      ],
      "metadata": {
        "id": "u2BnxGhuB7UG"
      },
      "execution_count": null,
      "outputs": []
    },
    {
      "cell_type": "code",
      "source": [
        "#get europarl fr_en\n",
        "!wget https://www.statmt.org/europarl/v7/fr-en.tgz"
      ],
      "metadata": {
        "id": "CVEAvR8TB7WP"
      },
      "execution_count": null,
      "outputs": []
    },
    {
      "cell_type": "code",
      "source": [
        "#unpack\n",
        "!tar -xvzf fr-en.tgz"
      ],
      "metadata": {
        "id": "VoSCsYk_B7YM"
      },
      "execution_count": null,
      "outputs": []
    },
    {
      "cell_type": "markdown",
      "source": [
        "##### Run your training code:\n",
        "\n",
        "To run the training scripts you will need to prefix the command with a ! to run it as if it was a linux terminal.\n",
        "\n",
        "With the Europarl corpora we will build the fasText alignments  (see below). Once embeddings are created, we'll then feed them to MUSE. \n",
        "\n",
        "fastText does not need GPU to run and takes about 30 minutes each, you can run it in a CPU only notebook, save the files that are created (MUSE/en.vec MUSE/fr.vec) and then move them over to a GPU notebook for running MUSE, if you are concerned about your GPU quota.\n"
      ],
      "metadata": {
        "id": "BJcrOrdvCQvl"
      }
    },
    {
      "cell_type": "code",
      "source": [
        "### FastText Here \n",
        "!./fastText-0.9.2/fasttext skipgram -input europarl-v7.fr-en.en -output MUSE/en \n",
        "!./fastText-0.9.2/fasttext skipgram -input europarl-v7.fr-en.fr -output MUSE/fr\n"
      ],
      "metadata": {
        "id": "jzkG4DcLB7b2"
      },
      "execution_count": null,
      "outputs": []
    },
    {
      "cell_type": "code",
      "source": [
        "#https://github.com/facebookresearch/MUSE/blob/master/demo.ipynb\n",
        "import io\n",
        "import numpy as np\n",
        "\n",
        "def load_vec(emb_path, nmax=50000):\n",
        "    vectors = []\n",
        "    word2id = {}\n",
        "    with io.open(emb_path, 'r', encoding='utf-8', newline='\\n', errors='ignore') as f:\n",
        "        next(f)\n",
        "        for i, line in enumerate(f):\n",
        "            word, vect = line.rstrip().split(' ', 1)\n",
        "            vect = np.fromstring(vect, sep=' ')\n",
        "            assert word not in word2id, 'word found twice'\n",
        "            vectors.append(vect)\n",
        "            word2id[word] = len(word2id)\n",
        "            if len(word2id) == nmax:\n",
        "                break\n",
        "    id2word = {v: k for k, v in word2id.items()}\n",
        "    embeddings = np.vstack(vectors)\n",
        "    return embeddings, id2word, word2id\n",
        "\n",
        "## modified this to return a result list\n",
        "def get_nn(word, src_emb, src_id2word, tgt_emb, tgt_id2word, K=5):\n",
        "    print(\"Nearest neighbors of \\\"%s\\\":\" % word)\n",
        "    word2id = {v: k for k, v in src_id2word.items()}\n",
        "    word_emb = src_emb[word2id[word]]\n",
        "    scores = (tgt_emb / np.linalg.norm(tgt_emb, 2, 1)[:, None]).dot(word_emb / np.linalg.norm(word_emb))\n",
        "    k_best = scores.argsort()[-K:][::-1]\n",
        "    for i, idx in enumerate(k_best):\n",
        "        result.append((scores[idx], tgt_id2word[idx]))\n",
        "    return result"
      ],
      "metadata": {
        "id": "3MF6vRLwB7eW"
      },
      "execution_count": null,
      "outputs": []
    },
    {
      "cell_type": "code",
      "source": [
        "# load english and french word embeddings\n",
        "MUSE_PATH = \"MUSE\"\n",
        "en_embeddings, en_id2word, en_word2id = load_vec(MUSE_PATH + \"/en.vec\", nmax=50000)\n",
        "fr_embeddings, fr_id2word, fr_word2id = load_vec(MUSE_PATH + \"/fr.vec\", nmax=50000)"
      ],
      "metadata": {
        "id": "jFdsCA6GCcPc"
      },
      "execution_count": null,
      "outputs": []
    },
    {
      "cell_type": "markdown",
      "source": [
        "You can use the get_nn function as follows (where K is the number of results, feel free to increase)."
      ],
      "metadata": {
        "id": "aPFYx4D0Chc-"
      }
    },
    {
      "cell_type": "code",
      "source": [
        "# FAISS is a tool to speed training of some facebook models, this is how you can import it.\n",
        "!apt install libomp-dev\n",
        "!pip install faiss-gpu\n",
        "import faiss"
      ],
      "metadata": {
        "colab": {
          "base_uri": "https://localhost:8080/"
        },
        "id": "k5ri0kLrCgpU",
        "outputId": "7f6037f3-f609-40a3-b09a-9e3d52ac307b"
      },
      "execution_count": 26,
      "outputs": [
        {
          "output_type": "stream",
          "name": "stdout",
          "text": [
            "Reading package lists... Done\n",
            "Building dependency tree       \n",
            "Reading state information... Done\n",
            "libomp-dev is already the newest version (1:10.0-50~exp1).\n",
            "0 upgraded, 0 newly installed, 0 to remove and 23 not upgraded.\n",
            "Looking in indexes: https://pypi.org/simple, https://us-python.pkg.dev/colab-wheels/public/simple/\n",
            "Requirement already satisfied: faiss-gpu in /usr/local/lib/python3.9/dist-packages (1.7.2)\n"
          ]
        }
      ]
    },
    {
      "cell_type": "markdown",
      "source": [
        "Now we are going to run MUSE.\n",
        "Note: We found an issues with running the eval parts of the training, to get around this comment out line 217 in /MUSE/src/evaluation/evaluator.py:\n",
        " self.word_translation(to_log)\n",
        "\n",
        "#### Training time may take around 90 minutes on GPU, plan accordingly."
      ],
      "metadata": {
        "id": "XTwiSEcnC5db"
      }
    },
    {
      "cell_type": "code",
      "source": [
        "en_embeddings, en_id2word, en_word2id = load_vec(\"path/to/en_vectors.txt\", nmax=50000)\n",
        "fr_embeddings, fr_id2word, fr_word2id = load_vec(\"path/to/fr_vectors.txt\", nmax=50000)"
      ],
      "metadata": {
        "id": "c3FiOSHKCzww"
      },
      "execution_count": null,
      "outputs": []
    },
    {
      "cell_type": "markdown",
      "source": [
        "### 2. Use Trained MUSE"
      ],
      "metadata": {
        "id": "WnanaT4YDydh"
      }
    },
    {
      "cell_type": "markdown",
      "metadata": {
        "id": "8NTJkOM79KYc"
      },
      "source": [
        "MUSE released their fastText embeddings that have been aligned in a common space [here](https://github.com/facebookresearch/MUSE#download). Let us download [English](https://dl.fbaipublicfiles.com/arrival/vectors/wiki.multi.en.vec) and [Spanish](https://dl.fbaipublicfiles.com/arrival/vectors/wiki.multi.es.vec) word embeddings.\n",
        "\n",
        "In the rest of this tutorial, we will focus on loading these embeddings, identify words most similar to a given word in the same language and the other language."
      ]
    },
    {
      "cell_type": "code",
      "source": [
        "!wget https://dl.fbaipublicfiles.com/arrival/vectors/wiki.multi.en.vec\n",
        "!wget https://dl.fbaipublicfiles.com/arrival/vectors/wiki.multi.es.vec\n"
      ],
      "metadata": {
        "colab": {
          "base_uri": "https://localhost:8080/"
        },
        "id": "fBMjJRAS9Zet",
        "outputId": "76df887e-babb-46b7-8430-ce98cd8aada3"
      },
      "execution_count": 2,
      "outputs": [
        {
          "output_type": "stream",
          "name": "stdout",
          "text": [
            "--2023-03-18 13:44:16--  https://dl.fbaipublicfiles.com/arrival/vectors/wiki.multi.en.vec\n",
            "Resolving dl.fbaipublicfiles.com (dl.fbaipublicfiles.com)... 172.67.9.4, 104.22.74.142, 104.22.75.142, ...\n",
            "Connecting to dl.fbaipublicfiles.com (dl.fbaipublicfiles.com)|172.67.9.4|:443... connected.\n",
            "HTTP request sent, awaiting response... 200 OK\n",
            "Length: 628614720 (599M) [text/plain]\n",
            "Saving to: ‘wiki.multi.en.vec’\n",
            "\n",
            "wiki.multi.en.vec   100%[===================>] 599.49M  66.2MB/s    in 9.6s    \n",
            "\n",
            "2023-03-18 13:44:27 (62.8 MB/s) - ‘wiki.multi.en.vec’ saved [628614720/628614720]\n",
            "\n",
            "--2023-03-18 13:44:27--  https://dl.fbaipublicfiles.com/arrival/vectors/wiki.multi.es.vec\n",
            "Resolving dl.fbaipublicfiles.com (dl.fbaipublicfiles.com)... 172.67.9.4, 104.22.74.142, 104.22.75.142, ...\n",
            "Connecting to dl.fbaipublicfiles.com (dl.fbaipublicfiles.com)|172.67.9.4|:443... connected.\n",
            "HTTP request sent, awaiting response... 200 OK\n",
            "Length: 628826336 (600M) [text/plain]\n",
            "Saving to: ‘wiki.multi.es.vec’\n",
            "\n",
            "wiki.multi.es.vec   100%[===================>] 599.70M  63.3MB/s    in 9.7s    \n",
            "\n",
            "2023-03-18 13:44:37 (61.8 MB/s) - ‘wiki.multi.es.vec’ saved [628826336/628826336]\n",
            "\n"
          ]
        }
      ]
    },
    {
      "cell_type": "markdown",
      "metadata": {
        "id": "90Ldro_p9KYd"
      },
      "source": [
        "##### Required packages"
      ]
    },
    {
      "cell_type": "code",
      "execution_count": 3,
      "metadata": {
        "id": "cp6ZINqc9KYd"
      },
      "outputs": [],
      "source": [
        "import io\n",
        "import numpy as np\n",
        "from sklearn.decomposition import PCA\n",
        "import matplotlib.pyplot as plt"
      ]
    },
    {
      "cell_type": "markdown",
      "metadata": {
        "id": "vHKDTLEf9KYe"
      },
      "source": [
        "**Create a function that loads a word vector file into memory and returns word embeddings, identifier to word and word to identifier mapping**"
      ]
    },
    {
      "cell_type": "code",
      "execution_count": 4,
      "metadata": {
        "id": "MKZzJ62h9KYe"
      },
      "outputs": [],
      "source": [
        "def load_vec(emb_path, nmax=50000):\n",
        "    vectors = []\n",
        "    word2id = {}\n",
        "    with io.open(emb_path, 'r', encoding='utf-8', newline='\\n', errors='ignore') as f:\n",
        "        next(f) # skips the first line\n",
        "        for i, line in enumerate(f):\n",
        "            word, vect = line.rstrip().split(' ', 1)\n",
        "            vect = np.fromstring(vect, sep=' ')\n",
        "            assert word not in word2id, 'word found twice'\n",
        "            vectors.append(vect)\n",
        "            word2id[word] = len(word2id)\n",
        "            if len(word2id) == nmax:\n",
        "                break\n",
        "    id2word = {v: k for k, v in word2id.items()}\n",
        "    embeddings = np.vstack(vectors)\n",
        "    return embeddings, id2word, word2id"
      ]
    },
    {
      "cell_type": "markdown",
      "metadata": {
        "id": "xWJ3vc8s9KYe"
      },
      "source": [
        "Load both english and spanish word embeddings (max. $50K$ in each language):"
      ]
    },
    {
      "cell_type": "code",
      "execution_count": 5,
      "metadata": {
        "id": "j3tVrSOk9KYe"
      },
      "outputs": [],
      "source": [
        "src_path = './wiki.multi.en.vec'\n",
        "tgt_path = './wiki.multi.es.vec'\n",
        "nmax = 50000  # maximum number of word embeddings to load\n",
        "\n",
        "src_embeddings, src_id2word, src_word2id = load_vec(src_path, nmax)\n",
        "tgt_embeddings, tgt_id2word, tgt_word2id = load_vec(tgt_path, nmax)"
      ]
    },
    {
      "cell_type": "markdown",
      "metadata": {
        "id": "T31tVity9KYe"
      },
      "source": [
        "We can check the shapes of english and spanish embeddings:"
      ]
    },
    {
      "cell_type": "code",
      "execution_count": 6,
      "metadata": {
        "colab": {
          "base_uri": "https://localhost:8080/"
        },
        "id": "Nmuxw_Xi9KYf",
        "outputId": "cdadf4fe-bfe8-494a-b199-84d76f75ec10"
      },
      "outputs": [
        {
          "output_type": "stream",
          "name": "stdout",
          "text": [
            "Shape of English word embeddings =  (50000, 300)\n",
            "Shape of Spanish word embeddings =  (50000, 300)\n"
          ]
        }
      ],
      "source": [
        "print(\"Shape of English word embeddings = \", src_embeddings.shape)\n",
        "print(\"Shape of Spanish word embeddings = \", tgt_embeddings.shape)"
      ]
    },
    {
      "cell_type": "markdown",
      "metadata": {
        "id": "Wjnm-CaA9KYf"
      },
      "source": [
        "**We will use [cosine similarity](https://en.wikipedia.org/wiki/Cosine_similarity) to measure the similarity between two word embedding vectors. The formula of cos similarity is:**\n",
        "\n",
        "$similarity = cos(\\theta) = \\frac{A \\cdot B}{||A|| ||B||} = \\frac{\\sum_{i=1}^{d} A_iB_i}{\\sqrt{\\sum_{i=1}^{d} A^2_i}\\sqrt{\\sum_{i=1}^{d} B^2_i}}$"
      ]
    },
    {
      "cell_type": "markdown",
      "metadata": {
        "id": "2GFdcn6r9KYg"
      },
      "source": [
        "**Now, we assume A is the vector of `cat` in English and B is the vector of `dog` in English.**"
      ]
    },
    {
      "cell_type": "code",
      "execution_count": 7,
      "metadata": {
        "colab": {
          "base_uri": "https://localhost:8080/"
        },
        "id": "mD7axzDZ9KYg",
        "outputId": "9bdce8a8-d7a4-43da-f03c-1b150c4e4f6e"
      },
      "outputs": [
        {
          "output_type": "stream",
          "name": "stdout",
          "text": [
            "Shape of 'cat' word embedding =  (300,)\n",
            "Shape of 'dog' word embedding =  (300,)\n",
            "cosine similarity (cat, dog) =  0.638051699007895\n"
          ]
        }
      ],
      "source": [
        "A = src_embeddings[src_word2id['cat']] # word embedding of 'cat' in English word embedding space\n",
        "B = src_embeddings[src_word2id['dog']] # word embedding of 'dog' in English word embedding space\n",
        "print(\"Shape of 'cat' word embedding = \", A.shape)\n",
        "print(\"Shape of 'dog' word embedding = \", B.shape)\n",
        "cos_sim = np.dot(A, B) / np.linalg.norm(A) * np.linalg.norm(B)\n",
        "print(\"cosine similarity (cat, dog) = \",cos_sim)"
      ]
    },
    {
      "cell_type": "markdown",
      "metadata": {
        "id": "OJmJWxh19KYg"
      },
      "source": [
        "**Alternatively, we can use the `cosine_similarity` function from sklearn.**"
      ]
    },
    {
      "cell_type": "code",
      "execution_count": 8,
      "metadata": {
        "colab": {
          "base_uri": "https://localhost:8080/"
        },
        "id": "Cjgxf5AY9KYg",
        "outputId": "f1ec40aa-cea2-47b2-c313-0cb693bf6450"
      },
      "outputs": [
        {
          "output_type": "stream",
          "name": "stdout",
          "text": [
            "cosine similarity (cat, dog) =  [[0.63805158]]\n"
          ]
        }
      ],
      "source": [
        "from sklearn.metrics.pairwise import cosine_similarity\n",
        "#  the shape of A and B must be (n_samples_X, n_features). Hence we reshape the A and B vectors.\n",
        "print(\"cosine similarity (cat, dog) = \", cosine_similarity(A.reshape(1, -1), B.reshape(1, -1))) "
      ]
    },
    {
      "cell_type": "markdown",
      "metadata": {
        "id": "-H9f3RLB9KYg"
      },
      "source": [
        "**Let's print the 5 nearest neighbors of the word `cat` in English word embedding space.**"
      ]
    },
    {
      "cell_type": "code",
      "execution_count": 9,
      "metadata": {
        "colab": {
          "base_uri": "https://localhost:8080/"
        },
        "id": "ErMQKSJy9KYg",
        "outputId": "b64ff630-10ed-4af6-b685-e8a438e228e6"
      },
      "outputs": [
        {
          "output_type": "stream",
          "name": "stdout",
          "text": [
            "Similarity of word cat with all words in English vocabulary (shape) =  (50000, 1)\n",
            "Similarity of word cat with all words in English vocabulary (shape after removing extra dimension) =  (50000,)\n",
            "Word indices of five nearest neighbors of word cat =  [ 2570  4939 25570  2344 36108]\n",
            "Similarity - word (word id)\n",
            "1.0000 - cat (2570)\n",
            "0.7322 - cats (4939)\n",
            "0.6453 - kitten (25570)\n",
            "0.6381 - dog (2344)\n",
            "0.6218 - kittens (36108)\n"
          ]
        }
      ],
      "source": [
        "# get all similarity scores between cat and all the tokens in English vocabulary. \n",
        "all_scores = cosine_similarity(src_embeddings, A.reshape(1, -1))\n",
        "print(\"Similarity of word cat with all words in English vocabulary (shape) = \", all_scores.shape)\n",
        "\n",
        "# reshape (num_vocabulary, 1) to (num_vocabulary)\n",
        "all_scores = np.squeeze(all_scores,axis=1)\n",
        "print(\"Similarity of word cat with all words in English vocabulary (shape after removing extra dimension) = \", all_scores.shape)\n",
        "\n",
        "# get indices of the 5 nearest neighbors\n",
        "top5_ind = all_scores.argsort()[-5:][::-1]\n",
        "print(\"Word indices of five nearest neighbors of word cat = \", top5_ind)\n",
        "\n",
        "# convert the indices to actual tokens\n",
        "print(\"Similarity - word (word id)\")\n",
        "for i, idx in enumerate(top5_ind):\n",
        "    print('%.4f - %s (%d)' % (all_scores[idx], src_id2word[idx], idx))"
      ]
    },
    {
      "cell_type": "markdown",
      "metadata": {
        "id": "5T_swrRB9KYh"
      },
      "source": [
        "**Let's buid a function to get the $n$ nearest neighbors of given word.**"
      ]
    },
    {
      "cell_type": "code",
      "execution_count": 10,
      "metadata": {
        "id": "Vi8ydeRA9KYh"
      },
      "outputs": [],
      "source": [
        "def get_nn(word, src_emb, src_id2word, tgt_emb, tgt_id2word, K=5):\n",
        "    print(\"Nearest neighbors of \\\"%s\\\":\" % word)\n",
        "    # create to map word to index\n",
        "    word2id = {v: k for k, v in src_id2word.items()}\n",
        "    # get the word embedding of give word \n",
        "    word_emb = src_emb[word2id[word]]\n",
        "    # get all similarity scores between given word and all the tokens in target vocabulary. \n",
        "    scores = np.squeeze(cosine_similarity(tgt_emb, word_emb.reshape(1, -1)),axis=1)\n",
        "    # get indices of the n nearest neighbors\n",
        "    k_best = scores.argsort()[-K:][::-1]\n",
        "    # convert the indices to actual tokens\n",
        "    for i, idx in enumerate(k_best):\n",
        "        print('%.4f - %s' % (scores[idx], tgt_id2word[idx]))"
      ]
    },
    {
      "cell_type": "markdown",
      "metadata": {
        "id": "oPAlnVvK9KYh"
      },
      "source": [
        "**Let's print nearest neighbors of the English word *cat* in the English word embedding space again using *get_nn* function.**"
      ]
    },
    {
      "cell_type": "code",
      "execution_count": 11,
      "metadata": {
        "colab": {
          "base_uri": "https://localhost:8080/"
        },
        "id": "HM1iiyvs9KYh",
        "outputId": "c8c84f5f-f138-4f2f-fe25-c41191920cd4"
      },
      "outputs": [
        {
          "output_type": "stream",
          "name": "stdout",
          "text": [
            "Nearest neighbors of \"cat\":\n",
            "1.0000 - cat\n",
            "0.7322 - cats\n",
            "0.6453 - kitten\n",
            "0.6381 - dog\n",
            "0.6218 - kittens\n"
          ]
        }
      ],
      "source": [
        "# printing nearest neighbors in the source space (English), results will be identical to the previous query\n",
        "src_word = 'cat'\n",
        "get_nn(src_word, src_embeddings, src_id2word, src_embeddings, src_id2word, K=5)"
      ]
    },
    {
      "cell_type": "markdown",
      "metadata": {
        "id": "Pfa_Fd7W9KYh"
      },
      "source": [
        "**Let's print nearest neighbors of the English word *king* in the English word embedding space again using *get_nn* function.**"
      ]
    },
    {
      "cell_type": "code",
      "execution_count": 12,
      "metadata": {
        "colab": {
          "base_uri": "https://localhost:8080/"
        },
        "id": "QgyjYP_q9KYh",
        "outputId": "2d1011d2-4497-4467-ae57-34c1a3fe18a5"
      },
      "outputs": [
        {
          "output_type": "stream",
          "name": "stdout",
          "text": [
            "Nearest neighbors of \"king\":\n",
            "1.0000 - king\n",
            "0.6762 - kings\n",
            "0.6493 - queen\n",
            "0.6260 - monarch\n",
            "0.5978 - kingship\n"
          ]
        }
      ],
      "source": [
        "# printing nearest neighbors in the source space (English)\n",
        "src_word = 'king'\n",
        "get_nn(src_word, src_embeddings, src_id2word, src_embeddings, src_id2word, K=5)"
      ]
    },
    {
      "cell_type": "markdown",
      "metadata": {
        "id": "DcF8C4_w9KYi"
      },
      "source": [
        "**Let's print nearest neighbors of the English word *cat* in the Spanish word embedding space again using *get_nn* function.**\n",
        "\n",
        "Note that the fourth and fifth argument to the function should be Spanish identifier to word mapping and Spanish word embeddings respectively."
      ]
    },
    {
      "cell_type": "code",
      "execution_count": 13,
      "metadata": {
        "colab": {
          "base_uri": "https://localhost:8080/"
        },
        "id": "gC8hvnc29KYi",
        "outputId": "bfff12ae-6cc5-4614-cec0-7d45bcd005dc"
      },
      "outputs": [
        {
          "output_type": "stream",
          "name": "stdout",
          "text": [
            "Nearest neighbors of \"cat\":\n",
            "0.6165 - gato\n",
            "0.5401 - perro\n",
            "0.4849 - conejo\n",
            "0.4839 - gorila\n",
            "0.4746 - felino\n"
          ]
        }
      ],
      "source": [
        "# printing nearest neighbors of a word in source language (English) in the target space (Spanish)\n",
        "# if the quality of the embeddings is good, this query can provide the translation for the word in the target language\n",
        "src_word = 'cat'\n",
        "get_nn(src_word, src_embeddings, src_id2word, tgt_embeddings, tgt_id2word, K=5)"
      ]
    },
    {
      "cell_type": "markdown",
      "metadata": {
        "id": "PF67JKcK9KYi"
      },
      "source": [
        "**Let's print nearest neighbors of the English word *king* in the Spanish word embedding space again using *get_nn* function.**"
      ]
    },
    {
      "cell_type": "code",
      "execution_count": 14,
      "metadata": {
        "colab": {
          "base_uri": "https://localhost:8080/"
        },
        "id": "fEpPilL79KYi",
        "outputId": "15088f18-eb15-4750-db5f-487d838e77fa"
      },
      "outputs": [
        {
          "output_type": "stream",
          "name": "stdout",
          "text": [
            "Nearest neighbors of \"king\":\n",
            "0.8047 - rey\n",
            "0.6728 - monarca\n",
            "0.6187 - reina\n",
            "0.5814 - reinar\n",
            "0.5755 - reyes\n"
          ]
        }
      ],
      "source": [
        "# printing nearest neighbors in the target space (Spanish)\n",
        "src_word = 'king'\n",
        "get_nn(src_word, src_embeddings, src_id2word, tgt_embeddings, tgt_id2word, K=5)"
      ]
    },
    {
      "cell_type": "markdown",
      "metadata": {
        "id": "R3x9g_3D9KYi"
      },
      "source": [
        "### 3. Visualize multilingual embeddings\n",
        "\n",
        "In order to visualize the word embeddings in 2 dimensional space, we will use PCA to map word embeddings from 300 dimensions to 2 dimensions.\n",
        "\n",
        "Let's fit PCA on the concatenation of English and Spanish word embeddings."
      ]
    },
    {
      "cell_type": "code",
      "execution_count": 15,
      "metadata": {
        "colab": {
          "base_uri": "https://localhost:8080/"
        },
        "id": "xsX31Hmw9KYi",
        "outputId": "1de5d1e1-0127-4e93-bb28-3da8c5c0bb39"
      },
      "outputs": [
        {
          "output_type": "stream",
          "name": "stdout",
          "text": [
            "Variance explained: 0.06\n"
          ]
        }
      ],
      "source": [
        "from sklearn.decomposition import PCA\n",
        "# instantiate a PCA object which includes two components\n",
        "pca = PCA(n_components=2, whiten=True)\n",
        "# use PCA object on src_embeddings and tgt_embeddings\n",
        "pca.fit(np.vstack([src_embeddings, tgt_embeddings]))\n",
        "# how much variance of orignial embeddings (300 dimensions) is explained in PCA components (2 dimensions)?\n",
        "print('Variance explained: %.2f' % pca.explained_variance_ratio_.sum())"
      ]
    },
    {
      "cell_type": "markdown",
      "metadata": {
        "id": "2NI8APmy9KYj"
      },
      "source": [
        "**Let's use matplotlib machinery to build a function `plot_similar_word` that takes a list of English and Spanish words and plot them in a single multilingual word embedding space.**"
      ]
    },
    {
      "cell_type": "code",
      "execution_count": 16,
      "metadata": {
        "id": "x-1rixqx9KYj"
      },
      "outputs": [],
      "source": [
        "import matplotlib.pyplot as plt\n",
        "\n",
        "def plot_similar_word(src_words, src_word2id, src_emb, tgt_words, tgt_word2id, tgt_emb, pca):\n",
        "\n",
        "    Y = []\n",
        "    word_labels = []\n",
        "    for sw in src_words:\n",
        "        Y.append(src_emb[src_word2id[sw]])\n",
        "        word_labels.append(sw)\n",
        "    for tw in tgt_words:\n",
        "        Y.append(tgt_emb[tgt_word2id[tw]])\n",
        "        word_labels.append(tw)\n",
        "\n",
        "    # find tsne coords for 2 dimensions\n",
        "    Y = pca.transform(Y)\n",
        "    x_coords = Y[:, 0]\n",
        "    y_coords = Y[:, 1]\n",
        "\n",
        "    # display scatter plot\n",
        "    plt.figure(figsize=(10, 8), dpi=80)\n",
        "    plt.scatter(x_coords, y_coords, marker='x')\n",
        "\n",
        "    for k, (label, x, y) in enumerate(zip(word_labels, x_coords, y_coords)):\n",
        "        color = 'blue' if k < len(src_words) else 'red'  # src words in blue / tgt words in red\n",
        "        plt.annotate(label, xy=(x, y), xytext=(0, 0), textcoords='offset points', fontsize=19,\n",
        "                     color=color, weight='bold')\n",
        "\n",
        "    plt.xlim(x_coords.min() - 0.2, x_coords.max() + 0.2)\n",
        "    plt.ylim(y_coords.min() - 0.2, y_coords.max() + 0.2)\n",
        "    plt.title('Visualization of the multilingual word embedding space')\n",
        "\n",
        "    plt.show()"
      ]
    },
    {
      "cell_type": "markdown",
      "metadata": {
        "id": "iwDE3-F09KYj"
      },
      "source": [
        "Let's pick some sample English and Spanish words (that are present in our vocabulary) and call the *plot_similar_word* function to create the visualization of all the words in a single multilingual word embedding space."
      ]
    },
    {
      "cell_type": "code",
      "execution_count": 17,
      "metadata": {
        "colab": {
          "base_uri": "https://localhost:8080/",
          "height": 550
        },
        "id": "GgoX4ZNG9KYj",
        "outputId": "b2f90971-a2f7-4c64-c08b-e6095c2435ff"
      },
      "outputs": [
        {
          "output_type": "display_data",
          "data": {
            "text/plain": [
              "<Figure size 800x640 with 1 Axes>"
            ],
            "image/png": "[encoded data removed]"
          },
          "metadata": {
            "needs_background": "light"
          }
        }
      ],
      "source": [
        "# get 5 random input words\n",
        "src_words = ['university', 'love', 'cat', 'tennis', 'research', 'conference']\n",
        "tgt_words = ['universidad', 'amor', 'gato', u'tenis',  u'investigación', 'conferencia']\n",
        "\n",
        "# assert words in dictionaries\n",
        "for sw in src_words:\n",
        "    assert sw in src_word2id, '\"%s\" not in source dictionary' % sw\n",
        "for tw in tgt_words:\n",
        "    assert tw in tgt_word2id, '\"%s\" not in target dictionary' % sw\n",
        "\n",
        "plot_similar_word(src_words, src_word2id, src_embeddings, tgt_words, tgt_word2id, tgt_embeddings, pca)"
      ]
    },
    {
      "cell_type": "markdown",
      "source": [
        "### 4. Practice"
      ],
      "metadata": {
        "id": "lo81EXBcHST5"
      }
    },
    {
      "cell_type": "markdown",
      "source": [
        "4.1 Cosine Similarity\n",
        "\n",
        "Cosine similarity is used fairly frequently in NLP.\n",
        "\n",
        "$similarity = cos(\\theta) = \\frac{A \\cdot B}{||A|| ||B||} = \\frac{\\sum_{i=1}^{d} A_iB_i}{\\sqrt{\\sum_{i=1}^{d} A^2_i}\\sqrt{\\sum_{i=1}^{d} B^2_i}}$\n",
        "\n",
        "Using the following two tensors (of a dim=3 embedding) show **by hand** how you would calculate the cosine similarity between these two vectors.\n",
        "\n",
        "A = [ 0.1010, -1.1388, -0.7991]\n",
        "\n",
        "B = [ 0.5083, -0.2255,  1.9037]\n"
      ],
      "metadata": {
        "id": "e1BkprcLJ1eW"
      }
    },
    {
      "cell_type": "markdown",
      "source": [
        "[Answer Goes Here]"
      ],
      "metadata": {
        "id": "rUBsKjlOKu3g"
      }
    },
    {
      "cell_type": "markdown",
      "source": [
        "4.2 Plotting Aligned Embeddings\n",
        "\n",
        "For the following set of words: \"excessively\", \"Minutes\", \"citizens\", \"standards\", and \"disaster\" create a 2D diagram showing the words in vector space alongside their French closest 'equivalents'."
      ],
      "metadata": {
        "id": "fwJgB3A0J-1t"
      }
    },
    {
      "cell_type": "code",
      "source": [
        "# Answer Goes Here"
      ],
      "metadata": {
        "id": "UM4PuGUYKIaN"
      },
      "execution_count": null,
      "outputs": []
    },
    {
      "cell_type": "markdown",
      "source": [
        "4.3 Train MUSE from scratch\n",
        "\n",
        "Use the code in Section 1 to train MUSE from scratch."
      ],
      "metadata": {
        "id": "XvItHjZKKNAM"
      }
    },
    {
      "cell_type": "markdown",
      "metadata": {
        "id": "tIoORk909KYq"
      },
      "source": [
        "# Reference \n",
        "* https://medium.com/@weGotlieb/using-giza-for-bilingual-sentence-alignment-8b2dc828a04d\n",
        "* http://www.statmt.org/moses/?n=Moses.Baseline\n",
        "* https://www.aclweb.org/anthology/E99-1010/\n",
        "* http://masatohagiwara.net/using-giza-to-obtain-word-alignment-between-bilingual-sentences.html\n",
        "* https://okapiframework.org/wiki/index.php/GIZA%2B%2B_Installation_and_Running_Tutorial\n",
        "* https://www.ijert.org/research/word-alignment-using-giza-and-cygwin-on-windows-IJERTV2IS50775.pdf\n",
        "* https://github.com/facebookresearch/MUSE/blob/master/demo.ipynb"
      ]
    },
    {
      "cell_type": "code",
      "execution_count": null,
      "metadata": {
        "id": "YIb_lbsK9KYq"
      },
      "outputs": [],
      "source": []
    }
  ],
  "metadata": {
    "kernelspec": {
      "display_name": "Python 3",
      "language": "python",
      "name": "python3"
    },
    "language_info": {
      "codemirror_mode": {
        "name": "ipython",
        "version": 3
      },
      "file_extension": ".py",
      "mimetype": "text/x-python",
      "name": "python",
      "nbconvert_exporter": "python",
      "pygments_lexer": "ipython3",
      "version": "3.7.3"
    },
    "colab": {
      "provenance": []
    }
  },
  "nbformat": 4,
  "nbformat_minor": 0
}