{
  "nbformat": 4,
  "nbformat_minor": 0,
  "metadata": {
    "accelerator": "GPU",
    "colab": {
      "provenance": [],
      "toc_visible": true,
      "machine_shape": "hm"
    },
    "kernelspec": {
      "display_name": "Python 3",
      "name": "python3"
    },
    "widgets": {
      "application/vnd.jupyter.widget-state+json": {
        "b896566369e3403091e357af18648740": {
          "model_module": "@jupyter-widgets/controls",
          "model_name": "VBoxModel",
          "model_module_version": "1.5.0",
          "state": {
            "_dom_classes": [],
            "_model_module": "@jupyter-widgets/controls",
            "_model_module_version": "1.5.0",
            "_model_name": "VBoxModel",
            "_view_count": null,
            "_view_module": "@jupyter-widgets/controls",
            "_view_module_version": "1.5.0",
            "_view_name": "VBoxView",
            "box_style": "",
            "children": [
              "IPY_MODEL_26bf8a70fe5449a99ca1b06430b2fc8f",
              "IPY_MODEL_dd5d9b3f70ee4a0dabe18e87ab38145c",
              "IPY_MODEL_2d4eb3e5acc348948299c506db83ca90"
            ],
            "layout": "IPY_MODEL_384228b409cb4bb0bbd77ef259b9a568"
          }
        },
        "26bf8a70fe5449a99ca1b06430b2fc8f": {
          "model_module": "@jupyter-widgets/controls",
          "model_name": "HTMLModel",
          "model_module_version": "1.5.0",
          "state": {
            "_dom_classes": [],
            "_model_module": "@jupyter-widgets/controls",
            "_model_module_version": "1.5.0",
            "_model_name": "HTMLModel",
            "_view_count": null,
            "_view_module": "@jupyter-widgets/controls",
            "_view_module_version": "1.5.0",
            "_view_name": "HTMLView",
            "description": "",
            "description_tooltip": null,
            "layout": "IPY_MODEL_0c01a04a8a924740af301c5c53a51315",
            "placeholder": "​",
            "style": "IPY_MODEL_15f8964842df434ca0dee00d7dc1bd9a",
            "value": "<center>\n<img src=https://huggingface.co/front/assets/huggingface_logo-noborder.svg alt='Hugging Face'>\n<br>\n<b>The AI community building the future</b>\n<br>\nImmediately click login after typing your password or it might be stored in plain text in this notebook file.\n</center>"
          }
        },
        "dd5d9b3f70ee4a0dabe18e87ab38145c": {
          "model_module": "@jupyter-widgets/controls",
          "model_name": "HBoxModel",
          "model_module_version": "1.5.0",
          "state": {
            "_dom_classes": [],
            "_model_module": "@jupyter-widgets/controls",
            "_model_module_version": "1.5.0",
            "_model_name": "HBoxModel",
            "_view_count": null,
            "_view_module": "@jupyter-widgets/controls",
            "_view_module_version": "1.5.0",
            "_view_name": "HBoxView",
            "box_style": "",
            "children": [
              "IPY_MODEL_49f98244a8634be9b2305bb87731e765",
              "IPY_MODEL_a28d3e82e04646b79c89f93cf40ee596"
            ],
            "layout": "IPY_MODEL_4c3e043e600641538a479df6ad389784"
          }
        },
        "2d4eb3e5acc348948299c506db83ca90": {
          "model_module": "@jupyter-widgets/controls",
          "model_name": "ButtonModel",
          "model_module_version": "1.5.0",
          "state": {
            "_dom_classes": [],
            "_model_module": "@jupyter-widgets/controls",
            "_model_module_version": "1.5.0",
            "_model_name": "ButtonModel",
            "_view_count": null,
            "_view_module": "@jupyter-widgets/controls",
            "_view_module_version": "1.5.0",
            "_view_name": "ButtonView",
            "button_style": "",
            "description": "Login",
            "disabled": false,
            "icon": "",
            "layout": "IPY_MODEL_d11d94912b26401a860c80eba767907a",
            "style": "IPY_MODEL_6dd7aa6b17b34d18ba46d834ffd559bc",
            "tooltip": ""
          }
        },
        "384228b409cb4bb0bbd77ef259b9a568": {
          "model_module": "@jupyter-widgets/base",
          "model_name": "LayoutModel",
          "model_module_version": "1.2.0",
          "state": {
            "_model_module": "@jupyter-widgets/base",
            "_model_module_version": "1.2.0",
            "_model_name": "LayoutModel",
            "_view_count": null,
            "_view_module": "@jupyter-widgets/base",
            "_view_module_version": "1.2.0",
            "_view_name": "LayoutView",
            "align_content": null,
            "align_items": "center",
            "align_self": null,
            "border": null,
            "bottom": null,
            "display": "flex",
            "flex": null,
            "flex_flow": "column",
            "grid_area": null,
            "grid_auto_columns": null,
            "grid_auto_flow": null,
            "grid_auto_rows": null,
            "grid_column": null,
            "grid_gap": null,
            "grid_row": null,
            "grid_template_areas": null,
            "grid_template_columns": null,
            "grid_template_rows": null,
            "height": null,
            "justify_content": null,
            "justify_items": null,
            "left": null,
            "margin": null,
            "max_height": null,
            "max_width": null,
            "min_height": null,
            "min_width": null,
            "object_fit": null,
            "object_position": null,
            "order": null,
            "overflow": null,
            "overflow_x": null,
            "overflow_y": null,
            "padding": null,
            "right": null,
            "top": null,
            "visibility": null,
            "width": "50%"
          }
        },
        "0c01a04a8a924740af301c5c53a51315": {
          "model_module": "@jupyter-widgets/base",
          "model_name": "LayoutModel",
          "model_module_version": "1.2.0",
          "state": {
            "_model_module": "@jupyter-widgets/base",
            "_model_module_version": "1.2.0",
            "_model_name": "LayoutModel",
            "_view_count": null,
            "_view_module": "@jupyter-widgets/base",
            "_view_module_version": "1.2.0",
            "_view_name": "LayoutView",
            "align_content": null,
            "align_items": null,
            "align_self": null,
            "border": null,
            "bottom": null,
            "display": null,
            "flex": null,
            "flex_flow": null,
            "grid_area": null,
            "grid_auto_columns": null,
            "grid_auto_flow": null,
            "grid_auto_rows": null,
            "grid_column": null,
            "grid_gap": null,
            "grid_row": null,
            "grid_template_areas": null,
            "grid_template_columns": null,
            "grid_template_rows": null,
            "height": null,
            "justify_content": null,
            "justify_items": null,
            "left": null,
            "margin": null,
            "max_height": null,
            "max_width": null,
            "min_height": null,
            "min_width": null,
            "object_fit": null,
            "object_position": null,
            "order": null,
            "overflow": null,
            "overflow_x": null,
            "overflow_y": null,
            "padding": null,
            "right": null,
            "top": null,
            "visibility": null,
            "width": null
          }
        },
        "15f8964842df434ca0dee00d7dc1bd9a": {
          "model_module": "@jupyter-widgets/controls",
          "model_name": "DescriptionStyleModel",
          "model_module_version": "1.5.0",
          "state": {
            "_model_module": "@jupyter-widgets/controls",
            "_model_module_version": "1.5.0",
            "_model_name": "DescriptionStyleModel",
            "_view_count": null,
            "_view_module": "@jupyter-widgets/base",
            "_view_module_version": "1.2.0",
            "_view_name": "StyleView",
            "description_width": ""
          }
        },
        "49f98244a8634be9b2305bb87731e765": {
          "model_module": "@jupyter-widgets/controls",
          "model_name": "TextModel",
          "model_module_version": "1.5.0",
          "state": {
            "_dom_classes": [],
            "_model_module": "@jupyter-widgets/controls",
            "_model_module_version": "1.5.0",
            "_model_name": "TextModel",
            "_view_count": null,
            "_view_module": "@jupyter-widgets/controls",
            "_view_module_version": "1.5.0",
            "_view_name": "TextView",
            "continuous_update": true,
            "description": "Username:",
            "description_tooltip": null,
            "disabled": false,
            "layout": "IPY_MODEL_4bf1f9d3031e4877aa6ef704e9a227d7",
            "placeholder": "​",
            "style": "IPY_MODEL_bfb6a1e47f6e4f74af4db7e71227ef3e",
            "value": ""
          }
        },
        "a28d3e82e04646b79c89f93cf40ee596": {
          "model_module": "@jupyter-widgets/controls",
          "model_name": "PasswordModel",
          "model_module_version": "1.5.0",
          "state": {
            "_dom_classes": [],
            "_model_module": "@jupyter-widgets/controls",
            "_model_module_version": "1.5.0",
            "_model_name": "PasswordModel",
            "_view_count": null,
            "_view_module": "@jupyter-widgets/controls",
            "_view_module_version": "1.5.0",
            "_view_name": "PasswordView",
            "continuous_update": true,
            "description": "Password:",
            "description_tooltip": null,
            "disabled": false,
            "layout": "IPY_MODEL_8541f8f949ea49b7a1335aaf31ca4f81",
            "placeholder": "​",
            "style": "IPY_MODEL_c237b5686d3e48aeb226c87aa703f63d",
            "value": ""
          }
        },
        "4c3e043e600641538a479df6ad389784": {
          "model_module": "@jupyter-widgets/base",
          "model_name": "LayoutModel",
          "model_module_version": "1.2.0",
          "state": {
            "_model_module": "@jupyter-widgets/base",
            "_model_module_version": "1.2.0",
            "_model_name": "LayoutModel",
            "_view_count": null,
            "_view_module": "@jupyter-widgets/base",
            "_view_module_version": "1.2.0",
            "_view_name": "LayoutView",
            "align_content": null,
            "align_items": null,
            "align_self": null,
            "border": null,
            "bottom": null,
            "display": null,
            "flex": null,
            "flex_flow": null,
            "grid_area": null,
            "grid_auto_columns": null,
            "grid_auto_flow": null,
            "grid_auto_rows": null,
            "grid_column": null,
            "grid_gap": null,
            "grid_row": null,
            "grid_template_areas": null,
            "grid_template_columns": null,
            "grid_template_rows": null,
            "height": null,
            "justify_content": null,
            "justify_items": null,
            "left": null,
            "margin": null,
            "max_height": null,
            "max_width": null,
            "min_height": null,
            "min_width": null,
            "object_fit": null,
            "object_position": null,
            "order": null,
            "overflow": null,
            "overflow_x": null,
            "overflow_y": null,
            "padding": null,
            "right": null,
            "top": null,
            "visibility": null,
            "width": null
          }
        },
        "d11d94912b26401a860c80eba767907a": {
          "model_module": "@jupyter-widgets/base",
          "model_name": "LayoutModel",
          "model_module_version": "1.2.0",
          "state": {
            "_model_module": "@jupyter-widgets/base",
            "_model_module_version": "1.2.0",
            "_model_name": "LayoutModel",
            "_view_count": null,
            "_view_module": "@jupyter-widgets/base",
            "_view_module_version": "1.2.0",
            "_view_name": "LayoutView",
            "align_content": null,
            "align_items": null,
            "align_self": null,
            "border": null,
            "bottom": null,
            "display": null,
            "flex": null,
            "flex_flow": null,
            "grid_area": null,
            "grid_auto_columns": null,
            "grid_auto_flow": null,
            "grid_auto_rows": null,
            "grid_column": null,
            "grid_gap": null,
            "grid_row": null,
            "grid_template_areas": null,
            "grid_template_columns": null,
            "grid_template_rows": null,
            "height": null,
            "justify_content": null,
            "justify_items": null,
            "left": null,
            "margin": null,
            "max_height": null,
            "max_width": null,
            "min_height": null,
            "min_width": null,
            "object_fit": null,
            "object_position": null,
            "order": null,
            "overflow": null,
            "overflow_x": null,
            "overflow_y": null,
            "padding": null,
            "right": null,
            "top": null,
            "visibility": null,
            "width": null
          }
        },
        "6dd7aa6b17b34d18ba46d834ffd559bc": {
          "model_module": "@jupyter-widgets/controls",
          "model_name": "ButtonStyleModel",
          "model_module_version": "1.5.0",
          "state": {
            "_model_module": "@jupyter-widgets/controls",
            "_model_module_version": "1.5.0",
            "_model_name": "ButtonStyleModel",
            "_view_count": null,
            "_view_module": "@jupyter-widgets/base",
            "_view_module_version": "1.2.0",
            "_view_name": "StyleView",
            "button_color": null,
            "font_weight": ""
          }
        },
        "4bf1f9d3031e4877aa6ef704e9a227d7": {
          "model_module": "@jupyter-widgets/base",
          "model_name": "LayoutModel",
          "model_module_version": "1.2.0",
          "state": {
            "_model_module": "@jupyter-widgets/base",
            "_model_module_version": "1.2.0",
            "_model_name": "LayoutModel",
            "_view_count": null,
            "_view_module": "@jupyter-widgets/base",
            "_view_module_version": "1.2.0",
            "_view_name": "LayoutView",
            "align_content": null,
            "align_items": null,
            "align_self": null,
            "border": null,
            "bottom": null,
            "display": null,
            "flex": null,
            "flex_flow": null,
            "grid_area": null,
            "grid_auto_columns": null,
            "grid_auto_flow": null,
            "grid_auto_rows": null,
            "grid_column": null,
            "grid_gap": null,
            "grid_row": null,
            "grid_template_areas": null,
            "grid_template_columns": null,
            "grid_template_rows": null,
            "height": null,
            "justify_content": null,
            "justify_items": null,
            "left": null,
            "margin": null,
            "max_height": null,
            "max_width": null,
            "min_height": null,
            "min_width": null,
            "object_fit": null,
            "object_position": null,
            "order": null,
            "overflow": null,
            "overflow_x": null,
            "overflow_y": null,
            "padding": null,
            "right": null,
            "top": null,
            "visibility": null,
            "width": null
          }
        },
        "bfb6a1e47f6e4f74af4db7e71227ef3e": {
          "model_module": "@jupyter-widgets/controls",
          "model_name": "DescriptionStyleModel",
          "model_module_version": "1.5.0",
          "state": {
            "_model_module": "@jupyter-widgets/controls",
            "_model_module_version": "1.5.0",
            "_model_name": "DescriptionStyleModel",
            "_view_count": null,
            "_view_module": "@jupyter-widgets/base",
            "_view_module_version": "1.2.0",
            "_view_name": "StyleView",
            "description_width": ""
          }
        },
        "8541f8f949ea49b7a1335aaf31ca4f81": {
          "model_module": "@jupyter-widgets/base",
          "model_name": "LayoutModel",
          "model_module_version": "1.2.0",
          "state": {
            "_model_module": "@jupyter-widgets/base",
            "_model_module_version": "1.2.0",
            "_model_name": "LayoutModel",
            "_view_count": null,
            "_view_module": "@jupyter-widgets/base",
            "_view_module_version": "1.2.0",
            "_view_name": "LayoutView",
            "align_content": null,
            "align_items": null,
            "align_self": null,
            "border": null,
            "bottom": null,
            "display": null,
            "flex": null,
            "flex_flow": null,
            "grid_area": null,
            "grid_auto_columns": null,
            "grid_auto_flow": null,
            "grid_auto_rows": null,
            "grid_column": null,
            "grid_gap": null,
            "grid_row": null,
            "grid_template_areas": null,
            "grid_template_columns": null,
            "grid_template_rows": null,
            "height": null,
            "justify_content": null,
            "justify_items": null,
            "left": null,
            "margin": null,
            "max_height": null,
            "max_width": null,
            "min_height": null,
            "min_width": null,
            "object_fit": null,
            "object_position": null,
            "order": null,
            "overflow": null,
            "overflow_x": null,
            "overflow_y": null,
            "padding": null,
            "right": null,
            "top": null,
            "visibility": null,
            "width": null
          }
        },
        "c237b5686d3e48aeb226c87aa703f63d": {
          "model_module": "@jupyter-widgets/controls",
          "model_name": "DescriptionStyleModel",
          "model_module_version": "1.5.0",
          "state": {
            "_model_module": "@jupyter-widgets/controls",
            "_model_module_version": "1.5.0",
            "_model_name": "DescriptionStyleModel",
            "_view_count": null,
            "_view_module": "@jupyter-widgets/base",
            "_view_module_version": "1.2.0",
            "_view_name": "StyleView",
            "description_width": ""
          }
        },
        "b75750319ef24dbd94900e269cbe0549": {
          "model_module": "@jupyter-widgets/controls",
          "model_name": "HBoxModel",
          "model_module_version": "1.5.0",
          "state": {
            "_dom_classes": [],
            "_model_module": "@jupyter-widgets/controls",
            "_model_module_version": "1.5.0",
            "_model_name": "HBoxModel",
            "_view_count": null,
            "_view_module": "@jupyter-widgets/controls",
            "_view_module_version": "1.5.0",
            "_view_name": "HBoxView",
            "box_style": "",
            "children": [
              "IPY_MODEL_bb84ca2528504832bc0dacfc1ed3444c",
              "IPY_MODEL_4fbe0e36c8d647ab990f7565a45070d5",
              "IPY_MODEL_df414329bbdf447291e35922cb8fab6c"
            ],
            "layout": "IPY_MODEL_e7a63d8c5b0c43e3949524d71864f694"
          }
        },
        "bb84ca2528504832bc0dacfc1ed3444c": {
          "model_module": "@jupyter-widgets/controls",
          "model_name": "HTMLModel",
          "model_module_version": "1.5.0",
          "state": {
            "_dom_classes": [],
            "_model_module": "@jupyter-widgets/controls",
            "_model_module_version": "1.5.0",
            "_model_name": "HTMLModel",
            "_view_count": null,
            "_view_module": "@jupyter-widgets/controls",
            "_view_module_version": "1.5.0",
            "_view_name": "HTMLView",
            "description": "",
            "description_tooltip": null,
            "layout": "IPY_MODEL_b149a1acb68d4b8ab52369ce8ca59387",
            "placeholder": "​",
            "style": "IPY_MODEL_27556497c28742ad8275adead1541a26",
            "value": "Downloading: "
          }
        },
        "4fbe0e36c8d647ab990f7565a45070d5": {
          "model_module": "@jupyter-widgets/controls",
          "model_name": "FloatProgressModel",
          "model_module_version": "1.5.0",
          "state": {
            "_dom_classes": [],
            "_model_module": "@jupyter-widgets/controls",
            "_model_module_version": "1.5.0",
            "_model_name": "FloatProgressModel",
            "_view_count": null,
            "_view_module": "@jupyter-widgets/controls",
            "_view_module_version": "1.5.0",
            "_view_name": "ProgressView",
            "bar_style": "success",
            "description": "",
            "description_tooltip": null,
            "layout": "IPY_MODEL_c957fea1ac6746f98fb3e631aaba7fe0",
            "max": 4620,
            "min": 0,
            "orientation": "horizontal",
            "style": "IPY_MODEL_d6707d8982114269ad0a98d6513415ba",
            "value": 4620
          }
        },
        "df414329bbdf447291e35922cb8fab6c": {
          "model_module": "@jupyter-widgets/controls",
          "model_name": "HTMLModel",
          "model_module_version": "1.5.0",
          "state": {
            "_dom_classes": [],
            "_model_module": "@jupyter-widgets/controls",
            "_model_module_version": "1.5.0",
            "_model_name": "HTMLModel",
            "_view_count": null,
            "_view_module": "@jupyter-widgets/controls",
            "_view_module_version": "1.5.0",
            "_view_name": "HTMLView",
            "description": "",
            "description_tooltip": null,
            "layout": "IPY_MODEL_cbf9cc658c7b4f3a97a82c7c5e96ca41",
            "placeholder": "​",
            "style": "IPY_MODEL_1fd06eba501e4e48bf357042ff2d1691",
            "value": " 23.3k/? [00:00&lt;00:00, 1.02MB/s]"
          }
        },
        "e7a63d8c5b0c43e3949524d71864f694": {
          "model_module": "@jupyter-widgets/base",
          "model_name": "LayoutModel",
          "model_module_version": "1.2.0",
          "state": {
            "_model_module": "@jupyter-widgets/base",
            "_model_module_version": "1.2.0",
            "_model_name": "LayoutModel",
            "_view_count": null,
            "_view_module": "@jupyter-widgets/base",
            "_view_module_version": "1.2.0",
            "_view_name": "LayoutView",
            "align_content": null,
            "align_items": null,
            "align_self": null,
            "border": null,
            "bottom": null,
            "display": null,
            "flex": null,
            "flex_flow": null,
            "grid_area": null,
            "grid_auto_columns": null,
            "grid_auto_flow": null,
            "grid_auto_rows": null,
            "grid_column": null,
            "grid_gap": null,
            "grid_row": null,
            "grid_template_areas": null,
            "grid_template_columns": null,
            "grid_template_rows": null,
            "height": null,
            "justify_content": null,
            "justify_items": null,
            "left": null,
            "margin": null,
            "max_height": null,
            "max_width": null,
            "min_height": null,
            "min_width": null,
            "object_fit": null,
            "object_position": null,
            "order": null,
            "overflow": null,
            "overflow_x": null,
            "overflow_y": null,
            "padding": null,
            "right": null,
            "top": null,
            "visibility": null,
            "width": null
          }
        },
        "b149a1acb68d4b8ab52369ce8ca59387": {
          "model_module": "@jupyter-widgets/base",
          "model_name": "LayoutModel",
          "model_module_version": "1.2.0",
          "state": {
            "_model_module": "@jupyter-widgets/base",
            "_model_module_version": "1.2.0",
            "_model_name": "LayoutModel",
            "_view_count": null,
            "_view_module": "@jupyter-widgets/base",
            "_view_module_version": "1.2.0",
            "_view_name": "LayoutView",
            "align_content": null,
            "align_items": null,
            "align_self": null,
            "border": null,
            "bottom": null,
            "display": null,
            "flex": null,
            "flex_flow": null,
            "grid_area": null,
            "grid_auto_columns": null,
            "grid_auto_flow": null,
            "grid_auto_rows": null,
            "grid_column": null,
            "grid_gap": null,
            "grid_row": null,
            "grid_template_areas": null,
            "grid_template_columns": null,
            "grid_template_rows": null,
            "height": null,
            "justify_content": null,
            "justify_items": null,
            "left": null,
            "margin": null,
            "max_height": null,
            "max_width": null,
            "min_height": null,
            "min_width": null,
            "object_fit": null,
            "object_position": null,
            "order": null,
            "overflow": null,
            "overflow_x": null,
            "overflow_y": null,
            "padding": null,
            "right": null,
            "top": null,
            "visibility": null,
            "width": null
          }
        },
        "27556497c28742ad8275adead1541a26": {
          "model_module": "@jupyter-widgets/controls",
          "model_name": "DescriptionStyleModel",
          "model_module_version": "1.5.0",
          "state": {
            "_model_module": "@jupyter-widgets/controls",
            "_model_module_version": "1.5.0",
            "_model_name": "DescriptionStyleModel",
            "_view_count": null,
            "_view_module": "@jupyter-widgets/base",
            "_view_module_version": "1.2.0",
            "_view_name": "StyleView",
            "description_width": ""
          }
        },
        "c957fea1ac6746f98fb3e631aaba7fe0": {
          "model_module": "@jupyter-widgets/base",
          "model_name": "LayoutModel",
          "model_module_version": "1.2.0",
          "state": {
            "_model_module": "@jupyter-widgets/base",
            "_model_module_version": "1.2.0",
            "_model_name": "LayoutModel",
            "_view_count": null,
            "_view_module": "@jupyter-widgets/base",
            "_view_module_version": "1.2.0",
            "_view_name": "LayoutView",
            "align_content": null,
            "align_items": null,
            "align_self": null,
            "border": null,
            "bottom": null,
            "display": null,
            "flex": null,
            "flex_flow": null,
            "grid_area": null,
            "grid_auto_columns": null,
            "grid_auto_flow": null,
            "grid_auto_rows": null,
            "grid_column": null,
            "grid_gap": null,
            "grid_row": null,
            "grid_template_areas": null,
            "grid_template_columns": null,
            "grid_template_rows": null,
            "height": null,
            "justify_content": null,
            "justify_items": null,
            "left": null,
            "margin": null,
            "max_height": null,
            "max_width": null,
            "min_height": null,
            "min_width": null,
            "object_fit": null,
            "object_position": null,
            "order": null,
            "overflow": null,
            "overflow_x": null,
            "overflow_y": null,
            "padding": null,
            "right": null,
            "top": null,
            "visibility": null,
            "width": null
          }
        },
        "d6707d8982114269ad0a98d6513415ba": {
          "model_module": "@jupyter-widgets/controls",
          "model_name": "ProgressStyleModel",
          "model_module_version": "1.5.0",
          "state": {
            "_model_module": "@jupyter-widgets/controls",
            "_model_module_version": "1.5.0",
            "_model_name": "ProgressStyleModel",
            "_view_count": null,
            "_view_module": "@jupyter-widgets/base",
            "_view_module_version": "1.2.0",
            "_view_name": "StyleView",
            "bar_color": null,
            "description_width": ""
          }
        },
        "cbf9cc658c7b4f3a97a82c7c5e96ca41": {
          "model_module": "@jupyter-widgets/base",
          "model_name": "LayoutModel",
          "model_module_version": "1.2.0",
          "state": {
            "_model_module": "@jupyter-widgets/base",
            "_model_module_version": "1.2.0",
            "_model_name": "LayoutModel",
            "_view_count": null,
            "_view_module": "@jupyter-widgets/base",
            "_view_module_version": "1.2.0",
            "_view_name": "LayoutView",
            "align_content": null,
            "align_items": null,
            "align_self": null,
            "border": null,
            "bottom": null,
            "display": null,
            "flex": null,
            "flex_flow": null,
            "grid_area": null,
            "grid_auto_columns": null,
            "grid_auto_flow": null,
            "grid_auto_rows": null,
            "grid_column": null,
            "grid_gap": null,
            "grid_row": null,
            "grid_template_areas": null,
            "grid_template_columns": null,
            "grid_template_rows": null,
            "height": null,
            "justify_content": null,
            "justify_items": null,
            "left": null,
            "margin": null,
            "max_height": null,
            "max_width": null,
            "min_height": null,
            "min_width": null,
            "object_fit": null,
            "object_position": null,
            "order": null,
            "overflow": null,
            "overflow_x": null,
            "overflow_y": null,
            "padding": null,
            "right": null,
            "top": null,
            "visibility": null,
            "width": null
          }
        },
        "1fd06eba501e4e48bf357042ff2d1691": {
          "model_module": "@jupyter-widgets/controls",
          "model_name": "DescriptionStyleModel",
          "model_module_version": "1.5.0",
          "state": {
            "_model_module": "@jupyter-widgets/controls",
            "_model_module_version": "1.5.0",
            "_model_name": "DescriptionStyleModel",
            "_view_count": null,
            "_view_module": "@jupyter-widgets/base",
            "_view_module_version": "1.2.0",
            "_view_name": "StyleView",
            "description_width": ""
          }
        },
        "7f3a765679bb43a3976c979f44da206c": {
          "model_module": "@jupyter-widgets/controls",
          "model_name": "HBoxModel",
          "model_module_version": "1.5.0",
          "state": {
            "_dom_classes": [],
            "_model_module": "@jupyter-widgets/controls",
            "_model_module_version": "1.5.0",
            "_model_name": "HBoxModel",
            "_view_count": null,
            "_view_module": "@jupyter-widgets/controls",
            "_view_module_version": "1.5.0",
            "_view_name": "HBoxView",
            "box_style": "",
            "children": [
              "IPY_MODEL_453e4a4a65e143f89e85fe15bef75366",
              "IPY_MODEL_4da9061d11b04deb95d93bf4951689ee",
              "IPY_MODEL_90609ee0fecd40b1a395ccd0b1c08fba"
            ],
            "layout": "IPY_MODEL_9f9337dc447d44e49ea536132c52c96d"
          }
        },
        "453e4a4a65e143f89e85fe15bef75366": {
          "model_module": "@jupyter-widgets/controls",
          "model_name": "HTMLModel",
          "model_module_version": "1.5.0",
          "state": {
            "_dom_classes": [],
            "_model_module": "@jupyter-widgets/controls",
            "_model_module_version": "1.5.0",
            "_model_name": "HTMLModel",
            "_view_count": null,
            "_view_module": "@jupyter-widgets/controls",
            "_view_module_version": "1.5.0",
            "_view_name": "HTMLView",
            "description": "",
            "description_tooltip": null,
            "layout": "IPY_MODEL_b2b98c3c42d645758e74a99769e42e47",
            "placeholder": "​",
            "style": "IPY_MODEL_617b9b036c6240b8a2254fdf92b391f0",
            "value": "Downloading: "
          }
        },
        "4da9061d11b04deb95d93bf4951689ee": {
          "model_module": "@jupyter-widgets/controls",
          "model_name": "FloatProgressModel",
          "model_module_version": "1.5.0",
          "state": {
            "_dom_classes": [],
            "_model_module": "@jupyter-widgets/controls",
            "_model_module_version": "1.5.0",
            "_model_name": "FloatProgressModel",
            "_view_count": null,
            "_view_module": "@jupyter-widgets/controls",
            "_view_module_version": "1.5.0",
            "_view_name": "ProgressView",
            "bar_style": "success",
            "description": "",
            "description_tooltip": null,
            "layout": "IPY_MODEL_4580407668694b98b2c971cc2a40508a",
            "max": 10657,
            "min": 0,
            "orientation": "horizontal",
            "style": "IPY_MODEL_f0149af373694d21890a7f5ec92d4486",
            "value": 10657
          }
        },
        "90609ee0fecd40b1a395ccd0b1c08fba": {
          "model_module": "@jupyter-widgets/controls",
          "model_name": "HTMLModel",
          "model_module_version": "1.5.0",
          "state": {
            "_dom_classes": [],
            "_model_module": "@jupyter-widgets/controls",
            "_model_module_version": "1.5.0",
            "_model_name": "HTMLModel",
            "_view_count": null,
            "_view_module": "@jupyter-widgets/controls",
            "_view_module_version": "1.5.0",
            "_view_name": "HTMLView",
            "description": "",
            "description_tooltip": null,
            "layout": "IPY_MODEL_896cb23e966d4ecc8c1d9213a6680e34",
            "placeholder": "​",
            "style": "IPY_MODEL_77d885b197324baaa0a8188cb6b71834",
            "value": " 168k/? [00:00&lt;00:00, 9.12MB/s]"
          }
        },
        "9f9337dc447d44e49ea536132c52c96d": {
          "model_module": "@jupyter-widgets/base",
          "model_name": "LayoutModel",
          "model_module_version": "1.2.0",
          "state": {
            "_model_module": "@jupyter-widgets/base",
            "_model_module_version": "1.2.0",
            "_model_name": "LayoutModel",
            "_view_count": null,
            "_view_module": "@jupyter-widgets/base",
            "_view_module_version": "1.2.0",
            "_view_name": "LayoutView",
            "align_content": null,
            "align_items": null,
            "align_self": null,
            "border": null,
            "bottom": null,
            "display": null,
            "flex": null,
            "flex_flow": null,
            "grid_area": null,
            "grid_auto_columns": null,
            "grid_auto_flow": null,
            "grid_auto_rows": null,
            "grid_column": null,
            "grid_gap": null,
            "grid_row": null,
            "grid_template_areas": null,
            "grid_template_columns": null,
            "grid_template_rows": null,
            "height": null,
            "justify_content": null,
            "justify_items": null,
            "left": null,
            "margin": null,
            "max_height": null,
            "max_width": null,
            "min_height": null,
            "min_width": null,
            "object_fit": null,
            "object_position": null,
            "order": null,
            "overflow": null,
            "overflow_x": null,
            "overflow_y": null,
            "padding": null,
            "right": null,
            "top": null,
            "visibility": null,
            "width": null
          }
        },
        "b2b98c3c42d645758e74a99769e42e47": {
          "model_module": "@jupyter-widgets/base",
          "model_name": "LayoutModel",
          "model_module_version": "1.2.0",
          "state": {
            "_model_module": "@jupyter-widgets/base",
            "_model_module_version": "1.2.0",
            "_model_name": "LayoutModel",
            "_view_count": null,
            "_view_module": "@jupyter-widgets/base",
            "_view_module_version": "1.2.0",
            "_view_name": "LayoutView",
            "align_content": null,
            "align_items": null,
            "align_self": null,
            "border": null,
            "bottom": null,
            "display": null,
            "flex": null,
            "flex_flow": null,
            "grid_area": null,
            "grid_auto_columns": null,
            "grid_auto_flow": null,
            "grid_auto_rows": null,
            "grid_column": null,
            "grid_gap": null,
            "grid_row": null,
            "grid_template_areas": null,
            "grid_template_columns": null,
            "grid_template_rows": null,
            "height": null,
            "justify_content": null,
            "justify_items": null,
            "left": null,
            "margin": null,
            "max_height": null,
            "max_width": null,
            "min_height": null,
            "min_width": null,
            "object_fit": null,
            "object_position": null,
            "order": null,
            "overflow": null,
            "overflow_x": null,
            "overflow_y": null,
            "padding": null,
            "right": null,
            "top": null,
            "visibility": null,
            "width": null
          }
        },
        "617b9b036c6240b8a2254fdf92b391f0": {
          "model_module": "@jupyter-widgets/controls",
          "model_name": "DescriptionStyleModel",
          "model_module_version": "1.5.0",
          "state": {
            "_model_module": "@jupyter-widgets/controls",
            "_model_module_version": "1.5.0",
            "_model_name": "DescriptionStyleModel",
            "_view_count": null,
            "_view_module": "@jupyter-widgets/base",
            "_view_module_version": "1.2.0",
            "_view_name": "StyleView",
            "description_width": ""
          }
        },
        "4580407668694b98b2c971cc2a40508a": {
          "model_module": "@jupyter-widgets/base",
          "model_name": "LayoutModel",
          "model_module_version": "1.2.0",
          "state": {
            "_model_module": "@jupyter-widgets/base",
            "_model_module_version": "1.2.0",
            "_model_name": "LayoutModel",
            "_view_count": null,
            "_view_module": "@jupyter-widgets/base",
            "_view_module_version": "1.2.0",
            "_view_name": "LayoutView",
            "align_content": null,
            "align_items": null,
            "align_self": null,
            "border": null,
            "bottom": null,
            "display": null,
            "flex": null,
            "flex_flow": null,
            "grid_area": null,
            "grid_auto_columns": null,
            "grid_auto_flow": null,
            "grid_auto_rows": null,
            "grid_column": null,
            "grid_gap": null,
            "grid_row": null,
            "grid_template_areas": null,
            "grid_template_columns": null,
            "grid_template_rows": null,
            "height": null,
            "justify_content": null,
            "justify_items": null,
            "left": null,
            "margin": null,
            "max_height": null,
            "max_width": null,
            "min_height": null,
            "min_width": null,
            "object_fit": null,
            "object_position": null,
            "order": null,
            "overflow": null,
            "overflow_x": null,
            "overflow_y": null,
            "padding": null,
            "right": null,
            "top": null,
            "visibility": null,
            "width": null
          }
        },
        "f0149af373694d21890a7f5ec92d4486": {
          "model_module": "@jupyter-widgets/controls",
          "model_name": "ProgressStyleModel",
          "model_module_version": "1.5.0",
          "state": {
            "_model_module": "@jupyter-widgets/controls",
            "_model_module_version": "1.5.0",
            "_model_name": "ProgressStyleModel",
            "_view_count": null,
            "_view_module": "@jupyter-widgets/base",
            "_view_module_version": "1.2.0",
            "_view_name": "StyleView",
            "bar_color": null,
            "description_width": ""
          }
        },
        "896cb23e966d4ecc8c1d9213a6680e34": {
          "model_module": "@jupyter-widgets/base",
          "model_name": "LayoutModel",
          "model_module_version": "1.2.0",
          "state": {
            "_model_module": "@jupyter-widgets/base",
            "_model_module_version": "1.2.0",
            "_model_name": "LayoutModel",
            "_view_count": null,
            "_view_module": "@jupyter-widgets/base",
            "_view_module_version": "1.2.0",
            "_view_name": "LayoutView",
            "align_content": null,
            "align_items": null,
            "align_self": null,
            "border": null,
            "bottom": null,
            "display": null,
            "flex": null,
            "flex_flow": null,
            "grid_area": null,
            "grid_auto_columns": null,
            "grid_auto_flow": null,
            "grid_auto_rows": null,
            "grid_column": null,
            "grid_gap": null,
            "grid_row": null,
            "grid_template_areas": null,
            "grid_template_columns": null,
            "grid_template_rows": null,
            "height": null,
            "justify_content": null,
            "justify_items": null,
            "left": null,
            "margin": null,
            "max_height": null,
            "max_width": null,
            "min_height": null,
            "min_width": null,
            "object_fit": null,
            "object_position": null,
            "order": null,
            "overflow": null,
            "overflow_x": null,
            "overflow_y": null,
            "padding": null,
            "right": null,
            "top": null,
            "visibility": null,
            "width": null
          }
        },
        "77d885b197324baaa0a8188cb6b71834": {
          "model_module": "@jupyter-widgets/controls",
          "model_name": "DescriptionStyleModel",
          "model_module_version": "1.5.0",
          "state": {
            "_model_module": "@jupyter-widgets/controls",
            "_model_module_version": "1.5.0",
            "_model_name": "DescriptionStyleModel",
            "_view_count": null,
            "_view_module": "@jupyter-widgets/base",
            "_view_module_version": "1.2.0",
            "_view_name": "StyleView",
            "description_width": ""
          }
        },
        "dc4c78d3e7e941ac89bea075754a0c1a": {
          "model_module": "@jupyter-widgets/controls",
          "model_name": "HBoxModel",
          "model_module_version": "1.5.0",
          "state": {
            "_dom_classes": [],
            "_model_module": "@jupyter-widgets/controls",
            "_model_module_version": "1.5.0",
            "_model_name": "HBoxModel",
            "_view_count": null,
            "_view_module": "@jupyter-widgets/controls",
            "_view_module_version": "1.5.0",
            "_view_name": "HBoxView",
            "box_style": "",
            "children": [
              "IPY_MODEL_787aa8bb108e45938e79277514a6981d",
              "IPY_MODEL_360595c8c58d4e4e848ff0ff3699173a",
              "IPY_MODEL_f0bd454c42fe468f91ce84e256f74a88"
            ],
            "layout": "IPY_MODEL_087acbecdb9546c2a82479032bf1fa5f"
          }
        },
        "787aa8bb108e45938e79277514a6981d": {
          "model_module": "@jupyter-widgets/controls",
          "model_name": "HTMLModel",
          "model_module_version": "1.5.0",
          "state": {
            "_dom_classes": [],
            "_model_module": "@jupyter-widgets/controls",
            "_model_module_version": "1.5.0",
            "_model_name": "HTMLModel",
            "_view_count": null,
            "_view_module": "@jupyter-widgets/controls",
            "_view_module_version": "1.5.0",
            "_view_name": "HTMLView",
            "description": "",
            "description_tooltip": null,
            "layout": "IPY_MODEL_cb6a23d9a36f4f34a3c11bbb3a6eaf37",
            "placeholder": "​",
            "style": "IPY_MODEL_8b1dceb7be264d8fba6befe8dbf7aa1f",
            "value": "Downloading: 100%"
          }
        },
        "360595c8c58d4e4e848ff0ff3699173a": {
          "model_module": "@jupyter-widgets/controls",
          "model_name": "FloatProgressModel",
          "model_module_version": "1.5.0",
          "state": {
            "_dom_classes": [],
            "_model_module": "@jupyter-widgets/controls",
            "_model_module_version": "1.5.0",
            "_model_name": "FloatProgressModel",
            "_view_count": null,
            "_view_module": "@jupyter-widgets/controls",
            "_view_module_version": "1.5.0",
            "_view_name": "ProgressView",
            "bar_style": "success",
            "description": "",
            "description_tooltip": null,
            "layout": "IPY_MODEL_ff0d85d8ec4e49f89897bab1a2c204f7",
            "max": 620848700,
            "min": 0,
            "orientation": "horizontal",
            "style": "IPY_MODEL_4bf606dd9b4d48ba92d1b3b52044fa52",
            "value": 620848700
          }
        },
        "f0bd454c42fe468f91ce84e256f74a88": {
          "model_module": "@jupyter-widgets/controls",
          "model_name": "HTMLModel",
          "model_module_version": "1.5.0",
          "state": {
            "_dom_classes": [],
            "_model_module": "@jupyter-widgets/controls",
            "_model_module_version": "1.5.0",
            "_model_name": "HTMLModel",
            "_view_count": null,
            "_view_module": "@jupyter-widgets/controls",
            "_view_module_version": "1.5.0",
            "_view_name": "HTMLView",
            "description": "",
            "description_tooltip": null,
            "layout": "IPY_MODEL_ed20516a111248e8bddaa135c9c5db63",
            "placeholder": "​",
            "style": "IPY_MODEL_ed83ff5f3ece450ba21449cc240b4b7b",
            "value": " 621M/621M [00:36&lt;00:00, 18.5MB/s]"
          }
        },
        "087acbecdb9546c2a82479032bf1fa5f": {
          "model_module": "@jupyter-widgets/base",
          "model_name": "LayoutModel",
          "model_module_version": "1.2.0",
          "state": {
            "_model_module": "@jupyter-widgets/base",
            "_model_module_version": "1.2.0",
            "_model_name": "LayoutModel",
            "_view_count": null,
            "_view_module": "@jupyter-widgets/base",
            "_view_module_version": "1.2.0",
            "_view_name": "LayoutView",
            "align_content": null,
            "align_items": null,
            "align_self": null,
            "border": null,
            "bottom": null,
            "display": null,
            "flex": null,
            "flex_flow": null,
            "grid_area": null,
            "grid_auto_columns": null,
            "grid_auto_flow": null,
            "grid_auto_rows": null,
            "grid_column": null,
            "grid_gap": null,
            "grid_row": null,
            "grid_template_areas": null,
            "grid_template_columns": null,
            "grid_template_rows": null,
            "height": null,
            "justify_content": null,
            "justify_items": null,
            "left": null,
            "margin": null,
            "max_height": null,
            "max_width": null,
            "min_height": null,
            "min_width": null,
            "object_fit": null,
            "object_position": null,
            "order": null,
            "overflow": null,
            "overflow_x": null,
            "overflow_y": null,
            "padding": null,
            "right": null,
            "top": null,
            "visibility": null,
            "width": null
          }
        },
        "cb6a23d9a36f4f34a3c11bbb3a6eaf37": {
          "model_module": "@jupyter-widgets/base",
          "model_name": "LayoutModel",
          "model_module_version": "1.2.0",
          "state": {
            "_model_module": "@jupyter-widgets/base",
            "_model_module_version": "1.2.0",
            "_model_name": "LayoutModel",
            "_view_count": null,
            "_view_module": "@jupyter-widgets/base",
            "_view_module_version": "1.2.0",
            "_view_name": "LayoutView",
            "align_content": null,
            "align_items": null,
            "align_self": null,
            "border": null,
            "bottom": null,
            "display": null,
            "flex": null,
            "flex_flow": null,
            "grid_area": null,
            "grid_auto_columns": null,
            "grid_auto_flow": null,
            "grid_auto_rows": null,
            "grid_column": null,
            "grid_gap": null,
            "grid_row": null,
            "grid_template_areas": null,
            "grid_template_columns": null,
            "grid_template_rows": null,
            "height": null,
            "justify_content": null,
            "justify_items": null,
            "left": null,
            "margin": null,
            "max_height": null,
            "max_width": null,
            "min_height": null,
            "min_width": null,
            "object_fit": null,
            "object_position": null,
            "order": null,
            "overflow": null,
            "overflow_x": null,
            "overflow_y": null,
            "padding": null,
            "right": null,
            "top": null,
            "visibility": null,
            "width": null
          }
        },
        "8b1dceb7be264d8fba6befe8dbf7aa1f": {
          "model_module": "@jupyter-widgets/controls",
          "model_name": "DescriptionStyleModel",
          "model_module_version": "1.5.0",
          "state": {
            "_model_module": "@jupyter-widgets/controls",
            "_model_module_version": "1.5.0",
            "_model_name": "DescriptionStyleModel",
            "_view_count": null,
            "_view_module": "@jupyter-widgets/base",
            "_view_module_version": "1.2.0",
            "_view_name": "StyleView",
            "description_width": ""
          }
        },
        "ff0d85d8ec4e49f89897bab1a2c204f7": {
          "model_module": "@jupyter-widgets/base",
          "model_name": "LayoutModel",
          "model_module_version": "1.2.0",
          "state": {
            "_model_module": "@jupyter-widgets/base",
            "_model_module_version": "1.2.0",
            "_model_name": "LayoutModel",
            "_view_count": null,
            "_view_module": "@jupyter-widgets/base",
            "_view_module_version": "1.2.0",
            "_view_name": "LayoutView",
            "align_content": null,
            "align_items": null,
            "align_self": null,
            "border": null,
            "bottom": null,
            "display": null,
            "flex": null,
            "flex_flow": null,
            "grid_area": null,
            "grid_auto_columns": null,
            "grid_auto_flow": null,
            "grid_auto_rows": null,
            "grid_column": null,
            "grid_gap": null,
            "grid_row": null,
            "grid_template_areas": null,
            "grid_template_columns": null,
            "grid_template_rows": null,
            "height": null,
            "justify_content": null,
            "justify_items": null,
            "left": null,
            "margin": null,
            "max_height": null,
            "max_width": null,
            "min_height": null,
            "min_width": null,
            "object_fit": null,
            "object_position": null,
            "order": null,
            "overflow": null,
            "overflow_x": null,
            "overflow_y": null,
            "padding": null,
            "right": null,
            "top": null,
            "visibility": null,
            "width": null
          }
        },
        "4bf606dd9b4d48ba92d1b3b52044fa52": {
          "model_module": "@jupyter-widgets/controls",
          "model_name": "ProgressStyleModel",
          "model_module_version": "1.5.0",
          "state": {
            "_model_module": "@jupyter-widgets/controls",
            "_model_module_version": "1.5.0",
            "_model_name": "ProgressStyleModel",
            "_view_count": null,
            "_view_module": "@jupyter-widgets/base",
            "_view_module_version": "1.2.0",
            "_view_name": "StyleView",
            "bar_color": null,
            "description_width": ""
          }
        },
        "ed20516a111248e8bddaa135c9c5db63": {
          "model_module": "@jupyter-widgets/base",
          "model_name": "LayoutModel",
          "model_module_version": "1.2.0",
          "state": {
            "_model_module": "@jupyter-widgets/base",
            "_model_module_version": "1.2.0",
            "_model_name": "LayoutModel",
            "_view_count": null,
            "_view_module": "@jupyter-widgets/base",
            "_view_module_version": "1.2.0",
            "_view_name": "LayoutView",
            "align_content": null,
            "align_items": null,
            "align_self": null,
            "border": null,
            "bottom": null,
            "display": null,
            "flex": null,
            "flex_flow": null,
            "grid_area": null,
            "grid_auto_columns": null,
            "grid_auto_flow": null,
            "grid_auto_rows": null,
            "grid_column": null,
            "grid_gap": null,
            "grid_row": null,
            "grid_template_areas": null,
            "grid_template_columns": null,
            "grid_template_rows": null,
            "height": null,
            "justify_content": null,
            "justify_items": null,
            "left": null,
            "margin": null,
            "max_height": null,
            "max_width": null,
            "min_height": null,
            "min_width": null,
            "object_fit": null,
            "object_position": null,
            "order": null,
            "overflow": null,
            "overflow_x": null,
            "overflow_y": null,
            "padding": null,
            "right": null,
            "top": null,
            "visibility": null,
            "width": null
          }
        },
        "ed83ff5f3ece450ba21449cc240b4b7b": {
          "model_module": "@jupyter-widgets/controls",
          "model_name": "DescriptionStyleModel",
          "model_module_version": "1.5.0",
          "state": {
            "_model_module": "@jupyter-widgets/controls",
            "_model_module_version": "1.5.0",
            "_model_name": "DescriptionStyleModel",
            "_view_count": null,
            "_view_module": "@jupyter-widgets/base",
            "_view_module_version": "1.2.0",
            "_view_name": "StyleView",
            "description_width": ""
          }
        },
        "28de19fd54bb4064a4437183b6ca7cd8": {
          "model_module": "@jupyter-widgets/controls",
          "model_name": "HBoxModel",
          "model_module_version": "1.5.0",
          "state": {
            "_dom_classes": [],
            "_model_module": "@jupyter-widgets/controls",
            "_model_module_version": "1.5.0",
            "_model_name": "HBoxModel",
            "_view_count": null,
            "_view_module": "@jupyter-widgets/controls",
            "_view_module_version": "1.5.0",
            "_view_name": "HBoxView",
            "box_style": "",
            "children": [
              "IPY_MODEL_4313057dfffb4d42a694590dec896f27",
              "IPY_MODEL_a5eb20d263024680af0dabccdbb63b7f",
              "IPY_MODEL_ec881b8467e94b2badd7f8db82052dec"
            ],
            "layout": "IPY_MODEL_9ace6602a0f5401fb9a3a4fb6665323f"
          }
        },
        "4313057dfffb4d42a694590dec896f27": {
          "model_module": "@jupyter-widgets/controls",
          "model_name": "HTMLModel",
          "model_module_version": "1.5.0",
          "state": {
            "_dom_classes": [],
            "_model_module": "@jupyter-widgets/controls",
            "_model_module_version": "1.5.0",
            "_model_name": "HTMLModel",
            "_view_count": null,
            "_view_module": "@jupyter-widgets/controls",
            "_view_module_version": "1.5.0",
            "_view_name": "HTMLView",
            "description": "",
            "description_tooltip": null,
            "layout": "IPY_MODEL_15eb5857cefd48199e0928736c3a78e0",
            "placeholder": "​",
            "style": "IPY_MODEL_6ca71f45ed39419996870d5b306f58be",
            "value": ""
          }
        },
        "a5eb20d263024680af0dabccdbb63b7f": {
          "model_module": "@jupyter-widgets/controls",
          "model_name": "FloatProgressModel",
          "model_module_version": "1.5.0",
          "state": {
            "_dom_classes": [],
            "_model_module": "@jupyter-widgets/controls",
            "_model_module_version": "1.5.0",
            "_model_name": "FloatProgressModel",
            "_view_count": null,
            "_view_module": "@jupyter-widgets/controls",
            "_view_module_version": "1.5.0",
            "_view_name": "ProgressView",
            "bar_style": "info",
            "description": "",
            "description_tooltip": null,
            "layout": "IPY_MODEL_6a7c1610988142699c7b15b28bd9f1c4",
            "max": 1,
            "min": 0,
            "orientation": "horizontal",
            "style": "IPY_MODEL_f6eeff81ad294580bc89478a2828a6ca",
            "value": 1
          }
        },
        "ec881b8467e94b2badd7f8db82052dec": {
          "model_module": "@jupyter-widgets/controls",
          "model_name": "HTMLModel",
          "model_module_version": "1.5.0",
          "state": {
            "_dom_classes": [],
            "_model_module": "@jupyter-widgets/controls",
            "_model_module_version": "1.5.0",
            "_model_name": "HTMLModel",
            "_view_count": null,
            "_view_module": "@jupyter-widgets/controls",
            "_view_module_version": "1.5.0",
            "_view_name": "HTMLView",
            "description": "",
            "description_tooltip": null,
            "layout": "IPY_MODEL_00b8e7a4f3e04e1d921db8aece3dbc48",
            "placeholder": "​",
            "style": "IPY_MODEL_a9045f6c20e34f79abd8a32f48ec2419",
            "value": " 1810/0 [00:04&lt;00:00, 364.43 examples/s]"
          }
        },
        "9ace6602a0f5401fb9a3a4fb6665323f": {
          "model_module": "@jupyter-widgets/base",
          "model_name": "LayoutModel",
          "model_module_version": "1.2.0",
          "state": {
            "_model_module": "@jupyter-widgets/base",
            "_model_module_version": "1.2.0",
            "_model_name": "LayoutModel",
            "_view_count": null,
            "_view_module": "@jupyter-widgets/base",
            "_view_module_version": "1.2.0",
            "_view_name": "LayoutView",
            "align_content": null,
            "align_items": null,
            "align_self": null,
            "border": null,
            "bottom": null,
            "display": null,
            "flex": null,
            "flex_flow": null,
            "grid_area": null,
            "grid_auto_columns": null,
            "grid_auto_flow": null,
            "grid_auto_rows": null,
            "grid_column": null,
            "grid_gap": null,
            "grid_row": null,
            "grid_template_areas": null,
            "grid_template_columns": null,
            "grid_template_rows": null,
            "height": null,
            "justify_content": null,
            "justify_items": null,
            "left": null,
            "margin": null,
            "max_height": null,
            "max_width": null,
            "min_height": null,
            "min_width": null,
            "object_fit": null,
            "object_position": null,
            "order": null,
            "overflow": null,
            "overflow_x": null,
            "overflow_y": null,
            "padding": null,
            "right": null,
            "top": null,
            "visibility": "hidden",
            "width": null
          }
        },
        "15eb5857cefd48199e0928736c3a78e0": {
          "model_module": "@jupyter-widgets/base",
          "model_name": "LayoutModel",
          "model_module_version": "1.2.0",
          "state": {
            "_model_module": "@jupyter-widgets/base",
            "_model_module_version": "1.2.0",
            "_model_name": "LayoutModel",
            "_view_count": null,
            "_view_module": "@jupyter-widgets/base",
            "_view_module_version": "1.2.0",
            "_view_name": "LayoutView",
            "align_content": null,
            "align_items": null,
            "align_self": null,
            "border": null,
            "bottom": null,
            "display": null,
            "flex": null,
            "flex_flow": null,
            "grid_area": null,
            "grid_auto_columns": null,
            "grid_auto_flow": null,
            "grid_auto_rows": null,
            "grid_column": null,
            "grid_gap": null,
            "grid_row": null,
            "grid_template_areas": null,
            "grid_template_columns": null,
            "grid_template_rows": null,
            "height": null,
            "justify_content": null,
            "justify_items": null,
            "left": null,
            "margin": null,
            "max_height": null,
            "max_width": null,
            "min_height": null,
            "min_width": null,
            "object_fit": null,
            "object_position": null,
            "order": null,
            "overflow": null,
            "overflow_x": null,
            "overflow_y": null,
            "padding": null,
            "right": null,
            "top": null,
            "visibility": null,
            "width": null
          }
        },
        "6ca71f45ed39419996870d5b306f58be": {
          "model_module": "@jupyter-widgets/controls",
          "model_name": "DescriptionStyleModel",
          "model_module_version": "1.5.0",
          "state": {
            "_model_module": "@jupyter-widgets/controls",
            "_model_module_version": "1.5.0",
            "_model_name": "DescriptionStyleModel",
            "_view_count": null,
            "_view_module": "@jupyter-widgets/base",
            "_view_module_version": "1.2.0",
            "_view_name": "StyleView",
            "description_width": ""
          }
        },
        "6a7c1610988142699c7b15b28bd9f1c4": {
          "model_module": "@jupyter-widgets/base",
          "model_name": "LayoutModel",
          "model_module_version": "1.2.0",
          "state": {
            "_model_module": "@jupyter-widgets/base",
            "_model_module_version": "1.2.0",
            "_model_name": "LayoutModel",
            "_view_count": null,
            "_view_module": "@jupyter-widgets/base",
            "_view_module_version": "1.2.0",
            "_view_name": "LayoutView",
            "align_content": null,
            "align_items": null,
            "align_self": null,
            "border": null,
            "bottom": null,
            "display": null,
            "flex": null,
            "flex_flow": null,
            "grid_area": null,
            "grid_auto_columns": null,
            "grid_auto_flow": null,
            "grid_auto_rows": null,
            "grid_column": null,
            "grid_gap": null,
            "grid_row": null,
            "grid_template_areas": null,
            "grid_template_columns": null,
            "grid_template_rows": null,
            "height": null,
            "justify_content": null,
            "justify_items": null,
            "left": null,
            "margin": null,
            "max_height": null,
            "max_width": null,
            "min_height": null,
            "min_width": null,
            "object_fit": null,
            "object_position": null,
            "order": null,
            "overflow": null,
            "overflow_x": null,
            "overflow_y": null,
            "padding": null,
            "right": null,
            "top": null,
            "visibility": null,
            "width": "20px"
          }
        },
        "f6eeff81ad294580bc89478a2828a6ca": {
          "model_module": "@jupyter-widgets/controls",
          "model_name": "ProgressStyleModel",
          "model_module_version": "1.5.0",
          "state": {
            "_model_module": "@jupyter-widgets/controls",
            "_model_module_version": "1.5.0",
            "_model_name": "ProgressStyleModel",
            "_view_count": null,
            "_view_module": "@jupyter-widgets/base",
            "_view_module_version": "1.2.0",
            "_view_name": "StyleView",
            "bar_color": null,
            "description_width": ""
          }
        },
        "00b8e7a4f3e04e1d921db8aece3dbc48": {
          "model_module": "@jupyter-widgets/base",
          "model_name": "LayoutModel",
          "model_module_version": "1.2.0",
          "state": {
            "_model_module": "@jupyter-widgets/base",
            "_model_module_version": "1.2.0",
            "_model_name": "LayoutModel",
            "_view_count": null,
            "_view_module": "@jupyter-widgets/base",
            "_view_module_version": "1.2.0",
            "_view_name": "LayoutView",
            "align_content": null,
            "align_items": null,
            "align_self": null,
            "border": null,
            "bottom": null,
            "display": null,
            "flex": null,
            "flex_flow": null,
            "grid_area": null,
            "grid_auto_columns": null,
            "grid_auto_flow": null,
            "grid_auto_rows": null,
            "grid_column": null,
            "grid_gap": null,
            "grid_row": null,
            "grid_template_areas": null,
            "grid_template_columns": null,
            "grid_template_rows": null,
            "height": null,
            "justify_content": null,
            "justify_items": null,
            "left": null,
            "margin": null,
            "max_height": null,
            "max_width": null,
            "min_height": null,
            "min_width": null,
            "object_fit": null,
            "object_position": null,
            "order": null,
            "overflow": null,
            "overflow_x": null,
            "overflow_y": null,
            "padding": null,
            "right": null,
            "top": null,
            "visibility": null,
            "width": null
          }
        },
        "a9045f6c20e34f79abd8a32f48ec2419": {
          "model_module": "@jupyter-widgets/controls",
          "model_name": "DescriptionStyleModel",
          "model_module_version": "1.5.0",
          "state": {
            "_model_module": "@jupyter-widgets/controls",
            "_model_module_version": "1.5.0",
            "_model_name": "DescriptionStyleModel",
            "_view_count": null,
            "_view_module": "@jupyter-widgets/base",
            "_view_module_version": "1.2.0",
            "_view_name": "StyleView",
            "description_width": ""
          }
        },
        "66c902592a9043529fbb2d3e5389746c": {
          "model_module": "@jupyter-widgets/controls",
          "model_name": "HBoxModel",
          "model_module_version": "1.5.0",
          "state": {
            "_dom_classes": [],
            "_model_module": "@jupyter-widgets/controls",
            "_model_module_version": "1.5.0",
            "_model_name": "HBoxModel",
            "_view_count": null,
            "_view_module": "@jupyter-widgets/controls",
            "_view_module_version": "1.5.0",
            "_view_name": "HBoxView",
            "box_style": "",
            "children": [
              "IPY_MODEL_71b4fdc5c13349b896b6bd94530e83e5",
              "IPY_MODEL_d7f850516f164ab39e651587cd8af054",
              "IPY_MODEL_ffc5cb2127d44de3a5ebc87887762d2a"
            ],
            "layout": "IPY_MODEL_a07c76da3c1d4e52a70f72925db6cf62"
          }
        },
        "71b4fdc5c13349b896b6bd94530e83e5": {
          "model_module": "@jupyter-widgets/controls",
          "model_name": "HTMLModel",
          "model_module_version": "1.5.0",
          "state": {
            "_dom_classes": [],
            "_model_module": "@jupyter-widgets/controls",
            "_model_module_version": "1.5.0",
            "_model_name": "HTMLModel",
            "_view_count": null,
            "_view_module": "@jupyter-widgets/controls",
            "_view_module_version": "1.5.0",
            "_view_name": "HTMLView",
            "description": "",
            "description_tooltip": null,
            "layout": "IPY_MODEL_f8c0a47626f54e11aa6a890f216ad4c6",
            "placeholder": "​",
            "style": "IPY_MODEL_2b49dab6c6e546b1ad97f8ee6ee93138",
            "value": ""
          }
        },
        "d7f850516f164ab39e651587cd8af054": {
          "model_module": "@jupyter-widgets/controls",
          "model_name": "FloatProgressModel",
          "model_module_version": "1.5.0",
          "state": {
            "_dom_classes": [],
            "_model_module": "@jupyter-widgets/controls",
            "_model_module_version": "1.5.0",
            "_model_name": "FloatProgressModel",
            "_view_count": null,
            "_view_module": "@jupyter-widgets/controls",
            "_view_module_version": "1.5.0",
            "_view_name": "ProgressView",
            "bar_style": "info",
            "description": "",
            "description_tooltip": null,
            "layout": "IPY_MODEL_1d80daaa3d204091aaec2d208ca352aa",
            "max": 1,
            "min": 0,
            "orientation": "horizontal",
            "style": "IPY_MODEL_316ffd6add9541a188d99a62fdab2bf6",
            "value": 1
          }
        },
        "ffc5cb2127d44de3a5ebc87887762d2a": {
          "model_module": "@jupyter-widgets/controls",
          "model_name": "HTMLModel",
          "model_module_version": "1.5.0",
          "state": {
            "_dom_classes": [],
            "_model_module": "@jupyter-widgets/controls",
            "_model_module_version": "1.5.0",
            "_model_name": "HTMLModel",
            "_view_count": null,
            "_view_module": "@jupyter-widgets/controls",
            "_view_module_version": "1.5.0",
            "_view_name": "HTMLView",
            "description": "",
            "description_tooltip": null,
            "layout": "IPY_MODEL_c09a5ec7de4442f49b6917d5f85a640c",
            "placeholder": "​",
            "style": "IPY_MODEL_e3dee8eb68534203bf450ff90b833733",
            "value": " 1636/0 [00:04&lt;00:00, 261.17 examples/s]"
          }
        },
        "a07c76da3c1d4e52a70f72925db6cf62": {
          "model_module": "@jupyter-widgets/base",
          "model_name": "LayoutModel",
          "model_module_version": "1.2.0",
          "state": {
            "_model_module": "@jupyter-widgets/base",
            "_model_module_version": "1.2.0",
            "_model_name": "LayoutModel",
            "_view_count": null,
            "_view_module": "@jupyter-widgets/base",
            "_view_module_version": "1.2.0",
            "_view_name": "LayoutView",
            "align_content": null,
            "align_items": null,
            "align_self": null,
            "border": null,
            "bottom": null,
            "display": null,
            "flex": null,
            "flex_flow": null,
            "grid_area": null,
            "grid_auto_columns": null,
            "grid_auto_flow": null,
            "grid_auto_rows": null,
            "grid_column": null,
            "grid_gap": null,
            "grid_row": null,
            "grid_template_areas": null,
            "grid_template_columns": null,
            "grid_template_rows": null,
            "height": null,
            "justify_content": null,
            "justify_items": null,
            "left": null,
            "margin": null,
            "max_height": null,
            "max_width": null,
            "min_height": null,
            "min_width": null,
            "object_fit": null,
            "object_position": null,
            "order": null,
            "overflow": null,
            "overflow_x": null,
            "overflow_y": null,
            "padding": null,
            "right": null,
            "top": null,
            "visibility": "hidden",
            "width": null
          }
        },
        "f8c0a47626f54e11aa6a890f216ad4c6": {
          "model_module": "@jupyter-widgets/base",
          "model_name": "LayoutModel",
          "model_module_version": "1.2.0",
          "state": {
            "_model_module": "@jupyter-widgets/base",
            "_model_module_version": "1.2.0",
            "_model_name": "LayoutModel",
            "_view_count": null,
            "_view_module": "@jupyter-widgets/base",
            "_view_module_version": "1.2.0",
            "_view_name": "LayoutView",
            "align_content": null,
            "align_items": null,
            "align_self": null,
            "border": null,
            "bottom": null,
            "display": null,
            "flex": null,
            "flex_flow": null,
            "grid_area": null,
            "grid_auto_columns": null,
            "grid_auto_flow": null,
            "grid_auto_rows": null,
            "grid_column": null,
            "grid_gap": null,
            "grid_row": null,
            "grid_template_areas": null,
            "grid_template_columns": null,
            "grid_template_rows": null,
            "height": null,
            "justify_content": null,
            "justify_items": null,
            "left": null,
            "margin": null,
            "max_height": null,
            "max_width": null,
            "min_height": null,
            "min_width": null,
            "object_fit": null,
            "object_position": null,
            "order": null,
            "overflow": null,
            "overflow_x": null,
            "overflow_y": null,
            "padding": null,
            "right": null,
            "top": null,
            "visibility": null,
            "width": null
          }
        },
        "2b49dab6c6e546b1ad97f8ee6ee93138": {
          "model_module": "@jupyter-widgets/controls",
          "model_name": "DescriptionStyleModel",
          "model_module_version": "1.5.0",
          "state": {
            "_model_module": "@jupyter-widgets/controls",
            "_model_module_version": "1.5.0",
            "_model_name": "DescriptionStyleModel",
            "_view_count": null,
            "_view_module": "@jupyter-widgets/base",
            "_view_module_version": "1.2.0",
            "_view_name": "StyleView",
            "description_width": ""
          }
        },
        "1d80daaa3d204091aaec2d208ca352aa": {
          "model_module": "@jupyter-widgets/base",
          "model_name": "LayoutModel",
          "model_module_version": "1.2.0",
          "state": {
            "_model_module": "@jupyter-widgets/base",
            "_model_module_version": "1.2.0",
            "_model_name": "LayoutModel",
            "_view_count": null,
            "_view_module": "@jupyter-widgets/base",
            "_view_module_version": "1.2.0",
            "_view_name": "LayoutView",
            "align_content": null,
            "align_items": null,
            "align_self": null,
            "border": null,
            "bottom": null,
            "display": null,
            "flex": null,
            "flex_flow": null,
            "grid_area": null,
            "grid_auto_columns": null,
            "grid_auto_flow": null,
            "grid_auto_rows": null,
            "grid_column": null,
            "grid_gap": null,
            "grid_row": null,
            "grid_template_areas": null,
            "grid_template_columns": null,
            "grid_template_rows": null,
            "height": null,
            "justify_content": null,
            "justify_items": null,
            "left": null,
            "margin": null,
            "max_height": null,
            "max_width": null,
            "min_height": null,
            "min_width": null,
            "object_fit": null,
            "object_position": null,
            "order": null,
            "overflow": null,
            "overflow_x": null,
            "overflow_y": null,
            "padding": null,
            "right": null,
            "top": null,
            "visibility": null,
            "width": "20px"
          }
        },
        "316ffd6add9541a188d99a62fdab2bf6": {
          "model_module": "@jupyter-widgets/controls",
          "model_name": "ProgressStyleModel",
          "model_module_version": "1.5.0",
          "state": {
            "_model_module": "@jupyter-widgets/controls",
            "_model_module_version": "1.5.0",
            "_model_name": "ProgressStyleModel",
            "_view_count": null,
            "_view_module": "@jupyter-widgets/base",
            "_view_module_version": "1.2.0",
            "_view_name": "StyleView",
            "bar_color": null,
            "description_width": ""
          }
        },
        "c09a5ec7de4442f49b6917d5f85a640c": {
          "model_module": "@jupyter-widgets/base",
          "model_name": "LayoutModel",
          "model_module_version": "1.2.0",
          "state": {
            "_model_module": "@jupyter-widgets/base",
            "_model_module_version": "1.2.0",
            "_model_name": "LayoutModel",
            "_view_count": null,
            "_view_module": "@jupyter-widgets/base",
            "_view_module_version": "1.2.0",
            "_view_name": "LayoutView",
            "align_content": null,
            "align_items": null,
            "align_self": null,
            "border": null,
            "bottom": null,
            "display": null,
            "flex": null,
            "flex_flow": null,
            "grid_area": null,
            "grid_auto_columns": null,
            "grid_auto_flow": null,
            "grid_auto_rows": null,
            "grid_column": null,
            "grid_gap": null,
            "grid_row": null,
            "grid_template_areas": null,
            "grid_template_columns": null,
            "grid_template_rows": null,
            "height": null,
            "justify_content": null,
            "justify_items": null,
            "left": null,
            "margin": null,
            "max_height": null,
            "max_width": null,
            "min_height": null,
            "min_width": null,
            "object_fit": null,
            "object_position": null,
            "order": null,
            "overflow": null,
            "overflow_x": null,
            "overflow_y": null,
            "padding": null,
            "right": null,
            "top": null,
            "visibility": null,
            "width": null
          }
        },
        "e3dee8eb68534203bf450ff90b833733": {
          "model_module": "@jupyter-widgets/controls",
          "model_name": "DescriptionStyleModel",
          "model_module_version": "1.5.0",
          "state": {
            "_model_module": "@jupyter-widgets/controls",
            "_model_module_version": "1.5.0",
            "_model_name": "DescriptionStyleModel",
            "_view_count": null,
            "_view_module": "@jupyter-widgets/base",
            "_view_module_version": "1.2.0",
            "_view_name": "StyleView",
            "description_width": ""
          }
        },
        "59653a40c9cf48a18ec6c93d2618752d": {
          "model_module": "@jupyter-widgets/controls",
          "model_name": "HBoxModel",
          "model_module_version": "1.5.0",
          "state": {
            "_dom_classes": [],
            "_model_module": "@jupyter-widgets/controls",
            "_model_module_version": "1.5.0",
            "_model_name": "HBoxModel",
            "_view_count": null,
            "_view_module": "@jupyter-widgets/controls",
            "_view_module_version": "1.5.0",
            "_view_name": "HBoxView",
            "box_style": "",
            "children": [
              "IPY_MODEL_b5647ab66570414090190cd4e4c3f968",
              "IPY_MODEL_f7f0b0feaf2941d087e149d6a1a51036",
              "IPY_MODEL_3ab7135bff794d7397f17c34888172ce"
            ],
            "layout": "IPY_MODEL_703e28cb4bd4424cbd5a37aca1024b2a"
          }
        },
        "b5647ab66570414090190cd4e4c3f968": {
          "model_module": "@jupyter-widgets/controls",
          "model_name": "HTMLModel",
          "model_module_version": "1.5.0",
          "state": {
            "_dom_classes": [],
            "_model_module": "@jupyter-widgets/controls",
            "_model_module_version": "1.5.0",
            "_model_name": "HTMLModel",
            "_view_count": null,
            "_view_module": "@jupyter-widgets/controls",
            "_view_module_version": "1.5.0",
            "_view_name": "HTMLView",
            "description": "",
            "description_tooltip": null,
            "layout": "IPY_MODEL_c6f2cf25b5c949b2b218dffe76075ab9",
            "placeholder": "​",
            "style": "IPY_MODEL_37cb2d4e50e0469aa6239bd0cee0d6c0",
            "value": ""
          }
        },
        "f7f0b0feaf2941d087e149d6a1a51036": {
          "model_module": "@jupyter-widgets/controls",
          "model_name": "FloatProgressModel",
          "model_module_version": "1.5.0",
          "state": {
            "_dom_classes": [],
            "_model_module": "@jupyter-widgets/controls",
            "_model_module_version": "1.5.0",
            "_model_name": "FloatProgressModel",
            "_view_count": null,
            "_view_module": "@jupyter-widgets/controls",
            "_view_module_version": "1.5.0",
            "_view_name": "ProgressView",
            "bar_style": "info",
            "description": "",
            "description_tooltip": null,
            "layout": "IPY_MODEL_4c00435b5c9d471499ed760e954b7287",
            "max": 1,
            "min": 0,
            "orientation": "horizontal",
            "style": "IPY_MODEL_b47263a79c5c4fae9d5d948302879932",
            "value": 1
          }
        },
        "3ab7135bff794d7397f17c34888172ce": {
          "model_module": "@jupyter-widgets/controls",
          "model_name": "HTMLModel",
          "model_module_version": "1.5.0",
          "state": {
            "_dom_classes": [],
            "_model_module": "@jupyter-widgets/controls",
            "_model_module_version": "1.5.0",
            "_model_name": "HTMLModel",
            "_view_count": null,
            "_view_module": "@jupyter-widgets/controls",
            "_view_module_version": "1.5.0",
            "_view_name": "HTMLView",
            "description": "",
            "description_tooltip": null,
            "layout": "IPY_MODEL_c51d5195cb1a46fd931a1836b7b9592e",
            "placeholder": "​",
            "style": "IPY_MODEL_9db25cb38346473eb0d5641e7ae59453",
            "value": " 1647/0 [00:05&lt;00:00, 251.08 examples/s]"
          }
        },
        "703e28cb4bd4424cbd5a37aca1024b2a": {
          "model_module": "@jupyter-widgets/base",
          "model_name": "LayoutModel",
          "model_module_version": "1.2.0",
          "state": {
            "_model_module": "@jupyter-widgets/base",
            "_model_module_version": "1.2.0",
            "_model_name": "LayoutModel",
            "_view_count": null,
            "_view_module": "@jupyter-widgets/base",
            "_view_module_version": "1.2.0",
            "_view_name": "LayoutView",
            "align_content": null,
            "align_items": null,
            "align_self": null,
            "border": null,
            "bottom": null,
            "display": null,
            "flex": null,
            "flex_flow": null,
            "grid_area": null,
            "grid_auto_columns": null,
            "grid_auto_flow": null,
            "grid_auto_rows": null,
            "grid_column": null,
            "grid_gap": null,
            "grid_row": null,
            "grid_template_areas": null,
            "grid_template_columns": null,
            "grid_template_rows": null,
            "height": null,
            "justify_content": null,
            "justify_items": null,
            "left": null,
            "margin": null,
            "max_height": null,
            "max_width": null,
            "min_height": null,
            "min_width": null,
            "object_fit": null,
            "object_position": null,
            "order": null,
            "overflow": null,
            "overflow_x": null,
            "overflow_y": null,
            "padding": null,
            "right": null,
            "top": null,
            "visibility": "hidden",
            "width": null
          }
        },
        "c6f2cf25b5c949b2b218dffe76075ab9": {
          "model_module": "@jupyter-widgets/base",
          "model_name": "LayoutModel",
          "model_module_version": "1.2.0",
          "state": {
            "_model_module": "@jupyter-widgets/base",
            "_model_module_version": "1.2.0",
            "_model_name": "LayoutModel",
            "_view_count": null,
            "_view_module": "@jupyter-widgets/base",
            "_view_module_version": "1.2.0",
            "_view_name": "LayoutView",
            "align_content": null,
            "align_items": null,
            "align_self": null,
            "border": null,
            "bottom": null,
            "display": null,
            "flex": null,
            "flex_flow": null,
            "grid_area": null,
            "grid_auto_columns": null,
            "grid_auto_flow": null,
            "grid_auto_rows": null,
            "grid_column": null,
            "grid_gap": null,
            "grid_row": null,
            "grid_template_areas": null,
            "grid_template_columns": null,
            "grid_template_rows": null,
            "height": null,
            "justify_content": null,
            "justify_items": null,
            "left": null,
            "margin": null,
            "max_height": null,
            "max_width": null,
            "min_height": null,
            "min_width": null,
            "object_fit": null,
            "object_position": null,
            "order": null,
            "overflow": null,
            "overflow_x": null,
            "overflow_y": null,
            "padding": null,
            "right": null,
            "top": null,
            "visibility": null,
            "width": null
          }
        },
        "37cb2d4e50e0469aa6239bd0cee0d6c0": {
          "model_module": "@jupyter-widgets/controls",
          "model_name": "DescriptionStyleModel",
          "model_module_version": "1.5.0",
          "state": {
            "_model_module": "@jupyter-widgets/controls",
            "_model_module_version": "1.5.0",
            "_model_name": "DescriptionStyleModel",
            "_view_count": null,
            "_view_module": "@jupyter-widgets/base",
            "_view_module_version": "1.2.0",
            "_view_name": "StyleView",
            "description_width": ""
          }
        },
        "4c00435b5c9d471499ed760e954b7287": {
          "model_module": "@jupyter-widgets/base",
          "model_name": "LayoutModel",
          "model_module_version": "1.2.0",
          "state": {
            "_model_module": "@jupyter-widgets/base",
            "_model_module_version": "1.2.0",
            "_model_name": "LayoutModel",
            "_view_count": null,
            "_view_module": "@jupyter-widgets/base",
            "_view_module_version": "1.2.0",
            "_view_name": "LayoutView",
            "align_content": null,
            "align_items": null,
            "align_self": null,
            "border": null,
            "bottom": null,
            "display": null,
            "flex": null,
            "flex_flow": null,
            "grid_area": null,
            "grid_auto_columns": null,
            "grid_auto_flow": null,
            "grid_auto_rows": null,
            "grid_column": null,
            "grid_gap": null,
            "grid_row": null,
            "grid_template_areas": null,
            "grid_template_columns": null,
            "grid_template_rows": null,
            "height": null,
            "justify_content": null,
            "justify_items": null,
            "left": null,
            "margin": null,
            "max_height": null,
            "max_width": null,
            "min_height": null,
            "min_width": null,
            "object_fit": null,
            "object_position": null,
            "order": null,
            "overflow": null,
            "overflow_x": null,
            "overflow_y": null,
            "padding": null,
            "right": null,
            "top": null,
            "visibility": null,
            "width": "20px"
          }
        },
        "b47263a79c5c4fae9d5d948302879932": {
          "model_module": "@jupyter-widgets/controls",
          "model_name": "ProgressStyleModel",
          "model_module_version": "1.5.0",
          "state": {
            "_model_module": "@jupyter-widgets/controls",
            "_model_module_version": "1.5.0",
            "_model_name": "ProgressStyleModel",
            "_view_count": null,
            "_view_module": "@jupyter-widgets/base",
            "_view_module_version": "1.2.0",
            "_view_name": "StyleView",
            "bar_color": null,
            "description_width": ""
          }
        },
        "c51d5195cb1a46fd931a1836b7b9592e": {
          "model_module": "@jupyter-widgets/base",
          "model_name": "LayoutModel",
          "model_module_version": "1.2.0",
          "state": {
            "_model_module": "@jupyter-widgets/base",
            "_model_module_version": "1.2.0",
            "_model_name": "LayoutModel",
            "_view_count": null,
            "_view_module": "@jupyter-widgets/base",
            "_view_module_version": "1.2.0",
            "_view_name": "LayoutView",
            "align_content": null,
            "align_items": null,
            "align_self": null,
            "border": null,
            "bottom": null,
            "display": null,
            "flex": null,
            "flex_flow": null,
            "grid_area": null,
            "grid_auto_columns": null,
            "grid_auto_flow": null,
            "grid_auto_rows": null,
            "grid_column": null,
            "grid_gap": null,
            "grid_row": null,
            "grid_template_areas": null,
            "grid_template_columns": null,
            "grid_template_rows": null,
            "height": null,
            "justify_content": null,
            "justify_items": null,
            "left": null,
            "margin": null,
            "max_height": null,
            "max_width": null,
            "min_height": null,
            "min_width": null,
            "object_fit": null,
            "object_position": null,
            "order": null,
            "overflow": null,
            "overflow_x": null,
            "overflow_y": null,
            "padding": null,
            "right": null,
            "top": null,
            "visibility": null,
            "width": null
          }
        },
        "9db25cb38346473eb0d5641e7ae59453": {
          "model_module": "@jupyter-widgets/controls",
          "model_name": "DescriptionStyleModel",
          "model_module_version": "1.5.0",
          "state": {
            "_model_module": "@jupyter-widgets/controls",
            "_model_module_version": "1.5.0",
            "_model_name": "DescriptionStyleModel",
            "_view_count": null,
            "_view_module": "@jupyter-widgets/base",
            "_view_module_version": "1.2.0",
            "_view_name": "StyleView",
            "description_width": ""
          }
        },
        "3f8239198d4c4e389db0c7ab12e59312": {
          "model_module": "@jupyter-widgets/controls",
          "model_name": "HBoxModel",
          "model_module_version": "1.5.0",
          "state": {
            "_dom_classes": [],
            "_model_module": "@jupyter-widgets/controls",
            "_model_module_version": "1.5.0",
            "_model_name": "HBoxModel",
            "_view_count": null,
            "_view_module": "@jupyter-widgets/controls",
            "_view_module_version": "1.5.0",
            "_view_name": "HBoxView",
            "box_style": "",
            "children": [
              "IPY_MODEL_9e38b7b7e03d4290b736773ad71aa915",
              "IPY_MODEL_59c827212fea422182bb14a063d559ae",
              "IPY_MODEL_1a3d1539a2824f2382bf8cd7fd848b17"
            ],
            "layout": "IPY_MODEL_3e2d9a7974924c83a36cb9c14edc5e83"
          }
        },
        "9e38b7b7e03d4290b736773ad71aa915": {
          "model_module": "@jupyter-widgets/controls",
          "model_name": "HTMLModel",
          "model_module_version": "1.5.0",
          "state": {
            "_dom_classes": [],
            "_model_module": "@jupyter-widgets/controls",
            "_model_module_version": "1.5.0",
            "_model_name": "HTMLModel",
            "_view_count": null,
            "_view_module": "@jupyter-widgets/controls",
            "_view_module_version": "1.5.0",
            "_view_name": "HTMLView",
            "description": "",
            "description_tooltip": null,
            "layout": "IPY_MODEL_bba1c80bd5ab4de68127cbfc2b10f066",
            "placeholder": "​",
            "style": "IPY_MODEL_16990d93d029492c9354cea0e2c9ce69",
            "value": ""
          }
        },
        "59c827212fea422182bb14a063d559ae": {
          "model_module": "@jupyter-widgets/controls",
          "model_name": "FloatProgressModel",
          "model_module_version": "1.5.0",
          "state": {
            "_dom_classes": [],
            "_model_module": "@jupyter-widgets/controls",
            "_model_module_version": "1.5.0",
            "_model_name": "FloatProgressModel",
            "_view_count": null,
            "_view_module": "@jupyter-widgets/controls",
            "_view_module_version": "1.5.0",
            "_view_name": "ProgressView",
            "bar_style": "info",
            "description": "",
            "description_tooltip": null,
            "layout": "IPY_MODEL_d15f32ee4a1e454a84c235af313b5526",
            "max": 1,
            "min": 0,
            "orientation": "horizontal",
            "style": "IPY_MODEL_c972e11d3aa84bd2a8e484d7c337f040",
            "value": 1
          }
        },
        "1a3d1539a2824f2382bf8cd7fd848b17": {
          "model_module": "@jupyter-widgets/controls",
          "model_name": "HTMLModel",
          "model_module_version": "1.5.0",
          "state": {
            "_dom_classes": [],
            "_model_module": "@jupyter-widgets/controls",
            "_model_module_version": "1.5.0",
            "_model_name": "HTMLModel",
            "_view_count": null,
            "_view_module": "@jupyter-widgets/controls",
            "_view_module_version": "1.5.0",
            "_view_name": "HTMLView",
            "description": "",
            "description_tooltip": null,
            "layout": "IPY_MODEL_64fd1b80fa84494f910e37916d262131",
            "placeholder": "​",
            "style": "IPY_MODEL_e092f04aade6406ba202fba53e4d9a62",
            "value": " 273/0 [00:04&lt;00:00, 134.01 examples/s]"
          }
        },
        "3e2d9a7974924c83a36cb9c14edc5e83": {
          "model_module": "@jupyter-widgets/base",
          "model_name": "LayoutModel",
          "model_module_version": "1.2.0",
          "state": {
            "_model_module": "@jupyter-widgets/base",
            "_model_module_version": "1.2.0",
            "_model_name": "LayoutModel",
            "_view_count": null,
            "_view_module": "@jupyter-widgets/base",
            "_view_module_version": "1.2.0",
            "_view_name": "LayoutView",
            "align_content": null,
            "align_items": null,
            "align_self": null,
            "border": null,
            "bottom": null,
            "display": null,
            "flex": null,
            "flex_flow": null,
            "grid_area": null,
            "grid_auto_columns": null,
            "grid_auto_flow": null,
            "grid_auto_rows": null,
            "grid_column": null,
            "grid_gap": null,
            "grid_row": null,
            "grid_template_areas": null,
            "grid_template_columns": null,
            "grid_template_rows": null,
            "height": null,
            "justify_content": null,
            "justify_items": null,
            "left": null,
            "margin": null,
            "max_height": null,
            "max_width": null,
            "min_height": null,
            "min_width": null,
            "object_fit": null,
            "object_position": null,
            "order": null,
            "overflow": null,
            "overflow_x": null,
            "overflow_y": null,
            "padding": null,
            "right": null,
            "top": null,
            "visibility": "hidden",
            "width": null
          }
        },
        "bba1c80bd5ab4de68127cbfc2b10f066": {
          "model_module": "@jupyter-widgets/base",
          "model_name": "LayoutModel",
          "model_module_version": "1.2.0",
          "state": {
            "_model_module": "@jupyter-widgets/base",
            "_model_module_version": "1.2.0",
            "_model_name": "LayoutModel",
            "_view_count": null,
            "_view_module": "@jupyter-widgets/base",
            "_view_module_version": "1.2.0",
            "_view_name": "LayoutView",
            "align_content": null,
            "align_items": null,
            "align_self": null,
            "border": null,
            "bottom": null,
            "display": null,
            "flex": null,
            "flex_flow": null,
            "grid_area": null,
            "grid_auto_columns": null,
            "grid_auto_flow": null,
            "grid_auto_rows": null,
            "grid_column": null,
            "grid_gap": null,
            "grid_row": null,
            "grid_template_areas": null,
            "grid_template_columns": null,
            "grid_template_rows": null,
            "height": null,
            "justify_content": null,
            "justify_items": null,
            "left": null,
            "margin": null,
            "max_height": null,
            "max_width": null,
            "min_height": null,
            "min_width": null,
            "object_fit": null,
            "object_position": null,
            "order": null,
            "overflow": null,
            "overflow_x": null,
            "overflow_y": null,
            "padding": null,
            "right": null,
            "top": null,
            "visibility": null,
            "width": null
          }
        },
        "16990d93d029492c9354cea0e2c9ce69": {
          "model_module": "@jupyter-widgets/controls",
          "model_name": "DescriptionStyleModel",
          "model_module_version": "1.5.0",
          "state": {
            "_model_module": "@jupyter-widgets/controls",
            "_model_module_version": "1.5.0",
            "_model_name": "DescriptionStyleModel",
            "_view_count": null,
            "_view_module": "@jupyter-widgets/base",
            "_view_module_version": "1.2.0",
            "_view_name": "StyleView",
            "description_width": ""
          }
        },
        "d15f32ee4a1e454a84c235af313b5526": {
          "model_module": "@jupyter-widgets/base",
          "model_name": "LayoutModel",
          "model_module_version": "1.2.0",
          "state": {
            "_model_module": "@jupyter-widgets/base",
            "_model_module_version": "1.2.0",
            "_model_name": "LayoutModel",
            "_view_count": null,
            "_view_module": "@jupyter-widgets/base",
            "_view_module_version": "1.2.0",
            "_view_name": "LayoutView",
            "align_content": null,
            "align_items": null,
            "align_self": null,
            "border": null,
            "bottom": null,
            "display": null,
            "flex": null,
            "flex_flow": null,
            "grid_area": null,
            "grid_auto_columns": null,
            "grid_auto_flow": null,
            "grid_auto_rows": null,
            "grid_column": null,
            "grid_gap": null,
            "grid_row": null,
            "grid_template_areas": null,
            "grid_template_columns": null,
            "grid_template_rows": null,
            "height": null,
            "justify_content": null,
            "justify_items": null,
            "left": null,
            "margin": null,
            "max_height": null,
            "max_width": null,
            "min_height": null,
            "min_width": null,
            "object_fit": null,
            "object_position": null,
            "order": null,
            "overflow": null,
            "overflow_x": null,
            "overflow_y": null,
            "padding": null,
            "right": null,
            "top": null,
            "visibility": null,
            "width": "20px"
          }
        },
        "c972e11d3aa84bd2a8e484d7c337f040": {
          "model_module": "@jupyter-widgets/controls",
          "model_name": "ProgressStyleModel",
          "model_module_version": "1.5.0",
          "state": {
            "_model_module": "@jupyter-widgets/controls",
            "_model_module_version": "1.5.0",
            "_model_name": "ProgressStyleModel",
            "_view_count": null,
            "_view_module": "@jupyter-widgets/base",
            "_view_module_version": "1.2.0",
            "_view_name": "StyleView",
            "bar_color": null,
            "description_width": ""
          }
        },
        "64fd1b80fa84494f910e37916d262131": {
          "model_module": "@jupyter-widgets/base",
          "model_name": "LayoutModel",
          "model_module_version": "1.2.0",
          "state": {
            "_model_module": "@jupyter-widgets/base",
            "_model_module_version": "1.2.0",
            "_model_name": "LayoutModel",
            "_view_count": null,
            "_view_module": "@jupyter-widgets/base",
            "_view_module_version": "1.2.0",
            "_view_name": "LayoutView",
            "align_content": null,
            "align_items": null,
            "align_self": null,
            "border": null,
            "bottom": null,
            "display": null,
            "flex": null,
            "flex_flow": null,
            "grid_area": null,
            "grid_auto_columns": null,
            "grid_auto_flow": null,
            "grid_auto_rows": null,
            "grid_column": null,
            "grid_gap": null,
            "grid_row": null,
            "grid_template_areas": null,
            "grid_template_columns": null,
            "grid_template_rows": null,
            "height": null,
            "justify_content": null,
            "justify_items": null,
            "left": null,
            "margin": null,
            "max_height": null,
            "max_width": null,
            "min_height": null,
            "min_width": null,
            "object_fit": null,
            "object_position": null,
            "order": null,
            "overflow": null,
            "overflow_x": null,
            "overflow_y": null,
            "padding": null,
            "right": null,
            "top": null,
            "visibility": null,
            "width": null
          }
        },
        "e092f04aade6406ba202fba53e4d9a62": {
          "model_module": "@jupyter-widgets/controls",
          "model_name": "DescriptionStyleModel",
          "model_module_version": "1.5.0",
          "state": {
            "_model_module": "@jupyter-widgets/controls",
            "_model_module_version": "1.5.0",
            "_model_name": "DescriptionStyleModel",
            "_view_count": null,
            "_view_module": "@jupyter-widgets/base",
            "_view_module_version": "1.2.0",
            "_view_name": "StyleView",
            "description_width": ""
          }
        },
        "561aa425ebf244f1943f6da0151471bc": {
          "model_module": "@jupyter-widgets/controls",
          "model_name": "HBoxModel",
          "model_module_version": "1.5.0",
          "state": {
            "_dom_classes": [],
            "_model_module": "@jupyter-widgets/controls",
            "_model_module_version": "1.5.0",
            "_model_name": "HBoxModel",
            "_view_count": null,
            "_view_module": "@jupyter-widgets/controls",
            "_view_module_version": "1.5.0",
            "_view_name": "HBoxView",
            "box_style": "",
            "children": [
              "IPY_MODEL_3e817c39abc64aa68b743022c162ca5d",
              "IPY_MODEL_8e4222f00bc044febe30d09ed89ec26c",
              "IPY_MODEL_dd928e808b29403e85571032f93970a8"
            ],
            "layout": "IPY_MODEL_753c0108b36b457491931aed2e9c9cc9"
          }
        },
        "3e817c39abc64aa68b743022c162ca5d": {
          "model_module": "@jupyter-widgets/controls",
          "model_name": "HTMLModel",
          "model_module_version": "1.5.0",
          "state": {
            "_dom_classes": [],
            "_model_module": "@jupyter-widgets/controls",
            "_model_module_version": "1.5.0",
            "_model_name": "HTMLModel",
            "_view_count": null,
            "_view_module": "@jupyter-widgets/controls",
            "_view_module_version": "1.5.0",
            "_view_name": "HTMLView",
            "description": "",
            "description_tooltip": null,
            "layout": "IPY_MODEL_a3bd581201234037aa2b56722f2d20fb",
            "placeholder": "​",
            "style": "IPY_MODEL_254a3f139e1043278b10e46efacbda0f",
            "value": ""
          }
        },
        "8e4222f00bc044febe30d09ed89ec26c": {
          "model_module": "@jupyter-widgets/controls",
          "model_name": "FloatProgressModel",
          "model_module_version": "1.5.0",
          "state": {
            "_dom_classes": [],
            "_model_module": "@jupyter-widgets/controls",
            "_model_module_version": "1.5.0",
            "_model_name": "FloatProgressModel",
            "_view_count": null,
            "_view_module": "@jupyter-widgets/controls",
            "_view_module_version": "1.5.0",
            "_view_name": "ProgressView",
            "bar_style": "info",
            "description": "",
            "description_tooltip": null,
            "layout": "IPY_MODEL_6b116cf1c2534b5a9e72c4708a2f4897",
            "max": 1,
            "min": 0,
            "orientation": "horizontal",
            "style": "IPY_MODEL_e9ff538fb7c9457889734b9264fc0a3e",
            "value": 1
          }
        },
        "dd928e808b29403e85571032f93970a8": {
          "model_module": "@jupyter-widgets/controls",
          "model_name": "HTMLModel",
          "model_module_version": "1.5.0",
          "state": {
            "_dom_classes": [],
            "_model_module": "@jupyter-widgets/controls",
            "_model_module_version": "1.5.0",
            "_model_name": "HTMLModel",
            "_view_count": null,
            "_view_module": "@jupyter-widgets/controls",
            "_view_module_version": "1.5.0",
            "_view_name": "HTMLView",
            "description": "",
            "description_tooltip": null,
            "layout": "IPY_MODEL_c124e1cae11c48499f90a721e333bc47",
            "placeholder": "​",
            "style": "IPY_MODEL_802df6eeb7a64a06946e7a4235b0b86f",
            "value": " 1692/0 [00:05&lt;00:00, 186.90 examples/s]"
          }
        },
        "753c0108b36b457491931aed2e9c9cc9": {
          "model_module": "@jupyter-widgets/base",
          "model_name": "LayoutModel",
          "model_module_version": "1.2.0",
          "state": {
            "_model_module": "@jupyter-widgets/base",
            "_model_module_version": "1.2.0",
            "_model_name": "LayoutModel",
            "_view_count": null,
            "_view_module": "@jupyter-widgets/base",
            "_view_module_version": "1.2.0",
            "_view_name": "LayoutView",
            "align_content": null,
            "align_items": null,
            "align_self": null,
            "border": null,
            "bottom": null,
            "display": null,
            "flex": null,
            "flex_flow": null,
            "grid_area": null,
            "grid_auto_columns": null,
            "grid_auto_flow": null,
            "grid_auto_rows": null,
            "grid_column": null,
            "grid_gap": null,
            "grid_row": null,
            "grid_template_areas": null,
            "grid_template_columns": null,
            "grid_template_rows": null,
            "height": null,
            "justify_content": null,
            "justify_items": null,
            "left": null,
            "margin": null,
            "max_height": null,
            "max_width": null,
            "min_height": null,
            "min_width": null,
            "object_fit": null,
            "object_position": null,
            "order": null,
            "overflow": null,
            "overflow_x": null,
            "overflow_y": null,
            "padding": null,
            "right": null,
            "top": null,
            "visibility": "hidden",
            "width": null
          }
        },
        "a3bd581201234037aa2b56722f2d20fb": {
          "model_module": "@jupyter-widgets/base",
          "model_name": "LayoutModel",
          "model_module_version": "1.2.0",
          "state": {
            "_model_module": "@jupyter-widgets/base",
            "_model_module_version": "1.2.0",
            "_model_name": "LayoutModel",
            "_view_count": null,
            "_view_module": "@jupyter-widgets/base",
            "_view_module_version": "1.2.0",
            "_view_name": "LayoutView",
            "align_content": null,
            "align_items": null,
            "align_self": null,
            "border": null,
            "bottom": null,
            "display": null,
            "flex": null,
            "flex_flow": null,
            "grid_area": null,
            "grid_auto_columns": null,
            "grid_auto_flow": null,
            "grid_auto_rows": null,
            "grid_column": null,
            "grid_gap": null,
            "grid_row": null,
            "grid_template_areas": null,
            "grid_template_columns": null,
            "grid_template_rows": null,
            "height": null,
            "justify_content": null,
            "justify_items": null,
            "left": null,
            "margin": null,
            "max_height": null,
            "max_width": null,
            "min_height": null,
            "min_width": null,
            "object_fit": null,
            "object_position": null,
            "order": null,
            "overflow": null,
            "overflow_x": null,
            "overflow_y": null,
            "padding": null,
            "right": null,
            "top": null,
            "visibility": null,
            "width": null
          }
        },
        "254a3f139e1043278b10e46efacbda0f": {
          "model_module": "@jupyter-widgets/controls",
          "model_name": "DescriptionStyleModel",
          "model_module_version": "1.5.0",
          "state": {
            "_model_module": "@jupyter-widgets/controls",
            "_model_module_version": "1.5.0",
            "_model_name": "DescriptionStyleModel",
            "_view_count": null,
            "_view_module": "@jupyter-widgets/base",
            "_view_module_version": "1.2.0",
            "_view_name": "StyleView",
            "description_width": ""
          }
        },
        "6b116cf1c2534b5a9e72c4708a2f4897": {
          "model_module": "@jupyter-widgets/base",
          "model_name": "LayoutModel",
          "model_module_version": "1.2.0",
          "state": {
            "_model_module": "@jupyter-widgets/base",
            "_model_module_version": "1.2.0",
            "_model_name": "LayoutModel",
            "_view_count": null,
            "_view_module": "@jupyter-widgets/base",
            "_view_module_version": "1.2.0",
            "_view_name": "LayoutView",
            "align_content": null,
            "align_items": null,
            "align_self": null,
            "border": null,
            "bottom": null,
            "display": null,
            "flex": null,
            "flex_flow": null,
            "grid_area": null,
            "grid_auto_columns": null,
            "grid_auto_flow": null,
            "grid_auto_rows": null,
            "grid_column": null,
            "grid_gap": null,
            "grid_row": null,
            "grid_template_areas": null,
            "grid_template_columns": null,
            "grid_template_rows": null,
            "height": null,
            "justify_content": null,
            "justify_items": null,
            "left": null,
            "margin": null,
            "max_height": null,
            "max_width": null,
            "min_height": null,
            "min_width": null,
            "object_fit": null,
            "object_position": null,
            "order": null,
            "overflow": null,
            "overflow_x": null,
            "overflow_y": null,
            "padding": null,
            "right": null,
            "top": null,
            "visibility": null,
            "width": "20px"
          }
        },
        "e9ff538fb7c9457889734b9264fc0a3e": {
          "model_module": "@jupyter-widgets/controls",
          "model_name": "ProgressStyleModel",
          "model_module_version": "1.5.0",
          "state": {
            "_model_module": "@jupyter-widgets/controls",
            "_model_module_version": "1.5.0",
            "_model_name": "ProgressStyleModel",
            "_view_count": null,
            "_view_module": "@jupyter-widgets/base",
            "_view_module_version": "1.2.0",
            "_view_name": "StyleView",
            "bar_color": null,
            "description_width": ""
          }
        },
        "c124e1cae11c48499f90a721e333bc47": {
          "model_module": "@jupyter-widgets/base",
          "model_name": "LayoutModel",
          "model_module_version": "1.2.0",
          "state": {
            "_model_module": "@jupyter-widgets/base",
            "_model_module_version": "1.2.0",
            "_model_name": "LayoutModel",
            "_view_count": null,
            "_view_module": "@jupyter-widgets/base",
            "_view_module_version": "1.2.0",
            "_view_name": "LayoutView",
            "align_content": null,
            "align_items": null,
            "align_self": null,
            "border": null,
            "bottom": null,
            "display": null,
            "flex": null,
            "flex_flow": null,
            "grid_area": null,
            "grid_auto_columns": null,
            "grid_auto_flow": null,
            "grid_auto_rows": null,
            "grid_column": null,
            "grid_gap": null,
            "grid_row": null,
            "grid_template_areas": null,
            "grid_template_columns": null,
            "grid_template_rows": null,
            "height": null,
            "justify_content": null,
            "justify_items": null,
            "left": null,
            "margin": null,
            "max_height": null,
            "max_width": null,
            "min_height": null,
            "min_width": null,
            "object_fit": null,
            "object_position": null,
            "order": null,
            "overflow": null,
            "overflow_x": null,
            "overflow_y": null,
            "padding": null,
            "right": null,
            "top": null,
            "visibility": null,
            "width": null
          }
        },
        "802df6eeb7a64a06946e7a4235b0b86f": {
          "model_module": "@jupyter-widgets/controls",
          "model_name": "DescriptionStyleModel",
          "model_module_version": "1.5.0",
          "state": {
            "_model_module": "@jupyter-widgets/controls",
            "_model_module_version": "1.5.0",
            "_model_name": "DescriptionStyleModel",
            "_view_count": null,
            "_view_module": "@jupyter-widgets/base",
            "_view_module_version": "1.2.0",
            "_view_name": "StyleView",
            "description_width": ""
          }
        },
        "266d7b9f7f05493ca2473247d6388452": {
          "model_module": "@jupyter-widgets/controls",
          "model_name": "HBoxModel",
          "model_module_version": "1.5.0",
          "state": {
            "_dom_classes": [],
            "_model_module": "@jupyter-widgets/controls",
            "_model_module_version": "1.5.0",
            "_model_name": "HBoxModel",
            "_view_count": null,
            "_view_module": "@jupyter-widgets/controls",
            "_view_module_version": "1.5.0",
            "_view_name": "HBoxView",
            "box_style": "",
            "children": [
              "IPY_MODEL_59c77863af2e491f9bc2969636d5b6f5",
              "IPY_MODEL_587a3ebfb89b4e968c27ce135709a277",
              "IPY_MODEL_8c549263541d43a7af58850482ceb272"
            ],
            "layout": "IPY_MODEL_c2bafd97b2a246fda60e30d698d0aa57"
          }
        },
        "59c77863af2e491f9bc2969636d5b6f5": {
          "model_module": "@jupyter-widgets/controls",
          "model_name": "HTMLModel",
          "model_module_version": "1.5.0",
          "state": {
            "_dom_classes": [],
            "_model_module": "@jupyter-widgets/controls",
            "_model_module_version": "1.5.0",
            "_model_name": "HTMLModel",
            "_view_count": null,
            "_view_module": "@jupyter-widgets/controls",
            "_view_module_version": "1.5.0",
            "_view_name": "HTMLView",
            "description": "",
            "description_tooltip": null,
            "layout": "IPY_MODEL_4c611f0221ff4f08a99dcaf9cac73b0a",
            "placeholder": "​",
            "style": "IPY_MODEL_530ee61b9e57477798cebc8dc975f374",
            "value": ""
          }
        },
        "587a3ebfb89b4e968c27ce135709a277": {
          "model_module": "@jupyter-widgets/controls",
          "model_name": "FloatProgressModel",
          "model_module_version": "1.5.0",
          "state": {
            "_dom_classes": [],
            "_model_module": "@jupyter-widgets/controls",
            "_model_module_version": "1.5.0",
            "_model_name": "FloatProgressModel",
            "_view_count": null,
            "_view_module": "@jupyter-widgets/controls",
            "_view_module_version": "1.5.0",
            "_view_name": "ProgressView",
            "bar_style": "success",
            "description": "",
            "description_tooltip": null,
            "layout": "IPY_MODEL_b12281b109a84aa6acff2a8e86fa4987",
            "max": 1,
            "min": 0,
            "orientation": "horizontal",
            "style": "IPY_MODEL_427df4bc47a94e60bbb79442c50d9a85",
            "value": 1
          }
        },
        "8c549263541d43a7af58850482ceb272": {
          "model_module": "@jupyter-widgets/controls",
          "model_name": "HTMLModel",
          "model_module_version": "1.5.0",
          "state": {
            "_dom_classes": [],
            "_model_module": "@jupyter-widgets/controls",
            "_model_module_version": "1.5.0",
            "_model_name": "HTMLModel",
            "_view_count": null,
            "_view_module": "@jupyter-widgets/controls",
            "_view_module_version": "1.5.0",
            "_view_name": "HTMLView",
            "description": "",
            "description_tooltip": null,
            "layout": "IPY_MODEL_7af9a817964b4454adfc314f912c326a",
            "placeholder": "​",
            "style": "IPY_MODEL_dedcdc574b28456aa0207d6878c228f3",
            "value": " 3478/? [00:01&lt;00:00, 3137.66ex/s]"
          }
        },
        "c2bafd97b2a246fda60e30d698d0aa57": {
          "model_module": "@jupyter-widgets/base",
          "model_name": "LayoutModel",
          "model_module_version": "1.2.0",
          "state": {
            "_model_module": "@jupyter-widgets/base",
            "_model_module_version": "1.2.0",
            "_model_name": "LayoutModel",
            "_view_count": null,
            "_view_module": "@jupyter-widgets/base",
            "_view_module_version": "1.2.0",
            "_view_name": "LayoutView",
            "align_content": null,
            "align_items": null,
            "align_self": null,
            "border": null,
            "bottom": null,
            "display": null,
            "flex": null,
            "flex_flow": null,
            "grid_area": null,
            "grid_auto_columns": null,
            "grid_auto_flow": null,
            "grid_auto_rows": null,
            "grid_column": null,
            "grid_gap": null,
            "grid_row": null,
            "grid_template_areas": null,
            "grid_template_columns": null,
            "grid_template_rows": null,
            "height": null,
            "justify_content": null,
            "justify_items": null,
            "left": null,
            "margin": null,
            "max_height": null,
            "max_width": null,
            "min_height": null,
            "min_width": null,
            "object_fit": null,
            "object_position": null,
            "order": null,
            "overflow": null,
            "overflow_x": null,
            "overflow_y": null,
            "padding": null,
            "right": null,
            "top": null,
            "visibility": null,
            "width": null
          }
        },
        "4c611f0221ff4f08a99dcaf9cac73b0a": {
          "model_module": "@jupyter-widgets/base",
          "model_name": "LayoutModel",
          "model_module_version": "1.2.0",
          "state": {
            "_model_module": "@jupyter-widgets/base",
            "_model_module_version": "1.2.0",
            "_model_name": "LayoutModel",
            "_view_count": null,
            "_view_module": "@jupyter-widgets/base",
            "_view_module_version": "1.2.0",
            "_view_name": "LayoutView",
            "align_content": null,
            "align_items": null,
            "align_self": null,
            "border": null,
            "bottom": null,
            "display": null,
            "flex": null,
            "flex_flow": null,
            "grid_area": null,
            "grid_auto_columns": null,
            "grid_auto_flow": null,
            "grid_auto_rows": null,
            "grid_column": null,
            "grid_gap": null,
            "grid_row": null,
            "grid_template_areas": null,
            "grid_template_columns": null,
            "grid_template_rows": null,
            "height": null,
            "justify_content": null,
            "justify_items": null,
            "left": null,
            "margin": null,
            "max_height": null,
            "max_width": null,
            "min_height": null,
            "min_width": null,
            "object_fit": null,
            "object_position": null,
            "order": null,
            "overflow": null,
            "overflow_x": null,
            "overflow_y": null,
            "padding": null,
            "right": null,
            "top": null,
            "visibility": null,
            "width": null
          }
        },
        "530ee61b9e57477798cebc8dc975f374": {
          "model_module": "@jupyter-widgets/controls",
          "model_name": "DescriptionStyleModel",
          "model_module_version": "1.5.0",
          "state": {
            "_model_module": "@jupyter-widgets/controls",
            "_model_module_version": "1.5.0",
            "_model_name": "DescriptionStyleModel",
            "_view_count": null,
            "_view_module": "@jupyter-widgets/base",
            "_view_module_version": "1.2.0",
            "_view_name": "StyleView",
            "description_width": ""
          }
        },
        "b12281b109a84aa6acff2a8e86fa4987": {
          "model_module": "@jupyter-widgets/base",
          "model_name": "LayoutModel",
          "model_module_version": "1.2.0",
          "state": {
            "_model_module": "@jupyter-widgets/base",
            "_model_module_version": "1.2.0",
            "_model_name": "LayoutModel",
            "_view_count": null,
            "_view_module": "@jupyter-widgets/base",
            "_view_module_version": "1.2.0",
            "_view_name": "LayoutView",
            "align_content": null,
            "align_items": null,
            "align_self": null,
            "border": null,
            "bottom": null,
            "display": null,
            "flex": null,
            "flex_flow": null,
            "grid_area": null,
            "grid_auto_columns": null,
            "grid_auto_flow": null,
            "grid_auto_rows": null,
            "grid_column": null,
            "grid_gap": null,
            "grid_row": null,
            "grid_template_areas": null,
            "grid_template_columns": null,
            "grid_template_rows": null,
            "height": null,
            "justify_content": null,
            "justify_items": null,
            "left": null,
            "margin": null,
            "max_height": null,
            "max_width": null,
            "min_height": null,
            "min_width": null,
            "object_fit": null,
            "object_position": null,
            "order": null,
            "overflow": null,
            "overflow_x": null,
            "overflow_y": null,
            "padding": null,
            "right": null,
            "top": null,
            "visibility": null,
            "width": "20px"
          }
        },
        "427df4bc47a94e60bbb79442c50d9a85": {
          "model_module": "@jupyter-widgets/controls",
          "model_name": "ProgressStyleModel",
          "model_module_version": "1.5.0",
          "state": {
            "_model_module": "@jupyter-widgets/controls",
            "_model_module_version": "1.5.0",
            "_model_name": "ProgressStyleModel",
            "_view_count": null,
            "_view_module": "@jupyter-widgets/base",
            "_view_module_version": "1.2.0",
            "_view_name": "StyleView",
            "bar_color": null,
            "description_width": ""
          }
        },
        "7af9a817964b4454adfc314f912c326a": {
          "model_module": "@jupyter-widgets/base",
          "model_name": "LayoutModel",
          "model_module_version": "1.2.0",
          "state": {
            "_model_module": "@jupyter-widgets/base",
            "_model_module_version": "1.2.0",
            "_model_name": "LayoutModel",
            "_view_count": null,
            "_view_module": "@jupyter-widgets/base",
            "_view_module_version": "1.2.0",
            "_view_name": "LayoutView",
            "align_content": null,
            "align_items": null,
            "align_self": null,
            "border": null,
            "bottom": null,
            "display": null,
            "flex": null,
            "flex_flow": null,
            "grid_area": null,
            "grid_auto_columns": null,
            "grid_auto_flow": null,
            "grid_auto_rows": null,
            "grid_column": null,
            "grid_gap": null,
            "grid_row": null,
            "grid_template_areas": null,
            "grid_template_columns": null,
            "grid_template_rows": null,
            "height": null,
            "justify_content": null,
            "justify_items": null,
            "left": null,
            "margin": null,
            "max_height": null,
            "max_width": null,
            "min_height": null,
            "min_width": null,
            "object_fit": null,
            "object_position": null,
            "order": null,
            "overflow": null,
            "overflow_x": null,
            "overflow_y": null,
            "padding": null,
            "right": null,
            "top": null,
            "visibility": null,
            "width": null
          }
        },
        "dedcdc574b28456aa0207d6878c228f3": {
          "model_module": "@jupyter-widgets/controls",
          "model_name": "DescriptionStyleModel",
          "model_module_version": "1.5.0",
          "state": {
            "_model_module": "@jupyter-widgets/controls",
            "_model_module_version": "1.5.0",
            "_model_name": "DescriptionStyleModel",
            "_view_count": null,
            "_view_module": "@jupyter-widgets/base",
            "_view_module_version": "1.2.0",
            "_view_name": "StyleView",
            "description_width": ""
          }
        },
        "89826c207b994a80a3da686535de3383": {
          "model_module": "@jupyter-widgets/controls",
          "model_name": "HBoxModel",
          "model_module_version": "1.5.0",
          "state": {
            "_dom_classes": [],
            "_model_module": "@jupyter-widgets/controls",
            "_model_module_version": "1.5.0",
            "_model_name": "HBoxModel",
            "_view_count": null,
            "_view_module": "@jupyter-widgets/controls",
            "_view_module_version": "1.5.0",
            "_view_name": "HBoxView",
            "box_style": "",
            "children": [
              "IPY_MODEL_e3cb9d6cd1374d958cf98dd7db7b4fb0",
              "IPY_MODEL_e225f156230f44bd948eaad2ed349603",
              "IPY_MODEL_53aa6f771b4b4e1d8496aa48a4814742"
            ],
            "layout": "IPY_MODEL_ad8aa40df20f4ff6b9ce358d4cf3300a"
          }
        },
        "e3cb9d6cd1374d958cf98dd7db7b4fb0": {
          "model_module": "@jupyter-widgets/controls",
          "model_name": "HTMLModel",
          "model_module_version": "1.5.0",
          "state": {
            "_dom_classes": [],
            "_model_module": "@jupyter-widgets/controls",
            "_model_module_version": "1.5.0",
            "_model_name": "HTMLModel",
            "_view_count": null,
            "_view_module": "@jupyter-widgets/controls",
            "_view_module_version": "1.5.0",
            "_view_name": "HTMLView",
            "description": "",
            "description_tooltip": null,
            "layout": "IPY_MODEL_6b7dddaca5be410cb09b93dfe5924600",
            "placeholder": "​",
            "style": "IPY_MODEL_3a168233ee3948c1b4d8bd86e84eaa2d",
            "value": ""
          }
        },
        "e225f156230f44bd948eaad2ed349603": {
          "model_module": "@jupyter-widgets/controls",
          "model_name": "FloatProgressModel",
          "model_module_version": "1.5.0",
          "state": {
            "_dom_classes": [],
            "_model_module": "@jupyter-widgets/controls",
            "_model_module_version": "1.5.0",
            "_model_name": "FloatProgressModel",
            "_view_count": null,
            "_view_module": "@jupyter-widgets/controls",
            "_view_module_version": "1.5.0",
            "_view_name": "ProgressView",
            "bar_style": "success",
            "description": "",
            "description_tooltip": null,
            "layout": "IPY_MODEL_7246dd449a8945aa85ee9d69812eb736",
            "max": 1,
            "min": 0,
            "orientation": "horizontal",
            "style": "IPY_MODEL_ee68f0dfb4b64eac975ab505be280f0b",
            "value": 1
          }
        },
        "53aa6f771b4b4e1d8496aa48a4814742": {
          "model_module": "@jupyter-widgets/controls",
          "model_name": "HTMLModel",
          "model_module_version": "1.5.0",
          "state": {
            "_dom_classes": [],
            "_model_module": "@jupyter-widgets/controls",
            "_model_module_version": "1.5.0",
            "_model_name": "HTMLModel",
            "_view_count": null,
            "_view_module": "@jupyter-widgets/controls",
            "_view_module_version": "1.5.0",
            "_view_name": "HTMLView",
            "description": "",
            "description_tooltip": null,
            "layout": "IPY_MODEL_5b13f9d6ae164af882945c0d49953841",
            "placeholder": "​",
            "style": "IPY_MODEL_a6f3061218234c6bbd6aabd951db20ea",
            "value": " 1647/? [00:00&lt;00:00, 2787.27ex/s]"
          }
        },
        "ad8aa40df20f4ff6b9ce358d4cf3300a": {
          "model_module": "@jupyter-widgets/base",
          "model_name": "LayoutModel",
          "model_module_version": "1.2.0",
          "state": {
            "_model_module": "@jupyter-widgets/base",
            "_model_module_version": "1.2.0",
            "_model_name": "LayoutModel",
            "_view_count": null,
            "_view_module": "@jupyter-widgets/base",
            "_view_module_version": "1.2.0",
            "_view_name": "LayoutView",
            "align_content": null,
            "align_items": null,
            "align_self": null,
            "border": null,
            "bottom": null,
            "display": null,
            "flex": null,
            "flex_flow": null,
            "grid_area": null,
            "grid_auto_columns": null,
            "grid_auto_flow": null,
            "grid_auto_rows": null,
            "grid_column": null,
            "grid_gap": null,
            "grid_row": null,
            "grid_template_areas": null,
            "grid_template_columns": null,
            "grid_template_rows": null,
            "height": null,
            "justify_content": null,
            "justify_items": null,
            "left": null,
            "margin": null,
            "max_height": null,
            "max_width": null,
            "min_height": null,
            "min_width": null,
            "object_fit": null,
            "object_position": null,
            "order": null,
            "overflow": null,
            "overflow_x": null,
            "overflow_y": null,
            "padding": null,
            "right": null,
            "top": null,
            "visibility": null,
            "width": null
          }
        },
        "6b7dddaca5be410cb09b93dfe5924600": {
          "model_module": "@jupyter-widgets/base",
          "model_name": "LayoutModel",
          "model_module_version": "1.2.0",
          "state": {
            "_model_module": "@jupyter-widgets/base",
            "_model_module_version": "1.2.0",
            "_model_name": "LayoutModel",
            "_view_count": null,
            "_view_module": "@jupyter-widgets/base",
            "_view_module_version": "1.2.0",
            "_view_name": "LayoutView",
            "align_content": null,
            "align_items": null,
            "align_self": null,
            "border": null,
            "bottom": null,
            "display": null,
            "flex": null,
            "flex_flow": null,
            "grid_area": null,
            "grid_auto_columns": null,
            "grid_auto_flow": null,
            "grid_auto_rows": null,
            "grid_column": null,
            "grid_gap": null,
            "grid_row": null,
            "grid_template_areas": null,
            "grid_template_columns": null,
            "grid_template_rows": null,
            "height": null,
            "justify_content": null,
            "justify_items": null,
            "left": null,
            "margin": null,
            "max_height": null,
            "max_width": null,
            "min_height": null,
            "min_width": null,
            "object_fit": null,
            "object_position": null,
            "order": null,
            "overflow": null,
            "overflow_x": null,
            "overflow_y": null,
            "padding": null,
            "right": null,
            "top": null,
            "visibility": null,
            "width": null
          }
        },
        "3a168233ee3948c1b4d8bd86e84eaa2d": {
          "model_module": "@jupyter-widgets/controls",
          "model_name": "DescriptionStyleModel",
          "model_module_version": "1.5.0",
          "state": {
            "_model_module": "@jupyter-widgets/controls",
            "_model_module_version": "1.5.0",
            "_model_name": "DescriptionStyleModel",
            "_view_count": null,
            "_view_module": "@jupyter-widgets/base",
            "_view_module_version": "1.2.0",
            "_view_name": "StyleView",
            "description_width": ""
          }
        },
        "7246dd449a8945aa85ee9d69812eb736": {
          "model_module": "@jupyter-widgets/base",
          "model_name": "LayoutModel",
          "model_module_version": "1.2.0",
          "state": {
            "_model_module": "@jupyter-widgets/base",
            "_model_module_version": "1.2.0",
            "_model_name": "LayoutModel",
            "_view_count": null,
            "_view_module": "@jupyter-widgets/base",
            "_view_module_version": "1.2.0",
            "_view_name": "LayoutView",
            "align_content": null,
            "align_items": null,
            "align_self": null,
            "border": null,
            "bottom": null,
            "display": null,
            "flex": null,
            "flex_flow": null,
            "grid_area": null,
            "grid_auto_columns": null,
            "grid_auto_flow": null,
            "grid_auto_rows": null,
            "grid_column": null,
            "grid_gap": null,
            "grid_row": null,
            "grid_template_areas": null,
            "grid_template_columns": null,
            "grid_template_rows": null,
            "height": null,
            "justify_content": null,
            "justify_items": null,
            "left": null,
            "margin": null,
            "max_height": null,
            "max_width": null,
            "min_height": null,
            "min_width": null,
            "object_fit": null,
            "object_position": null,
            "order": null,
            "overflow": null,
            "overflow_x": null,
            "overflow_y": null,
            "padding": null,
            "right": null,
            "top": null,
            "visibility": null,
            "width": "20px"
          }
        },
        "ee68f0dfb4b64eac975ab505be280f0b": {
          "model_module": "@jupyter-widgets/controls",
          "model_name": "ProgressStyleModel",
          "model_module_version": "1.5.0",
          "state": {
            "_model_module": "@jupyter-widgets/controls",
            "_model_module_version": "1.5.0",
            "_model_name": "ProgressStyleModel",
            "_view_count": null,
            "_view_module": "@jupyter-widgets/base",
            "_view_module_version": "1.2.0",
            "_view_name": "StyleView",
            "bar_color": null,
            "description_width": ""
          }
        },
        "5b13f9d6ae164af882945c0d49953841": {
          "model_module": "@jupyter-widgets/base",
          "model_name": "LayoutModel",
          "model_module_version": "1.2.0",
          "state": {
            "_model_module": "@jupyter-widgets/base",
            "_model_module_version": "1.2.0",
            "_model_name": "LayoutModel",
            "_view_count": null,
            "_view_module": "@jupyter-widgets/base",
            "_view_module_version": "1.2.0",
            "_view_name": "LayoutView",
            "align_content": null,
            "align_items": null,
            "align_self": null,
            "border": null,
            "bottom": null,
            "display": null,
            "flex": null,
            "flex_flow": null,
            "grid_area": null,
            "grid_auto_columns": null,
            "grid_auto_flow": null,
            "grid_auto_rows": null,
            "grid_column": null,
            "grid_gap": null,
            "grid_row": null,
            "grid_template_areas": null,
            "grid_template_columns": null,
            "grid_template_rows": null,
            "height": null,
            "justify_content": null,
            "justify_items": null,
            "left": null,
            "margin": null,
            "max_height": null,
            "max_width": null,
            "min_height": null,
            "min_width": null,
            "object_fit": null,
            "object_position": null,
            "order": null,
            "overflow": null,
            "overflow_x": null,
            "overflow_y": null,
            "padding": null,
            "right": null,
            "top": null,
            "visibility": null,
            "width": null
          }
        },
        "a6f3061218234c6bbd6aabd951db20ea": {
          "model_module": "@jupyter-widgets/controls",
          "model_name": "DescriptionStyleModel",
          "model_module_version": "1.5.0",
          "state": {
            "_model_module": "@jupyter-widgets/controls",
            "_model_module_version": "1.5.0",
            "_model_name": "DescriptionStyleModel",
            "_view_count": null,
            "_view_module": "@jupyter-widgets/base",
            "_view_module_version": "1.2.0",
            "_view_name": "StyleView",
            "description_width": ""
          }
        },
        "ed2419d445114a3fbfeb05f4e493cc3a": {
          "model_module": "@jupyter-widgets/controls",
          "model_name": "HBoxModel",
          "model_module_version": "1.5.0",
          "state": {
            "_dom_classes": [],
            "_model_module": "@jupyter-widgets/controls",
            "_model_module_version": "1.5.0",
            "_model_name": "HBoxModel",
            "_view_count": null,
            "_view_module": "@jupyter-widgets/controls",
            "_view_module_version": "1.5.0",
            "_view_name": "HBoxView",
            "box_style": "",
            "children": [
              "IPY_MODEL_05baeeb7270d4d0098749b3df109f2a6",
              "IPY_MODEL_e946d203dc744ba4828085e367d05f8a",
              "IPY_MODEL_2146622817974d298609337b6db5610f"
            ],
            "layout": "IPY_MODEL_41f803b834434174a0caa828f4e388fd"
          }
        },
        "05baeeb7270d4d0098749b3df109f2a6": {
          "model_module": "@jupyter-widgets/controls",
          "model_name": "HTMLModel",
          "model_module_version": "1.5.0",
          "state": {
            "_dom_classes": [],
            "_model_module": "@jupyter-widgets/controls",
            "_model_module_version": "1.5.0",
            "_model_name": "HTMLModel",
            "_view_count": null,
            "_view_module": "@jupyter-widgets/controls",
            "_view_module_version": "1.5.0",
            "_view_name": "HTMLView",
            "description": "",
            "description_tooltip": null,
            "layout": "IPY_MODEL_25207f01675b46ef80dd39fb024413f3",
            "placeholder": "​",
            "style": "IPY_MODEL_796fe6a2b6634a6b81d921886cf1dfba",
            "value": ""
          }
        },
        "e946d203dc744ba4828085e367d05f8a": {
          "model_module": "@jupyter-widgets/controls",
          "model_name": "FloatProgressModel",
          "model_module_version": "1.5.0",
          "state": {
            "_dom_classes": [],
            "_model_module": "@jupyter-widgets/controls",
            "_model_module_version": "1.5.0",
            "_model_name": "FloatProgressModel",
            "_view_count": null,
            "_view_module": "@jupyter-widgets/controls",
            "_view_module_version": "1.5.0",
            "_view_name": "ProgressView",
            "bar_style": "success",
            "description": "",
            "description_tooltip": null,
            "layout": "IPY_MODEL_10613c1074744669839053730392ce2c",
            "max": 1,
            "min": 0,
            "orientation": "horizontal",
            "style": "IPY_MODEL_780ff82762134947a8e387e3c9112062",
            "value": 1
          }
        },
        "2146622817974d298609337b6db5610f": {
          "model_module": "@jupyter-widgets/controls",
          "model_name": "HTMLModel",
          "model_module_version": "1.5.0",
          "state": {
            "_dom_classes": [],
            "_model_module": "@jupyter-widgets/controls",
            "_model_module_version": "1.5.0",
            "_model_name": "HTMLModel",
            "_view_count": null,
            "_view_module": "@jupyter-widgets/controls",
            "_view_module_version": "1.5.0",
            "_view_name": "HTMLView",
            "description": "",
            "description_tooltip": null,
            "layout": "IPY_MODEL_5d3d173e0fc34daea301364390e015ea",
            "placeholder": "​",
            "style": "IPY_MODEL_0ab2f25acd4a419eb45a80c9afcdea5e",
            "value": " 3478/? [00:00&lt;00:00, 4016.73ex/s]"
          }
        },
        "41f803b834434174a0caa828f4e388fd": {
          "model_module": "@jupyter-widgets/base",
          "model_name": "LayoutModel",
          "model_module_version": "1.2.0",
          "state": {
            "_model_module": "@jupyter-widgets/base",
            "_model_module_version": "1.2.0",
            "_model_name": "LayoutModel",
            "_view_count": null,
            "_view_module": "@jupyter-widgets/base",
            "_view_module_version": "1.2.0",
            "_view_name": "LayoutView",
            "align_content": null,
            "align_items": null,
            "align_self": null,
            "border": null,
            "bottom": null,
            "display": null,
            "flex": null,
            "flex_flow": null,
            "grid_area": null,
            "grid_auto_columns": null,
            "grid_auto_flow": null,
            "grid_auto_rows": null,
            "grid_column": null,
            "grid_gap": null,
            "grid_row": null,
            "grid_template_areas": null,
            "grid_template_columns": null,
            "grid_template_rows": null,
            "height": null,
            "justify_content": null,
            "justify_items": null,
            "left": null,
            "margin": null,
            "max_height": null,
            "max_width": null,
            "min_height": null,
            "min_width": null,
            "object_fit": null,
            "object_position": null,
            "order": null,
            "overflow": null,
            "overflow_x": null,
            "overflow_y": null,
            "padding": null,
            "right": null,
            "top": null,
            "visibility": null,
            "width": null
          }
        },
        "25207f01675b46ef80dd39fb024413f3": {
          "model_module": "@jupyter-widgets/base",
          "model_name": "LayoutModel",
          "model_module_version": "1.2.0",
          "state": {
            "_model_module": "@jupyter-widgets/base",
            "_model_module_version": "1.2.0",
            "_model_name": "LayoutModel",
            "_view_count": null,
            "_view_module": "@jupyter-widgets/base",
            "_view_module_version": "1.2.0",
            "_view_name": "LayoutView",
            "align_content": null,
            "align_items": null,
            "align_self": null,
            "border": null,
            "bottom": null,
            "display": null,
            "flex": null,
            "flex_flow": null,
            "grid_area": null,
            "grid_auto_columns": null,
            "grid_auto_flow": null,
            "grid_auto_rows": null,
            "grid_column": null,
            "grid_gap": null,
            "grid_row": null,
            "grid_template_areas": null,
            "grid_template_columns": null,
            "grid_template_rows": null,
            "height": null,
            "justify_content": null,
            "justify_items": null,
            "left": null,
            "margin": null,
            "max_height": null,
            "max_width": null,
            "min_height": null,
            "min_width": null,
            "object_fit": null,
            "object_position": null,
            "order": null,
            "overflow": null,
            "overflow_x": null,
            "overflow_y": null,
            "padding": null,
            "right": null,
            "top": null,
            "visibility": null,
            "width": null
          }
        },
        "796fe6a2b6634a6b81d921886cf1dfba": {
          "model_module": "@jupyter-widgets/controls",
          "model_name": "DescriptionStyleModel",
          "model_module_version": "1.5.0",
          "state": {
            "_model_module": "@jupyter-widgets/controls",
            "_model_module_version": "1.5.0",
            "_model_name": "DescriptionStyleModel",
            "_view_count": null,
            "_view_module": "@jupyter-widgets/base",
            "_view_module_version": "1.2.0",
            "_view_name": "StyleView",
            "description_width": ""
          }
        },
        "10613c1074744669839053730392ce2c": {
          "model_module": "@jupyter-widgets/base",
          "model_name": "LayoutModel",
          "model_module_version": "1.2.0",
          "state": {
            "_model_module": "@jupyter-widgets/base",
            "_model_module_version": "1.2.0",
            "_model_name": "LayoutModel",
            "_view_count": null,
            "_view_module": "@jupyter-widgets/base",
            "_view_module_version": "1.2.0",
            "_view_name": "LayoutView",
            "align_content": null,
            "align_items": null,
            "align_self": null,
            "border": null,
            "bottom": null,
            "display": null,
            "flex": null,
            "flex_flow": null,
            "grid_area": null,
            "grid_auto_columns": null,
            "grid_auto_flow": null,
            "grid_auto_rows": null,
            "grid_column": null,
            "grid_gap": null,
            "grid_row": null,
            "grid_template_areas": null,
            "grid_template_columns": null,
            "grid_template_rows": null,
            "height": null,
            "justify_content": null,
            "justify_items": null,
            "left": null,
            "margin": null,
            "max_height": null,
            "max_width": null,
            "min_height": null,
            "min_width": null,
            "object_fit": null,
            "object_position": null,
            "order": null,
            "overflow": null,
            "overflow_x": null,
            "overflow_y": null,
            "padding": null,
            "right": null,
            "top": null,
            "visibility": null,
            "width": "20px"
          }
        },
        "780ff82762134947a8e387e3c9112062": {
          "model_module": "@jupyter-widgets/controls",
          "model_name": "ProgressStyleModel",
          "model_module_version": "1.5.0",
          "state": {
            "_model_module": "@jupyter-widgets/controls",
            "_model_module_version": "1.5.0",
            "_model_name": "ProgressStyleModel",
            "_view_count": null,
            "_view_module": "@jupyter-widgets/base",
            "_view_module_version": "1.2.0",
            "_view_name": "StyleView",
            "bar_color": null,
            "description_width": ""
          }
        },
        "5d3d173e0fc34daea301364390e015ea": {
          "model_module": "@jupyter-widgets/base",
          "model_name": "LayoutModel",
          "model_module_version": "1.2.0",
          "state": {
            "_model_module": "@jupyter-widgets/base",
            "_model_module_version": "1.2.0",
            "_model_name": "LayoutModel",
            "_view_count": null,
            "_view_module": "@jupyter-widgets/base",
            "_view_module_version": "1.2.0",
            "_view_name": "LayoutView",
            "align_content": null,
            "align_items": null,
            "align_self": null,
            "border": null,
            "bottom": null,
            "display": null,
            "flex": null,
            "flex_flow": null,
            "grid_area": null,
            "grid_auto_columns": null,
            "grid_auto_flow": null,
            "grid_auto_rows": null,
            "grid_column": null,
            "grid_gap": null,
            "grid_row": null,
            "grid_template_areas": null,
            "grid_template_columns": null,
            "grid_template_rows": null,
            "height": null,
            "justify_content": null,
            "justify_items": null,
            "left": null,
            "margin": null,
            "max_height": null,
            "max_width": null,
            "min_height": null,
            "min_width": null,
            "object_fit": null,
            "object_position": null,
            "order": null,
            "overflow": null,
            "overflow_x": null,
            "overflow_y": null,
            "padding": null,
            "right": null,
            "top": null,
            "visibility": null,
            "width": null
          }
        },
        "0ab2f25acd4a419eb45a80c9afcdea5e": {
          "model_module": "@jupyter-widgets/controls",
          "model_name": "DescriptionStyleModel",
          "model_module_version": "1.5.0",
          "state": {
            "_model_module": "@jupyter-widgets/controls",
            "_model_module_version": "1.5.0",
            "_model_name": "DescriptionStyleModel",
            "_view_count": null,
            "_view_module": "@jupyter-widgets/base",
            "_view_module_version": "1.2.0",
            "_view_name": "StyleView",
            "description_width": ""
          }
        },
        "7c9556c87dc94d08836a9f96dea16fad": {
          "model_module": "@jupyter-widgets/controls",
          "model_name": "HBoxModel",
          "model_module_version": "1.5.0",
          "state": {
            "_dom_classes": [],
            "_model_module": "@jupyter-widgets/controls",
            "_model_module_version": "1.5.0",
            "_model_name": "HBoxModel",
            "_view_count": null,
            "_view_module": "@jupyter-widgets/controls",
            "_view_module_version": "1.5.0",
            "_view_name": "HBoxView",
            "box_style": "",
            "children": [
              "IPY_MODEL_2a558cdfc25e45ebac19fe512481b4f6",
              "IPY_MODEL_3254cd769d2c4d12a4b7e3b3a164ebab",
              "IPY_MODEL_a3a865280eee4cd398b290130ed323c5"
            ],
            "layout": "IPY_MODEL_2e8daf6bff944d2e8e87d36ee1610af6"
          }
        },
        "2a558cdfc25e45ebac19fe512481b4f6": {
          "model_module": "@jupyter-widgets/controls",
          "model_name": "HTMLModel",
          "model_module_version": "1.5.0",
          "state": {
            "_dom_classes": [],
            "_model_module": "@jupyter-widgets/controls",
            "_model_module_version": "1.5.0",
            "_model_name": "HTMLModel",
            "_view_count": null,
            "_view_module": "@jupyter-widgets/controls",
            "_view_module_version": "1.5.0",
            "_view_name": "HTMLView",
            "description": "",
            "description_tooltip": null,
            "layout": "IPY_MODEL_34b7ff919fba4afa9ed58182bd5858c3",
            "placeholder": "​",
            "style": "IPY_MODEL_baff3458e08344d8b7287ae94184b35e",
            "value": ""
          }
        },
        "3254cd769d2c4d12a4b7e3b3a164ebab": {
          "model_module": "@jupyter-widgets/controls",
          "model_name": "FloatProgressModel",
          "model_module_version": "1.5.0",
          "state": {
            "_dom_classes": [],
            "_model_module": "@jupyter-widgets/controls",
            "_model_module_version": "1.5.0",
            "_model_name": "FloatProgressModel",
            "_view_count": null,
            "_view_module": "@jupyter-widgets/controls",
            "_view_module_version": "1.5.0",
            "_view_name": "ProgressView",
            "bar_style": "success",
            "description": "",
            "description_tooltip": null,
            "layout": "IPY_MODEL_802bdb92f8354a6380114183e84d3b6f",
            "max": 1,
            "min": 0,
            "orientation": "horizontal",
            "style": "IPY_MODEL_4749f7a93fde4c16a4bfae584434b15e",
            "value": 1
          }
        },
        "a3a865280eee4cd398b290130ed323c5": {
          "model_module": "@jupyter-widgets/controls",
          "model_name": "HTMLModel",
          "model_module_version": "1.5.0",
          "state": {
            "_dom_classes": [],
            "_model_module": "@jupyter-widgets/controls",
            "_model_module_version": "1.5.0",
            "_model_name": "HTMLModel",
            "_view_count": null,
            "_view_module": "@jupyter-widgets/controls",
            "_view_module_version": "1.5.0",
            "_view_name": "HTMLView",
            "description": "",
            "description_tooltip": null,
            "layout": "IPY_MODEL_d8eaf3fa05574d2695f6f6cbf4b8db3e",
            "placeholder": "​",
            "style": "IPY_MODEL_b5ad74feaeea4f85965f0854b542f5af",
            "value": " 1647/? [00:00&lt;00:00, 4000.15ex/s]"
          }
        },
        "2e8daf6bff944d2e8e87d36ee1610af6": {
          "model_module": "@jupyter-widgets/base",
          "model_name": "LayoutModel",
          "model_module_version": "1.2.0",
          "state": {
            "_model_module": "@jupyter-widgets/base",
            "_model_module_version": "1.2.0",
            "_model_name": "LayoutModel",
            "_view_count": null,
            "_view_module": "@jupyter-widgets/base",
            "_view_module_version": "1.2.0",
            "_view_name": "LayoutView",
            "align_content": null,
            "align_items": null,
            "align_self": null,
            "border": null,
            "bottom": null,
            "display": null,
            "flex": null,
            "flex_flow": null,
            "grid_area": null,
            "grid_auto_columns": null,
            "grid_auto_flow": null,
            "grid_auto_rows": null,
            "grid_column": null,
            "grid_gap": null,
            "grid_row": null,
            "grid_template_areas": null,
            "grid_template_columns": null,
            "grid_template_rows": null,
            "height": null,
            "justify_content": null,
            "justify_items": null,
            "left": null,
            "margin": null,
            "max_height": null,
            "max_width": null,
            "min_height": null,
            "min_width": null,
            "object_fit": null,
            "object_position": null,
            "order": null,
            "overflow": null,
            "overflow_x": null,
            "overflow_y": null,
            "padding": null,
            "right": null,
            "top": null,
            "visibility": null,
            "width": null
          }
        },
        "34b7ff919fba4afa9ed58182bd5858c3": {
          "model_module": "@jupyter-widgets/base",
          "model_name": "LayoutModel",
          "model_module_version": "1.2.0",
          "state": {
            "_model_module": "@jupyter-widgets/base",
            "_model_module_version": "1.2.0",
            "_model_name": "LayoutModel",
            "_view_count": null,
            "_view_module": "@jupyter-widgets/base",
            "_view_module_version": "1.2.0",
            "_view_name": "LayoutView",
            "align_content": null,
            "align_items": null,
            "align_self": null,
            "border": null,
            "bottom": null,
            "display": null,
            "flex": null,
            "flex_flow": null,
            "grid_area": null,
            "grid_auto_columns": null,
            "grid_auto_flow": null,
            "grid_auto_rows": null,
            "grid_column": null,
            "grid_gap": null,
            "grid_row": null,
            "grid_template_areas": null,
            "grid_template_columns": null,
            "grid_template_rows": null,
            "height": null,
            "justify_content": null,
            "justify_items": null,
            "left": null,
            "margin": null,
            "max_height": null,
            "max_width": null,
            "min_height": null,
            "min_width": null,
            "object_fit": null,
            "object_position": null,
            "order": null,
            "overflow": null,
            "overflow_x": null,
            "overflow_y": null,
            "padding": null,
            "right": null,
            "top": null,
            "visibility": null,
            "width": null
          }
        },
        "baff3458e08344d8b7287ae94184b35e": {
          "model_module": "@jupyter-widgets/controls",
          "model_name": "DescriptionStyleModel",
          "model_module_version": "1.5.0",
          "state": {
            "_model_module": "@jupyter-widgets/controls",
            "_model_module_version": "1.5.0",
            "_model_name": "DescriptionStyleModel",
            "_view_count": null,
            "_view_module": "@jupyter-widgets/base",
            "_view_module_version": "1.2.0",
            "_view_name": "StyleView",
            "description_width": ""
          }
        },
        "802bdb92f8354a6380114183e84d3b6f": {
          "model_module": "@jupyter-widgets/base",
          "model_name": "LayoutModel",
          "model_module_version": "1.2.0",
          "state": {
            "_model_module": "@jupyter-widgets/base",
            "_model_module_version": "1.2.0",
            "_model_name": "LayoutModel",
            "_view_count": null,
            "_view_module": "@jupyter-widgets/base",
            "_view_module_version": "1.2.0",
            "_view_name": "LayoutView",
            "align_content": null,
            "align_items": null,
            "align_self": null,
            "border": null,
            "bottom": null,
            "display": null,
            "flex": null,
            "flex_flow": null,
            "grid_area": null,
            "grid_auto_columns": null,
            "grid_auto_flow": null,
            "grid_auto_rows": null,
            "grid_column": null,
            "grid_gap": null,
            "grid_row": null,
            "grid_template_areas": null,
            "grid_template_columns": null,
            "grid_template_rows": null,
            "height": null,
            "justify_content": null,
            "justify_items": null,
            "left": null,
            "margin": null,
            "max_height": null,
            "max_width": null,
            "min_height": null,
            "min_width": null,
            "object_fit": null,
            "object_position": null,
            "order": null,
            "overflow": null,
            "overflow_x": null,
            "overflow_y": null,
            "padding": null,
            "right": null,
            "top": null,
            "visibility": null,
            "width": "20px"
          }
        },
        "4749f7a93fde4c16a4bfae584434b15e": {
          "model_module": "@jupyter-widgets/controls",
          "model_name": "ProgressStyleModel",
          "model_module_version": "1.5.0",
          "state": {
            "_model_module": "@jupyter-widgets/controls",
            "_model_module_version": "1.5.0",
            "_model_name": "ProgressStyleModel",
            "_view_count": null,
            "_view_module": "@jupyter-widgets/base",
            "_view_module_version": "1.2.0",
            "_view_name": "StyleView",
            "bar_color": null,
            "description_width": ""
          }
        },
        "d8eaf3fa05574d2695f6f6cbf4b8db3e": {
          "model_module": "@jupyter-widgets/base",
          "model_name": "LayoutModel",
          "model_module_version": "1.2.0",
          "state": {
            "_model_module": "@jupyter-widgets/base",
            "_model_module_version": "1.2.0",
            "_model_name": "LayoutModel",
            "_view_count": null,
            "_view_module": "@jupyter-widgets/base",
            "_view_module_version": "1.2.0",
            "_view_name": "LayoutView",
            "align_content": null,
            "align_items": null,
            "align_self": null,
            "border": null,
            "bottom": null,
            "display": null,
            "flex": null,
            "flex_flow": null,
            "grid_area": null,
            "grid_auto_columns": null,
            "grid_auto_flow": null,
            "grid_auto_rows": null,
            "grid_column": null,
            "grid_gap": null,
            "grid_row": null,
            "grid_template_areas": null,
            "grid_template_columns": null,
            "grid_template_rows": null,
            "height": null,
            "justify_content": null,
            "justify_items": null,
            "left": null,
            "margin": null,
            "max_height": null,
            "max_width": null,
            "min_height": null,
            "min_width": null,
            "object_fit": null,
            "object_position": null,
            "order": null,
            "overflow": null,
            "overflow_x": null,
            "overflow_y": null,
            "padding": null,
            "right": null,
            "top": null,
            "visibility": null,
            "width": null
          }
        },
        "b5ad74feaeea4f85965f0854b542f5af": {
          "model_module": "@jupyter-widgets/controls",
          "model_name": "DescriptionStyleModel",
          "model_module_version": "1.5.0",
          "state": {
            "_model_module": "@jupyter-widgets/controls",
            "_model_module_version": "1.5.0",
            "_model_name": "DescriptionStyleModel",
            "_view_count": null,
            "_view_module": "@jupyter-widgets/base",
            "_view_module_version": "1.2.0",
            "_view_name": "StyleView",
            "description_width": ""
          }
        },
        "390a5b0fac3e4ae19f464394729c2141": {
          "model_module": "@jupyter-widgets/controls",
          "model_name": "HBoxModel",
          "model_module_version": "1.5.0",
          "state": {
            "_dom_classes": [],
            "_model_module": "@jupyter-widgets/controls",
            "_model_module_version": "1.5.0",
            "_model_name": "HBoxModel",
            "_view_count": null,
            "_view_module": "@jupyter-widgets/controls",
            "_view_module_version": "1.5.0",
            "_view_name": "HBoxView",
            "box_style": "",
            "children": [
              "IPY_MODEL_e775fc2a5b204c599d439c968d1c95f4",
              "IPY_MODEL_1cb307b9539648fd97cb93ed1491e92c",
              "IPY_MODEL_f84820738d2f4a5981151c6c3d6de96b"
            ],
            "layout": "IPY_MODEL_3c8512e1dc224907a7f513175b1b8c3e"
          }
        },
        "e775fc2a5b204c599d439c968d1c95f4": {
          "model_module": "@jupyter-widgets/controls",
          "model_name": "HTMLModel",
          "model_module_version": "1.5.0",
          "state": {
            "_dom_classes": [],
            "_model_module": "@jupyter-widgets/controls",
            "_model_module_version": "1.5.0",
            "_model_name": "HTMLModel",
            "_view_count": null,
            "_view_module": "@jupyter-widgets/controls",
            "_view_module_version": "1.5.0",
            "_view_name": "HTMLView",
            "description": "",
            "description_tooltip": null,
            "layout": "IPY_MODEL_ad40ad7f06654e22b21e0d9b364d33b2",
            "placeholder": "​",
            "style": "IPY_MODEL_ed20dca2296642ee862ca7cd7ff4fa92",
            "value": "100%"
          }
        },
        "1cb307b9539648fd97cb93ed1491e92c": {
          "model_module": "@jupyter-widgets/controls",
          "model_name": "FloatProgressModel",
          "model_module_version": "1.5.0",
          "state": {
            "_dom_classes": [],
            "_model_module": "@jupyter-widgets/controls",
            "_model_module_version": "1.5.0",
            "_model_name": "FloatProgressModel",
            "_view_count": null,
            "_view_module": "@jupyter-widgets/controls",
            "_view_module_version": "1.5.0",
            "_view_name": "ProgressView",
            "bar_style": "success",
            "description": "",
            "description_tooltip": null,
            "layout": "IPY_MODEL_75b7436ce4be4462b98121397dc4f5e0",
            "max": 1,
            "min": 0,
            "orientation": "horizontal",
            "style": "IPY_MODEL_8462e040cd0d4621a8a9b56ee3375daf",
            "value": 1
          }
        },
        "f84820738d2f4a5981151c6c3d6de96b": {
          "model_module": "@jupyter-widgets/controls",
          "model_name": "HTMLModel",
          "model_module_version": "1.5.0",
          "state": {
            "_dom_classes": [],
            "_model_module": "@jupyter-widgets/controls",
            "_model_module_version": "1.5.0",
            "_model_name": "HTMLModel",
            "_view_count": null,
            "_view_module": "@jupyter-widgets/controls",
            "_view_module_version": "1.5.0",
            "_view_name": "HTMLView",
            "description": "",
            "description_tooltip": null,
            "layout": "IPY_MODEL_e0659c0cf6e44022a0820d51c3ed48ad",
            "placeholder": "​",
            "style": "IPY_MODEL_e89cc4714a0a4cc89e9914b4e0bc61f0",
            "value": " 1/1 [00:00&lt;00:00,  5.84ba/s]"
          }
        },
        "3c8512e1dc224907a7f513175b1b8c3e": {
          "model_module": "@jupyter-widgets/base",
          "model_name": "LayoutModel",
          "model_module_version": "1.2.0",
          "state": {
            "_model_module": "@jupyter-widgets/base",
            "_model_module_version": "1.2.0",
            "_model_name": "LayoutModel",
            "_view_count": null,
            "_view_module": "@jupyter-widgets/base",
            "_view_module_version": "1.2.0",
            "_view_name": "LayoutView",
            "align_content": null,
            "align_items": null,
            "align_self": null,
            "border": null,
            "bottom": null,
            "display": null,
            "flex": null,
            "flex_flow": null,
            "grid_area": null,
            "grid_auto_columns": null,
            "grid_auto_flow": null,
            "grid_auto_rows": null,
            "grid_column": null,
            "grid_gap": null,
            "grid_row": null,
            "grid_template_areas": null,
            "grid_template_columns": null,
            "grid_template_rows": null,
            "height": null,
            "justify_content": null,
            "justify_items": null,
            "left": null,
            "margin": null,
            "max_height": null,
            "max_width": null,
            "min_height": null,
            "min_width": null,
            "object_fit": null,
            "object_position": null,
            "order": null,
            "overflow": null,
            "overflow_x": null,
            "overflow_y": null,
            "padding": null,
            "right": null,
            "top": null,
            "visibility": null,
            "width": null
          }
        },
        "ad40ad7f06654e22b21e0d9b364d33b2": {
          "model_module": "@jupyter-widgets/base",
          "model_name": "LayoutModel",
          "model_module_version": "1.2.0",
          "state": {
            "_model_module": "@jupyter-widgets/base",
            "_model_module_version": "1.2.0",
            "_model_name": "LayoutModel",
            "_view_count": null,
            "_view_module": "@jupyter-widgets/base",
            "_view_module_version": "1.2.0",
            "_view_name": "LayoutView",
            "align_content": null,
            "align_items": null,
            "align_self": null,
            "border": null,
            "bottom": null,
            "display": null,
            "flex": null,
            "flex_flow": null,
            "grid_area": null,
            "grid_auto_columns": null,
            "grid_auto_flow": null,
            "grid_auto_rows": null,
            "grid_column": null,
            "grid_gap": null,
            "grid_row": null,
            "grid_template_areas": null,
            "grid_template_columns": null,
            "grid_template_rows": null,
            "height": null,
            "justify_content": null,
            "justify_items": null,
            "left": null,
            "margin": null,
            "max_height": null,
            "max_width": null,
            "min_height": null,
            "min_width": null,
            "object_fit": null,
            "object_position": null,
            "order": null,
            "overflow": null,
            "overflow_x": null,
            "overflow_y": null,
            "padding": null,
            "right": null,
            "top": null,
            "visibility": null,
            "width": null
          }
        },
        "ed20dca2296642ee862ca7cd7ff4fa92": {
          "model_module": "@jupyter-widgets/controls",
          "model_name": "DescriptionStyleModel",
          "model_module_version": "1.5.0",
          "state": {
            "_model_module": "@jupyter-widgets/controls",
            "_model_module_version": "1.5.0",
            "_model_name": "DescriptionStyleModel",
            "_view_count": null,
            "_view_module": "@jupyter-widgets/base",
            "_view_module_version": "1.2.0",
            "_view_name": "StyleView",
            "description_width": ""
          }
        },
        "75b7436ce4be4462b98121397dc4f5e0": {
          "model_module": "@jupyter-widgets/base",
          "model_name": "LayoutModel",
          "model_module_version": "1.2.0",
          "state": {
            "_model_module": "@jupyter-widgets/base",
            "_model_module_version": "1.2.0",
            "_model_name": "LayoutModel",
            "_view_count": null,
            "_view_module": "@jupyter-widgets/base",
            "_view_module_version": "1.2.0",
            "_view_name": "LayoutView",
            "align_content": null,
            "align_items": null,
            "align_self": null,
            "border": null,
            "bottom": null,
            "display": null,
            "flex": null,
            "flex_flow": null,
            "grid_area": null,
            "grid_auto_columns": null,
            "grid_auto_flow": null,
            "grid_auto_rows": null,
            "grid_column": null,
            "grid_gap": null,
            "grid_row": null,
            "grid_template_areas": null,
            "grid_template_columns": null,
            "grid_template_rows": null,
            "height": null,
            "justify_content": null,
            "justify_items": null,
            "left": null,
            "margin": null,
            "max_height": null,
            "max_width": null,
            "min_height": null,
            "min_width": null,
            "object_fit": null,
            "object_position": null,
            "order": null,
            "overflow": null,
            "overflow_x": null,
            "overflow_y": null,
            "padding": null,
            "right": null,
            "top": null,
            "visibility": null,
            "width": null
          }
        },
        "8462e040cd0d4621a8a9b56ee3375daf": {
          "model_module": "@jupyter-widgets/controls",
          "model_name": "ProgressStyleModel",
          "model_module_version": "1.5.0",
          "state": {
            "_model_module": "@jupyter-widgets/controls",
            "_model_module_version": "1.5.0",
            "_model_name": "ProgressStyleModel",
            "_view_count": null,
            "_view_module": "@jupyter-widgets/base",
            "_view_module_version": "1.2.0",
            "_view_name": "StyleView",
            "bar_color": null,
            "description_width": ""
          }
        },
        "e0659c0cf6e44022a0820d51c3ed48ad": {
          "model_module": "@jupyter-widgets/base",
          "model_name": "LayoutModel",
          "model_module_version": "1.2.0",
          "state": {
            "_model_module": "@jupyter-widgets/base",
            "_model_module_version": "1.2.0",
            "_model_name": "LayoutModel",
            "_view_count": null,
            "_view_module": "@jupyter-widgets/base",
            "_view_module_version": "1.2.0",
            "_view_name": "LayoutView",
            "align_content": null,
            "align_items": null,
            "align_self": null,
            "border": null,
            "bottom": null,
            "display": null,
            "flex": null,
            "flex_flow": null,
            "grid_area": null,
            "grid_auto_columns": null,
            "grid_auto_flow": null,
            "grid_auto_rows": null,
            "grid_column": null,
            "grid_gap": null,
            "grid_row": null,
            "grid_template_areas": null,
            "grid_template_columns": null,
            "grid_template_rows": null,
            "height": null,
            "justify_content": null,
            "justify_items": null,
            "left": null,
            "margin": null,
            "max_height": null,
            "max_width": null,
            "min_height": null,
            "min_width": null,
            "object_fit": null,
            "object_position": null,
            "order": null,
            "overflow": null,
            "overflow_x": null,
            "overflow_y": null,
            "padding": null,
            "right": null,
            "top": null,
            "visibility": null,
            "width": null
          }
        },
        "e89cc4714a0a4cc89e9914b4e0bc61f0": {
          "model_module": "@jupyter-widgets/controls",
          "model_name": "DescriptionStyleModel",
          "model_module_version": "1.5.0",
          "state": {
            "_model_module": "@jupyter-widgets/controls",
            "_model_module_version": "1.5.0",
            "_model_name": "DescriptionStyleModel",
            "_view_count": null,
            "_view_module": "@jupyter-widgets/base",
            "_view_module_version": "1.2.0",
            "_view_name": "StyleView",
            "description_width": ""
          }
        },
        "4edd2554d1b7442293c6952f2117fc17": {
          "model_module": "@jupyter-widgets/controls",
          "model_name": "HBoxModel",
          "model_module_version": "1.5.0",
          "state": {
            "_dom_classes": [],
            "_model_module": "@jupyter-widgets/controls",
            "_model_module_version": "1.5.0",
            "_model_name": "HBoxModel",
            "_view_count": null,
            "_view_module": "@jupyter-widgets/controls",
            "_view_module_version": "1.5.0",
            "_view_name": "HBoxView",
            "box_style": "",
            "children": [
              "IPY_MODEL_7f289c9409d1412fb83bc13d46f92180",
              "IPY_MODEL_e9ebfc65ce034004a33b304f26fa644d",
              "IPY_MODEL_6d3b7b354f10456185d6fbea791ddce6"
            ],
            "layout": "IPY_MODEL_79df6effe8b54557a92a2c53f5b9386f"
          }
        },
        "7f289c9409d1412fb83bc13d46f92180": {
          "model_module": "@jupyter-widgets/controls",
          "model_name": "HTMLModel",
          "model_module_version": "1.5.0",
          "state": {
            "_dom_classes": [],
            "_model_module": "@jupyter-widgets/controls",
            "_model_module_version": "1.5.0",
            "_model_name": "HTMLModel",
            "_view_count": null,
            "_view_module": "@jupyter-widgets/controls",
            "_view_module_version": "1.5.0",
            "_view_name": "HTMLView",
            "description": "",
            "description_tooltip": null,
            "layout": "IPY_MODEL_0c1f2aa604f04cf4bde78bb2c649d3b5",
            "placeholder": "​",
            "style": "IPY_MODEL_ad6c35069f884c0c9051a4a83a714611",
            "value": "100%"
          }
        },
        "e9ebfc65ce034004a33b304f26fa644d": {
          "model_module": "@jupyter-widgets/controls",
          "model_name": "FloatProgressModel",
          "model_module_version": "1.5.0",
          "state": {
            "_dom_classes": [],
            "_model_module": "@jupyter-widgets/controls",
            "_model_module_version": "1.5.0",
            "_model_name": "FloatProgressModel",
            "_view_count": null,
            "_view_module": "@jupyter-widgets/controls",
            "_view_module_version": "1.5.0",
            "_view_name": "ProgressView",
            "bar_style": "success",
            "description": "",
            "description_tooltip": null,
            "layout": "IPY_MODEL_1fe3f737fff142da8588dfdc5169d8c9",
            "max": 1,
            "min": 0,
            "orientation": "horizontal",
            "style": "IPY_MODEL_c7f692f79a614085b1d1751f90a1b6a9",
            "value": 1
          }
        },
        "6d3b7b354f10456185d6fbea791ddce6": {
          "model_module": "@jupyter-widgets/controls",
          "model_name": "HTMLModel",
          "model_module_version": "1.5.0",
          "state": {
            "_dom_classes": [],
            "_model_module": "@jupyter-widgets/controls",
            "_model_module_version": "1.5.0",
            "_model_name": "HTMLModel",
            "_view_count": null,
            "_view_module": "@jupyter-widgets/controls",
            "_view_module_version": "1.5.0",
            "_view_name": "HTMLView",
            "description": "",
            "description_tooltip": null,
            "layout": "IPY_MODEL_77a2c05ff5154b28bc075e9ff596cd15",
            "placeholder": "​",
            "style": "IPY_MODEL_38debc388d6a49c5a43737bf18553fa0",
            "value": " 1/1 [00:00&lt;00:00, 12.00ba/s]"
          }
        },
        "79df6effe8b54557a92a2c53f5b9386f": {
          "model_module": "@jupyter-widgets/base",
          "model_name": "LayoutModel",
          "model_module_version": "1.2.0",
          "state": {
            "_model_module": "@jupyter-widgets/base",
            "_model_module_version": "1.2.0",
            "_model_name": "LayoutModel",
            "_view_count": null,
            "_view_module": "@jupyter-widgets/base",
            "_view_module_version": "1.2.0",
            "_view_name": "LayoutView",
            "align_content": null,
            "align_items": null,
            "align_self": null,
            "border": null,
            "bottom": null,
            "display": null,
            "flex": null,
            "flex_flow": null,
            "grid_area": null,
            "grid_auto_columns": null,
            "grid_auto_flow": null,
            "grid_auto_rows": null,
            "grid_column": null,
            "grid_gap": null,
            "grid_row": null,
            "grid_template_areas": null,
            "grid_template_columns": null,
            "grid_template_rows": null,
            "height": null,
            "justify_content": null,
            "justify_items": null,
            "left": null,
            "margin": null,
            "max_height": null,
            "max_width": null,
            "min_height": null,
            "min_width": null,
            "object_fit": null,
            "object_position": null,
            "order": null,
            "overflow": null,
            "overflow_x": null,
            "overflow_y": null,
            "padding": null,
            "right": null,
            "top": null,
            "visibility": null,
            "width": null
          }
        },
        "0c1f2aa604f04cf4bde78bb2c649d3b5": {
          "model_module": "@jupyter-widgets/base",
          "model_name": "LayoutModel",
          "model_module_version": "1.2.0",
          "state": {
            "_model_module": "@jupyter-widgets/base",
            "_model_module_version": "1.2.0",
            "_model_name": "LayoutModel",
            "_view_count": null,
            "_view_module": "@jupyter-widgets/base",
            "_view_module_version": "1.2.0",
            "_view_name": "LayoutView",
            "align_content": null,
            "align_items": null,
            "align_self": null,
            "border": null,
            "bottom": null,
            "display": null,
            "flex": null,
            "flex_flow": null,
            "grid_area": null,
            "grid_auto_columns": null,
            "grid_auto_flow": null,
            "grid_auto_rows": null,
            "grid_column": null,
            "grid_gap": null,
            "grid_row": null,
            "grid_template_areas": null,
            "grid_template_columns": null,
            "grid_template_rows": null,
            "height": null,
            "justify_content": null,
            "justify_items": null,
            "left": null,
            "margin": null,
            "max_height": null,
            "max_width": null,
            "min_height": null,
            "min_width": null,
            "object_fit": null,
            "object_position": null,
            "order": null,
            "overflow": null,
            "overflow_x": null,
            "overflow_y": null,
            "padding": null,
            "right": null,
            "top": null,
            "visibility": null,
            "width": null
          }
        },
        "ad6c35069f884c0c9051a4a83a714611": {
          "model_module": "@jupyter-widgets/controls",
          "model_name": "DescriptionStyleModel",
          "model_module_version": "1.5.0",
          "state": {
            "_model_module": "@jupyter-widgets/controls",
            "_model_module_version": "1.5.0",
            "_model_name": "DescriptionStyleModel",
            "_view_count": null,
            "_view_module": "@jupyter-widgets/base",
            "_view_module_version": "1.2.0",
            "_view_name": "StyleView",
            "description_width": ""
          }
        },
        "1fe3f737fff142da8588dfdc5169d8c9": {
          "model_module": "@jupyter-widgets/base",
          "model_name": "LayoutModel",
          "model_module_version": "1.2.0",
          "state": {
            "_model_module": "@jupyter-widgets/base",
            "_model_module_version": "1.2.0",
            "_model_name": "LayoutModel",
            "_view_count": null,
            "_view_module": "@jupyter-widgets/base",
            "_view_module_version": "1.2.0",
            "_view_name": "LayoutView",
            "align_content": null,
            "align_items": null,
            "align_self": null,
            "border": null,
            "bottom": null,
            "display": null,
            "flex": null,
            "flex_flow": null,
            "grid_area": null,
            "grid_auto_columns": null,
            "grid_auto_flow": null,
            "grid_auto_rows": null,
            "grid_column": null,
            "grid_gap": null,
            "grid_row": null,
            "grid_template_areas": null,
            "grid_template_columns": null,
            "grid_template_rows": null,
            "height": null,
            "justify_content": null,
            "justify_items": null,
            "left": null,
            "margin": null,
            "max_height": null,
            "max_width": null,
            "min_height": null,
            "min_width": null,
            "object_fit": null,
            "object_position": null,
            "order": null,
            "overflow": null,
            "overflow_x": null,
            "overflow_y": null,
            "padding": null,
            "right": null,
            "top": null,
            "visibility": null,
            "width": null
          }
        },
        "c7f692f79a614085b1d1751f90a1b6a9": {
          "model_module": "@jupyter-widgets/controls",
          "model_name": "ProgressStyleModel",
          "model_module_version": "1.5.0",
          "state": {
            "_model_module": "@jupyter-widgets/controls",
            "_model_module_version": "1.5.0",
            "_model_name": "ProgressStyleModel",
            "_view_count": null,
            "_view_module": "@jupyter-widgets/base",
            "_view_module_version": "1.2.0",
            "_view_name": "StyleView",
            "bar_color": null,
            "description_width": ""
          }
        },
        "77a2c05ff5154b28bc075e9ff596cd15": {
          "model_module": "@jupyter-widgets/base",
          "model_name": "LayoutModel",
          "model_module_version": "1.2.0",
          "state": {
            "_model_module": "@jupyter-widgets/base",
            "_model_module_version": "1.2.0",
            "_model_name": "LayoutModel",
            "_view_count": null,
            "_view_module": "@jupyter-widgets/base",
            "_view_module_version": "1.2.0",
            "_view_name": "LayoutView",
            "align_content": null,
            "align_items": null,
            "align_self": null,
            "border": null,
            "bottom": null,
            "display": null,
            "flex": null,
            "flex_flow": null,
            "grid_area": null,
            "grid_auto_columns": null,
            "grid_auto_flow": null,
            "grid_auto_rows": null,
            "grid_column": null,
            "grid_gap": null,
            "grid_row": null,
            "grid_template_areas": null,
            "grid_template_columns": null,
            "grid_template_rows": null,
            "height": null,
            "justify_content": null,
            "justify_items": null,
            "left": null,
            "margin": null,
            "max_height": null,
            "max_width": null,
            "min_height": null,
            "min_width": null,
            "object_fit": null,
            "object_position": null,
            "order": null,
            "overflow": null,
            "overflow_x": null,
            "overflow_y": null,
            "padding": null,
            "right": null,
            "top": null,
            "visibility": null,
            "width": null
          }
        },
        "38debc388d6a49c5a43737bf18553fa0": {
          "model_module": "@jupyter-widgets/controls",
          "model_name": "DescriptionStyleModel",
          "model_module_version": "1.5.0",
          "state": {
            "_model_module": "@jupyter-widgets/controls",
            "_model_module_version": "1.5.0",
            "_model_name": "DescriptionStyleModel",
            "_view_count": null,
            "_view_module": "@jupyter-widgets/base",
            "_view_module_version": "1.2.0",
            "_view_name": "StyleView",
            "description_width": ""
          }
        },
        "7b54bf25771a4545bea67c15a369200c": {
          "model_module": "@jupyter-widgets/controls",
          "model_name": "HBoxModel",
          "model_module_version": "1.5.0",
          "state": {
            "_dom_classes": [],
            "_model_module": "@jupyter-widgets/controls",
            "_model_module_version": "1.5.0",
            "_model_name": "HBoxModel",
            "_view_count": null,
            "_view_module": "@jupyter-widgets/controls",
            "_view_module_version": "1.5.0",
            "_view_name": "HBoxView",
            "box_style": "",
            "children": [
              "IPY_MODEL_c237efcb330a407381da7238aada72e8",
              "IPY_MODEL_b49bb7d249414bf292035a29c816c982",
              "IPY_MODEL_c6345fd78ac643499382b0c2be96691c"
            ],
            "layout": "IPY_MODEL_6891f3d13bb9438d8f809127fb31b59f"
          }
        },
        "c237efcb330a407381da7238aada72e8": {
          "model_module": "@jupyter-widgets/controls",
          "model_name": "HTMLModel",
          "model_module_version": "1.5.0",
          "state": {
            "_dom_classes": [],
            "_model_module": "@jupyter-widgets/controls",
            "_model_module_version": "1.5.0",
            "_model_name": "HTMLModel",
            "_view_count": null,
            "_view_module": "@jupyter-widgets/controls",
            "_view_module_version": "1.5.0",
            "_view_name": "HTMLView",
            "description": "",
            "description_tooltip": null,
            "layout": "IPY_MODEL_a05e7a1285bd48b9bf57a0bc19202e5d",
            "placeholder": "​",
            "style": "IPY_MODEL_2f2cc7f977aa43b38aba69c709687b9c",
            "value": ""
          }
        },
        "b49bb7d249414bf292035a29c816c982": {
          "model_module": "@jupyter-widgets/controls",
          "model_name": "FloatProgressModel",
          "model_module_version": "1.5.0",
          "state": {
            "_dom_classes": [],
            "_model_module": "@jupyter-widgets/controls",
            "_model_module_version": "1.5.0",
            "_model_name": "FloatProgressModel",
            "_view_count": null,
            "_view_module": "@jupyter-widgets/controls",
            "_view_module_version": "1.5.0",
            "_view_name": "ProgressView",
            "bar_style": "success",
            "description": "",
            "description_tooltip": null,
            "layout": "IPY_MODEL_158f48ac0fda4f998556591fa45d4b14",
            "max": 1,
            "min": 0,
            "orientation": "horizontal",
            "style": "IPY_MODEL_ce9ec8bba9ea48a28798a0562e574a7e",
            "value": 1
          }
        },
        "c6345fd78ac643499382b0c2be96691c": {
          "model_module": "@jupyter-widgets/controls",
          "model_name": "HTMLModel",
          "model_module_version": "1.5.0",
          "state": {
            "_dom_classes": [],
            "_model_module": "@jupyter-widgets/controls",
            "_model_module_version": "1.5.0",
            "_model_name": "HTMLModel",
            "_view_count": null,
            "_view_module": "@jupyter-widgets/controls",
            "_view_module_version": "1.5.0",
            "_view_name": "HTMLView",
            "description": "",
            "description_tooltip": null,
            "layout": "IPY_MODEL_2983454f4b054c3dbf3170c3bf65dfc1",
            "placeholder": "​",
            "style": "IPY_MODEL_3cb9dd9b7e6745b5b73734a6edbc4ec7",
            "value": " 3478/? [00:36&lt;00:00, 104.37ex/s]"
          }
        },
        "6891f3d13bb9438d8f809127fb31b59f": {
          "model_module": "@jupyter-widgets/base",
          "model_name": "LayoutModel",
          "model_module_version": "1.2.0",
          "state": {
            "_model_module": "@jupyter-widgets/base",
            "_model_module_version": "1.2.0",
            "_model_name": "LayoutModel",
            "_view_count": null,
            "_view_module": "@jupyter-widgets/base",
            "_view_module_version": "1.2.0",
            "_view_name": "LayoutView",
            "align_content": null,
            "align_items": null,
            "align_self": null,
            "border": null,
            "bottom": null,
            "display": null,
            "flex": null,
            "flex_flow": null,
            "grid_area": null,
            "grid_auto_columns": null,
            "grid_auto_flow": null,
            "grid_auto_rows": null,
            "grid_column": null,
            "grid_gap": null,
            "grid_row": null,
            "grid_template_areas": null,
            "grid_template_columns": null,
            "grid_template_rows": null,
            "height": null,
            "justify_content": null,
            "justify_items": null,
            "left": null,
            "margin": null,
            "max_height": null,
            "max_width": null,
            "min_height": null,
            "min_width": null,
            "object_fit": null,
            "object_position": null,
            "order": null,
            "overflow": null,
            "overflow_x": null,
            "overflow_y": null,
            "padding": null,
            "right": null,
            "top": null,
            "visibility": null,
            "width": null
          }
        },
        "a05e7a1285bd48b9bf57a0bc19202e5d": {
          "model_module": "@jupyter-widgets/base",
          "model_name": "LayoutModel",
          "model_module_version": "1.2.0",
          "state": {
            "_model_module": "@jupyter-widgets/base",
            "_model_module_version": "1.2.0",
            "_model_name": "LayoutModel",
            "_view_count": null,
            "_view_module": "@jupyter-widgets/base",
            "_view_module_version": "1.2.0",
            "_view_name": "LayoutView",
            "align_content": null,
            "align_items": null,
            "align_self": null,
            "border": null,
            "bottom": null,
            "display": null,
            "flex": null,
            "flex_flow": null,
            "grid_area": null,
            "grid_auto_columns": null,
            "grid_auto_flow": null,
            "grid_auto_rows": null,
            "grid_column": null,
            "grid_gap": null,
            "grid_row": null,
            "grid_template_areas": null,
            "grid_template_columns": null,
            "grid_template_rows": null,
            "height": null,
            "justify_content": null,
            "justify_items": null,
            "left": null,
            "margin": null,
            "max_height": null,
            "max_width": null,
            "min_height": null,
            "min_width": null,
            "object_fit": null,
            "object_position": null,
            "order": null,
            "overflow": null,
            "overflow_x": null,
            "overflow_y": null,
            "padding": null,
            "right": null,
            "top": null,
            "visibility": null,
            "width": null
          }
        },
        "2f2cc7f977aa43b38aba69c709687b9c": {
          "model_module": "@jupyter-widgets/controls",
          "model_name": "DescriptionStyleModel",
          "model_module_version": "1.5.0",
          "state": {
            "_model_module": "@jupyter-widgets/controls",
            "_model_module_version": "1.5.0",
            "_model_name": "DescriptionStyleModel",
            "_view_count": null,
            "_view_module": "@jupyter-widgets/base",
            "_view_module_version": "1.2.0",
            "_view_name": "StyleView",
            "description_width": ""
          }
        },
        "158f48ac0fda4f998556591fa45d4b14": {
          "model_module": "@jupyter-widgets/base",
          "model_name": "LayoutModel",
          "model_module_version": "1.2.0",
          "state": {
            "_model_module": "@jupyter-widgets/base",
            "_model_module_version": "1.2.0",
            "_model_name": "LayoutModel",
            "_view_count": null,
            "_view_module": "@jupyter-widgets/base",
            "_view_module_version": "1.2.0",
            "_view_name": "LayoutView",
            "align_content": null,
            "align_items": null,
            "align_self": null,
            "border": null,
            "bottom": null,
            "display": null,
            "flex": null,
            "flex_flow": null,
            "grid_area": null,
            "grid_auto_columns": null,
            "grid_auto_flow": null,
            "grid_auto_rows": null,
            "grid_column": null,
            "grid_gap": null,
            "grid_row": null,
            "grid_template_areas": null,
            "grid_template_columns": null,
            "grid_template_rows": null,
            "height": null,
            "justify_content": null,
            "justify_items": null,
            "left": null,
            "margin": null,
            "max_height": null,
            "max_width": null,
            "min_height": null,
            "min_width": null,
            "object_fit": null,
            "object_position": null,
            "order": null,
            "overflow": null,
            "overflow_x": null,
            "overflow_y": null,
            "padding": null,
            "right": null,
            "top": null,
            "visibility": null,
            "width": "20px"
          }
        },
        "ce9ec8bba9ea48a28798a0562e574a7e": {
          "model_module": "@jupyter-widgets/controls",
          "model_name": "ProgressStyleModel",
          "model_module_version": "1.5.0",
          "state": {
            "_model_module": "@jupyter-widgets/controls",
            "_model_module_version": "1.5.0",
            "_model_name": "ProgressStyleModel",
            "_view_count": null,
            "_view_module": "@jupyter-widgets/base",
            "_view_module_version": "1.2.0",
            "_view_name": "StyleView",
            "bar_color": null,
            "description_width": ""
          }
        },
        "2983454f4b054c3dbf3170c3bf65dfc1": {
          "model_module": "@jupyter-widgets/base",
          "model_name": "LayoutModel",
          "model_module_version": "1.2.0",
          "state": {
            "_model_module": "@jupyter-widgets/base",
            "_model_module_version": "1.2.0",
            "_model_name": "LayoutModel",
            "_view_count": null,
            "_view_module": "@jupyter-widgets/base",
            "_view_module_version": "1.2.0",
            "_view_name": "LayoutView",
            "align_content": null,
            "align_items": null,
            "align_self": null,
            "border": null,
            "bottom": null,
            "display": null,
            "flex": null,
            "flex_flow": null,
            "grid_area": null,
            "grid_auto_columns": null,
            "grid_auto_flow": null,
            "grid_auto_rows": null,
            "grid_column": null,
            "grid_gap": null,
            "grid_row": null,
            "grid_template_areas": null,
            "grid_template_columns": null,
            "grid_template_rows": null,
            "height": null,
            "justify_content": null,
            "justify_items": null,
            "left": null,
            "margin": null,
            "max_height": null,
            "max_width": null,
            "min_height": null,
            "min_width": null,
            "object_fit": null,
            "object_position": null,
            "order": null,
            "overflow": null,
            "overflow_x": null,
            "overflow_y": null,
            "padding": null,
            "right": null,
            "top": null,
            "visibility": null,
            "width": null
          }
        },
        "3cb9dd9b7e6745b5b73734a6edbc4ec7": {
          "model_module": "@jupyter-widgets/controls",
          "model_name": "DescriptionStyleModel",
          "model_module_version": "1.5.0",
          "state": {
            "_model_module": "@jupyter-widgets/controls",
            "_model_module_version": "1.5.0",
            "_model_name": "DescriptionStyleModel",
            "_view_count": null,
            "_view_module": "@jupyter-widgets/base",
            "_view_module_version": "1.2.0",
            "_view_name": "StyleView",
            "description_width": ""
          }
        },
        "3754eb4e4ebc460c929dce7091556b2e": {
          "model_module": "@jupyter-widgets/controls",
          "model_name": "HBoxModel",
          "model_module_version": "1.5.0",
          "state": {
            "_dom_classes": [],
            "_model_module": "@jupyter-widgets/controls",
            "_model_module_version": "1.5.0",
            "_model_name": "HBoxModel",
            "_view_count": null,
            "_view_module": "@jupyter-widgets/controls",
            "_view_module_version": "1.5.0",
            "_view_name": "HBoxView",
            "box_style": "",
            "children": [
              "IPY_MODEL_fda4a8826dbd43199947aa5a126f318d",
              "IPY_MODEL_f10a204a0e9c4033bb76fd03abc7eed0",
              "IPY_MODEL_67f59ef66f44417eb21607aed22f77da"
            ],
            "layout": "IPY_MODEL_eb11100a3c994e01b84ae31a3e8cf95e"
          }
        },
        "fda4a8826dbd43199947aa5a126f318d": {
          "model_module": "@jupyter-widgets/controls",
          "model_name": "HTMLModel",
          "model_module_version": "1.5.0",
          "state": {
            "_dom_classes": [],
            "_model_module": "@jupyter-widgets/controls",
            "_model_module_version": "1.5.0",
            "_model_name": "HTMLModel",
            "_view_count": null,
            "_view_module": "@jupyter-widgets/controls",
            "_view_module_version": "1.5.0",
            "_view_name": "HTMLView",
            "description": "",
            "description_tooltip": null,
            "layout": "IPY_MODEL_2cd7a427ae2a4d8ea88c020627dbe5f9",
            "placeholder": "​",
            "style": "IPY_MODEL_b7ea0df562494da5b5a353d73246a2bd",
            "value": ""
          }
        },
        "f10a204a0e9c4033bb76fd03abc7eed0": {
          "model_module": "@jupyter-widgets/controls",
          "model_name": "FloatProgressModel",
          "model_module_version": "1.5.0",
          "state": {
            "_dom_classes": [],
            "_model_module": "@jupyter-widgets/controls",
            "_model_module_version": "1.5.0",
            "_model_name": "FloatProgressModel",
            "_view_count": null,
            "_view_module": "@jupyter-widgets/controls",
            "_view_module_version": "1.5.0",
            "_view_name": "ProgressView",
            "bar_style": "success",
            "description": "",
            "description_tooltip": null,
            "layout": "IPY_MODEL_93de1f9ac8e443688975ada0b19d5a4e",
            "max": 1,
            "min": 0,
            "orientation": "horizontal",
            "style": "IPY_MODEL_01724e9fba82410e9137a3599a88cf3d",
            "value": 1
          }
        },
        "67f59ef66f44417eb21607aed22f77da": {
          "model_module": "@jupyter-widgets/controls",
          "model_name": "HTMLModel",
          "model_module_version": "1.5.0",
          "state": {
            "_dom_classes": [],
            "_model_module": "@jupyter-widgets/controls",
            "_model_module_version": "1.5.0",
            "_model_name": "HTMLModel",
            "_view_count": null,
            "_view_module": "@jupyter-widgets/controls",
            "_view_module_version": "1.5.0",
            "_view_name": "HTMLView",
            "description": "",
            "description_tooltip": null,
            "layout": "IPY_MODEL_a0964857531547bd959e658b3e9882f1",
            "placeholder": "​",
            "style": "IPY_MODEL_af952b9e19e84a2693b7ee1cc66ef98a",
            "value": " 1647/? [00:17&lt;00:00, 90.67ex/s]"
          }
        },
        "eb11100a3c994e01b84ae31a3e8cf95e": {
          "model_module": "@jupyter-widgets/base",
          "model_name": "LayoutModel",
          "model_module_version": "1.2.0",
          "state": {
            "_model_module": "@jupyter-widgets/base",
            "_model_module_version": "1.2.0",
            "_model_name": "LayoutModel",
            "_view_count": null,
            "_view_module": "@jupyter-widgets/base",
            "_view_module_version": "1.2.0",
            "_view_name": "LayoutView",
            "align_content": null,
            "align_items": null,
            "align_self": null,
            "border": null,
            "bottom": null,
            "display": null,
            "flex": null,
            "flex_flow": null,
            "grid_area": null,
            "grid_auto_columns": null,
            "grid_auto_flow": null,
            "grid_auto_rows": null,
            "grid_column": null,
            "grid_gap": null,
            "grid_row": null,
            "grid_template_areas": null,
            "grid_template_columns": null,
            "grid_template_rows": null,
            "height": null,
            "justify_content": null,
            "justify_items": null,
            "left": null,
            "margin": null,
            "max_height": null,
            "max_width": null,
            "min_height": null,
            "min_width": null,
            "object_fit": null,
            "object_position": null,
            "order": null,
            "overflow": null,
            "overflow_x": null,
            "overflow_y": null,
            "padding": null,
            "right": null,
            "top": null,
            "visibility": null,
            "width": null
          }
        },
        "2cd7a427ae2a4d8ea88c020627dbe5f9": {
          "model_module": "@jupyter-widgets/base",
          "model_name": "LayoutModel",
          "model_module_version": "1.2.0",
          "state": {
            "_model_module": "@jupyter-widgets/base",
            "_model_module_version": "1.2.0",
            "_model_name": "LayoutModel",
            "_view_count": null,
            "_view_module": "@jupyter-widgets/base",
            "_view_module_version": "1.2.0",
            "_view_name": "LayoutView",
            "align_content": null,
            "align_items": null,
            "align_self": null,
            "border": null,
            "bottom": null,
            "display": null,
            "flex": null,
            "flex_flow": null,
            "grid_area": null,
            "grid_auto_columns": null,
            "grid_auto_flow": null,
            "grid_auto_rows": null,
            "grid_column": null,
            "grid_gap": null,
            "grid_row": null,
            "grid_template_areas": null,
            "grid_template_columns": null,
            "grid_template_rows": null,
            "height": null,
            "justify_content": null,
            "justify_items": null,
            "left": null,
            "margin": null,
            "max_height": null,
            "max_width": null,
            "min_height": null,
            "min_width": null,
            "object_fit": null,
            "object_position": null,
            "order": null,
            "overflow": null,
            "overflow_x": null,
            "overflow_y": null,
            "padding": null,
            "right": null,
            "top": null,
            "visibility": null,
            "width": null
          }
        },
        "b7ea0df562494da5b5a353d73246a2bd": {
          "model_module": "@jupyter-widgets/controls",
          "model_name": "DescriptionStyleModel",
          "model_module_version": "1.5.0",
          "state": {
            "_model_module": "@jupyter-widgets/controls",
            "_model_module_version": "1.5.0",
            "_model_name": "DescriptionStyleModel",
            "_view_count": null,
            "_view_module": "@jupyter-widgets/base",
            "_view_module_version": "1.2.0",
            "_view_name": "StyleView",
            "description_width": ""
          }
        },
        "93de1f9ac8e443688975ada0b19d5a4e": {
          "model_module": "@jupyter-widgets/base",
          "model_name": "LayoutModel",
          "model_module_version": "1.2.0",
          "state": {
            "_model_module": "@jupyter-widgets/base",
            "_model_module_version": "1.2.0",
            "_model_name": "LayoutModel",
            "_view_count": null,
            "_view_module": "@jupyter-widgets/base",
            "_view_module_version": "1.2.0",
            "_view_name": "LayoutView",
            "align_content": null,
            "align_items": null,
            "align_self": null,
            "border": null,
            "bottom": null,
            "display": null,
            "flex": null,
            "flex_flow": null,
            "grid_area": null,
            "grid_auto_columns": null,
            "grid_auto_flow": null,
            "grid_auto_rows": null,
            "grid_column": null,
            "grid_gap": null,
            "grid_row": null,
            "grid_template_areas": null,
            "grid_template_columns": null,
            "grid_template_rows": null,
            "height": null,
            "justify_content": null,
            "justify_items": null,
            "left": null,
            "margin": null,
            "max_height": null,
            "max_width": null,
            "min_height": null,
            "min_width": null,
            "object_fit": null,
            "object_position": null,
            "order": null,
            "overflow": null,
            "overflow_x": null,
            "overflow_y": null,
            "padding": null,
            "right": null,
            "top": null,
            "visibility": null,
            "width": "20px"
          }
        },
        "01724e9fba82410e9137a3599a88cf3d": {
          "model_module": "@jupyter-widgets/controls",
          "model_name": "ProgressStyleModel",
          "model_module_version": "1.5.0",
          "state": {
            "_model_module": "@jupyter-widgets/controls",
            "_model_module_version": "1.5.0",
            "_model_name": "ProgressStyleModel",
            "_view_count": null,
            "_view_module": "@jupyter-widgets/base",
            "_view_module_version": "1.2.0",
            "_view_name": "StyleView",
            "bar_color": null,
            "description_width": ""
          }
        },
        "a0964857531547bd959e658b3e9882f1": {
          "model_module": "@jupyter-widgets/base",
          "model_name": "LayoutModel",
          "model_module_version": "1.2.0",
          "state": {
            "_model_module": "@jupyter-widgets/base",
            "_model_module_version": "1.2.0",
            "_model_name": "LayoutModel",
            "_view_count": null,
            "_view_module": "@jupyter-widgets/base",
            "_view_module_version": "1.2.0",
            "_view_name": "LayoutView",
            "align_content": null,
            "align_items": null,
            "align_self": null,
            "border": null,
            "bottom": null,
            "display": null,
            "flex": null,
            "flex_flow": null,
            "grid_area": null,
            "grid_auto_columns": null,
            "grid_auto_flow": null,
            "grid_auto_rows": null,
            "grid_column": null,
            "grid_gap": null,
            "grid_row": null,
            "grid_template_areas": null,
            "grid_template_columns": null,
            "grid_template_rows": null,
            "height": null,
            "justify_content": null,
            "justify_items": null,
            "left": null,
            "margin": null,
            "max_height": null,
            "max_width": null,
            "min_height": null,
            "min_width": null,
            "object_fit": null,
            "object_position": null,
            "order": null,
            "overflow": null,
            "overflow_x": null,
            "overflow_y": null,
            "padding": null,
            "right": null,
            "top": null,
            "visibility": null,
            "width": null
          }
        },
        "af952b9e19e84a2693b7ee1cc66ef98a": {
          "model_module": "@jupyter-widgets/controls",
          "model_name": "DescriptionStyleModel",
          "model_module_version": "1.5.0",
          "state": {
            "_model_module": "@jupyter-widgets/controls",
            "_model_module_version": "1.5.0",
            "_model_name": "DescriptionStyleModel",
            "_view_count": null,
            "_view_module": "@jupyter-widgets/base",
            "_view_module_version": "1.2.0",
            "_view_name": "StyleView",
            "description_width": ""
          }
        },
        "7b64d5400a4e49d3813c5b7b0910707a": {
          "model_module": "@jupyter-widgets/controls",
          "model_name": "HBoxModel",
          "model_module_version": "1.5.0",
          "state": {
            "_dom_classes": [],
            "_model_module": "@jupyter-widgets/controls",
            "_model_module_version": "1.5.0",
            "_model_name": "HBoxModel",
            "_view_count": null,
            "_view_module": "@jupyter-widgets/controls",
            "_view_module_version": "1.5.0",
            "_view_name": "HBoxView",
            "box_style": "",
            "children": [
              "IPY_MODEL_b4fe91bd59464e5296cc29c5f3989ba3",
              "IPY_MODEL_7eec1aa818754b8eb0eed486299bdf76",
              "IPY_MODEL_7d042fe88973460c81b69a4f601743b5"
            ],
            "layout": "IPY_MODEL_1cc17ca8877247b482ec7c585516d7b0"
          }
        },
        "b4fe91bd59464e5296cc29c5f3989ba3": {
          "model_module": "@jupyter-widgets/controls",
          "model_name": "HTMLModel",
          "model_module_version": "1.5.0",
          "state": {
            "_dom_classes": [],
            "_model_module": "@jupyter-widgets/controls",
            "_model_module_version": "1.5.0",
            "_model_name": "HTMLModel",
            "_view_count": null,
            "_view_module": "@jupyter-widgets/controls",
            "_view_module_version": "1.5.0",
            "_view_name": "HTMLView",
            "description": "",
            "description_tooltip": null,
            "layout": "IPY_MODEL_2c3753ed7f8d424886e7cc26ba9477e9",
            "placeholder": "​",
            "style": "IPY_MODEL_59ded309b0fe4c55b5c559d907674b5a",
            "value": "100%"
          }
        },
        "7eec1aa818754b8eb0eed486299bdf76": {
          "model_module": "@jupyter-widgets/controls",
          "model_name": "FloatProgressModel",
          "model_module_version": "1.5.0",
          "state": {
            "_dom_classes": [],
            "_model_module": "@jupyter-widgets/controls",
            "_model_module_version": "1.5.0",
            "_model_name": "FloatProgressModel",
            "_view_count": null,
            "_view_module": "@jupyter-widgets/controls",
            "_view_module_version": "1.5.0",
            "_view_name": "ProgressView",
            "bar_style": "success",
            "description": "",
            "description_tooltip": null,
            "layout": "IPY_MODEL_5c45e25e258f4bdaad9655101bb2b485",
            "max": 4,
            "min": 0,
            "orientation": "horizontal",
            "style": "IPY_MODEL_3606caa80483482488130dd3c8163ac2",
            "value": 4
          }
        },
        "7d042fe88973460c81b69a4f601743b5": {
          "model_module": "@jupyter-widgets/controls",
          "model_name": "HTMLModel",
          "model_module_version": "1.5.0",
          "state": {
            "_dom_classes": [],
            "_model_module": "@jupyter-widgets/controls",
            "_model_module_version": "1.5.0",
            "_model_name": "HTMLModel",
            "_view_count": null,
            "_view_module": "@jupyter-widgets/controls",
            "_view_module_version": "1.5.0",
            "_view_name": "HTMLView",
            "description": "",
            "description_tooltip": null,
            "layout": "IPY_MODEL_86515415037e4388878cbbca684c9ef1",
            "placeholder": "​",
            "style": "IPY_MODEL_648a11a61e7746e0935cbb0e1f65ac9b",
            "value": " 4/4 [00:00&lt;00:00, 90.86ba/s]"
          }
        },
        "1cc17ca8877247b482ec7c585516d7b0": {
          "model_module": "@jupyter-widgets/base",
          "model_name": "LayoutModel",
          "model_module_version": "1.2.0",
          "state": {
            "_model_module": "@jupyter-widgets/base",
            "_model_module_version": "1.2.0",
            "_model_name": "LayoutModel",
            "_view_count": null,
            "_view_module": "@jupyter-widgets/base",
            "_view_module_version": "1.2.0",
            "_view_name": "LayoutView",
            "align_content": null,
            "align_items": null,
            "align_self": null,
            "border": null,
            "bottom": null,
            "display": null,
            "flex": null,
            "flex_flow": null,
            "grid_area": null,
            "grid_auto_columns": null,
            "grid_auto_flow": null,
            "grid_auto_rows": null,
            "grid_column": null,
            "grid_gap": null,
            "grid_row": null,
            "grid_template_areas": null,
            "grid_template_columns": null,
            "grid_template_rows": null,
            "height": null,
            "justify_content": null,
            "justify_items": null,
            "left": null,
            "margin": null,
            "max_height": null,
            "max_width": null,
            "min_height": null,
            "min_width": null,
            "object_fit": null,
            "object_position": null,
            "order": null,
            "overflow": null,
            "overflow_x": null,
            "overflow_y": null,
            "padding": null,
            "right": null,
            "top": null,
            "visibility": null,
            "width": null
          }
        },
        "2c3753ed7f8d424886e7cc26ba9477e9": {
          "model_module": "@jupyter-widgets/base",
          "model_name": "LayoutModel",
          "model_module_version": "1.2.0",
          "state": {
            "_model_module": "@jupyter-widgets/base",
            "_model_module_version": "1.2.0",
            "_model_name": "LayoutModel",
            "_view_count": null,
            "_view_module": "@jupyter-widgets/base",
            "_view_module_version": "1.2.0",
            "_view_name": "LayoutView",
            "align_content": null,
            "align_items": null,
            "align_self": null,
            "border": null,
            "bottom": null,
            "display": null,
            "flex": null,
            "flex_flow": null,
            "grid_area": null,
            "grid_auto_columns": null,
            "grid_auto_flow": null,
            "grid_auto_rows": null,
            "grid_column": null,
            "grid_gap": null,
            "grid_row": null,
            "grid_template_areas": null,
            "grid_template_columns": null,
            "grid_template_rows": null,
            "height": null,
            "justify_content": null,
            "justify_items": null,
            "left": null,
            "margin": null,
            "max_height": null,
            "max_width": null,
            "min_height": null,
            "min_width": null,
            "object_fit": null,
            "object_position": null,
            "order": null,
            "overflow": null,
            "overflow_x": null,
            "overflow_y": null,
            "padding": null,
            "right": null,
            "top": null,
            "visibility": null,
            "width": null
          }
        },
        "59ded309b0fe4c55b5c559d907674b5a": {
          "model_module": "@jupyter-widgets/controls",
          "model_name": "DescriptionStyleModel",
          "model_module_version": "1.5.0",
          "state": {
            "_model_module": "@jupyter-widgets/controls",
            "_model_module_version": "1.5.0",
            "_model_name": "DescriptionStyleModel",
            "_view_count": null,
            "_view_module": "@jupyter-widgets/base",
            "_view_module_version": "1.2.0",
            "_view_name": "StyleView",
            "description_width": ""
          }
        },
        "5c45e25e258f4bdaad9655101bb2b485": {
          "model_module": "@jupyter-widgets/base",
          "model_name": "LayoutModel",
          "model_module_version": "1.2.0",
          "state": {
            "_model_module": "@jupyter-widgets/base",
            "_model_module_version": "1.2.0",
            "_model_name": "LayoutModel",
            "_view_count": null,
            "_view_module": "@jupyter-widgets/base",
            "_view_module_version": "1.2.0",
            "_view_name": "LayoutView",
            "align_content": null,
            "align_items": null,
            "align_self": null,
            "border": null,
            "bottom": null,
            "display": null,
            "flex": null,
            "flex_flow": null,
            "grid_area": null,
            "grid_auto_columns": null,
            "grid_auto_flow": null,
            "grid_auto_rows": null,
            "grid_column": null,
            "grid_gap": null,
            "grid_row": null,
            "grid_template_areas": null,
            "grid_template_columns": null,
            "grid_template_rows": null,
            "height": null,
            "justify_content": null,
            "justify_items": null,
            "left": null,
            "margin": null,
            "max_height": null,
            "max_width": null,
            "min_height": null,
            "min_width": null,
            "object_fit": null,
            "object_position": null,
            "order": null,
            "overflow": null,
            "overflow_x": null,
            "overflow_y": null,
            "padding": null,
            "right": null,
            "top": null,
            "visibility": null,
            "width": null
          }
        },
        "3606caa80483482488130dd3c8163ac2": {
          "model_module": "@jupyter-widgets/controls",
          "model_name": "ProgressStyleModel",
          "model_module_version": "1.5.0",
          "state": {
            "_model_module": "@jupyter-widgets/controls",
            "_model_module_version": "1.5.0",
            "_model_name": "ProgressStyleModel",
            "_view_count": null,
            "_view_module": "@jupyter-widgets/base",
            "_view_module_version": "1.2.0",
            "_view_name": "StyleView",
            "bar_color": null,
            "description_width": ""
          }
        },
        "86515415037e4388878cbbca684c9ef1": {
          "model_module": "@jupyter-widgets/base",
          "model_name": "LayoutModel",
          "model_module_version": "1.2.0",
          "state": {
            "_model_module": "@jupyter-widgets/base",
            "_model_module_version": "1.2.0",
            "_model_name": "LayoutModel",
            "_view_count": null,
            "_view_module": "@jupyter-widgets/base",
            "_view_module_version": "1.2.0",
            "_view_name": "LayoutView",
            "align_content": null,
            "align_items": null,
            "align_self": null,
            "border": null,
            "bottom": null,
            "display": null,
            "flex": null,
            "flex_flow": null,
            "grid_area": null,
            "grid_auto_columns": null,
            "grid_auto_flow": null,
            "grid_auto_rows": null,
            "grid_column": null,
            "grid_gap": null,
            "grid_row": null,
            "grid_template_areas": null,
            "grid_template_columns": null,
            "grid_template_rows": null,
            "height": null,
            "justify_content": null,
            "justify_items": null,
            "left": null,
            "margin": null,
            "max_height": null,
            "max_width": null,
            "min_height": null,
            "min_width": null,
            "object_fit": null,
            "object_position": null,
            "order": null,
            "overflow": null,
            "overflow_x": null,
            "overflow_y": null,
            "padding": null,
            "right": null,
            "top": null,
            "visibility": null,
            "width": null
          }
        },
        "648a11a61e7746e0935cbb0e1f65ac9b": {
          "model_module": "@jupyter-widgets/controls",
          "model_name": "DescriptionStyleModel",
          "model_module_version": "1.5.0",
          "state": {
            "_model_module": "@jupyter-widgets/controls",
            "_model_module_version": "1.5.0",
            "_model_name": "DescriptionStyleModel",
            "_view_count": null,
            "_view_module": "@jupyter-widgets/base",
            "_view_module_version": "1.2.0",
            "_view_name": "StyleView",
            "description_width": ""
          }
        },
        "5e1de7eeabbf4eddb551908559c66372": {
          "model_module": "@jupyter-widgets/controls",
          "model_name": "HBoxModel",
          "model_module_version": "1.5.0",
          "state": {
            "_dom_classes": [],
            "_model_module": "@jupyter-widgets/controls",
            "_model_module_version": "1.5.0",
            "_model_name": "HBoxModel",
            "_view_count": null,
            "_view_module": "@jupyter-widgets/controls",
            "_view_module_version": "1.5.0",
            "_view_name": "HBoxView",
            "box_style": "",
            "children": [
              "IPY_MODEL_561abd707cd144dc8f1fb62e9e9a595e",
              "IPY_MODEL_58f96b58131f4efbb5287ba3ba68f97c",
              "IPY_MODEL_c34795d5e70440e0bf24ed4345bff39e"
            ],
            "layout": "IPY_MODEL_91e084ef77b8473081e274fa66a3d740"
          }
        },
        "561abd707cd144dc8f1fb62e9e9a595e": {
          "model_module": "@jupyter-widgets/controls",
          "model_name": "HTMLModel",
          "model_module_version": "1.5.0",
          "state": {
            "_dom_classes": [],
            "_model_module": "@jupyter-widgets/controls",
            "_model_module_version": "1.5.0",
            "_model_name": "HTMLModel",
            "_view_count": null,
            "_view_module": "@jupyter-widgets/controls",
            "_view_module_version": "1.5.0",
            "_view_name": "HTMLView",
            "description": "",
            "description_tooltip": null,
            "layout": "IPY_MODEL_7d9ea49ea800468dbd68d9fb932ef68e",
            "placeholder": "​",
            "style": "IPY_MODEL_4bda0fbf775a4408b007777c46d14d37",
            "value": "Downloading: 100%"
          }
        },
        "58f96b58131f4efbb5287ba3ba68f97c": {
          "model_module": "@jupyter-widgets/controls",
          "model_name": "FloatProgressModel",
          "model_module_version": "1.5.0",
          "state": {
            "_dom_classes": [],
            "_model_module": "@jupyter-widgets/controls",
            "_model_module_version": "1.5.0",
            "_model_name": "FloatProgressModel",
            "_view_count": null,
            "_view_module": "@jupyter-widgets/controls",
            "_view_module_version": "1.5.0",
            "_view_name": "ProgressView",
            "bar_style": "success",
            "description": "",
            "description_tooltip": null,
            "layout": "IPY_MODEL_7284b561989546939261c658d3332c99",
            "max": 1568,
            "min": 0,
            "orientation": "horizontal",
            "style": "IPY_MODEL_e5386c6cbc3d497c890f226382054b71",
            "value": 1568
          }
        },
        "c34795d5e70440e0bf24ed4345bff39e": {
          "model_module": "@jupyter-widgets/controls",
          "model_name": "HTMLModel",
          "model_module_version": "1.5.0",
          "state": {
            "_dom_classes": [],
            "_model_module": "@jupyter-widgets/controls",
            "_model_module_version": "1.5.0",
            "_model_name": "HTMLModel",
            "_view_count": null,
            "_view_module": "@jupyter-widgets/controls",
            "_view_module_version": "1.5.0",
            "_view_name": "HTMLView",
            "description": "",
            "description_tooltip": null,
            "layout": "IPY_MODEL_cafebffee8784e0db4f6310c4594a543",
            "placeholder": "​",
            "style": "IPY_MODEL_b534b2df8c004fe696ef693717530ee9",
            "value": " 1.53k/1.53k [00:00&lt;00:00, 57.5kB/s]"
          }
        },
        "91e084ef77b8473081e274fa66a3d740": {
          "model_module": "@jupyter-widgets/base",
          "model_name": "LayoutModel",
          "model_module_version": "1.2.0",
          "state": {
            "_model_module": "@jupyter-widgets/base",
            "_model_module_version": "1.2.0",
            "_model_name": "LayoutModel",
            "_view_count": null,
            "_view_module": "@jupyter-widgets/base",
            "_view_module_version": "1.2.0",
            "_view_name": "LayoutView",
            "align_content": null,
            "align_items": null,
            "align_self": null,
            "border": null,
            "bottom": null,
            "display": null,
            "flex": null,
            "flex_flow": null,
            "grid_area": null,
            "grid_auto_columns": null,
            "grid_auto_flow": null,
            "grid_auto_rows": null,
            "grid_column": null,
            "grid_gap": null,
            "grid_row": null,
            "grid_template_areas": null,
            "grid_template_columns": null,
            "grid_template_rows": null,
            "height": null,
            "justify_content": null,
            "justify_items": null,
            "left": null,
            "margin": null,
            "max_height": null,
            "max_width": null,
            "min_height": null,
            "min_width": null,
            "object_fit": null,
            "object_position": null,
            "order": null,
            "overflow": null,
            "overflow_x": null,
            "overflow_y": null,
            "padding": null,
            "right": null,
            "top": null,
            "visibility": null,
            "width": null
          }
        },
        "7d9ea49ea800468dbd68d9fb932ef68e": {
          "model_module": "@jupyter-widgets/base",
          "model_name": "LayoutModel",
          "model_module_version": "1.2.0",
          "state": {
            "_model_module": "@jupyter-widgets/base",
            "_model_module_version": "1.2.0",
            "_model_name": "LayoutModel",
            "_view_count": null,
            "_view_module": "@jupyter-widgets/base",
            "_view_module_version": "1.2.0",
            "_view_name": "LayoutView",
            "align_content": null,
            "align_items": null,
            "align_self": null,
            "border": null,
            "bottom": null,
            "display": null,
            "flex": null,
            "flex_flow": null,
            "grid_area": null,
            "grid_auto_columns": null,
            "grid_auto_flow": null,
            "grid_auto_rows": null,
            "grid_column": null,
            "grid_gap": null,
            "grid_row": null,
            "grid_template_areas": null,
            "grid_template_columns": null,
            "grid_template_rows": null,
            "height": null,
            "justify_content": null,
            "justify_items": null,
            "left": null,
            "margin": null,
            "max_height": null,
            "max_width": null,
            "min_height": null,
            "min_width": null,
            "object_fit": null,
            "object_position": null,
            "order": null,
            "overflow": null,
            "overflow_x": null,
            "overflow_y": null,
            "padding": null,
            "right": null,
            "top": null,
            "visibility": null,
            "width": null
          }
        },
        "4bda0fbf775a4408b007777c46d14d37": {
          "model_module": "@jupyter-widgets/controls",
          "model_name": "DescriptionStyleModel",
          "model_module_version": "1.5.0",
          "state": {
            "_model_module": "@jupyter-widgets/controls",
            "_model_module_version": "1.5.0",
            "_model_name": "DescriptionStyleModel",
            "_view_count": null,
            "_view_module": "@jupyter-widgets/base",
            "_view_module_version": "1.2.0",
            "_view_name": "StyleView",
            "description_width": ""
          }
        },
        "7284b561989546939261c658d3332c99": {
          "model_module": "@jupyter-widgets/base",
          "model_name": "LayoutModel",
          "model_module_version": "1.2.0",
          "state": {
            "_model_module": "@jupyter-widgets/base",
            "_model_module_version": "1.2.0",
            "_model_name": "LayoutModel",
            "_view_count": null,
            "_view_module": "@jupyter-widgets/base",
            "_view_module_version": "1.2.0",
            "_view_name": "LayoutView",
            "align_content": null,
            "align_items": null,
            "align_self": null,
            "border": null,
            "bottom": null,
            "display": null,
            "flex": null,
            "flex_flow": null,
            "grid_area": null,
            "grid_auto_columns": null,
            "grid_auto_flow": null,
            "grid_auto_rows": null,
            "grid_column": null,
            "grid_gap": null,
            "grid_row": null,
            "grid_template_areas": null,
            "grid_template_columns": null,
            "grid_template_rows": null,
            "height": null,
            "justify_content": null,
            "justify_items": null,
            "left": null,
            "margin": null,
            "max_height": null,
            "max_width": null,
            "min_height": null,
            "min_width": null,
            "object_fit": null,
            "object_position": null,
            "order": null,
            "overflow": null,
            "overflow_x": null,
            "overflow_y": null,
            "padding": null,
            "right": null,
            "top": null,
            "visibility": null,
            "width": null
          }
        },
        "e5386c6cbc3d497c890f226382054b71": {
          "model_module": "@jupyter-widgets/controls",
          "model_name": "ProgressStyleModel",
          "model_module_version": "1.5.0",
          "state": {
            "_model_module": "@jupyter-widgets/controls",
            "_model_module_version": "1.5.0",
            "_model_name": "ProgressStyleModel",
            "_view_count": null,
            "_view_module": "@jupyter-widgets/base",
            "_view_module_version": "1.2.0",
            "_view_name": "StyleView",
            "bar_color": null,
            "description_width": ""
          }
        },
        "cafebffee8784e0db4f6310c4594a543": {
          "model_module": "@jupyter-widgets/base",
          "model_name": "LayoutModel",
          "model_module_version": "1.2.0",
          "state": {
            "_model_module": "@jupyter-widgets/base",
            "_model_module_version": "1.2.0",
            "_model_name": "LayoutModel",
            "_view_count": null,
            "_view_module": "@jupyter-widgets/base",
            "_view_module_version": "1.2.0",
            "_view_name": "LayoutView",
            "align_content": null,
            "align_items": null,
            "align_self": null,
            "border": null,
            "bottom": null,
            "display": null,
            "flex": null,
            "flex_flow": null,
            "grid_area": null,
            "grid_auto_columns": null,
            "grid_auto_flow": null,
            "grid_auto_rows": null,
            "grid_column": null,
            "grid_gap": null,
            "grid_row": null,
            "grid_template_areas": null,
            "grid_template_columns": null,
            "grid_template_rows": null,
            "height": null,
            "justify_content": null,
            "justify_items": null,
            "left": null,
            "margin": null,
            "max_height": null,
            "max_width": null,
            "min_height": null,
            "min_width": null,
            "object_fit": null,
            "object_position": null,
            "order": null,
            "overflow": null,
            "overflow_x": null,
            "overflow_y": null,
            "padding": null,
            "right": null,
            "top": null,
            "visibility": null,
            "width": null
          }
        },
        "b534b2df8c004fe696ef693717530ee9": {
          "model_module": "@jupyter-widgets/controls",
          "model_name": "DescriptionStyleModel",
          "model_module_version": "1.5.0",
          "state": {
            "_model_module": "@jupyter-widgets/controls",
            "_model_module_version": "1.5.0",
            "_model_name": "DescriptionStyleModel",
            "_view_count": null,
            "_view_module": "@jupyter-widgets/base",
            "_view_module_version": "1.2.0",
            "_view_name": "StyleView",
            "description_width": ""
          }
        },
        "1579cfce90154a5e8a36bc434f7265b3": {
          "model_module": "@jupyter-widgets/controls",
          "model_name": "HBoxModel",
          "model_module_version": "1.5.0",
          "state": {
            "_dom_classes": [],
            "_model_module": "@jupyter-widgets/controls",
            "_model_module_version": "1.5.0",
            "_model_name": "HBoxModel",
            "_view_count": null,
            "_view_module": "@jupyter-widgets/controls",
            "_view_module_version": "1.5.0",
            "_view_name": "HBoxView",
            "box_style": "",
            "children": [
              "IPY_MODEL_2680adc69c7f4bf08c70bc11efce0e4a",
              "IPY_MODEL_0e4016df9bb74699b1bb4410d8042c73",
              "IPY_MODEL_3b26cb43b2be4aceb619c0ed250d5e99"
            ],
            "layout": "IPY_MODEL_cce1af2c105f4fdabe0bc4ceacc00fca"
          }
        },
        "2680adc69c7f4bf08c70bc11efce0e4a": {
          "model_module": "@jupyter-widgets/controls",
          "model_name": "HTMLModel",
          "model_module_version": "1.5.0",
          "state": {
            "_dom_classes": [],
            "_model_module": "@jupyter-widgets/controls",
            "_model_module_version": "1.5.0",
            "_model_name": "HTMLModel",
            "_view_count": null,
            "_view_module": "@jupyter-widgets/controls",
            "_view_module_version": "1.5.0",
            "_view_name": "HTMLView",
            "description": "",
            "description_tooltip": null,
            "layout": "IPY_MODEL_04132f9958dc4c59b7c55a4aa014dfe0",
            "placeholder": "​",
            "style": "IPY_MODEL_5adaebdf9cd14958ac05a321a09bf2bc",
            "value": "Downloading: 100%"
          }
        },
        "0e4016df9bb74699b1bb4410d8042c73": {
          "model_module": "@jupyter-widgets/controls",
          "model_name": "FloatProgressModel",
          "model_module_version": "1.5.0",
          "state": {
            "_dom_classes": [],
            "_model_module": "@jupyter-widgets/controls",
            "_model_module_version": "1.5.0",
            "_model_name": "FloatProgressModel",
            "_view_count": null,
            "_view_module": "@jupyter-widgets/controls",
            "_view_module_version": "1.5.0",
            "_view_name": "ProgressView",
            "bar_style": "success",
            "description": "",
            "description_tooltip": null,
            "layout": "IPY_MODEL_0050fb8e28d04ea7ad5285e6aebc90ab",
            "max": 1269737156,
            "min": 0,
            "orientation": "horizontal",
            "style": "IPY_MODEL_5b8439df56104784b6bfa153abcf3f30",
            "value": 1269737156
          }
        },
        "3b26cb43b2be4aceb619c0ed250d5e99": {
          "model_module": "@jupyter-widgets/controls",
          "model_name": "HTMLModel",
          "model_module_version": "1.5.0",
          "state": {
            "_dom_classes": [],
            "_model_module": "@jupyter-widgets/controls",
            "_model_module_version": "1.5.0",
            "_model_name": "HTMLModel",
            "_view_count": null,
            "_view_module": "@jupyter-widgets/controls",
            "_view_module_version": "1.5.0",
            "_view_name": "HTMLView",
            "description": "",
            "description_tooltip": null,
            "layout": "IPY_MODEL_697ec108bd72481ead799c663342bcab",
            "placeholder": "​",
            "style": "IPY_MODEL_698c5f415cd942979d4c26546da3cc19",
            "value": " 1.18G/1.18G [00:21&lt;00:00, 42.8MB/s]"
          }
        },
        "cce1af2c105f4fdabe0bc4ceacc00fca": {
          "model_module": "@jupyter-widgets/base",
          "model_name": "LayoutModel",
          "model_module_version": "1.2.0",
          "state": {
            "_model_module": "@jupyter-widgets/base",
            "_model_module_version": "1.2.0",
            "_model_name": "LayoutModel",
            "_view_count": null,
            "_view_module": "@jupyter-widgets/base",
            "_view_module_version": "1.2.0",
            "_view_name": "LayoutView",
            "align_content": null,
            "align_items": null,
            "align_self": null,
            "border": null,
            "bottom": null,
            "display": null,
            "flex": null,
            "flex_flow": null,
            "grid_area": null,
            "grid_auto_columns": null,
            "grid_auto_flow": null,
            "grid_auto_rows": null,
            "grid_column": null,
            "grid_gap": null,
            "grid_row": null,
            "grid_template_areas": null,
            "grid_template_columns": null,
            "grid_template_rows": null,
            "height": null,
            "justify_content": null,
            "justify_items": null,
            "left": null,
            "margin": null,
            "max_height": null,
            "max_width": null,
            "min_height": null,
            "min_width": null,
            "object_fit": null,
            "object_position": null,
            "order": null,
            "overflow": null,
            "overflow_x": null,
            "overflow_y": null,
            "padding": null,
            "right": null,
            "top": null,
            "visibility": null,
            "width": null
          }
        },
        "04132f9958dc4c59b7c55a4aa014dfe0": {
          "model_module": "@jupyter-widgets/base",
          "model_name": "LayoutModel",
          "model_module_version": "1.2.0",
          "state": {
            "_model_module": "@jupyter-widgets/base",
            "_model_module_version": "1.2.0",
            "_model_name": "LayoutModel",
            "_view_count": null,
            "_view_module": "@jupyter-widgets/base",
            "_view_module_version": "1.2.0",
            "_view_name": "LayoutView",
            "align_content": null,
            "align_items": null,
            "align_self": null,
            "border": null,
            "bottom": null,
            "display": null,
            "flex": null,
            "flex_flow": null,
            "grid_area": null,
            "grid_auto_columns": null,
            "grid_auto_flow": null,
            "grid_auto_rows": null,
            "grid_column": null,
            "grid_gap": null,
            "grid_row": null,
            "grid_template_areas": null,
            "grid_template_columns": null,
            "grid_template_rows": null,
            "height": null,
            "justify_content": null,
            "justify_items": null,
            "left": null,
            "margin": null,
            "max_height": null,
            "max_width": null,
            "min_height": null,
            "min_width": null,
            "object_fit": null,
            "object_position": null,
            "order": null,
            "overflow": null,
            "overflow_x": null,
            "overflow_y": null,
            "padding": null,
            "right": null,
            "top": null,
            "visibility": null,
            "width": null
          }
        },
        "5adaebdf9cd14958ac05a321a09bf2bc": {
          "model_module": "@jupyter-widgets/controls",
          "model_name": "DescriptionStyleModel",
          "model_module_version": "1.5.0",
          "state": {
            "_model_module": "@jupyter-widgets/controls",
            "_model_module_version": "1.5.0",
            "_model_name": "DescriptionStyleModel",
            "_view_count": null,
            "_view_module": "@jupyter-widgets/base",
            "_view_module_version": "1.2.0",
            "_view_name": "StyleView",
            "description_width": ""
          }
        },
        "0050fb8e28d04ea7ad5285e6aebc90ab": {
          "model_module": "@jupyter-widgets/base",
          "model_name": "LayoutModel",
          "model_module_version": "1.2.0",
          "state": {
            "_model_module": "@jupyter-widgets/base",
            "_model_module_version": "1.2.0",
            "_model_name": "LayoutModel",
            "_view_count": null,
            "_view_module": "@jupyter-widgets/base",
            "_view_module_version": "1.2.0",
            "_view_name": "LayoutView",
            "align_content": null,
            "align_items": null,
            "align_self": null,
            "border": null,
            "bottom": null,
            "display": null,
            "flex": null,
            "flex_flow": null,
            "grid_area": null,
            "grid_auto_columns": null,
            "grid_auto_flow": null,
            "grid_auto_rows": null,
            "grid_column": null,
            "grid_gap": null,
            "grid_row": null,
            "grid_template_areas": null,
            "grid_template_columns": null,
            "grid_template_rows": null,
            "height": null,
            "justify_content": null,
            "justify_items": null,
            "left": null,
            "margin": null,
            "max_height": null,
            "max_width": null,
            "min_height": null,
            "min_width": null,
            "object_fit": null,
            "object_position": null,
            "order": null,
            "overflow": null,
            "overflow_x": null,
            "overflow_y": null,
            "padding": null,
            "right": null,
            "top": null,
            "visibility": null,
            "width": null
          }
        },
        "5b8439df56104784b6bfa153abcf3f30": {
          "model_module": "@jupyter-widgets/controls",
          "model_name": "ProgressStyleModel",
          "model_module_version": "1.5.0",
          "state": {
            "_model_module": "@jupyter-widgets/controls",
            "_model_module_version": "1.5.0",
            "_model_name": "ProgressStyleModel",
            "_view_count": null,
            "_view_module": "@jupyter-widgets/base",
            "_view_module_version": "1.2.0",
            "_view_name": "StyleView",
            "bar_color": null,
            "description_width": ""
          }
        },
        "697ec108bd72481ead799c663342bcab": {
          "model_module": "@jupyter-widgets/base",
          "model_name": "LayoutModel",
          "model_module_version": "1.2.0",
          "state": {
            "_model_module": "@jupyter-widgets/base",
            "_model_module_version": "1.2.0",
            "_model_name": "LayoutModel",
            "_view_count": null,
            "_view_module": "@jupyter-widgets/base",
            "_view_module_version": "1.2.0",
            "_view_name": "LayoutView",
            "align_content": null,
            "align_items": null,
            "align_self": null,
            "border": null,
            "bottom": null,
            "display": null,
            "flex": null,
            "flex_flow": null,
            "grid_area": null,
            "grid_auto_columns": null,
            "grid_auto_flow": null,
            "grid_auto_rows": null,
            "grid_column": null,
            "grid_gap": null,
            "grid_row": null,
            "grid_template_areas": null,
            "grid_template_columns": null,
            "grid_template_rows": null,
            "height": null,
            "justify_content": null,
            "justify_items": null,
            "left": null,
            "margin": null,
            "max_height": null,
            "max_width": null,
            "min_height": null,
            "min_width": null,
            "object_fit": null,
            "object_position": null,
            "order": null,
            "overflow": null,
            "overflow_x": null,
            "overflow_y": null,
            "padding": null,
            "right": null,
            "top": null,
            "visibility": null,
            "width": null
          }
        },
        "698c5f415cd942979d4c26546da3cc19": {
          "model_module": "@jupyter-widgets/controls",
          "model_name": "DescriptionStyleModel",
          "model_module_version": "1.5.0",
          "state": {
            "_model_module": "@jupyter-widgets/controls",
            "_model_module_version": "1.5.0",
            "_model_name": "DescriptionStyleModel",
            "_view_count": null,
            "_view_module": "@jupyter-widgets/base",
            "_view_module_version": "1.2.0",
            "_view_name": "StyleView",
            "description_width": ""
          }
        }
      }
    }
  },
  "cells": [
    {
      "cell_type": "markdown",
      "metadata": {
        "id": "LBSYoWbi-45k"
      },
      "source": [
        "# **Fine-tuning XLS-R for Multi-Lingual ASR with 🤗 Transformers**\n",
        "\n",
        "***New (11/2021)***: *This blog post has been updated to feature XLSR's successor, called [XLS-R](https://huggingface.co/models?other=xls_r)*."
      ]
    },
    {
      "cell_type": "markdown",
      "metadata": {
        "id": "V7YOT2mnUiea"
      },
      "source": [
        "**Wav2Vec2** is a pretrained model for Automatic Speech Recognition (ASR) and was released in [September 2020](https://ai.facebook.com/blog/wav2vec-20-learning-the-structure-of-speech-from-raw-audio/) by *Alexei Baevski, Michael Auli, and Alex Conneau*.  Soon after the superior performance of Wav2Vec2 was demonstrated on one of the most popular English datasets for ASR, called [LibriSpeech](https://huggingface.co/datasets/librispeech_asr), *Facebook AI* presented a multi-lingual version of Wav2Vec2, called [XLSR](https://arxiv.org/abs/2006.13979). XLSR stands for *cross-lingual speech representations* and refers to model's ability to learn speech representations that are useful across multiple languages.\n",
        "\n",
        "XLSR's successor, simply called **XLS-R** (refering to the [*''XLM-R*](https://ai.facebook.com/blog/-xlm-r-state-of-the-art-cross-lingual-understanding-through-self-supervision/) *for Speech''*), was released in [November 2021](https://ai.facebook.com/blog/xls-r-self-supervised-speech-processing-for-128-languages) by *Arun Babu, Changhan Wang, Andros Tjandra, et al.* XLS-R used almost **half a million** hours of audio data in 128 languages for self-supervised pre-training and comes in sizes ranging from 300 milion up to **two billion** parameters. You can find the pretrained checkpoints on the 🤗 Hub:\n",
        "\n",
        "- [**Wav2Vec2-XLS-R-300M**](https://huggingface.co/facebook/wav2vec2-xls-r-300m)\n",
        "- [**Wav2Vec2-XLS-R-1B**](https://huggingface.co/facebook/wav2vec2-xls-r-1b)\n",
        "- [**Wav2Vec2-XLS-R-2B**](https://huggingface.co/facebook/wav2vec2-xls-r-2b)\n",
        "\n",
        "Similar to [BERT's masked language modeling objective](http://jalammar.github.io/illustrated-bert/), XLS-R learns contextualized speech representations by randomly masking feature vectors before passing them to a transformer network during self-supervised pre-training (*i.e.* diagram on the left below). \n",
        "\n",
        "For fine-tuning, a single linear layer is added on top of the pre-trained network to train the model on labeled data of audio downstream tasks such as speech recognition, speech translation and audio classification (*i.e.* diagram on the right below).\n",
        "\n",
        "![wav2vec2_structure](https://raw.githubusercontent.com/patrickvonplaten/scientific_images/master/xls_r.png)\n",
        "\n",
        "XLS-R shows impressive improvements over previous state-of-the-art results on both speech recognition, speech translation and speaker/language identification, *cf.* with Table 3-6, Table 7-10, and Table 11-12 respectively of the official [paper](https://ai.facebook.com/blog/xls-r-self-supervised-speech-processing-for-128-languages)."
      ]
    },
    {
      "cell_type": "markdown",
      "metadata": {
        "id": "nT_QrfWtsxIz"
      },
      "source": [
        "## Notebook Setup"
      ]
    },
    {
      "cell_type": "markdown",
      "metadata": {
        "id": "kruqixOYHaIo"
      },
      "source": [
        "\n",
        "In this notebook, we will give an in-detail explanation of how XLS-R - more specifically the pre-trained checkpoint [**Wav2Vec2-XLS-R-300M**](https://huggingface.co/facebook/wav2vec2-xls-r-300m) - can be fine-tuned for ASR.  \n",
        "\n",
        "For demonstration purposes, we fine-tune the model on the low resource ASR dataset of [Common Voice](https://huggingface.co/datasets/common_voice) that contains only *ca.* 4h of validated training data."
      ]
    },
    {
      "cell_type": "markdown",
      "metadata": {
        "id": "Gx9OdDYrCtQ1"
      },
      "source": [
        "XLS-R is fine-tuned using Connectionist Temporal Classification (CTC), which is an algorithm that is used to train neural networks for sequence-to-sequence problems, such as ASR and handwriting recognition. \n",
        "\n",
        "I highly recommend reading the well-written blog post [*Sequence Modeling with CTC (2017)*](https://distill.pub/2017/ctc/) by Awni Hannun."
      ]
    },
    {
      "cell_type": "markdown",
      "metadata": {
        "id": "wcHuXIaWyHZU"
      },
      "source": [
        "First, let's try to get a good GPU in our colab! With Google Colab's free version it's sadly becoming much harder to get access to a good GPU. With Google Colab Pro, however, one should easily get either a V100 or P100 GPU."
      ]
    },
    {
      "cell_type": "code",
      "metadata": {
        "colab": {
          "base_uri": "https://localhost:8080/"
        },
        "id": "YELVqGxMxnbG",
        "outputId": "247aa0c4-78b4-431c-b8cd-21bb18bb7ff8"
      },
      "source": [
        "gpu_info = !nvidia-smi\n",
        "gpu_info = '\\n'.join(gpu_info)\n",
        "if gpu_info.find('failed') >= 0:\n",
        "  print('Not connected to a GPU')\n",
        "else:\n",
        "  print(gpu_info)"
      ],
      "execution_count": null,
      "outputs": [
        {
          "output_type": "stream",
          "name": "stdout",
          "text": [
            "Tue Apr 25 07:27:59 2023       \n",
            "+-----------------------------------------------------------------------------+\n",
            "| NVIDIA-SMI 525.85.12    Driver Version: 525.85.12    CUDA Version: 12.0     |\n",
            "|-------------------------------+----------------------+----------------------+\n",
            "| GPU  Name        Persistence-M| Bus-Id        Disp.A | Volatile Uncorr. ECC |\n",
            "| Fan  Temp  Perf  Pwr:Usage/Cap|         Memory-Usage | GPU-Util  Compute M. |\n",
            "|                               |                      |               MIG M. |\n",
            "|===============================+======================+======================|\n",
            "|   0  Tesla T4            Off  | 00000000:00:04.0 Off |                    0 |\n",
            "| N/A   48C    P8     9W /  70W |      0MiB / 15360MiB |      0%      Default |\n",
            "|                               |                      |                  N/A |\n",
            "+-------------------------------+----------------------+----------------------+\n",
            "                                                                               \n",
            "+-----------------------------------------------------------------------------+\n",
            "| Processes:                                                                  |\n",
            "|  GPU   GI   CI        PID   Type   Process name                  GPU Memory |\n",
            "|        ID   ID                                                   Usage      |\n",
            "|=============================================================================|\n",
            "|  No running processes found                                                 |\n",
            "+-----------------------------------------------------------------------------+\n"
          ]
        }
      ]
    },
    {
      "cell_type": "markdown",
      "metadata": {
        "id": "e335hPmdtASZ"
      },
      "source": [
        "Before we start, let's install `datasets` and `transformers`. Also, we need the `torchaudio` to load audio files and `jiwer` to evaluate our fine-tuned model using the [word error rate (WER)](https://huggingface.co/metrics/wer) metric ${}^1$."
      ]
    },
    {
      "cell_type": "code",
      "metadata": {
        "id": "c8eh87Hoee5d"
      },
      "source": [
        "%%capture\n",
        "!pip install datasets==1.18.3\n",
        "!pip install transformers==4.11.3\n",
        "!pip install torchaudio==0.10.0+cu113 -f https://download.pytorch.org/whl/cu113/torch_stable.html\n",
        "!pip install jiwer"
      ],
      "execution_count": null,
      "outputs": []
    },
    {
      "cell_type": "markdown",
      "metadata": {
        "id": "0xxt_LwxDQlO"
      },
      "source": [
        "We strongly suggest to upload your training checkpoints directly to the [🤗 Hub](https://huggingface.co/) while training. The [🤗 Hub](https://huggingface.co/) has integrated version control so you can be sure that no model checkpoint is getting lost during training. \n",
        "\n",
        "To do so you have to store your authentication token from the Hugging Face website (sign up [here](https://huggingface.co/join) if you haven't already!)"
      ]
    },
    {
      "cell_type": "code",
      "metadata": {
        "colab": {
          "base_uri": "https://localhost:8080/",
          "height": 239,
          "referenced_widgets": [
            "b896566369e3403091e357af18648740",
            "26bf8a70fe5449a99ca1b06430b2fc8f",
            "dd5d9b3f70ee4a0dabe18e87ab38145c",
            "2d4eb3e5acc348948299c506db83ca90",
            "384228b409cb4bb0bbd77ef259b9a568",
            "0c01a04a8a924740af301c5c53a51315",
            "15f8964842df434ca0dee00d7dc1bd9a",
            "49f98244a8634be9b2305bb87731e765",
            "a28d3e82e04646b79c89f93cf40ee596",
            "4c3e043e600641538a479df6ad389784",
            "d11d94912b26401a860c80eba767907a",
            "6dd7aa6b17b34d18ba46d834ffd559bc",
            "4bf1f9d3031e4877aa6ef704e9a227d7",
            "bfb6a1e47f6e4f74af4db7e71227ef3e",
            "8541f8f949ea49b7a1335aaf31ca4f81",
            "c237b5686d3e48aeb226c87aa703f63d"
          ]
        },
        "id": "mlMSH3T3EazV",
        "outputId": "cecdacd4-9e12-4878-d5ae-fd2eeeb7d355"
      },
      "source": [
        "from huggingface_hub import notebook_login\n",
        "\n",
        "notebook_login()"
      ],
      "execution_count": null,
      "outputs": [
        {
          "data": {
            "application/vnd.jupyter.widget-view+json": {
              "model_id": "b896566369e3403091e357af18648740",
              "version_major": 2,
              "version_minor": 0
            },
            "text/plain": [
              "VBox(children=(HTML(value=\"<center>\\n<img src=https://huggingface.co/front/assets/huggingface_logo-noborder.sv…"
            ]
          },
          "metadata": {},
          "output_type": "display_data"
        }
      ]
    },
    {
      "cell_type": "markdown",
      "metadata": {
        "id": "ujdZ2TxhElk6"
      },
      "source": [
        "\n",
        "Then you need to install Git-LFS to upload your model checkpoints:"
      ]
    },
    {
      "cell_type": "code",
      "metadata": {
        "id": "WcR-d83OEkqb"
      },
      "source": [
        "%%capture\n",
        "!apt install git-lfs"
      ],
      "execution_count": null,
      "outputs": []
    },
    {
      "cell_type": "markdown",
      "metadata": {
        "id": "Mn9swf6EQ9Vd"
      },
      "source": [
        "\n",
        "\n",
        "\n",
        "---\n",
        "\n",
        "${}^1$ In the [paper](https://arxiv.org/pdf/2006.13979.pdf), the model was evaluated using the phoneme error rate (PER), but by far the most common metric in ASR is the word error rate (WER). To keep this notebook as general as possible we decided to evaluate the model using WER."
      ]
    },
    {
      "cell_type": "markdown",
      "metadata": {
        "id": "0mW-C1Nt-j7k"
      },
      "source": [
        "## Prepare Data, Tokenizer, Feature Extractor"
      ]
    },
    {
      "cell_type": "markdown",
      "metadata": {
        "id": "BeBosnY9BH3e"
      },
      "source": [
        "ASR models transcribe speech to text, which means that we both need a feature extractor that processes the speech signal to the model's input format, *e.g.* a feature vector, and a tokenizer that processes the model's output format to text. \n",
        "\n",
        "In 🤗 Transformers, the XLS-R model is thus accompanied by both a tokenizer, called [Wav2Vec2CTCTokenizer](https://huggingface.co/transformers/master/model_doc/wav2vec2.html#wav2vec2ctctokenizer), and a feature extractor, called [Wav2Vec2FeatureExtractor](https://huggingface.co/transformers/master/model_doc/wav2vec2.html#wav2vec2featureextractor).\n",
        "\n",
        "Let's start by creating the tokenizer to decode the predicted output classes to the output transcription."
      ]
    },
    {
      "cell_type": "markdown",
      "metadata": {
        "id": "sEXEWEJGQPqD"
      },
      "source": [
        "### Create `Wav2Vec2CTCTokenizer`"
      ]
    },
    {
      "cell_type": "markdown",
      "metadata": {
        "id": "tWmMikuNEKl_"
      },
      "source": [
        "A pre-trained XLS-R model maps the speech signal to a sequence of context representations as illustrated in the figure above. However, for speech recognition the model has to to map this sequence of context representations to its corresponding transcription which means that a linear layer has to be added on top of the transformer block (shown in yellow in the diagram above). This linear layer is used to classifies each context representation to a token class analogous how, *e.g.*, after pretraining a linear layer is added on top of BERT's embeddings for further classification - *cf.* with *'BERT'* section of this [blog post](https://huggingface.co/blog/warm-starting-encoder-decoder)."
      ]
    },
    {
      "cell_type": "markdown",
      "metadata": {
        "id": "v5oRE8XjIUH3"
      },
      "source": [
        "The output size of this layer corresponds to the number of tokens in the vocabulary, which does **not** depend onXLS-R's pretraining task, but only on the labeled dataset used for fine-tuning. So in the first step, we will take a look at the chosen dataset of Common Voice and define a vocabulary based on the transcriptions."
      ]
    },
    {
      "cell_type": "markdown",
      "metadata": {
        "id": "idBczw8mWzgt"
      },
      "source": [
        "First, let's go to Common Voice [official website](https://commonvoice.mozilla.org/en/datasets) and pick a language to fine-tune XLS-R on. For this notebook, we will use Turkish. \n",
        "\n",
        "For each language-specific dataset, you can find a language code corresponding to your chosen language. On [Common Voice](https://commonvoice.mozilla.org/en/datasets), look for the field \"Version\". The language code then corresponds to the prefix before the underscore. For Turkish, *e.g.* the language code is `\"tr\"`.\n",
        "\n",
        "Great, now we can use 🤗 Datasets' simple API to download the data. The dataset name is `\"common_voice\"`, the configuration name corresponds to the language code, which is `\"tr\"` in our case."
      ]
    },
    {
      "cell_type": "markdown",
      "metadata": {
        "id": "bee4g9rpLxll"
      },
      "source": [
        "Common Voice has many different splits including `invalidated`, which refers to data that was not rated as \"clean enough\" to be considered useful. In this notebook, we will only make use of the splits `\"train\"`, `\"validation\"` and `\"test\"`. \n",
        "\n",
        "Because the Turkish dataset is so small, we will merge both the validation and training data into a training dataset and only use the test data for validation."
      ]
    },
    {
      "cell_type": "code",
      "metadata": {
        "colab": {
          "base_uri": "https://localhost:8080/",
          "height": 185,
          "referenced_widgets": [
            "b75750319ef24dbd94900e269cbe0549",
            "bb84ca2528504832bc0dacfc1ed3444c",
            "4fbe0e36c8d647ab990f7565a45070d5",
            "df414329bbdf447291e35922cb8fab6c",
            "e7a63d8c5b0c43e3949524d71864f694",
            "b149a1acb68d4b8ab52369ce8ca59387",
            "27556497c28742ad8275adead1541a26",
            "c957fea1ac6746f98fb3e631aaba7fe0",
            "d6707d8982114269ad0a98d6513415ba",
            "cbf9cc658c7b4f3a97a82c7c5e96ca41",
            "1fd06eba501e4e48bf357042ff2d1691",
            "7f3a765679bb43a3976c979f44da206c",
            "453e4a4a65e143f89e85fe15bef75366",
            "4da9061d11b04deb95d93bf4951689ee",
            "90609ee0fecd40b1a395ccd0b1c08fba",
            "9f9337dc447d44e49ea536132c52c96d",
            "b2b98c3c42d645758e74a99769e42e47",
            "617b9b036c6240b8a2254fdf92b391f0",
            "4580407668694b98b2c971cc2a40508a",
            "f0149af373694d21890a7f5ec92d4486",
            "896cb23e966d4ecc8c1d9213a6680e34",
            "77d885b197324baaa0a8188cb6b71834",
            "dc4c78d3e7e941ac89bea075754a0c1a",
            "787aa8bb108e45938e79277514a6981d",
            "360595c8c58d4e4e848ff0ff3699173a",
            "f0bd454c42fe468f91ce84e256f74a88",
            "087acbecdb9546c2a82479032bf1fa5f",
            "cb6a23d9a36f4f34a3c11bbb3a6eaf37",
            "8b1dceb7be264d8fba6befe8dbf7aa1f",
            "ff0d85d8ec4e49f89897bab1a2c204f7",
            "4bf606dd9b4d48ba92d1b3b52044fa52",
            "ed20516a111248e8bddaa135c9c5db63",
            "ed83ff5f3ece450ba21449cc240b4b7b",
            "28de19fd54bb4064a4437183b6ca7cd8",
            "4313057dfffb4d42a694590dec896f27",
            "a5eb20d263024680af0dabccdbb63b7f",
            "ec881b8467e94b2badd7f8db82052dec",
            "9ace6602a0f5401fb9a3a4fb6665323f",
            "15eb5857cefd48199e0928736c3a78e0",
            "6ca71f45ed39419996870d5b306f58be",
            "6a7c1610988142699c7b15b28bd9f1c4",
            "f6eeff81ad294580bc89478a2828a6ca",
            "00b8e7a4f3e04e1d921db8aece3dbc48",
            "a9045f6c20e34f79abd8a32f48ec2419",
            "66c902592a9043529fbb2d3e5389746c",
            "71b4fdc5c13349b896b6bd94530e83e5",
            "d7f850516f164ab39e651587cd8af054",
            "ffc5cb2127d44de3a5ebc87887762d2a",
            "a07c76da3c1d4e52a70f72925db6cf62",
            "f8c0a47626f54e11aa6a890f216ad4c6",
            "2b49dab6c6e546b1ad97f8ee6ee93138",
            "1d80daaa3d204091aaec2d208ca352aa",
            "316ffd6add9541a188d99a62fdab2bf6",
            "c09a5ec7de4442f49b6917d5f85a640c",
            "e3dee8eb68534203bf450ff90b833733",
            "59653a40c9cf48a18ec6c93d2618752d",
            "b5647ab66570414090190cd4e4c3f968",
            "f7f0b0feaf2941d087e149d6a1a51036",
            "3ab7135bff794d7397f17c34888172ce",
            "703e28cb4bd4424cbd5a37aca1024b2a",
            "c6f2cf25b5c949b2b218dffe76075ab9",
            "37cb2d4e50e0469aa6239bd0cee0d6c0",
            "4c00435b5c9d471499ed760e954b7287",
            "b47263a79c5c4fae9d5d948302879932",
            "c51d5195cb1a46fd931a1836b7b9592e",
            "9db25cb38346473eb0d5641e7ae59453",
            "3f8239198d4c4e389db0c7ab12e59312",
            "9e38b7b7e03d4290b736773ad71aa915",
            "59c827212fea422182bb14a063d559ae",
            "1a3d1539a2824f2382bf8cd7fd848b17",
            "3e2d9a7974924c83a36cb9c14edc5e83",
            "bba1c80bd5ab4de68127cbfc2b10f066",
            "16990d93d029492c9354cea0e2c9ce69",
            "d15f32ee4a1e454a84c235af313b5526",
            "c972e11d3aa84bd2a8e484d7c337f040",
            "64fd1b80fa84494f910e37916d262131",
            "e092f04aade6406ba202fba53e4d9a62",
            "561aa425ebf244f1943f6da0151471bc",
            "3e817c39abc64aa68b743022c162ca5d",
            "8e4222f00bc044febe30d09ed89ec26c",
            "dd928e808b29403e85571032f93970a8",
            "753c0108b36b457491931aed2e9c9cc9",
            "a3bd581201234037aa2b56722f2d20fb",
            "254a3f139e1043278b10e46efacbda0f",
            "6b116cf1c2534b5a9e72c4708a2f4897",
            "e9ff538fb7c9457889734b9264fc0a3e",
            "c124e1cae11c48499f90a721e333bc47",
            "802df6eeb7a64a06946e7a4235b0b86f"
          ]
        },
        "id": "2MMXcWFFgCXU",
        "outputId": "16185514-b7c5-4cd6-8bde-e78a6b9eab2f"
      },
      "source": [
        "from datasets import load_dataset, load_metric, Audio\n",
        "\n",
        "common_voice_train = load_dataset(\"common_voice\", \"tr\", split=\"train+validation\")\n",
        "common_voice_test = load_dataset(\"common_voice\", \"tr\", split=\"test\")"
      ],
      "execution_count": null,
      "outputs": [
        {
          "output_type": "display_data",
          "data": {
            "text/plain": [
              "Downloading:   0%|          | 0.00/4.62k [00:00<?, ?B/s]"
            ],
            "application/vnd.jupyter.widget-view+json": {
              "version_major": 2,
              "version_minor": 0,
              "model_id": "b75750319ef24dbd94900e269cbe0549"
            }
          },
          "metadata": {}
        },
        {
          "output_type": "display_data",
          "data": {
            "text/plain": [
              "Downloading:   0%|          | 0.00/10.7k [00:00<?, ?B/s]"
            ],
            "application/vnd.jupyter.widget-view+json": {
              "version_major": 2,
              "version_minor": 0,
              "model_id": "7f3a765679bb43a3976c979f44da206c"
            }
          },
          "metadata": {}
        },
        {
          "output_type": "stream",
          "name": "stdout",
          "text": [
            "Downloading and preparing dataset common_voice/tr (download: 592.09 MiB, generated: 232.03 MiB, post-processed: Unknown size, total: 824.12 MiB) to /root/.cache/huggingface/datasets/common_voice/tr/6.1.0/5693bfc0feeade582a78c2fb250bc88f52bd86f0a7f1bb22bfee67e715de30fd...\n"
          ]
        },
        {
          "output_type": "display_data",
          "data": {
            "text/plain": [
              "Downloading:   0%|          | 0.00/621M [00:00<?, ?B/s]"
            ],
            "application/vnd.jupyter.widget-view+json": {
              "version_major": 2,
              "version_minor": 0,
              "model_id": "dc4c78d3e7e941ac89bea075754a0c1a"
            }
          },
          "metadata": {}
        },
        {
          "output_type": "display_data",
          "data": {
            "text/plain": [
              "0 examples [00:00, ? examples/s]"
            ],
            "application/vnd.jupyter.widget-view+json": {
              "version_major": 2,
              "version_minor": 0,
              "model_id": "28de19fd54bb4064a4437183b6ca7cd8"
            }
          },
          "metadata": {}
        },
        {
          "output_type": "display_data",
          "data": {
            "text/plain": [
              "0 examples [00:00, ? examples/s]"
            ],
            "application/vnd.jupyter.widget-view+json": {
              "version_major": 2,
              "version_minor": 0,
              "model_id": "66c902592a9043529fbb2d3e5389746c"
            }
          },
          "metadata": {}
        },
        {
          "output_type": "display_data",
          "data": {
            "text/plain": [
              "0 examples [00:00, ? examples/s]"
            ],
            "application/vnd.jupyter.widget-view+json": {
              "version_major": 2,
              "version_minor": 0,
              "model_id": "59653a40c9cf48a18ec6c93d2618752d"
            }
          },
          "metadata": {}
        },
        {
          "output_type": "display_data",
          "data": {
            "text/plain": [
              "0 examples [00:00, ? examples/s]"
            ],
            "application/vnd.jupyter.widget-view+json": {
              "version_major": 2,
              "version_minor": 0,
              "model_id": "3f8239198d4c4e389db0c7ab12e59312"
            }
          },
          "metadata": {}
        },
        {
          "output_type": "display_data",
          "data": {
            "text/plain": [
              "0 examples [00:00, ? examples/s]"
            ],
            "application/vnd.jupyter.widget-view+json": {
              "version_major": 2,
              "version_minor": 0,
              "model_id": "561aa425ebf244f1943f6da0151471bc"
            }
          },
          "metadata": {}
        },
        {
          "output_type": "stream",
          "name": "stdout",
          "text": [
            "Dataset common_voice downloaded and prepared to /root/.cache/huggingface/datasets/common_voice/tr/6.1.0/5693bfc0feeade582a78c2fb250bc88f52bd86f0a7f1bb22bfee67e715de30fd. Subsequent calls will reuse this data.\n"
          ]
        },
        {
          "output_type": "stream",
          "name": "stderr",
          "text": [
            "WARNING:datasets.builder:Reusing dataset common_voice (/root/.cache/huggingface/datasets/common_voice/tr/6.1.0/5693bfc0feeade582a78c2fb250bc88f52bd86f0a7f1bb22bfee67e715de30fd)\n"
          ]
        }
      ]
    },
    {
      "cell_type": "markdown",
      "metadata": {
        "id": "ri5y5N_HMANq"
      },
      "source": [
        "Many ASR datasets only provide the target text, `'sentence'` for each audio array `'audio'` and file `'path'`. Common Voice actually provides much more information about each audio file, such as the `'accent'`, etc. Keeping the notebook as general as possible, we only consider the transcribed text for fine-tuning.\n",
        "\n"
      ]
    },
    {
      "cell_type": "code",
      "metadata": {
        "id": "kbyq6lDgQc2a"
      },
      "source": [
        "common_voice_train = common_voice_train.remove_columns([\"accent\", \"age\", \"client_id\", \"down_votes\", \"gender\", \"locale\", \"segment\", \"up_votes\"])\n",
        "common_voice_test = common_voice_test.remove_columns([\"accent\", \"age\", \"client_id\", \"down_votes\", \"gender\", \"locale\", \"segment\", \"up_votes\"])"
      ],
      "execution_count": null,
      "outputs": []
    },
    {
      "cell_type": "markdown",
      "metadata": {
        "id": "Go9Hq4e4NDT9"
      },
      "source": [
        "Let's write a short function to display some random samples of the dataset and run it a couple of times to get a feeling for the transcriptions."
      ]
    },
    {
      "cell_type": "code",
      "metadata": {
        "id": "72737oog2F6U"
      },
      "source": [
        "from datasets import ClassLabel\n",
        "import random\n",
        "import pandas as pd\n",
        "from IPython.display import display, HTML\n",
        "\n",
        "def show_random_elements(dataset, num_examples=10):\n",
        "    assert num_examples <= len(dataset), \"Can't pick more elements than there are in the dataset.\"\n",
        "    picks = []\n",
        "    for _ in range(num_examples):\n",
        "        pick = random.randint(0, len(dataset)-1)\n",
        "        while pick in picks:\n",
        "            pick = random.randint(0, len(dataset)-1)\n",
        "        picks.append(pick)\n",
        "    \n",
        "    df = pd.DataFrame(dataset[picks])\n",
        "    display(HTML(df.to_html()))"
      ],
      "execution_count": null,
      "outputs": []
    },
    {
      "cell_type": "code",
      "metadata": {
        "colab": {
          "base_uri": "https://localhost:8080/",
          "height": 363
        },
        "id": "K_JUmf3G3b9S",
        "outputId": "b1f5fdec-76c5-488c-8576-0e1aaa10de8c"
      },
      "source": [
        "show_random_elements(common_voice_train.remove_columns([\"path\", \"audio\"]), num_examples=10)"
      ],
      "execution_count": null,
      "outputs": [
        {
          "output_type": "display_data",
          "data": {
            "text/plain": [
              "<IPython.core.display.HTML object>"
            ],
            "text/html": [
              "<table border=\"1\" class=\"dataframe\">\n",
              "  <thead>\n",
              "    <tr style=\"text-align: right;\">\n",
              "      <th></th>\n",
              "      <th>sentence</th>\n",
              "    </tr>\n",
              "  </thead>\n",
              "  <tbody>\n",
              "    <tr>\n",
              "      <th>0</th>\n",
              "      <td>Sorunlu alanlardan birisi belge güvenliği.</td>\n",
              "    </tr>\n",
              "    <tr>\n",
              "      <th>1</th>\n",
              "      <td>Modernizasyon projesi iki yıl önce başladı.</td>\n",
              "    </tr>\n",
              "    <tr>\n",
              "      <th>2</th>\n",
              "      <td>Sizce bu görüşmeler bir sonuca bağlanacak mı?</td>\n",
              "    </tr>\n",
              "    <tr>\n",
              "      <th>3</th>\n",
              "      <td>Adını aldığı ülkeden de daha uzun yaşadı.</td>\n",
              "    </tr>\n",
              "    <tr>\n",
              "      <th>4</th>\n",
              "      <td>\"Romanya'nın yüzde sıfır virgül beşlik düşüş kaydetmesi bekleniyor.\"</td>\n",
              "    </tr>\n",
              "    <tr>\n",
              "      <th>5</th>\n",
              "      <td>Her iki olayda da yaralanan olmadı.</td>\n",
              "    </tr>\n",
              "    <tr>\n",
              "      <th>6</th>\n",
              "      <td>Ancak bu bilgiler kamuoyuna açıklanmayacak.</td>\n",
              "    </tr>\n",
              "    <tr>\n",
              "      <th>7</th>\n",
              "      <td>Nikoliç ise yüzde kırk yedi virgül yedi oy topladı.</td>\n",
              "    </tr>\n",
              "    <tr>\n",
              "      <th>8</th>\n",
              "      <td>\"Mitorvica'daki Sırplar bir gösteri yapıyor.\"</td>\n",
              "    </tr>\n",
              "    <tr>\n",
              "      <th>9</th>\n",
              "      <td>Dimitrov, isim önerisi getirilmediğini doğruladı.</td>\n",
              "    </tr>\n",
              "  </tbody>\n",
              "</table>"
            ]
          },
          "metadata": {}
        }
      ]
    },
    {
      "cell_type": "markdown",
      "metadata": {
        "id": "fowcOllGNNju"
      },
      "source": [
        "Alright! The transcriptions look fairly clean. Having translated the transcribed sentences, it seems that the language corresponds more to written-out text than noisy dialogue. This makes sense considering that [Common Voice](https://huggingface.co/datasets/common_voice) is a crowd-sourced read speech corpus."
      ]
    },
    {
      "cell_type": "markdown",
      "metadata": {
        "id": "vq7OR50LN49m"
      },
      "source": [
        "We can see that the transcriptions contain some special characters, such as `,.?!;:`. Without a language model, it is much harder to classify speech chunks to such special characters because they don't really correspond to a characteristic sound unit. *E.g.*, the letter `\"s\"` has a more or less clear sound, whereas the special character `\".\"` does not.\n",
        "Also in order to understand the meaning of a speech signal, it is usually not necessary to include special characters in the transcription.\n",
        "\n",
        "Let's simply remove all characters that don't contribute to the meaning of a word and cannot really be represented by an acoustic sound and normalize the text."
      ]
    },
    {
      "cell_type": "code",
      "metadata": {
        "id": "svKzVJ_hQGK6"
      },
      "source": [
        "import re\n",
        "chars_to_remove_regex = '[\\,\\?\\.\\!\\-\\;\\:\\\"\\“\\%\\‘\\”\\�\\']'\n",
        "\n",
        "def remove_special_characters(batch):\n",
        "    batch[\"sentence\"] = re.sub(chars_to_remove_regex, '', batch[\"sentence\"]).lower()\n",
        "    return batch"
      ],
      "execution_count": null,
      "outputs": []
    },
    {
      "cell_type": "code",
      "metadata": {
        "colab": {
          "base_uri": "https://localhost:8080/",
          "height": 118,
          "referenced_widgets": [
            "266d7b9f7f05493ca2473247d6388452",
            "59c77863af2e491f9bc2969636d5b6f5",
            "587a3ebfb89b4e968c27ce135709a277",
            "8c549263541d43a7af58850482ceb272",
            "c2bafd97b2a246fda60e30d698d0aa57",
            "4c611f0221ff4f08a99dcaf9cac73b0a",
            "530ee61b9e57477798cebc8dc975f374",
            "b12281b109a84aa6acff2a8e86fa4987",
            "427df4bc47a94e60bbb79442c50d9a85",
            "7af9a817964b4454adfc314f912c326a",
            "dedcdc574b28456aa0207d6878c228f3",
            "89826c207b994a80a3da686535de3383",
            "e3cb9d6cd1374d958cf98dd7db7b4fb0",
            "e225f156230f44bd948eaad2ed349603",
            "53aa6f771b4b4e1d8496aa48a4814742",
            "ad8aa40df20f4ff6b9ce358d4cf3300a",
            "6b7dddaca5be410cb09b93dfe5924600",
            "3a168233ee3948c1b4d8bd86e84eaa2d",
            "7246dd449a8945aa85ee9d69812eb736",
            "ee68f0dfb4b64eac975ab505be280f0b",
            "5b13f9d6ae164af882945c0d49953841",
            "a6f3061218234c6bbd6aabd951db20ea"
          ]
        },
        "id": "XIHocAuTQbBR",
        "outputId": "9d7bb4dc-e0a8-475f-aff8-3a50d3e2e473"
      },
      "source": [
        "common_voice_train = common_voice_train.map(remove_special_characters)\n",
        "common_voice_test = common_voice_test.map(remove_special_characters)"
      ],
      "execution_count": null,
      "outputs": [
        {
          "output_type": "stream",
          "name": "stderr",
          "text": [
            "WARNING:datasets.fingerprint:Parameter 'function'=<function remove_special_characters at 0x7f1c807d6d30> of the transform datasets.arrow_dataset.Dataset._map_single couldn't be hashed properly, a random hash was used instead. Make sure your transforms and parameters are serializable with pickle or dill for the dataset fingerprinting and caching to work. If you reuse this transform, the caching mechanism will consider it to be different from the previous calls and recompute everything. This warning is only showed once. Subsequent hashing failures won't be showed.\n"
          ]
        },
        {
          "output_type": "display_data",
          "data": {
            "text/plain": [
              "0ex [00:00, ?ex/s]"
            ],
            "application/vnd.jupyter.widget-view+json": {
              "version_major": 2,
              "version_minor": 0,
              "model_id": "266d7b9f7f05493ca2473247d6388452"
            }
          },
          "metadata": {}
        },
        {
          "output_type": "display_data",
          "data": {
            "text/plain": [
              "0ex [00:00, ?ex/s]"
            ],
            "application/vnd.jupyter.widget-view+json": {
              "version_major": 2,
              "version_minor": 0,
              "model_id": "89826c207b994a80a3da686535de3383"
            }
          },
          "metadata": {}
        }
      ]
    },
    {
      "cell_type": "markdown",
      "metadata": {
        "id": "TxnVS9gIhIma"
      },
      "source": [
        "Let's look at the processed text labels again."
      ]
    },
    {
      "cell_type": "code",
      "metadata": {
        "colab": {
          "base_uri": "https://localhost:8080/",
          "height": 363
        },
        "id": "RBDRAAYxRE6n",
        "outputId": "c2e25264-9ce7-440c-ed68-fb38b846bae8"
      },
      "source": [
        "show_random_elements(common_voice_train.remove_columns([\"path\",\"audio\"]))"
      ],
      "execution_count": null,
      "outputs": [
        {
          "output_type": "display_data",
          "data": {
            "text/plain": [
              "<IPython.core.display.HTML object>"
            ],
            "text/html": [
              "<table border=\"1\" class=\"dataframe\">\n",
              "  <thead>\n",
              "    <tr style=\"text-align: right;\">\n",
              "      <th></th>\n",
              "      <th>sentence</th>\n",
              "    </tr>\n",
              "  </thead>\n",
              "  <tbody>\n",
              "    <tr>\n",
              "      <th>0</th>\n",
              "      <td>bir siyasi kargaşa dönemi yakın görünüyor</td>\n",
              "    </tr>\n",
              "    <tr>\n",
              "      <th>1</th>\n",
              "      <td>ardından hamuru iki parçaya bölün</td>\n",
              "    </tr>\n",
              "    <tr>\n",
              "      <th>2</th>\n",
              "      <td>ne gibi zorluklarla karşılaşıyorsunuz</td>\n",
              "    </tr>\n",
              "    <tr>\n",
              "      <th>3</th>\n",
              "      <td>ne tür araçlar yapılar ve işbirliğiyle</td>\n",
              "    </tr>\n",
              "    <tr>\n",
              "      <th>4</th>\n",
              "      <td>fon modernizasyonun finansmanında kullanılacak</td>\n",
              "    </tr>\n",
              "    <tr>\n",
              "      <th>5</th>\n",
              "      <td>ancak pek çok arnavut bundan şüpheli</td>\n",
              "    </tr>\n",
              "    <tr>\n",
              "      <th>6</th>\n",
              "      <td>reform süreçlerinin hızından memnun musunuz</td>\n",
              "    </tr>\n",
              "    <tr>\n",
              "      <th>7</th>\n",
              "      <td>yaşlı kadınlar belgradda bir parkta dinleniyor</td>\n",
              "    </tr>\n",
              "    <tr>\n",
              "      <th>8</th>\n",
              "      <td>ancak bütün bu para nerden gelecek</td>\n",
              "    </tr>\n",
              "    <tr>\n",
              "      <th>9</th>\n",
              "      <td>projenin bedeli iki milyar avro olarak açıklandı</td>\n",
              "    </tr>\n",
              "  </tbody>\n",
              "</table>"
            ]
          },
          "metadata": {}
        }
      ]
    },
    {
      "cell_type": "markdown",
      "metadata": {
        "id": "jwfaptH5RJwA"
      },
      "source": [
        "Good! This looks better. We have removed most special characters from transcriptions and normalized them to lower-case only.\n",
        "\n",
        "Before finalizing the pre-processing, it is always advantageous to consult a native speaker of the target language to see whether the text can be further simplified. \n",
        "For this blog post, [Merve](https://twitter.com/mervenoyann) was kind enough to take a quick look and noted that \"hatted\" characters - like `â` - aren't really used anymore in Turkish and can be replaced by their \"un-hatted\" equivalent, *e.g.* `a`. \n",
        "\n",
        "This means that we should replace a sentence like `\"yargı sistemi hâlâ sağlıksız\"` to `\"yargı sistemi hala sağlıksız\"`.\n",
        "\n",
        "Let's write another short mapping function to further simplify the text labels. Remember - the simler the text labels, the easier it is for the model to learn to predict those labels.\n",
        "\n"
      ]
    },
    {
      "cell_type": "code",
      "metadata": {
        "id": "aZcrz6z7lgGm"
      },
      "source": [
        "def replace_hatted_characters(batch):\n",
        "    batch[\"sentence\"] = re.sub('[â]', 'a', batch[\"sentence\"])\n",
        "    batch[\"sentence\"] = re.sub('[î]', 'i', batch[\"sentence\"])\n",
        "    batch[\"sentence\"] = re.sub('[ô]', 'o', batch[\"sentence\"])\n",
        "    batch[\"sentence\"] = re.sub('[û]', 'u', batch[\"sentence\"])\n",
        "    return batch"
      ],
      "execution_count": null,
      "outputs": []
    },
    {
      "cell_type": "code",
      "metadata": {
        "colab": {
          "base_uri": "https://localhost:8080/",
          "height": 81,
          "referenced_widgets": [
            "ed2419d445114a3fbfeb05f4e493cc3a",
            "05baeeb7270d4d0098749b3df109f2a6",
            "e946d203dc744ba4828085e367d05f8a",
            "2146622817974d298609337b6db5610f",
            "41f803b834434174a0caa828f4e388fd",
            "25207f01675b46ef80dd39fb024413f3",
            "796fe6a2b6634a6b81d921886cf1dfba",
            "10613c1074744669839053730392ce2c",
            "780ff82762134947a8e387e3c9112062",
            "5d3d173e0fc34daea301364390e015ea",
            "0ab2f25acd4a419eb45a80c9afcdea5e",
            "7c9556c87dc94d08836a9f96dea16fad",
            "2a558cdfc25e45ebac19fe512481b4f6",
            "3254cd769d2c4d12a4b7e3b3a164ebab",
            "a3a865280eee4cd398b290130ed323c5",
            "2e8daf6bff944d2e8e87d36ee1610af6",
            "34b7ff919fba4afa9ed58182bd5858c3",
            "baff3458e08344d8b7287ae94184b35e",
            "802bdb92f8354a6380114183e84d3b6f",
            "4749f7a93fde4c16a4bfae584434b15e",
            "d8eaf3fa05574d2695f6f6cbf4b8db3e",
            "b5ad74feaeea4f85965f0854b542f5af"
          ]
        },
        "id": "ieGhhND5mSwI",
        "outputId": "d64b2373-fba0-46b0-ac50-4c2e5b426d3d"
      },
      "source": [
        "common_voice_train = common_voice_train.map(replace_hatted_characters)\n",
        "common_voice_test = common_voice_test.map(replace_hatted_characters)"
      ],
      "execution_count": null,
      "outputs": [
        {
          "output_type": "display_data",
          "data": {
            "text/plain": [
              "0ex [00:00, ?ex/s]"
            ],
            "application/vnd.jupyter.widget-view+json": {
              "version_major": 2,
              "version_minor": 0,
              "model_id": "ed2419d445114a3fbfeb05f4e493cc3a"
            }
          },
          "metadata": {}
        },
        {
          "output_type": "display_data",
          "data": {
            "text/plain": [
              "0ex [00:00, ?ex/s]"
            ],
            "application/vnd.jupyter.widget-view+json": {
              "version_major": 2,
              "version_minor": 0,
              "model_id": "7c9556c87dc94d08836a9f96dea16fad"
            }
          },
          "metadata": {}
        }
      ]
    },
    {
      "cell_type": "markdown",
      "metadata": {
        "id": "3ORHDb2Th2TW"
      },
      "source": [
        "In CTC, it is common to classify speech chunks into letters, so we will do the same here. \n",
        "Let's extract all distinct letters of the training and test data and build our vocabulary from this set of letters.\n",
        "\n",
        "We write a mapping function that concatenates all transcriptions into one long transcription and then transforms the string into a set of chars. \n",
        "It is important to pass the argument `batched=True` to the `map(...)` function so that the mapping function has access to all transcriptions at once."
      ]
    },
    {
      "cell_type": "code",
      "metadata": {
        "id": "LwCshNbbeRZR"
      },
      "source": [
        "def extract_all_chars(batch):\n",
        "  all_text = \" \".join(batch[\"sentence\"])\n",
        "  vocab = list(set(all_text))\n",
        "  return {\"vocab\": [vocab], \"all_text\": [all_text]}"
      ],
      "execution_count": null,
      "outputs": []
    },
    {
      "cell_type": "code",
      "metadata": {
        "colab": {
          "base_uri": "https://localhost:8080/",
          "height": 81,
          "referenced_widgets": [
            "390a5b0fac3e4ae19f464394729c2141",
            "e775fc2a5b204c599d439c968d1c95f4",
            "1cb307b9539648fd97cb93ed1491e92c",
            "f84820738d2f4a5981151c6c3d6de96b",
            "3c8512e1dc224907a7f513175b1b8c3e",
            "ad40ad7f06654e22b21e0d9b364d33b2",
            "ed20dca2296642ee862ca7cd7ff4fa92",
            "75b7436ce4be4462b98121397dc4f5e0",
            "8462e040cd0d4621a8a9b56ee3375daf",
            "e0659c0cf6e44022a0820d51c3ed48ad",
            "e89cc4714a0a4cc89e9914b4e0bc61f0",
            "4edd2554d1b7442293c6952f2117fc17",
            "7f289c9409d1412fb83bc13d46f92180",
            "e9ebfc65ce034004a33b304f26fa644d",
            "6d3b7b354f10456185d6fbea791ddce6",
            "79df6effe8b54557a92a2c53f5b9386f",
            "0c1f2aa604f04cf4bde78bb2c649d3b5",
            "ad6c35069f884c0c9051a4a83a714611",
            "1fe3f737fff142da8588dfdc5169d8c9",
            "c7f692f79a614085b1d1751f90a1b6a9",
            "77a2c05ff5154b28bc075e9ff596cd15",
            "38debc388d6a49c5a43737bf18553fa0"
          ]
        },
        "id": "_m6uUjjcfbjH",
        "outputId": "53454831-faa8-4873-ee3f-93a118543ac1"
      },
      "source": [
        "vocab_train = common_voice_train.map(extract_all_chars, batched=True, batch_size=-1, keep_in_memory=True, remove_columns=common_voice_train.column_names)\n",
        "vocab_test = common_voice_test.map(extract_all_chars, batched=True, batch_size=-1, keep_in_memory=True, remove_columns=common_voice_test.column_names)"
      ],
      "execution_count": null,
      "outputs": [
        {
          "output_type": "display_data",
          "data": {
            "text/plain": [
              "  0%|          | 0/1 [00:00<?, ?ba/s]"
            ],
            "application/vnd.jupyter.widget-view+json": {
              "version_major": 2,
              "version_minor": 0,
              "model_id": "390a5b0fac3e4ae19f464394729c2141"
            }
          },
          "metadata": {}
        },
        {
          "output_type": "display_data",
          "data": {
            "text/plain": [
              "  0%|          | 0/1 [00:00<?, ?ba/s]"
            ],
            "application/vnd.jupyter.widget-view+json": {
              "version_major": 2,
              "version_minor": 0,
              "model_id": "4edd2554d1b7442293c6952f2117fc17"
            }
          },
          "metadata": {}
        }
      ]
    },
    {
      "cell_type": "markdown",
      "metadata": {
        "id": "7oVgE8RZSJNP"
      },
      "source": [
        "Now, we create the union of all distinct letters in the training dataset and test dataset and convert the resulting list into an enumerated dictionary."
      ]
    },
    {
      "cell_type": "code",
      "metadata": {
        "id": "aQfneNsmlJI0"
      },
      "source": [
        "vocab_list = list(set(vocab_train[\"vocab\"][0]) | set(vocab_test[\"vocab\"][0]))"
      ],
      "execution_count": null,
      "outputs": []
    },
    {
      "cell_type": "code",
      "metadata": {
        "colab": {
          "base_uri": "https://localhost:8080/"
        },
        "id": "_0kRndSvqaKk",
        "outputId": "823cde33-3487-46d0-c731-898b8f61471f"
      },
      "source": [
        "vocab_dict = {v: k for k, v in enumerate(sorted(vocab_list))}\n",
        "vocab_dict"
      ],
      "execution_count": null,
      "outputs": [
        {
          "output_type": "execute_result",
          "data": {
            "text/plain": [
              "{' ': 0,\n",
              " 'a': 1,\n",
              " 'b': 2,\n",
              " 'c': 3,\n",
              " 'd': 4,\n",
              " 'e': 5,\n",
              " 'f': 6,\n",
              " 'g': 7,\n",
              " 'h': 8,\n",
              " 'i': 9,\n",
              " 'j': 10,\n",
              " 'k': 11,\n",
              " 'l': 12,\n",
              " 'm': 13,\n",
              " 'n': 14,\n",
              " 'o': 15,\n",
              " 'p': 16,\n",
              " 'q': 17,\n",
              " 'r': 18,\n",
              " 's': 19,\n",
              " 't': 20,\n",
              " 'u': 21,\n",
              " 'v': 22,\n",
              " 'w': 23,\n",
              " 'x': 24,\n",
              " 'y': 25,\n",
              " 'z': 26,\n",
              " 'ç': 27,\n",
              " 'ë': 28,\n",
              " 'ö': 29,\n",
              " 'ü': 30,\n",
              " 'ğ': 31,\n",
              " 'ı': 32,\n",
              " 'ş': 33,\n",
              " '̇': 34}"
            ]
          },
          "metadata": {},
          "execution_count": 16
        }
      ]
    },
    {
      "cell_type": "markdown",
      "metadata": {
        "id": "JOSzbvs9SXT1"
      },
      "source": [
        "Cool, we see that all letters of the alphabet occur in the dataset (which is not really surprising) and we also extracted the special characters `\"\"` and `'`. Note that we did not exclude those special characters because: \n",
        "\n",
        "The model has to learn to predict when a word is finished or else the model prediction would always be a sequence of chars which would make it impossible to separate words from each other.\n",
        "\n",
        "One should always keep in mind that pre-processing is a very important step before training your model. E.g., we don't want our model to differentiate between `a` and `A` just because we forgot to normalize the data. The difference between `a` and `A` does not depend on the \"sound\" of the letter at all, but more on grammatical rules - *e.g.* use a capitalized letter at the beginning of the sentence. So it is sensible to remove the difference between capitalized and non-capitalized letters so that the model has an easier time learning to transcribe speech. "
      ]
    },
    {
      "cell_type": "markdown",
      "metadata": {
        "id": "b1fBRCn-TRaO"
      },
      "source": [
        "To make it clearer that `\" \"` has its own token class, we give it a more visible character `|`. In addition, we also add an \"unknown\" token so that the model can later deal with characters not encountered in Common Voice's training set. "
      ]
    },
    {
      "cell_type": "code",
      "metadata": {
        "id": "npbIbBoLgaFX"
      },
      "source": [
        "vocab_dict[\"|\"] = vocab_dict[\" \"]\n",
        "del vocab_dict[\" \"]"
      ],
      "execution_count": null,
      "outputs": []
    },
    {
      "cell_type": "markdown",
      "metadata": {
        "id": "_9yCWg4Sd0cb"
      },
      "source": [
        "Finally, we also add a padding token that corresponds to CTC's \"*blank token*\". The \"blank token\" is a core component of the CTC algorithm. For more information, please take a look at the \"Alignment\" section [here](https://distill.pub/2017/ctc/)."
      ]
    },
    {
      "cell_type": "code",
      "metadata": {
        "colab": {
          "base_uri": "https://localhost:8080/"
        },
        "id": "znF0bNunsjbl",
        "outputId": "74f4446f-d69f-4d04-b484-190e7dc4bdab"
      },
      "source": [
        "vocab_dict[\"[UNK]\"] = len(vocab_dict)\n",
        "vocab_dict[\"[PAD]\"] = len(vocab_dict)\n",
        "len(vocab_dict)"
      ],
      "execution_count": null,
      "outputs": [
        {
          "output_type": "execute_result",
          "data": {
            "text/plain": [
              "37"
            ]
          },
          "metadata": {},
          "execution_count": 17
        }
      ]
    },
    {
      "cell_type": "markdown",
      "metadata": {
        "id": "SFPGfet8U5sL"
      },
      "source": [
        "Cool, now our vocabulary is complete and consists of 39 tokens, which means that the linear layer that we will add on top of the pretrained XLS-R checkpoint will have an output dimension of 39."
      ]
    },
    {
      "cell_type": "markdown",
      "metadata": {
        "id": "1CujRgBNVRaD"
      },
      "source": [
        "Let's now save the vocabulary as a json file."
      ]
    },
    {
      "cell_type": "code",
      "metadata": {
        "id": "ehyUoh9vk191"
      },
      "source": [
        "import json\n",
        "with open('vocab.json', 'w') as vocab_file:\n",
        "    json.dump(vocab_dict, vocab_file)"
      ],
      "execution_count": null,
      "outputs": []
    },
    {
      "cell_type": "markdown",
      "metadata": {
        "id": "SHJDaKlIVVim"
      },
      "source": [
        "In a final step, we use the json file to load the vocabulary into an instance of the `Wav2Vec2CTCTokenizer` class."
      ]
    },
    {
      "cell_type": "code",
      "metadata": {
        "colab": {
          "base_uri": "https://localhost:8080/"
        },
        "id": "xriFGEWQkO4M",
        "outputId": "435cf38e-c7f5-4877-ecdc-d0e88ffec1dc"
      },
      "source": [
        "from transformers import Wav2Vec2CTCTokenizer\n",
        "\n",
        "tokenizer = Wav2Vec2CTCTokenizer.from_pretrained(\"./\", unk_token=\"[UNK]\", pad_token=\"[PAD]\", word_delimiter_token=\"|\")"
      ],
      "execution_count": null,
      "outputs": [
        {
          "output_type": "stream",
          "name": "stderr",
          "text": [
            "file ./config.json not found\n",
            "Special tokens have been added in the vocabulary, make sure the associated word embeddings are fine-tuned or trained.\n"
          ]
        }
      ]
    },
    {
      "cell_type": "markdown",
      "metadata": {
        "id": "KvL12DrNV4cx"
      },
      "source": [
        "If one wants to re-use the just created tokenizer with the fine-tuned model of this notebook, it is strongly advised to upload the `tokenizer` to the [🤗 Hub](https://huggingface.co/). Let's call the repo to which we will upload the files\n",
        "`\"wav2vec2-large-xlsr-turkish-demo-colab\"`:"
      ]
    },
    {
      "cell_type": "code",
      "metadata": {
        "id": "A1XApZBAF2zr"
      },
      "source": [
        "repo_name = \"wav2vec2-large-xls-r-300m-turkish-colab\""
      ],
      "execution_count": null,
      "outputs": []
    },
    {
      "cell_type": "markdown",
      "metadata": {
        "id": "B1BiezWZF16d"
      },
      "source": [
        "and upload the tokenizer to the [🤗 Hub](https://huggingface.co/)."
      ]
    },
    {
      "cell_type": "code",
      "metadata": {
        "colab": {
          "base_uri": "https://localhost:8080/",
          "height": 199
        },
        "id": "zytE1175GAKM",
        "outputId": "bbe63dbe-0639-4468-9a3a-687bb8b3bb6e"
      },
      "source": [
        "tokenizer.push_to_hub(repo_name)"
      ],
      "execution_count": null,
      "outputs": [
        {
          "name": "stderr",
          "output_type": "stream",
          "text": [
            "/usr/local/lib/python3.7/dist-packages/huggingface_hub/hf_api.py:718: FutureWarning: `create_repo` now takes `token` as an optional positional argument. Be sure to adapt your code!\n",
            "  FutureWarning,\n",
            "/usr/local/lib/python3.7/dist-packages/huggingface_hub/hf_api.py:718: FutureWarning: `create_repo` now takes `token` as an optional positional argument. Be sure to adapt your code!\n",
            "  FutureWarning,\n",
            "Cloning https://huggingface.co/patrickvonplaten/wav2vec2-large-xls-r-300m-turkish-colab into local empty directory.\n",
            "To https://huggingface.co/patrickvonplaten/wav2vec2-large-xls-r-300m-turkish-colab\n",
            "   54dbd42..56ebe74  main -> main\n",
            "\n"
          ]
        },
        {
          "data": {
            "application/vnd.google.colaboratory.intrinsic+json": {
              "type": "string"
            },
            "text/plain": [
              "'https://huggingface.co/patrickvonplaten/wav2vec2-large-xls-r-300m-turkish-colab/commit/56ebe744b5acf5853233e4425bd914b938c4f013'"
            ]
          },
          "execution_count": 53,
          "metadata": {},
          "output_type": "execute_result"
        }
      ]
    },
    {
      "cell_type": "markdown",
      "metadata": {
        "id": "SwQM8lH_GGuP"
      },
      "source": [
        "Great, you can see the just created repository under `https://huggingface.co/<your-username>/wav2vec2-large-xls-r-300m-tr-colab`"
      ]
    },
    {
      "cell_type": "markdown",
      "metadata": {
        "id": "mYcIiR2FQ96i"
      },
      "source": [
        "### Create `Wav2Vec2FeatureExtractor`"
      ]
    },
    {
      "cell_type": "markdown",
      "metadata": {
        "id": "Y6mDEyW719rx"
      },
      "source": [
        "Speech is a continuous signal and to be treated by computers, it first has to be discretized, which is usually called **sampling**. The sampling rate hereby plays an important role in that it defines how many data points of the speech signal are measured per second. Therefore, sampling with a higher sampling rate results in a better approximation of the *real* speech signal but also necessitates more values per second.\n",
        "\n",
        "A pretrained checkpoint expects its input data to have been sampled more or less from the same distribution as the data it was trained on. The same speech signals sampled at two different rates have a very different distribution, *e.g.*, doubling the sampling rate results in data points being twice as long. Thus, \n",
        "before fine-tuning a pretrained checkpoint of an ASR model, it is crucial to verify that the sampling rate of the data that was used to pretrain the model matches the sampling rate of the dataset used to fine-tune the model.\n",
        "\n",
        "XLS-R was pretrained on audio data of [Babel](http://www.reading.ac.uk/AcaDepts/ll/speechlab/babel/r), \n",
        "[Multilingual LibriSpeech (MLS)](https://huggingface.co/datasets/multilingual_librispeech), [Common Voice](https://huggingface.co/datasets/common_voice), [VoxPopuli](https://arxiv.org/abs/2101.00390), and [VoxLingua107](https://arxiv.org/abs/2011.12998) at a sampling rate of 16kHz. Common Voice, in its original form, has a sampling rate of 48kHz, thus we will have to downsample the fine-tuning data to 16kHz in the following.\n",
        "\n"
      ]
    },
    {
      "cell_type": "markdown",
      "metadata": {
        "id": "KuUbPW7oV-B5"
      },
      "source": [
        "A `Wav2Vec2FeatureExtractor` object requires the following parameters to be instantiated:\n",
        "\n",
        "- `feature_size`: Speech models take a sequence of feature vectors as an input. While the length of this sequence obviously varies, the feature size should not. In the case of Wav2Vec2, the feature size is 1 because the model was trained on the raw speech signal ${}^2$.\n",
        "- `sampling_rate`: The sampling rate at which the model is trained on.\n",
        "- `padding_value`: For batched inference, shorter inputs need to be padded with a specific value\n",
        "- `do_normalize`: Whether the input should be *zero-mean-unit-variance* normalized or not. Usually, speech models perform better when normalizing the input\n",
        "- `return_attention_mask`: Whether the model should make use of an `attention_mask` for batched inference. In general, XLS-R models checkpoints should **always** use the `attention_mask`."
      ]
    },
    {
      "cell_type": "code",
      "metadata": {
        "id": "kAR0-2KLkopp"
      },
      "source": [
        "from transformers import Wav2Vec2FeatureExtractor\n",
        "\n",
        "feature_extractor = Wav2Vec2FeatureExtractor(feature_size=1, sampling_rate=16000, padding_value=0.0, do_normalize=True, return_attention_mask=True)"
      ],
      "execution_count": null,
      "outputs": []
    },
    {
      "cell_type": "markdown",
      "metadata": {
        "id": "qUETetgqYC3W"
      },
      "source": [
        "Great, XLS-R's feature extraction pipeline is thereby fully defined!\n",
        "\n",
        "For improved user-friendliness, the feature extractor and tokenizer are *wrapped* into a single `Wav2Vec2Processor` class so that one only needs a `model` and `processor` object."
      ]
    },
    {
      "cell_type": "code",
      "metadata": {
        "id": "KYZtoW-tlZgl"
      },
      "source": [
        "from transformers import Wav2Vec2Processor\n",
        "\n",
        "processor = Wav2Vec2Processor(feature_extractor=feature_extractor, tokenizer=tokenizer)"
      ],
      "execution_count": null,
      "outputs": []
    },
    {
      "cell_type": "markdown",
      "metadata": {
        "id": "DrKnYuvDIoOO"
      },
      "source": [
        "Next, we can prepare the dataset."
      ]
    },
    {
      "cell_type": "markdown",
      "metadata": {
        "id": "YFmShnl7RE35"
      },
      "source": [
        "### Preprocess Data\n",
        "\n",
        "So far, we have not looked at the actual values of the speech signal but just the transcription. In addition to `sentence`, our datasets include two more column names `path` and `audio`. `path` states the absolute path of the audio file. Let's take a look.\n"
      ]
    },
    {
      "cell_type": "code",
      "metadata": {
        "colab": {
          "base_uri": "https://localhost:8080/",
          "height": 35
        },
        "id": "TTCS7W6XJ9BG",
        "outputId": "67bbba85-f7b0-4df6-bb17-b788564b1779"
      },
      "source": [
        "common_voice_train[0][\"path\"]"
      ],
      "execution_count": null,
      "outputs": [
        {
          "output_type": "execute_result",
          "data": {
            "text/plain": [
              "'common_voice_tr_17346025.mp3'"
            ],
            "application/vnd.google.colaboratory.intrinsic+json": {
              "type": "string"
            }
          },
          "metadata": {},
          "execution_count": 22
        }
      ]
    },
    {
      "cell_type": "markdown",
      "metadata": {
        "id": "T6ndIjHGFp0W"
      },
      "source": [
        "XLS-R expects the input in the format of a 1-dimensional array of 16 kHz. This means that the audio file has to be loaded and resampled.\n",
        "\n",
        " Thankfully, `datasets` does this automatically by calling the other column `audio`. Let try it out. "
      ]
    },
    {
      "cell_type": "code",
      "metadata": {
        "colab": {
          "base_uri": "https://localhost:8080/"
        },
        "id": "qj_z5Zc3GAs9",
        "outputId": "a3d9dcf4-6c55-4add-cf2f-7086b99f7967"
      },
      "source": [
        "common_voice_train[0][\"audio\"]"
      ],
      "execution_count": null,
      "outputs": [
        {
          "output_type": "execute_result",
          "data": {
            "text/plain": [
              "{'path': 'cv-corpus-6.1-2020-12-11/tr/clips/common_voice_tr_17346025.mp3',\n",
              " 'array': array([0.        , 0.        , 0.        , ..., 0.0002867 , 0.00025517,\n",
              "        0.00025791], dtype=float32),\n",
              " 'sampling_rate': 48000}"
            ]
          },
          "metadata": {},
          "execution_count": 23
        }
      ]
    },
    {
      "cell_type": "markdown",
      "metadata": {
        "id": "WUUTgI1bGHW-"
      },
      "source": [
        "Great, we can see that the audio file has automatically been loaded. This is thanks to the new [`\"Audio\"` feature](https://huggingface.co/docs/datasets/package_reference/main_classes.html?highlight=audio#datasets.Audio) introduced in `datasets == 4.13.3`, which loads and resamples audio files on-the-fly upon calling.\n",
        "\n",
        "In the example above we can see that the audio data is loaded with a sampling rate of 48kHz whereas 16kHz are expected by the model. We can set the audio feature to the correct sampling rate by making use of [`cast_column`](https://huggingface.co/docs/datasets/package_reference/main_classes.html?highlight=cast_column#datasets.DatasetDict.cast_column):"
      ]
    },
    {
      "cell_type": "code",
      "metadata": {
        "id": "rrv65aj7G95i"
      },
      "source": [
        "common_voice_train = common_voice_train.cast_column(\"audio\", Audio(sampling_rate=16_000))\n",
        "common_voice_test = common_voice_test.cast_column(\"audio\", Audio(sampling_rate=16_000))"
      ],
      "execution_count": null,
      "outputs": []
    },
    {
      "cell_type": "markdown",
      "metadata": {
        "id": "PcnO4x-NGBEi"
      },
      "source": [
        "Let's take a look at `\"audio\"` again."
      ]
    },
    {
      "cell_type": "code",
      "metadata": {
        "colab": {
          "base_uri": "https://localhost:8080/"
        },
        "id": "aKtkc1o_HWHC",
        "outputId": "7066b8f5-2f68-45f0-e48b-5ca1a8e01e1a"
      },
      "source": [
        "common_voice_train[0][\"audio\"]"
      ],
      "execution_count": null,
      "outputs": [
        {
          "output_type": "execute_result",
          "data": {
            "text/plain": [
              "{'path': 'cv-corpus-6.1-2020-12-11/tr/clips/common_voice_tr_17346025.mp3',\n",
              " 'array': array([0.        , 0.        , 0.        , ..., 0.0001435 , 0.00015033,\n",
              "        0.00028025], dtype=float32),\n",
              " 'sampling_rate': 16000}"
            ]
          },
          "metadata": {},
          "execution_count": 25
        }
      ]
    },
    {
      "cell_type": "markdown",
      "metadata": {
        "id": "SOckzFd4Mbzq"
      },
      "source": [
        "This seemed to have worked! Let's listen to a couple of audio files to better understand the dataset and verify that the audio was correctly loaded. \n",
        "\n",
        "**Note**: *You can click the following cell a couple of times to listen to different speech samples.*"
      ]
    },
    {
      "cell_type": "code",
      "metadata": {
        "colab": {
          "base_uri": "https://localhost:8080/",
          "height": 93
        },
        "id": "dueM6U7Ev0OA",
        "outputId": "051a83fe-7af4-4bd3-afcd-38bdbf4aaaa6"
      },
      "source": [
        "import IPython.display as ipd\n",
        "import numpy as np\n",
        "import random\n",
        "\n",
        "rand_int = random.randint(0, len(common_voice_train)-1)\n",
        "\n",
        "print(common_voice_train[rand_int][\"sentence\"])\n",
        "ipd.Audio(data=common_voice_train[rand_int][\"audio\"][\"array\"], autoplay=True, rate=16000)"
      ],
      "execution_count": null,
      "outputs": [
        {
          "output_type": "stream",
          "name": "stdout",
          "text": [
            "çıkarılmayı bekleyen yalnızca bir tek yasa var\n"
          ]
        },
        {
          "output_type": "execute_result",
          "data": {
            "text/plain": [
              "<IPython.lib.display.Audio object>"
            ],
            "text/html": [
              "\n",
              "                <audio  controls=\"controls\" autoplay=\"autoplay\">\n",
              "                    <source src=\"data:audio/wav;base64,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\" type=\"audio/wav\" />\n",
              "                    Your browser does not support the audio element.\n",
              "                </audio>\n",
              "              "
            ]
          },
          "metadata": {},
          "execution_count": 26
        }
      ]
    },
    {
      "cell_type": "markdown",
      "metadata": {
        "id": "gY8m3vARHYTa"
      },
      "source": [
        "It seems like the data is now correctly loaded and resampled. "
      ]
    },
    {
      "cell_type": "markdown",
      "metadata": {
        "id": "1MaL9J2dNVtG"
      },
      "source": [
        "It can be heard, that the speakers change along with their speaking rate, accent, and background environment, etc. Overall, the recordings sound acceptably clear though, which is to be expected from a crowd-sourced read speech corpus.\n",
        "\n",
        "Let's do a final check that the data is correctly prepared, by printing the shape of the speech input, its transcription, and the corresponding sampling rate.\n",
        "\n",
        "**Note**: *You can click the following cell a couple of times to verify multiple samples.*"
      ]
    },
    {
      "cell_type": "code",
      "metadata": {
        "colab": {
          "base_uri": "https://localhost:8080/"
        },
        "id": "1Po2g7YPuRTx",
        "outputId": "23325d3f-a23c-4724-cabb-9ae6d910f890"
      },
      "source": [
        "rand_int = random.randint(0, len(common_voice_train)-1)\n",
        "\n",
        "print(\"Target text:\", common_voice_train[rand_int][\"sentence\"])\n",
        "print(\"Input array shape:\", common_voice_train[rand_int][\"audio\"][\"array\"].shape)\n",
        "print(\"Sampling rate:\", common_voice_train[rand_int][\"audio\"][\"sampling_rate\"])"
      ],
      "execution_count": null,
      "outputs": [
        {
          "output_type": "stream",
          "name": "stdout",
          "text": [
            "Target text: bu konuda herkes yüzde yüz iyimser değil\n",
            "Input array shape: (65664,)\n",
            "Sampling rate: 16000\n"
          ]
        }
      ]
    },
    {
      "cell_type": "code",
      "source": [],
      "metadata": {
        "colab": {
          "base_uri": "https://localhost:8080/"
        },
        "id": "fDMIqqeLaGYr",
        "outputId": "61230941-385d-4ba3-9833-cc4f5d7bc205"
      },
      "execution_count": null,
      "outputs": [
        {
          "output_type": "execute_result",
          "data": {
            "text/plain": [
              "4.104"
            ]
          },
          "metadata": {},
          "execution_count": 30
        }
      ]
    },
    {
      "cell_type": "markdown",
      "metadata": {
        "id": "M9teZcSwOBJ4"
      },
      "source": [
        "Good! Everything looks fine - the data is a 1-dimensional array, the sampling rate always corresponds to 16kHz, and the target text is normalized."
      ]
    },
    {
      "cell_type": "markdown",
      "metadata": {
        "id": "k3Pbn5WvOYZF"
      },
      "source": [
        "Finally, we can leverage `Wav2Vec2Processor` to process the data to the format expected by `Wav2Vec2ForCTC` for training. To do so let's make use of Dataset's [`map(...)`](https://huggingface.co/docs/datasets/package_reference/main_classes.html?highlight=map#datasets.DatasetDict.map) function.\n",
        "\n",
        "First, we load and resample the audio data, simply by calling `batch[\"audio\"]`.\n",
        "Second, we extract the `input_values` from the loaded audio file. In our case, the `Wav2Vec2Processor` only normalizes the data. For other speech models, however, this step can include more complex feature extraction, such as [Log-Mel feature extraction](https://en.wikipedia.org/wiki/Mel-frequency_cepstrum). \n",
        "Third, we encode the transcriptions to label ids.\n",
        "\n",
        "**Note**: This mapping function is a good example of how the `Wav2Vec2Processor` class should be used. In \"normal\" context, calling `processor(...)` is redirected to `Wav2Vec2FeatureExtractor`'s call method. When wrapping the processor into the `as_target_processor` context, however, the same method is redirected to `Wav2Vec2CTCTokenizer`'s call method.\n",
        "For more information please check the [docs](https://huggingface.co/transformers/master/model_doc/wav2vec2.html#transformers.Wav2Vec2Processor.__call__)."
      ]
    },
    {
      "cell_type": "code",
      "metadata": {
        "id": "eJY7I0XAwe9p"
      },
      "source": [
        "def prepare_dataset(batch):\n",
        "    audio = batch[\"audio\"]\n",
        "\n",
        "    # batched output is \"un-batched\"\n",
        "    batch[\"input_values\"] = processor(audio[\"array\"], sampling_rate=audio[\"sampling_rate\"]).input_values[0]\n",
        "    batch[\"input_length\"] = len(batch[\"input_values\"])\n",
        "    \n",
        "    with processor.as_target_processor():\n",
        "        batch[\"labels\"] = processor(batch[\"sentence\"]).input_ids\n",
        "    return batch"
      ],
      "execution_count": null,
      "outputs": []
    },
    {
      "cell_type": "markdown",
      "metadata": {
        "id": "q6Pg_WR3OGAP"
      },
      "source": [
        "Let's apply the data preparation function to all examples."
      ]
    },
    {
      "cell_type": "code",
      "metadata": {
        "colab": {
          "base_uri": "https://localhost:8080/",
          "height": 81,
          "referenced_widgets": [
            "7b54bf25771a4545bea67c15a369200c",
            "c237efcb330a407381da7238aada72e8",
            "b49bb7d249414bf292035a29c816c982",
            "c6345fd78ac643499382b0c2be96691c",
            "6891f3d13bb9438d8f809127fb31b59f",
            "a05e7a1285bd48b9bf57a0bc19202e5d",
            "2f2cc7f977aa43b38aba69c709687b9c",
            "158f48ac0fda4f998556591fa45d4b14",
            "ce9ec8bba9ea48a28798a0562e574a7e",
            "2983454f4b054c3dbf3170c3bf65dfc1",
            "3cb9dd9b7e6745b5b73734a6edbc4ec7",
            "3754eb4e4ebc460c929dce7091556b2e",
            "fda4a8826dbd43199947aa5a126f318d",
            "f10a204a0e9c4033bb76fd03abc7eed0",
            "67f59ef66f44417eb21607aed22f77da",
            "eb11100a3c994e01b84ae31a3e8cf95e",
            "2cd7a427ae2a4d8ea88c020627dbe5f9",
            "b7ea0df562494da5b5a353d73246a2bd",
            "93de1f9ac8e443688975ada0b19d5a4e",
            "01724e9fba82410e9137a3599a88cf3d",
            "a0964857531547bd959e658b3e9882f1",
            "af952b9e19e84a2693b7ee1cc66ef98a"
          ]
        },
        "id": "-np9xYK-wl8q",
        "outputId": "416a0e49-0814-4bdf-db9a-6f13b9803ea8"
      },
      "source": [
        "common_voice_train = common_voice_train.map(prepare_dataset, remove_columns=common_voice_train.column_names)\n",
        "common_voice_test = common_voice_test.map(prepare_dataset, remove_columns=common_voice_test.column_names)"
      ],
      "execution_count": null,
      "outputs": [
        {
          "output_type": "display_data",
          "data": {
            "text/plain": [
              "0ex [00:00, ?ex/s]"
            ],
            "application/vnd.jupyter.widget-view+json": {
              "version_major": 2,
              "version_minor": 0,
              "model_id": "7b54bf25771a4545bea67c15a369200c"
            }
          },
          "metadata": {}
        },
        {
          "output_type": "display_data",
          "data": {
            "text/plain": [
              "0ex [00:00, ?ex/s]"
            ],
            "application/vnd.jupyter.widget-view+json": {
              "version_major": 2,
              "version_minor": 0,
              "model_id": "3754eb4e4ebc460c929dce7091556b2e"
            }
          },
          "metadata": {}
        }
      ]
    },
    {
      "cell_type": "markdown",
      "metadata": {
        "id": "nKcEWHvKI1by"
      },
      "source": [
        "**Note**: Currently `datasets` make use of [`torchaudio`](https://pytorch.org/audio/stable/index.html) and [`librosa`](https://librosa.org/doc/latest/index.html) for audio loading and resampling. If you wish to implement your own costumized data loading/sampling, feel free to just make use of the `\"path\"` column instead and disregard the `\"audio\"` column."
      ]
    },
    {
      "cell_type": "markdown",
      "metadata": {
        "id": "24CxHd5ewI4T"
      },
      "source": [
        "Long input sequences require a lot of memory. XLS-R is based on `self-attention` the memory requirement scales quadratically with the input length for long input sequences (*cf.* with [this](https://www.reddit.com/r/MachineLearning/comments/genjvb/d_why_is_the_maximum_input_sequence_length_of/) reddit post). In case this demo crashes with an \"Out-of-memory\" error for you, you might want to uncomment the following lines to filter all sequences that are longer than 5 seconds for training."
      ]
    },
    {
      "cell_type": "code",
      "metadata": {
        "id": "tdHfbUJ_09iA",
        "colab": {
          "base_uri": "https://localhost:8080/",
          "height": 49,
          "referenced_widgets": [
            "7b64d5400a4e49d3813c5b7b0910707a",
            "b4fe91bd59464e5296cc29c5f3989ba3",
            "7eec1aa818754b8eb0eed486299bdf76",
            "7d042fe88973460c81b69a4f601743b5",
            "1cc17ca8877247b482ec7c585516d7b0",
            "2c3753ed7f8d424886e7cc26ba9477e9",
            "59ded309b0fe4c55b5c559d907674b5a",
            "5c45e25e258f4bdaad9655101bb2b485",
            "3606caa80483482488130dd3c8163ac2",
            "86515415037e4388878cbbca684c9ef1",
            "648a11a61e7746e0935cbb0e1f65ac9b"
          ]
        },
        "outputId": "6b9aed2c-0b17-4bb6-f212-42b93274054b"
      },
      "source": [
        "max_input_length_in_sec = 5.0\n",
        "common_voice_train = common_voice_train.filter(lambda x: x < max_input_length_in_sec * processor.feature_extractor.sampling_rate, input_columns=[\"input_length\"])"
      ],
      "execution_count": null,
      "outputs": [
        {
          "output_type": "display_data",
          "data": {
            "text/plain": [
              "  0%|          | 0/4 [00:00<?, ?ba/s]"
            ],
            "application/vnd.jupyter.widget-view+json": {
              "version_major": 2,
              "version_minor": 0,
              "model_id": "7b64d5400a4e49d3813c5b7b0910707a"
            }
          },
          "metadata": {}
        }
      ]
    },
    {
      "cell_type": "markdown",
      "metadata": {
        "id": "1ZWDCCKqwcfS"
      },
      "source": [
        "Awesome, now we are ready to start training!"
      ]
    },
    {
      "cell_type": "markdown",
      "metadata": {
        "id": "gYlQkKVoRUos"
      },
      "source": [
        "## Training\n",
        "\n",
        "The data is processed so that we are ready to start setting up the training pipeline. We will make use of 🤗's [Trainer](https://huggingface.co/transformers/master/main_classes/trainer.html?highlight=trainer) for which we essentially need to do the following:\n",
        "\n",
        "- Define a data collator. In contrast to most NLP models, XLS-R has a much larger input length than output length. *E.g.*, a sample of input length 50000 has an output length of no more than 100. Given the large input sizes, it is much more efficient to pad the training batches dynamically meaning that all training samples should only be padded to the longest sample in their batch and not the overall longest sample. Therefore, fine-tuning XLS-R requires a special padding data collator, which we will define below\n",
        "\n",
        "- Evaluation metric. During training, the model should be evaluated on the word error rate. We should define a `compute_metrics` function accordingly\n",
        "\n",
        "- Load a pretrained checkpoint. We need to load a pretrained checkpoint and configure it correctly for training.\n",
        "\n",
        "- Define the training configuration.\n",
        "\n",
        "After having fine-tuned the model, we will correctly evaluate it on the test data and verify that it has indeed learned to correctly transcribe speech."
      ]
    },
    {
      "cell_type": "markdown",
      "metadata": {
        "id": "Slk403unUS91"
      },
      "source": [
        "### Set-up Trainer\n",
        "\n",
        "Let's start by defining the data collator. The code for the data collator was copied from [this example](https://github.com/huggingface/transformers/blob/7e61d56a45c19284cfda0cee8995fb552f6b1f4e/examples/pytorch/speech-recognition/run_speech_recognition_ctc.py#L219).\n",
        "\n",
        "Without going into too many details, in contrast to the common data collators, this data collator treats the `input_values` and `labels` differently and thus applies to separate padding functions on them (again making use of XLS-R processor's context manager). This is necessary because in speech input and output are of different modalities meaning that they should not be treated by the same padding function.\n",
        "Analogous to the common data collators, the padding tokens in the labels with `-100` so that those tokens are **not** taken into account when computing the loss."
      ]
    },
    {
      "cell_type": "code",
      "metadata": {
        "id": "tborvC9hx88e"
      },
      "source": [
        "import torch\n",
        "\n",
        "from dataclasses import dataclass, field\n",
        "from typing import Any, Dict, List, Optional, Union\n",
        "\n",
        "@dataclass\n",
        "class DataCollatorCTCWithPadding:\n",
        "    \"\"\"\n",
        "    Data collator that will dynamically pad the inputs received.\n",
        "    Args:\n",
        "        processor (:class:`~transformers.Wav2Vec2Processor`)\n",
        "            The processor used for proccessing the data.\n",
        "        padding (:obj:`bool`, :obj:`str` or :class:`~transformers.tokenization_utils_base.PaddingStrategy`, `optional`, defaults to :obj:`True`):\n",
        "            Select a strategy to pad the returned sequences (according to the model's padding side and padding index)\n",
        "            among:\n",
        "            * :obj:`True` or :obj:`'longest'`: Pad to the longest sequence in the batch (or no padding if only a single\n",
        "              sequence if provided).\n",
        "            * :obj:`'max_length'`: Pad to a maximum length specified with the argument :obj:`max_length` or to the\n",
        "              maximum acceptable input length for the model if that argument is not provided.\n",
        "            * :obj:`False` or :obj:`'do_not_pad'` (default): No padding (i.e., can output a batch with sequences of\n",
        "              different lengths).\n",
        "    \"\"\"\n",
        "\n",
        "    processor: Wav2Vec2Processor\n",
        "    padding: Union[bool, str] = True\n",
        "\n",
        "    def __call__(self, features: List[Dict[str, Union[List[int], torch.Tensor]]]) -> Dict[str, torch.Tensor]:\n",
        "        # split inputs and labels since they have to be of different lenghts and need\n",
        "        # different padding methods\n",
        "        input_features = [{\"input_values\": feature[\"input_values\"]} for feature in features]\n",
        "        label_features = [{\"input_ids\": feature[\"labels\"]} for feature in features]\n",
        "\n",
        "        batch = self.processor.pad(\n",
        "            input_features,\n",
        "            padding=self.padding,\n",
        "            return_tensors=\"pt\",\n",
        "        )\n",
        "        with self.processor.as_target_processor():\n",
        "            labels_batch = self.processor.pad(\n",
        "                label_features,\n",
        "                padding=self.padding,\n",
        "                return_tensors=\"pt\",\n",
        "            )\n",
        "\n",
        "        # replace padding with -100 to ignore loss correctly\n",
        "        labels = labels_batch[\"input_ids\"].masked_fill(labels_batch.attention_mask.ne(1), -100)\n",
        "\n",
        "        batch[\"labels\"] = labels\n",
        "\n",
        "        return batch"
      ],
      "execution_count": null,
      "outputs": []
    },
    {
      "cell_type": "code",
      "metadata": {
        "id": "lbQf5GuZyQ4_"
      },
      "source": [
        "data_collator = DataCollatorCTCWithPadding(processor=processor, padding=True)"
      ],
      "execution_count": null,
      "outputs": []
    },
    {
      "cell_type": "markdown",
      "metadata": {
        "id": "xO-Zdj-5cxXp"
      },
      "source": [
        "Next, the evaluation metric is defined. As mentioned earlier, the \n",
        "predominant metric in ASR is the word error rate (WER), hence we will use it in this notebook as well."
      ]
    },
    {
      "cell_type": "code",
      "metadata": {
        "id": "9Xsux2gmyXso"
      },
      "source": [
        "wer_metric = load_metric(\"wer\")"
      ],
      "execution_count": null,
      "outputs": []
    },
    {
      "cell_type": "markdown",
      "metadata": {
        "id": "E1qZU5p-deqB"
      },
      "source": [
        "The model will return a sequence of logit vectors:\n",
        "$\\mathbf{y}_1, \\ldots, \\mathbf{y}_m$ with $\\mathbf{y}_1 = f_{\\theta}(x_1, \\ldots, x_n)[0]$ and $n >> m$.\n",
        "\n",
        "A logit vector $\\mathbf{y}_1$ contains the log-odds for each word in the vocabulary we defined earlier, thus $\\text{len}(\\mathbf{y}_i) =$ `config.vocab_size`. We are interested in the most likely prediction of the model and thus take the `argmax(...)` of the logits. Also, we transform the encoded labels back to the original string by replacing `-100` with the `pad_token_id` and decoding the ids while making sure that consecutive tokens are **not** grouped to the same token in CTC style ${}^1$.\n",
        "\n",
        "<h1><strong>Example of CTC </strong> <a href=\"https://distill.pub/2017/ctc/\">https://distill.pub/2017/ctc/</a> </h1>\n",
        "\n",
        "```Bashar Comment: \n",
        "processor.batch_decode for the prediction will group similar consecutive characters together\n",
        "\n",
        "processor.batch_decode for the reference (label), it's already in the target style, not CTC, so we don't want to group them together.\n",
        "```\n"
      ]
    },
    {
      "cell_type": "code",
      "metadata": {
        "id": "1XZ-kjweyTy_"
      },
      "source": [
        "def compute_metrics(pred):\n",
        "    pred_logits = pred.predictions\n",
        "    pred_ids = np.argmax(pred_logits, axis=-1)\n",
        "\n",
        "    pred.label_ids[pred.label_ids == -100] = processor.tokenizer.pad_token_id\n",
        "\n",
        "    \n",
        "    pred_str = processor.batch_decode(pred_ids)\n",
        "    # we do not want to group tokens when computing the metrics\n",
        "    label_str = processor.batch_decode(pred.label_ids, group_tokens=False)\n",
        "\n",
        "    wer = wer_metric.compute(predictions=pred_str, references=label_str)\n",
        "\n",
        "    return {\"wer\": wer}"
      ],
      "execution_count": null,
      "outputs": []
    },
    {
      "cell_type": "markdown",
      "metadata": {
        "id": "Xmgrx4bRwLIH"
      },
      "source": [
        "Now, we can load the pretrained checkpoint of [Wav2Vec2-XLS-R-300M](https://huggingface.co/facebook/wav2vec2-xls-r-300m). The tokenizer's `pad_token_id` must be to define the model's `pad_token_id` or in the case of `Wav2Vec2ForCTC` also CTC's *blank token* ${}^2$. To save GPU memory, we enable PyTorch's [gradient checkpointing](https://pytorch.org/docs/stable/checkpoint.html) and also set the loss reduction to \"*mean*\".\n",
        "\n",
        "Because the dataset is quite small (~6h of training data) and because Common Voice is quite noisy, fine-tuning Facebook's [wav2vec2-xls-r-300m checkpoint](https://huggingface.co/facebook/wav2vec2-xls-r-300m) seems to require some hyper-parameter tuning. Therefore, I had to play around a bit with different values for dropout, [SpecAugment](https://arxiv.org/abs/1904.08779)'s masking dropout rate, layer dropout, and the learning rate until training seemed to be stable enough. \n",
        "\n",
        "**Note**: When using this notebook to train XLS-R on another language of Common Voice those hyper-parameter settings might not work very well. Feel free to adapt those depending on your use case. \n",
        "\n",
        "\n",
        "\n",
        "---\n",
        "\n",
        "${}^1$ To allow models to become independent of the speaker rate, in CTC, consecutive tokens that are identical are simply grouped as a single token. However, the encoded labels should not be grouped when decoding since they don't correspond to the predicted tokens of the model, which is why the `group_tokens=False` parameter has to be passed. If we wouldn't pass this parameter a word like `\"hello\"` would incorrectly be encoded, and decoded as `\"helo\"`.\n",
        "\n",
        "${}^2$ The blank token allows the model to predict a word, such as `\"hello\"` by forcing it to insert the blank token between the two l's. A CTC-conform prediction of `\"hello\"` of our model would be `[PAD] [PAD] \"h\" \"e\" \"e\" \"l\" \"l\" [PAD] \"l\" \"o\" \"o\" [PAD]`."
      ]
    },
    {
      "cell_type": "code",
      "metadata": {
        "colab": {
          "base_uri": "https://localhost:8080/",
          "height": 188,
          "referenced_widgets": [
            "5e1de7eeabbf4eddb551908559c66372",
            "561abd707cd144dc8f1fb62e9e9a595e",
            "58f96b58131f4efbb5287ba3ba68f97c",
            "c34795d5e70440e0bf24ed4345bff39e",
            "91e084ef77b8473081e274fa66a3d740",
            "7d9ea49ea800468dbd68d9fb932ef68e",
            "4bda0fbf775a4408b007777c46d14d37",
            "7284b561989546939261c658d3332c99",
            "e5386c6cbc3d497c890f226382054b71",
            "cafebffee8784e0db4f6310c4594a543",
            "b534b2df8c004fe696ef693717530ee9",
            "1579cfce90154a5e8a36bc434f7265b3",
            "2680adc69c7f4bf08c70bc11efce0e4a",
            "0e4016df9bb74699b1bb4410d8042c73",
            "3b26cb43b2be4aceb619c0ed250d5e99",
            "cce1af2c105f4fdabe0bc4ceacc00fca",
            "04132f9958dc4c59b7c55a4aa014dfe0",
            "5adaebdf9cd14958ac05a321a09bf2bc",
            "0050fb8e28d04ea7ad5285e6aebc90ab",
            "5b8439df56104784b6bfa153abcf3f30",
            "697ec108bd72481ead799c663342bcab",
            "698c5f415cd942979d4c26546da3cc19"
          ]
        },
        "id": "e7cqAWIayn6w",
        "outputId": "66319e23-fb2d-43b3-f991-16e0260d3426"
      },
      "source": [
        "from transformers import Wav2Vec2ForCTC\n",
        "\n",
        "model = Wav2Vec2ForCTC.from_pretrained(\n",
        "    \"facebook/wav2vec2-xls-r-300m\", \n",
        "    attention_dropout=0.0,\n",
        "    hidden_dropout=0.0,\n",
        "    feat_proj_dropout=0.0,\n",
        "    mask_time_prob=0.05,\n",
        "    layerdrop=0.0,\n",
        "    ctc_loss_reduction=\"mean\", \n",
        "    pad_token_id=processor.tokenizer.pad_token_id,\n",
        "    vocab_size=len(processor.tokenizer),\n",
        ")"
      ],
      "execution_count": null,
      "outputs": [
        {
          "output_type": "display_data",
          "data": {
            "text/plain": [
              "Downloading:   0%|          | 0.00/1.53k [00:00<?, ?B/s]"
            ],
            "application/vnd.jupyter.widget-view+json": {
              "version_major": 2,
              "version_minor": 0,
              "model_id": "5e1de7eeabbf4eddb551908559c66372"
            }
          },
          "metadata": {}
        },
        {
          "output_type": "display_data",
          "data": {
            "text/plain": [
              "Downloading:   0%|          | 0.00/1.18G [00:00<?, ?B/s]"
            ],
            "application/vnd.jupyter.widget-view+json": {
              "version_major": 2,
              "version_minor": 0,
              "model_id": "1579cfce90154a5e8a36bc434f7265b3"
            }
          },
          "metadata": {}
        },
        {
          "output_type": "stream",
          "name": "stderr",
          "text": [
            "Some weights of the model checkpoint at facebook/wav2vec2-xls-r-300m were not used when initializing Wav2Vec2ForCTC: ['quantizer.weight_proj.weight', 'project_q.weight', 'project_q.bias', 'quantizer.weight_proj.bias', 'project_hid.bias', 'project_hid.weight', 'quantizer.codevectors']\n",
            "- This IS expected if you are initializing Wav2Vec2ForCTC from the checkpoint of a model trained on another task or with another architecture (e.g. initializing a BertForSequenceClassification model from a BertForPreTraining model).\n",
            "- This IS NOT expected if you are initializing Wav2Vec2ForCTC from the checkpoint of a model that you expect to be exactly identical (initializing a BertForSequenceClassification model from a BertForSequenceClassification model).\n",
            "Some weights of Wav2Vec2ForCTC were not initialized from the model checkpoint at facebook/wav2vec2-xls-r-300m and are newly initialized: ['lm_head.weight', 'lm_head.bias']\n",
            "You should probably TRAIN this model on a down-stream task to be able to use it for predictions and inference.\n"
          ]
        }
      ]
    },
    {
      "cell_type": "markdown",
      "metadata": {
        "id": "1DwR3XLSzGDD"
      },
      "source": [
        "The first component of XLS-R consists of a stack of CNN layers that are used to extract acoustically meaningful - but contextually independent - features from the raw speech signal. This part of the model has already been sufficiently trained during pretraining and as stated in the [paper](https://arxiv.org/pdf/2006.13979.pdf) does not need to be fine-tuned anymore. \n",
        "Thus, we can set the `requires_grad` to `False` for all parameters of the *feature extraction* part."
      ]
    },
    {
      "cell_type": "code",
      "metadata": {
        "id": "oGI8zObtZ3V0"
      },
      "source": [
        "model.freeze_feature_extractor()"
      ],
      "execution_count": null,
      "outputs": []
    },
    {
      "cell_type": "markdown",
      "metadata": {
        "id": "lD4aGhQM0K-D"
      },
      "source": [
        "In a final step, we define all parameters related to training. \n",
        "To give more explanation on some of the parameters:\n",
        "- `group_by_length` makes training more efficient by grouping training samples of similar input length into one batch. This can significantly speed up training time by heavily reducing the overall number of useless padding tokens that are passed through the model\n",
        "- `learning_rate` and `weight_decay` were heuristically tuned until fine-tuning has become stable. Note that those parameters strongly depend on the Common Voice dataset and might be suboptimal for other speech datasets.\n",
        "\n",
        "For more explanations on other parameters, one can take a look at the [docs](https://huggingface.co/transformers/master/main_classes/trainer.html?highlight=trainer#trainingarguments).\n",
        "\n",
        "During training, a checkpoint will be uploaded asynchronously to the hub every 400 training steps. It allows you to also play around with the demo widget even while your model is still training.\n",
        "\n",
        "**Note**: If one does not want to upload the model checkpoints to the hub, simply set `push_to_hub=False`."
      ]
    },
    {
      "cell_type": "code",
      "metadata": {
        "id": "KbeKSV7uzGPP"
      },
      "source": [
        "from transformers import TrainingArguments\n",
        "\n",
        "training_args = TrainingArguments(\n",
        "  output_dir=\"./output\",\n",
        "  group_by_length=True,\n",
        "  per_device_train_batch_size=16,\n",
        "  gradient_accumulation_steps=2,\n",
        "  evaluation_strategy=\"steps\",\n",
        "  num_train_epochs=30,\n",
        "  gradient_checkpointing=True,\n",
        "  fp16=True,\n",
        "  save_steps=400,\n",
        "  eval_steps=400,\n",
        "  logging_steps=400,\n",
        "  learning_rate=3e-4,\n",
        "  warmup_steps=500,\n",
        "  save_total_limit=2,\n",
        "  push_to_hub=True,\n",
        ")"
      ],
      "execution_count": null,
      "outputs": []
    },
    {
      "cell_type": "markdown",
      "metadata": {
        "id": "OsW-WZcL1ZtN"
      },
      "source": [
        "Now, all instances can be passed to Trainer and we are ready to start training!"
      ]
    },
    {
      "cell_type": "code",
      "metadata": {
        "colab": {
          "base_uri": "https://localhost:8080/",
          "height": 397
        },
        "id": "rY7vBmFCPFgC",
        "outputId": "4f3bbb01-a2c6-47a9-ab57-f7969d4c7262"
      },
      "source": [
        "from transformers import Trainer\n",
        "\n",
        "trainer = Trainer(\n",
        "    model=model,\n",
        "    data_collator=data_collator,\n",
        "    args=training_args,\n",
        "    compute_metrics=compute_metrics,\n",
        "    train_dataset=common_voice_train,\n",
        "    eval_dataset=common_voice_test,\n",
        "    tokenizer=processor.feature_extractor,\n",
        ")"
      ],
      "execution_count": null,
      "outputs": [
        {
          "output_type": "error",
          "ename": "OSError",
          "evalue": "ignored",
          "traceback": [
            "\u001b[0;31m---------------------------------------------------------------------------\u001b[0m",
            "\u001b[0;31mOSError\u001b[0m                                   Traceback (most recent call last)",
            "\u001b[0;32m<ipython-input-43-ec2c74f250fd>\u001b[0m in \u001b[0;36m<cell line: 3>\u001b[0;34m()\u001b[0m\n\u001b[1;32m      1\u001b[0m \u001b[0;32mfrom\u001b[0m \u001b[0mtransformers\u001b[0m \u001b[0;32mimport\u001b[0m \u001b[0mTrainer\u001b[0m\u001b[0;34m\u001b[0m\u001b[0;34m\u001b[0m\u001b[0m\n\u001b[1;32m      2\u001b[0m \u001b[0;34m\u001b[0m\u001b[0m\n\u001b[0;32m----> 3\u001b[0;31m trainer = Trainer(\n\u001b[0m\u001b[1;32m      4\u001b[0m     \u001b[0mmodel\u001b[0m\u001b[0;34m=\u001b[0m\u001b[0mmodel\u001b[0m\u001b[0;34m,\u001b[0m\u001b[0;34m\u001b[0m\u001b[0;34m\u001b[0m\u001b[0m\n\u001b[1;32m      5\u001b[0m     \u001b[0mdata_collator\u001b[0m\u001b[0;34m=\u001b[0m\u001b[0mdata_collator\u001b[0m\u001b[0;34m,\u001b[0m\u001b[0;34m\u001b[0m\u001b[0;34m\u001b[0m\u001b[0m\n",
            "\u001b[0;32m/usr/local/lib/python3.9/dist-packages/transformers/trainer.py\u001b[0m in \u001b[0;36m__init__\u001b[0;34m(self, model, args, data_collator, train_dataset, eval_dataset, tokenizer, model_init, compute_metrics, callbacks, optimizers)\u001b[0m\n\u001b[1;32m    401\u001b[0m         \u001b[0;31m# Create clone of distant repo and output directory if needed\u001b[0m\u001b[0;34m\u001b[0m\u001b[0;34m\u001b[0m\u001b[0m\n\u001b[1;32m    402\u001b[0m         \u001b[0;32mif\u001b[0m \u001b[0mself\u001b[0m\u001b[0;34m.\u001b[0m\u001b[0margs\u001b[0m\u001b[0;34m.\u001b[0m\u001b[0mpush_to_hub\u001b[0m\u001b[0;34m:\u001b[0m\u001b[0;34m\u001b[0m\u001b[0;34m\u001b[0m\u001b[0m\n\u001b[0;32m--> 403\u001b[0;31m             \u001b[0mself\u001b[0m\u001b[0;34m.\u001b[0m\u001b[0minit_git_repo\u001b[0m\u001b[0;34m(\u001b[0m\u001b[0;34m)\u001b[0m\u001b[0;34m\u001b[0m\u001b[0;34m\u001b[0m\u001b[0m\n\u001b[0m\u001b[1;32m    404\u001b[0m             \u001b[0;31m# In case of pull, we need to make sure every process has the latest.\u001b[0m\u001b[0;34m\u001b[0m\u001b[0;34m\u001b[0m\u001b[0m\n\u001b[1;32m    405\u001b[0m             \u001b[0;32mif\u001b[0m \u001b[0mis_torch_tpu_available\u001b[0m\u001b[0;34m(\u001b[0m\u001b[0;34m)\u001b[0m\u001b[0;34m:\u001b[0m\u001b[0;34m\u001b[0m\u001b[0;34m\u001b[0m\u001b[0m\n",
            "\u001b[0;32m/usr/local/lib/python3.9/dist-packages/transformers/trainer.py\u001b[0m in \u001b[0;36minit_git_repo\u001b[0;34m(self)\u001b[0m\n\u001b[1;32m   2543\u001b[0m         \u001b[0muse_auth_token\u001b[0m \u001b[0;34m=\u001b[0m \u001b[0;32mTrue\u001b[0m \u001b[0;32mif\u001b[0m \u001b[0mself\u001b[0m\u001b[0;34m.\u001b[0m\u001b[0margs\u001b[0m\u001b[0;34m.\u001b[0m\u001b[0mhub_token\u001b[0m \u001b[0;32mis\u001b[0m \u001b[0;32mNone\u001b[0m \u001b[0;32melse\u001b[0m \u001b[0mself\u001b[0m\u001b[0;34m.\u001b[0m\u001b[0margs\u001b[0m\u001b[0;34m.\u001b[0m\u001b[0mhub_token\u001b[0m\u001b[0;34m\u001b[0m\u001b[0;34m\u001b[0m\u001b[0m\n\u001b[1;32m   2544\u001b[0m         \u001b[0;32mif\u001b[0m \u001b[0mself\u001b[0m\u001b[0;34m.\u001b[0m\u001b[0margs\u001b[0m\u001b[0;34m.\u001b[0m\u001b[0mhub_model_id\u001b[0m \u001b[0;32mis\u001b[0m \u001b[0;32mNone\u001b[0m\u001b[0;34m:\u001b[0m\u001b[0;34m\u001b[0m\u001b[0;34m\u001b[0m\u001b[0m\n\u001b[0;32m-> 2545\u001b[0;31m             \u001b[0mrepo_name\u001b[0m \u001b[0;34m=\u001b[0m \u001b[0mget_full_repo_name\u001b[0m\u001b[0;34m(\u001b[0m\u001b[0mPath\u001b[0m\u001b[0;34m(\u001b[0m\u001b[0mself\u001b[0m\u001b[0;34m.\u001b[0m\u001b[0margs\u001b[0m\u001b[0;34m.\u001b[0m\u001b[0moutput_dir\u001b[0m\u001b[0;34m)\u001b[0m\u001b[0;34m.\u001b[0m\u001b[0mname\u001b[0m\u001b[0;34m,\u001b[0m \u001b[0mtoken\u001b[0m\u001b[0;34m=\u001b[0m\u001b[0mself\u001b[0m\u001b[0;34m.\u001b[0m\u001b[0margs\u001b[0m\u001b[0;34m.\u001b[0m\u001b[0mhub_token\u001b[0m\u001b[0;34m)\u001b[0m\u001b[0;34m\u001b[0m\u001b[0;34m\u001b[0m\u001b[0m\n\u001b[0m\u001b[1;32m   2546\u001b[0m         \u001b[0;32melse\u001b[0m\u001b[0;34m:\u001b[0m\u001b[0;34m\u001b[0m\u001b[0;34m\u001b[0m\u001b[0m\n\u001b[1;32m   2547\u001b[0m             \u001b[0mrepo_name\u001b[0m \u001b[0;34m=\u001b[0m \u001b[0mself\u001b[0m\u001b[0;34m.\u001b[0m\u001b[0margs\u001b[0m\u001b[0;34m.\u001b[0m\u001b[0mhub_model_id\u001b[0m\u001b[0;34m\u001b[0m\u001b[0;34m\u001b[0m\u001b[0m\n",
            "\u001b[0;32m/usr/local/lib/python3.9/dist-packages/transformers/file_utils.py\u001b[0m in \u001b[0;36mget_full_repo_name\u001b[0;34m(model_id, organization, token)\u001b[0m\n\u001b[1;32m   2267\u001b[0m         \u001b[0mtoken\u001b[0m \u001b[0;34m=\u001b[0m \u001b[0mHfFolder\u001b[0m\u001b[0;34m.\u001b[0m\u001b[0mget_token\u001b[0m\u001b[0;34m(\u001b[0m\u001b[0;34m)\u001b[0m\u001b[0;34m\u001b[0m\u001b[0;34m\u001b[0m\u001b[0m\n\u001b[1;32m   2268\u001b[0m     \u001b[0;32mif\u001b[0m \u001b[0morganization\u001b[0m \u001b[0;32mis\u001b[0m \u001b[0;32mNone\u001b[0m\u001b[0;34m:\u001b[0m\u001b[0;34m\u001b[0m\u001b[0;34m\u001b[0m\u001b[0m\n\u001b[0;32m-> 2269\u001b[0;31m         \u001b[0musername\u001b[0m \u001b[0;34m=\u001b[0m \u001b[0mHfApi\u001b[0m\u001b[0;34m(\u001b[0m\u001b[0;34m)\u001b[0m\u001b[0;34m.\u001b[0m\u001b[0mwhoami\u001b[0m\u001b[0;34m(\u001b[0m\u001b[0mtoken\u001b[0m\u001b[0;34m)\u001b[0m\u001b[0;34m[\u001b[0m\u001b[0;34m\"name\"\u001b[0m\u001b[0;34m]\u001b[0m\u001b[0;34m\u001b[0m\u001b[0;34m\u001b[0m\u001b[0m\n\u001b[0m\u001b[1;32m   2270\u001b[0m         \u001b[0;32mreturn\u001b[0m \u001b[0;34mf\"{username}/{model_id}\"\u001b[0m\u001b[0;34m\u001b[0m\u001b[0;34m\u001b[0m\u001b[0m\n\u001b[1;32m   2271\u001b[0m     \u001b[0;32melse\u001b[0m\u001b[0;34m:\u001b[0m\u001b[0;34m\u001b[0m\u001b[0;34m\u001b[0m\u001b[0m\n",
            "\u001b[0;32m/usr/local/lib/python3.9/dist-packages/huggingface_hub/hf_api.py\u001b[0m in \u001b[0;36mwhoami\u001b[0;34m(self, token)\u001b[0m\n\u001b[1;32m    841\u001b[0m         r = get_session().get(\n\u001b[1;32m    842\u001b[0m             \u001b[0;34mf\"{self.endpoint}/api/whoami-v2\"\u001b[0m\u001b[0;34m,\u001b[0m\u001b[0;34m\u001b[0m\u001b[0;34m\u001b[0m\u001b[0m\n\u001b[0;32m--> 843\u001b[0;31m             headers=self._build_hf_headers(\n\u001b[0m\u001b[1;32m    844\u001b[0m                 \u001b[0;31m# If `token` is provided and not `None`, it will be used by default.\u001b[0m\u001b[0;34m\u001b[0m\u001b[0;34m\u001b[0m\u001b[0m\n\u001b[1;32m    845\u001b[0m                 \u001b[0;31m# Otherwise, the token must be retrieved from cache or env variable.\u001b[0m\u001b[0;34m\u001b[0m\u001b[0;34m\u001b[0m\u001b[0m\n",
            "\u001b[0;32m/usr/local/lib/python3.9/dist-packages/huggingface_hub/hf_api.py\u001b[0m in \u001b[0;36m_build_hf_headers\u001b[0;34m(self, token, is_write_action, library_name, library_version, user_agent)\u001b[0m\n\u001b[1;32m   4730\u001b[0m             \u001b[0;31m# Cannot do `token = token or self.token` as token can be `False`.\u001b[0m\u001b[0;34m\u001b[0m\u001b[0;34m\u001b[0m\u001b[0m\n\u001b[1;32m   4731\u001b[0m             \u001b[0mtoken\u001b[0m \u001b[0;34m=\u001b[0m \u001b[0mself\u001b[0m\u001b[0;34m.\u001b[0m\u001b[0mtoken\u001b[0m\u001b[0;34m\u001b[0m\u001b[0;34m\u001b[0m\u001b[0m\n\u001b[0;32m-> 4732\u001b[0;31m         return build_hf_headers(\n\u001b[0m\u001b[1;32m   4733\u001b[0m             \u001b[0mtoken\u001b[0m\u001b[0;34m=\u001b[0m\u001b[0mtoken\u001b[0m\u001b[0;34m,\u001b[0m\u001b[0;34m\u001b[0m\u001b[0;34m\u001b[0m\u001b[0m\n\u001b[1;32m   4734\u001b[0m             \u001b[0mis_write_action\u001b[0m\u001b[0;34m=\u001b[0m\u001b[0mis_write_action\u001b[0m\u001b[0;34m,\u001b[0m\u001b[0;34m\u001b[0m\u001b[0;34m\u001b[0m\u001b[0m\n",
            "\u001b[0;32m/usr/local/lib/python3.9/dist-packages/huggingface_hub/utils/_validators.py\u001b[0m in \u001b[0;36m_inner_fn\u001b[0;34m(*args, **kwargs)\u001b[0m\n\u001b[1;32m    118\u001b[0m             \u001b[0mkwargs\u001b[0m \u001b[0;34m=\u001b[0m \u001b[0msmoothly_deprecate_use_auth_token\u001b[0m\u001b[0;34m(\u001b[0m\u001b[0mfn_name\u001b[0m\u001b[0;34m=\u001b[0m\u001b[0mfn\u001b[0m\u001b[0;34m.\u001b[0m\u001b[0m__name__\u001b[0m\u001b[0;34m,\u001b[0m \u001b[0mhas_token\u001b[0m\u001b[0;34m=\u001b[0m\u001b[0mhas_token\u001b[0m\u001b[0;34m,\u001b[0m \u001b[0mkwargs\u001b[0m\u001b[0;34m=\u001b[0m\u001b[0mkwargs\u001b[0m\u001b[0;34m)\u001b[0m\u001b[0;34m\u001b[0m\u001b[0;34m\u001b[0m\u001b[0m\n\u001b[1;32m    119\u001b[0m \u001b[0;34m\u001b[0m\u001b[0m\n\u001b[0;32m--> 120\u001b[0;31m         \u001b[0;32mreturn\u001b[0m \u001b[0mfn\u001b[0m\u001b[0;34m(\u001b[0m\u001b[0;34m*\u001b[0m\u001b[0margs\u001b[0m\u001b[0;34m,\u001b[0m \u001b[0;34m**\u001b[0m\u001b[0mkwargs\u001b[0m\u001b[0;34m)\u001b[0m\u001b[0;34m\u001b[0m\u001b[0;34m\u001b[0m\u001b[0m\n\u001b[0m\u001b[1;32m    121\u001b[0m \u001b[0;34m\u001b[0m\u001b[0m\n\u001b[1;32m    122\u001b[0m     \u001b[0;32mreturn\u001b[0m \u001b[0m_inner_fn\u001b[0m  \u001b[0;31m# type: ignore\u001b[0m\u001b[0;34m\u001b[0m\u001b[0;34m\u001b[0m\u001b[0m\n",
            "\u001b[0;32m/usr/local/lib/python3.9/dist-packages/huggingface_hub/utils/_headers.py\u001b[0m in \u001b[0;36mbuild_hf_headers\u001b[0;34m(token, is_write_action, library_name, library_version, user_agent)\u001b[0m\n\u001b[1;32m    115\u001b[0m     \"\"\"\n\u001b[1;32m    116\u001b[0m     \u001b[0;31m# Get auth token to send\u001b[0m\u001b[0;34m\u001b[0m\u001b[0;34m\u001b[0m\u001b[0m\n\u001b[0;32m--> 117\u001b[0;31m     \u001b[0mtoken_to_send\u001b[0m \u001b[0;34m=\u001b[0m \u001b[0mget_token_to_send\u001b[0m\u001b[0;34m(\u001b[0m\u001b[0mtoken\u001b[0m\u001b[0;34m)\u001b[0m\u001b[0;34m\u001b[0m\u001b[0;34m\u001b[0m\u001b[0m\n\u001b[0m\u001b[1;32m    118\u001b[0m     \u001b[0m_validate_token_to_send\u001b[0m\u001b[0;34m(\u001b[0m\u001b[0mtoken_to_send\u001b[0m\u001b[0;34m,\u001b[0m \u001b[0mis_write_action\u001b[0m\u001b[0;34m=\u001b[0m\u001b[0mis_write_action\u001b[0m\u001b[0;34m)\u001b[0m\u001b[0;34m\u001b[0m\u001b[0;34m\u001b[0m\u001b[0m\n\u001b[1;32m    119\u001b[0m \u001b[0;34m\u001b[0m\u001b[0m\n",
            "\u001b[0;32m/usr/local/lib/python3.9/dist-packages/huggingface_hub/utils/_headers.py\u001b[0m in \u001b[0;36mget_token_to_send\u001b[0;34m(token)\u001b[0m\n\u001b[1;32m    147\u001b[0m     \u001b[0;32mif\u001b[0m \u001b[0mtoken\u001b[0m \u001b[0;32mis\u001b[0m \u001b[0;32mTrue\u001b[0m\u001b[0;34m:\u001b[0m\u001b[0;34m\u001b[0m\u001b[0;34m\u001b[0m\u001b[0m\n\u001b[1;32m    148\u001b[0m         \u001b[0;32mif\u001b[0m \u001b[0mcached_token\u001b[0m \u001b[0;32mis\u001b[0m \u001b[0;32mNone\u001b[0m\u001b[0;34m:\u001b[0m\u001b[0;34m\u001b[0m\u001b[0;34m\u001b[0m\u001b[0m\n\u001b[0;32m--> 149\u001b[0;31m             raise EnvironmentError(\n\u001b[0m\u001b[1;32m    150\u001b[0m                 \u001b[0;34m\"Token is required (`token=True`), but no token found. You\"\u001b[0m\u001b[0;34m\u001b[0m\u001b[0;34m\u001b[0m\u001b[0m\n\u001b[1;32m    151\u001b[0m                 \u001b[0;34m\" need to provide a token or be logged in to Hugging Face with\"\u001b[0m\u001b[0;34m\u001b[0m\u001b[0;34m\u001b[0m\u001b[0m\n",
            "\u001b[0;31mOSError\u001b[0m: Token is required (`token=True`), but no token found. You need to provide a token or be logged in to Hugging Face with `huggingface-cli login` or `huggingface_hub.login`. See https://huggingface.co/settings/tokens."
          ]
        }
      ]
    },
    {
      "cell_type": "markdown",
      "metadata": {
        "id": "UoXBx1JAA0DX"
      },
      "source": []
    },
    {
      "cell_type": "markdown",
      "metadata": {
        "id": "rpvZHM1xReIW"
      },
      "source": [
        "### Training"
      ]
    },
    {
      "cell_type": "markdown",
      "metadata": {
        "id": "j-3oKSzZ1hGq"
      },
      "source": [
        "Training will take multiple hours depending on the GPU allocated to this notebook. While the trained model yields somewhat satisfying results on *Common Voice*'s test data of Turkish, it is by no means an optimally fine-tuned model. The purpose of this notebook is just to demonstrate how to fine-tune XLS-R on an ASR dataset.\n",
        "\n",
        "In case you want to use this google colab to fine-tune your model, you should make sure that your training doesn't stop due to inactivity. A simple hack to prevent this is to paste the following code into the console of this tab (*right mouse click -> inspect -> Console tab and insert code*)."
      ]
    },
    {
      "cell_type": "markdown",
      "metadata": {
        "id": "VYYAvgkW4P0m"
      },
      "source": [
        "```javascript\n",
        "function ConnectButton(){\n",
        "    console.log(\"Connect pushed\"); \n",
        "    document.querySelector(\"#top-toolbar > colab-connect-button\").shadowRoot.querySelector(\"#connect\").click() \n",
        "}\n",
        "setInterval(ConnectButton,60000);\n",
        "```"
      ]
    },
    {
      "cell_type": "markdown",
      "metadata": {
        "id": "7bGgLV2r0yvZ"
      },
      "source": [
        "Depending on what GPU was allocated to your google colab it might be possible that you are seeing an `\"out-of-memory\"` error here. In this case, it's probably best to reduce `per_device_train_batch_size` to 8 or even less and increase [`gradient_accumulation`](https://huggingface.co/transformers/master/main_classes/trainer.html#trainingarguments)."
      ]
    },
    {
      "cell_type": "code",
      "metadata": {
        "colab": {
          "background_save": true,
          "base_uri": "https://localhost:8080/",
          "height": 311
        },
        "id": "9fRr9TG5pGBl",
        "outputId": "122ea040-7b24-452a-c7d4-7e72e1c46973"
      },
      "source": [
        "trainer.train()"
      ],
      "execution_count": null,
      "outputs": [
        {
          "name": "stderr",
          "output_type": "stream",
          "text": [
            "The following columns in the training set  don't have a corresponding argument in `Wav2Vec2ForCTC.forward` and have been ignored: input_length.\n",
            "***** Running training *****\n",
            "  Num examples = 3478\n",
            "  Num Epochs = 30\n",
            "  Instantaneous batch size per device = 16\n",
            "  Total train batch size (w. parallel, distributed & accumulation) = 32\n",
            "  Gradient Accumulation steps = 2\n",
            "  Total optimization steps = 3270\n",
            "/usr/local/lib/python3.7/dist-packages/transformers/feature_extraction_utils.py:158: UserWarning: Creating a tensor from a list of numpy.ndarrays is extremely slow. Please consider converting the list to a single numpy.ndarray with numpy.array() before converting to a tensor. (Triggered internally at  ../torch/csrc/utils/tensor_new.cpp:201.)\n",
            "  tensor = as_tensor(value)\n",
            "/usr/local/lib/python3.7/dist-packages/transformers/models/wav2vec2/modeling_wav2vec2.py:882: UserWarning: __floordiv__ is deprecated, and its behavior will change in a future version of pytorch. It currently rounds toward 0 (like the 'trunc' function NOT 'floor'). This results in incorrect rounding for negative values. To keep the current behavior, use torch.div(a, b, rounding_mode='trunc'), or for actual floor division, use torch.div(a, b, rounding_mode='floor').\n",
            "  return (input_length - kernel_size) // stride + 1\n"
          ]
        },
        {
          "data": {
            "text/html": [
              "\n",
              "    <div>\n",
              "      \n",
              "      <progress value='3270' max='3270' style='width:300px; height:20px; vertical-align: middle;'></progress>\n",
              "      [3270/3270 4:41:48, Epoch 30/30]\n",
              "    </div>\n",
              "    <table border=\"1\" class=\"dataframe\">\n",
              "  <thead>\n",
              "    <tr style=\"text-align: left;\">\n",
              "      <th>Step</th>\n",
              "      <th>Training Loss</th>\n",
              "      <th>Validation Loss</th>\n",
              "      <th>Wer</th>\n",
              "    </tr>\n",
              "  </thead>\n",
              "  <tbody>\n",
              "    <tr>\n",
              "      <td>400</td>\n",
              "      <td>3.765200</td>\n",
              "      <td>0.625533</td>\n",
              "      <td>0.693290</td>\n",
              "    </tr>\n",
              "    <tr>\n",
              "      <td>800</td>\n",
              "      <td>0.371600</td>\n",
              "      <td>0.405785</td>\n",
              "      <td>0.456337</td>\n",
              "    </tr>\n",
              "    <tr>\n",
              "      <td>1200</td>\n",
              "      <td>0.177900</td>\n",
              "      <td>0.412796</td>\n",
              "      <td>0.408028</td>\n",
              "    </tr>\n",
              "    <tr>\n",
              "      <td>1600</td>\n",
              "      <td>0.122600</td>\n",
              "      <td>0.399832</td>\n",
              "      <td>0.394137</td>\n",
              "    </tr>\n",
              "    <tr>\n",
              "      <td>2000</td>\n",
              "      <td>0.092700</td>\n",
              "      <td>0.408412</td>\n",
              "      <td>0.371259</td>\n",
              "    </tr>\n",
              "    <tr>\n",
              "      <td>2400</td>\n",
              "      <td>0.073700</td>\n",
              "      <td>0.394867</td>\n",
              "      <td>0.351956</td>\n",
              "    </tr>\n",
              "    <tr>\n",
              "      <td>2800</td>\n",
              "      <td>0.058100</td>\n",
              "      <td>0.369830</td>\n",
              "      <td>0.331120</td>\n",
              "    </tr>\n",
              "    <tr>\n",
              "      <td>3200</td>\n",
              "      <td>0.045300</td>\n",
              "      <td>0.359626</td>\n",
              "      <td>0.324175</td>\n",
              "    </tr>\n",
              "  </tbody>\n",
              "</table><p>"
            ],
            "text/plain": [
              "<IPython.core.display.HTML object>"
            ]
          },
          "metadata": {},
          "output_type": "display_data"
        },
        {
          "name": "stderr",
          "output_type": "stream",
          "text": [
            "The following columns in the evaluation set  don't have a corresponding argument in `Wav2Vec2ForCTC.forward` and have been ignored: input_length.\n",
            "***** Running Evaluation *****\n",
            "  Num examples = 1647\n",
            "  Batch size = 8\n",
            "Saving model checkpoint to wav2vec2-large-xls-r-300m-turkish-colab/checkpoint-400\n",
            "Configuration saved in wav2vec2-large-xls-r-300m-turkish-colab/checkpoint-400/config.json\n",
            "Model weights saved in wav2vec2-large-xls-r-300m-turkish-colab/checkpoint-400/pytorch_model.bin\n",
            "Configuration saved in wav2vec2-large-xls-r-300m-turkish-colab/checkpoint-400/preprocessor_config.json\n",
            "Configuration saved in wav2vec2-large-xls-r-300m-turkish-colab/preprocessor_config.json\n",
            "/usr/local/lib/python3.7/dist-packages/transformers/models/wav2vec2/modeling_wav2vec2.py:882: UserWarning: __floordiv__ is deprecated, and its behavior will change in a future version of pytorch. It currently rounds toward 0 (like the 'trunc' function NOT 'floor'). This results in incorrect rounding for negative values. To keep the current behavior, use torch.div(a, b, rounding_mode='trunc'), or for actual floor division, use torch.div(a, b, rounding_mode='floor').\n",
            "  return (input_length - kernel_size) // stride + 1\n",
            "The following columns in the evaluation set  don't have a corresponding argument in `Wav2Vec2ForCTC.forward` and have been ignored: input_length.\n",
            "***** Running Evaluation *****\n",
            "  Num examples = 1647\n",
            "  Batch size = 8\n",
            "Saving model checkpoint to wav2vec2-large-xls-r-300m-turkish-colab/checkpoint-800\n",
            "Configuration saved in wav2vec2-large-xls-r-300m-turkish-colab/checkpoint-800/config.json\n",
            "Model weights saved in wav2vec2-large-xls-r-300m-turkish-colab/checkpoint-800/pytorch_model.bin\n",
            "Configuration saved in wav2vec2-large-xls-r-300m-turkish-colab/checkpoint-800/preprocessor_config.json\n",
            "/usr/local/lib/python3.7/dist-packages/transformers/models/wav2vec2/modeling_wav2vec2.py:882: UserWarning: __floordiv__ is deprecated, and its behavior will change in a future version of pytorch. It currently rounds toward 0 (like the 'trunc' function NOT 'floor'). This results in incorrect rounding for negative values. To keep the current behavior, use torch.div(a, b, rounding_mode='trunc'), or for actual floor division, use torch.div(a, b, rounding_mode='floor').\n",
            "  return (input_length - kernel_size) // stride + 1\n",
            "The following columns in the evaluation set  don't have a corresponding argument in `Wav2Vec2ForCTC.forward` and have been ignored: input_length.\n",
            "***** Running Evaluation *****\n",
            "  Num examples = 1647\n",
            "  Batch size = 8\n",
            "Saving model checkpoint to wav2vec2-large-xls-r-300m-turkish-colab/checkpoint-1200\n",
            "Configuration saved in wav2vec2-large-xls-r-300m-turkish-colab/checkpoint-1200/config.json\n",
            "Model weights saved in wav2vec2-large-xls-r-300m-turkish-colab/checkpoint-1200/pytorch_model.bin\n",
            "Configuration saved in wav2vec2-large-xls-r-300m-turkish-colab/checkpoint-1200/preprocessor_config.json\n",
            "Deleting older checkpoint [wav2vec2-large-xls-r-300m-turkish-colab/checkpoint-400] due to args.save_total_limit\n",
            "/usr/local/lib/python3.7/dist-packages/transformers/models/wav2vec2/modeling_wav2vec2.py:882: UserWarning: __floordiv__ is deprecated, and its behavior will change in a future version of pytorch. It currently rounds toward 0 (like the 'trunc' function NOT 'floor'). This results in incorrect rounding for negative values. To keep the current behavior, use torch.div(a, b, rounding_mode='trunc'), or for actual floor division, use torch.div(a, b, rounding_mode='floor').\n",
            "  return (input_length - kernel_size) // stride + 1\n",
            "The following columns in the evaluation set  don't have a corresponding argument in `Wav2Vec2ForCTC.forward` and have been ignored: input_length.\n",
            "***** Running Evaluation *****\n",
            "  Num examples = 1647\n",
            "  Batch size = 8\n",
            "Saving model checkpoint to wav2vec2-large-xls-r-300m-turkish-colab/checkpoint-1600\n",
            "Configuration saved in wav2vec2-large-xls-r-300m-turkish-colab/checkpoint-1600/config.json\n",
            "Model weights saved in wav2vec2-large-xls-r-300m-turkish-colab/checkpoint-1600/pytorch_model.bin\n",
            "Configuration saved in wav2vec2-large-xls-r-300m-turkish-colab/checkpoint-1600/preprocessor_config.json\n",
            "Deleting older checkpoint [wav2vec2-large-xls-r-300m-turkish-colab/checkpoint-800] due to args.save_total_limit\n",
            "/usr/local/lib/python3.7/dist-packages/transformers/models/wav2vec2/modeling_wav2vec2.py:882: UserWarning: __floordiv__ is deprecated, and its behavior will change in a future version of pytorch. It currently rounds toward 0 (like the 'trunc' function NOT 'floor'). This results in incorrect rounding for negative values. To keep the current behavior, use torch.div(a, b, rounding_mode='trunc'), or for actual floor division, use torch.div(a, b, rounding_mode='floor').\n",
            "  return (input_length - kernel_size) // stride + 1\n",
            "The following columns in the evaluation set  don't have a corresponding argument in `Wav2Vec2ForCTC.forward` and have been ignored: input_length.\n",
            "***** Running Evaluation *****\n",
            "  Num examples = 1647\n",
            "  Batch size = 8\n",
            "Saving model checkpoint to wav2vec2-large-xls-r-300m-turkish-colab/checkpoint-2000\n",
            "Configuration saved in wav2vec2-large-xls-r-300m-turkish-colab/checkpoint-2000/config.json\n",
            "Model weights saved in wav2vec2-large-xls-r-300m-turkish-colab/checkpoint-2000/pytorch_model.bin\n",
            "Configuration saved in wav2vec2-large-xls-r-300m-turkish-colab/checkpoint-2000/preprocessor_config.json\n",
            "Deleting older checkpoint [wav2vec2-large-xls-r-300m-turkish-colab/checkpoint-1200] due to args.save_total_limit\n",
            "/usr/local/lib/python3.7/dist-packages/transformers/models/wav2vec2/modeling_wav2vec2.py:882: UserWarning: __floordiv__ is deprecated, and its behavior will change in a future version of pytorch. It currently rounds toward 0 (like the 'trunc' function NOT 'floor'). This results in incorrect rounding for negative values. To keep the current behavior, use torch.div(a, b, rounding_mode='trunc'), or for actual floor division, use torch.div(a, b, rounding_mode='floor').\n",
            "  return (input_length - kernel_size) // stride + 1\n",
            "The following columns in the evaluation set  don't have a corresponding argument in `Wav2Vec2ForCTC.forward` and have been ignored: input_length.\n",
            "***** Running Evaluation *****\n",
            "  Num examples = 1647\n",
            "  Batch size = 8\n",
            "Saving model checkpoint to wav2vec2-large-xls-r-300m-turkish-colab/checkpoint-2400\n",
            "Configuration saved in wav2vec2-large-xls-r-300m-turkish-colab/checkpoint-2400/config.json\n",
            "Model weights saved in wav2vec2-large-xls-r-300m-turkish-colab/checkpoint-2400/pytorch_model.bin\n",
            "Configuration saved in wav2vec2-large-xls-r-300m-turkish-colab/checkpoint-2400/preprocessor_config.json\n",
            "Deleting older checkpoint [wav2vec2-large-xls-r-300m-turkish-colab/checkpoint-1600] due to args.save_total_limit\n",
            "/usr/local/lib/python3.7/dist-packages/transformers/models/wav2vec2/modeling_wav2vec2.py:882: UserWarning: __floordiv__ is deprecated, and its behavior will change in a future version of pytorch. It currently rounds toward 0 (like the 'trunc' function NOT 'floor'). This results in incorrect rounding for negative values. To keep the current behavior, use torch.div(a, b, rounding_mode='trunc'), or for actual floor division, use torch.div(a, b, rounding_mode='floor').\n",
            "  return (input_length - kernel_size) // stride + 1\n",
            "The following columns in the evaluation set  don't have a corresponding argument in `Wav2Vec2ForCTC.forward` and have been ignored: input_length.\n",
            "***** Running Evaluation *****\n",
            "  Num examples = 1647\n",
            "  Batch size = 8\n",
            "Saving model checkpoint to wav2vec2-large-xls-r-300m-turkish-colab/checkpoint-2800\n",
            "Configuration saved in wav2vec2-large-xls-r-300m-turkish-colab/checkpoint-2800/config.json\n",
            "Model weights saved in wav2vec2-large-xls-r-300m-turkish-colab/checkpoint-2800/pytorch_model.bin\n",
            "Configuration saved in wav2vec2-large-xls-r-300m-turkish-colab/checkpoint-2800/preprocessor_config.json\n",
            "Deleting older checkpoint [wav2vec2-large-xls-r-300m-turkish-colab/checkpoint-2000] due to args.save_total_limit\n",
            "/usr/local/lib/python3.7/dist-packages/transformers/models/wav2vec2/modeling_wav2vec2.py:882: UserWarning: __floordiv__ is deprecated, and its behavior will change in a future version of pytorch. It currently rounds toward 0 (like the 'trunc' function NOT 'floor'). This results in incorrect rounding for negative values. To keep the current behavior, use torch.div(a, b, rounding_mode='trunc'), or for actual floor division, use torch.div(a, b, rounding_mode='floor').\n",
            "  return (input_length - kernel_size) // stride + 1\n",
            "The following columns in the evaluation set  don't have a corresponding argument in `Wav2Vec2ForCTC.forward` and have been ignored: input_length.\n",
            "***** Running Evaluation *****\n",
            "  Num examples = 1647\n",
            "  Batch size = 8\n",
            "Saving model checkpoint to wav2vec2-large-xls-r-300m-turkish-colab/checkpoint-3200\n",
            "Configuration saved in wav2vec2-large-xls-r-300m-turkish-colab/checkpoint-3200/config.json\n",
            "Model weights saved in wav2vec2-large-xls-r-300m-turkish-colab/checkpoint-3200/pytorch_model.bin\n",
            "Configuration saved in wav2vec2-large-xls-r-300m-turkish-colab/checkpoint-3200/preprocessor_config.json\n",
            "Deleting older checkpoint [wav2vec2-large-xls-r-300m-turkish-colab/checkpoint-2400] due to args.save_total_limit\n",
            "/usr/local/lib/python3.7/dist-packages/transformers/models/wav2vec2/modeling_wav2vec2.py:882: UserWarning: __floordiv__ is deprecated, and its behavior will change in a future version of pytorch. It currently rounds toward 0 (like the 'trunc' function NOT 'floor'). This results in incorrect rounding for negative values. To keep the current behavior, use torch.div(a, b, rounding_mode='trunc'), or for actual floor division, use torch.div(a, b, rounding_mode='floor').\n",
            "  return (input_length - kernel_size) // stride + 1\n",
            "\n",
            "\n",
            "Training completed. Do not forget to share your model on huggingface.co/models =)\n",
            "\n",
            "\n"
          ]
        },
        {
          "data": {
            "text/plain": [
              "TrainOutput(global_step=3270, training_loss=0.5767540113641582, metrics={'train_runtime': 16918.4457, 'train_samples_per_second': 6.167, 'train_steps_per_second': 0.193, 'total_flos': 1.2873093995838829e+19, 'train_loss': 0.5767540113641582, 'epoch': 30.0})"
            ]
          },
          "execution_count": null,
          "metadata": {},
          "output_type": "execute_result"
        }
      ]
    },
    {
      "cell_type": "markdown",
      "metadata": {
        "id": "a9q4mgMZplr_"
      },
      "source": [
        "The training loss and validation WER go down nicely."
      ]
    },
    {
      "cell_type": "markdown",
      "metadata": {
        "id": "4Ya7WEy0pd13"
      },
      "source": [
        "You can now upload the result of the training to the 🤗 Hub, just execute this instruction:"
      ]
    },
    {
      "cell_type": "code",
      "metadata": {
        "colab": {
          "background_save": true,
          "referenced_widgets": [
            "2d2f71d2c70d466cb9a0d3317fb3095e",
            "2e894a5b95cb489db8b27c6617fd9533"
          ]
        },
        "id": "ArG1Thf6NBWm",
        "outputId": "62ef1c3d-786c-4e25-f9c5-4020e71aa298"
      },
      "source": [
        "trainer.push_to_hub()"
      ],
      "execution_count": null,
      "outputs": [
        {
          "name": "stderr",
          "output_type": "stream",
          "text": [
            "Saving model checkpoint to wav2vec2-large-xls-r-300m-turkish-colab\n",
            "Configuration saved in wav2vec2-large-xls-r-300m-turkish-colab/config.json\n",
            "Model weights saved in wav2vec2-large-xls-r-300m-turkish-colab/pytorch_model.bin\n",
            "Configuration saved in wav2vec2-large-xls-r-300m-turkish-colab/preprocessor_config.json\n",
            "Several commits (2) will be pushed upstream.\n",
            "The progress bars may be unreliable.\n"
          ]
        },
        {
          "data": {
            "application/vnd.jupyter.widget-view+json": {
              "model_id": "2d2f71d2c70d466cb9a0d3317fb3095e",
              "version_major": 2,
              "version_minor": 0
            },
            "text/plain": [
              "Upload file pytorch_model.bin:   0%|          | 3.35k/1.18G [00:00<?, ?B/s]"
            ]
          },
          "metadata": {},
          "output_type": "display_data"
        },
        {
          "data": {
            "application/vnd.jupyter.widget-view+json": {
              "model_id": "2e894a5b95cb489db8b27c6617fd9533",
              "version_major": 2,
              "version_minor": 0
            },
            "text/plain": [
              "Upload file runs/Nov12_14-33-48_c2d4142f9305/events.out.tfevents.1636727730.c2d4142f9305.1468.0:  41%|####1   …"
            ]
          },
          "metadata": {},
          "output_type": "display_data"
        },
        {
          "name": "stderr",
          "output_type": "stream",
          "text": [
            "To https://huggingface.co/patrickvonplaten/wav2vec2-large-xls-r-300m-turkish-colab\n",
            "   56ebe74..fe76946  main -> main\n",
            "\n",
            "Dropping the following result as it does not have all the necessary field:\n",
            "{'dataset': {'name': 'common_voice', 'type': 'common_voice', 'args': 'tr'}}\n",
            "To https://huggingface.co/patrickvonplaten/wav2vec2-large-xls-r-300m-turkish-colab\n",
            "   fe76946..5f0d67b  main -> main\n",
            "\n"
          ]
        },
        {
          "data": {
            "application/vnd.google.colaboratory.intrinsic+json": {
              "type": "string"
            },
            "text/plain": [
              "'https://huggingface.co/patrickvonplaten/wav2vec2-large-xls-r-300m-turkish-colab/commit/fe769461e4e2fb9534740e6c278a0cfabf268474'"
            ]
          },
          "execution_count": null,
          "metadata": {},
          "output_type": "execute_result"
        }
      ]
    },
    {
      "cell_type": "markdown",
      "metadata": {
        "id": "RHIVc44_fY2N"
      },
      "source": [
        "You can now share this model with all your friends, family, favorite pets: they can all load it with the identifier \"your-username/the-name-you-picked\" so for instance:"
      ]
    },
    {
      "cell_type": "markdown",
      "metadata": {
        "id": "5lWWIKyBpx1h"
      },
      "source": [
        "```python\n",
        "from transformers import AutoModelForCTC, Wav2Vec2Processor\n",
        "\n",
        "model = AutoModelForCTC.from_pretrained(\"patrickvonplaten/wav2vec2-large-xls-r-300m-tr-colab\")\n",
        "processor = Wav2Vec2Processor.from_pretrained(\"patrickvonplaten/wav2vec2-large-xls-r-300m-tr-colab\")\n",
        "```"
      ]
    },
    {
      "cell_type": "markdown",
      "metadata": {
        "id": "pmi1cX0fRBit"
      },
      "source": [
        "For more examples of how XLS-R can be fine-tuned, please take a look at the [official speech recognition examples](https://github.com/huggingface/transformers/tree/master/examples/pytorch/speech-recognition#examples)."
      ]
    },
    {
      "cell_type": "markdown",
      "metadata": {
        "id": "L8b8Qkoy3KyS"
      },
      "source": [
        "### Evaluation\n",
        "\n",
        "As a final check, let's load the model and verify that it indeed has learned to transcribe Turkish speech.\n",
        "\n",
        "Let's first load the pretrained checkpoint."
      ]
    },
    {
      "cell_type": "code",
      "metadata": {
        "colab": {
          "background_save": true
        },
        "id": "R351I9IQp_9D",
        "outputId": "f2a2ee99-7db6-4962-e140-0107054102d3"
      },
      "source": [
        "model = Wav2Vec2ForCTC.from_pretrained(repo_name).to(\"cuda\")\n",
        "processor = Wav2Vec2Processor.from_pretrained(repo_name)"
      ],
      "execution_count": null,
      "outputs": [
        {
          "name": "stderr",
          "output_type": "stream",
          "text": [
            "loading configuration file wav2vec2-large-xls-r-300m-turkish-colab/config.json\n",
            "Model config Wav2Vec2Config {\n",
            "  \"_name_or_path\": \"facebook/wav2vec2-xls-r-300m\",\n",
            "  \"activation_dropout\": 0.0,\n",
            "  \"apply_spec_augment\": true,\n",
            "  \"architectures\": [\n",
            "    \"Wav2Vec2ForCTC\"\n",
            "  ],\n",
            "  \"attention_dropout\": 0.0,\n",
            "  \"bos_token_id\": 1,\n",
            "  \"classifier_proj_size\": 256,\n",
            "  \"codevector_dim\": 768,\n",
            "  \"contrastive_logits_temperature\": 0.1,\n",
            "  \"conv_bias\": true,\n",
            "  \"conv_dim\": [\n",
            "    512,\n",
            "    512,\n",
            "    512,\n",
            "    512,\n",
            "    512,\n",
            "    512,\n",
            "    512\n",
            "  ],\n",
            "  \"conv_kernel\": [\n",
            "    10,\n",
            "    3,\n",
            "    3,\n",
            "    3,\n",
            "    3,\n",
            "    2,\n",
            "    2\n",
            "  ],\n",
            "  \"conv_stride\": [\n",
            "    5,\n",
            "    2,\n",
            "    2,\n",
            "    2,\n",
            "    2,\n",
            "    2,\n",
            "    2\n",
            "  ],\n",
            "  \"ctc_loss_reduction\": \"mean\",\n",
            "  \"ctc_zero_infinity\": false,\n",
            "  \"diversity_loss_weight\": 0.1,\n",
            "  \"do_stable_layer_norm\": true,\n",
            "  \"eos_token_id\": 2,\n",
            "  \"feat_extract_activation\": \"gelu\",\n",
            "  \"feat_extract_dropout\": 0.0,\n",
            "  \"feat_extract_norm\": \"layer\",\n",
            "  \"feat_proj_dropout\": 0.0,\n",
            "  \"feat_quantizer_dropout\": 0.0,\n",
            "  \"final_dropout\": 0.0,\n",
            "  \"gradient_checkpointing\": false,\n",
            "  \"hidden_act\": \"gelu\",\n",
            "  \"hidden_dropout\": 0.0,\n",
            "  \"hidden_size\": 1024,\n",
            "  \"initializer_range\": 0.02,\n",
            "  \"intermediate_size\": 4096,\n",
            "  \"layer_norm_eps\": 1e-05,\n",
            "  \"layerdrop\": 0.0,\n",
            "  \"mask_feature_length\": 10,\n",
            "  \"mask_feature_prob\": 0.0,\n",
            "  \"mask_time_length\": 10,\n",
            "  \"mask_time_prob\": 0.05,\n",
            "  \"model_type\": \"wav2vec2\",\n",
            "  \"num_attention_heads\": 16,\n",
            "  \"num_codevector_groups\": 2,\n",
            "  \"num_codevectors_per_group\": 320,\n",
            "  \"num_conv_pos_embedding_groups\": 16,\n",
            "  \"num_conv_pos_embeddings\": 128,\n",
            "  \"num_feat_extract_layers\": 7,\n",
            "  \"num_hidden_layers\": 24,\n",
            "  \"num_negatives\": 100,\n",
            "  \"pad_token_id\": 36,\n",
            "  \"proj_codevector_dim\": 768,\n",
            "  \"torch_dtype\": \"float32\",\n",
            "  \"transformers_version\": \"4.11.3\",\n",
            "  \"use_weighted_layer_sum\": false,\n",
            "  \"vocab_size\": 39\n",
            "}\n",
            "\n",
            "loading weights file wav2vec2-large-xls-r-300m-turkish-colab/pytorch_model.bin\n",
            "All model checkpoint weights were used when initializing Wav2Vec2ForCTC.\n",
            "\n",
            "All the weights of Wav2Vec2ForCTC were initialized from the model checkpoint at wav2vec2-large-xls-r-300m-turkish-colab.\n",
            "If your task is similar to the task the model of the checkpoint was trained on, you can already use Wav2Vec2ForCTC for predictions without further training.\n",
            "loading feature extractor configuration file wav2vec2-large-xls-r-300m-turkish-colab/preprocessor_config.json\n",
            "Feature extractor Wav2Vec2FeatureExtractor {\n",
            "  \"do_normalize\": true,\n",
            "  \"feature_extractor_type\": \"Wav2Vec2FeatureExtractor\",\n",
            "  \"feature_size\": 1,\n",
            "  \"padding_side\": \"right\",\n",
            "  \"padding_value\": 0.0,\n",
            "  \"return_attention_mask\": true,\n",
            "  \"sampling_rate\": 16000\n",
            "}\n",
            "\n",
            "Didn't find file wav2vec2-large-xls-r-300m-turkish-colab/tokenizer.json. We won't load it.\n",
            "loading file wav2vec2-large-xls-r-300m-turkish-colab/vocab.json\n",
            "loading file wav2vec2-large-xls-r-300m-turkish-colab/tokenizer_config.json\n",
            "loading file wav2vec2-large-xls-r-300m-turkish-colab/added_tokens.json\n",
            "loading file wav2vec2-large-xls-r-300m-turkish-colab/special_tokens_map.json\n",
            "loading file None\n",
            "Adding <s> to the vocabulary\n",
            "Adding </s> to the vocabulary\n"
          ]
        }
      ]
    },
    {
      "cell_type": "markdown",
      "metadata": {
        "id": "jD7TZ1YS3S_K"
      },
      "source": [
        "\n",
        "Now, we will just take the first example of the test set, run it through the model and take the `argmax(...)` of the logits to retrieve the predicted token ids."
      ]
    },
    {
      "cell_type": "code",
      "metadata": {
        "colab": {
          "background_save": true
        },
        "id": "pax07TnL3WZn",
        "outputId": "867787ff-0cb7-41e9-f926-96f7b53e7134"
      },
      "source": [
        "input_dict = processor(common_voice_test[0][\"input_values\"], return_tensors=\"pt\", padding=True)\n",
        "\n",
        "logits = model(input_dict.input_values.to(\"cuda\")).logits\n",
        "\n",
        "pred_ids = torch.argmax(logits, dim=-1)[0]"
      ],
      "execution_count": null,
      "outputs": [
        {
          "name": "stderr",
          "output_type": "stream",
          "text": [
            "It is strongly recommended to pass the ``sampling_rate`` argument to this function.Failing to do so can result in silent errors that might be hard to debug.\n"
          ]
        }
      ]
    },
    {
      "cell_type": "markdown",
      "metadata": {
        "id": "7nkzSQu53Zs2"
      },
      "source": [
        "We adapted `common_voice_test` quite a bit so that the dataset instance does not contain the original sentence label anymore. Thus, we re-use the original dataset to get the label of the first example."
      ]
    },
    {
      "cell_type": "code",
      "metadata": {
        "colab": {
          "background_save": true,
          "referenced_widgets": [
            "54097a6c744849128d7cc3da8aad6609",
            "b8827ecbec9e44f09216f62c1ee12840",
            "8728bb32478240b7abe576375b01e640",
            "19b8a530352a423794395979e6415bea",
            "5fc8ec04870e4bb7b63b20844c355ab6"
          ]
        },
        "id": "fe2AE-2xqKHx",
        "outputId": "1d8321b3-4f41-4d71-e74e-f33f32a7b261"
      },
      "source": [
        "common_voice_test_transcription = load_dataset(\"common_voice\", \"tr\", data_dir=\"./cv-corpus-6.1-2020-12-11\", split=\"test\")"
      ],
      "execution_count": null,
      "outputs": [
        {
          "name": "stderr",
          "output_type": "stream",
          "text": [
            "Using custom data configuration tr-ad9f7b76efa9f3a0\n"
          ]
        },
        {
          "name": "stdout",
          "output_type": "stream",
          "text": [
            "Downloading and preparing dataset common_voice/tr (download: 592.09 MiB, generated: 2.89 MiB, post-processed: Unknown size, total: 594.98 MiB) to /root/.cache/huggingface/datasets/common_voice/tr-ad9f7b76efa9f3a0/6.1.0/f7a9d973839b7706e9e281c19b7e512f31badf3c0fdbd21c671f3c4bf9acf3b9...\n"
          ]
        },
        {
          "data": {
            "application/vnd.jupyter.widget-view+json": {
              "model_id": "54097a6c744849128d7cc3da8aad6609",
              "version_major": 2,
              "version_minor": 0
            },
            "text/plain": [
              "0 examples [00:00, ? examples/s]"
            ]
          },
          "metadata": {},
          "output_type": "display_data"
        },
        {
          "data": {
            "application/vnd.jupyter.widget-view+json": {
              "model_id": "b8827ecbec9e44f09216f62c1ee12840",
              "version_major": 2,
              "version_minor": 0
            },
            "text/plain": [
              "0 examples [00:00, ? examples/s]"
            ]
          },
          "metadata": {},
          "output_type": "display_data"
        },
        {
          "data": {
            "application/vnd.jupyter.widget-view+json": {
              "model_id": "8728bb32478240b7abe576375b01e640",
              "version_major": 2,
              "version_minor": 0
            },
            "text/plain": [
              "0 examples [00:00, ? examples/s]"
            ]
          },
          "metadata": {},
          "output_type": "display_data"
        },
        {
          "data": {
            "application/vnd.jupyter.widget-view+json": {
              "model_id": "19b8a530352a423794395979e6415bea",
              "version_major": 2,
              "version_minor": 0
            },
            "text/plain": [
              "0 examples [00:00, ? examples/s]"
            ]
          },
          "metadata": {},
          "output_type": "display_data"
        },
        {
          "data": {
            "application/vnd.jupyter.widget-view+json": {
              "model_id": "5fc8ec04870e4bb7b63b20844c355ab6",
              "version_major": 2,
              "version_minor": 0
            },
            "text/plain": [
              "0 examples [00:00, ? examples/s]"
            ]
          },
          "metadata": {},
          "output_type": "display_data"
        },
        {
          "name": "stdout",
          "output_type": "stream",
          "text": [
            "Dataset common_voice downloaded and prepared to /root/.cache/huggingface/datasets/common_voice/tr-ad9f7b76efa9f3a0/6.1.0/f7a9d973839b7706e9e281c19b7e512f31badf3c0fdbd21c671f3c4bf9acf3b9. Subsequent calls will reuse this data.\n"
          ]
        }
      ]
    },
    {
      "cell_type": "markdown",
      "metadata": {
        "id": "epu8kCQZ3h70"
      },
      "source": [
        "\n",
        "Finally, we can decode the example."
      ]
    },
    {
      "cell_type": "code",
      "metadata": {
        "colab": {
          "background_save": true
        },
        "id": "K4xWqmk_qMn0",
        "outputId": "d9e40b3c-f02a-48a1-d081-6d7e8b37dcaf"
      },
      "source": [
        "print(\"Prediction:\")\n",
        "print(processor.decode(pred_ids))\n",
        "\n",
        "print(\"\\nReference:\")\n",
        "print(common_voice_test_transcription[0][\"sentence\"].lower())"
      ],
      "execution_count": null,
      "outputs": [
        {
          "name": "stdout",
          "output_type": "stream",
          "text": [
            "Prediction:\n",
            "ha ta küçük şeyleri için bir büyük biş şeylir koğoluyor ve yeneküçük şeyler için bir birmizi incilkiyoruz\n",
            "\n",
            "Reference:\n",
            "hayatta küçük şeyleri kovalıyor ve yine küçük şeyler için birbirimizi incitiyoruz.\n"
          ]
        }
      ]
    },
    {
      "cell_type": "markdown",
      "metadata": {
        "id": "HwhyoMml3oOT"
      },
      "source": [
        "Alright! The transcription can definitely be recognized from our prediction, but it is not perfect yet. Training the model a bit longer, spending more time on the data preprocessing, and especially using a language model for decoding would certainly improve the model's overall performance.\n",
        "\n",
        "For a demonstration model on a low-resource language, the results are quite acceptable however 🤗."
      ]
    }
  ]
}