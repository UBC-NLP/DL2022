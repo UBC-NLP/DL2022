{
 "cells": [
  {
   "cell_type": "markdown",
   "metadata": {
    "id": "DhXMAX-GVDrM"
   },
   "source": [
    "# Seq2seq model with Attention mechanism - Machine Translation"
   ]
  },
  {
   "cell_type": "markdown",
   "metadata": {
    "id": "uZhag4zZVqNw"
   },
   "source": [
    "### Tutorial Topics\n",
    "- Seq2seq model with Attention mechanism\n",
    "\n",
    "### Software Requirements\n",
    "- Python (>=3.6)\n",
    "- PyTorch (>=1.2.0) \n",
    "- Jupyter (latest)\n",
    "- torchtext\n",
    "- NLTK"
   ]
  },
  {
   "cell_type": "code",
   "execution_count": 1,
   "metadata": {
    "colab": {
     "base_uri": "https://localhost:8080/"
    },
    "id": "JfKVeag_VrXe",
    "outputId": "e3a9fa2f-9863-470c-cc3d-8610e53be4a4"
   },
   "outputs": [
    {
     "name": "stdout",
     "output_type": "stream",
     "text": [
      "Mounted at /content/drive\n"
     ]
    }
   ],
   "source": [
    "from google.colab import drive\n",
    "drive.mount('/content/drive')"
   ]
  },
  {
   "cell_type": "markdown",
   "metadata": {
    "id": "q0uFyPe6WRqg"
   },
   "source": [
    "## Seq2seq model - Quick recap\n",
    "\n",
    "![](https://drive.google.com/uc?id=1psT_kFqs0LowO5GFkjiAMDB-iOkpbXcT)\n",
    "\n",
    "In the last week, we implemented the seq2seq model which had a encoder that consumes the source sentence (one token at a time) and a decoder that emits the target sentence (one token at a time). Although we used LSTM as our underlying encoder and decoder, the encoder/decoder can be a RNN, GRU, LSTM or [Transformer](https://arxiv.org/abs/1706.03762) (which we will see later in the course). In a standard seq2seq model, the hidden state of the decoder at the first timestep is initialized with the hidden state of the encoder at the last timestep (which we referred as **context** vector). Essentially, this context vector can summarize the information present in the source sentence, which is used by the decoder as a reference when it emits a target token.\n",
    "\n",
    "Note that the figures in this tutorial are adapted from [CS224D](http://web.stanford.edu/class/cs224n/slides/cs224n-2020-lecture08-nmt.pdf).\n",
    "\n",
    "\n"
   ]
  },
  {
   "cell_type": "markdown",
   "metadata": {
    "id": "CYY0W0PRbcZM"
   },
   "source": [
    "## Seq2seq model with Attention mechanism\n",
    "\n",
    "### Problem with traditional seq2seq\n",
    "\n",
    "![](https://drive.google.com/uc?id=15PsbweisDlhmd9YNoyW4dWfvtAyB--Zl)\n",
    "\n",
    "The fixed-length **context vector** carries the burden of encoding the complete \"meaning\" of the input sequence, regardless of its length. This causes **information bottleneck** problem. Attention provides a solution to the bottleneck problem."
   ]
  },
  {
   "cell_type": "markdown",
   "metadata": {
    "id": "xjIUFsg6E6yI"
   },
   "source": [
    "### Attention mechanism (Informal)\n",
    "*Core idea of attention:* On each step of the decoder, we use **direct connection to the encoder** to **focus on a particular part** of the source sequence.\n",
    "\n",
    "We perform a dot product of the current decoder hidden state with each encoder hidden state. And the resulting scores are called as **attention scores**.\n",
    "\n",
    "![](https://drive.google.com/uc?id=1qQGZKd6k-FwAE86q0W9DTNTD9xpQgt7W)\n",
    "\n",
    "![](https://drive.google.com/uc?id=1okSgLpyo4yZFbIJ05k86fhjET7mrU3Ng)\n",
    "\n",
    "These attention scores are unnormalized and hence need to be converted to a probability distribution using softmax to get **attention distribution**.\n",
    "\n",
    "![](https://drive.google.com/uc?id=1FhS88tXfOGep8gYjg7mK0QYTYRSBH0mw)\n",
    "\n",
    "In the attention distribution, the attention probabilities corresponding to the source tokens will be high for the tokens that the decoder at a given timestep wants to focus on. In our example, the decoder at the first timestep after consuming the `start` token focusses more on the source token `j'aime` to output the target token `I`.\n",
    "\n",
    "![](https://drive.google.com/uc?id=19Eu6e-PSPHArsMeuVIwgbYPuTbwsNfU1)\n",
    "\n",
    "We use the probabilities from the attention distribution to perform a weighted sum of the encoder hidden states. This weighted sum is called as **attention output** or **context vector**. This attention output mostly contains information from the hidden states that received high attention.\n",
    "\n",
    "![](https://drive.google.com/uc?id=1Aiq9dL9Pom2rJNTwzukIApB6YsPGxJmy)\n",
    "\n",
    "We concatenate the **attention output** (**context vector**) with the current decoder input embedding, feed it to the RNN and predict the target token (`I` for the first timestep of the decoder).\n",
    "\n",
    "![](https://drive.google.com/uc?id=1FzcRoBccsDKQfAC4PmWx5gzqXYEImwQ-)\n",
    "\n",
    "And we repeat these steps (computing attention scores, attention distribution, attention outputs, concatenation with the current decoder input embedding) on each timestep of the decoder.\n",
    "\n",
    "![](https://drive.google.com/uc?id=1pdtYVb4aHZ6kY310biggab3Ig0oj7Si9)\n"
   ]
  },
  {
   "cell_type": "markdown",
   "metadata": {
    "id": "PcvaO8KSqAx6"
   },
   "source": [
    "### Attention mechanism in machine Translation (Formal)\n",
    "\n",
    "Let us formalize some of the concepts underlying attention mechanism. \n",
    "\n",
    "* We have **encoder** hidden states, $h_1,\\dots,h_j,\\dots,h_T \\in \\mathcal{R}^h$\n",
    "* On timestep $t$, we have decoder hidden state, $s_t \\in \\mathcal{R}^h$  (where $s_0 = h_T$)\n",
    "* We have the **attention score** for a decoder hidden state and an encoder hidden state, $e_{ij} = a(s_{i-1}, h_j) = s_{i-1}^Th_j \\in \\mathcal{R}$\n",
    "* We can get the attention score vector for a decoder hidden state, $e_{i} = [e_{i1},\\dots,e_{ij},\\dots,e_{iT}] \\in \\mathcal{R}^T$ \n",
    "* We take **softmax** of the attention score vector to get the attention distribution, $\\alpha_{i} = softmax(e_{i}) \\in \\mathcal{R}^T$ \n",
    "* We use $\\alpha_{i}$ to take a **weighted sum** of the encoder hidden states to get the attention output or context vector, $c_{i} = \\sum_{j=1}^T \\alpha_{ij} h_j  \\in \\mathcal{R}^h$\n",
    "\n",
    "![](https://drive.google.com/uc?id=1uCfSNcIFazs1s_tFT6j5tfwgo2k5mir4)\n",
    "\n",
    "### Different ways to compute attention scores\n",
    "\n",
    "For a given decoder hidden state $s_{i-1}$ and encoder hidden state $h_j$, we compute attention score, $e_{ij} = s_{i-1}^Th_j \\in \\mathcal{R}$. This way of using dot product to compute attention was introduced by [Luong et al. 2015](https://arxiv.org/abs/1508.04025) and referred in the literature as **Dot-Product/multiplicative** attention. \n",
    "\n",
    "However, the first paper which introduced attention mechanism was [Bahdanau et al. 2015](https://arxiv.org/abs/1409.0473). They compute the attention score in the following way, $e_{ij} = v_a tanh (W_a [s_{i-1};h_j;]) \\in \\mathcal{R}$ where $W_a \\in \\mathcal{R}^{h\\times 2h}$ and $v_a \\in \\mathcal{R}^{1\\times h}$. We will be using **Bahdanau's concatenative/additive attention** in this tutorial. (Note: Bahdanau's is referred to as \"concatenative/additive\" to distinguish it from Luong's Dot-Product/multiplicative attention. \n"
   ]
  },
  {
   "cell_type": "markdown",
   "metadata": {},
   "source": [
    "In this tutorial, we will implement the seq2seq model with attention mechanism for French to English translation task (the same task we considered in the last week). Hence, there are overlap of many pieces of today's code with that of last week. :-)\n",
    "\n",
    "The sections which are taken from the previous tutorial include:\n",
    "* Preparing Data\n",
    "* Encoder (1 or few lines different)\n",
    "* Training the Seq2Seq Model\n",
    "* Testing Model (1 or few lines different)\n"
   ]
  },
  {
   "cell_type": "markdown",
   "metadata": {
    "id": "0Sh0ET7IeFmh"
   },
   "source": [
    "### Required libraries"
   ]
  },
  {
   "cell_type": "code",
   "execution_count": 2,
   "metadata": {
    "id": "clwdxVuneSTA"
   },
   "outputs": [],
   "source": [
    "import unicodedata\n",
    "import string\n",
    "import re\n",
    "import random\n",
    "import time\n",
    "import datetime\n",
    "import math\n",
    "\n",
    "import torch\n",
    "import torch.nn as nn\n",
    "from torch.autograd import Variable\n",
    "from torch import optim\n",
    "import torch.nn.functional as F\n",
    "from torch.nn.utils.rnn import pad_packed_sequence, pack_padded_sequence\n",
    "import torchtext\n",
    "from torchtext.legacy import data\n",
    "\n",
    "import spacy\n",
    "import numpy as np"
   ]
  },
  {
   "cell_type": "markdown",
   "metadata": {
    "id": "WdfJJrReer2i"
   },
   "source": [
    "### Preparing Data"
   ]
  },
  {
   "cell_type": "markdown",
   "metadata": {
    "id": "GjjiWspFgOd_"
   },
   "source": [
    "***Define tokenizers:***\n",
    "we create the tokenizers. A tokenizer is used to turn a string containing a sentence into a list of individual tokens that make up that string.\n",
    "\n",
    "spaCy has model for each language (\"fr\" for French and \"en\" for English) which need to be loaded so we can access the tokenizer of each model."
   ]
  },
  {
   "cell_type": "markdown",
   "metadata": {
    "id": "xGVqp8nAgalP"
   },
   "source": [
    "***Note***: the models must first be downloaded using the following on the command line:\n",
    "\n"
   ]
  },
  {
   "cell_type": "code",
   "execution_count": 3,
   "metadata": {
    "colab": {
     "base_uri": "https://localhost:8080/"
    },
    "id": "DMTM6MOBgPMt",
    "outputId": "891506b8-af60-4c9e-b6af-126b29d3b548"
   },
   "outputs": [
    {
     "name": "stdout",
     "output_type": "stream",
     "text": [
      "Collecting en_core_web_sm==2.2.5\n",
      "  Downloading https://github.com/explosion/spacy-models/releases/download/en_core_web_sm-2.2.5/en_core_web_sm-2.2.5.tar.gz (12.0 MB)\n",
      "\u001b[K     |████████████████████████████████| 12.0 MB 5.2 MB/s \n",
      "\u001b[?25hRequirement already satisfied: spacy>=2.2.2 in /usr/local/lib/python3.7/dist-packages (from en_core_web_sm==2.2.5) (2.2.4)\n",
      "Requirement already satisfied: catalogue<1.1.0,>=0.0.7 in /usr/local/lib/python3.7/dist-packages (from spacy>=2.2.2->en_core_web_sm==2.2.5) (1.0.0)\n",
      "Requirement already satisfied: setuptools in /usr/local/lib/python3.7/dist-packages (from spacy>=2.2.2->en_core_web_sm==2.2.5) (57.4.0)\n",
      "Requirement already satisfied: preshed<3.1.0,>=3.0.2 in /usr/local/lib/python3.7/dist-packages (from spacy>=2.2.2->en_core_web_sm==2.2.5) (3.0.6)\n",
      "Requirement already satisfied: murmurhash<1.1.0,>=0.28.0 in /usr/local/lib/python3.7/dist-packages (from spacy>=2.2.2->en_core_web_sm==2.2.5) (1.0.6)\n",
      "Requirement already satisfied: cymem<2.1.0,>=2.0.2 in /usr/local/lib/python3.7/dist-packages (from spacy>=2.2.2->en_core_web_sm==2.2.5) (2.0.6)\n",
      "Requirement already satisfied: numpy>=1.15.0 in /usr/local/lib/python3.7/dist-packages (from spacy>=2.2.2->en_core_web_sm==2.2.5) (1.21.5)\n",
      "Requirement already satisfied: thinc==7.4.0 in /usr/local/lib/python3.7/dist-packages (from spacy>=2.2.2->en_core_web_sm==2.2.5) (7.4.0)\n",
      "Requirement already satisfied: plac<1.2.0,>=0.9.6 in /usr/local/lib/python3.7/dist-packages (from spacy>=2.2.2->en_core_web_sm==2.2.5) (1.1.3)\n",
      "Requirement already satisfied: tqdm<5.0.0,>=4.38.0 in /usr/local/lib/python3.7/dist-packages (from spacy>=2.2.2->en_core_web_sm==2.2.5) (4.62.3)\n",
      "Requirement already satisfied: blis<0.5.0,>=0.4.0 in /usr/local/lib/python3.7/dist-packages (from spacy>=2.2.2->en_core_web_sm==2.2.5) (0.4.1)\n",
      "Requirement already satisfied: requests<3.0.0,>=2.13.0 in /usr/local/lib/python3.7/dist-packages (from spacy>=2.2.2->en_core_web_sm==2.2.5) (2.23.0)\n",
      "Requirement already satisfied: srsly<1.1.0,>=1.0.2 in /usr/local/lib/python3.7/dist-packages (from spacy>=2.2.2->en_core_web_sm==2.2.5) (1.0.5)\n",
      "Requirement already satisfied: wasabi<1.1.0,>=0.4.0 in /usr/local/lib/python3.7/dist-packages (from spacy>=2.2.2->en_core_web_sm==2.2.5) (0.9.0)\n",
      "Requirement already satisfied: importlib-metadata>=0.20 in /usr/local/lib/python3.7/dist-packages (from catalogue<1.1.0,>=0.0.7->spacy>=2.2.2->en_core_web_sm==2.2.5) (4.11.1)\n",
      "Requirement already satisfied: zipp>=0.5 in /usr/local/lib/python3.7/dist-packages (from importlib-metadata>=0.20->catalogue<1.1.0,>=0.0.7->spacy>=2.2.2->en_core_web_sm==2.2.5) (3.7.0)\n",
      "Requirement already satisfied: typing-extensions>=3.6.4 in /usr/local/lib/python3.7/dist-packages (from importlib-metadata>=0.20->catalogue<1.1.0,>=0.0.7->spacy>=2.2.2->en_core_web_sm==2.2.5) (3.10.0.2)\n",
      "Requirement already satisfied: urllib3!=1.25.0,!=1.25.1,<1.26,>=1.21.1 in /usr/local/lib/python3.7/dist-packages (from requests<3.0.0,>=2.13.0->spacy>=2.2.2->en_core_web_sm==2.2.5) (1.24.3)\n",
      "Requirement already satisfied: chardet<4,>=3.0.2 in /usr/local/lib/python3.7/dist-packages (from requests<3.0.0,>=2.13.0->spacy>=2.2.2->en_core_web_sm==2.2.5) (3.0.4)\n",
      "Requirement already satisfied: certifi>=2017.4.17 in /usr/local/lib/python3.7/dist-packages (from requests<3.0.0,>=2.13.0->spacy>=2.2.2->en_core_web_sm==2.2.5) (2021.10.8)\n",
      "Requirement already satisfied: idna<3,>=2.5 in /usr/local/lib/python3.7/dist-packages (from requests<3.0.0,>=2.13.0->spacy>=2.2.2->en_core_web_sm==2.2.5) (2.10)\n",
      "\u001b[38;5;2m✔ Download and installation successful\u001b[0m\n",
      "You can now load the model via spacy.load('en_core_web_sm')\n",
      "Collecting fr_core_news_sm==2.2.5\n",
      "  Downloading https://github.com/explosion/spacy-models/releases/download/fr_core_news_sm-2.2.5/fr_core_news_sm-2.2.5.tar.gz (14.7 MB)\n",
      "\u001b[K     |████████████████████████████████| 14.7 MB 5.2 MB/s \n",
      "\u001b[?25hRequirement already satisfied: spacy>=2.2.2 in /usr/local/lib/python3.7/dist-packages (from fr_core_news_sm==2.2.5) (2.2.4)\n",
      "Requirement already satisfied: murmurhash<1.1.0,>=0.28.0 in /usr/local/lib/python3.7/dist-packages (from spacy>=2.2.2->fr_core_news_sm==2.2.5) (1.0.6)\n",
      "Requirement already satisfied: wasabi<1.1.0,>=0.4.0 in /usr/local/lib/python3.7/dist-packages (from spacy>=2.2.2->fr_core_news_sm==2.2.5) (0.9.0)\n",
      "Requirement already satisfied: blis<0.5.0,>=0.4.0 in /usr/local/lib/python3.7/dist-packages (from spacy>=2.2.2->fr_core_news_sm==2.2.5) (0.4.1)\n",
      "Requirement already satisfied: srsly<1.1.0,>=1.0.2 in /usr/local/lib/python3.7/dist-packages (from spacy>=2.2.2->fr_core_news_sm==2.2.5) (1.0.5)\n",
      "Requirement already satisfied: thinc==7.4.0 in /usr/local/lib/python3.7/dist-packages (from spacy>=2.2.2->fr_core_news_sm==2.2.5) (7.4.0)\n",
      "Requirement already satisfied: cymem<2.1.0,>=2.0.2 in /usr/local/lib/python3.7/dist-packages (from spacy>=2.2.2->fr_core_news_sm==2.2.5) (2.0.6)\n",
      "Requirement already satisfied: requests<3.0.0,>=2.13.0 in /usr/local/lib/python3.7/dist-packages (from spacy>=2.2.2->fr_core_news_sm==2.2.5) (2.23.0)\n",
      "Requirement already satisfied: catalogue<1.1.0,>=0.0.7 in /usr/local/lib/python3.7/dist-packages (from spacy>=2.2.2->fr_core_news_sm==2.2.5) (1.0.0)\n",
      "Requirement already satisfied: setuptools in /usr/local/lib/python3.7/dist-packages (from spacy>=2.2.2->fr_core_news_sm==2.2.5) (57.4.0)\n",
      "Requirement already satisfied: tqdm<5.0.0,>=4.38.0 in /usr/local/lib/python3.7/dist-packages (from spacy>=2.2.2->fr_core_news_sm==2.2.5) (4.62.3)\n",
      "Requirement already satisfied: numpy>=1.15.0 in /usr/local/lib/python3.7/dist-packages (from spacy>=2.2.2->fr_core_news_sm==2.2.5) (1.21.5)\n",
      "Requirement already satisfied: plac<1.2.0,>=0.9.6 in /usr/local/lib/python3.7/dist-packages (from spacy>=2.2.2->fr_core_news_sm==2.2.5) (1.1.3)\n",
      "Requirement already satisfied: preshed<3.1.0,>=3.0.2 in /usr/local/lib/python3.7/dist-packages (from spacy>=2.2.2->fr_core_news_sm==2.2.5) (3.0.6)\n",
      "Requirement already satisfied: importlib-metadata>=0.20 in /usr/local/lib/python3.7/dist-packages (from catalogue<1.1.0,>=0.0.7->spacy>=2.2.2->fr_core_news_sm==2.2.5) (4.11.1)\n",
      "Requirement already satisfied: zipp>=0.5 in /usr/local/lib/python3.7/dist-packages (from importlib-metadata>=0.20->catalogue<1.1.0,>=0.0.7->spacy>=2.2.2->fr_core_news_sm==2.2.5) (3.7.0)\n",
      "Requirement already satisfied: typing-extensions>=3.6.4 in /usr/local/lib/python3.7/dist-packages (from importlib-metadata>=0.20->catalogue<1.1.0,>=0.0.7->spacy>=2.2.2->fr_core_news_sm==2.2.5) (3.10.0.2)\n",
      "Requirement already satisfied: certifi>=2017.4.17 in /usr/local/lib/python3.7/dist-packages (from requests<3.0.0,>=2.13.0->spacy>=2.2.2->fr_core_news_sm==2.2.5) (2021.10.8)\n",
      "Requirement already satisfied: chardet<4,>=3.0.2 in /usr/local/lib/python3.7/dist-packages (from requests<3.0.0,>=2.13.0->spacy>=2.2.2->fr_core_news_sm==2.2.5) (3.0.4)\n",
      "Requirement already satisfied: urllib3!=1.25.0,!=1.25.1,<1.26,>=1.21.1 in /usr/local/lib/python3.7/dist-packages (from requests<3.0.0,>=2.13.0->spacy>=2.2.2->fr_core_news_sm==2.2.5) (1.24.3)\n",
      "Requirement already satisfied: idna<3,>=2.5 in /usr/local/lib/python3.7/dist-packages (from requests<3.0.0,>=2.13.0->spacy>=2.2.2->fr_core_news_sm==2.2.5) (2.10)\n",
      "Building wheels for collected packages: fr-core-news-sm\n",
      "  Building wheel for fr-core-news-sm (setup.py) ... \u001b[?25l\u001b[?25hdone\n",
      "  Created wheel for fr-core-news-sm: filename=fr_core_news_sm-2.2.5-py3-none-any.whl size=14727025 sha256=93e7e4802038637634a8daa6f93bfc0c9a670fab61f664443d7a4859a656902f\n",
      "  Stored in directory: /tmp/pip-ephem-wheel-cache-0etvff88/wheels/c9/a6/ea/0778337c34660027ee67ef3a91fb9d3600b76777a912ea1c24\n",
      "Successfully built fr-core-news-sm\n",
      "Installing collected packages: fr-core-news-sm\n",
      "Successfully installed fr-core-news-sm-2.2.5\n",
      "\u001b[38;5;2m✔ Download and installation successful\u001b[0m\n",
      "You can now load the model via spacy.load('fr_core_news_sm')\n"
     ]
    }
   ],
   "source": [
    "!python -m spacy download en_core_web_sm\n",
    "!python -m spacy download fr_core_news_sm"
   ]
  },
  {
   "cell_type": "code",
   "execution_count": 4,
   "metadata": {
    "id": "IFOAJUmmL8ja"
   },
   "outputs": [],
   "source": [
    "import fr_core_news_sm\n",
    "import en_core_web_sm\n",
    "\n",
    "spacy_fr = fr_core_news_sm.load()\n",
    "spacy_en = en_core_web_sm.load()"
   ]
  },
  {
   "cell_type": "markdown",
   "metadata": {
    "id": "9P3NOWhniaqs"
   },
   "source": [
    "Next, we create the tokenizer functions. These can be passed to TorchText and will take in the sentence as a string and return the sentence as a list of tokens."
   ]
  },
  {
   "cell_type": "code",
   "execution_count": 5,
   "metadata": {
    "id": "08rtKxjOib9R"
   },
   "outputs": [],
   "source": [
    "def tokenize_fr(text):\n",
    "    \"\"\"\n",
    "    Tokenizes French text from a string into a list of strings (tokens)\n",
    "    \"\"\"\n",
    "    return [tok.text for tok in spacy_fr.tokenizer(text)]\n",
    "\n",
    "def tokenize_en(text):\n",
    "    \"\"\"\n",
    "    Tokenizes English text from a string into a list of strings (tokens)\n",
    "    \"\"\"\n",
    "    return [tok.text for tok in spacy_en.tokenizer(text)]"
   ]
  },
  {
   "cell_type": "markdown",
   "metadata": {
    "id": "EAsmzq6mh5GR"
   },
   "source": [
    "`TorchText`'s Fields handle how data should be processed. You can read all of the possible arguments [here](https://github.com/pytorch/text/blob/master/torchtext/data/field.py#L61).\n",
    "\n",
    "We set the tokenize argument to the corresponding tokenization function for each, with French being the `SRC` (source) field and English being the `TRG` (target) field. The field also appends the \"start of sequence\" (\\<sos\\>) and \"end of sequence\" (\\<eos\\>) tokens via the `init_token` and `eos_token` arguments, and converts all words to lowercase."
   ]
  },
  {
   "cell_type": "code",
   "execution_count": 6,
   "metadata": {
    "id": "UkfnsQ2QgdUq"
   },
   "outputs": [],
   "source": [
    "SRC = data.Field(tokenize = tokenize_fr, \n",
    "            # init_token = '<sos>', # since initial encoder hidden state is always set to zero, the network can figure out that the time step is 0 and this token is optional\n",
    "            eos_token = '<eos>', \n",
    "            lower = True)\n",
    "TRG = data.Field(tokenize = tokenize_en, \n",
    "            init_token = '<sos>', \n",
    "            eos_token = '<eos>', \n",
    "            lower = True)"
   ]
  },
  {
   "cell_type": "markdown",
   "metadata": {
    "id": "RMAlQrMyiiaQ"
   },
   "source": [
    "Next, we load the train, validation and test data.\n",
    "\n",
    "The dataset we'll be using is the [Multi30k](https://github.com/multi30k/dataset) dataset. This is a dataset with ~30,000 parallel English, French and German sentences. The length of sentence is around 12 words. You can find more information in [WMT18](http://www.statmt.org/wmt18/multimodal-task.html). This corpus was officially split to Training (29,000 sentences), Validation (1,014 sentences), and multiple Test sets. We provide Test 2016 (1,000 sentences). \n",
    "\n",
    "I extracted the raw dataset to three `.tsv` files. Each file includes two column, 'English' and 'French'. We use `torchtext.legacy.data.TabularDataset` to load these tsv files. "
   ]
  },
  {
   "cell_type": "code",
   "execution_count": 7,
   "metadata": {
    "id": "IFJj-J3dgdW8"
   },
   "outputs": [],
   "source": [
    "train, val, test = data.TabularDataset.splits(\n",
    "    path='./drive/MyDrive/Colab Notebooks/eng-fre/', train='train_eng_fre.tsv',validation='val_eng_fre.tsv', test='test_eng_fre.tsv', \n",
    "    format='tsv', skip_header=True, fields=[('TRG', TRG), ('SRC', SRC)])"
   ]
  },
  {
   "cell_type": "markdown",
   "metadata": {
    "id": "t2kaJKuFuf5f"
   },
   "source": [
    "We can double check that we've loaded the right number of examples:"
   ]
  },
  {
   "cell_type": "code",
   "execution_count": 8,
   "metadata": {
    "colab": {
     "base_uri": "https://localhost:8080/"
    },
    "id": "Y6z3-PGFiltd",
    "outputId": "2743f3ba-5f99-453a-b1b3-b7bebac04f04"
   },
   "outputs": [
    {
     "name": "stdout",
     "output_type": "stream",
     "text": [
      "Number of training examples: 29000\n",
      "Number of validation examples: 1014\n",
      "Number of testing examples: 1000\n"
     ]
    }
   ],
   "source": [
    "print(f\"Number of training examples: {len(train.examples)}\")\n",
    "print(f\"Number of validation examples: {len(val.examples)}\")\n",
    "print(f\"Number of testing examples: {len(test.examples)}\")"
   ]
  },
  {
   "cell_type": "markdown",
   "metadata": {
    "id": "sAANpX8XupAw"
   },
   "source": [
    "We can also print out an example:"
   ]
  },
  {
   "cell_type": "code",
   "execution_count": 9,
   "metadata": {
    "colab": {
     "base_uri": "https://localhost:8080/"
    },
    "id": "NMek-UIvuphm",
    "outputId": "66a83079-3630-4cc2-86d3-8ea6971e32ab"
   },
   "outputs": [
    {
     "name": "stdout",
     "output_type": "stream",
     "text": [
      "{'TRG': ['two', 'young', ',', 'white', 'males', 'are', 'outside', 'near', 'many', 'bushes', '.'], 'SRC': ['deux', 'jeunes', 'hommes', 'blancs', 'sont', 'dehors', 'près', 'de', 'buissons', '.']}\n"
     ]
    }
   ],
   "source": [
    "print(vars(train.examples[0]))"
   ]
  },
  {
   "cell_type": "code",
   "execution_count": 10,
   "metadata": {
    "colab": {
     "base_uri": "https://localhost:8080/"
    },
    "id": "-eOFGMVQuqwj",
    "outputId": "c2092706-e75e-4aa1-e8df-48d6346a9f75"
   },
   "outputs": [
    {
     "name": "stdout",
     "output_type": "stream",
     "text": [
      "{'TRG': ['an', 'older', ',', 'overweight', 'man', 'flips', 'a', 'pancake', 'while', 'making', 'breakfast', '.'], 'SRC': ['un', 'homme', 'âgé', 'en', 'surpoids', 'fait', 'sauter', 'une', 'crêpe', 'en', 'préparant', 'le', 'petit', 'déjeuner', '.']}\n"
     ]
    }
   ],
   "source": [
    "print(vars(val.examples[100]))"
   ]
  },
  {
   "cell_type": "markdown",
   "metadata": {
    "id": "qaJ8Qef0uwSd"
   },
   "source": [
    "Next, we'll build the vocabulary for the source and target languages. \n",
    "\n",
    "The vocabulary is used to associate each unique token with an index and this is used to build a one-hot encoding for each token. The vocabularies of the source and target languages are minimal overlap.\n",
    "\n",
    "Using the `min_freq` argument, we only allow tokens that appear at least 2 times to appear in our vocabulary. Tokens that appear only once are converted into an `<unk>` (unknown) token.\n",
    "\n",
    "It is important to note that your vocabulary should only be built from the `training set` and not the `validation/test set`. This prevents **\"information leakage\"** into your model, giving you artifically inflated validation/test scores."
   ]
  },
  {
   "cell_type": "code",
   "execution_count": 11,
   "metadata": {
    "id": "hj76i44Rusih"
   },
   "outputs": [],
   "source": [
    "TRG.build_vocab(train,min_freq=2)\n",
    "SRC.build_vocab(train,min_freq=2)"
   ]
  },
  {
   "cell_type": "code",
   "execution_count": 12,
   "metadata": {
    "colab": {
     "base_uri": "https://localhost:8080/"
    },
    "id": "P9tXtPqVu18W",
    "outputId": "c1b6bfd8-e2bb-455f-fea1-8c542e6d8e2c"
   },
   "outputs": [
    {
     "name": "stdout",
     "output_type": "stream",
     "text": [
      "Unique tokens in source (fr) vocabulary: 6461\n",
      "Unique tokens in target (en) vocabulary: 5893\n"
     ]
    }
   ],
   "source": [
    "print(f\"Unique tokens in source (fr) vocabulary: {len(SRC.vocab)}\")\n",
    "print(f\"Unique tokens in target (en) vocabulary: {len(TRG.vocab)}\")"
   ]
  },
  {
   "cell_type": "markdown",
   "metadata": {
    "id": "Ph-VDsasu-12"
   },
   "source": [
    "`TRG.vocab.stoi` is the dictionary of word to index. For example, the index of `<pad>` is 1."
   ]
  },
  {
   "cell_type": "code",
   "execution_count": 13,
   "metadata": {
    "colab": {
     "base_uri": "https://localhost:8080/"
    },
    "id": "QCNG_y5Hu2Qz",
    "outputId": "8cb5a84b-65f7-4922-b529-3d0896fc4ffb"
   },
   "outputs": [
    {
     "name": "stdout",
     "output_type": "stream",
     "text": [
      "1\n"
     ]
    }
   ],
   "source": [
    "print(TRG.vocab.stoi['<pad>'])"
   ]
  },
  {
   "cell_type": "markdown",
   "metadata": {
    "id": "s9_RY-VWvI9q"
   },
   "source": [
    "The final step of preparing the data is to create the `iterators` to generate batches. These can be iterated on to return a batch of data. The text of both source and target text will be converted to two sequence of corresponding indexes, using the vocabularies.\n",
    "\n",
    "\n",
    "We also need to define a `torch.device`. This indicate whether the input `tensors` should be sent to `GPU` or not. We already defined the `device` variable before. \n",
    "\n",
    "Finally, the output of the iterator will be `padded`. \n",
    "\n",
    "We use a `BucketIterator` to creates batches."
   ]
  },
  {
   "cell_type": "code",
   "execution_count": 14,
   "metadata": {
    "colab": {
     "base_uri": "https://localhost:8080/"
    },
    "id": "AnxNOrTPvE7O",
    "outputId": "4cb2e2d2-afa4-4723-9981-3f86cca6db33"
   },
   "outputs": [
    {
     "name": "stdout",
     "output_type": "stream",
     "text": [
      "cuda\n"
     ]
    }
   ],
   "source": [
    "device = torch.device('cuda' if torch.cuda.is_available() else 'cpu')\n",
    "print(device)"
   ]
  },
  {
   "cell_type": "code",
   "execution_count": 15,
   "metadata": {
    "id": "CdgS6bBEvK1d"
   },
   "outputs": [],
   "source": [
    "train_iter, val_iter, test_iter = data.BucketIterator.splits(\n",
    "    (train, val, test), # we pass in the datasets we want the iterator to draw data from\n",
    "    batch_sizes=(16, 256, 256),device = device,\n",
    "    sort_key=lambda x: len(x.SRC), # the BucketIterator needs to be told what function it should use to group the data.\n",
    "    sort_within_batch=False)"
   ]
  },
  {
   "cell_type": "markdown",
   "metadata": {
    "id": "bFif-pZOvQhx"
   },
   "source": [
    "Each batch will include two tensors: tensor of source language and tensor of target language. The size of each tensor is **[max_length, batch_size]**. Each example is already padded within batch."
   ]
  },
  {
   "cell_type": "code",
   "execution_count": 16,
   "metadata": {
    "colab": {
     "base_uri": "https://localhost:8080/"
    },
    "id": "ZzicRD44vNSv",
    "outputId": "74efbc1a-2e5a-4798-e515-ea3156ec615d"
   },
   "outputs": [
    {
     "name": "stdout",
     "output_type": "stream",
     "text": [
      "tensor size of source language: torch.Size([31, 16])\n",
      "tensor size of target language: torch.Size([31, 16])\n",
      "the tensor of first example in target language: tensor([   2,    4,   24,   34,  260,   18,  128,    0, 1733,    5,    3,    1,\n",
      "           1,    1,    1,    1,    1,    1,    1,    1,    1,    1,    1,    1,\n",
      "           1,    1,    1,    1,    1,    1,    1], device='cuda:0')\n"
     ]
    }
   ],
   "source": [
    "# batch example of training data\n",
    "for batch in train_iter:\n",
    "    src = batch.SRC\n",
    "    trg = batch.TRG\n",
    "    print('tensor size of source language:', src.shape)\n",
    "    print('tensor size of target language:', trg.shape)\n",
    "    print('the tensor of first example in target language:', trg[:,0])\n",
    "    break"
   ]
  },
  {
   "cell_type": "markdown",
   "metadata": {
    "id": "yd-1h9chxSzo"
   },
   "source": [
    "We save our Fields for reproducibility."
   ]
  },
  {
   "cell_type": "code",
   "execution_count": 17,
   "metadata": {
    "id": "Hoe5kPCfxWi4"
   },
   "outputs": [],
   "source": [
    "import pickle\n",
    "with open(\"./drive/MyDrive/Colab Notebooks/ckpt_attn/TRG.Field\",\"wb\")as f:\n",
    "     pickle.dump(TRG,f)\n",
    "\n",
    "with open(\"./drive/MyDrive/Colab Notebooks/ckpt_attn/SRC.Field\",\"wb\")as f:\n",
    "     pickle.dump(SRC,f)"
   ]
  },
  {
   "cell_type": "markdown",
   "metadata": {
    "id": "rBfDepa2vcpM"
   },
   "source": [
    "## Building the Seq2seq Model with Attention mechanism\n",
    "\n",
    "## 2. Encoder\n",
    "\n",
    "First, we'll build the encoder. We use a single layer `Uni-directional LSTM`.\n",
    "\n",
    "As classifiction task, we only pass the output of embedding layer to the LSTM layer. The LSTM layer returns `outputs`, `hidden` and `cell`. The `hidden` is the final hidden state of LSTM layer. The `cell` is the final cell state of LSTM layer. `hidden` and `cell` can be considered as the **context** representation of source language. "
   ]
  },
  {
   "cell_type": "code",
   "execution_count": 18,
   "metadata": {
    "id": "buf82R3vyi3a"
   },
   "outputs": [],
   "source": [
    "class Encoder(nn.Module):\n",
    "    def __init__(self, input_dim, emb_dim, enc_hid_dim, n_layers, dropout):\n",
    "        super().__init__()\n",
    "\n",
    "        self.emb_dim = emb_dim\n",
    "        self.enc_hid_dim = enc_hid_dim\n",
    "        self.dropout = dropout\n",
    "        self.n_layers = n_layers\n",
    "\n",
    "        self.embedding = nn.Embedding(input_dim, emb_dim)\n",
    "        self.lstm = nn.LSTM(emb_dim, enc_hid_dim, n_layers, dropout=dropout)\n",
    "        self.dropout = nn.Dropout(dropout)\n",
    "        \n",
    "    def forward(self, src):\n",
    "        \n",
    "        #src = [src len, batch size]\n",
    "        \n",
    "        embedded = self.dropout(self.embedding(src))\n",
    "        \n",
    "        #embedded = [src len, batch size, emb dim]\n",
    "        \n",
    "        outputs, (hidden, cell) = self.lstm(embedded)\n",
    "       \n",
    "        # outputs are always from the top hidden layer, if bidirectional outputs are concatenated.\n",
    "        # outputs shape [sequence_length, batch_size, hidden_dim * num_directions]\n",
    "        # hidden is of shape [num_layers * num_directions, batch_size, hidden_size]\n",
    "        # cell is of shape [num_layers * num_directions, batch_size, hidden_size]\n",
    "        \n",
    "        return outputs, (hidden.squeeze(0), cell)"
   ]
  },
  {
   "cell_type": "markdown",
   "metadata": {
    "id": "JO5Hs0gPzBa7"
   },
   "source": [
    "## 3. Attention\n",
    "\n",
    "We will implement the attention layer now. As discussed before, we will be using **Luong's concat attention** to compute the attention score, $e_{ij} = v_a tanh (W_a [s_{i-1};h_j;]) \\in \\mathcal{R}$ where $W_a \\in \\mathcal{R}^{h\\times 2h}$ and $v_a \\in \\mathcal{R}^{1\\times h}$. \n",
    "\n",
    "In the following example, we will illustrate how we compute $e_{11}$.\n",
    "\n",
    "![](https://drive.google.com/uc?id=10JarMXg_ZBSvKLfUW-LQ82XmBeJOlFhR)\n",
    "\n",
    "Using the same attention score function, we compute $e_{12}$ as follows:\n",
    "\n",
    "![](https://drive.google.com/uc?id=1lodBDLu_D_jxeZOoOnd_qhNa-HlSFmcq)\n",
    "\n",
    "We continue the process for the remaining encoder hidden states and obtain $e_{13}$, $e_{14}$ and $e_{15}$. Essentially, we have created $e_i$ by iterating over each encoder hidden state.\n",
    "\n",
    "![](https://drive.google.com/uc?id=1NMErg15nGgd8RRlhTkfF2B2W6Y1f1pwF)\n",
    "\n",
    "Instead of iterating over each encoder hidden state, we will create $e_i$ in one pass. We stack up all the encoder hidden states to get $H \\in \\mathcal{R}^{T\\times h}$ (in our example, T is 5). We repeat the current decoder hidden state $T-1$ times to get a matrix ( $\\mathcal{R}^{T\\times h}$) and concate this matrix with $H$ (to get $\\mathcal{R}^{T\\times 2h})$. We feed this to the attention scoring function as shown below:\n",
    "\n",
    "![](https://drive.google.com/uc?id=1L7Coxz6mXCSniNGA7vf7UZdB-1TxP0aR)\n",
    "\n",
    "Once we get the attention scores, we convert the scores to attention probabilites using softmax, $\\alpha_{i} = softmax(e_{i}) \\in \\mathcal{R}^T$.\n",
    "![](https://drive.google.com/uc?id=1vJLUfIkpfvjr5JGy-_lS_54F7wo_1af0)\n"
   ]
  },
  {
   "cell_type": "code",
   "execution_count": 19,
   "metadata": {
    "id": "ZSKi1DOYykt3"
   },
   "outputs": [],
   "source": [
    "class Attention(nn.Module):\n",
    "    def __init__(self, enc_hid_dim, dec_hid_dim):\n",
    "        super().__init__()\n",
    "        \n",
    "        self.W_a = nn.Linear(enc_hid_dim + dec_hid_dim, dec_hid_dim)\n",
    "        self.v_a = nn.Parameter(torch.rand(dec_hid_dim)) # same as doing nn.Linear(dec_hid_dim, 1, bias=False)\n",
    "        self.neg_inf = torch.tensor(-1e7, device=device)\n",
    "        \n",
    "    def forward(self, hidden, encoder_outputs, attention_mask):\n",
    "        #hidden = [batch size, dec hid dim]\n",
    "        #encoder_outputs = [src len, batch size, enc hid dim]\n",
    "        #attention_mask = [batch_size, src_len]\n",
    "        \n",
    "        batch_size = encoder_outputs.shape[1]\n",
    "        src_len = encoder_outputs.shape[0]\n",
    "        \n",
    "        #repeat encoder hidden state src_len-1 times\n",
    "        hidden = hidden.unsqueeze(1).repeat(1, src_len, 1)\n",
    "        \n",
    "        encoder_outputs = encoder_outputs.permute(1, 0, 2)\n",
    "        \n",
    "        #hidden = [batch size, src len, dec hid dim]\n",
    "        #encoder_outputs = [batch size, src len, enc hid dim]\n",
    "        \n",
    "        # attention scoring function - part 1 - tanh(W_a[s;h])\n",
    "        energy = torch.tanh(self.W_a(torch.cat((hidden, encoder_outputs), dim = 2))) \n",
    "        \n",
    "        #energy = [batch size, src len, dec hid dim]\n",
    "        \n",
    "        energy = energy.permute(0, 2, 1)\n",
    "        \n",
    "        #energy = [batch size, dec hid dim, src len]\n",
    "        \n",
    "        #v = [dec hid dim]\n",
    "        \n",
    "        v = self.v_a.repeat(batch_size, 1).unsqueeze(1)\n",
    "        \n",
    "        #v = [batch size, 1, dec hid dim]\n",
    "        \n",
    "        # attention scoring function - part 2 - v_a(tanh(W_a[s;h]))\n",
    "        attention = torch.bmm(v, energy).squeeze(1)\n",
    "        \n",
    "        #attention= [batch size, src len]\n",
    "\n",
    "        # before computing the softmax, set attention to pad tokens to -infinity\n",
    "        attention[attention_mask] = self.neg_inf\n",
    "\n",
    "        # attention scoring function - part 2 - softmax(v_a(tanh(W_a[s;h])))\n",
    "        return F.softmax(attention, dim=1)"
   ]
  },
  {
   "cell_type": "markdown",
   "metadata": {
    "id": "H4pls5RmRMN1"
   },
   "source": [
    "### 4. Decoder\n",
    "\n",
    "We will implement the decoder now. We get the attention probabilities ($\\alpha_{i}$) as the output from the attention layer. We use $\\alpha_{i}$ to take a weighted sum of the encoder hidden states to get the attention output or context vector, $c_{i} = \\sum_{j=1}^T \\alpha_{ij} h_j $. We concatenate $c_i$ with the current decoder input embedding and proceed as in the non-attention seq2seq model. We will illustrate these two steps for our example.\n",
    "\n",
    "![](https://drive.google.com/uc?id=1scvvOneIAFk5Sob1SdghccJBy8qq9ePU)\n"
   ]
  },
  {
   "cell_type": "code",
   "execution_count": 20,
   "metadata": {
    "id": "71-eEC-kRkmN"
   },
   "outputs": [],
   "source": [
    "class Decoder(nn.Module):\n",
    "    def __init__(self, output_dim, emb_dim, enc_hid_dim, dec_hid_dim, n_layers, dropout, attention):\n",
    "        super().__init__()\n",
    "        \n",
    "        self.output_dim = output_dim\n",
    "        self.attention = attention\n",
    "        \n",
    "        self.embedding = nn.Embedding(output_dim, emb_dim)\n",
    "        \n",
    "        self.rnn = nn.LSTM(enc_hid_dim + emb_dim, dec_hid_dim, n_layers, dropout=dropout)\n",
    "        \n",
    "        self.fc_out = nn.Linear(enc_hid_dim + dec_hid_dim + emb_dim, output_dim)\n",
    "        \n",
    "        self.dropout = nn.Dropout(dropout)\n",
    "        \n",
    "    def forward(self, input, hidden, cell, encoder_outputs, attention_mask):\n",
    "             \n",
    "        #input = [batch size]\n",
    "        #hidden = [batch size, dec hid dim]\n",
    "        #encoder_outputs = [src len, batch size, enc hid dim]\n",
    "        #attention_mask = [batch_size, src_len]\n",
    "        input = input.unsqueeze(0)\n",
    "        \n",
    "        #input = [1, batch size]\n",
    "        \n",
    "        embedded = self.dropout(self.embedding(input))\n",
    "        \n",
    "        #embedded = [1, batch size, emb dim]\n",
    "        # get the attention probabilities\n",
    "        attention_weights = self.attention(hidden, encoder_outputs, attention_mask)\n",
    "                \n",
    "        #attention_weights = [batch size, src len]\n",
    "        \n",
    "        attention_weights = attention_weights.unsqueeze(1)\n",
    "        \n",
    "        #a = [batch size, 1, src len]\n",
    "        \n",
    "        encoder_outputs = encoder_outputs.permute(1, 0, 2)\n",
    "        \n",
    "        #encoder_outputs = [batch size, src len, enc hid dim]\n",
    "        # perform weighted sum of encoder hidden states to get attention output\n",
    "        weighted = torch.bmm(attention_weights, encoder_outputs)\n",
    "        \n",
    "        #weighted = [batch size, 1, enc hid dim]\n",
    "        \n",
    "        weighted = weighted.permute(1, 0, 2)\n",
    "        \n",
    "        #weighted = [1, batch size, enc hid dim]\n",
    "        # concatenate the attention outputs (or context vectors) with the current decoder input\n",
    "        rnn_input = torch.cat((embedded, weighted), dim = 2)\n",
    "        \n",
    "        #rnn_input = [1, batch size, (enc hid dim) + emb dim]\n",
    "        output, (hidden, cell) = self.rnn(rnn_input, (hidden.unsqueeze(0), cell))\n",
    "        \n",
    "        #output = [seq len, batch size, dec hid dim * n directions]\n",
    "        #hidden = [n layers * n directions, batch size, dec hid dim]\n",
    "        \n",
    "        #seq len, n layers and n directions will always be 1 in this decoder, therefore:\n",
    "        #output = [1, batch size, dec hid dim]\n",
    "        #hidden = [1, batch size, dec hid dim]\n",
    "        #this also means that output == hidden\n",
    "        assert (output == hidden).all()\n",
    "        \n",
    "        embedded = embedded.squeeze(0)\n",
    "        output = output.squeeze(0)\n",
    "        weighted = weighted.squeeze(0)\n",
    "        \n",
    "        # classification over the entire word vocabulary\n",
    "        prediction = self.fc_out(torch.cat((output, weighted, embedded), dim = 1))\n",
    "        \n",
    "        #prediction = [batch size, output dim]\n",
    "        \n",
    "        return prediction, hidden.squeeze(0), cell, attention_weights"
   ]
  },
  {
   "cell_type": "markdown",
   "metadata": {
    "id": "iI0hF1EQRn5w"
   },
   "source": [
    "### 5. Seq2seq with attention\n",
    "\n",
    "The `encoder` returns both the final hidden state ($h_T$) to be used as the initial hidden state for the decoder ($s_0$) and the encoder outputs ($H$) in stacked form. We pass the `hidden` and `encoder_outputs` to the decoder. \n",
    "\n",
    "We will go over the steps briefly:\n",
    "- the `outputs` tensor is created to hold all predictions, $\\hat{Y} = \\{\\hat{y_1} ... \\hat{y_t}\\}$;\n",
    "- the source sequence, $X = \\{x_1,..., x_T\\}$, is fed into the encoder to receive $h_T$ and $H$\n",
    "- the initial decoder hidden state is set to be the last hidden state of the encoder, $s_0 = h_T$ (note we all set the initial cell states of the decoder with the last cell states of the encoder)\n",
    "- we use a batch of `<sos>` tokens as the first `input`, $y_0$\n",
    "- we then decode within a loop:\n",
    "\n",
    "for i in range(1,t): t is the maximal length of target language\n",
    "  - inserting the input token $y_i$, previous hidden state, $s_{i-1}$, and previous cell state, $c_{i-1}$, into the decoder;\n",
    "  - receiving a prediction, $\\hat{y}_{i+1}$, which is the most likely output token, a new hidden state, $s_{i}$, and a new cell state, $c_{i}$;\n",
    "  - we then decide if we are going to perform **teacher forcing** or not, setting the next input as appropriate."
   ]
  },
  {
   "cell_type": "code",
   "execution_count": 21,
   "metadata": {
    "id": "Ya8qYesURq6F"
   },
   "outputs": [],
   "source": [
    "class Seq2Seq(nn.Module):\n",
    "    def __init__(self, encoder, decoder, device):\n",
    "        super().__init__()\n",
    "        \n",
    "        self.encoder = encoder\n",
    "        self.decoder = decoder\n",
    "        self.device = device\n",
    "        \n",
    "    def forward(self, src, trg, teacher_forcing_ratio = 0.5):\n",
    "        \n",
    "        #src = [src len, batch size]\n",
    "        #trg = [trg len, batch size]\n",
    "        #teacher_forcing_ratio is probability to use teacher forcing\n",
    "        #e.g. if teacher_forcing_ratio is 0.75 we use teacher forcing 75% of the time\n",
    "        batch_size = src.shape[1]\n",
    "        trg_len = trg.shape[0]\n",
    "        trg_vocab_size = self.decoder.output_dim\n",
    "\n",
    "        # create attention mask, set attention to pad tokens to -infinity \n",
    "        attention_mask = (src == SRC.vocab.stoi[SRC.pad_token]).transpose(0, 1)\n",
    "        \n",
    "        #tensor to store decoder outputs\n",
    "        outputs = torch.zeros(trg_len, batch_size, trg_vocab_size).to(self.device)\n",
    "        # save the encoder-decoder attention weights\n",
    "        # all_attention_weights = [batch_size, trg len-1, src len ]\n",
    "        all_attention_weights = torch.zeros(trg.shape[1], trg.shape[0]-1, src.shape[0])\n",
    "        #encoder_outputs is all hidden states of the input sequence, back and forwards\n",
    "        #hidden is the final forward and backward hidden states, passed through a linear layer\n",
    "        encoder_outputs, (hidden, cell) = self.encoder(src)\n",
    "                \n",
    "        #first input to the decoder is the <sos> tokens\n",
    "        input = trg[0,:]\n",
    "        \n",
    "        for t in range(1, trg_len):\n",
    "            \n",
    "            #insert input token embedding, previous hidden state and all encoder hidden states\n",
    "            #receive output tensor (predictions) and new hidden state\n",
    "            output, hidden, cell, attention_weights = self.decoder(input, hidden, cell, encoder_outputs, attention_mask)\n",
    "            \n",
    "            # all_attention_weights[t-1] = [src len, batch size]\n",
    "            all_attention_weights[:,t-1,:] = attention_weights.squeeze(1)\n",
    "            \n",
    "            #place predictions in a tensor holding predictions for each token\n",
    "            outputs[t] = output\n",
    "            \n",
    "            #decide if we are going to use teacher forcing or not\n",
    "            teacher_force = random.random() < teacher_forcing_ratio\n",
    "            \n",
    "            #get the highest predicted token from our predictions\n",
    "            top1 = output.argmax(1) \n",
    "            \n",
    "            #if teacher forcing, use actual next token as next input\n",
    "            #if not, use predicted token\n",
    "            input = trg[t] if teacher_force else top1\n",
    "\n",
    "        return outputs,all_attention_weights"
   ]
  },
  {
   "cell_type": "markdown",
   "metadata": {
    "id": "hXjIZgTLRt5o"
   },
   "source": [
    "## 6. Training the Seq2Seq Model\n",
    "\n",
    "We instantiate our encoder, decoder and seq2seq model (placing it on the GPU if we have one). "
   ]
  },
  {
   "cell_type": "code",
   "execution_count": 22,
   "metadata": {
    "colab": {
     "base_uri": "https://localhost:8080/"
    },
    "id": "2URGE5esRz9F",
    "outputId": "b0e3aa81-2442-4517-96e1-29b81bb3b81c"
   },
   "outputs": [
    {
     "name": "stderr",
     "output_type": "stream",
     "text": [
      "/usr/local/lib/python3.7/dist-packages/torch/nn/modules/rnn.py:65: UserWarning: dropout option adds dropout after all but last recurrent layer, so non-zero dropout expects num_layers greater than 1, but got dropout=0.5 and num_layers=1\n",
      "  \"num_layers={}\".format(dropout, num_layers))\n"
     ]
    }
   ],
   "source": [
    "INPUT_DIM = len(SRC.vocab)\n",
    "OUTPUT_DIM = len(TRG.vocab)\n",
    "\n",
    "# hyperparameters\n",
    "ENC_EMB_DIM = 256\n",
    "DEC_EMB_DIM = 256\n",
    "ENC_HID_DIM = 512\n",
    "DEC_HID_DIM = 512\n",
    "ENC_DROPOUT = 0.5\n",
    "DEC_DROPOUT = 0.5\n",
    "N_LAYERS = 1\n",
    "LEARNING_RT = 0.001\n",
    "\n",
    "# model components\n",
    "attn = Attention(ENC_HID_DIM, DEC_HID_DIM)\n",
    "enc = Encoder(INPUT_DIM, ENC_EMB_DIM, ENC_HID_DIM, N_LAYERS, ENC_DROPOUT)\n",
    "dec = Decoder(OUTPUT_DIM, DEC_EMB_DIM, ENC_HID_DIM, DEC_HID_DIM, N_LAYERS, DEC_DROPOUT, attn)\n",
    "model = Seq2Seq(enc, dec, device).to(device)"
   ]
  },
  {
   "cell_type": "markdown",
   "metadata": {
    "id": "cUD40Q5bR60W"
   },
   "source": [
    "We use a simplified version of the weight initialization scheme. Here, we will initialize all biases to zero and all weights from $\\mathcal{N}(0, 0.01)$."
   ]
  },
  {
   "cell_type": "code",
   "execution_count": 23,
   "metadata": {
    "colab": {
     "base_uri": "https://localhost:8080/"
    },
    "id": "2IxsxBKjR9AP",
    "outputId": "19ee8595-6ba5-45b5-d745-c2445269f360"
   },
   "outputs": [
    {
     "data": {
      "text/plain": [
       "Seq2Seq(\n",
       "  (encoder): Encoder(\n",
       "    (embedding): Embedding(6461, 256)\n",
       "    (lstm): LSTM(256, 512, dropout=0.5)\n",
       "    (dropout): Dropout(p=0.5, inplace=False)\n",
       "  )\n",
       "  (decoder): Decoder(\n",
       "    (attention): Attention(\n",
       "      (W_a): Linear(in_features=1024, out_features=512, bias=True)\n",
       "    )\n",
       "    (embedding): Embedding(5893, 256)\n",
       "    (rnn): LSTM(768, 512, dropout=0.5)\n",
       "    (fc_out): Linear(in_features=1280, out_features=5893, bias=True)\n",
       "    (dropout): Dropout(p=0.5, inplace=False)\n",
       "  )\n",
       ")"
      ]
     },
     "execution_count": 23,
     "metadata": {},
     "output_type": "execute_result"
    }
   ],
   "source": [
    "def init_weights(m):\n",
    "    for name, param in m.named_parameters():\n",
    "        if 'weight' in name:\n",
    "            nn.init.normal_(param.data, mean=0, std=0.01)\n",
    "        else:\n",
    "            nn.init.constant_(param.data, 0)\n",
    "            \n",
    "model.apply(init_weights)"
   ]
  },
  {
   "cell_type": "markdown",
   "metadata": {
    "id": "cxh1y1c5SCy6"
   },
   "source": [
    "**Calculate the number of parameters.**"
   ]
  },
  {
   "cell_type": "code",
   "execution_count": 24,
   "metadata": {
    "colab": {
     "base_uri": "https://localhost:8080/"
    },
    "id": "XszlHmnGSFZn",
    "outputId": "0562e0be-e92a-45f4-d05e-34a30e13c2d6"
   },
   "outputs": [
    {
     "name": "stdout",
     "output_type": "stream",
     "text": [
      "The model has 15,439,365 trainable parameters\n"
     ]
    }
   ],
   "source": [
    "def count_parameters(model):\n",
    "    return sum(p.numel() for p in model.parameters() if p.requires_grad)\n",
    "\n",
    "print(f'The model has {count_parameters(model):,} trainable parameters')"
   ]
  },
  {
   "cell_type": "markdown",
   "metadata": {
    "id": "fGgQp8rxSJH4"
   },
   "source": [
    "Create an optimizer."
   ]
  },
  {
   "cell_type": "code",
   "execution_count": 25,
   "metadata": {
    "id": "1RICMB6oSL24"
   },
   "outputs": [],
   "source": [
    "optimizer = optim.Adam(model.parameters())"
   ]
  },
  {
   "cell_type": "markdown",
   "metadata": {
    "id": "viKlI9GuSK0l"
   },
   "source": [
    "Initialize the loss function. The pad token will be ignored."
   ]
  },
  {
   "cell_type": "code",
   "execution_count": 26,
   "metadata": {
    "colab": {
     "base_uri": "https://localhost:8080/"
    },
    "id": "5hJ4aMvdSP9J",
    "outputId": "34dbcf23-e992-45fc-93f2-4934b7475333"
   },
   "outputs": [
    {
     "name": "stdout",
     "output_type": "stream",
     "text": [
      "<pad> token index:  1\n"
     ]
    }
   ],
   "source": [
    "TRG_PAD_IDX = TRG.vocab.stoi[TRG.pad_token]\n",
    "print('<pad> token index: ',TRG_PAD_IDX)\n",
    "## we will ignore the pad token in true target set\n",
    "criterion = nn.CrossEntropyLoss(ignore_index = TRG_PAD_IDX)"
   ]
  },
  {
   "cell_type": "markdown",
   "metadata": {
    "id": "S74BgR3My3P6"
   },
   "source": [
    "### 7. Testing Model\n",
    "We will run the model with first training batch to test our code."
   ]
  },
  {
   "cell_type": "code",
   "execution_count": 27,
   "metadata": {
    "colab": {
     "base_uri": "https://localhost:8080/"
    },
    "id": "l_o6CfuPSXP9",
    "outputId": "eccaa10e-82d1-4c9f-9723-6f06226db2b0"
   },
   "outputs": [
    {
     "name": "stdout",
     "output_type": "stream",
     "text": [
      "tensor(0.5426, device='cuda:0', grad_fn=<DivBackward0>)\n"
     ]
    }
   ],
   "source": [
    "clip = 1\n",
    "model.train()\n",
    "\n",
    "for i, batch in enumerate(train_iter):\n",
    "\n",
    "    src = batch.SRC\n",
    "    trg = batch.TRG\n",
    "    optimizer.zero_grad()\n",
    "    output,_ = model(src, trg)\n",
    "    #trg = [trg len, batch size]\n",
    "    #output = [trg len, batch size, output dim]\n",
    "\n",
    "    output_dim = output.shape[-1]\n",
    "\n",
    "    output = output[1:].view(-1, output_dim)\n",
    "    trg = trg[1:].view(-1)\n",
    "\n",
    "    #trg = [(trg len - 1) * batch size]\n",
    "    #output = [(trg len - 1) * batch size, output dim]\n",
    "\n",
    "    loss = criterion(output, trg)\n",
    "\n",
    "    loss.backward()\n",
    "\n",
    "    torch.nn.utils.clip_grad_norm_(model.parameters(), clip)\n",
    "\n",
    "    optimizer.step()\n",
    "\n",
    "    print(loss/src.shape[1])\n",
    "    break"
   ]
  },
  {
   "cell_type": "markdown",
   "metadata": {
    "id": "0ZOJpg4tSZtD"
   },
   "source": [
    "## 8. Full training process\n",
    "We also offer the fully training loop as follows:"
   ]
  },
  {
   "cell_type": "code",
   "execution_count": 28,
   "metadata": {
    "id": "zkEs6QvNSbEZ"
   },
   "outputs": [],
   "source": [
    "def train(model, iterator, optimizer, criterion, clip):\n",
    "    \n",
    "    model.train()\n",
    "    \n",
    "    epoch_loss = 0\n",
    "    \n",
    "    for i, batch in enumerate(iterator):\n",
    "        \n",
    "        src = batch.SRC\n",
    "        trg = batch.TRG\n",
    "        \n",
    "        optimizer.zero_grad()\n",
    "        \n",
    "        output,_ = model(src, trg)\n",
    "        \n",
    "        #trg = [trg len, batch size]\n",
    "        #output = [trg len, batch size, output dim]\n",
    "        \n",
    "        output_dim = output.shape[-1]\n",
    "        \n",
    "        output = output[1:].view(-1, output_dim)\n",
    "        trg = trg[1:].view(-1)\n",
    "        \n",
    "        #trg = [(trg len - 1) * batch size]\n",
    "        #output = [(trg len - 1) * batch size, output dim]\n",
    "        \n",
    "        loss = criterion(output, trg)\n",
    "        \n",
    "        loss.backward()\n",
    "        \n",
    "        torch.nn.utils.clip_grad_norm_(model.parameters(), clip)\n",
    "        \n",
    "        optimizer.step()\n",
    "        \n",
    "        epoch_loss += loss.item()\n",
    "        \n",
    "    return epoch_loss / len(iterator)"
   ]
  },
  {
   "cell_type": "markdown",
   "metadata": {
    "id": "RwPOlgxESeKC"
   },
   "source": [
    "...and the evaluation loop, remembering to set the model to `eval` mode and turn off teaching forcing (i.e., teach forcing rate = 0)."
   ]
  },
  {
   "cell_type": "code",
   "execution_count": 29,
   "metadata": {
    "id": "zAXRhY50SsGT"
   },
   "outputs": [],
   "source": [
    "def evaluate(model, iterator, criterion):\n",
    "    \n",
    "    model.eval()\n",
    "    \n",
    "    epoch_loss = 0\n",
    "    \n",
    "    with torch.no_grad():\n",
    "    \n",
    "        for i, batch in enumerate(iterator):\n",
    "\n",
    "            src = batch.SRC\n",
    "            trg = batch.TRG\n",
    "\n",
    "            output,_ = model(src, trg, 0) #turn off teacher forcing\n",
    "\n",
    "            #trg = [trg len, batch size]\n",
    "            #output = [trg len, batch size, output dim]\n",
    "\n",
    "            output_dim = output.shape[-1]\n",
    "            \n",
    "            output = output[1:].view(-1, output_dim)\n",
    "            trg = trg[1:].view(-1)\n",
    "\n",
    "            #trg = [(trg len - 1) * batch size]\n",
    "            #output = [(trg len - 1) * batch size, output dim]\n",
    "\n",
    "            loss = criterion(output, trg)\n",
    "\n",
    "            epoch_loss += loss.item()\n",
    "        \n",
    "    return epoch_loss / len(iterator)"
   ]
  },
  {
   "cell_type": "markdown",
   "metadata": {
    "id": "JPVswjnWSwAv"
   },
   "source": [
    "Count the running time."
   ]
  },
  {
   "cell_type": "code",
   "execution_count": 30,
   "metadata": {
    "id": "e76-zT2HSxsd"
   },
   "outputs": [],
   "source": [
    "def epoch_time(start_time, end_time):\n",
    "    elapsed_time = end_time - start_time\n",
    "    elapsed_mins = int(elapsed_time / 60)\n",
    "    elapsed_secs = int(elapsed_time - (elapsed_mins * 60))\n",
    "    return elapsed_mins, elapsed_secs"
   ]
  },
  {
   "cell_type": "markdown",
   "metadata": {
    "id": "k1kxD0-LS1ow"
   },
   "source": [
    "## Training model. \n",
    "\n",
    "We will train the model for 10 epochs. At the end of each epoch, we will save a checkpoint and evaluate on the development set. We will print out the loss and perplexity of train and dev set."
   ]
  },
  {
   "cell_type": "code",
   "execution_count": 31,
   "metadata": {
    "colab": {
     "base_uri": "https://localhost:8080/"
    },
    "id": "p-G-rNXqS6TC",
    "outputId": "f9c9958b-baf9-4d68-8906-d03caed7d617"
   },
   "outputs": [
    {
     "name": "stdout",
     "output_type": "stream",
     "text": [
      "Epoch: 01 | Time: 2m 35s\n",
      "\tTrain Loss: 4.225 | Train PPL:  68.369\n",
      "\t Val. Loss: 3.823 |  Val. PPL:  45.732\n",
      "Epoch: 02 | Time: 2m 33s\n",
      "\tTrain Loss: 2.797 | Train PPL:  16.398\n",
      "\t Val. Loss: 3.130 |  Val. PPL:  22.882\n",
      "Epoch: 03 | Time: 2m 33s\n",
      "\tTrain Loss: 2.153 | Train PPL:   8.607\n",
      "\t Val. Loss: 2.929 |  Val. PPL:  18.702\n",
      "Epoch: 04 | Time: 2m 33s\n",
      "\tTrain Loss: 1.778 | Train PPL:   5.919\n",
      "\t Val. Loss: 2.913 |  Val. PPL:  18.406\n",
      "Epoch: 05 | Time: 2m 32s\n",
      "\tTrain Loss: 1.524 | Train PPL:   4.592\n",
      "\t Val. Loss: 2.923 |  Val. PPL:  18.598\n",
      "Epoch: 06 | Time: 2m 34s\n",
      "\tTrain Loss: 1.325 | Train PPL:   3.761\n",
      "\t Val. Loss: 2.898 |  Val. PPL:  18.137\n",
      "Epoch: 07 | Time: 2m 32s\n",
      "\tTrain Loss: 1.181 | Train PPL:   3.257\n",
      "\t Val. Loss: 2.956 |  Val. PPL:  19.222\n",
      "Epoch: 08 | Time: 2m 30s\n",
      "\tTrain Loss: 1.060 | Train PPL:   2.888\n",
      "\t Val. Loss: 3.062 |  Val. PPL:  21.360\n",
      "Epoch: 09 | Time: 2m 31s\n",
      "\tTrain Loss: 0.967 | Train PPL:   2.629\n",
      "\t Val. Loss: 3.146 |  Val. PPL:  23.248\n",
      "Epoch: 10 | Time: 2m 34s\n",
      "\tTrain Loss: 0.887 | Train PPL:   2.427\n",
      "\t Val. Loss: 3.133 |  Val. PPL:  22.940\n"
     ]
    }
   ],
   "source": [
    "N_EPOCHS = 10\n",
    "CLIP = 1\n",
    "\n",
    "best_valid_loss = float('inf')\n",
    "\n",
    "for epoch in range(N_EPOCHS):\n",
    "    \n",
    "    start_time = time.time()\n",
    "    \n",
    "    train_loss = train(model, train_iter, optimizer, criterion, CLIP)\n",
    "    valid_loss = evaluate(model, val_iter, criterion)\n",
    "    \n",
    "    end_time = time.time()\n",
    "    \n",
    "    epoch_mins, epoch_secs = epoch_time(start_time, end_time)\n",
    "    \n",
    "    # Create checkpoint at end of each epoch\n",
    "    state_dict_model = model.state_dict() \n",
    "    state = {\n",
    "        'epoch': epoch,\n",
    "        'state_dict': state_dict_model,\n",
    "        'optimizer': optimizer.state_dict()\n",
    "        }\n",
    "\n",
    "    torch.save(state, \"./drive/MyDrive/Colab Notebooks/ckpt_attn/seq2seq_\"+str(epoch+1)+\".pt\")\n",
    "\n",
    "    print(f'Epoch: {epoch+1:02} | Time: {epoch_mins}m {epoch_secs}s')\n",
    "    print(f'\\tTrain Loss: {train_loss:.3f} | Train PPL: {math.exp(train_loss):7.3f}')\n",
    "    print(f'\\t Val. Loss: {valid_loss:.3f} |  Val. PPL: {math.exp(valid_loss):7.3f}')"
   ]
  },
  {
   "cell_type": "markdown",
   "metadata": {
    "id": "k6HsJfseUGeD"
   },
   "source": [
    "## 9. Load Checkpoint\n",
    "We will use the best model for the following process."
   ]
  },
  {
   "cell_type": "markdown",
   "metadata": {
    "id": "heW6ilM5UK2V"
   },
   "source": [
    "Load the saved TRG and SRC fields:"
   ]
  },
  {
   "cell_type": "code",
   "execution_count": 47,
   "metadata": {
    "id": "kTCaVdhTUMiB"
   },
   "outputs": [],
   "source": [
    "with open(\"./drive/MyDrive/Colab Notebooks/ckpt_attn/TRG.Field\",\"rb\") as f:\n",
    "     TRG_saved = pickle.load(f)\n",
    "\n",
    "with open(\"./drive/MyDrive/Colab Notebooks/ckpt_attn/SRC.Field\",\"rb\") as f:\n",
    "     SRC_saved = pickle.load(f)"
   ]
  },
  {
   "cell_type": "markdown",
   "metadata": {
    "id": "LnCEp8WdUPL9"
   },
   "source": [
    "Load trained model to `model_best` and put model on device."
   ]
  },
  {
   "cell_type": "code",
   "execution_count": 48,
   "metadata": {
    "colab": {
     "base_uri": "https://localhost:8080/"
    },
    "id": "XJMg8yJLURVo",
    "outputId": "a0141d64-bef3-4d6d-c33f-c54f79733c2f"
   },
   "outputs": [
    {
     "name": "stderr",
     "output_type": "stream",
     "text": [
      "/usr/local/lib/python3.7/dist-packages/torch/nn/modules/rnn.py:65: UserWarning: dropout option adds dropout after all but last recurrent layer, so non-zero dropout expects num_layers greater than 1, but got dropout=0.5 and num_layers=1\n",
      "  \"num_layers={}\".format(dropout, num_layers))\n"
     ]
    }
   ],
   "source": [
    "INPUT_DIM = len(SRC_saved.vocab)\n",
    "OUTPUT_DIM = len(TRG_saved.vocab)\n",
    "\n",
    "# hyperparameters\n",
    "ENC_EMB_DIM = 256\n",
    "DEC_EMB_DIM = 256\n",
    "ENC_HID_DIM = 512\n",
    "DEC_HID_DIM = 512\n",
    "ENC_DROPOUT = 0.5\n",
    "DEC_DROPOUT = 0.5\n",
    "N_LAYERS = 1\n",
    "LEARNING_RT = 0.001\n",
    "\n",
    "# model components\n",
    "attn = Attention(ENC_HID_DIM, DEC_HID_DIM)\n",
    "enc = Encoder(INPUT_DIM, ENC_EMB_DIM, ENC_HID_DIM, N_LAYERS, ENC_DROPOUT)\n",
    "dec = Decoder(OUTPUT_DIM, DEC_EMB_DIM, ENC_HID_DIM, DEC_HID_DIM, N_LAYERS, DEC_DROPOUT, attn)\n",
    "model_best = Seq2Seq(enc, dec, device)"
   ]
  },
  {
   "cell_type": "code",
   "execution_count": 49,
   "metadata": {
    "id": "hYJ5w6AaUTqr"
   },
   "outputs": [],
   "source": [
    "model_best.load_state_dict(torch.load('./drive/MyDrive/Colab Notebooks/ckpt_attn/seq2seq_6.pt')['state_dict'])\n",
    "model_best = model_best.to(device)"
   ]
  },
  {
   "cell_type": "markdown",
   "metadata": {
    "id": "PcfbvapUUWFB"
   },
   "source": [
    "Pre-process source language and get input tensor"
   ]
  },
  {
   "cell_type": "code",
   "execution_count": 50,
   "metadata": {
    "colab": {
     "base_uri": "https://localhost:8080/"
    },
    "id": "ZwUhXoN_UYWv",
    "outputId": "177c7ff1-7d5b-4de9-94e7-9be5cbf51e35"
   },
   "outputs": [
    {
     "name": "stdout",
     "output_type": "stream",
     "text": [
      "src_token: ['une', 'femme', 'avec', 'un', 'gros', 'sac', 'passe', 'par', 'une', 'porte', '.']\n",
      "shape of source language:  torch.Size([12, 1])\n"
     ]
    }
   ],
   "source": [
    "model_best.eval()\n",
    "src_token = SRC_saved.preprocess('Une femme avec un gros sac passe par une porte.')\n",
    "print(\"src_token:\", src_token)\n",
    "src_tensor = SRC_saved.process([src_token],device=device)\n",
    "print(\"shape of source language: \", src_tensor.shape)"
   ]
  },
  {
   "cell_type": "markdown",
   "metadata": {
    "id": "TW8sxelmUbKO"
   },
   "source": [
    "We assume this is a test sample so we don't have the gold target text. We create a placeholder for target language which only includes 64 `<pad>` tokens (i.e., the maximal length of our translated generation is 64)."
   ]
  },
  {
   "cell_type": "code",
   "execution_count": 51,
   "metadata": {
    "colab": {
     "base_uri": "https://localhost:8080/"
    },
    "id": "tD9ay5x-UdAx",
    "outputId": "7bfdf52c-9c2e-4603-aa3a-5794f0d0594f"
   },
   "outputs": [
    {
     "name": "stdout",
     "output_type": "stream",
     "text": [
      "shape of target language:  torch.Size([66, 1])\n"
     ]
    }
   ],
   "source": [
    "trg_token = ['<pad>']*64\n",
    "trg_tensor = TRG_saved.process([trg_token],device=device)\n",
    "print(\"shape of target language: \", trg_tensor.shape)"
   ]
  },
  {
   "cell_type": "code",
   "execution_count": 52,
   "metadata": {
    "id": "uZH4_iA9Ue6s"
   },
   "outputs": [],
   "source": [
    "output, all_attention_weights = model_best(src_tensor, trg_tensor, teacher_forcing_ratio = 0.0)\n",
    "output_dim = output.shape[-1]\n",
    "# get translation results, we ignore first token <sos> in both translation and target sentences. \n",
    "# output_translate = [(trg len - 1), batch, output dim] output dim is size of target vocabulary. \n",
    "output_translate = output[1:]"
   ]
  },
  {
   "cell_type": "markdown",
   "metadata": {
    "id": "OUtmjjfOUhSs"
   },
   "source": [
    "Detach the source input tensor to CPU device because our following process will operate on CPU. Then, squeeze the shape of `output_translate` to `[(trg len - 1),output dim]`. "
   ]
  },
  {
   "cell_type": "code",
   "execution_count": 53,
   "metadata": {
    "id": "aWb8BCPMUjQS"
   },
   "outputs": [],
   "source": [
    "source_language = src_tensor[:,0].cpu().numpy()\n",
    "translation_logit = output_translate[:,0,:].squeeze(1)"
   ]
  },
  {
   "cell_type": "code",
   "execution_count": 54,
   "metadata": {
    "colab": {
     "base_uri": "https://localhost:8080/"
    },
    "id": "oK75DvsmUk3M",
    "outputId": "2490fcaa-61df-4ce4-8166-9bfe0b119025"
   },
   "outputs": [
    {
     "name": "stdout",
     "output_type": "stream",
     "text": [
      "[  4  14  13   4  59 645  10  41  49   4 532   5   3   3   3   3   3   3\n",
      "   3   3   3   3   3   3   3   3   3   3   3   3   3   3   3   3   3   3\n",
      "   3   3   3   3   3   3   3   3   3   3   3   3   3   3   3   3   3   3\n",
      "   3   3   3   3   3   3   3   3   3   3   3]\n"
     ]
    }
   ],
   "source": [
    "# Choose top 1 word from decoder's output, we get the probability and index of the word\n",
    "prob, token_id = translation_logit.data.topk(1)\n",
    "token_id = token_id.squeeze(1).cpu().numpy()\n",
    "print(token_id) "
   ]
  },
  {
   "cell_type": "markdown",
   "metadata": {
    "id": "xhVr3DxOUnBK"
   },
   "source": [
    "To get the translation in text, we will use a dictionary to convert index to word.\n"
   ]
  },
  {
   "cell_type": "code",
   "execution_count": 55,
   "metadata": {
    "colab": {
     "base_uri": "https://localhost:8080/"
    },
    "id": "hBQv6G2rUr8O",
    "outputId": "2288e4e3-56b4-498b-afb1-66d3d03d62de"
   },
   "outputs": [
    {
     "name": "stdout",
     "output_type": "stream",
     "text": [
      "Source language: ['une', 'femme', 'avec', 'un', 'gros', 'sac', 'passe', 'par', 'une', 'porte', '.']\n",
      "Our model translation:  ['a', 'woman', 'with', 'a', 'large', 'purse', 'is', 'walking', 'by', 'a', 'door', '.']\n",
      "Golden translation:  a woman with a large purse is walking by a gate.\n"
     ]
    }
   ],
   "source": [
    "# get source langauge in text\n",
    "src_language = []\n",
    "\n",
    "for i in source_language:\n",
    "    if i == SRC.vocab.stoi['<eos>']:\n",
    "        break\n",
    "    else:\n",
    "        token = SRC.vocab.itos[i]\n",
    "        src_language.append(token)\n",
    "print(\"Source language:\", src_language)\n",
    "\n",
    "# get machine translation in text\n",
    "trans_language = []\n",
    "for i in token_id:\n",
    "    if i == TRG.vocab.stoi['<eos>']:\n",
    "        break\n",
    "    else:\n",
    "        token = TRG.vocab.itos[i]\n",
    "        trans_language.append(token)\n",
    "print(\"Our model translation: \", trans_language)\n",
    "print(\"Golden translation: \", \"a woman with a large purse is walking by a gate.\")"
   ]
  },
  {
   "cell_type": "markdown",
   "metadata": {
    "id": "d75nasIEUv8k"
   },
   "source": [
    "### 10. Visualization"
   ]
  },
  {
   "cell_type": "markdown",
   "metadata": {
    "id": "-mL3XjfJUCcy"
   },
   "source": [
    "Attention provides some interpretability. We can inspect the attention distribution values ($\\alpha_t \\in \\mathcal{R}^T$) at each decoding timestep to see where the decoder was focusing on."
   ]
  },
  {
   "cell_type": "code",
   "execution_count": 56,
   "metadata": {
    "id": "7usKKkB9U56N"
   },
   "outputs": [],
   "source": [
    "source_language = src_tensor[:,0].cpu().numpy()\n",
    "translation_logit = output_translate[:,0,:].squeeze(1)\n",
    "weights = all_attention_weights[0,:,:].squeeze(1).cpu().detach().numpy()"
   ]
  },
  {
   "cell_type": "markdown",
   "metadata": {
    "id": "c4U9G9tAVBQU"
   },
   "source": [
    "When we choose top 1 word from decoder's output, we get the probability and index of the word"
   ]
  },
  {
   "cell_type": "code",
   "execution_count": 57,
   "metadata": {
    "colab": {
     "base_uri": "https://localhost:8080/"
    },
    "id": "PjeCMEkSU7zt",
    "outputId": "7532e01e-d69a-4d98-edda-4b8ec04e4cba"
   },
   "outputs": [
    {
     "name": "stdout",
     "output_type": "stream",
     "text": [
      "[  4  14  13   4  59 645  10  41  49   4 532   5   3   3   3   3   3   3\n",
      "   3   3   3   3   3   3   3   3   3   3   3   3   3   3   3   3   3   3\n",
      "   3   3   3   3   3   3   3   3   3   3   3   3   3   3   3   3   3   3\n",
      "   3   3   3   3   3   3   3   3   3   3   3]\n"
     ]
    }
   ],
   "source": [
    "prob, token_id = translation_logit.data.topk(1)\n",
    "token_id = token_id.squeeze(1).cpu().numpy()\n",
    "print(token_id)"
   ]
  },
  {
   "cell_type": "markdown",
   "metadata": {
    "id": "rSUB_7C0VOqB"
   },
   "source": [
    "We will get the source language in textual form (from word ids)."
   ]
  },
  {
   "cell_type": "code",
   "execution_count": 58,
   "metadata": {
    "colab": {
     "base_uri": "https://localhost:8080/"
    },
    "id": "NlEll9QrVUE6",
    "outputId": "3f2ef706-e29a-4e8c-ad96-15bf9e976f07"
   },
   "outputs": [
    {
     "name": "stdout",
     "output_type": "stream",
     "text": [
      "Source language: ['une', 'femme', 'avec', 'un', 'gros', 'sac', 'passe', 'par', 'une', 'porte', '.']\n"
     ]
    }
   ],
   "source": [
    "src_language = []\n",
    "\n",
    "for i in source_language:\n",
    "    if i == SRC.vocab.stoi['<eos>']:\n",
    "        break\n",
    "    else:\n",
    "        token = SRC.vocab.itos[i]\n",
    "        src_language.append(token)\n",
    "print(\"Source language:\", src_language)"
   ]
  },
  {
   "cell_type": "markdown",
   "metadata": {
    "id": "EWAl_JurVWqW"
   },
   "source": [
    "We will get the machine translation in textual form (from word ids)"
   ]
  },
  {
   "cell_type": "code",
   "execution_count": 59,
   "metadata": {
    "colab": {
     "base_uri": "https://localhost:8080/"
    },
    "id": "5b5tN41nVazS",
    "outputId": "24121f42-d8a0-4700-a840-28854a5d9682"
   },
   "outputs": [
    {
     "name": "stdout",
     "output_type": "stream",
     "text": [
      "Our model translation:  ['a', 'woman', 'with', 'a', 'large', 'purse', 'is', 'walking', 'by', 'a', 'door', '.']\n",
      "Golden translation:  a woman with a large purse is walking by a gate.\n"
     ]
    }
   ],
   "source": [
    "trans_language = []\n",
    "for i in token_id:\n",
    "    if i == TRG.vocab.stoi['<eos>']:\n",
    "        break\n",
    "    else:\n",
    "        token = TRG.vocab.itos[i]\n",
    "        trans_language.append(token)\n",
    "print(\"Our model translation: \", trans_language)\n",
    "print(\"Golden translation: \", \"a woman with a large purse is walking by a gate.\")"
   ]
  },
  {
   "cell_type": "markdown",
   "metadata": {
    "id": "TSgepfr2VQ-z"
   },
   "source": [
    "We can now use matplotlib machinery to plot the attention weights."
   ]
  },
  {
   "cell_type": "code",
   "execution_count": 60,
   "metadata": {
    "colab": {
     "base_uri": "https://localhost:8080/",
     "height": 297
    },
    "id": "AzTLPtlRVmhg",
    "outputId": "6556d396-737f-405a-a623-12631f30f56d"
   },
   "outputs": [
    {
     "data": {
      "image/png": "[encoded data removed]",
      "text/plain": [
       "<Figure size 432x288 with 1 Axes>"
      ]
     },
     "metadata": {
      "needs_background": "light"
     },
     "output_type": "display_data"
    }
   ],
   "source": [
    "import matplotlib\n",
    "import matplotlib.pyplot as plt\n",
    "\n",
    "weights = np.array(weights)[0:len(trans_language),0:len(src_language)]\n",
    "\n",
    "fig, ax = plt.subplots()\n",
    "im = ax.imshow(weights,cmap=plt.cm.Blues)\n",
    "# plt.colorbar(im)\n",
    "# We want to show all ticks...\n",
    "ax.set_xticks(np.arange(len(src_language)))\n",
    "ax.set_yticks(np.arange(len(trans_language)))\n",
    "# ... and label them with the respective list entries\n",
    "ax.set_xticklabels(src_language)\n",
    "ax.set_yticklabels(trans_language)\n",
    "\n",
    "# Rotate the tick labels and set their alignment.\n",
    "plt.setp(ax.get_xticklabels(), rotation=45, ha=\"right\",\n",
    "         rotation_mode=\"anchor\")\n",
    "\n",
    "ax.set_title(\"seq2seq-Attn\")\n",
    "fig.tight_layout()\n",
    "plt.show()"
   ]
  },
  {
   "cell_type": "markdown",
   "metadata": {
    "id": "YJfEfa9B0Lpy"
   },
   "source": [
    "### 11. Evaluation of the model using BLEU\n",
    "\n",
    "We will evaluate the trained model using BLEU-4 metric (the same metric we implemented in the last tutorial). "
   ]
  },
  {
   "cell_type": "code",
   "execution_count": 61,
   "metadata": {
    "colab": {
     "base_uri": "https://localhost:8080/"
    },
    "id": "yZsqjaby0Ui0",
    "outputId": "fa26306d-a411-4f8f-9448-aa9d20fa3970"
   },
   "outputs": [
    {
     "name": "stdout",
     "output_type": "stream",
     "text": [
      "BLEU score of the best model is 0.425\n"
     ]
    }
   ],
   "source": [
    "def inference(model, file_name, src_vocab, trg_vocab, attention = True, max_trg_len = 64):\n",
    "    '''\n",
    "    Function for translation inference\n",
    "\n",
    "    Input: \n",
    "    model: translation model;\n",
    "    file_name: the directoy of test file that the first column is target reference, and the second column is source language;\n",
    "    trg_vocab: Target torchtext Field\n",
    "    attention: the model returns attention weights or not.\n",
    "    max_trg_len: the maximal length of translation text (optinal), default = 64\n",
    "\n",
    "    Output:\n",
    "    Corpus BLEU score.\n",
    "    '''\n",
    "    from nltk.translate.bleu_score import corpus_bleu\n",
    "    from nltk.translate.bleu_score import sentence_bleu\n",
    "    from torchtext.legacy.data import TabularDataset\n",
    "    from torchtext.legacy.data import Iterator\n",
    "\n",
    "    # convert index to text string\n",
    "    def convert_itos(convert_vocab, token_ids):\n",
    "        list_string = []\n",
    "        for i in token_ids:\n",
    "            if i == convert_vocab.vocab.stoi['<eos>']:\n",
    "                break\n",
    "            else:\n",
    "                token = convert_vocab.vocab.itos[i]\n",
    "                list_string.append(token)\n",
    "        return list_string\n",
    "\n",
    "    test = TabularDataset(\n",
    "      path=file_name, # the root directory where the data lies\n",
    "      format='tsv',\n",
    "      skip_header=True, # if your tsv file has a header, make sure to pass this to ensure it doesn't get proceesed as data!\n",
    "      fields=[('TRG', trg_vocab), ('SRC', src_vocab)])\n",
    "\n",
    "    test_iter = Iterator(\n",
    "    dataset = test, # we pass in the datasets we want the iterator to draw data from\n",
    "    sort = False,batch_size=128,\n",
    "    sort_key=None,\n",
    "    shuffle=False,\n",
    "    sort_within_batch=False,\n",
    "    device = device,\n",
    "    train=False\n",
    "    )\n",
    "  \n",
    "    model.eval()\n",
    "    all_trg = []\n",
    "    all_translated_trg = []\n",
    "\n",
    "    TRG_PAD_IDX = trg_vocab.vocab.stoi[trg_vocab.pad_token]\n",
    "\n",
    "    with torch.no_grad():\n",
    "    \n",
    "        for i, batch in enumerate(test_iter):\n",
    "\n",
    "            src = batch.SRC\n",
    "            #src = [src len, batch size]\n",
    "\n",
    "            trg = batch.TRG\n",
    "            #trg = [trg len, batch size]\n",
    "\n",
    "            batch_size = trg.shape[1]\n",
    "\n",
    "            # create a placeholder for traget language with shape of [max_trg_len, batch_size] where all the elements are the index of <pad>. Then send to device\n",
    "            trg_placeholder = torch.Tensor(max_trg_len, batch_size)\n",
    "            trg_placeholder.fill_(TRG_PAD_IDX)\n",
    "            trg_placeholder = trg_placeholder.long().to(device)\n",
    "            if attention == True:\n",
    "                output,_ = model(src, trg_placeholder, 0) #turn off teacher forcing\n",
    "            else:\n",
    "                output,_ = model(src, trg_placeholder, 0) #turn off teacher forcing\n",
    "            # get translation results, we ignor first token <sos> in both translation and target sentences. \n",
    "            # output_translate = [(trg len - 1), batch, output dim] output dim is size of target vocabulary.\n",
    "            output_translate = output[1:]\n",
    "            # store gold target sentences to a list \n",
    "            all_trg.append(trg[1:].cpu())\n",
    "\n",
    "            # Choose top 1 word from decoder's output, we get the probability and index of the word\n",
    "            prob, token_id = output_translate.data.topk(1)\n",
    "            translation_token_id = token_id.squeeze(2).cpu()\n",
    "\n",
    "            # store gold target sentences to a list \n",
    "            all_translated_trg.append(translation_token_id)\n",
    "      \n",
    "    all_gold_text = []\n",
    "    all_translated_text = []\n",
    "    for i in range(len(all_trg)): \n",
    "        cur_gold = all_trg[i]\n",
    "        cur_translation = all_translated_trg[i]\n",
    "        for j in range(cur_gold.shape[1]):\n",
    "            gold_convered_strings = convert_itos(trg_vocab,cur_gold[:,j])\n",
    "            trans_convered_strings = convert_itos(trg_vocab,cur_translation[:,j])\n",
    "\n",
    "            all_gold_text.append(gold_convered_strings)\n",
    "            all_translated_text.append(trans_convered_strings)\n",
    "\n",
    "    corpus_all_gold_text = [[item] for item in all_gold_text]\n",
    "    corpus_bleu_score = corpus_bleu(corpus_all_gold_text, all_translated_text)  \n",
    "    return corpus_bleu_score\n",
    "\n",
    "#using example \n",
    "bleu_score = inference(model_best, \"./drive/MyDrive/Colab Notebooks/eng-fre/test_eng_fre.tsv\", SRC_saved, TRG_saved, True, 64)\n",
    "print('BLEU score of the best model is %.3f'%bleu_score)"
   ]
  },
  {
   "cell_type": "markdown",
   "metadata": {},
   "source": [
    "## Addition Reading: Unified attention model\n",
    "\n",
    "Many attention algorithms have been inspired by vanilla attention [Bahdanau et al. 2015](https://arxiv.org/abs/1409.0473). [Galassi et al. 2020](https://ieeexplore.ieee.org/stamp/stamp.jsp?arnumber=9194070) propose a unified attention model to summarize the general structure of the attention models. \n",
    "\n",
    "\n",
    "The following figures demonstrates the unified attention architecture proposed in [Galassi et al. 2020](https://ieeexplore.ieee.org/stamp/stamp.jsp?arnumber=9194070). The **inputs** are the key, $K\\in\\mathbb{R}^{n_k \\times d_k}$; value, $V\\in\\mathbb{R}^{n_v \\times d_v}$; and query, $q\\in\\mathbb{R}^{d_q}$. The input text sequence is encoded as $K$, $V$, and $q$ by the encode models, $kaf$, $vaf$, and $qaf$, respectively. $K$ consists of $n_k$ vectors ($k_i$) of size $d_k$, which is attended to. The encoder model, $kaf$, can be a one-hot vector, an embedding layer, or a deep learning model; thus, each $k_i$ corresponds to a word embedding or the hidden state of a deep learning model, such as the hidden state of the encoder (i.e., $h_i$ from a LSTM encoder). Query $q$ is an input element paying attention to $K$. \n",
    "In our example, $q$ is the hidden state of decoder, $s_{t-1}$. The objective of the attention model is to automatically weigh the relevance between the target task according to $q$ and the $n_k$ elements of $K$, and to take the relevance into account when constructing the context vector, $c$. The relevance is computed by **alignment function** $f(\\cdot)$\n",
    "\\begin{equation}\n",
    "e=f(q, K)\n",
    "\\end{equation}\n",
    "The output vector, $e\\in \\mathbb{R}^{n_k}$, is known as the energy or alignment scores. Bahdanau et al. used concatenative/additive alignment function. [Luong et al. 2015](https://arxiv.org/abs/1508.04025) used Dot-Product/multiplicative alignment function. Then, the energy vector, $e$, is passed through a distribution function, $g(\\cdot)$, to obtain the attention weight vector\n",
    "\\begin{equation}\n",
    "a=g(e),\n",
    "\\end{equation}\n",
    "where $a\\in \\mathbb{R}^{n_k}$ consists of $n_k$ values of $a_i$. The attention weight, $a_i$, represents the relevance of feature $k_i$ to the query $q$. The **distribution function** of our example is a softmax function. The softmax function is the most popular distribution function in the attention models, as it provides a probability distribution to indicate the relevance of the elements in $K$ to the task target. \n",
    "The attention model then applies the attention weights to $V\\in\\mathbb{R}^{n_k \\times d_v}$ where each element $v_i$ is a $d_v$-dimensional vector and corresponds to the element $k_i$ in $K$. Generally, $V$ is a duplicate of $K$ in many attention models. For instance, $v_i$ is $h_i$. The attention weights, $a$, are applied to $V$ to produce new representations of the input keys, denoted $Z\\in\\mathbb{R}^{n_k \\times d_v}$  \n",
    "\\begin{equation}\n",
    "Z=aV,\n",
    "\\end{equation}\n",
    "Finally, the **aggregation function**, $agg(\\cdot)$, computes the context vector, $c\\in\\mathbb{R}^{d_v}$ aggregating elements of $Z$. Summation is the most common approach producing $c$ from $Z$. Our example of attention also uses summation, i.e.,\n",
    "\\begin{equation}\n",
    "c = \\sum_{i=1}^{n} a_{i}v_{i}.\n",
    "\\end{equation}\n",
    "\n",
    "\n",
    "![General attention model](./attention_images/general_attn.png)\n",
    "![Core attention model](./attention_images/core_attn.png)"
   ]
  },
  {
   "cell_type": "markdown",
   "metadata": {
    "id": "KJkSfd0pVvf3"
   },
   "source": [
    "## Reference \n",
    "* https://pytorch.org/docs/stable/nn.html\n",
    "* https://github.com/bentrevett/pytorch-seq2seq/blob/master/1%20-%20Sequence%20to%20Sequence%20Learning%20with%20Neural%20Networks.ipynb\n",
    "* https://arxiv.org/abs/1409.3215\n",
    "* https://github.com/graviraja/seq2seq\n",
    "* https://github.com/eladhoffer/seq2seq.pytorch\n",
    "* https://github.com/spro/practical-pytorch/tree/master/seq2seq-translation\n",
    "* http://mlexplained.com/2018/02/08/a-comprehensive-tutorial-to-torchtext/\n",
    "* http://web.stanford.edu/class/cs224n/slides/cs224n-2020-lecture08-nmt.pdf"
   ]
  }
 ],
 "metadata": {
  "accelerator": "GPU",
  "colab": {
   "collapsed_sections": [],
   "name": "attention_tutorial.ipynb",
   "provenance": []
  },
  "kernelspec": {
   "display_name": "Python 3",
   "language": "python",
   "name": "python3"
  },
  "language_info": {
   "codemirror_mode": {
    "name": "ipython",
    "version": 3
   },
   "file_extension": ".py",
   "mimetype": "text/x-python",
   "name": "python",
   "nbconvert_exporter": "python",
   "pygments_lexer": "ipython3",
   "version": "3.7.3"
  }
 },
 "nbformat": 4,
 "nbformat_minor": 1
}
