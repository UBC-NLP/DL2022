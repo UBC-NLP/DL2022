{
 "cells": [
  {
   "cell_type": "markdown",
   "metadata": {
    "id": "WqDvmzPtY3j_"
   },
   "source": [
    "# Transformer model - Machine Translation"
   ]
  },
  {
   "cell_type": "markdown",
   "metadata": {
    "id": "kDsWzitHZO3x"
   },
   "source": [
    "### Tutorial Topics\n",
    "- Transformer model\n",
    "\n",
    "### Software Requirements\n",
    "This notebook was last tested on:\n",
    "- Python (3.7)\n",
    "- PyTorch (1.7.1) \n",
    "- torchtext (0.5.0)\n",
    "- NLTK (3.5)"
   ]
  },
  {
   "cell_type": "code",
   "execution_count": 1,
   "metadata": {
    "colab": {
     "base_uri": "https://localhost:8080/"
    },
    "id": "dyofV03dW5NZ",
    "outputId": "4cc08910-bcf4-4c61-c628-bf8c79697ad8"
   },
   "outputs": [
    {
     "name": "stdout",
     "output_type": "stream",
     "text": [
      "Looking in indexes: https://pypi.org/simple, https://us-python.pkg.dev/colab-wheels/public/simple/\n",
      "Requirement already satisfied: torch==1.7.1 in /usr/local/lib/python3.8/dist-packages (1.7.1)\n",
      "Requirement already satisfied: torchtext==0.5.0 in /usr/local/lib/python3.8/dist-packages (0.5.0)\n",
      "Requirement already satisfied: nltk==3.5 in /usr/local/lib/python3.8/dist-packages (3.5)\n",
      "Requirement already satisfied: typing-extensions in /usr/local/lib/python3.8/dist-packages (from torch==1.7.1) (4.4.0)\n",
      "Requirement already satisfied: numpy in /usr/local/lib/python3.8/dist-packages (from torch==1.7.1) (1.21.6)\n",
      "Requirement already satisfied: sentencepiece in /usr/local/lib/python3.8/dist-packages (from torchtext==0.5.0) (0.1.97)\n",
      "Requirement already satisfied: six in /usr/local/lib/python3.8/dist-packages (from torchtext==0.5.0) (1.15.0)\n",
      "Requirement already satisfied: requests in /usr/local/lib/python3.8/dist-packages (from torchtext==0.5.0) (2.23.0)\n",
      "Requirement already satisfied: tqdm in /usr/local/lib/python3.8/dist-packages (from torchtext==0.5.0) (4.64.1)\n",
      "Requirement already satisfied: joblib in /usr/local/lib/python3.8/dist-packages (from nltk==3.5) (1.2.0)\n",
      "Requirement already satisfied: click in /usr/local/lib/python3.8/dist-packages (from nltk==3.5) (7.1.2)\n",
      "Requirement already satisfied: regex in /usr/local/lib/python3.8/dist-packages (from nltk==3.5) (2022.6.2)\n",
      "Requirement already satisfied: urllib3!=1.25.0,!=1.25.1,<1.26,>=1.21.1 in /usr/local/lib/python3.8/dist-packages (from requests->torchtext==0.5.0) (1.24.3)\n",
      "Requirement already satisfied: idna<3,>=2.5 in /usr/local/lib/python3.8/dist-packages (from requests->torchtext==0.5.0) (2.10)\n",
      "Requirement already satisfied: chardet<4,>=3.0.2 in /usr/local/lib/python3.8/dist-packages (from requests->torchtext==0.5.0) (3.0.4)\n",
      "Requirement already satisfied: certifi>=2017.4.17 in /usr/local/lib/python3.8/dist-packages (from requests->torchtext==0.5.0) (2022.12.7)\n"
     ]
    }
   ],
   "source": [
    "!pip install torch==1.7.1 torchtext==0.5.0 nltk==3.5"
   ]
  },
  {
   "cell_type": "code",
   "execution_count": 2,
   "metadata": {
    "colab": {
     "base_uri": "https://localhost:8080/"
    },
    "id": "cJtlswApZQyd",
    "outputId": "ba062680-c315-4bf5-8867-7a3eac293087"
   },
   "outputs": [
    {
     "name": "stdout",
     "output_type": "stream",
     "text": [
      "Drive already mounted at /content/drive; to attempt to forcibly remount, call drive.mount(\"/content/drive\", force_remount=True).\n"
     ]
    }
   ],
   "source": [
    "\n",
    "from google.colab import drive\n",
    "drive.mount('/content/drive')"
   ]
  },
  {
   "cell_type": "markdown",
   "metadata": {
    "id": "1UKNfK-PvESg"
   },
   "source": [
    "## Seq2Seq model with attention - Recap\n",
    "\n",
    "One inherent issue with recurrent neural network is that RNNs are **sequential in nature**, that is, each hidden state depends on the output of the previous hidden state. This issue prevents RNN from parallelization within training examples, which especially becomes critical for modeling longer sequences (e.g. documents). \n",
    "\n",
    "![](https://drive.google.com/uc?id=1scvvOneIAFk5Sob1SdghccJBy8qq9ePU)\n",
    "\n",
    "\n",
    "## Transformer model\n",
    "\n",
    "[Vaswani et al., 2017](https://arxiv.org/pdf/1706.03762.pdf) propose the Transformer, a model architecture that throws away recurrence and relies entirely on attention mechanism to draw global dependencies between input and output. The Transfomer allows for significantly more parallelization and has been used to build the current state-of-the-art models for several NLP (also Speech, Vision) applications, including:\n",
    "- machine translation (focus of this tutorial)\n",
    "- sentiment analysis, question answering, natural language inference (e.g., [BERT](https://arxiv.org/abs/1810.04805))\n",
    "- story generation, news article generation (e.g., [GPT-2](https://en.wikipedia.org/wiki/GPT-2))\n",
    "- and many more\n",
    "\n",
    "![](https://nlp.seas.harvard.edu/images/the-annotated-transformer_14_0.png)\n",
    "\n",
    "Picture Courtesy: https://nlp.seas.harvard.edu/images/the-annotated-transformer_14_0.png\n",
    "\n",
    "In this tutorial, we will look at core components of Transformer model and train a Transformer model from scratch to translate French sentence to English sentence.\n",
    "\n",
    "The sections which are taken from the previous tutorial include:\n",
    "* Preparing Data\n",
    "* Train logic (most parts)\n",
    "* Evaluation logic (most parts)"
   ]
  },
  {
   "cell_type": "markdown",
   "metadata": {
    "id": "k7vLl5mFKCgO"
   },
   "source": [
    "## Import required libraries"
   ]
  },
  {
   "cell_type": "code",
   "execution_count": 3,
   "metadata": {
    "colab": {
     "base_uri": "https://localhost:8080/"
    },
    "id": "n76MDk3BZSPI",
    "outputId": "ac7e5aee-c873-413c-8853-89ee8536d71b"
   },
   "outputs": [
    {
     "name": "stdout",
     "output_type": "stream",
     "text": [
      "cuda\n"
     ]
    }
   ],
   "source": [
    "import unicodedata\n",
    "import string\n",
    "import re\n",
    "import random\n",
    "import time\n",
    "import datetime\n",
    "import math\n",
    "\n",
    "import torch\n",
    "import torch.nn as nn\n",
    "from torch.autograd import Variable\n",
    "from torch import optim\n",
    "import torch.nn.functional as F\n",
    "from torch.nn.utils.rnn import pad_packed_sequence, pack_padded_sequence\n",
    "import torchtext\n",
    "from torchtext import data\n",
    "\n",
    "import spacy\n",
    "import numpy as np\n",
    "\n",
    "import math, copy, time\n",
    "import matplotlib.pyplot as plt\n",
    "\n",
    "import seaborn\n",
    "seaborn.set_context(context=\"talk\")\n",
    "%matplotlib inline\n",
    "\n",
    "# set the pseudo-random generator\n",
    "manual_seed = 77\n",
    "torch.manual_seed(manual_seed)\n",
    "device = torch.device(\"cuda\" if torch.cuda.is_available() else \"cpu\")\n",
    "print(device)\n",
    "n_gpu = torch.cuda.device_count()\n",
    "if n_gpu > 0:\n",
    "    torch.cuda.manual_seed(manual_seed)"
   ]
  },
  {
   "cell_type": "markdown",
   "metadata": {
    "id": "zEM1Ah413yPC"
   },
   "source": [
    "### Preparing Data\n",
    "\n",
    "***Define tokenizers:***\n",
    "we create the tokenizers. A tokenizer is used to turn a string containing a sentence into a list of individual tokens that make up that string.\n",
    "\n",
    "spaCy has model for each language (\"fr\" for French and \"en\" for English) which need to be loaded so we can access the tokenizer of each model.\n",
    "\n",
    "***Note***: the models must first be downloaded using the following on the command line:\n"
   ]
  },
  {
   "cell_type": "code",
   "execution_count": 4,
   "metadata": {
    "colab": {
     "base_uri": "https://localhost:8080/"
    },
    "id": "JgAzBFPa34OA",
    "outputId": "5de99f85-fc36-4792-c9b3-ac9393fc6da4"
   },
   "outputs": [
    {
     "name": "stdout",
     "output_type": "stream",
     "text": [
      "Looking in indexes: https://pypi.org/simple, https://us-python.pkg.dev/colab-wheels/public/simple/\n",
      "Collecting en-core-web-sm==3.4.1\n",
      "  Downloading https://github.com/explosion/spacy-models/releases/download/en_core_web_sm-3.4.1/en_core_web_sm-3.4.1-py3-none-any.whl (12.8 MB)\n",
      "\u001b[K     |████████████████████████████████| 12.8 MB 111.8 MB/s \n",
      "\u001b[?25hRequirement already satisfied: spacy<3.5.0,>=3.4.0 in /usr/local/lib/python3.8/dist-packages (from en-core-web-sm==3.4.1) (3.4.4)\n",
      "Requirement already satisfied: spacy-legacy<3.1.0,>=3.0.10 in /usr/local/lib/python3.8/dist-packages (from spacy<3.5.0,>=3.4.0->en-core-web-sm==3.4.1) (3.0.10)\n",
      "Requirement already satisfied: smart-open<7.0.0,>=5.2.1 in /usr/local/lib/python3.8/dist-packages (from spacy<3.5.0,>=3.4.0->en-core-web-sm==3.4.1) (6.3.0)\n",
      "Requirement already satisfied: preshed<3.1.0,>=3.0.2 in /usr/local/lib/python3.8/dist-packages (from spacy<3.5.0,>=3.4.0->en-core-web-sm==3.4.1) (3.0.8)\n",
      "Requirement already satisfied: srsly<3.0.0,>=2.4.3 in /usr/local/lib/python3.8/dist-packages (from spacy<3.5.0,>=3.4.0->en-core-web-sm==3.4.1) (2.4.5)\n",
      "Requirement already satisfied: packaging>=20.0 in /usr/local/lib/python3.8/dist-packages (from spacy<3.5.0,>=3.4.0->en-core-web-sm==3.4.1) (21.3)\n",
      "Requirement already satisfied: catalogue<2.1.0,>=2.0.6 in /usr/local/lib/python3.8/dist-packages (from spacy<3.5.0,>=3.4.0->en-core-web-sm==3.4.1) (2.0.8)\n",
      "Requirement already satisfied: spacy-loggers<2.0.0,>=1.0.0 in /usr/local/lib/python3.8/dist-packages (from spacy<3.5.0,>=3.4.0->en-core-web-sm==3.4.1) (1.0.4)\n",
      "Requirement already satisfied: cymem<2.1.0,>=2.0.2 in /usr/local/lib/python3.8/dist-packages (from spacy<3.5.0,>=3.4.0->en-core-web-sm==3.4.1) (2.0.7)\n",
      "Requirement already satisfied: requests<3.0.0,>=2.13.0 in /usr/local/lib/python3.8/dist-packages (from spacy<3.5.0,>=3.4.0->en-core-web-sm==3.4.1) (2.23.0)\n",
      "Requirement already satisfied: numpy>=1.15.0 in /usr/local/lib/python3.8/dist-packages (from spacy<3.5.0,>=3.4.0->en-core-web-sm==3.4.1) (1.21.6)\n",
      "Requirement already satisfied: langcodes<4.0.0,>=3.2.0 in /usr/local/lib/python3.8/dist-packages (from spacy<3.5.0,>=3.4.0->en-core-web-sm==3.4.1) (3.3.0)\n",
      "Requirement already satisfied: setuptools in /usr/local/lib/python3.8/dist-packages (from spacy<3.5.0,>=3.4.0->en-core-web-sm==3.4.1) (57.4.0)\n",
      "Requirement already satisfied: thinc<8.2.0,>=8.1.0 in /usr/local/lib/python3.8/dist-packages (from spacy<3.5.0,>=3.4.0->en-core-web-sm==3.4.1) (8.1.5)\n",
      "Requirement already satisfied: jinja2 in /usr/local/lib/python3.8/dist-packages (from spacy<3.5.0,>=3.4.0->en-core-web-sm==3.4.1) (2.11.3)\n",
      "Requirement already satisfied: pydantic!=1.8,!=1.8.1,<1.11.0,>=1.7.4 in /usr/local/lib/python3.8/dist-packages (from spacy<3.5.0,>=3.4.0->en-core-web-sm==3.4.1) (1.10.2)\n",
      "Requirement already satisfied: pathy>=0.3.5 in /usr/local/lib/python3.8/dist-packages (from spacy<3.5.0,>=3.4.0->en-core-web-sm==3.4.1) (0.10.1)\n",
      "Requirement already satisfied: typer<0.8.0,>=0.3.0 in /usr/local/lib/python3.8/dist-packages (from spacy<3.5.0,>=3.4.0->en-core-web-sm==3.4.1) (0.7.0)\n",
      "Requirement already satisfied: wasabi<1.1.0,>=0.9.1 in /usr/local/lib/python3.8/dist-packages (from spacy<3.5.0,>=3.4.0->en-core-web-sm==3.4.1) (0.10.1)\n",
      "Requirement already satisfied: murmurhash<1.1.0,>=0.28.0 in /usr/local/lib/python3.8/dist-packages (from spacy<3.5.0,>=3.4.0->en-core-web-sm==3.4.1) (1.0.9)\n",
      "Requirement already satisfied: tqdm<5.0.0,>=4.38.0 in /usr/local/lib/python3.8/dist-packages (from spacy<3.5.0,>=3.4.0->en-core-web-sm==3.4.1) (4.64.1)\n",
      "Requirement already satisfied: pyparsing!=3.0.5,>=2.0.2 in /usr/local/lib/python3.8/dist-packages (from packaging>=20.0->spacy<3.5.0,>=3.4.0->en-core-web-sm==3.4.1) (3.0.9)\n",
      "Requirement already satisfied: typing-extensions>=4.1.0 in /usr/local/lib/python3.8/dist-packages (from pydantic!=1.8,!=1.8.1,<1.11.0,>=1.7.4->spacy<3.5.0,>=3.4.0->en-core-web-sm==3.4.1) (4.4.0)\n",
      "Requirement already satisfied: idna<3,>=2.5 in /usr/local/lib/python3.8/dist-packages (from requests<3.0.0,>=2.13.0->spacy<3.5.0,>=3.4.0->en-core-web-sm==3.4.1) (2.10)\n",
      "Requirement already satisfied: certifi>=2017.4.17 in /usr/local/lib/python3.8/dist-packages (from requests<3.0.0,>=2.13.0->spacy<3.5.0,>=3.4.0->en-core-web-sm==3.4.1) (2022.12.7)\n",
      "Requirement already satisfied: urllib3!=1.25.0,!=1.25.1,<1.26,>=1.21.1 in /usr/local/lib/python3.8/dist-packages (from requests<3.0.0,>=2.13.0->spacy<3.5.0,>=3.4.0->en-core-web-sm==3.4.1) (1.24.3)\n",
      "Requirement already satisfied: chardet<4,>=3.0.2 in /usr/local/lib/python3.8/dist-packages (from requests<3.0.0,>=2.13.0->spacy<3.5.0,>=3.4.0->en-core-web-sm==3.4.1) (3.0.4)\n",
      "Requirement already satisfied: blis<0.8.0,>=0.7.8 in /usr/local/lib/python3.8/dist-packages (from thinc<8.2.0,>=8.1.0->spacy<3.5.0,>=3.4.0->en-core-web-sm==3.4.1) (0.7.9)\n",
      "Requirement already satisfied: confection<1.0.0,>=0.0.1 in /usr/local/lib/python3.8/dist-packages (from thinc<8.2.0,>=8.1.0->spacy<3.5.0,>=3.4.0->en-core-web-sm==3.4.1) (0.0.3)\n",
      "Requirement already satisfied: click<9.0.0,>=7.1.1 in /usr/local/lib/python3.8/dist-packages (from typer<0.8.0,>=0.3.0->spacy<3.5.0,>=3.4.0->en-core-web-sm==3.4.1) (7.1.2)\n",
      "Requirement already satisfied: MarkupSafe>=0.23 in /usr/local/lib/python3.8/dist-packages (from jinja2->spacy<3.5.0,>=3.4.0->en-core-web-sm==3.4.1) (2.0.1)\n",
      "\u001b[38;5;2m✔ Download and installation successful\u001b[0m\n",
      "You can now load the package via spacy.load('en_core_web_sm')\n",
      "Looking in indexes: https://pypi.org/simple, https://us-python.pkg.dev/colab-wheels/public/simple/\n",
      "Collecting fr-core-news-sm==3.4.0\n",
      "  Downloading https://github.com/explosion/spacy-models/releases/download/fr_core_news_sm-3.4.0/fr_core_news_sm-3.4.0-py3-none-any.whl (16.3 MB)\n",
      "\u001b[K     |████████████████████████████████| 16.3 MB 14.3 MB/s \n",
      "\u001b[?25hRequirement already satisfied: spacy<3.5.0,>=3.4.0 in /usr/local/lib/python3.8/dist-packages (from fr-core-news-sm==3.4.0) (3.4.4)\n",
      "Requirement already satisfied: smart-open<7.0.0,>=5.2.1 in /usr/local/lib/python3.8/dist-packages (from spacy<3.5.0,>=3.4.0->fr-core-news-sm==3.4.0) (6.3.0)\n",
      "Requirement already satisfied: thinc<8.2.0,>=8.1.0 in /usr/local/lib/python3.8/dist-packages (from spacy<3.5.0,>=3.4.0->fr-core-news-sm==3.4.0) (8.1.5)\n",
      "Requirement already satisfied: packaging>=20.0 in /usr/local/lib/python3.8/dist-packages (from spacy<3.5.0,>=3.4.0->fr-core-news-sm==3.4.0) (21.3)\n",
      "Requirement already satisfied: murmurhash<1.1.0,>=0.28.0 in /usr/local/lib/python3.8/dist-packages (from spacy<3.5.0,>=3.4.0->fr-core-news-sm==3.4.0) (1.0.9)\n",
      "Requirement already satisfied: cymem<2.1.0,>=2.0.2 in /usr/local/lib/python3.8/dist-packages (from spacy<3.5.0,>=3.4.0->fr-core-news-sm==3.4.0) (2.0.7)\n",
      "Requirement already satisfied: pathy>=0.3.5 in /usr/local/lib/python3.8/dist-packages (from spacy<3.5.0,>=3.4.0->fr-core-news-sm==3.4.0) (0.10.1)\n",
      "Requirement already satisfied: pydantic!=1.8,!=1.8.1,<1.11.0,>=1.7.4 in /usr/local/lib/python3.8/dist-packages (from spacy<3.5.0,>=3.4.0->fr-core-news-sm==3.4.0) (1.10.2)\n",
      "Requirement already satisfied: jinja2 in /usr/local/lib/python3.8/dist-packages (from spacy<3.5.0,>=3.4.0->fr-core-news-sm==3.4.0) (2.11.3)\n",
      "Requirement already satisfied: setuptools in /usr/local/lib/python3.8/dist-packages (from spacy<3.5.0,>=3.4.0->fr-core-news-sm==3.4.0) (57.4.0)\n",
      "Requirement already satisfied: spacy-legacy<3.1.0,>=3.0.10 in /usr/local/lib/python3.8/dist-packages (from spacy<3.5.0,>=3.4.0->fr-core-news-sm==3.4.0) (3.0.10)\n",
      "Requirement already satisfied: catalogue<2.1.0,>=2.0.6 in /usr/local/lib/python3.8/dist-packages (from spacy<3.5.0,>=3.4.0->fr-core-news-sm==3.4.0) (2.0.8)\n",
      "Requirement already satisfied: requests<3.0.0,>=2.13.0 in /usr/local/lib/python3.8/dist-packages (from spacy<3.5.0,>=3.4.0->fr-core-news-sm==3.4.0) (2.23.0)\n",
      "Requirement already satisfied: numpy>=1.15.0 in /usr/local/lib/python3.8/dist-packages (from spacy<3.5.0,>=3.4.0->fr-core-news-sm==3.4.0) (1.21.6)\n",
      "Requirement already satisfied: langcodes<4.0.0,>=3.2.0 in /usr/local/lib/python3.8/dist-packages (from spacy<3.5.0,>=3.4.0->fr-core-news-sm==3.4.0) (3.3.0)\n",
      "Requirement already satisfied: spacy-loggers<2.0.0,>=1.0.0 in /usr/local/lib/python3.8/dist-packages (from spacy<3.5.0,>=3.4.0->fr-core-news-sm==3.4.0) (1.0.4)\n",
      "Requirement already satisfied: srsly<3.0.0,>=2.4.3 in /usr/local/lib/python3.8/dist-packages (from spacy<3.5.0,>=3.4.0->fr-core-news-sm==3.4.0) (2.4.5)\n",
      "Requirement already satisfied: typer<0.8.0,>=0.3.0 in /usr/local/lib/python3.8/dist-packages (from spacy<3.5.0,>=3.4.0->fr-core-news-sm==3.4.0) (0.7.0)\n",
      "Requirement already satisfied: tqdm<5.0.0,>=4.38.0 in /usr/local/lib/python3.8/dist-packages (from spacy<3.5.0,>=3.4.0->fr-core-news-sm==3.4.0) (4.64.1)\n",
      "Requirement already satisfied: preshed<3.1.0,>=3.0.2 in /usr/local/lib/python3.8/dist-packages (from spacy<3.5.0,>=3.4.0->fr-core-news-sm==3.4.0) (3.0.8)\n",
      "Requirement already satisfied: wasabi<1.1.0,>=0.9.1 in /usr/local/lib/python3.8/dist-packages (from spacy<3.5.0,>=3.4.0->fr-core-news-sm==3.4.0) (0.10.1)\n",
      "Requirement already satisfied: pyparsing!=3.0.5,>=2.0.2 in /usr/local/lib/python3.8/dist-packages (from packaging>=20.0->spacy<3.5.0,>=3.4.0->fr-core-news-sm==3.4.0) (3.0.9)\n",
      "Requirement already satisfied: typing-extensions>=4.1.0 in /usr/local/lib/python3.8/dist-packages (from pydantic!=1.8,!=1.8.1,<1.11.0,>=1.7.4->spacy<3.5.0,>=3.4.0->fr-core-news-sm==3.4.0) (4.4.0)\n",
      "Requirement already satisfied: urllib3!=1.25.0,!=1.25.1,<1.26,>=1.21.1 in /usr/local/lib/python3.8/dist-packages (from requests<3.0.0,>=2.13.0->spacy<3.5.0,>=3.4.0->fr-core-news-sm==3.4.0) (1.24.3)\n",
      "Requirement already satisfied: chardet<4,>=3.0.2 in /usr/local/lib/python3.8/dist-packages (from requests<3.0.0,>=2.13.0->spacy<3.5.0,>=3.4.0->fr-core-news-sm==3.4.0) (3.0.4)\n",
      "Requirement already satisfied: idna<3,>=2.5 in /usr/local/lib/python3.8/dist-packages (from requests<3.0.0,>=2.13.0->spacy<3.5.0,>=3.4.0->fr-core-news-sm==3.4.0) (2.10)\n",
      "Requirement already satisfied: certifi>=2017.4.17 in /usr/local/lib/python3.8/dist-packages (from requests<3.0.0,>=2.13.0->spacy<3.5.0,>=3.4.0->fr-core-news-sm==3.4.0) (2022.12.7)\n",
      "Requirement already satisfied: blis<0.8.0,>=0.7.8 in /usr/local/lib/python3.8/dist-packages (from thinc<8.2.0,>=8.1.0->spacy<3.5.0,>=3.4.0->fr-core-news-sm==3.4.0) (0.7.9)\n",
      "Requirement already satisfied: confection<1.0.0,>=0.0.1 in /usr/local/lib/python3.8/dist-packages (from thinc<8.2.0,>=8.1.0->spacy<3.5.0,>=3.4.0->fr-core-news-sm==3.4.0) (0.0.3)\n",
      "Requirement already satisfied: click<9.0.0,>=7.1.1 in /usr/local/lib/python3.8/dist-packages (from typer<0.8.0,>=0.3.0->spacy<3.5.0,>=3.4.0->fr-core-news-sm==3.4.0) (7.1.2)\n",
      "Requirement already satisfied: MarkupSafe>=0.23 in /usr/local/lib/python3.8/dist-packages (from jinja2->spacy<3.5.0,>=3.4.0->fr-core-news-sm==3.4.0) (2.0.1)\n",
      "\u001b[38;5;2m✔ Download and installation successful\u001b[0m\n",
      "You can now load the package via spacy.load('fr_core_news_sm')\n"
     ]
    }
   ],
   "source": [
    "!python -m spacy download en_core_web_sm\n",
    "!python -m spacy download fr_core_news_sm"
   ]
  },
  {
   "cell_type": "code",
   "execution_count": 5,
   "metadata": {
    "id": "w7Vo9aLW4JJI"
   },
   "outputs": [],
   "source": [
    "import fr_core_news_sm\n",
    "import en_core_web_sm\n",
    "\n",
    "spacy_fr = fr_core_news_sm.load()\n",
    "spacy_en = en_core_web_sm.load()"
   ]
  },
  {
   "cell_type": "markdown",
   "metadata": {
    "id": "Z7MRaUm64Mn6"
   },
   "source": [
    "Next, we create the tokenizer functions. These can be passed to TorchText and will take in the sentence as a string and return the sentence as a list of tokens."
   ]
  },
  {
   "cell_type": "code",
   "execution_count": 6,
   "metadata": {
    "id": "YenFu4bl4PpT"
   },
   "outputs": [],
   "source": [
    "def tokenize_fr(text):\n",
    "    \"\"\"\n",
    "    Tokenizes French text from a string into a list of strings (tokens)\n",
    "    \"\"\"\n",
    "    return [tok.text for tok in spacy_fr.tokenizer(text)]\n",
    "\n",
    "def tokenize_en(text):\n",
    "    \"\"\"\n",
    "    Tokenizes English text from a string into a list of strings (tokens)\n",
    "    \"\"\"\n",
    "    return [tok.text for tok in spacy_en.tokenizer(text)]"
   ]
  },
  {
   "cell_type": "markdown",
   "metadata": {
    "id": "bajlvdbS4SM8"
   },
   "source": [
    "`TorchText`'s Fields handle how data should be processed. You can read all of the possible arguments [here](https://github.com/pytorch/text/blob/master/torchtext/data/field.py#L61).\n",
    "\n",
    "We set the tokenize argument to the corresponding tokenization function for each, with French being the `SRC` (source) field and English being the `TRG` (target) field. The field also appends the \"start of sequence\" (\\<sos\\>) and \"end of sequence\" (\\<eos\\>) tokens via the `init_token` and `eos_token` arguments, and converts all words to lowercase."
   ]
  },
  {
   "cell_type": "code",
   "execution_count": 7,
   "metadata": {
    "id": "IljSJYO34U1R"
   },
   "outputs": [],
   "source": [
    "SRC = data.Field(tokenize = tokenize_fr, \n",
    "            # init_token = '<sos>', # since initial encoder hidden state is always set to zero, the network can figure out that the time step is 0 and this token is optional\n",
    "            eos_token = '<eos>', \n",
    "            lower = True)\n",
    "TRG = data.Field(tokenize = tokenize_en, \n",
    "            init_token = '<sos>', \n",
    "            eos_token = '<eos>', \n",
    "            lower = True)"
   ]
  },
  {
   "cell_type": "markdown",
   "metadata": {
    "id": "eV-Fmhgt4XQ8"
   },
   "source": [
    "Next, we load the train, validation and test data.\n",
    "\n",
    "The dataset we'll be using is the [Multi30k](https://github.com/multi30k/dataset) dataset. This is a dataset with ~30,000 parallel English, French and German sentences. You can find more information in [WMT18](http://www.statmt.org/wmt18/multimodal-task.html). This corpus was officially split to Training (29,000 sentences), Validation (1,014 sentences), and multiple Test sets. We provide Test 2016 (1,000 sentences). \n",
    "\n",
    "The raw dataset is extracted to three `.tsv` files. Each file includes two column, 'English' and 'French'. We use `torchtext.data.TabularDataset` to load these tsv files. "
   ]
  },
  {
   "cell_type": "code",
   "execution_count": 8,
   "metadata": {
    "id": "X4Sdsehn4a12"
   },
   "outputs": [],
   "source": [
    "train, val, test = data.TabularDataset.splits(\n",
    "    path='./drive/MyDrive/Colab_Notebooks/eng-fre/', train='train_eng_fre.tsv',validation='val_eng_fre.tsv', test='test_eng_fre.tsv', \n",
    "    format='tsv', skip_header=True, fields=[('TRG', TRG), ('SRC', SRC)])"
   ]
  },
  {
   "cell_type": "markdown",
   "metadata": {
    "id": "D9p0puCR4e9a"
   },
   "source": [
    "We can double check that we've loaded the right number of examples:"
   ]
  },
  {
   "cell_type": "code",
   "execution_count": 9,
   "metadata": {
    "colab": {
     "base_uri": "https://localhost:8080/"
    },
    "id": "PW20Vuu04gtG",
    "outputId": "e680d0b4-2a1a-4530-ba52-ab4c6877c662"
   },
   "outputs": [
    {
     "name": "stdout",
     "output_type": "stream",
     "text": [
      "Number of training examples: 29000\n",
      "Number of validation examples: 1014\n",
      "Number of testing examples: 1000\n"
     ]
    }
   ],
   "source": [
    "print(f\"Number of training examples: {len(train.examples)}\")\n",
    "print(f\"Number of validation examples: {len(val.examples)}\")\n",
    "print(f\"Number of testing examples: {len(test.examples)}\")"
   ]
  },
  {
   "cell_type": "markdown",
   "metadata": {
    "id": "fIgiKHjM4lru"
   },
   "source": [
    "We can also print out an example:"
   ]
  },
  {
   "cell_type": "code",
   "execution_count": 10,
   "metadata": {
    "colab": {
     "base_uri": "https://localhost:8080/"
    },
    "id": "cwaIIrt-4oB6",
    "outputId": "a4657901-609d-4570-cac1-66b0bb0d6936"
   },
   "outputs": [
    {
     "name": "stdout",
     "output_type": "stream",
     "text": [
      "{'TRG': ['two', 'young', ',', 'white', 'males', 'are', 'outside', 'near', 'many', 'bushes', '.'], 'SRC': ['deux', 'jeunes', 'hommes', 'blancs', 'sont', 'dehors', 'près', 'de', 'buissons', '.']}\n"
     ]
    }
   ],
   "source": [
    "print(vars(train.examples[0]))"
   ]
  },
  {
   "cell_type": "code",
   "execution_count": 11,
   "metadata": {
    "colab": {
     "base_uri": "https://localhost:8080/"
    },
    "id": "J1eTer8o4qTu",
    "outputId": "52b1828a-22ee-433e-b5d0-ce97795ad621"
   },
   "outputs": [
    {
     "name": "stdout",
     "output_type": "stream",
     "text": [
      "{'TRG': ['an', 'older', ',', 'overweight', 'man', 'flips', 'a', 'pancake', 'while', 'making', 'breakfast', '.'], 'SRC': ['un', 'homme', 'âgé', 'en', 'surpoids', 'fait', 'sauter', 'une', 'crêpe', 'en', 'préparant', 'le', 'petit', 'déjeuner', '.']}\n"
     ]
    }
   ],
   "source": [
    "print(vars(val.examples[100]))"
   ]
  },
  {
   "cell_type": "markdown",
   "metadata": {
    "id": "_w_Ziwfv4tV2"
   },
   "source": [
    "Next, we'll build the vocabulary for the source and target languages. \n",
    "\n",
    "The vocabulary is used to associate each unique token with an index and this is used to build a one-hot encoding for each token. The vocabularies of the source and target languages have some minimal overlap.\n",
    "\n",
    "Using the `min_freq` argument, we only allow tokens that appear at least 2 times to appear in our vocabulary. Tokens that appear only once are converted into an `<unk>` (unknown) token.\n",
    "\n",
    "It is important to note that your vocabulary should only be built from the `training set` and not the `validation/test set`. This prevents **\"information leakage\"** into your model, giving you artifically inflated validation/test scores."
   ]
  },
  {
   "cell_type": "code",
   "execution_count": 12,
   "metadata": {
    "id": "59r6mL7J4y4a"
   },
   "outputs": [],
   "source": [
    "TRG.build_vocab(train,min_freq=2)\n",
    "SRC.build_vocab(train,min_freq=2)"
   ]
  },
  {
   "cell_type": "code",
   "execution_count": 13,
   "metadata": {
    "colab": {
     "base_uri": "https://localhost:8080/"
    },
    "id": "z49Fmd4342ei",
    "outputId": "ad65e0f0-3510-45b0-9ca9-3b794643485c"
   },
   "outputs": [
    {
     "name": "stdout",
     "output_type": "stream",
     "text": [
      "Unique tokens in source (fr) vocabulary: 6469\n",
      "Unique tokens in target (en) vocabulary: 5893\n"
     ]
    }
   ],
   "source": [
    "print(f\"Unique tokens in source (fr) vocabulary: {len(SRC.vocab)}\")\n",
    "print(f\"Unique tokens in target (en) vocabulary: {len(TRG.vocab)}\")"
   ]
  },
  {
   "cell_type": "markdown",
   "metadata": {
    "id": "Ph-VDsasu-12"
   },
   "source": [
    "`TRG.vocab.stoi` is the dictionary of word to index. For example, the index of `<pad>` is 1."
   ]
  },
  {
   "cell_type": "code",
   "execution_count": 14,
   "metadata": {
    "colab": {
     "base_uri": "https://localhost:8080/"
    },
    "id": "QCNG_y5Hu2Qz",
    "outputId": "74c708f4-584d-4654-ce8b-f1ec04eb2673"
   },
   "outputs": [
    {
     "name": "stdout",
     "output_type": "stream",
     "text": [
      "1\n"
     ]
    }
   ],
   "source": [
    "print(TRG.vocab.stoi['<pad>'])"
   ]
  },
  {
   "cell_type": "markdown",
   "metadata": {
    "id": "wP2tGhlB4_N6"
   },
   "source": [
    "The final step of preparing the data is to create the `iterators` to generate batches. These can be iterated on to return a batch of data. The text of both source and target text will be converted to two sequence of corresponding indexes, using the vocabularies.\n",
    "\n",
    "\n",
    "We also need to define a `torch.device`. This indicate whether the input `tensors` should be sent to `GPU` or not. We already defined the `device` variable before. \n",
    "\n",
    "Finally, the output of the iterator will be `padded`. \n",
    "\n",
    "We use a `BucketIterator` to creates batches."
   ]
  },
  {
   "cell_type": "code",
   "execution_count": 15,
   "metadata": {
    "colab": {
     "base_uri": "https://localhost:8080/"
    },
    "id": "AnxNOrTPvE7O",
    "outputId": "6eeeeb71-45cc-44d2-bee2-865af98eb0c4"
   },
   "outputs": [
    {
     "name": "stdout",
     "output_type": "stream",
     "text": [
      "cuda\n"
     ]
    }
   ],
   "source": [
    "device = torch.device('cuda' if torch.cuda.is_available() else 'cpu')\n",
    "print(device)"
   ]
  },
  {
   "cell_type": "code",
   "execution_count": 16,
   "metadata": {
    "id": "CdgS6bBEvK1d"
   },
   "outputs": [],
   "source": [
    "train_iter, val_iter, test_iter = data.BucketIterator.splits(\n",
    "    (train, val, test), # we pass in the datasets we want the iterator to draw data from\n",
    "    batch_sizes=(16, 256, 256),device = device,\n",
    "    sort_key=lambda x: len(x.SRC), # the BucketIterator needs to be told what function it should use to group the data.\n",
    "    sort_within_batch=False)"
   ]
  },
  {
   "cell_type": "markdown",
   "metadata": {
    "id": "bFif-pZOvQhx"
   },
   "source": [
    "Each batch will include two tensors: tensor of source language and tensor of target language. The size of each tensor is **[max_length, batch_size]**. Each example is already padded within batch."
   ]
  },
  {
   "cell_type": "code",
   "execution_count": 17,
   "metadata": {
    "colab": {
     "base_uri": "https://localhost:8080/"
    },
    "id": "ZzicRD44vNSv",
    "outputId": "5c3ed16b-9c49-4fae-dbf4-6aa8f0a70c39"
   },
   "outputs": [
    {
     "name": "stdout",
     "output_type": "stream",
     "text": [
      "tensor size of source language: torch.Size([25, 16])\n",
      "tensor size of target language: torch.Size([23, 16])\n",
      "the tensor of first example in target language: tensor([  2,   4,  34, 759,   8,   4, 308, 363,   5,   3,   1,   1,   1,   1,\n",
      "          1,   1,   1,   1,   1,   1,   1,   1,   1], device='cuda:0')\n"
     ]
    }
   ],
   "source": [
    "# batch example of training data\n",
    "for batch in train_iter:\n",
    "    src = batch.SRC\n",
    "    trg = batch.TRG\n",
    "    print('tensor size of source language:', src.shape)\n",
    "    print('tensor size of target language:', trg.shape)\n",
    "    print('the tensor of first example in target language:', trg[:,0])\n",
    "    break"
   ]
  },
  {
   "cell_type": "markdown",
   "metadata": {
    "id": "yd-1h9chxSzo"
   },
   "source": [
    "We save our Fields for reproducibility."
   ]
  },
  {
   "cell_type": "code",
   "execution_count": 18,
   "metadata": {
    "colab": {
     "base_uri": "https://localhost:8080/"
    },
    "id": "xL04jjX1ZZYT",
    "outputId": "83d3b7a6-b962-43ee-a108-6c7f32b78c58"
   },
   "outputs": [
    {
     "name": "stdout",
     "output_type": "stream",
     "text": [
      "mkdir: cannot create directory ‘./drive/MyDrive/Colab_Notebooks/ckpt_attn/’: File exists\n"
     ]
    }
   ],
   "source": [
    "!mkdir ./drive/MyDrive/Colab_Notebooks/ckpt_attn/"
   ]
  },
  {
   "cell_type": "code",
   "execution_count": 19,
   "metadata": {
    "id": "Hoe5kPCfxWi4"
   },
   "outputs": [],
   "source": [
    "import pickle\n",
    "with open(\"./drive/MyDrive/Colab_Notebooks/ckpt_attn/TRG.Field\",\"wb\")as f:\n",
    "     pickle.dump(TRG,f)\n",
    "\n",
    "with open(\"./drive/MyDrive/Colab_Notebooks/ckpt_attn/SRC.Field\",\"wb\")as f:\n",
    "     pickle.dump(SRC,f)"
   ]
  },
  {
   "cell_type": "markdown",
   "metadata": {
    "id": "trP7PWt94fPw"
   },
   "source": [
    "### Transformer - Quick Theory with sample code\n",
    "\n",
    "![](https://drive.google.com/uc?export=view&id=1nis5Pu3GDOUU4608i1qAzs-tRjVSk18L)\n",
    "\n",
    "Picture Courtesy: [Tay et al., 2020](https://arxiv.org/pdf/2009.06732.pdf)\n",
    "\n",
    "We borrow the following theory on Transformers from [Tay et al., 2020](https://arxiv.org/pdf/2009.06732.pdf).\n",
    "\n",
    "Transformer blocks consist of \n",
    "- Multi-head self-attention mechanism (red block)\n",
    "- Position-wise feed-forward network (blue block)\n",
    "- Layer normalization (green block)\n",
    "- Residual connection (black arrows from mult-head self attention input to layer normalization and arrows from feed forward input to layer normalization\n",
    "\n",
    "The input to the Transformer model is often a tensor of shape $\\mathbb{R}^B \\times \\mathbb{R}^N$ (similar to RNN/LSTM), where B is the batch size and N is the sequence length.\n",
    "\n",
    "The input first passes through an embedding layer (nn.Embedding(vocab_size, $d_{model}$)) that converts each token representation into a $d$ dimensional embedding, i.e., $\\mathbb{R}^B \\times \\mathbb{R}^N \\times \\mathbb{R}^{d_{model}}$.  The new tensor is then additively composed with positional encodings, and passed through a multi-headed self-attention module. Positional encodings can take the form of a sinusoidal input (as in the original transformers) or be trainable embeddings (we'll use this in the tutorial and implement using nn.Embedding(max_seq_len, $d_{model}$)).\n"
   ]
  },
  {
   "cell_type": "markdown",
   "metadata": {
    "id": "7p4DM35e8ZcW"
   },
   "source": [
    "#### Positional encodings\n",
    "\n",
    "**Positional encodings** have the same dimension ${d_{model}}$ as the embeddings, so two can be summed: \n",
    "\n",
    "$$PE(pos,2i) = sin(pos/10000^{2i/{d_{model}}} )$$\n",
    "$$PE(pos,2i+1) = cos(pos/10000^{2i/{d_{model}}} )$$\n",
    "\n",
    "where $pos$ is the position and $i$ is the dimension.\n"
   ]
  },
  {
   "cell_type": "markdown",
   "metadata": {
    "id": "8na7qE758ZcW"
   },
   "source": [
    "Some sample code for creating a positional encoding:"
   ]
  },
  {
   "cell_type": "code",
   "execution_count": 20,
   "metadata": {
    "colab": {
     "base_uri": "https://localhost:8080/"
    },
    "id": "-WEDT84n8ZcX",
    "outputId": "7d99ccf0-b347-48a4-b90d-337e6d7d66d0"
   },
   "outputs": [
    {
     "name": "stdout",
     "output_type": "stream",
     "text": [
      "Positional encoding of a sample input tensor([[ 0.0000e+00,  1.0000e+00,  0.0000e+00,  1.0000e+00,  0.0000e+00,\n",
      "          1.0000e+00,  0.0000e+00,  1.0000e+00,  0.0000e+00,  1.0000e+00],\n",
      "        [ 8.4147e-01,  9.2180e-01,  2.5116e-02,  9.9995e-01,  6.3096e-04,\n",
      "          1.0000e+00,  1.5849e-05,  1.0000e+00,  3.9811e-07,  1.0000e+00],\n",
      "        [ 9.0930e-01,  6.9942e-01,  5.0217e-02,  9.9980e-01,  1.2619e-03,\n",
      "          1.0000e+00,  3.1698e-05,  1.0000e+00,  7.9621e-07,  1.0000e+00],\n",
      "        [ 1.4112e-01,  3.6764e-01,  7.5285e-02,  9.9955e-01,  1.8929e-03,\n",
      "          1.0000e+00,  4.7547e-05,  1.0000e+00,  1.1943e-06,  1.0000e+00],\n",
      "        [-7.5680e-01, -2.1631e-02,  1.0031e-01,  9.9920e-01,  2.5238e-03,\n",
      "          1.0000e+00,  6.3396e-05,  1.0000e+00,  1.5924e-06,  1.0000e+00],\n",
      "        [-9.5892e-01, -4.0752e-01,  1.2526e-01,  9.9875e-01,  3.1548e-03,\n",
      "          1.0000e+00,  7.9245e-05,  1.0000e+00,  1.9905e-06,  1.0000e+00],\n",
      "        [-2.7942e-01, -7.2968e-01,  1.5014e-01,  9.9820e-01,  3.7857e-03,\n",
      "          1.0000e+00,  9.5094e-05,  1.0000e+00,  2.3886e-06,  1.0000e+00],\n",
      "        [ 6.5699e-01, -9.3770e-01,  1.7493e-01,  9.9755e-01,  4.4167e-03,\n",
      "          1.0000e+00,  1.1094e-04,  1.0000e+00,  2.7868e-06,  1.0000e+00],\n",
      "        [ 9.8936e-01, -9.9906e-01,  1.9960e-01,  9.9680e-01,  5.0476e-03,\n",
      "          1.0000e+00,  1.2679e-04,  1.0000e+00,  3.1849e-06,  1.0000e+00],\n",
      "        [ 4.1212e-01, -9.0417e-01,  2.2415e-01,  9.9595e-01,  5.6786e-03,\n",
      "          1.0000e+00,  1.4264e-04,  1.0000e+00,  3.5830e-06,  1.0000e+00]])\n"
     ]
    }
   ],
   "source": [
    "max_seq_len = 10 # maximum sequence length of the input\n",
    "d_model = 10 # size of the token embedding, that is, D\n",
    "\n",
    "# a tensor that stores the positional encoding\n",
    "pe = torch.zeros(max_seq_len, d_model)\n",
    "\n",
    "# compute the positional encoding\n",
    "for pos in range(max_seq_len):\n",
    "    for i in range(0,d_model,2):\n",
    "        pe[pos, i] = math.sin(pos / (10000 ** ((2 * i)/d_model)))\n",
    "        pe[pos, i+1] = math.cos(pos / (10000 ** ((2 * i+1)/d_model)))\n",
    "\n",
    "print(\"Positional encoding of a sample input\", pe)"
   ]
  },
  {
   "cell_type": "markdown",
   "metadata": {
    "id": "n-m7pLBDHwiP"
   },
   "source": [
    "Let's print positional encoding for the third token in the sample input:"
   ]
  },
  {
   "cell_type": "code",
   "execution_count": 21,
   "metadata": {
    "colab": {
     "base_uri": "https://localhost:8080/"
    },
    "id": "no_Hn5278ZcY",
    "outputId": "21d77dbb-bf68-4d7f-dd20-54caae5c12d5"
   },
   "outputs": [
    {
     "name": "stdout",
     "output_type": "stream",
     "text": [
      "Positional encoding for w in position 3:  tensor([9.0930e-01, 6.9942e-01, 5.0217e-02, 9.9980e-01, 1.2619e-03, 1.0000e+00,\n",
      "        3.1698e-05, 1.0000e+00, 7.9621e-07, 1.0000e+00])\n"
     ]
    }
   ],
   "source": [
    "print(\"Positional encoding for w in position 3: \", pe[2,:])"
   ]
  },
  {
   "cell_type": "markdown",
   "metadata": {
    "id": "L1TOmXxF8ZcY"
   },
   "source": [
    "We assume our embedding vector for the third token is:"
   ]
  },
  {
   "cell_type": "code",
   "execution_count": 22,
   "metadata": {
    "colab": {
     "base_uri": "https://localhost:8080/"
    },
    "id": "0SESHbp88ZcY",
    "outputId": "024a02c8-601d-4c7f-e56d-4d76ed88431e"
   },
   "outputs": [
    {
     "name": "stdout",
     "output_type": "stream",
     "text": [
      "word embedding for w in position 3 tensor([0.2919, 0.2857, 0.4021, 0.4645, 0.9503, 0.2564, 0.6645, 0.8609, 0.3538,\n",
      "        0.3347])\n"
     ]
    }
   ],
   "source": [
    "word_embedding = torch.rand((d_model))\n",
    "print(\"word embedding for w in position 3\", word_embedding)"
   ]
  },
  {
   "cell_type": "markdown",
   "metadata": {
    "id": "HCQVM1KH8ZcY"
   },
   "source": [
    "We simply sum these two vectors."
   ]
  },
  {
   "cell_type": "code",
   "execution_count": 23,
   "metadata": {
    "colab": {
     "base_uri": "https://localhost:8080/"
    },
    "id": "9OAi7pTL8ZcZ",
    "outputId": "df3259b3-a59e-4209-aad3-cfa925f5bcff"
   },
   "outputs": [
    {
     "name": "stdout",
     "output_type": "stream",
     "text": [
      "Embedding vector and positional encoding added:  tensor([1.2012, 0.9851, 0.4523, 1.4643, 0.9516, 1.2564, 0.6646, 1.8609, 0.3538,\n",
      "        1.3347])\n"
     ]
    }
   ],
   "source": [
    "added = pe[2,:] + word_embedding\n",
    "print(\"Embedding vector and positional encoding added: \", added)"
   ]
  },
  {
   "cell_type": "markdown",
   "metadata": {
    "id": "tfBqkGya8ZcZ"
   },
   "source": [
    "\n",
    "Furthermore, we apply dropout on top of the sums of token embeddings and positional encodings. \n",
    "\n",
    "Build a function for positional encodings."
   ]
  },
  {
   "cell_type": "code",
   "execution_count": 24,
   "metadata": {
    "id": "FdWx4G7u8Zca"
   },
   "outputs": [],
   "source": [
    "class PositionalEncoding(nn.Module):\n",
    "    \"Implement the PE function.\"\n",
    "    def __init__(self, d_model, dropout, max_len=5000):\n",
    "        super(PositionalEncoding, self).__init__()\n",
    "        self.dropout = nn.Dropout(p=dropout)\n",
    "        \n",
    "        # Compute the positional encodings once in log space.\n",
    "        pe = torch.zeros(max_len, d_model)\n",
    "        position = torch.arange(0, max_len).unsqueeze(1)\n",
    "        div_term = torch.exp(torch.arange(0, d_model, 2) *\n",
    "                             -(math.log(10000.0) / d_model))\n",
    "        pe[:, 0::2] = torch.sin(position * div_term)\n",
    "        pe[:, 1::2] = torch.cos(position * div_term)\n",
    "        pe = pe.unsqueeze(0)\n",
    "        self.register_buffer('pe', pe)\n",
    "        \n",
    "    def forward(self, x):\n",
    "        x = x + Variable(self.pe[:, :x.size(1)], \n",
    "                         requires_grad=False)\n",
    "        return self.dropout(x)"
   ]
  },
  {
   "cell_type": "markdown",
   "metadata": {
    "id": "cn18XqYtJDQv"
   },
   "source": [
    "Let's plot the 4th, 5th, 6th, 7th positional dimension of 100 tokens, each with embedding size of 20."
   ]
  },
  {
   "cell_type": "code",
   "execution_count": 25,
   "metadata": {
    "colab": {
     "base_uri": "https://localhost:8080/",
     "height": 333
    },
    "id": "YOT6D3ya8Zca",
    "outputId": "aa523322-060f-4d3a-f1d6-1ba5b730222b"
   },
   "outputs": [
    {
     "data": {
      "image/png": "[encoded data removed]",
      "text/plain": [
       "<Figure size 1080x360 with 1 Axes>"
      ]
     },
     "metadata": {
      "needs_background": "light"
     },
     "output_type": "display_data"
    }
   ],
   "source": [
    "plt.figure(figsize=(15, 5))\n",
    "pe = PositionalEncoding(20, 0)\n",
    "y = pe.forward(Variable(torch.zeros(1, 100, 20)))\n",
    "plt.plot(np.arange(100), y[0, :, 4:8].data.numpy())\n",
    "plt.legend([\"dim %d\"%p for p in [4,5,6,7]])\n",
    "None"
   ]
  },
  {
   "cell_type": "markdown",
   "metadata": {
    "id": "K-c00JZ_JybY"
   },
   "source": [
    "In this tutorial, we will use positional embeddings that are initialized randomly and learned from scratch (we won't use sinusoidal embeddings). To build such positional embeddings, we can resort to nn.Embedding layer in the following way:"
   ]
  },
  {
   "cell_type": "code",
   "execution_count": 26,
   "metadata": {
    "id": "QpRVO8-jKWxc"
   },
   "outputs": [],
   "source": [
    "positional_encoding = nn.Embedding(max_seq_len, d_model) # contains \"max_seq_len\" positional embeddings"
   ]
  },
  {
   "cell_type": "markdown",
   "metadata": {
    "id": "M3sPHcpEKleq"
   },
   "source": [
    "Let's pick a positional encoding for third token in the input"
   ]
  },
  {
   "cell_type": "code",
   "execution_count": 27,
   "metadata": {
    "colab": {
     "base_uri": "https://localhost:8080/"
    },
    "id": "1bsjMB29Kuh9",
    "outputId": "04564caf-191b-4ff1-c265-a66b9a26dc30"
   },
   "outputs": [
    {
     "name": "stdout",
     "output_type": "stream",
     "text": [
      "Positional encoding for w in position 3:  tensor([[ 0.1642,  0.3744,  0.3704,  0.7420,  1.3308, -0.4382, -1.6271,  0.8957,\n",
      "          2.3701,  1.3993]], grad_fn=<EmbeddingBackward>)\n"
     ]
    }
   ],
   "source": [
    "print(\"Positional encoding for w in position 3: \", positional_encoding(torch.tensor([2]))) # 0-indexed, so refers to third positional embedding"
   ]
  },
  {
   "cell_type": "markdown",
   "metadata": {
    "id": "LCggzmMr8Zcb"
   },
   "source": [
    "\n",
    "\n",
    "![](https://drive.google.com/uc?export=view&id=1nis5Pu3GDOUU4608i1qAzs-tRjVSk18L)\n",
    "\n",
    "So far, we have seen how to compose the input to a transformer block, by summing the input token embeddings with their corresponding positional encodings. \n",
    "\n",
    "The inputs and output of the multi-headed self-attention module are connected by residual connectors and a layer normalization layer. The output of the multi-headed self-attention is then passed to a two-layered feed-forward network which has its inputs/outputs similarly connected in a residual fashion with layer normalization. The sublayer residual connectors with layer norm is expressed as:\n",
    "\n",
    "$X = LayerNorm(F_S(X)) + X$\n",
    "\n",
    "where $F_S$ is the sub-layer module which is either the multi-headed self-attention or the position-wise feed-forward layers.\n",
    "\n",
    "### Multi-Head Self-Attention\n",
    "\n",
    "The Transformer model leverages a multi-headed self-attention mechanism. The key idea behind the mechanism is to learn an alignment (similar to Bahdanau's concatenative/additive attention, which we saw in the last tutorial) in which each element in the sequence learns to gather from other tokens in the sequence. The operation for a single head is defined as:\n",
    "\n",
    "$A_i = Softmax(\\alpha Q_i K_i^T)V_i$\n",
    "\n",
    "![](https://nlp.seas.harvard.edu/images/the-annotated-transformer_33_0.png)\n",
    "\n",
    "Picture Courtesy: https://nlp.seas.harvard.edu/images/the-annotated-transformer_33_0.png\n",
    "\n",
    "\n",
    "where $Q_i = W_i^q X$, $K_i = W_i^k X$, $V_i^v = W_i^v X$ are linear transformations applied on the temporal dimension of the input sequence. $W_i^q \\in \\mathbb{R}^{d_{\\text{model}} \\times d_k}$, $W_i^k \\in \\mathbb{R}^{d_{\\text{model}} \\times d_k}$, $W_i^v \\in \\mathbb{R}^{d_{\\text{model}} \\times d_v}$ are the weight matrices (parameters) for the query, key and value projections and project the input $X$ to an output tensor of d dimensions. Let us denote the number of heads by $h$.\n",
    "\n",
    "$X$ is a matrix of size $\\mathbb{R}^N \\times \\mathbb{R}^{d_{model}}$, and $\\alpha$ is a scaling factor that is typically set to $\\frac{1}{\\sqrt{{d_{model}}}}$.  The outputs of heads $A_1$...$A_{h}$ are concatenated together and passed into a dense layer. The output $Y$ can thus be expressed as $Y$ $=$ $W^o \\in \\mathbb{R}^{hd_v \\times d_{\\text{model}}}$ \\[$A_1$ ...$A_{h}]$, where $W^o$ is an output linear projection. Note that the computation of A is typically done in a parallel fashion.\n",
    "\n",
    "![](https://nlp.seas.harvard.edu/images/the-annotated-transformer_38_0.png)\n",
    "\n",
    "Picture Courtesy: https://nlp.seas.harvard.edu/images/the-annotated-transformer_38_0.png"
   ]
  },
  {
   "cell_type": "markdown",
   "metadata": {
    "id": "_6V5atDn8Zcc"
   },
   "source": [
    "Let's see some sample code for computing attention ($A_h$):"
   ]
  },
  {
   "cell_type": "code",
   "execution_count": 28,
   "metadata": {
    "id": "wenFLUiS8Zcc"
   },
   "outputs": [],
   "source": [
    "def attention(query, key, value, mask=None, dropout=None):\n",
    "    \"Compute 'Scaled Dot Product Attention'\"\n",
    "    d_k = query.size(-1)\n",
    "    scores = torch.matmul(query, key.transpose(-2, -1)) \\\n",
    "             / math.sqrt(d_k)\n",
    "    if mask is not None:\n",
    "        scores = scores.masked_fill(mask == 0, -1e9)\n",
    "    p_attn = F.softmax(scores, dim = -1)\n",
    "    if dropout is not None:\n",
    "        p_attn = dropout(p_attn)\n",
    "    return torch.matmul(p_attn, value), p_attn"
   ]
  },
  {
   "cell_type": "markdown",
   "metadata": {
    "id": "U3rjGz6J8Zcd"
   },
   "source": [
    "Multi-head attention allows the model to jointly attend to information from different representation subspaces at different positions. With a single attention head, averaging inhibits this.\n",
    "As discussed before, parameter matrices for linear projection for query, key, value, concatenated multihead output include $W^q_i \\in \\mathbb{R}^{d_{\\text{model}} \\times d_k}$, $W^k_i \\in \\mathbb{R}^{d_{\\text{model}} \\times d_k}$, $W^v_i \\in \\mathbb{R}^{d_{\\text{model}} \\times d_v}$ and $W^o \\in \\mathbb{R}^{d_v \\times d_{\\text{model}}}$. In the work of Vaswani et al., they employ $h=8$ parallel attention layers, or heads. For each of these they use $d_k=d_v=d_{\\text{model}}/h=64$. \n",
    "\n",
    "A sample code for implementing multi-head attention include:"
   ]
  },
  {
   "cell_type": "code",
   "execution_count": 29,
   "metadata": {
    "id": "W32nrQ3-dp4D"
   },
   "outputs": [],
   "source": [
    "def clones(module, N):\n",
    "    \"Produce N identical layers.\"\n",
    "    return nn.ModuleList([copy.deepcopy(module) for _ in range(N)])"
   ]
  },
  {
   "cell_type": "code",
   "execution_count": 30,
   "metadata": {
    "id": "DP3wpTBc8Zcd"
   },
   "outputs": [],
   "source": [
    "class MultiHeadedAttention(nn.Module):\n",
    "    def __init__(self, h, d_model, dropout=0.1):\n",
    "        \"Take in model size and number of heads.\"\n",
    "        super(MultiHeadedAttention, self).__init__()\n",
    "\n",
    "        # We assume d_v always equals d_k\n",
    "        self.d_k = d_model // h\n",
    "        self.h = h\n",
    "        self.linears = clones(nn.Linear(d_model, d_model), 4)\n",
    "        self.attn = None\n",
    "        self.dropout = nn.Dropout(p=dropout)\n",
    "        \n",
    "    def forward(self, query, key, value, mask=None):\n",
    "        if mask is not None:\n",
    "            # Same mask applied to all h heads.\n",
    "            mask = mask.unsqueeze(1)\n",
    "        nbatches = query.size(0)\n",
    "        \n",
    "        # 1) Do all the linear projections in batch from d_model => h x d_k \n",
    "        query, key, value = \\\n",
    "            [l(x).view(nbatches, -1, self.h, self.d_k).transpose(1, 2)\n",
    "             for l, x in zip(self.linears, (query, key, value))]\n",
    "        \n",
    "        # q, k, v: [batch_size, n_head, seq_len, d_k]\n",
    "        # 2) Apply attention on all the projected vectors in batch. \n",
    "        x, self.attn = attention(query, key, value, mask=mask, \n",
    "                                 dropout=self.dropout)\n",
    "        \n",
    "        # 3) \"Concat\" using a view and apply a final linear. \n",
    "        x = x.transpose(1, 2).contiguous() \\\n",
    "             .view(nbatches, -1, self.h * self.d_k)\n",
    "        return self.linears[-1](x)"
   ]
  },
  {
   "cell_type": "markdown",
   "metadata": {
    "id": "LYPzfWgfahNF"
   },
   "source": [
    "### Position-wise feed-forward layers\n",
    "\n",
    "![](https://drive.google.com/uc?export=view&id=1nis5Pu3GDOUU4608i1qAzs-tRjVSk18L)\n",
    "\n",
    "The outputs of the self-attention module is then passed into a two-layered feed-forward network with ReLU activations. This feed-forward layer operates on each position independently hence the term position-wise. This is expressed as follows:\n",
    "\n",
    "$\\text{FFN}(X_A) = max(0, X_A W_1 + b_1) W_2 + b_2$\n",
    "\n",
    "### Putting it all together\n",
    "\n",
    "Each transformer block can be expressed as:\n",
    "\n",
    "$X_A = \\text{LayerNorm}(\\text{MultiheadSelfAttention}(X)) + X$\n",
    "\n",
    "$X_B = \\text{LayerNorm}(\\text{FFN}(X_A)) + X_A$\n",
    "\n",
    "where X is the input of the Transformer block and $X_B$ is the output of the Transformer block.\n",
    "\n"
   ]
  },
  {
   "cell_type": "markdown",
   "metadata": {},
   "source": [
    "Create a class for a residual connection followed by a layer norm in each sublayer."
   ]
  },
  {
   "cell_type": "code",
   "execution_count": null,
   "metadata": {},
   "outputs": [],
   "source": [
    "class SublayerConnection(nn.Module):\n",
    "    \"\"\"\n",
    "    A residual connection followed by a layer norm.\n",
    "    Note for code simplicity the norm is first as opposed to last.\n",
    "    \"\"\"\n",
    "    def __init__(self, size, dropout):\n",
    "        super(SublayerConnection, self).__init__()\n",
    "        self.norm = LayerNorm(size)\n",
    "        self.dropout = nn.Dropout(dropout)\n",
    "\n",
    "    def forward(self, x, sublayer):\n",
    "        \"Apply residual connection to any sublayer with the same size.\"\n",
    "        return x + self.dropout(sublayer(self.norm(x)))"
   ]
  },
  {
   "cell_type": "markdown",
   "metadata": {},
   "source": [
    "Each encoder layer has two sub-layers, i.e., self-attention layer and a position wise feedforward layer. "
   ]
  },
  {
   "cell_type": "code",
   "execution_count": null,
   "metadata": {},
   "outputs": [],
   "source": [
    "class EncoderLayer(nn.Module):\n",
    "    \"Encoder is made up of self-attn and feed forward (defined below)\"\n",
    "    def __init__(self, size, self_attn, feed_forward, dropout):\n",
    "        super(EncoderLayer, self).__init__()\n",
    "        self.self_attn = self_attn\n",
    "        self.feed_forward = feed_forward\n",
    "        self.sublayer = clones(SublayerConnection(size, dropout), 2)\n",
    "        self.size = size\n",
    "\n",
    "    def forward(self, x, mask):\n",
    "        \"Follow Figure 1 (left) for connections.\"\n",
    "        x = self.sublayer[0](x, lambda x: self.self_attn(x, x, x, mask))\n",
    "        return self.sublayer[1](x, self.feed_forward)"
   ]
  },
  {
   "cell_type": "markdown",
   "metadata": {},
   "source": [
    "\n",
    "### Transformers\n",
    "\n",
    "It is important to note the differences in the mode of usage of the Transformer block. Transformers can primarily be used in three ways, namely:\n",
    "- encoder-only (e.g., for classification), \n",
    "- decoder-only (e.g., for language modeling), \n",
    "- encoder-decoder (e.g., for machine translation, which is our focus)\n",
    "\n",
    "In encoder-decoder mode, there are usually multiple multi-headed self-attention modules, including a standard self-attention in both the encoder and the decoder, along with an encoder-decoder cross-attention that allows the decoder to utilize information from the encoder. This influences the design of the self-attention mechanism. In the encoder mode, there is no restriction or constraint that the self-attention mechanism has to be causal, i.e., dependent solely on the present and past tokens. In the encoder-decoder setting, the encoder and encoder-decoder cross attention can afford to be non-causal but the decoder self-attention must be causal. The ability to support causal auto-regressive decoding is required when designing efficient self-attention mechanisms since it can be a limiting factor in many applications.\n"
   ]
  },
  {
   "cell_type": "markdown",
   "metadata": {
    "id": "KmdvYlZT4fZS"
   },
   "source": [
    "## Transformer model - Implementation\n",
    "\n",
    "[nn.Transformer](https://pytorch.org/docs/stable/generated/torch.nn.Transformer.html) module implements the entire encoder-decoder Transformer model, excluding the input token embeddings, position encodings, source and target masks. This module takes in the following parameters:\n",
    "- **$d_{\\text{model}}$** – the number of expected features in the encoder/decoder inputs \n",
    "- **nhead** – the number of heads in the multiheadattention models (the term 'h' in theory)\n",
    "- **num_encoder_layers** - the number of sub-encoder-layers in the encoder\n",
    "- **num_decoder_layers** - the number of sub-decoder-layers in the decoder\n",
    "- **dim_feedforward** -  the dimension of the feedforward network model\n",
    "- **dropout** - the dropout value\n",
    "\n",
    "Let's understand `nn.Transformer` module by passing a sample batch.\n",
    "\n",
    "Let's first convert the src and target word indices to word embeddings:\n",
    "\n",
    "\n",
    "\n",
    "\n"
   ]
  },
  {
   "cell_type": "code",
   "execution_count": 31,
   "metadata": {
    "colab": {
     "base_uri": "https://localhost:8080/"
    },
    "id": "qkn5j2H5ZPdt",
    "outputId": "2280d14f-b09c-4be1-9bef-c49c280cc395"
   },
   "outputs": [
    {
     "name": "stdout",
     "output_type": "stream",
     "text": [
      "token_embedding_encoder =  Embedding(6469, 512)\n",
      "token_embedding_decoder =  Embedding(5893, 512)\n",
      "src shape =  torch.Size([25, 16])\n",
      "targ shape =  torch.Size([23, 16])\n",
      "src_token_embeddings shape =  torch.Size([25, 16, 512])\n",
      "targ_token_embeddings shape =  torch.Size([23, 16, 512])\n"
     ]
    }
   ],
   "source": [
    "# word embedding layers for encoder (src) and decoder (targ)\n",
    "token_embedding_encoder = nn.Embedding(num_embeddings=len(SRC.vocab), embedding_dim=512).to(device) # src vocab size x embedding size\n",
    "print(\"token_embedding_encoder = \", token_embedding_encoder)\n",
    "token_embedding_decoder = nn.Embedding(num_embeddings=len(TRG.vocab), embedding_dim=512).to(device) # targ vocab size x embedding size\n",
    "print(\"token_embedding_decoder = \", token_embedding_decoder)\n",
    "\n",
    "# print the shape tensors in sample batch: src and targ\n",
    "print(\"src shape = \", src.shape) # src. max. seq len x batch size\n",
    "print(\"targ shape = \", trg.shape) # targ. max. seq len x batch size\n",
    "\n",
    "# pass the word indices to embedding layer to get embeddings\n",
    "src_token_embeddings = token_embedding_encoder(src.to(device))\n",
    "print(\"src_token_embeddings shape = \", src_token_embeddings.shape) # src. max. seq len x batch size x embedding size\n",
    "targ_token_embeddings = token_embedding_decoder(trg.to(device))\n",
    "print(\"targ_token_embeddings shape = \", targ_token_embeddings.shape) # targ. max. seq len x batch size x embedding size\n"
   ]
  },
  {
   "cell_type": "markdown",
   "metadata": {
    "id": "6-PQXPReav6B"
   },
   "source": [
    "Having built word embeddings, we can now build position embeddings for both encoder and decoder. Let's start by defining the position embedding layer."
   ]
  },
  {
   "cell_type": "code",
   "execution_count": 32,
   "metadata": {
    "colab": {
     "base_uri": "https://localhost:8080/"
    },
    "id": "oG9wCQw7a9k1",
    "outputId": "5a2d2ffa-e937-421c-bf27-ce81db382050"
   },
   "outputs": [
    {
     "name": "stdout",
     "output_type": "stream",
     "text": [
      "position_embedding_encoder =  Embedding(200, 512)\n",
      "position_embedding_decoder =  Embedding(200, 512)\n"
     ]
    }
   ],
   "source": [
    "# position embedding layers for encoder (src) and decoder (targ)\n",
    "maximum_sentence_len = 200 # this will be the maximum length of source and target sentence that our model can process (can have separate maximum lengths for both encoder and decoder)\n",
    "position_embedding_encoder = nn.Embedding(num_embeddings=maximum_sentence_len, embedding_dim=512).to(device) # maximum_sentence_len x embedding size\n",
    "print(\"position_embedding_encoder = \", position_embedding_encoder)\n",
    "position_embedding_decoder = nn.Embedding(num_embeddings=maximum_sentence_len, embedding_dim=512).to(device) # maximum_sentence_len x embedding size\n",
    "print(\"position_embedding_decoder = \", position_embedding_decoder)"
   ]
  },
  {
   "cell_type": "markdown",
   "metadata": {
    "id": "ZFeSYt3vb95Y"
   },
   "source": [
    "Now we can create the positional input for both encoder and decoder. For a single example setting, the positional inputs can be created as follows:"
   ]
  },
  {
   "cell_type": "code",
   "execution_count": 33,
   "metadata": {
    "colab": {
     "base_uri": "https://localhost:8080/"
    },
    "id": "ZWXDi_Khcso6",
    "outputId": "322c83ed-fedb-4cb4-e6a5-2032d8322d3b"
   },
   "outputs": [
    {
     "name": "stdout",
     "output_type": "stream",
     "text": [
      "positional input for a single source example =  tensor([ 0,  1,  2,  3,  4,  5,  6,  7,  8,  9, 10, 11, 12, 13, 14, 15, 16, 17,\n",
      "        18, 19, 20, 21, 22, 23, 24]) torch.Size([25])\n",
      "positional input for a single target example =  tensor([ 0,  1,  2,  3,  4,  5,  6,  7,  8,  9, 10, 11, 12, 13, 14, 15, 16, 17,\n",
      "        18, 19, 20, 21, 22]) torch.Size([23])\n"
     ]
    }
   ],
   "source": [
    "# if the no. of tokens in the source sentence is `src_seq_len`\n",
    "src_seq_len = src.size(0)\n",
    "src_position = torch.arange(0, src_seq_len)\n",
    "print('positional input for a single source example = ', src_position, src_position.shape)\n",
    "\n",
    "# if the no. of tokens in the target sentence is `trg_seq_len`\n",
    "trg_seq_len = trg.size(0)\n",
    "trg_position = torch.arange(0, trg_seq_len)\n",
    "print('positional input for a single target example = ', trg_position, trg_position.shape)"
   ]
  },
  {
   "cell_type": "markdown",
   "metadata": {
    "id": "b3ymxRBUdVbF"
   },
   "source": [
    "If we have a batch of examples, the positional inputs can be extended to batch as follows:"
   ]
  },
  {
   "cell_type": "code",
   "execution_count": 34,
   "metadata": {
    "colab": {
     "base_uri": "https://localhost:8080/"
    },
    "id": "jUSR0Vzld9gQ",
    "outputId": "c2b6b49c-7292-45d3-d4ae-d80a60ce5b04"
   },
   "outputs": [
    {
     "name": "stdout",
     "output_type": "stream",
     "text": [
      "positional input for a source batch =  tensor([[ 0,  0,  0,  0,  0,  0,  0,  0,  0,  0,  0,  0,  0,  0,  0,  0],\n",
      "        [ 1,  1,  1,  1,  1,  1,  1,  1,  1,  1,  1,  1,  1,  1,  1,  1],\n",
      "        [ 2,  2,  2,  2,  2,  2,  2,  2,  2,  2,  2,  2,  2,  2,  2,  2],\n",
      "        [ 3,  3,  3,  3,  3,  3,  3,  3,  3,  3,  3,  3,  3,  3,  3,  3],\n",
      "        [ 4,  4,  4,  4,  4,  4,  4,  4,  4,  4,  4,  4,  4,  4,  4,  4],\n",
      "        [ 5,  5,  5,  5,  5,  5,  5,  5,  5,  5,  5,  5,  5,  5,  5,  5],\n",
      "        [ 6,  6,  6,  6,  6,  6,  6,  6,  6,  6,  6,  6,  6,  6,  6,  6],\n",
      "        [ 7,  7,  7,  7,  7,  7,  7,  7,  7,  7,  7,  7,  7,  7,  7,  7],\n",
      "        [ 8,  8,  8,  8,  8,  8,  8,  8,  8,  8,  8,  8,  8,  8,  8,  8],\n",
      "        [ 9,  9,  9,  9,  9,  9,  9,  9,  9,  9,  9,  9,  9,  9,  9,  9],\n",
      "        [10, 10, 10, 10, 10, 10, 10, 10, 10, 10, 10, 10, 10, 10, 10, 10],\n",
      "        [11, 11, 11, 11, 11, 11, 11, 11, 11, 11, 11, 11, 11, 11, 11, 11],\n",
      "        [12, 12, 12, 12, 12, 12, 12, 12, 12, 12, 12, 12, 12, 12, 12, 12],\n",
      "        [13, 13, 13, 13, 13, 13, 13, 13, 13, 13, 13, 13, 13, 13, 13, 13],\n",
      "        [14, 14, 14, 14, 14, 14, 14, 14, 14, 14, 14, 14, 14, 14, 14, 14],\n",
      "        [15, 15, 15, 15, 15, 15, 15, 15, 15, 15, 15, 15, 15, 15, 15, 15],\n",
      "        [16, 16, 16, 16, 16, 16, 16, 16, 16, 16, 16, 16, 16, 16, 16, 16],\n",
      "        [17, 17, 17, 17, 17, 17, 17, 17, 17, 17, 17, 17, 17, 17, 17, 17],\n",
      "        [18, 18, 18, 18, 18, 18, 18, 18, 18, 18, 18, 18, 18, 18, 18, 18],\n",
      "        [19, 19, 19, 19, 19, 19, 19, 19, 19, 19, 19, 19, 19, 19, 19, 19],\n",
      "        [20, 20, 20, 20, 20, 20, 20, 20, 20, 20, 20, 20, 20, 20, 20, 20],\n",
      "        [21, 21, 21, 21, 21, 21, 21, 21, 21, 21, 21, 21, 21, 21, 21, 21],\n",
      "        [22, 22, 22, 22, 22, 22, 22, 22, 22, 22, 22, 22, 22, 22, 22, 22],\n",
      "        [23, 23, 23, 23, 23, 23, 23, 23, 23, 23, 23, 23, 23, 23, 23, 23],\n",
      "        [24, 24, 24, 24, 24, 24, 24, 24, 24, 24, 24, 24, 24, 24, 24, 24]],\n",
      "       device='cuda:0') torch.Size([25, 16])\n"
     ]
    }
   ],
   "source": [
    "batch_size = src.size(1) # size of the current batch\n",
    "src_position = (torch.arange(0, src_seq_len).unsqueeze(1).expand(src_seq_len, batch_size).to(device))\n",
    "print('positional input for a source batch = ', src_position, src_position.shape)"
   ]
  },
  {
   "cell_type": "markdown",
   "metadata": {
    "id": "bn33_TdQeW1d"
   },
   "source": [
    "Similarly for the target batch,"
   ]
  },
  {
   "cell_type": "code",
   "execution_count": 35,
   "metadata": {
    "colab": {
     "base_uri": "https://localhost:8080/"
    },
    "id": "0BHjO8lfebzF",
    "outputId": "33e37b40-a0c2-4304-ad73-e4f0bda7c3a5"
   },
   "outputs": [
    {
     "name": "stdout",
     "output_type": "stream",
     "text": [
      "positional input for a target batch =  tensor([[ 0,  0,  0,  0,  0,  0,  0,  0,  0,  0,  0,  0,  0,  0,  0,  0],\n",
      "        [ 1,  1,  1,  1,  1,  1,  1,  1,  1,  1,  1,  1,  1,  1,  1,  1],\n",
      "        [ 2,  2,  2,  2,  2,  2,  2,  2,  2,  2,  2,  2,  2,  2,  2,  2],\n",
      "        [ 3,  3,  3,  3,  3,  3,  3,  3,  3,  3,  3,  3,  3,  3,  3,  3],\n",
      "        [ 4,  4,  4,  4,  4,  4,  4,  4,  4,  4,  4,  4,  4,  4,  4,  4],\n",
      "        [ 5,  5,  5,  5,  5,  5,  5,  5,  5,  5,  5,  5,  5,  5,  5,  5],\n",
      "        [ 6,  6,  6,  6,  6,  6,  6,  6,  6,  6,  6,  6,  6,  6,  6,  6],\n",
      "        [ 7,  7,  7,  7,  7,  7,  7,  7,  7,  7,  7,  7,  7,  7,  7,  7],\n",
      "        [ 8,  8,  8,  8,  8,  8,  8,  8,  8,  8,  8,  8,  8,  8,  8,  8],\n",
      "        [ 9,  9,  9,  9,  9,  9,  9,  9,  9,  9,  9,  9,  9,  9,  9,  9],\n",
      "        [10, 10, 10, 10, 10, 10, 10, 10, 10, 10, 10, 10, 10, 10, 10, 10],\n",
      "        [11, 11, 11, 11, 11, 11, 11, 11, 11, 11, 11, 11, 11, 11, 11, 11],\n",
      "        [12, 12, 12, 12, 12, 12, 12, 12, 12, 12, 12, 12, 12, 12, 12, 12],\n",
      "        [13, 13, 13, 13, 13, 13, 13, 13, 13, 13, 13, 13, 13, 13, 13, 13],\n",
      "        [14, 14, 14, 14, 14, 14, 14, 14, 14, 14, 14, 14, 14, 14, 14, 14],\n",
      "        [15, 15, 15, 15, 15, 15, 15, 15, 15, 15, 15, 15, 15, 15, 15, 15],\n",
      "        [16, 16, 16, 16, 16, 16, 16, 16, 16, 16, 16, 16, 16, 16, 16, 16],\n",
      "        [17, 17, 17, 17, 17, 17, 17, 17, 17, 17, 17, 17, 17, 17, 17, 17],\n",
      "        [18, 18, 18, 18, 18, 18, 18, 18, 18, 18, 18, 18, 18, 18, 18, 18],\n",
      "        [19, 19, 19, 19, 19, 19, 19, 19, 19, 19, 19, 19, 19, 19, 19, 19],\n",
      "        [20, 20, 20, 20, 20, 20, 20, 20, 20, 20, 20, 20, 20, 20, 20, 20],\n",
      "        [21, 21, 21, 21, 21, 21, 21, 21, 21, 21, 21, 21, 21, 21, 21, 21],\n",
      "        [22, 22, 22, 22, 22, 22, 22, 22, 22, 22, 22, 22, 22, 22, 22, 22]],\n",
      "       device='cuda:0') torch.Size([23, 16])\n"
     ]
    }
   ],
   "source": [
    "batch_size = trg.size(1) # size of the current batch\n",
    "targ_position = (torch.arange(0, trg_seq_len).unsqueeze(1).expand(trg_seq_len, batch_size).to(device))\n",
    "print('positional input for a target batch = ', targ_position, targ_position.shape)"
   ]
  },
  {
   "cell_type": "markdown",
   "metadata": {
    "id": "l638opIefT9_"
   },
   "source": [
    "The positional embeddings can be obtained by passing the position input to position embeddings layer of encoder and decoder:"
   ]
  },
  {
   "cell_type": "code",
   "execution_count": 36,
   "metadata": {
    "colab": {
     "base_uri": "https://localhost:8080/"
    },
    "id": "6U-EFvc9f4pt",
    "outputId": "29e7c008-a087-4cda-bdd6-fa70580cfd13"
   },
   "outputs": [
    {
     "name": "stdout",
     "output_type": "stream",
     "text": [
      "positional input for source =  torch.Size([25, 16])\n",
      "positional embeddings for source =  torch.Size([25, 16, 512])\n",
      "positional input for target =  torch.Size([23, 16])\n",
      "positional embeddings for target =  torch.Size([23, 16, 512])\n"
     ]
    }
   ],
   "source": [
    "src_pos_embeddings = position_embedding_encoder(src_position)\n",
    "print('positional input for source = ', src_position.shape)\n",
    "print('positional embeddings for source = ', src_pos_embeddings.shape)\n",
    "\n",
    "targ_pos_embeddings = position_embedding_encoder(targ_position)\n",
    "print('positional input for target = ', targ_position.shape)\n",
    "print('positional embeddings for target = ', targ_pos_embeddings.shape)"
   ]
  },
  {
   "cell_type": "markdown",
   "metadata": {
    "id": "183LmdZNever"
   },
   "source": [
    "Having built word embedding and position embedding, we can now add both the embeddings to create the input embedding to Transformer module"
   ]
  },
  {
   "cell_type": "code",
   "execution_count": 37,
   "metadata": {
    "colab": {
     "base_uri": "https://localhost:8080/"
    },
    "id": "9sYHC_Ype4Uy",
    "outputId": "154c0c92-f09f-4af2-ff4b-6b724da5862f"
   },
   "outputs": [
    {
     "name": "stdout",
     "output_type": "stream",
     "text": [
      "input embedding for source =  torch.Size([25, 16, 512])\n",
      "input embedding for target =  torch.Size([23, 16, 512])\n"
     ]
    }
   ],
   "source": [
    "src_input_embedding = src_token_embeddings + src_pos_embeddings\n",
    "print('input embedding for source = ', src_input_embedding.shape)\n",
    "targ_input_embedding = targ_token_embeddings + targ_pos_embeddings\n",
    "print('input embedding for target = ', targ_input_embedding.shape)"
   ]
  },
  {
   "cell_type": "markdown",
   "metadata": {
    "id": "gGWNRwvKh5kx"
   },
   "source": [
    "We can optionally add dropout to both the input embeddings before feeding as an input to Transformer.\n",
    "\n",
    "Similar to our last week's tutorial, we need to create a binary mask for the source tokens that marks the pad tokens."
   ]
  },
  {
   "cell_type": "code",
   "execution_count": 38,
   "metadata": {
    "colab": {
     "base_uri": "https://localhost:8080/"
    },
    "id": "zVpy0OHPihch",
    "outputId": "992154be-b45f-4d42-b963-0d7d3aef5a71"
   },
   "outputs": [
    {
     "name": "stdout",
     "output_type": "stream",
     "text": [
      "tensor([[False, False, False, False, False, False, False, False, False,  True,\n",
      "          True,  True,  True,  True,  True,  True,  True,  True,  True,  True,\n",
      "          True,  True,  True,  True,  True],\n",
      "        [False, False, False, False, False, False, False, False, False, False,\n",
      "         False, False, False, False,  True,  True,  True,  True,  True,  True,\n",
      "          True,  True,  True,  True,  True],\n",
      "        [False, False, False, False, False, False, False, False, False, False,\n",
      "         False, False, False, False, False, False, False, False, False, False,\n",
      "         False, False, False, False,  True],\n",
      "        [False, False, False, False, False, False, False, False, False, False,\n",
      "         False, False, False, False,  True,  True,  True,  True,  True,  True,\n",
      "          True,  True,  True,  True,  True],\n",
      "        [False, False, False, False, False, False, False, False, False, False,\n",
      "         False, False, False, False, False, False, False, False, False, False,\n",
      "          True,  True,  True,  True,  True],\n",
      "        [False, False, False, False, False, False, False, False, False, False,\n",
      "         False, False, False, False, False, False, False, False, False, False,\n",
      "         False, False, False, False, False],\n",
      "        [False, False, False, False, False, False, False, False, False, False,\n",
      "         False, False, False, False, False, False, False, False,  True,  True,\n",
      "          True,  True,  True,  True,  True],\n",
      "        [False, False, False, False, False, False, False, False, False, False,\n",
      "         False, False,  True,  True,  True,  True,  True,  True,  True,  True,\n",
      "          True,  True,  True,  True,  True],\n",
      "        [False, False, False, False, False, False, False, False, False, False,\n",
      "         False,  True,  True,  True,  True,  True,  True,  True,  True,  True,\n",
      "          True,  True,  True,  True,  True],\n",
      "        [False, False, False, False, False, False, False, False, False, False,\n",
      "         False, False,  True,  True,  True,  True,  True,  True,  True,  True,\n",
      "          True,  True,  True,  True,  True],\n",
      "        [False, False, False, False, False, False, False,  True,  True,  True,\n",
      "          True,  True,  True,  True,  True,  True,  True,  True,  True,  True,\n",
      "          True,  True,  True,  True,  True],\n",
      "        [False, False, False, False, False, False, False, False, False, False,\n",
      "         False, False, False, False, False, False, False, False, False, False,\n",
      "         False, False, False,  True,  True],\n",
      "        [False, False, False, False, False, False, False, False, False, False,\n",
      "          True,  True,  True,  True,  True,  True,  True,  True,  True,  True,\n",
      "          True,  True,  True,  True,  True],\n",
      "        [False, False, False, False, False, False, False, False, False, False,\n",
      "         False, False, False,  True,  True,  True,  True,  True,  True,  True,\n",
      "          True,  True,  True,  True,  True],\n",
      "        [False, False, False, False, False, False, False, False, False, False,\n",
      "         False, False, False, False, False, False, False, False,  True,  True,\n",
      "          True,  True,  True,  True,  True],\n",
      "        [False, False, False, False, False, False, False, False, False, False,\n",
      "         False, False,  True,  True,  True,  True,  True,  True,  True,  True,\n",
      "          True,  True,  True,  True,  True]], device='cuda:0')\n"
     ]
    }
   ],
   "source": [
    "# create the source (pad) mask\n",
    "mask_src = (src == SRC.vocab.stoi[SRC.pad_token]).transpose(0, 1).to(device) # batch size x src max. seq length\n",
    "print(mask_src)"
   ]
  },
  {
   "cell_type": "markdown",
   "metadata": {
    "id": "nmjynIoDj0nG"
   },
   "source": [
    "We can now create an instance from `nn.Transformer` module:"
   ]
  },
  {
   "cell_type": "code",
   "execution_count": 39,
   "metadata": {
    "colab": {
     "base_uri": "https://localhost:8080/"
    },
    "id": "LhGWDYg2kMnu",
    "outputId": "b55dfd31-2737-4683-d077-1879102fc47d"
   },
   "outputs": [
    {
     "name": "stdout",
     "output_type": "stream",
     "text": [
      "Transformer(\n",
      "  (encoder): TransformerEncoder(\n",
      "    (layers): ModuleList(\n",
      "      (0): TransformerEncoderLayer(\n",
      "        (self_attn): MultiheadAttention(\n",
      "          (out_proj): _LinearWithBias(in_features=512, out_features=512, bias=True)\n",
      "        )\n",
      "        (linear1): Linear(in_features=512, out_features=1024, bias=True)\n",
      "        (dropout): Dropout(p=0.1, inplace=False)\n",
      "        (linear2): Linear(in_features=1024, out_features=512, bias=True)\n",
      "        (norm1): LayerNorm((512,), eps=1e-05, elementwise_affine=True)\n",
      "        (norm2): LayerNorm((512,), eps=1e-05, elementwise_affine=True)\n",
      "        (dropout1): Dropout(p=0.1, inplace=False)\n",
      "        (dropout2): Dropout(p=0.1, inplace=False)\n",
      "      )\n",
      "      (1): TransformerEncoderLayer(\n",
      "        (self_attn): MultiheadAttention(\n",
      "          (out_proj): _LinearWithBias(in_features=512, out_features=512, bias=True)\n",
      "        )\n",
      "        (linear1): Linear(in_features=512, out_features=1024, bias=True)\n",
      "        (dropout): Dropout(p=0.1, inplace=False)\n",
      "        (linear2): Linear(in_features=1024, out_features=512, bias=True)\n",
      "        (norm1): LayerNorm((512,), eps=1e-05, elementwise_affine=True)\n",
      "        (norm2): LayerNorm((512,), eps=1e-05, elementwise_affine=True)\n",
      "        (dropout1): Dropout(p=0.1, inplace=False)\n",
      "        (dropout2): Dropout(p=0.1, inplace=False)\n",
      "      )\n",
      "    )\n",
      "    (norm): LayerNorm((512,), eps=1e-05, elementwise_affine=True)\n",
      "  )\n",
      "  (decoder): TransformerDecoder(\n",
      "    (layers): ModuleList(\n",
      "      (0): TransformerDecoderLayer(\n",
      "        (self_attn): MultiheadAttention(\n",
      "          (out_proj): _LinearWithBias(in_features=512, out_features=512, bias=True)\n",
      "        )\n",
      "        (multihead_attn): MultiheadAttention(\n",
      "          (out_proj): _LinearWithBias(in_features=512, out_features=512, bias=True)\n",
      "        )\n",
      "        (linear1): Linear(in_features=512, out_features=1024, bias=True)\n",
      "        (dropout): Dropout(p=0.1, inplace=False)\n",
      "        (linear2): Linear(in_features=1024, out_features=512, bias=True)\n",
      "        (norm1): LayerNorm((512,), eps=1e-05, elementwise_affine=True)\n",
      "        (norm2): LayerNorm((512,), eps=1e-05, elementwise_affine=True)\n",
      "        (norm3): LayerNorm((512,), eps=1e-05, elementwise_affine=True)\n",
      "        (dropout1): Dropout(p=0.1, inplace=False)\n",
      "        (dropout2): Dropout(p=0.1, inplace=False)\n",
      "        (dropout3): Dropout(p=0.1, inplace=False)\n",
      "      )\n",
      "      (1): TransformerDecoderLayer(\n",
      "        (self_attn): MultiheadAttention(\n",
      "          (out_proj): _LinearWithBias(in_features=512, out_features=512, bias=True)\n",
      "        )\n",
      "        (multihead_attn): MultiheadAttention(\n",
      "          (out_proj): _LinearWithBias(in_features=512, out_features=512, bias=True)\n",
      "        )\n",
      "        (linear1): Linear(in_features=512, out_features=1024, bias=True)\n",
      "        (dropout): Dropout(p=0.1, inplace=False)\n",
      "        (linear2): Linear(in_features=1024, out_features=512, bias=True)\n",
      "        (norm1): LayerNorm((512,), eps=1e-05, elementwise_affine=True)\n",
      "        (norm2): LayerNorm((512,), eps=1e-05, elementwise_affine=True)\n",
      "        (norm3): LayerNorm((512,), eps=1e-05, elementwise_affine=True)\n",
      "        (dropout1): Dropout(p=0.1, inplace=False)\n",
      "        (dropout2): Dropout(p=0.1, inplace=False)\n",
      "        (dropout3): Dropout(p=0.1, inplace=False)\n",
      "      )\n",
      "    )\n",
      "    (norm): LayerNorm((512,), eps=1e-05, elementwise_affine=True)\n",
      "  )\n",
      ")\n"
     ]
    }
   ],
   "source": [
    "# check doc for details about the input arguments\n",
    "# https://pytorch.org/docs/stable/generated/torch.nn.Transformer.html\n",
    "embed_dim = 512 #  the number of expected features in the encoder/decoder inputs\n",
    "nhead = 8 # the number of heads in the multiheadattention models\n",
    "num_encoder_layers = 2 # the number of sub-encoder-layers in the encoder\n",
    "num_decoder_layers = 2 # the number of sub-decoder-layers in the decoder\n",
    "dim_feedforward = 1024 # the dimension of the feedforward network model\n",
    "dropout = 0.1 # the dropout value (default=0.1)\n",
    "transformer_layer = nn.Transformer(d_model=embed_dim, nhead=nhead, num_encoder_layers=num_encoder_layers, dropout=dropout, num_decoder_layers=num_decoder_layers, dim_feedforward=dim_feedforward).to(device)\n",
    "print(transformer_layer)"
   ]
  },
  {
   "cell_type": "markdown",
   "metadata": {
    "id": "yLW-JdWmjSXe"
   },
   "source": [
    "We have created all the inputs that we need to pass to Transformer module except one: **target mask** that makes the decoder attend to only the past decoder context while predicting the next token."
   ]
  },
  {
   "cell_type": "code",
   "execution_count": 40,
   "metadata": {
    "colab": {
     "base_uri": "https://localhost:8080/"
    },
    "id": "af2LisC3jRuo",
    "outputId": "85203539-8989-4f21-e9f5-de43e56ed63d"
   },
   "outputs": [
    {
     "name": "stdout",
     "output_type": "stream",
     "text": [
      "mask target =  tensor([[0., -inf, -inf, -inf, -inf, -inf, -inf, -inf, -inf, -inf, -inf, -inf, -inf, -inf, -inf, -inf, -inf, -inf, -inf, -inf, -inf, -inf, -inf],\n",
      "        [0., 0., -inf, -inf, -inf, -inf, -inf, -inf, -inf, -inf, -inf, -inf, -inf, -inf, -inf, -inf, -inf, -inf, -inf, -inf, -inf, -inf, -inf],\n",
      "        [0., 0., 0., -inf, -inf, -inf, -inf, -inf, -inf, -inf, -inf, -inf, -inf, -inf, -inf, -inf, -inf, -inf, -inf, -inf, -inf, -inf, -inf],\n",
      "        [0., 0., 0., 0., -inf, -inf, -inf, -inf, -inf, -inf, -inf, -inf, -inf, -inf, -inf, -inf, -inf, -inf, -inf, -inf, -inf, -inf, -inf],\n",
      "        [0., 0., 0., 0., 0., -inf, -inf, -inf, -inf, -inf, -inf, -inf, -inf, -inf, -inf, -inf, -inf, -inf, -inf, -inf, -inf, -inf, -inf],\n",
      "        [0., 0., 0., 0., 0., 0., -inf, -inf, -inf, -inf, -inf, -inf, -inf, -inf, -inf, -inf, -inf, -inf, -inf, -inf, -inf, -inf, -inf],\n",
      "        [0., 0., 0., 0., 0., 0., 0., -inf, -inf, -inf, -inf, -inf, -inf, -inf, -inf, -inf, -inf, -inf, -inf, -inf, -inf, -inf, -inf],\n",
      "        [0., 0., 0., 0., 0., 0., 0., 0., -inf, -inf, -inf, -inf, -inf, -inf, -inf, -inf, -inf, -inf, -inf, -inf, -inf, -inf, -inf],\n",
      "        [0., 0., 0., 0., 0., 0., 0., 0., 0., -inf, -inf, -inf, -inf, -inf, -inf, -inf, -inf, -inf, -inf, -inf, -inf, -inf, -inf],\n",
      "        [0., 0., 0., 0., 0., 0., 0., 0., 0., 0., -inf, -inf, -inf, -inf, -inf, -inf, -inf, -inf, -inf, -inf, -inf, -inf, -inf],\n",
      "        [0., 0., 0., 0., 0., 0., 0., 0., 0., 0., 0., -inf, -inf, -inf, -inf, -inf, -inf, -inf, -inf, -inf, -inf, -inf, -inf],\n",
      "        [0., 0., 0., 0., 0., 0., 0., 0., 0., 0., 0., 0., -inf, -inf, -inf, -inf, -inf, -inf, -inf, -inf, -inf, -inf, -inf],\n",
      "        [0., 0., 0., 0., 0., 0., 0., 0., 0., 0., 0., 0., 0., -inf, -inf, -inf, -inf, -inf, -inf, -inf, -inf, -inf, -inf],\n",
      "        [0., 0., 0., 0., 0., 0., 0., 0., 0., 0., 0., 0., 0., 0., -inf, -inf, -inf, -inf, -inf, -inf, -inf, -inf, -inf],\n",
      "        [0., 0., 0., 0., 0., 0., 0., 0., 0., 0., 0., 0., 0., 0., 0., -inf, -inf, -inf, -inf, -inf, -inf, -inf, -inf],\n",
      "        [0., 0., 0., 0., 0., 0., 0., 0., 0., 0., 0., 0., 0., 0., 0., 0., -inf, -inf, -inf, -inf, -inf, -inf, -inf],\n",
      "        [0., 0., 0., 0., 0., 0., 0., 0., 0., 0., 0., 0., 0., 0., 0., 0., 0., -inf, -inf, -inf, -inf, -inf, -inf],\n",
      "        [0., 0., 0., 0., 0., 0., 0., 0., 0., 0., 0., 0., 0., 0., 0., 0., 0., 0., -inf, -inf, -inf, -inf, -inf],\n",
      "        [0., 0., 0., 0., 0., 0., 0., 0., 0., 0., 0., 0., 0., 0., 0., 0., 0., 0., 0., -inf, -inf, -inf, -inf],\n",
      "        [0., 0., 0., 0., 0., 0., 0., 0., 0., 0., 0., 0., 0., 0., 0., 0., 0., 0., 0., 0., -inf, -inf, -inf],\n",
      "        [0., 0., 0., 0., 0., 0., 0., 0., 0., 0., 0., 0., 0., 0., 0., 0., 0., 0., 0., 0., 0., -inf, -inf],\n",
      "        [0., 0., 0., 0., 0., 0., 0., 0., 0., 0., 0., 0., 0., 0., 0., 0., 0., 0., 0., 0., 0., 0., -inf],\n",
      "        [0., 0., 0., 0., 0., 0., 0., 0., 0., 0., 0., 0., 0., 0., 0., 0., 0., 0., 0., 0., 0., 0., 0.]],\n",
      "       device='cuda:0') torch.Size([23, 23])\n"
     ]
    }
   ],
   "source": [
    "# create the target (self-attention) mask \n",
    "targ_seq_len = trg.size(0)\n",
    "mask_targ = transformer_layer.generate_square_subsequent_mask(targ_seq_len).to(device)\n",
    "print(\"mask target = \", mask_targ, mask_targ.shape)  # targ. seq len x targ. seq len"
   ]
  },
  {
   "cell_type": "markdown",
   "metadata": {
    "id": "nqZzGkufqf9q"
   },
   "source": [
    "Let's now pass all the tensor we've created to transformer layer:"
   ]
  },
  {
   "cell_type": "code",
   "execution_count": 41,
   "metadata": {
    "colab": {
     "base_uri": "https://localhost:8080/"
    },
    "id": "38ivfxVuqjlX",
    "outputId": "528ccb38-b87d-4e94-de26-857f991035e5"
   },
   "outputs": [
    {
     "name": "stdout",
     "output_type": "stream",
     "text": [
      "shape of src_input_embedding =  torch.Size([25, 16, 512])\n",
      "shape of targ_input_embedding =  torch.Size([23, 16, 512])\n",
      "shape of mask_src =  torch.Size([16, 25])\n",
      "shape of mask_targ =  torch.Size([23, 23])\n",
      "shape of the transformer output =  torch.Size([23, 16, 512])\n"
     ]
    }
   ],
   "source": [
    "print(\"shape of src_input_embedding = \", src_input_embedding.shape) # src. seq len x batch size x embedding size \n",
    "print(\"shape of targ_input_embedding = \", targ_input_embedding.shape)  # targ. seq len x batch size x embedding size \n",
    "print(\"shape of mask_src = \", mask_src.shape) #  batch size x src. seq len\n",
    "print(\"shape of mask_targ = \", mask_targ.shape) # targ. seq len x targ. seq len\n",
    "output = transformer_layer(src_input_embedding, targ_input_embedding, src_key_padding_mask=mask_src, tgt_mask=mask_targ)\n",
    "print(\"shape of the transformer output = \", output.shape) # targ. seq len x batch size x embedding size "
   ]
  },
  {
   "cell_type": "markdown",
   "metadata": {
    "id": "_qzsqImyYvd4"
   },
   "source": [
    "Having seen an example for using Transformer module, let's implement the Transformer model for machine translation:"
   ]
  },
  {
   "cell_type": "code",
   "execution_count": 42,
   "metadata": {
    "id": "lzTQKNQ9d6gw"
   },
   "outputs": [],
   "source": [
    "class Transformer(nn.Module):\n",
    "    def __init__(self, src_vocab, trg_vocab, embed_dim, nhead, num_encoder_layers, dropout, num_decoder_layers, dim_feedforward, maximum_sentence_len=200):\n",
    "        super(Transformer, self).__init__()\n",
    "\n",
    "        # get initial hyper-parameters\n",
    "        self.src_vocab = src_vocab\n",
    "        self.trg_vocab = trg_vocab\n",
    "        self.embed_dim = embed_dim\n",
    "        self.nhead = nhead\n",
    "        self.num_encoder_layers = num_encoder_layers\n",
    "        self.dropout = dropout\n",
    "        self.num_decoder_layers = num_decoder_layers\n",
    "        self.dim_feedforward = dim_feedforward\n",
    "\n",
    "        # add embedding layers\n",
    "        self.token_embedding_encoder = nn.Embedding(num_embeddings=self.src_vocab, embedding_dim=self.embed_dim)\n",
    "        self.token_embedding_decoder = nn.Embedding(num_embeddings=self.trg_vocab, embedding_dim=self.embed_dim)\n",
    "        self.position_embedding_encoder = nn.Embedding(num_embeddings=maximum_sentence_len, embedding_dim=self.embed_dim)\n",
    "        self.position_embedding_decoder = nn.Embedding(num_embeddings=maximum_sentence_len, embedding_dim=self.embed_dim)\n",
    "\n",
    "        # Encoder-Decoder Transformer\n",
    "        self.transformer = nn.Transformer(d_model=self.embed_dim, nhead=self.nhead, num_encoder_layers=self.num_encoder_layers, dropout=self.dropout, num_decoder_layers=self.num_decoder_layers, dim_feedforward=self.dim_feedforward)\n",
    "\n",
    "        # output layer to predict next token\n",
    "        self.decoder = nn.Linear(self.embed_dim, self.trg_vocab)\n",
    "        self.drop_layer = nn.Dropout()\n",
    "\n",
    "    def forward(self, src, tgr):\n",
    "        # read shapes\n",
    "        # src = src_seq_len x batch_size\n",
    "        # tgr = targ_seq_len x batch_size\n",
    "        src_seq_len, batch_size = src.shape\n",
    "        targ_seq_len, _ = tgr.shape\n",
    "\n",
    "        # create position input for encoder\n",
    "        src_position = (torch.arange(0, src_seq_len).unsqueeze(1).expand(src_seq_len, batch_size).to(device))\n",
    "        # src_position = src_seq_len x batch_size\n",
    "\n",
    "        # create position input for decoder\n",
    "        targ_position = (torch.arange(0, targ_seq_len).unsqueeze(1).expand(targ_seq_len, batch_size).to(device))\n",
    "        # src_position = targ_seq_len x batch_size\n",
    "\n",
    "        # input embedding by merging token embedding with position embedding\n",
    "        embed_src = self.drop_layer((self.token_embedding_encoder(src) + self.position_embedding_encoder(src_position)))\n",
    "        embed_tgr = self.drop_layer((self.token_embedding_decoder(tgr) + self.position_embedding_decoder(targ_position)))\n",
    "        # embed_src = src_seq_len x batch_size x d_model\n",
    "        # embed_src = targ_seq_len x batch_size x d_model\n",
    "\n",
    "        # create mask for source\n",
    "        mask_src = (src == SRC.vocab.stoi[SRC.pad_token]).transpose(0, 1).to(device)\n",
    "        # mask_src = batch_size x src_seq_len\n",
    "\n",
    "        # create mask for target\n",
    "        mask_targ = self.transformer.generate_square_subsequent_mask(targ_seq_len).to(device)\n",
    "        # mask_targ = targ_seq_len x targ_seq_len\n",
    "\n",
    "        # feed via transformer\n",
    "        output = self.transformer(embed_src, embed_tgr, src_key_padding_mask=mask_src, tgt_mask=mask_targ)\n",
    "        # output = targ_seq_len x batch_size x d_model\n",
    "\n",
    "        # transform the output to match no of. tokens in target vocab \n",
    "        output = self.decoder(output) \n",
    "        # output = targ_seq_len x batch_size x targ_vocab_size\n",
    "\n",
    "        return output"
   ]
  },
  {
   "cell_type": "markdown",
   "metadata": {
    "id": "IoS8rucEedqT"
   },
   "source": [
    "Let's set the hyperparameters and create a model instance:"
   ]
  },
  {
   "cell_type": "code",
   "execution_count": 43,
   "metadata": {
    "id": "7WodGURxfLeW"
   },
   "outputs": [],
   "source": [
    "# hyperparameters\n",
    "src_vocab = len(SRC.vocab)\n",
    "trg_vocab = len(TRG.vocab)\n",
    "embed_dim = 512\n",
    "nhead = 4\n",
    "num_encoder_layers = 2\n",
    "dropout = 0.1 \n",
    "num_decoder_layers = 2\n",
    "dim_feedforward = 512\n",
    "learning_rate = 1e-4\n",
    "\n",
    "# model instance\n",
    "model = Transformer(src_vocab, trg_vocab, embed_dim, nhead, num_encoder_layers, dropout, num_decoder_layers, dim_feedforward).to(device)\n"
   ]
  },
  {
   "cell_type": "markdown",
   "metadata": {
    "id": "OtQFCFbOfSi6"
   },
   "source": [
    "Let's define the train logic (for a single epoch)."
   ]
  },
  {
   "cell_type": "code",
   "execution_count": 44,
   "metadata": {
    "id": "PViJMT42fd13"
   },
   "outputs": [],
   "source": [
    "def train(model, iterator, optimizer, criterion):\n",
    "    manual_seed = 77\n",
    "    torch.manual_seed(manual_seed)\n",
    "    if n_gpu > 0:\n",
    "        torch.cuda.manual_seed(manual_seed)\n",
    "    \n",
    "    model.train()\n",
    "    \n",
    "    epoch_loss = 0\n",
    "    \n",
    "    for i, batch in enumerate(iterator):\n",
    "        \n",
    "        src = batch.SRC.to(device)\n",
    "        trg = batch.TRG.to(device)\n",
    "        # src = src seq len x batch size\n",
    "        # trg = targ seq len x batch size\n",
    "\n",
    "        optimizer.zero_grad()\n",
    "        \n",
    "        output = model(src, trg[:-1, :]) # for target, provide targ seq len-1 tokens for each sentence\n",
    "        \n",
    "        #output = [targ seq len-1, batch size, output dim]\n",
    "\n",
    "        output = output.reshape(-1, output.shape[2])\n",
    "        target = trg[1:].reshape(-1)\n",
    "\n",
    "        # loss function works only 2d logits, 1d targets\n",
    "        # so flatten the trg, output tensors. Ignore the <sos> token\n",
    "        # target shape shape should be [(targ seq len - 1) * batch_size]\n",
    "        # output shape should be [(targ seq len - 1) * batch_size, output_dim]\n",
    "        loss = criterion(output, target)\n",
    "        \n",
    "        loss.backward()\n",
    "\n",
    "        # Clip to avoid exploding gradient issues, makes sure grads are\n",
    "        # within a healthy range\n",
    "        torch.nn.utils.clip_grad_norm_(model.parameters(), max_norm=1)\n",
    "        \n",
    "        optimizer.step()\n",
    "\n",
    "        epoch_loss += loss.item()\n",
    "\n",
    "    return epoch_loss / len(iterator)\n"
   ]
  },
  {
   "cell_type": "markdown",
   "metadata": {
    "id": "ru4U9cK4fo6B"
   },
   "source": [
    "Let's define the inference logic for evaluating the quality of the model based on BLEU score"
   ]
  },
  {
   "cell_type": "code",
   "execution_count": 48,
   "metadata": {
    "id": "BMTmcVhefrWH"
   },
   "outputs": [],
   "source": [
    "def inference(model, file_name, src_vocab, trg_vocab, attention = False, max_trg_len = 64):\n",
    "    '''\n",
    "    Function for translation inference\n",
    "\n",
    "    Input: \n",
    "    model: translation model;\n",
    "    file_name: the directoy of test file that the first column is target reference, and the second column is source language;\n",
    "    trg_vocab: Target torchtext Field\n",
    "    attention: the model returns attention weights or not.\n",
    "    max_trg_len: the maximal length of translation text (optinal), default = 64\n",
    "\n",
    "    Output:\n",
    "    Corpus BLEU score.\n",
    "    '''\n",
    "    from nltk.translate.bleu_score import corpus_bleu\n",
    "    from nltk.translate.bleu_score import sentence_bleu\n",
    "    from torchtext.data import TabularDataset\n",
    "    from torchtext.data import Iterator\n",
    "\n",
    "    # convert index to text string\n",
    "    def convert_itos(convert_vocab, token_ids):\n",
    "        list_string = []\n",
    "        for i in token_ids:\n",
    "            if i == convert_vocab.vocab.stoi['<eos>']:\n",
    "                break\n",
    "            else:\n",
    "                token = convert_vocab.vocab.itos[i]\n",
    "                list_string.append(token)\n",
    "        return list_string\n",
    "\n",
    "    test = TabularDataset(\n",
    "      path=file_name, # the root directory where the data lies\n",
    "      format='tsv',\n",
    "      skip_header=True, # if your tsv file has a header, make sure to pass this to ensure it doesn't get proceesed as data!\n",
    "      fields=[('TRG', trg_vocab), ('SRC', src_vocab)])\n",
    "\n",
    "    test_iter = Iterator(\n",
    "      dataset = test, # we pass in the datasets we want the iterator to draw data from\n",
    "      sort = False, \n",
    "      batch_size=1,\n",
    "      sort_key=None,\n",
    "      shuffle=False,\n",
    "      sort_within_batch=False,\n",
    "      device = device,\n",
    "      train=False\n",
    "    )\n",
    "  \n",
    "    model.eval()\n",
    "    all_gold_trg_tokids = []\n",
    "    all_translated_trg_tokids = []\n",
    "\n",
    "    TRG_PAD_IDX = trg_vocab.vocab.stoi[trg_vocab.pad_token]\n",
    "\n",
    "    with torch.no_grad():\n",
    "    \n",
    "        for i, batch in enumerate(test_iter):\n",
    "\n",
    "            src = batch.SRC.to(device)\n",
    "            #src = [src len, batch size]\n",
    "\n",
    "            trg = batch.TRG.to(device)\n",
    "\n",
    "            #src = GOLD_SRC.to(device)\n",
    "            #trg = GOLD_TRG.to(device)\n",
    "            #trg = [trg len, batch size]\n",
    "\n",
    "            batch_size = trg.shape[1]\n",
    "\n",
    "            outputs = [trg_vocab.vocab.stoi[\"<sos>\"]]\n",
    "            for i in range(max_trg_len):\n",
    "                trg_tensor = torch.LongTensor(outputs).unsqueeze(1).to(device)\n",
    "                \n",
    "                output = model(src, trg_tensor)\n",
    "\n",
    "                topv, topi = output[-1,0,:].topk(1)\n",
    "                cur_decoded_token = topi.squeeze().detach()  # detach from history as input\n",
    "                outputs.append(cur_decoded_token.item())\n",
    "\n",
    "                if cur_decoded_token.item() == trg_vocab.vocab.stoi[\"<eos>\"]:\n",
    "                    break\n",
    "            all_translated_trg_tokids.append(outputs[1:-1])\n",
    "            all_gold_trg_tokids.append([ trg[idx, 0].item() for idx in range(1, trg.size(0)-1)])\n",
    "    \n",
    "    # convert token ids to token strs\n",
    "    all_gold_text = []\n",
    "    all_translated_text = []\n",
    "    for i in range(len(all_gold_trg_tokids)): \n",
    "        all_gold_text.append([[trg_vocab.vocab.itos[idx] for idx in all_gold_trg_tokids[i]]])\n",
    "        all_translated_text.append([trg_vocab.vocab.itos[idx] for idx in all_translated_trg_tokids[i]])\n",
    "        \n",
    "    corpus_bleu_score = corpus_bleu(all_gold_text, all_translated_text)  \n",
    "    return corpus_bleu_score"
   ]
  },
  {
   "cell_type": "markdown",
   "metadata": {
    "id": "JKl8mukAgC2g"
   },
   "source": [
    "Let's define the evaluation logic to compute the quality of the model based on the loss."
   ]
  },
  {
   "cell_type": "code",
   "execution_count": 53,
   "metadata": {
    "id": "XXny41OTgSvR"
   },
   "outputs": [],
   "source": [
    "def evaluate(model, iterator, criterion):\n",
    "    \n",
    "    model.eval()\n",
    "    \n",
    "    epoch_loss = 0\n",
    "    \n",
    "    with torch.no_grad():\n",
    "    \n",
    "        for i, batch in enumerate(iterator):\n",
    "\n",
    "            src = batch.SRC.to(device)\n",
    "            trg = batch.TRG.to(device)\n",
    "\n",
    "            output = model(src, trg[:-1, :]) #turn off teacher forcing\n",
    "\n",
    "            #trg = [trg len, batch size]\n",
    "            #output = [trg len, batch size, output dim]\n",
    "\n",
    "            output_dim = output.shape[-1]\n",
    "            \n",
    "            #output = output[1:].view(-1, output_dim)\n",
    "            #trg = trg[1:].view(-1)\n",
    "\n",
    "            output = output.reshape(-1, output.shape[2])\n",
    "            target = trg[1:].reshape(-1)\n",
    "\n",
    "            #trg = [(trg len - 1) * batch size]\n",
    "            #output = [(trg len - 1) * batch size, output dim]\n",
    "\n",
    "            loss = criterion(output, target)\n",
    "\n",
    "            epoch_loss += loss.item()\n",
    "            #break\n",
    "        \n",
    "    bleu = inference(model, \"./drive/MyDrive/Colab_Notebooks/eng-fre/val_eng_fre.tsv\", SRC, TRG, False, 64)\n",
    "    return epoch_loss / len(iterator) , bleu"
   ]
  },
  {
   "cell_type": "markdown",
   "metadata": {
    "id": "I3dXPDyxglqh"
   },
   "source": [
    "Let's perform the full-training of the Transformer model:"
   ]
  },
  {
   "cell_type": "code",
   "execution_count": null,
   "metadata": {
    "id": "PSpD9QFZgp4Q"
   },
   "outputs": [],
   "source": [
    "def epoch_time(start_time, end_time):\n",
    "    elapsed_time = end_time - start_time\n",
    "    elapsed_mins = int(elapsed_time / 60)\n",
    "    elapsed_secs = int(elapsed_time - (elapsed_mins * 60))\n",
    "    return elapsed_mins, elapsed_secs\n",
    "\n",
    "# set the optimizer\n",
    "optimizer = optim.Adam(model.parameters(), lr=learning_rate)\n",
    "\n",
    "# create the loss function\n",
    "TRG_PAD_IDX = TRG.vocab.stoi[TRG.pad_token]\n",
    "print('<pad> token index: ', TRG_PAD_IDX)\n",
    "## we will ignore the pad token in true target set\n",
    "criterion = nn.CrossEntropyLoss(ignore_index = TRG_PAD_IDX)\n",
    "\n",
    "# numer of epochs (hyperparameter)\n",
    "N_EPOCHS = 15\n",
    "\n",
    "# initial best valid loss\n",
    "best_valid_loss = float('inf')\n",
    "\n",
    "# kick-start training\n",
    "print('Training started...')\n",
    "for epoch in range(N_EPOCHS):\n",
    "    \n",
    "    start_time = time.time()\n",
    "    \n",
    "    train_loss = train(model, train_iter, optimizer, criterion)\n",
    "    valid_loss, bleu = evaluate(model, val_iter, criterion)\n",
    "    \n",
    "    end_time = time.time()\n",
    "    \n",
    "    epoch_mins, epoch_secs = epoch_time(start_time, end_time)\n",
    "    \n",
    "    # Create checkpoint at end of each epoch\n",
    "    state_dict_model = model.state_dict() \n",
    "    state = {\n",
    "        'epoch': epoch,\n",
    "        'state_dict': state_dict_model,\n",
    "        'optimizer': optimizer.state_dict()\n",
    "        }\n",
    "\n",
    "    torch.save(state, \"./drive/MyDrive/Colab_Notebooks/ckpt_attn/seq2seq_\"+str(epoch+1)+\".pt\")\n",
    "\n",
    "    print(f'Epoch: {epoch+1:02} | Time: {epoch_mins}m {epoch_secs}s')\n",
    "    print(f'\\t Train Loss: {train_loss:.3f} | Train PPL: {math.exp(train_loss):7.3f}')\n",
    "    print(f'\\t Val. Loss: {valid_loss:.3f} |  Val. PPL: {math.exp(valid_loss):7.3f}')\n",
    "    print(f'\\t Val. BLEU: {bleu:7.3f}')\n",
    "\n",
    "# Evaluate the model after the last epoch on the test set\n",
    "test_loss, bleu_test = evaluate(model, test_iter, criterion)\n",
    "print(f'\\t Test BLEU: {bleu_test:7.3f}')"
   ]
  },
  {
   "cell_type": "markdown",
   "metadata": {
    "id": "mkhxPPcxhaMO"
   },
   "source": [
    "## Reference:\n",
    "\n",
    "https://nlp.seas.harvard.edu/2018/04/03/attention.html#position-wise-feed-forward-networks\n",
    "\n",
    "https://pytorch.org/docs/master/nn.html#transformerencoderlayer\n",
    "\n",
    "https://pytorch.org/docs/master/_modules/torch/nn/modules/transformer.html#Transformer"
   ]
  }
 ],
 "metadata": {
  "accelerator": "GPU",
  "colab": {
   "provenance": []
  },
  "gpuClass": "standard",
  "kernelspec": {
   "display_name": "Python 3",
   "language": "python",
   "name": "python3"
  },
  "language_info": {
   "codemirror_mode": {
    "name": "ipython",
    "version": 3
   },
   "file_extension": ".py",
   "mimetype": "text/x-python",
   "name": "python",
   "nbconvert_exporter": "python",
   "pygments_lexer": "ipython3",
   "version": "3.7.3"
  }
 },
 "nbformat": 4,
 "nbformat_minor": 1
}
